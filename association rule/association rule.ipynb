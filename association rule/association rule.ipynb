{
 "cells": [
  {
   "cell_type": "markdown",
   "metadata": {},
   "source": [
    "### Business Scenario: Prepare rules for the (groceries.csv) data set."
   ]
  },
  {
   "cell_type": "code",
   "execution_count": 1,
   "metadata": {},
   "outputs": [],
   "source": [
    "#Importing necessary libraris\n",
    "\n",
    "import pandas as pd\n",
    "import numpy as np\n",
    "from mlxtend.frequent_patterns import apriori,association_rules"
   ]
  },
  {
   "cell_type": "code",
   "execution_count": 2,
   "metadata": {},
   "outputs": [],
   "source": [
    "#Declaring empty list\n",
    "\n",
    "groceries = []"
   ]
  },
  {
   "cell_type": "code",
   "execution_count": 3,
   "metadata": {},
   "outputs": [],
   "source": [
    "# As the file is in transaction data, we will be reading data directly \n",
    "\n",
    "with open(\"C:\\\\Users\\\\Raja\\\\Downloads\\\\assignments\\\\association rule\\\\groceries.csv\",\"r\") as f:\n",
    "    groceries = f.read()"
   ]
  },
  {
   "cell_type": "code",
   "execution_count": 4,
   "metadata": {},
   "outputs": [],
   "source": [
    "# splitting the data into separate transactions using separator as \"\\n\"\n",
    "\n",
    "groceries = groceries.split(\"\\n\")\n",
    "groceries_list = []"
   ]
  },
  {
   "cell_type": "code",
   "execution_count": 5,
   "metadata": {},
   "outputs": [],
   "source": [
    "#itteration of elements in groceries list\n",
    "\n",
    "for i in groceries:\n",
    "    groceries_list.append(i.split(\",\"))\n",
    "  \n",
    "all_groceries_list = []"
   ]
  },
  {
   "cell_type": "code",
   "execution_count": 6,
   "metadata": {},
   "outputs": [],
   "source": [
    "#For i in groceries_list:\n",
    "#All_groceries_list = all_groceries_list+i\n",
    "       \n",
    "all_groceries_list = [i for item in groceries_list for i in item]\n",
    "from collections import Counter\n",
    "item_frequencies = Counter(all_groceries_list)\n",
    "item_frequencies = sorted(item_frequencies.items(),key = lambda x:x[1])"
   ]
  },
  {
   "cell_type": "code",
   "execution_count": 7,
   "metadata": {},
   "outputs": [],
   "source": [
    "# Storing frequencies and items in separate variables \n",
    "\n",
    "frequencies = list(reversed([i[1] for i in item_frequencies]))\n",
    "items = list(reversed([i[0] for i in item_frequencies]))"
   ]
  },
  {
   "cell_type": "code",
   "execution_count": 8,
   "metadata": {},
   "outputs": [
    {
     "data": {
      "text/plain": [
       "Text(0, 0.5, 'Count')"
      ]
     },
     "execution_count": 8,
     "metadata": {},
     "output_type": "execute_result"
    }
   ],
   "source": [
    "# barplot of top 10 \n",
    "\n",
    "import matplotlib.pyplot as plt\n",
    "plt.bar(height = frequencies[:11],x = list(range(0,11)),color='rgbkymc');plt.xticks(list(range(0,11),),items[:11]);plt.xlabel(\"items\")\n",
    "plt.ylabel(\"Count\")"
   ]
  },
  {
   "cell_type": "code",
   "execution_count": 9,
   "metadata": {},
   "outputs": [],
   "source": [
    "# Creating Data Frame for the transactions data \n",
    "# Purpose of converting all list into Series object Coz to treat each list element as entire element not to separate \n",
    "\n",
    "groceries_series  = pd.DataFrame(pd.Series(groceries_list))\n",
    "groceries_series = groceries_series.iloc[:9835,:] # removing the last empty transaction\n",
    "groceries_series.columns = [\"transactions\"]"
   ]
  },
  {
   "cell_type": "code",
   "execution_count": 10,
   "metadata": {},
   "outputs": [
    {
     "data": {
      "text/plain": [
       "(989, 2)"
      ]
     },
     "execution_count": 10,
     "metadata": {},
     "output_type": "execute_result"
    }
   ],
   "source": [
    "# creating a dummy columns for the each item in each transactions ... Using column names as item name\n",
    "\n",
    "X = groceries_series['transactions'].str.join(sep='*').str.get_dummies(sep='*')\n",
    "frequent_itemsets = apriori(X,min_support=0.005, max_len=3,use_colnames = True)\n",
    "frequent_itemsets.shape"
   ]
  },
  {
   "cell_type": "code",
   "execution_count": 11,
   "metadata": {},
   "outputs": [
    {
     "data": {
      "text/plain": [
       "Text(0, 0.5, 'support')"
      ]
     },
     "execution_count": 11,
     "metadata": {},
     "output_type": "execute_result"
    },
    {
     "data": {
      "image/png": "[encoded data removed]",
      "text/plain": [
       "<Figure size 1080x360 with 1 Axes>"
      ]
     },
     "metadata": {
      "needs_background": "light"
     },
     "output_type": "display_data"
    }
   ],
   "source": [
    "# Most Frequent item sets based on support \n",
    "\n",
    "frequent_itemsets.sort_values('support',ascending = False,inplace=True)\n",
    "plt.figure(figsize=(15, 5))\n",
    "plt.bar(x = list(range(1,11)),height = frequent_itemsets.support[1:11],color='rgmyk');plt.xticks(list(range(1,11)),frequent_itemsets.itemsets[1:11])\n",
    "plt.xlabel('item-sets');plt.ylabel('support')"
   ]
  },
  {
   "cell_type": "code",
   "execution_count": 12,
   "metadata": {},
   "outputs": [
    {
     "data": {
      "text/plain": [
       "(2700, 9)"
      ]
     },
     "execution_count": 12,
     "metadata": {},
     "output_type": "execute_result"
    }
   ],
   "source": [
    "#Declaring rules var for association rule\n",
    "\n",
    "rules = association_rules(frequent_itemsets, metric=\"lift\", min_threshold=1)\n",
    "rules.shape"
   ]
  },
  {
   "cell_type": "code",
   "execution_count": 13,
   "metadata": {},
   "outputs": [],
   "source": [
    "#Fetching rules\n",
    "\n",
    "rules.head(20)\n",
    "rules.sort_values('lift',ascending = False,inplace=True)"
   ]
  },
  {
   "cell_type": "code",
   "execution_count": 14,
   "metadata": {},
   "outputs": [],
   "source": [
    "#To eliminate Redudancy in Rules \n",
    "\n",
    "def to_list(i):\n",
    "    return (sorted(list(i)))"
   ]
  },
  {
   "cell_type": "code",
   "execution_count": 15,
   "metadata": {},
   "outputs": [],
   "source": [
    "#Sorting, listing and appending\n",
    "\n",
    "ma_X = rules.antecedents.apply(to_list)+rules.consequents.apply(to_list)\n",
    "ma_X = ma_X.apply(sorted)\n",
    "rules_sets = list(ma_X)\n",
    "unique_rules_sets = [list(m) for m in set(tuple(i) for i in rules_sets)]\n",
    "index_rules = []\n",
    "for i in unique_rules_sets:\n",
    "    index_rules.append(rules_sets.index(i))"
   ]
  },
  {
   "cell_type": "code",
   "execution_count": 16,
   "metadata": {},
   "outputs": [],
   "source": [
    "# getting rules without any redudancy \n",
    "\n",
    "rules_no_redudancy  = rules.iloc[index_rules,:]"
   ]
  },
  {
   "cell_type": "code",
   "execution_count": 17,
   "metadata": {},
   "outputs": [
    {
     "data": {
      "text/html": [
       "<div>\n",
       "<style scoped>\n",
       "    .dataframe tbody tr th:only-of-type {\n",
       "        vertical-align: middle;\n",
       "    }\n",
       "\n",
       "    .dataframe tbody tr th {\n",
       "        vertical-align: top;\n",
       "    }\n",
       "\n",
       "    .dataframe thead th {\n",
       "        text-align: right;\n",
       "    }\n",
       "</style>\n",
       "<table border=\"1\" class=\"dataframe\">\n",
       "  <thead>\n",
       "    <tr style=\"text-align: right;\">\n",
       "      <th></th>\n",
       "      <th>antecedents</th>\n",
       "      <th>consequents</th>\n",
       "      <th>antecedent support</th>\n",
       "      <th>consequent support</th>\n",
       "      <th>support</th>\n",
       "      <th>confidence</th>\n",
       "      <th>lift</th>\n",
       "      <th>leverage</th>\n",
       "      <th>conviction</th>\n",
       "    </tr>\n",
       "  </thead>\n",
       "  <tbody>\n",
       "    <tr>\n",
       "      <th>2558</th>\n",
       "      <td>(ham)</td>\n",
       "      <td>(white bread)</td>\n",
       "      <td>0.026029</td>\n",
       "      <td>0.042095</td>\n",
       "      <td>0.005084</td>\n",
       "      <td>0.195312</td>\n",
       "      <td>4.639851</td>\n",
       "      <td>0.003988</td>\n",
       "      <td>1.190407</td>\n",
       "    </tr>\n",
       "    <tr>\n",
       "      <th>2021</th>\n",
       "      <td>(whipped/sour cream)</td>\n",
       "      <td>(butter, other vegetables)</td>\n",
       "      <td>0.071683</td>\n",
       "      <td>0.020031</td>\n",
       "      <td>0.005796</td>\n",
       "      <td>0.080851</td>\n",
       "      <td>4.036397</td>\n",
       "      <td>0.004360</td>\n",
       "      <td>1.066171</td>\n",
       "    </tr>\n",
       "    <tr>\n",
       "      <th>1312</th>\n",
       "      <td>(root vegetables)</td>\n",
       "      <td>(herbs)</td>\n",
       "      <td>0.108998</td>\n",
       "      <td>0.016268</td>\n",
       "      <td>0.007016</td>\n",
       "      <td>0.064366</td>\n",
       "      <td>3.956477</td>\n",
       "      <td>0.005243</td>\n",
       "      <td>1.051406</td>\n",
       "    </tr>\n",
       "    <tr>\n",
       "      <th>2040</th>\n",
       "      <td>(root vegetables, other vegetables)</td>\n",
       "      <td>(onions)</td>\n",
       "      <td>0.047382</td>\n",
       "      <td>0.031012</td>\n",
       "      <td>0.005694</td>\n",
       "      <td>0.120172</td>\n",
       "      <td>3.875044</td>\n",
       "      <td>0.004225</td>\n",
       "      <td>1.101338</td>\n",
       "    </tr>\n",
       "    <tr>\n",
       "      <th>2207</th>\n",
       "      <td>(tropical fruit)</td>\n",
       "      <td>(citrus fruit, pip fruit)</td>\n",
       "      <td>0.104931</td>\n",
       "      <td>0.013828</td>\n",
       "      <td>0.005592</td>\n",
       "      <td>0.053295</td>\n",
       "      <td>3.854060</td>\n",
       "      <td>0.004141</td>\n",
       "      <td>1.041688</td>\n",
       "    </tr>\n",
       "    <tr>\n",
       "      <th>777</th>\n",
       "      <td>(berries)</td>\n",
       "      <td>(whipped/sour cream)</td>\n",
       "      <td>0.033249</td>\n",
       "      <td>0.071683</td>\n",
       "      <td>0.009049</td>\n",
       "      <td>0.272171</td>\n",
       "      <td>3.796886</td>\n",
       "      <td>0.006666</td>\n",
       "      <td>1.275461</td>\n",
       "    </tr>\n",
       "    <tr>\n",
       "      <th>1469</th>\n",
       "      <td>(whipped/sour cream, whole milk)</td>\n",
       "      <td>(butter)</td>\n",
       "      <td>0.032232</td>\n",
       "      <td>0.055414</td>\n",
       "      <td>0.006711</td>\n",
       "      <td>0.208202</td>\n",
       "      <td>3.757185</td>\n",
       "      <td>0.004925</td>\n",
       "      <td>1.192963</td>\n",
       "    </tr>\n",
       "    <tr>\n",
       "      <th>2435</th>\n",
       "      <td>(yogurt)</td>\n",
       "      <td>(curd, tropical fruit)</td>\n",
       "      <td>0.139502</td>\n",
       "      <td>0.010269</td>\n",
       "      <td>0.005287</td>\n",
       "      <td>0.037901</td>\n",
       "      <td>3.690645</td>\n",
       "      <td>0.003855</td>\n",
       "      <td>1.028720</td>\n",
       "    </tr>\n",
       "    <tr>\n",
       "      <th>1041</th>\n",
       "      <td>(root vegetables)</td>\n",
       "      <td>(other vegetables, beef)</td>\n",
       "      <td>0.108998</td>\n",
       "      <td>0.019725</td>\n",
       "      <td>0.007931</td>\n",
       "      <td>0.072761</td>\n",
       "      <td>3.688692</td>\n",
       "      <td>0.005781</td>\n",
       "      <td>1.057197</td>\n",
       "    </tr>\n",
       "    <tr>\n",
       "      <th>1871</th>\n",
       "      <td>(domestic eggs, whole milk)</td>\n",
       "      <td>(butter)</td>\n",
       "      <td>0.029995</td>\n",
       "      <td>0.055414</td>\n",
       "      <td>0.005999</td>\n",
       "      <td>0.200000</td>\n",
       "      <td>3.609174</td>\n",
       "      <td>0.004337</td>\n",
       "      <td>1.180732</td>\n",
       "    </tr>\n",
       "  </tbody>\n",
       "</table>\n",
       "</div>"
      ],
      "text/plain": [
       "                              antecedents                 consequents  \\\n",
       "2558                                (ham)               (white bread)   \n",
       "2021                 (whipped/sour cream)  (butter, other vegetables)   \n",
       "1312                    (root vegetables)                     (herbs)   \n",
       "2040  (root vegetables, other vegetables)                    (onions)   \n",
       "2207                     (tropical fruit)   (citrus fruit, pip fruit)   \n",
       "777                             (berries)        (whipped/sour cream)   \n",
       "1469     (whipped/sour cream, whole milk)                    (butter)   \n",
       "2435                             (yogurt)      (curd, tropical fruit)   \n",
       "1041                    (root vegetables)    (other vegetables, beef)   \n",
       "1871          (domestic eggs, whole milk)                    (butter)   \n",
       "\n",
       "      antecedent support  consequent support   support  confidence      lift  \\\n",
       "2558            0.026029            0.042095  0.005084    0.195312  4.639851   \n",
       "2021            0.071683            0.020031  0.005796    0.080851  4.036397   \n",
       "1312            0.108998            0.016268  0.007016    0.064366  3.956477   \n",
       "2040            0.047382            0.031012  0.005694    0.120172  3.875044   \n",
       "2207            0.104931            0.013828  0.005592    0.053295  3.854060   \n",
       "777             0.033249            0.071683  0.009049    0.272171  3.796886   \n",
       "1469            0.032232            0.055414  0.006711    0.208202  3.757185   \n",
       "2435            0.139502            0.010269  0.005287    0.037901  3.690645   \n",
       "1041            0.108998            0.019725  0.007931    0.072761  3.688692   \n",
       "1871            0.029995            0.055414  0.005999    0.200000  3.609174   \n",
       "\n",
       "      leverage  conviction  \n",
       "2558  0.003988    1.190407  \n",
       "2021  0.004360    1.066171  \n",
       "1312  0.005243    1.051406  \n",
       "2040  0.004225    1.101338  \n",
       "2207  0.004141    1.041688  \n",
       "777   0.006666    1.275461  \n",
       "1469  0.004925    1.192963  \n",
       "2435  0.003855    1.028720  \n",
       "1041  0.005781    1.057197  \n",
       "1871  0.004337    1.180732  "
      ]
     },
     "execution_count": 17,
     "metadata": {},
     "output_type": "execute_result"
    }
   ],
   "source": [
    "# Sorting them with respect to list and getting top 10 rules \n",
    "\n",
    "rules_no_redudancy.sort_values('lift',ascending=False).head(10)"
   ]
  },
  {
   "cell_type": "markdown",
   "metadata": {},
   "source": [
    "-------------------------------------------------END-------------------------------------------------------------------"
   ]
  },
  {
   "cell_type": "markdown",
   "metadata": {},
   "source": [
    "### Business Scenario: Prepare rules for the (book.csv) data set"
   ]
  },
  {
   "cell_type": "code",
   "execution_count": 18,
   "metadata": {},
   "outputs": [],
   "source": [
    "from apyori import apriori"
   ]
  },
  {
   "cell_type": "code",
   "execution_count": 19,
   "metadata": {},
   "outputs": [],
   "source": [
    "book = pd.read_csv('C:\\\\Users\\\\Raja\\\\Downloads\\\\assignments\\\\association rule\\\\book.csv', header=None)"
   ]
  },
  {
   "cell_type": "code",
   "execution_count": 20,
   "metadata": {
    "scrolled": true
   },
   "outputs": [
    {
     "data": {
      "text/html": [
       "<div>\n",
       "<style scoped>\n",
       "    .dataframe tbody tr th:only-of-type {\n",
       "        vertical-align: middle;\n",
       "    }\n",
       "\n",
       "    .dataframe tbody tr th {\n",
       "        vertical-align: top;\n",
       "    }\n",
       "\n",
       "    .dataframe thead th {\n",
       "        text-align: right;\n",
       "    }\n",
       "</style>\n",
       "<table border=\"1\" class=\"dataframe\">\n",
       "  <thead>\n",
       "    <tr style=\"text-align: right;\">\n",
       "      <th></th>\n",
       "      <th>0</th>\n",
       "      <th>1</th>\n",
       "      <th>2</th>\n",
       "      <th>3</th>\n",
       "      <th>4</th>\n",
       "      <th>5</th>\n",
       "      <th>6</th>\n",
       "      <th>7</th>\n",
       "      <th>8</th>\n",
       "      <th>9</th>\n",
       "      <th>10</th>\n",
       "    </tr>\n",
       "  </thead>\n",
       "  <tbody>\n",
       "    <tr>\n",
       "      <th>0</th>\n",
       "      <td>ChildBks</td>\n",
       "      <td>YouthBks</td>\n",
       "      <td>CookBks</td>\n",
       "      <td>DoItYBks</td>\n",
       "      <td>RefBks</td>\n",
       "      <td>ArtBks</td>\n",
       "      <td>GeogBks</td>\n",
       "      <td>ItalCook</td>\n",
       "      <td>ItalAtlas</td>\n",
       "      <td>ItalArt</td>\n",
       "      <td>Florence</td>\n",
       "    </tr>\n",
       "    <tr>\n",
       "      <th>1</th>\n",
       "      <td>0</td>\n",
       "      <td>1</td>\n",
       "      <td>0</td>\n",
       "      <td>1</td>\n",
       "      <td>0</td>\n",
       "      <td>0</td>\n",
       "      <td>1</td>\n",
       "      <td>0</td>\n",
       "      <td>0</td>\n",
       "      <td>0</td>\n",
       "      <td>0</td>\n",
       "    </tr>\n",
       "    <tr>\n",
       "      <th>2</th>\n",
       "      <td>1</td>\n",
       "      <td>0</td>\n",
       "      <td>0</td>\n",
       "      <td>0</td>\n",
       "      <td>0</td>\n",
       "      <td>0</td>\n",
       "      <td>0</td>\n",
       "      <td>0</td>\n",
       "      <td>0</td>\n",
       "      <td>0</td>\n",
       "      <td>0</td>\n",
       "    </tr>\n",
       "    <tr>\n",
       "      <th>3</th>\n",
       "      <td>0</td>\n",
       "      <td>0</td>\n",
       "      <td>0</td>\n",
       "      <td>0</td>\n",
       "      <td>0</td>\n",
       "      <td>0</td>\n",
       "      <td>0</td>\n",
       "      <td>0</td>\n",
       "      <td>0</td>\n",
       "      <td>0</td>\n",
       "      <td>0</td>\n",
       "    </tr>\n",
       "    <tr>\n",
       "      <th>4</th>\n",
       "      <td>1</td>\n",
       "      <td>1</td>\n",
       "      <td>1</td>\n",
       "      <td>0</td>\n",
       "      <td>1</td>\n",
       "      <td>0</td>\n",
       "      <td>1</td>\n",
       "      <td>0</td>\n",
       "      <td>0</td>\n",
       "      <td>0</td>\n",
       "      <td>0</td>\n",
       "    </tr>\n",
       "  </tbody>\n",
       "</table>\n",
       "</div>"
      ],
      "text/plain": [
       "         0         1        2         3       4       5        6         7   \\\n",
       "0  ChildBks  YouthBks  CookBks  DoItYBks  RefBks  ArtBks  GeogBks  ItalCook   \n",
       "1         0         1        0         1       0       0        1         0   \n",
       "2         1         0        0         0       0       0        0         0   \n",
       "3         0         0        0         0       0       0        0         0   \n",
       "4         1         1        1         0       1       0        1         0   \n",
       "\n",
       "          8        9         10  \n",
       "0  ItalAtlas  ItalArt  Florence  \n",
       "1          0        0         0  \n",
       "2          0        0         0  \n",
       "3          0        0         0  \n",
       "4          0        0         0  "
      ]
     },
     "execution_count": 20,
     "metadata": {},
     "output_type": "execute_result"
    }
   ],
   "source": [
    "book.head()"
   ]
  },
  {
   "cell_type": "code",
   "execution_count": 21,
   "metadata": {},
   "outputs": [
    {
     "data": {
      "text/plain": [
       "(2001, 11)"
      ]
     },
     "execution_count": 21,
     "metadata": {},
     "output_type": "execute_result"
    }
   ],
   "source": [
    "book.shape"
   ]
  },
  {
   "cell_type": "code",
   "execution_count": 22,
   "metadata": {},
   "outputs": [],
   "source": [
    "records = []\n",
    "for i in range(0, 2000):\n",
    "    records.append([str(book.values[i,j]) for j in range(0, 10)])"
   ]
  },
  {
   "cell_type": "code",
   "execution_count": 23,
   "metadata": {},
   "outputs": [],
   "source": [
    "association_rules = apriori(records, min_support=0.005)\n",
    "association_results = list(association_rules)"
   ]
  },
  {
   "cell_type": "code",
   "execution_count": 24,
   "metadata": {
    "scrolled": true
   },
   "outputs": [
    {
     "data": {
      "text/plain": [
       "[RelationRecord(items=frozenset({'0'}), support=0.997, ordered_statistics=[OrderedStatistic(items_base=frozenset(), items_add=frozenset({'0'}), confidence=0.997, lift=1.0)]),\n",
       " RelationRecord(items=frozenset({'1'}), support=0.7605, ordered_statistics=[OrderedStatistic(items_base=frozenset(), items_add=frozenset({'1'}), confidence=0.7605, lift=1.0)]),\n",
       " RelationRecord(items=frozenset({'0', '1'}), support=0.758, ordered_statistics=[OrderedStatistic(items_base=frozenset(), items_add=frozenset({'0', '1'}), confidence=0.758, lift=1.0), OrderedStatistic(items_base=frozenset({'0'}), items_add=frozenset({'1'}), confidence=0.7602808425275828, lift=0.999711824493863), OrderedStatistic(items_base=frozenset({'1'}), items_add=frozenset({'0'}), confidence=0.9967126890203813, lift=0.999711824493863)])]"
      ]
     },
     "execution_count": 24,
     "metadata": {},
     "output_type": "execute_result"
    }
   ],
   "source": [
    "association_results"
   ]
  },
  {
   "cell_type": "markdown",
   "metadata": {},
   "source": [
    "### Above result shows support, confidence & lift in short"
   ]
  },
  {
   "cell_type": "markdown",
   "metadata": {},
   "source": [
    "--------------------------------------------------------End--------------------------------------------------------------"
   ]
  }
 ],
 "metadata": {
  "kernelspec": {
   "display_name": "Python 3",
   "language": "python",
   "name": "python3"
  },
  "language_info": {
   "codemirror_mode": {
    "name": "ipython",
    "version": 3
   },
   "file_extension": ".py",
   "mimetype": "text/x-python",
   "name": "python",
   "nbconvert_exporter": "python",
   "pygments_lexer": "ipython3",
   "version": "3.7.1"
  }
 },
 "nbformat": 4,
 "nbformat_minor": 2
}
