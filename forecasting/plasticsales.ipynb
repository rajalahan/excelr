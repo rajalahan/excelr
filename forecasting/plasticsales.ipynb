{
 "cells": [
  {
   "cell_type": "markdown",
   "metadata": {},
   "source": [
    "# Forecast the PlasticSales data set\n",
    "#dataset:PlasticSales.csv"
   ]
  },
  {
   "cell_type": "code",
   "execution_count": 1,
   "metadata": {},
   "outputs": [],
   "source": [
    "#Importing necessaries lib.& load data\n",
    "import numpy as np\n",
    "import pandas as pd\n",
    "import matplotlib.pyplot as plt\n",
    "%matplotlib inline\n",
    "from matplotlib.pylab import rcParams\n",
    "rcParams['figure.figsize'] = 10, 6\n",
    "plastic = pd.read_csv(\"C:\\\\Users\\\\Raja\\\\Downloads\\\\assignments\\\\forecasting\\\\PlasticSales.csv\")"
   ]
  },
  {
   "cell_type": "code",
   "execution_count": 2,
   "metadata": {},
   "outputs": [
    {
     "data": {
      "text/html": [
       "<div>\n",
       "<style scoped>\n",
       "    .dataframe tbody tr th:only-of-type {\n",
       "        vertical-align: middle;\n",
       "    }\n",
       "\n",
       "    .dataframe tbody tr th {\n",
       "        vertical-align: top;\n",
       "    }\n",
       "\n",
       "    .dataframe thead th {\n",
       "        text-align: right;\n",
       "    }\n",
       "</style>\n",
       "<table border=\"1\" class=\"dataframe\">\n",
       "  <thead>\n",
       "    <tr style=\"text-align: right;\">\n",
       "      <th></th>\n",
       "      <th>Month</th>\n",
       "      <th>Sales</th>\n",
       "    </tr>\n",
       "  </thead>\n",
       "  <tbody>\n",
       "    <tr>\n",
       "      <th>0</th>\n",
       "      <td>Jan-49</td>\n",
       "      <td>742</td>\n",
       "    </tr>\n",
       "    <tr>\n",
       "      <th>1</th>\n",
       "      <td>Feb-49</td>\n",
       "      <td>697</td>\n",
       "    </tr>\n",
       "    <tr>\n",
       "      <th>2</th>\n",
       "      <td>Mar-49</td>\n",
       "      <td>776</td>\n",
       "    </tr>\n",
       "    <tr>\n",
       "      <th>3</th>\n",
       "      <td>Apr-49</td>\n",
       "      <td>898</td>\n",
       "    </tr>\n",
       "    <tr>\n",
       "      <th>4</th>\n",
       "      <td>May-49</td>\n",
       "      <td>1030</td>\n",
       "    </tr>\n",
       "    <tr>\n",
       "      <th>5</th>\n",
       "      <td>Jun-49</td>\n",
       "      <td>1107</td>\n",
       "    </tr>\n",
       "    <tr>\n",
       "      <th>6</th>\n",
       "      <td>Jul-49</td>\n",
       "      <td>1165</td>\n",
       "    </tr>\n",
       "    <tr>\n",
       "      <th>7</th>\n",
       "      <td>Aug-49</td>\n",
       "      <td>1216</td>\n",
       "    </tr>\n",
       "    <tr>\n",
       "      <th>8</th>\n",
       "      <td>Sep-49</td>\n",
       "      <td>1208</td>\n",
       "    </tr>\n",
       "    <tr>\n",
       "      <th>9</th>\n",
       "      <td>Oct-49</td>\n",
       "      <td>1131</td>\n",
       "    </tr>\n",
       "    <tr>\n",
       "      <th>10</th>\n",
       "      <td>Nov-49</td>\n",
       "      <td>971</td>\n",
       "    </tr>\n",
       "    <tr>\n",
       "      <th>11</th>\n",
       "      <td>Dec-49</td>\n",
       "      <td>783</td>\n",
       "    </tr>\n",
       "    <tr>\n",
       "      <th>12</th>\n",
       "      <td>Jan-50</td>\n",
       "      <td>741</td>\n",
       "    </tr>\n",
       "    <tr>\n",
       "      <th>13</th>\n",
       "      <td>Feb-50</td>\n",
       "      <td>700</td>\n",
       "    </tr>\n",
       "    <tr>\n",
       "      <th>14</th>\n",
       "      <td>Mar-50</td>\n",
       "      <td>774</td>\n",
       "    </tr>\n",
       "    <tr>\n",
       "      <th>15</th>\n",
       "      <td>Apr-50</td>\n",
       "      <td>932</td>\n",
       "    </tr>\n",
       "    <tr>\n",
       "      <th>16</th>\n",
       "      <td>May-50</td>\n",
       "      <td>1099</td>\n",
       "    </tr>\n",
       "    <tr>\n",
       "      <th>17</th>\n",
       "      <td>Jun-50</td>\n",
       "      <td>1223</td>\n",
       "    </tr>\n",
       "    <tr>\n",
       "      <th>18</th>\n",
       "      <td>Jul-50</td>\n",
       "      <td>1290</td>\n",
       "    </tr>\n",
       "    <tr>\n",
       "      <th>19</th>\n",
       "      <td>Aug-50</td>\n",
       "      <td>1349</td>\n",
       "    </tr>\n",
       "    <tr>\n",
       "      <th>20</th>\n",
       "      <td>Sep-50</td>\n",
       "      <td>1341</td>\n",
       "    </tr>\n",
       "    <tr>\n",
       "      <th>21</th>\n",
       "      <td>Oct-50</td>\n",
       "      <td>1296</td>\n",
       "    </tr>\n",
       "    <tr>\n",
       "      <th>22</th>\n",
       "      <td>Nov-50</td>\n",
       "      <td>1066</td>\n",
       "    </tr>\n",
       "    <tr>\n",
       "      <th>23</th>\n",
       "      <td>Dec-50</td>\n",
       "      <td>901</td>\n",
       "    </tr>\n",
       "    <tr>\n",
       "      <th>24</th>\n",
       "      <td>Jan-51</td>\n",
       "      <td>896</td>\n",
       "    </tr>\n",
       "    <tr>\n",
       "      <th>25</th>\n",
       "      <td>Feb-51</td>\n",
       "      <td>793</td>\n",
       "    </tr>\n",
       "    <tr>\n",
       "      <th>26</th>\n",
       "      <td>Mar-51</td>\n",
       "      <td>885</td>\n",
       "    </tr>\n",
       "    <tr>\n",
       "      <th>27</th>\n",
       "      <td>Apr-51</td>\n",
       "      <td>1055</td>\n",
       "    </tr>\n",
       "    <tr>\n",
       "      <th>28</th>\n",
       "      <td>May-51</td>\n",
       "      <td>1204</td>\n",
       "    </tr>\n",
       "    <tr>\n",
       "      <th>29</th>\n",
       "      <td>Jun-51</td>\n",
       "      <td>1326</td>\n",
       "    </tr>\n",
       "    <tr>\n",
       "      <th>30</th>\n",
       "      <td>Jul-51</td>\n",
       "      <td>1303</td>\n",
       "    </tr>\n",
       "    <tr>\n",
       "      <th>31</th>\n",
       "      <td>Aug-51</td>\n",
       "      <td>1436</td>\n",
       "    </tr>\n",
       "    <tr>\n",
       "      <th>32</th>\n",
       "      <td>Sep-51</td>\n",
       "      <td>1473</td>\n",
       "    </tr>\n",
       "    <tr>\n",
       "      <th>33</th>\n",
       "      <td>Oct-51</td>\n",
       "      <td>1453</td>\n",
       "    </tr>\n",
       "    <tr>\n",
       "      <th>34</th>\n",
       "      <td>Nov-51</td>\n",
       "      <td>1170</td>\n",
       "    </tr>\n",
       "    <tr>\n",
       "      <th>35</th>\n",
       "      <td>Dec-51</td>\n",
       "      <td>1023</td>\n",
       "    </tr>\n",
       "    <tr>\n",
       "      <th>36</th>\n",
       "      <td>Jan-52</td>\n",
       "      <td>951</td>\n",
       "    </tr>\n",
       "    <tr>\n",
       "      <th>37</th>\n",
       "      <td>Feb-52</td>\n",
       "      <td>861</td>\n",
       "    </tr>\n",
       "    <tr>\n",
       "      <th>38</th>\n",
       "      <td>Mar-52</td>\n",
       "      <td>938</td>\n",
       "    </tr>\n",
       "    <tr>\n",
       "      <th>39</th>\n",
       "      <td>Apr-52</td>\n",
       "      <td>1109</td>\n",
       "    </tr>\n",
       "    <tr>\n",
       "      <th>40</th>\n",
       "      <td>May-52</td>\n",
       "      <td>1274</td>\n",
       "    </tr>\n",
       "    <tr>\n",
       "      <th>41</th>\n",
       "      <td>Jun-52</td>\n",
       "      <td>1422</td>\n",
       "    </tr>\n",
       "    <tr>\n",
       "      <th>42</th>\n",
       "      <td>Jul-52</td>\n",
       "      <td>1486</td>\n",
       "    </tr>\n",
       "    <tr>\n",
       "      <th>43</th>\n",
       "      <td>Aug-52</td>\n",
       "      <td>1555</td>\n",
       "    </tr>\n",
       "    <tr>\n",
       "      <th>44</th>\n",
       "      <td>Sep-52</td>\n",
       "      <td>1604</td>\n",
       "    </tr>\n",
       "    <tr>\n",
       "      <th>45</th>\n",
       "      <td>Oct-52</td>\n",
       "      <td>1600</td>\n",
       "    </tr>\n",
       "    <tr>\n",
       "      <th>46</th>\n",
       "      <td>Nov-52</td>\n",
       "      <td>1403</td>\n",
       "    </tr>\n",
       "    <tr>\n",
       "      <th>47</th>\n",
       "      <td>Dec-52</td>\n",
       "      <td>1209</td>\n",
       "    </tr>\n",
       "    <tr>\n",
       "      <th>48</th>\n",
       "      <td>Jan-53</td>\n",
       "      <td>1030</td>\n",
       "    </tr>\n",
       "    <tr>\n",
       "      <th>49</th>\n",
       "      <td>Feb-53</td>\n",
       "      <td>1032</td>\n",
       "    </tr>\n",
       "    <tr>\n",
       "      <th>50</th>\n",
       "      <td>Mar-53</td>\n",
       "      <td>1126</td>\n",
       "    </tr>\n",
       "    <tr>\n",
       "      <th>51</th>\n",
       "      <td>Apr-53</td>\n",
       "      <td>1285</td>\n",
       "    </tr>\n",
       "    <tr>\n",
       "      <th>52</th>\n",
       "      <td>May-53</td>\n",
       "      <td>1468</td>\n",
       "    </tr>\n",
       "    <tr>\n",
       "      <th>53</th>\n",
       "      <td>Jun-53</td>\n",
       "      <td>1637</td>\n",
       "    </tr>\n",
       "    <tr>\n",
       "      <th>54</th>\n",
       "      <td>Jul-53</td>\n",
       "      <td>1611</td>\n",
       "    </tr>\n",
       "    <tr>\n",
       "      <th>55</th>\n",
       "      <td>Aug-53</td>\n",
       "      <td>1608</td>\n",
       "    </tr>\n",
       "    <tr>\n",
       "      <th>56</th>\n",
       "      <td>Sep-53</td>\n",
       "      <td>1528</td>\n",
       "    </tr>\n",
       "    <tr>\n",
       "      <th>57</th>\n",
       "      <td>Oct-53</td>\n",
       "      <td>1420</td>\n",
       "    </tr>\n",
       "    <tr>\n",
       "      <th>58</th>\n",
       "      <td>Nov-53</td>\n",
       "      <td>1119</td>\n",
       "    </tr>\n",
       "    <tr>\n",
       "      <th>59</th>\n",
       "      <td>Dec-53</td>\n",
       "      <td>1013</td>\n",
       "    </tr>\n",
       "  </tbody>\n",
       "</table>\n",
       "</div>"
      ],
      "text/plain": [
       "     Month  Sales\n",
       "0   Jan-49    742\n",
       "1   Feb-49    697\n",
       "2   Mar-49    776\n",
       "3   Apr-49    898\n",
       "4   May-49   1030\n",
       "5   Jun-49   1107\n",
       "6   Jul-49   1165\n",
       "7   Aug-49   1216\n",
       "8   Sep-49   1208\n",
       "9   Oct-49   1131\n",
       "10  Nov-49    971\n",
       "11  Dec-49    783\n",
       "12  Jan-50    741\n",
       "13  Feb-50    700\n",
       "14  Mar-50    774\n",
       "15  Apr-50    932\n",
       "16  May-50   1099\n",
       "17  Jun-50   1223\n",
       "18  Jul-50   1290\n",
       "19  Aug-50   1349\n",
       "20  Sep-50   1341\n",
       "21  Oct-50   1296\n",
       "22  Nov-50   1066\n",
       "23  Dec-50    901\n",
       "24  Jan-51    896\n",
       "25  Feb-51    793\n",
       "26  Mar-51    885\n",
       "27  Apr-51   1055\n",
       "28  May-51   1204\n",
       "29  Jun-51   1326\n",
       "30  Jul-51   1303\n",
       "31  Aug-51   1436\n",
       "32  Sep-51   1473\n",
       "33  Oct-51   1453\n",
       "34  Nov-51   1170\n",
       "35  Dec-51   1023\n",
       "36  Jan-52    951\n",
       "37  Feb-52    861\n",
       "38  Mar-52    938\n",
       "39  Apr-52   1109\n",
       "40  May-52   1274\n",
       "41  Jun-52   1422\n",
       "42  Jul-52   1486\n",
       "43  Aug-52   1555\n",
       "44  Sep-52   1604\n",
       "45  Oct-52   1600\n",
       "46  Nov-52   1403\n",
       "47  Dec-52   1209\n",
       "48  Jan-53   1030\n",
       "49  Feb-53   1032\n",
       "50  Mar-53   1126\n",
       "51  Apr-53   1285\n",
       "52  May-53   1468\n",
       "53  Jun-53   1637\n",
       "54  Jul-53   1611\n",
       "55  Aug-53   1608\n",
       "56  Sep-53   1528\n",
       "57  Oct-53   1420\n",
       "58  Nov-53   1119\n",
       "59  Dec-53   1013"
      ]
     },
     "execution_count": 2,
     "metadata": {},
     "output_type": "execute_result"
    }
   ],
   "source": [
    "#Showing 5 top most records\n",
    "plastic"
   ]
  },
  {
   "cell_type": "code",
   "execution_count": 3,
   "metadata": {},
   "outputs": [
    {
     "data": {
      "text/plain": [
       "(60, 2)"
      ]
     },
     "execution_count": 3,
     "metadata": {},
     "output_type": "execute_result"
    }
   ],
   "source": [
    "# Shape of plastic dataframe\n",
    "plastic.shape"
   ]
  },
  {
   "cell_type": "code",
   "execution_count": 4,
   "metadata": {},
   "outputs": [
    {
     "data": {
      "text/plain": [
       "pandas.core.frame.DataFrame"
      ]
     },
     "execution_count": 4,
     "metadata": {},
     "output_type": "execute_result"
    }
   ],
   "source": [
    "# Show the type of dataframe\n",
    "type(plastic)"
   ]
  },
  {
   "cell_type": "code",
   "execution_count": 5,
   "metadata": {},
   "outputs": [],
   "source": [
    "#Loading data with replacing index cols with Months cols\n",
    "plastic = pd.read_csv(\"C:\\\\Users\\\\Raja\\\\Downloads\\\\assignments\\\\forecasting\\\\PlasticSales.csv\", index_col=[0], parse_dates=True,squeeze=True)"
   ]
  },
  {
   "cell_type": "code",
   "execution_count": 6,
   "metadata": {
    "scrolled": true
   },
   "outputs": [
    {
     "data": {
      "text/plain": [
       "Month\n",
       "2049-01-01     742\n",
       "2049-02-01     697\n",
       "2049-03-01     776\n",
       "2049-04-01     898\n",
       "2049-05-01    1030\n",
       "2049-06-01    1107\n",
       "2049-07-01    1165\n",
       "2049-08-01    1216\n",
       "2049-09-01    1208\n",
       "2049-10-01    1131\n",
       "2049-11-01     971\n",
       "2049-12-01     783\n",
       "2050-01-01     741\n",
       "2050-02-01     700\n",
       "2050-03-01     774\n",
       "2050-04-01     932\n",
       "2050-05-01    1099\n",
       "2050-06-01    1223\n",
       "2050-07-01    1290\n",
       "2050-08-01    1349\n",
       "2050-09-01    1341\n",
       "2050-10-01    1296\n",
       "2050-11-01    1066\n",
       "2050-12-01     901\n",
       "2051-01-01     896\n",
       "2051-02-01     793\n",
       "2051-03-01     885\n",
       "2051-04-01    1055\n",
       "2051-05-01    1204\n",
       "2051-06-01    1326\n",
       "2051-07-01    1303\n",
       "2051-08-01    1436\n",
       "2051-09-01    1473\n",
       "2051-10-01    1453\n",
       "2051-11-01    1170\n",
       "2051-12-01    1023\n",
       "2052-01-01     951\n",
       "2052-02-01     861\n",
       "2052-03-01     938\n",
       "2052-04-01    1109\n",
       "2052-05-01    1274\n",
       "2052-06-01    1422\n",
       "2052-07-01    1486\n",
       "2052-08-01    1555\n",
       "2052-09-01    1604\n",
       "2052-10-01    1600\n",
       "2052-11-01    1403\n",
       "2052-12-01    1209\n",
       "2053-01-01    1030\n",
       "2053-02-01    1032\n",
       "2053-03-01    1126\n",
       "2053-04-01    1285\n",
       "2053-05-01    1468\n",
       "2053-06-01    1637\n",
       "2053-07-01    1611\n",
       "2053-08-01    1608\n",
       "2053-09-01    1528\n",
       "2053-10-01    1420\n",
       "2053-11-01    1119\n",
       "2053-12-01    1013\n",
       "Name: Sales, dtype: int64"
      ]
     },
     "execution_count": 6,
     "metadata": {},
     "output_type": "execute_result"
    }
   ],
   "source": [
    "#Top 5 records\n",
    "plastic"
   ]
  },
  {
   "cell_type": "code",
   "execution_count": 7,
   "metadata": {},
   "outputs": [
    {
     "data": {
      "text/plain": [
       "60"
      ]
     },
     "execution_count": 7,
     "metadata": {},
     "output_type": "execute_result"
    }
   ],
   "source": [
    "#Size of df\n",
    "plastic.size"
   ]
  },
  {
   "cell_type": "code",
   "execution_count": 8,
   "metadata": {},
   "outputs": [
    {
     "data": {
      "text/plain": [
       "pandas.core.series.Series"
      ]
     },
     "execution_count": 8,
     "metadata": {},
     "output_type": "execute_result"
    }
   ],
   "source": [
    "#Type of new data frame i.e make dataframe->dataseries\n",
    "type(plastic)"
   ]
  },
  {
   "cell_type": "code",
   "execution_count": 9,
   "metadata": {},
   "outputs": [
    {
     "data": {
      "text/plain": [
       "count      60.000000\n",
       "mean     1162.366667\n",
       "std       266.431469\n",
       "min       697.000000\n",
       "25%       947.750000\n",
       "50%      1148.000000\n",
       "75%      1362.500000\n",
       "max      1637.000000\n",
       "Name: Sales, dtype: float64"
      ]
     },
     "execution_count": 9,
     "metadata": {},
     "output_type": "execute_result"
    }
   ],
   "source": [
    "#Showing general statistical description\n",
    "plastic.describe()"
   ]
  },
  {
   "cell_type": "code",
   "execution_count": 10,
   "metadata": {},
   "outputs": [
    {
     "data": {
      "text/plain": [
       "<matplotlib.axes._subplots.AxesSubplot at 0x29b8bc53488>"
      ]
     },
     "execution_count": 10,
     "metadata": {},
     "output_type": "execute_result"
    },
    {
     "data": {
      "image/png": "[encoded data removed]",
      "text/plain": [
       "<Figure size 720x432 with 1 Axes>"
      ]
     },
     "metadata": {
      "needs_background": "light"
     },
     "output_type": "display_data"
    }
   ],
   "source": [
    "#TimeSeries plot\n",
    "plastic.plot()"
   ]
  },
  {
   "cell_type": "code",
   "execution_count": 11,
   "metadata": {},
   "outputs": [
    {
     "data": {
      "text/plain": [
       "<matplotlib.axes._subplots.AxesSubplot at 0x29b8c6edb88>"
      ]
     },
     "execution_count": 11,
     "metadata": {},
     "output_type": "execute_result"
    },
    {
     "data": {
      "image/png": "[encoded data removed]",
      "text/plain": [
       "<Figure size 720x432 with 1 Axes>"
      ]
     },
     "metadata": {
      "needs_background": "light"
     },
     "output_type": "display_data"
    }
   ],
   "source": [
    "#Creating Moving average #1st analysis of timeseries\n",
    "plastic_MA=plastic.rolling(window=10).mean()\n",
    "plastic_MA.plot()"
   ]
  },
  {
   "cell_type": "code",
   "execution_count": 12,
   "metadata": {},
   "outputs": [
    {
     "data": {
      "text/html": [
       "<div>\n",
       "<style scoped>\n",
       "    .dataframe tbody tr th:only-of-type {\n",
       "        vertical-align: middle;\n",
       "    }\n",
       "\n",
       "    .dataframe tbody tr th {\n",
       "        vertical-align: top;\n",
       "    }\n",
       "\n",
       "    .dataframe thead th {\n",
       "        text-align: right;\n",
       "    }\n",
       "</style>\n",
       "<table border=\"1\" class=\"dataframe\">\n",
       "  <thead>\n",
       "    <tr style=\"text-align: right;\">\n",
       "      <th></th>\n",
       "      <th>Sales</th>\n",
       "      <th>Sales</th>\n",
       "    </tr>\n",
       "    <tr>\n",
       "      <th>Month</th>\n",
       "      <th></th>\n",
       "      <th></th>\n",
       "    </tr>\n",
       "  </thead>\n",
       "  <tbody>\n",
       "    <tr>\n",
       "      <th>2049-01-01</th>\n",
       "      <td>742</td>\n",
       "      <td>NaN</td>\n",
       "    </tr>\n",
       "    <tr>\n",
       "      <th>2049-02-01</th>\n",
       "      <td>697</td>\n",
       "      <td>742.0</td>\n",
       "    </tr>\n",
       "    <tr>\n",
       "      <th>2049-03-01</th>\n",
       "      <td>776</td>\n",
       "      <td>697.0</td>\n",
       "    </tr>\n",
       "    <tr>\n",
       "      <th>2049-04-01</th>\n",
       "      <td>898</td>\n",
       "      <td>776.0</td>\n",
       "    </tr>\n",
       "    <tr>\n",
       "      <th>2049-05-01</th>\n",
       "      <td>1030</td>\n",
       "      <td>898.0</td>\n",
       "    </tr>\n",
       "  </tbody>\n",
       "</table>\n",
       "</div>"
      ],
      "text/plain": [
       "            Sales  Sales\n",
       "Month                   \n",
       "2049-01-01    742    NaN\n",
       "2049-02-01    697  742.0\n",
       "2049-03-01    776  697.0\n",
       "2049-04-01    898  776.0\n",
       "2049-05-01   1030  898.0"
      ]
     },
     "execution_count": 12,
     "metadata": {},
     "output_type": "execute_result"
    }
   ],
   "source": [
    "#Naive or base model is created\n",
    "plastic_base=pd.concat([plastic, plastic.shift(1)],axis=1)\n",
    "plastic_base.head()"
   ]
  },
  {
   "cell_type": "code",
   "execution_count": 13,
   "metadata": {},
   "outputs": [],
   "source": [
    "#Renaiming Sales cols with actual & forecast sales\n",
    "plastic_base.columns=['actual_sales',  'forecast_sales']"
   ]
  },
  {
   "cell_type": "code",
   "execution_count": 14,
   "metadata": {},
   "outputs": [
    {
     "data": {
      "text/html": [
       "<div>\n",
       "<style scoped>\n",
       "    .dataframe tbody tr th:only-of-type {\n",
       "        vertical-align: middle;\n",
       "    }\n",
       "\n",
       "    .dataframe tbody tr th {\n",
       "        vertical-align: top;\n",
       "    }\n",
       "\n",
       "    .dataframe thead th {\n",
       "        text-align: right;\n",
       "    }\n",
       "</style>\n",
       "<table border=\"1\" class=\"dataframe\">\n",
       "  <thead>\n",
       "    <tr style=\"text-align: right;\">\n",
       "      <th></th>\n",
       "      <th>actual_sales</th>\n",
       "      <th>forecast_sales</th>\n",
       "    </tr>\n",
       "    <tr>\n",
       "      <th>Month</th>\n",
       "      <th></th>\n",
       "      <th></th>\n",
       "    </tr>\n",
       "  </thead>\n",
       "  <tbody>\n",
       "    <tr>\n",
       "      <th>2049-01-01</th>\n",
       "      <td>742</td>\n",
       "      <td>NaN</td>\n",
       "    </tr>\n",
       "    <tr>\n",
       "      <th>2049-02-01</th>\n",
       "      <td>697</td>\n",
       "      <td>742.0</td>\n",
       "    </tr>\n",
       "    <tr>\n",
       "      <th>2049-03-01</th>\n",
       "      <td>776</td>\n",
       "      <td>697.0</td>\n",
       "    </tr>\n",
       "    <tr>\n",
       "      <th>2049-04-01</th>\n",
       "      <td>898</td>\n",
       "      <td>776.0</td>\n",
       "    </tr>\n",
       "    <tr>\n",
       "      <th>2049-05-01</th>\n",
       "      <td>1030</td>\n",
       "      <td>898.0</td>\n",
       "    </tr>\n",
       "  </tbody>\n",
       "</table>\n",
       "</div>"
      ],
      "text/plain": [
       "            actual_sales  forecast_sales\n",
       "Month                                   \n",
       "2049-01-01           742             NaN\n",
       "2049-02-01           697           742.0\n",
       "2049-03-01           776           697.0\n",
       "2049-04-01           898           776.0\n",
       "2049-05-01          1030           898.0"
      ]
     },
     "execution_count": 14,
     "metadata": {},
     "output_type": "execute_result"
    }
   ],
   "source": [
    "#Top 5 most records\n",
    "plastic_base.head()"
   ]
  },
  {
   "cell_type": "code",
   "execution_count": 15,
   "metadata": {},
   "outputs": [],
   "source": [
    "#Drop NaN value records\n",
    "plastic_base.dropna(inplace=True)"
   ]
  },
  {
   "cell_type": "code",
   "execution_count": 16,
   "metadata": {},
   "outputs": [
    {
     "data": {
      "text/html": [
       "<div>\n",
       "<style scoped>\n",
       "    .dataframe tbody tr th:only-of-type {\n",
       "        vertical-align: middle;\n",
       "    }\n",
       "\n",
       "    .dataframe tbody tr th {\n",
       "        vertical-align: top;\n",
       "    }\n",
       "\n",
       "    .dataframe thead th {\n",
       "        text-align: right;\n",
       "    }\n",
       "</style>\n",
       "<table border=\"1\" class=\"dataframe\">\n",
       "  <thead>\n",
       "    <tr style=\"text-align: right;\">\n",
       "      <th></th>\n",
       "      <th>actual_sales</th>\n",
       "      <th>forecast_sales</th>\n",
       "    </tr>\n",
       "    <tr>\n",
       "      <th>Month</th>\n",
       "      <th></th>\n",
       "      <th></th>\n",
       "    </tr>\n",
       "  </thead>\n",
       "  <tbody>\n",
       "    <tr>\n",
       "      <th>2049-02-01</th>\n",
       "      <td>697</td>\n",
       "      <td>742.0</td>\n",
       "    </tr>\n",
       "    <tr>\n",
       "      <th>2049-03-01</th>\n",
       "      <td>776</td>\n",
       "      <td>697.0</td>\n",
       "    </tr>\n",
       "    <tr>\n",
       "      <th>2049-04-01</th>\n",
       "      <td>898</td>\n",
       "      <td>776.0</td>\n",
       "    </tr>\n",
       "    <tr>\n",
       "      <th>2049-05-01</th>\n",
       "      <td>1030</td>\n",
       "      <td>898.0</td>\n",
       "    </tr>\n",
       "    <tr>\n",
       "      <th>2049-06-01</th>\n",
       "      <td>1107</td>\n",
       "      <td>1030.0</td>\n",
       "    </tr>\n",
       "  </tbody>\n",
       "</table>\n",
       "</div>"
      ],
      "text/plain": [
       "            actual_sales  forecast_sales\n",
       "Month                                   \n",
       "2049-02-01           697           742.0\n",
       "2049-03-01           776           697.0\n",
       "2049-04-01           898           776.0\n",
       "2049-05-01          1030           898.0\n",
       "2049-06-01          1107          1030.0"
      ]
     },
     "execution_count": 16,
     "metadata": {},
     "output_type": "execute_result"
    }
   ],
   "source": [
    "#Show records of data\n",
    "plastic_base.head()"
   ]
  },
  {
   "cell_type": "code",
   "execution_count": 17,
   "metadata": {},
   "outputs": [],
   "source": [
    "#Import sklearn libraies & numpy\n",
    "from sklearn.metrics import mean_squared_error\n",
    "import numpy as np"
   ]
  },
  {
   "cell_type": "code",
   "execution_count": 18,
   "metadata": {},
   "outputs": [
    {
     "data": {
      "text/plain": [
       "15722.152542372882"
      ]
     },
     "execution_count": 18,
     "metadata": {},
     "output_type": "execute_result"
    }
   ],
   "source": [
    "#Finding MSE \n",
    "plastic_error=mean_squared_error(plastic_base.actual_sales,plastic_base.forecast_sales)\n",
    "plastic_error"
   ]
  },
  {
   "cell_type": "code",
   "execution_count": 19,
   "metadata": {},
   "outputs": [
    {
     "data": {
      "text/plain": [
       "125.38800796875626"
      ]
     },
     "execution_count": 19,
     "metadata": {},
     "output_type": "execute_result"
    }
   ],
   "source": [
    "#Finding RMSE\n",
    "np.sqrt(plastic_error)"
   ]
  },
  {
   "cell_type": "code",
   "execution_count": 20,
   "metadata": {},
   "outputs": [],
   "source": [
    "#Import ACF, PACF timeseriasplots lib.\n",
    "from statsmodels.graphics.tsaplots import plot_acf, plot_pacf"
   ]
  },
  {
   "cell_type": "code",
   "execution_count": 21,
   "metadata": {
    "scrolled": true
   },
   "outputs": [
    {
     "data": {
      "image/png": "[encoded data removed]",
      "text/plain": [
       "<Figure size 720x432 with 1 Axes>"
      ]
     },
     "execution_count": 21,
     "metadata": {},
     "output_type": "execute_result"
    },
    {
     "data": {
      "image/png": "[encoded data removed]",
      "text/plain": [
       "<Figure size 720x432 with 1 Axes>"
      ]
     },
     "metadata": {
      "needs_background": "light"
     },
     "output_type": "display_data"
    }
   ],
   "source": [
    "#ACF plot of data\n",
    "plot_acf(plastic)"
   ]
  },
  {
   "cell_type": "code",
   "execution_count": 22,
   "metadata": {},
   "outputs": [
    {
     "data": {
      "image/png": "[encoded data removed]",
      "text/plain": [
       "<Figure size 720x432 with 1 Axes>"
      ]
     },
     "execution_count": 22,
     "metadata": {},
     "output_type": "execute_result"
    },
    {
     "data": {
      "image/png": "[encoded data removed]",
      "text/plain": [
       "<Figure size 720x432 with 1 Axes>"
      ]
     },
     "metadata": {
      "needs_background": "light"
     },
     "output_type": "display_data"
    }
   ],
   "source": [
    "#Plot PACF (q->2, p->2, d->0-2)\n",
    "plot_pacf(plastic)"
   ]
  },
  {
   "cell_type": "code",
   "execution_count": 23,
   "metadata": {},
   "outputs": [],
   "source": [
    "#Importing ARIMA model\n",
    "from statsmodels.tsa.arima_model import ARIMA"
   ]
  },
  {
   "cell_type": "code",
   "execution_count": 24,
   "metadata": {},
   "outputs": [],
   "source": [
    "#Dividing data into train & test with below slicing\n",
    "plastic_train=plastic[0:50]\n",
    "plastic_test=plastic[50:60]"
   ]
  },
  {
   "cell_type": "code",
   "execution_count": 25,
   "metadata": {},
   "outputs": [],
   "source": [
    "#Restrict showing warnings\n",
    "import warnings\n",
    "warnings.filterwarnings('ignore')"
   ]
  },
  {
   "cell_type": "code",
   "execution_count": 26,
   "metadata": {
    "scrolled": true
   },
   "outputs": [],
   "source": [
    "#Trining ARIMA model with given order p,d,q\n",
    "plastic_model=ARIMA(plastic_train, order=(1,0,1)) #2,1,2"
   ]
  },
  {
   "cell_type": "code",
   "execution_count": 27,
   "metadata": {},
   "outputs": [],
   "source": [
    "#Fitting model\n",
    "plastic_model_fit=plastic_model.fit()"
   ]
  },
  {
   "cell_type": "code",
   "execution_count": 28,
   "metadata": {},
   "outputs": [
    {
     "data": {
      "text/plain": [
       "604.0837796444443"
      ]
     },
     "execution_count": 28,
     "metadata": {},
     "output_type": "execute_result"
    }
   ],
   "source": [
    "#The Akaike Information Critera (AIC)\n",
    "plastic_model_fit.aic"
   ]
  },
  {
   "cell_type": "code",
   "execution_count": 29,
   "metadata": {},
   "outputs": [
    {
     "data": {
      "text/plain": [
       "array([1083.38476719, 1084.18730938, 1084.84647612, 1085.38788166,\n",
       "       1085.83256423, 1086.19780354, 1086.49779227, 1086.74418752,\n",
       "       1086.94656387, 1087.11278535])"
      ]
     },
     "execution_count": 29,
     "metadata": {},
     "output_type": "execute_result"
    }
   ],
   "source": [
    "#Forecast data\n",
    "plastic_forecast=plastic_model_fit.forecast(steps=10)[0]\n",
    "plastic_forecast"
   ]
  },
  {
   "cell_type": "markdown",
   "metadata": {},
   "source": [
    "#### 10 Forecasted values of quarters"
   ]
  },
  {
   "cell_type": "code",
   "execution_count": 30,
   "metadata": {},
   "outputs": [
    {
     "data": {
      "text/plain": [
       "367.94109287621785"
      ]
     },
     "execution_count": 30,
     "metadata": {},
     "output_type": "execute_result"
    }
   ],
   "source": [
    "#RMSE error\n",
    "np.sqrt(mean_squared_error(plastic_test,plastic_forecast))"
   ]
  },
  {
   "cell_type": "code",
   "execution_count": 31,
   "metadata": {},
   "outputs": [],
   "source": [
    "#Testing p,d,q values on this range for Auto finding corect or best order\n",
    "p_values=range(0,5)\n",
    "d_values=range(0,3)\n",
    "q_values=range(0,5)"
   ]
  },
  {
   "cell_type": "code",
   "execution_count": 34,
   "metadata": {},
   "outputs": [
    {
     "name": "stdout",
     "output_type": "stream",
     "text": [
      "ARIMA(0, 0, 1) MSE=99001.70\n",
      "ARIMA(0, 0, 4) MSE=98004.70\n",
      "ARIMA(0, 1, 1) MSE=138011.40\n",
      "ARIMA(0, 1, 2) MSE=155464.27\n",
      "ARIMA(0, 1, 3) MSE=143862.01\n",
      "ARIMA(0, 1, 4) MSE=76540.17\n",
      "ARIMA(0, 2, 1) MSE=167331.45\n",
      "ARIMA(0, 2, 2) MSE=165091.03\n",
      "ARIMA(0, 2, 3) MSE=162060.86\n",
      "ARIMA(0, 2, 4) MSE=146281.74\n",
      "ARIMA(1, 0, 0) MSE=167589.20\n",
      "ARIMA(1, 0, 1) MSE=136769.74\n",
      "ARIMA(1, 0, 2) MSE=155015.50\n",
      "ARIMA(1, 0, 3) MSE=132737.62\n",
      "ARIMA(1, 0, 4) MSE=96861.89\n",
      "ARIMA(1, 1, 0) MSE=168174.57\n",
      "ARIMA(1, 2, 0) MSE=167284.99\n",
      "ARIMA(1, 2, 1) MSE=166940.33\n",
      "ARIMA(1, 2, 2) MSE=160274.35\n",
      "ARIMA(1, 2, 3) MSE=155645.02\n",
      "ARIMA(1, 2, 4) MSE=139342.70\n",
      "ARIMA(2, 0, 0) MSE=156097.47\n",
      "ARIMA(2, 0, 1) MSE=174998.98\n",
      "ARIMA(2, 0, 2) MSE=175180.47\n",
      "ARIMA(2, 0, 3) MSE=210112.41\n",
      "ARIMA(2, 0, 4) MSE=205830.97\n",
      "ARIMA(2, 1, 0) MSE=141697.33\n",
      "ARIMA(2, 1, 2) MSE=144342.14\n",
      "ARIMA(2, 2, 0) MSE=166674.28\n",
      "ARIMA(2, 2, 1) MSE=167061.93\n",
      "ARIMA(2, 2, 2) MSE=129865.01\n",
      "ARIMA(2, 2, 4) MSE=104094.22\n",
      "ARIMA(3, 0, 0) MSE=174731.53\n",
      "ARIMA(3, 0, 1) MSE=175076.72\n",
      "ARIMA(3, 0, 2) MSE=158936.96\n",
      "ARIMA(3, 0, 3) MSE=173102.15\n",
      "ARIMA(3, 0, 4) MSE=212339.59\n",
      "ARIMA(3, 1, 0) MSE=130486.32\n",
      "ARIMA(3, 2, 0) MSE=166994.28\n",
      "ARIMA(3, 2, 1) MSE=135309.68\n",
      "ARIMA(3, 2, 3) MSE=131074.41\n",
      "ARIMA(3, 2, 4) MSE=116301.95\n",
      "ARIMA(4, 0, 0) MSE=175177.03\n",
      "ARIMA(4, 0, 1) MSE=173687.39\n",
      "ARIMA(4, 0, 2) MSE=140717.48\n",
      "ARIMA(4, 0, 3) MSE=266385.08\n",
      "ARIMA(4, 1, 0) MSE=121447.95\n",
      "ARIMA(4, 2, 0) MSE=152190.65\n",
      "ARIMA(4, 2, 1) MSE=124462.21\n"
     ]
    }
   ],
   "source": [
    "#Finding MSE using ARIMA model with loop functions\n",
    "for p in p_values:\n",
    "    for d in d_values:\n",
    "        for q in q_values:\n",
    "            order = (p,d,q)\n",
    "            train,test=plastic[0:50],plastic[50:60]\n",
    "            predictions=list()\n",
    "            for i in range(len(test)):\n",
    "                try:\n",
    "                    model=ARIMA(train,order)\n",
    "                    model_fit=model.fit(disp=0)\n",
    "                    pred_y=model_fit.forecast()[0]\n",
    "                    predictions.append(pred_y)\n",
    "                    error=mean_squared_error(test,predictions)\n",
    "                    print('ARIMA%s MSE=%.2f'%(order,error))\n",
    "                except:\n",
    "                    continue"
   ]
  },
  {
   "cell_type": "markdown",
   "metadata": {},
   "source": [
    "#Various methods of Data Transformation to achieve Stationarity has not applied as: log10 , loge , cube, cube root, exponential decay\n",
    "#Not checked seperately AR & MA Model"
   ]
  },
  {
   "cell_type": "markdown",
   "metadata": {},
   "source": [
    "### I prefer model: ARIMA(0, 1, 4) MSE=76540.17, RMSE=276.65-->This is very less than base model."
   ]
  }
 ],
 "metadata": {
  "kernelspec": {
   "display_name": "Python 3",
   "language": "python",
   "name": "python3"
  },
  "language_info": {
   "codemirror_mode": {
    "name": "ipython",
    "version": 3
   },
   "file_extension": ".py",
   "mimetype": "text/x-python",
   "name": "python",
   "nbconvert_exporter": "python",
   "pygments_lexer": "ipython3",
   "version": "3.7.6"
  }
 },
 "nbformat": 4,
 "nbformat_minor": 4
}
