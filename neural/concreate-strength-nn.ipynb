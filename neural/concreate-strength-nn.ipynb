{
 "cells": [
  {
   "cell_type": "markdown",
   "metadata": {},
   "source": [
    "# Prepare a model for strength of concrete data using Neural Networks\n",
    "#dataset:concrete.csv"
   ]
  },
  {
   "cell_type": "code",
   "execution_count": 1,
   "metadata": {},
   "outputs": [],
   "source": [
    "#Importing necessary libraries\n",
    "import pandas as pd\n",
    "import numpy as np\n",
    "\n",
    "import warnings\n",
    "warnings.simplefilter('ignore')\n",
    "\n",
    "import tensorflow as tf\n",
    "from tensorflow import keras"
   ]
  },
  {
   "cell_type": "code",
   "execution_count": 2,
   "metadata": {},
   "outputs": [
    {
     "name": "stderr",
     "output_type": "stream",
     "text": [
      "Using TensorFlow backend.\n"
     ]
    }
   ],
   "source": [
    "# Importing necessary models for implementation of ANN\n",
    "from keras.models import Sequential\n",
    "from keras.layers import Dense # Activation,Layer,Lambda"
   ]
  },
  {
   "cell_type": "code",
   "execution_count": 3,
   "metadata": {},
   "outputs": [],
   "source": [
    "# Reading the dataset using pandas function\n",
    "df_before = pd.read_csv(\"C:\\\\Users\\\\Raja\\\\Downloads\\\\assignments\\\\neural\\\\concrete.csv\")"
   ]
  },
  {
   "cell_type": "code",
   "execution_count": 4,
   "metadata": {},
   "outputs": [
    {
     "data": {
      "text/html": [
       "<div>\n",
       "<style scoped>\n",
       "    .dataframe tbody tr th:only-of-type {\n",
       "        vertical-align: middle;\n",
       "    }\n",
       "\n",
       "    .dataframe tbody tr th {\n",
       "        vertical-align: top;\n",
       "    }\n",
       "\n",
       "    .dataframe thead th {\n",
       "        text-align: right;\n",
       "    }\n",
       "</style>\n",
       "<table border=\"1\" class=\"dataframe\">\n",
       "  <thead>\n",
       "    <tr style=\"text-align: right;\">\n",
       "      <th></th>\n",
       "      <th>cement</th>\n",
       "      <th>slag</th>\n",
       "      <th>ash</th>\n",
       "      <th>water</th>\n",
       "      <th>superplastic</th>\n",
       "      <th>coarseagg</th>\n",
       "      <th>fineagg</th>\n",
       "      <th>age</th>\n",
       "      <th>strength</th>\n",
       "    </tr>\n",
       "  </thead>\n",
       "  <tbody>\n",
       "    <tr>\n",
       "      <th>0</th>\n",
       "      <td>141.3</td>\n",
       "      <td>212.0</td>\n",
       "      <td>0.0</td>\n",
       "      <td>203.5</td>\n",
       "      <td>0.0</td>\n",
       "      <td>971.8</td>\n",
       "      <td>748.5</td>\n",
       "      <td>28</td>\n",
       "      <td>29.89</td>\n",
       "    </tr>\n",
       "    <tr>\n",
       "      <th>1</th>\n",
       "      <td>168.9</td>\n",
       "      <td>42.2</td>\n",
       "      <td>124.3</td>\n",
       "      <td>158.3</td>\n",
       "      <td>10.8</td>\n",
       "      <td>1080.8</td>\n",
       "      <td>796.2</td>\n",
       "      <td>14</td>\n",
       "      <td>23.51</td>\n",
       "    </tr>\n",
       "    <tr>\n",
       "      <th>2</th>\n",
       "      <td>250.0</td>\n",
       "      <td>0.0</td>\n",
       "      <td>95.7</td>\n",
       "      <td>187.4</td>\n",
       "      <td>5.5</td>\n",
       "      <td>956.9</td>\n",
       "      <td>861.2</td>\n",
       "      <td>28</td>\n",
       "      <td>29.22</td>\n",
       "    </tr>\n",
       "    <tr>\n",
       "      <th>3</th>\n",
       "      <td>266.0</td>\n",
       "      <td>114.0</td>\n",
       "      <td>0.0</td>\n",
       "      <td>228.0</td>\n",
       "      <td>0.0</td>\n",
       "      <td>932.0</td>\n",
       "      <td>670.0</td>\n",
       "      <td>28</td>\n",
       "      <td>45.85</td>\n",
       "    </tr>\n",
       "    <tr>\n",
       "      <th>4</th>\n",
       "      <td>154.8</td>\n",
       "      <td>183.4</td>\n",
       "      <td>0.0</td>\n",
       "      <td>193.3</td>\n",
       "      <td>9.1</td>\n",
       "      <td>1047.4</td>\n",
       "      <td>696.7</td>\n",
       "      <td>28</td>\n",
       "      <td>18.29</td>\n",
       "    </tr>\n",
       "  </tbody>\n",
       "</table>\n",
       "</div>"
      ],
      "text/plain": [
       "   cement   slag    ash  water  superplastic  coarseagg  fineagg  age  \\\n",
       "0   141.3  212.0    0.0  203.5           0.0      971.8    748.5   28   \n",
       "1   168.9   42.2  124.3  158.3          10.8     1080.8    796.2   14   \n",
       "2   250.0    0.0   95.7  187.4           5.5      956.9    861.2   28   \n",
       "3   266.0  114.0    0.0  228.0           0.0      932.0    670.0   28   \n",
       "4   154.8  183.4    0.0  193.3           9.1     1047.4    696.7   28   \n",
       "\n",
       "   strength  \n",
       "0     29.89  \n",
       "1     23.51  \n",
       "2     29.22  \n",
       "3     45.85  \n",
       "4     18.29  "
      ]
     },
     "execution_count": 4,
     "metadata": {},
     "output_type": "execute_result"
    }
   ],
   "source": [
    "# Showing five top records\n",
    "df_before.head()"
   ]
  },
  {
   "cell_type": "code",
   "execution_count": 5,
   "metadata": {},
   "outputs": [
    {
     "data": {
      "text/plain": [
       "(1030, 9)"
      ]
     },
     "execution_count": 5,
     "metadata": {},
     "output_type": "execute_result"
    }
   ],
   "source": [
    "# Showing the shape of dataframe i.e. rows x cols\n",
    "df_before.shape"
   ]
  },
  {
   "cell_type": "code",
   "execution_count": 6,
   "metadata": {},
   "outputs": [
    {
     "data": {
      "text/html": [
       "<div>\n",
       "<style scoped>\n",
       "    .dataframe tbody tr th:only-of-type {\n",
       "        vertical-align: middle;\n",
       "    }\n",
       "\n",
       "    .dataframe tbody tr th {\n",
       "        vertical-align: top;\n",
       "    }\n",
       "\n",
       "    .dataframe thead th {\n",
       "        text-align: right;\n",
       "    }\n",
       "</style>\n",
       "<table border=\"1\" class=\"dataframe\">\n",
       "  <thead>\n",
       "    <tr style=\"text-align: right;\">\n",
       "      <th></th>\n",
       "      <th>cement</th>\n",
       "      <th>slag</th>\n",
       "      <th>ash</th>\n",
       "      <th>water</th>\n",
       "      <th>superplastic</th>\n",
       "      <th>coarseagg</th>\n",
       "      <th>fineagg</th>\n",
       "      <th>age</th>\n",
       "      <th>strength</th>\n",
       "    </tr>\n",
       "  </thead>\n",
       "  <tbody>\n",
       "    <tr>\n",
       "      <th>count</th>\n",
       "      <td>1030.000000</td>\n",
       "      <td>1030.000000</td>\n",
       "      <td>1030.000000</td>\n",
       "      <td>1030.000000</td>\n",
       "      <td>1030.000000</td>\n",
       "      <td>1030.000000</td>\n",
       "      <td>1030.000000</td>\n",
       "      <td>1030.000000</td>\n",
       "      <td>1030.000000</td>\n",
       "    </tr>\n",
       "    <tr>\n",
       "      <th>mean</th>\n",
       "      <td>281.167864</td>\n",
       "      <td>73.895825</td>\n",
       "      <td>54.188350</td>\n",
       "      <td>181.567282</td>\n",
       "      <td>6.204660</td>\n",
       "      <td>972.918932</td>\n",
       "      <td>773.580485</td>\n",
       "      <td>45.662136</td>\n",
       "      <td>35.817961</td>\n",
       "    </tr>\n",
       "    <tr>\n",
       "      <th>std</th>\n",
       "      <td>104.506364</td>\n",
       "      <td>86.279342</td>\n",
       "      <td>63.997004</td>\n",
       "      <td>21.354219</td>\n",
       "      <td>5.973841</td>\n",
       "      <td>77.753954</td>\n",
       "      <td>80.175980</td>\n",
       "      <td>63.169912</td>\n",
       "      <td>16.705742</td>\n",
       "    </tr>\n",
       "    <tr>\n",
       "      <th>min</th>\n",
       "      <td>102.000000</td>\n",
       "      <td>0.000000</td>\n",
       "      <td>0.000000</td>\n",
       "      <td>121.800000</td>\n",
       "      <td>0.000000</td>\n",
       "      <td>801.000000</td>\n",
       "      <td>594.000000</td>\n",
       "      <td>1.000000</td>\n",
       "      <td>2.330000</td>\n",
       "    </tr>\n",
       "    <tr>\n",
       "      <th>25%</th>\n",
       "      <td>192.375000</td>\n",
       "      <td>0.000000</td>\n",
       "      <td>0.000000</td>\n",
       "      <td>164.900000</td>\n",
       "      <td>0.000000</td>\n",
       "      <td>932.000000</td>\n",
       "      <td>730.950000</td>\n",
       "      <td>7.000000</td>\n",
       "      <td>23.710000</td>\n",
       "    </tr>\n",
       "    <tr>\n",
       "      <th>50%</th>\n",
       "      <td>272.900000</td>\n",
       "      <td>22.000000</td>\n",
       "      <td>0.000000</td>\n",
       "      <td>185.000000</td>\n",
       "      <td>6.400000</td>\n",
       "      <td>968.000000</td>\n",
       "      <td>779.500000</td>\n",
       "      <td>28.000000</td>\n",
       "      <td>34.445000</td>\n",
       "    </tr>\n",
       "    <tr>\n",
       "      <th>75%</th>\n",
       "      <td>350.000000</td>\n",
       "      <td>142.950000</td>\n",
       "      <td>118.300000</td>\n",
       "      <td>192.000000</td>\n",
       "      <td>10.200000</td>\n",
       "      <td>1029.400000</td>\n",
       "      <td>824.000000</td>\n",
       "      <td>56.000000</td>\n",
       "      <td>46.135000</td>\n",
       "    </tr>\n",
       "    <tr>\n",
       "      <th>max</th>\n",
       "      <td>540.000000</td>\n",
       "      <td>359.400000</td>\n",
       "      <td>200.100000</td>\n",
       "      <td>247.000000</td>\n",
       "      <td>32.200000</td>\n",
       "      <td>1145.000000</td>\n",
       "      <td>992.600000</td>\n",
       "      <td>365.000000</td>\n",
       "      <td>82.600000</td>\n",
       "    </tr>\n",
       "  </tbody>\n",
       "</table>\n",
       "</div>"
      ],
      "text/plain": [
       "            cement         slag          ash        water  superplastic  \\\n",
       "count  1030.000000  1030.000000  1030.000000  1030.000000   1030.000000   \n",
       "mean    281.167864    73.895825    54.188350   181.567282      6.204660   \n",
       "std     104.506364    86.279342    63.997004    21.354219      5.973841   \n",
       "min     102.000000     0.000000     0.000000   121.800000      0.000000   \n",
       "25%     192.375000     0.000000     0.000000   164.900000      0.000000   \n",
       "50%     272.900000    22.000000     0.000000   185.000000      6.400000   \n",
       "75%     350.000000   142.950000   118.300000   192.000000     10.200000   \n",
       "max     540.000000   359.400000   200.100000   247.000000     32.200000   \n",
       "\n",
       "         coarseagg      fineagg          age     strength  \n",
       "count  1030.000000  1030.000000  1030.000000  1030.000000  \n",
       "mean    972.918932   773.580485    45.662136    35.817961  \n",
       "std      77.753954    80.175980    63.169912    16.705742  \n",
       "min     801.000000   594.000000     1.000000     2.330000  \n",
       "25%     932.000000   730.950000     7.000000    23.710000  \n",
       "50%     968.000000   779.500000    28.000000    34.445000  \n",
       "75%    1029.400000   824.000000    56.000000    46.135000  \n",
       "max    1145.000000   992.600000   365.000000    82.600000  "
      ]
     },
     "execution_count": 6,
     "metadata": {},
     "output_type": "execute_result"
    }
   ],
   "source": [
    "# Showing the statistiscal calculation of dataset\n",
    "df_before.describe()"
   ]
  },
  {
   "cell_type": "code",
   "execution_count": 7,
   "metadata": {},
   "outputs": [
    {
     "data": {
      "text/plain": [
       "cement          0\n",
       "slag            0\n",
       "ash             0\n",
       "water           0\n",
       "superplastic    0\n",
       "coarseagg       0\n",
       "fineagg         0\n",
       "age             0\n",
       "strength        0\n",
       "dtype: int64"
      ]
     },
     "execution_count": 7,
     "metadata": {},
     "output_type": "execute_result"
    }
   ],
   "source": [
    "# Checking the null values in data\n",
    "df_before.isnull().sum()"
   ]
  },
  {
   "cell_type": "code",
   "execution_count": 8,
   "metadata": {},
   "outputs": [
    {
     "name": "stdout",
     "output_type": "stream",
     "text": [
      "<class 'pandas.core.frame.DataFrame'>\n",
      "RangeIndex: 1030 entries, 0 to 1029\n",
      "Data columns (total 9 columns):\n",
      " #   Column        Non-Null Count  Dtype  \n",
      "---  ------        --------------  -----  \n",
      " 0   cement        1030 non-null   float64\n",
      " 1   slag          1030 non-null   float64\n",
      " 2   ash           1030 non-null   float64\n",
      " 3   water         1030 non-null   float64\n",
      " 4   superplastic  1030 non-null   float64\n",
      " 5   coarseagg     1030 non-null   float64\n",
      " 6   fineagg       1030 non-null   float64\n",
      " 7   age           1030 non-null   int64  \n",
      " 8   strength      1030 non-null   float64\n",
      "dtypes: float64(8), int64(1)\n",
      "memory usage: 72.5 KB\n"
     ]
    }
   ],
   "source": [
    "# Showing general info about dataset as Columns, Counts & Dtypes\n",
    "df_before.info()"
   ]
  },
  {
   "cell_type": "code",
   "execution_count": 9,
   "metadata": {},
   "outputs": [
    {
     "data": {
      "text/plain": [
       "array([29.89, 23.51, 29.22, 45.85, 18.29, 21.86, 15.75, 36.64, 21.65,\n",
       "       28.99, 36.35,  6.94, 27.92, 26.26, 23.89, 49.97, 30.08, 44.86,\n",
       "       15.04, 25.1 , 13.36, 21.92, 20.42, 33.3 , 31.74, 45.3 , 49.19,\n",
       "       65.2 , 21.54, 33.8 , 32.04, 39.29, 23.74, 44.52, 37.91, 39.16,\n",
       "       16.88, 47.71, 17.54, 41.41, 24.28, 60.32, 37.42, 23.52, 59.2 ,\n",
       "       61.46, 17.2 , 40.68, 49.9 , 33.4 , 49.25, 39.  , 37.27, 39.3 ,\n",
       "       38.22, 20.28, 48.67, 34.57, 35.23, 42.35, 20.73, 10.38, 37.34,\n",
       "       54.9 , 41.05, 29.98, 28.63, 44.3 , 52.04, 49.8 , 11.41, 50.46,\n",
       "       28.1 , 26.92, 45.08, 36.94, 24.13, 19.42, 27.42, 39.15, 28.47,\n",
       "       31.02, 31.25, 43.06, 12.84, 32.24, 67.57, 26.31, 35.3 , 23.8 ,\n",
       "       14.59, 55.9 , 21.5 , 41.84,  4.9 , 57.23, 71.3 , 36.25, 32.96,\n",
       "       61.89, 36.8 , 53.1 , 11.98, 23.85,  9.74, 14.5 , 12.18, 38.63,\n",
       "       55.65, 12.05, 27.68, 31.35, 18.13, 12.79, 37.36, 39.4 , 29.45,\n",
       "       33.36, 16.26, 39.64, 23.79, 45.94, 61.07, 31.03, 33.19, 74.7 ,\n",
       "       62.5 , 27.77, 31.88,  9.99, 25.08, 13.22, 56.34, 43.57, 46.68,\n",
       "        6.88, 30.65, 33.72, 30.39, 37.72, 42.8 , 26.74, 32.53, 33.21,\n",
       "       55.51, 41.15, 29.59, 32.84, 33.01, 11.47, 23.84, 56.4 , 22.35,\n",
       "       55.26, 31.45, 67.7 , 60.28, 17.24, 44.42, 37.68, 35.34, 52.42,\n",
       "       57.03, 48.59, 12.47, 44.28, 48.85, 17.58, 10.03, 40.6 , 43.38,\n",
       "       14.2 , 24.48, 59.49, 63.4 ,  7.68,  9.85, 22.53, 32.88, 13.71,\n",
       "       60.95, 44.87, 77.3 , 61.99, 81.75, 30.88, 22.44, 26.77, 68.1 ,\n",
       "       52.91, 32.33, 33.95, 39.46, 25.45, 45.84, 18.03, 24.29, 29.07,\n",
       "       46.93, 59.89, 39.49, 22.93, 52.2 , 19.52, 26.97, 66.42, 11.96,\n",
       "       14.7 , 13.62, 26.94, 23.64, 24.  , 25.75, 51.72, 29.87, 35.76,\n",
       "       64.9 ,  2.33, 18.02, 69.3 , 27.83, 50.51,  6.47, 18.  ,  9.73,\n",
       "       24.58, 71.7 , 41.54, 26.2 , 52.43, 48.79, 79.3 ,  3.32, 40.15,\n",
       "       12.25, 29.23, 40.23, 34.74, 26.86, 33.27, 20.77, 67.11, 79.4 ,\n",
       "       42.29, 37.8 , 49.77, 51.73, 65.91, 15.62, 61.23, 32.72, 13.66,\n",
       "       36.97, 55.16, 12.46, 40.86, 74.5 , 33.76, 55.64, 43.58, 66.  ,\n",
       "       41.64, 43.94, 42.23, 29.72, 51.86, 12.37, 26.23, 39.38, 70.7 ,\n",
       "       56.83, 26.91, 17.6 , 37.4 , 42.13,  9.13, 37.92, 51.04, 52.12,\n",
       "       45.9 , 38.07, 55.55, 34.67, 15.42, 42.22, 19.77, 24.1 , 74.17,\n",
       "       14.8 , 13.46, 30.22, 22.14, 51.06, 31.84, 64.02, 31.54, 34.4 ,\n",
       "       44.7 , 17.96, 40.39, 25.62, 32.66, 16.89, 47.81, 31.81, 33.42,\n",
       "        7.32, 19.69, 28.3 , 52.96, 76.8 , 47.78, 33.73, 45.37, 42.03,\n",
       "       32.63, 46.24, 53.52, 50.73, 51.26, 32.1 , 17.37, 37.81, 40.93,\n",
       "        7.51, 52.5 ,  8.06, 24.92, 42.62, 23.69, 33.7 , 11.17, 46.25,\n",
       "       54.32, 26.32, 42.7 , 17.34, 33.69, 48.7 , 31.64, 35.85, 50.7 ,\n",
       "       25.97,  4.83, 35.17, 32.07, 43.89, 28.02, 25.72,  9.01, 21.95,\n",
       "       47.13, 35.96, 15.69, 32.76, 25.46, 10.73, 49.2 , 56.14, 23.08,\n",
       "       56.62, 55.5 , 30.12, 39.42, 33.09, 39.36, 37.43, 15.52, 41.68,\n",
       "        4.57, 54.6 , 24.05, 31.42, 58.61, 65.7 , 10.76, 57.22, 17.28,\n",
       "       57.6 , 54.28, 13.29, 13.82, 27.74, 74.19, 42.92, 17.22, 51.33,\n",
       "        6.9 , 15.82, 61.09, 24.24, 60.29, 48.4 , 53.39, 17.84,  8.2 ,\n",
       "       38.77, 37.44, 35.75, 31.72, 33.04, 40.56, 55.02, 45.7 , 41.24,\n",
       "       37.26, 74.99, 21.18, 38.  , 50.53, 25.37, 43.7 , 44.33, 39.23,\n",
       "       32.05, 71.99, 12.45, 38.8 , 66.78, 40.87, 73.3 , 21.06, 50.94,\n",
       "       40.06, 42.14, 25.12, 27.87, 39.84, 44.14, 64.3 , 33.49, 76.24,\n",
       "       10.54, 30.45, 13.54, 46.23, 36.99, 31.97, 52.82, 49.99, 31.65,\n",
       "       12.64, 22.9 , 29.  , 78.8 , 33.94, 39.7 ,  8.37, 25.2 , 25.18,\n",
       "       38.46, 15.09, 51.96, 15.44, 19.54, 40.66, 24.39, 35.87, 51.02,\n",
       "       14.54, 58.52, 26.06, 32.4 , 68.75, 33.12, 19.2 , 72.99, 50.77,\n",
       "       48.99, 19.93, 24.43, 47.97, 46.9 , 50.95, 58.78, 29.16,  6.81,\n",
       "       46.2 , 72.1 , 15.03, 43.73,  6.28, 47.1 , 27.66, 27.94, 47.22,\n",
       "       32.9 , 13.33, 47.4 , 25.56, 42.42, 25.57, 43.5 , 26.14, 18.28,\n",
       "       13.12, 72.3 , 50.66, 33.66, 44.03, 23.25, 55.25, 66.7 , 40.57,\n",
       "       30.57, 44.21, 61.92, 42.55, 60.2 , 56.06, 36.56,  7.75, 33.05,\n",
       "       32.25, 10.34, 74.36, 36.45, 13.52, 28.94, 24.9 , 53.72, 13.2 ,\n",
       "       11.36, 38.89, 21.82, 14.14, 33.54, 69.84, 38.6 , 56.1 , 19.11,\n",
       "       30.23, 61.86, 59.59, 55.2 , 14.84, 38.33, 27.04, 39.78, 40.76,\n",
       "       53.3 , 47.74, 43.25, 25.51, 18.91, 31.18, 29.93, 35.36, 54.38,\n",
       "       11.85, 52.3 , 57.21,  8.  , 54.1 , 14.31, 41.72, 40.71, 29.55,\n",
       "       18.75, 24.4 ,  8.49, 26.4 , 66.95, 12.54, 39.94, 55.94, 12.73,\n",
       "       39.27, 59.76, 24.85, 36.84, 11.39,  9.31, 22.72, 23.14, 11.65,\n",
       "       31.9 ,  7.84, 25.22, 20.08, 46.8 , 39.59, 13.4 , 15.05, 35.31,\n",
       "       15.07, 29.41, 24.45, 26.15, 48.15, 47.03, 33.96, 33.61, 32.82,\n",
       "       15.57, 16.28, 38.5 ,  9.87, 34.49, 11.48, 68.3 , 24.54,  9.62,\n",
       "       36.44, 14.99,  9.69, 10.35, 26.05, 37.23, 53.77, 39.06, 43.8 ,\n",
       "       42.64, 53.69, 34.29, 27.34,  7.4 , 21.16, 21.78, 30.85, 53.46,\n",
       "       22.49, 44.09, 33.  , 10.22, 13.09, 39.32, 50.08,  9.45, 79.99,\n",
       "       14.6 , 20.59, 25.73, 69.66, 18.2 , 48.97, 56.81, 19.35, 18.42,\n",
       "       21.48, 47.28, 21.07, 50.6 , 38.02, 29.79, 15.61, 29.65, 43.39,\n",
       "       21.91, 48.28, 22.75, 19.99, 36.96, 39.05, 33.06, 31.12, 20.92,\n",
       "       30.14, 44.4 , 24.5 , 71.62, 36.3 , 35.86,  4.78, 33.56, 23.35,\n",
       "       32.92, 41.37, 32.85, 35.08, 38.2 , 23.4 , 20.97, 13.18, 19.01,\n",
       "       14.64, 11.58, 56.74, 23.7 , 37.17, 32.11, 38.61, 33.02, 52.01,\n",
       "        7.72, 28.68, 59.09, 24.66, 17.57, 46.39, 31.27, 66.9 , 24.34,\n",
       "       20.87, 30.44, 29.75, 24.07, 52.44, 67.87, 39.09, 38.56, 56.61,\n",
       "       22.32,  6.27, 25.69, 61.24, 67.8 , 24.89, 47.82, 35.57, 58.8 ,\n",
       "       35.1 , 21.75, 28.8 , 30.28, 15.58, 34.9 , 14.4 , 55.83, 15.87,\n",
       "       43.01, 15.36, 22.63, 33.31, 34.77, 56.7 , 63.53, 26.85, 37.33,\n",
       "       38.7 , 73.7 , 53.9 , 53.96, 21.29, 10.09, 17.44, 39.61, 41.1 ,\n",
       "       52.83,  8.54, 38.41, 22.5 , 41.89, 44.13, 48.72, 51.43, 44.61,\n",
       "       57.92, 15.53, 66.6 , 41.16, 17.95, 39.6 , 34.56, 46.64, 27.63,\n",
       "       41.93, 56.5 , 32.77, 53.58, 28.6 , 62.05, 66.1 , 17.82, 23.22,\n",
       "       34.2 , 24.99, 39.44, 38.11, 21.6 , 34.68, 38.21, 30.96, 22.95,\n",
       "       55.6 , 15.34, 54.77, 24.44, 33.08, 67.31, 59.8 , 55.45, 27.53,\n",
       "       52.45, 16.5 , 56.63, 29.73, 31.38, 36.59, 41.67, 82.6 , 40.27,\n",
       "       42.33, 56.85, 25.48, 40.2 , 59.  , 36.15, 17.17, 44.39, 21.02,\n",
       "       21.26, 63.14, 68.5 , 13.57, 39.66, 14.94, 25.61, 44.64, 39.58,\n",
       "       25.89, 31.87, 41.94, 61.8 , 66.82, 32.01, 53.66, 21.97, 28.24,\n",
       "       40.29, 25.42, 75.5 , 25.02, 52.52, 34.24, 27.23, 39.45, 41.2 ,\n",
       "       37.96, 22.84, 80.2 , 27.22, 50.24, 16.11, 59.3 , 45.71, 12.55,\n",
       "       29.39, 62.94, 10.79,  9.56, 10.39, 41.3 , 55.06, 52.61])"
      ]
     },
     "execution_count": 9,
     "metadata": {},
     "output_type": "execute_result"
    }
   ],
   "source": [
    "# Shwoing unique values of target cols.\n",
    "df_before.strength.unique() "
   ]
  },
  {
   "cell_type": "code",
   "execution_count": 10,
   "metadata": {},
   "outputs": [],
   "source": [
    "# Importing the ploting libraries\n",
    "import matplotlib.pyplot as plt\n",
    "import seaborn as sns"
   ]
  },
  {
   "cell_type": "code",
   "execution_count": 11,
   "metadata": {},
   "outputs": [
    {
     "data": {
      "text/plain": [
       "array([[<matplotlib.axes._subplots.AxesSubplot object at 0x000001FF7F2C1688>]],\n",
       "      dtype=object)"
      ]
     },
     "execution_count": 11,
     "metadata": {},
     "output_type": "execute_result"
    },
    {
     "data": {
      "text/plain": [
       "<Figure size 1440x72 with 0 Axes>"
      ]
     },
     "metadata": {},
     "output_type": "display_data"
    },
    {
     "data": {
      "image/png": "[encoded data removed]",
      "text/plain": [
       "<Figure size 432x288 with 1 Axes>"
      ]
     },
     "metadata": {
      "needs_background": "light"
     },
     "output_type": "display_data"
    }
   ],
   "source": [
    "# Visualization of histogram plot\n",
    "fig = plt.figure(figsize=(20,1))\n",
    "df_before.hist(column=['strength'], bins = [0,10,20,30,40,50,60,70,80])"
   ]
  },
  {
   "cell_type": "code",
   "execution_count": 12,
   "metadata": {},
   "outputs": [
    {
     "data": {
      "image/png": "[encoded data removed]",
      "text/plain": [
       "<Figure size 1008x864 with 2 Axes>"
      ]
     },
     "metadata": {
      "needs_background": "light"
     },
     "output_type": "display_data"
    }
   ],
   "source": [
    "# Correlation heatmap of dataset\n",
    "def correlation_heatmap(df_before):\n",
    "    _ , ax = plt.subplots(figsize =(14, 12))\n",
    "    colormap = sns.diverging_palette(220, 10, as_cmap = True)\n",
    "    \n",
    "    _ = sns.heatmap(\n",
    "        df_before.corr(), \n",
    "        cmap = \"YlGn\",\n",
    "        square=True, \n",
    "        cbar_kws={'shrink':.9 }, \n",
    "        ax=ax,\n",
    "        annot=True, \n",
    "        linewidths=0.1,vmax=1.0, linecolor='white',\n",
    "        annot_kws={'fontsize':12 }\n",
    "    )\n",
    "    \n",
    "    plt.title('Pearson Correlation of Features', y=1.05, size=15)\n",
    "\n",
    "correlation_heatmap(df_before)"
   ]
  },
  {
   "cell_type": "markdown",
   "metadata": {},
   "source": [
    "==>Heatmap shows very clearly: deepper the green color deeper the correlationship of attributes. i.e strength~cement"
   ]
  },
  {
   "cell_type": "code",
   "execution_count": 13,
   "metadata": {},
   "outputs": [],
   "source": [
    "# Using Normalization function \n",
    "def norm_func(i):\n",
    "    x = (i-i.min())/(i.max()-i.min())\n",
    "    return (x)"
   ]
  },
  {
   "cell_type": "code",
   "execution_count": 14,
   "metadata": {},
   "outputs": [
    {
     "data": {
      "text/html": [
       "<div>\n",
       "<style scoped>\n",
       "    .dataframe tbody tr th:only-of-type {\n",
       "        vertical-align: middle;\n",
       "    }\n",
       "\n",
       "    .dataframe tbody tr th {\n",
       "        vertical-align: top;\n",
       "    }\n",
       "\n",
       "    .dataframe thead th {\n",
       "        text-align: right;\n",
       "    }\n",
       "</style>\n",
       "<table border=\"1\" class=\"dataframe\">\n",
       "  <thead>\n",
       "    <tr style=\"text-align: right;\">\n",
       "      <th></th>\n",
       "      <th>cement</th>\n",
       "      <th>slag</th>\n",
       "      <th>ash</th>\n",
       "      <th>water</th>\n",
       "      <th>superplastic</th>\n",
       "      <th>coarseagg</th>\n",
       "      <th>fineagg</th>\n",
       "      <th>age</th>\n",
       "      <th>strength</th>\n",
       "    </tr>\n",
       "  </thead>\n",
       "  <tbody>\n",
       "    <tr>\n",
       "      <th>1025</th>\n",
       "      <td>0.075342</td>\n",
       "      <td>0.000000</td>\n",
       "      <td>0.829585</td>\n",
       "      <td>0.464856</td>\n",
       "      <td>0.310559</td>\n",
       "      <td>0.465116</td>\n",
       "      <td>0.529353</td>\n",
       "      <td>0.074176</td>\n",
       "      <td>0.136539</td>\n",
       "    </tr>\n",
       "    <tr>\n",
       "      <th>1026</th>\n",
       "      <td>0.980137</td>\n",
       "      <td>0.000000</td>\n",
       "      <td>0.000000</td>\n",
       "      <td>0.159744</td>\n",
       "      <td>0.875776</td>\n",
       "      <td>0.148547</td>\n",
       "      <td>0.751882</td>\n",
       "      <td>0.005495</td>\n",
       "      <td>0.485486</td>\n",
       "    </tr>\n",
       "    <tr>\n",
       "      <th>1027</th>\n",
       "      <td>0.398174</td>\n",
       "      <td>0.322760</td>\n",
       "      <td>0.451274</td>\n",
       "      <td>0.461661</td>\n",
       "      <td>0.276398</td>\n",
       "      <td>0.200872</td>\n",
       "      <td>0.437280</td>\n",
       "      <td>0.074176</td>\n",
       "      <td>0.522611</td>\n",
       "    </tr>\n",
       "    <tr>\n",
       "      <th>1028</th>\n",
       "      <td>0.547945</td>\n",
       "      <td>0.105732</td>\n",
       "      <td>0.000000</td>\n",
       "      <td>0.848243</td>\n",
       "      <td>0.000000</td>\n",
       "      <td>0.380814</td>\n",
       "      <td>0.190667</td>\n",
       "      <td>0.739011</td>\n",
       "      <td>0.656908</td>\n",
       "    </tr>\n",
       "    <tr>\n",
       "      <th>1029</th>\n",
       "      <td>1.000000</td>\n",
       "      <td>0.000000</td>\n",
       "      <td>0.000000</td>\n",
       "      <td>0.408946</td>\n",
       "      <td>0.000000</td>\n",
       "      <td>0.941860</td>\n",
       "      <td>0.047667</td>\n",
       "      <td>0.016484</td>\n",
       "      <td>0.626386</td>\n",
       "    </tr>\n",
       "  </tbody>\n",
       "</table>\n",
       "</div>"
      ],
      "text/plain": [
       "        cement      slag       ash     water  superplastic  coarseagg  \\\n",
       "1025  0.075342  0.000000  0.829585  0.464856      0.310559   0.465116   \n",
       "1026  0.980137  0.000000  0.000000  0.159744      0.875776   0.148547   \n",
       "1027  0.398174  0.322760  0.451274  0.461661      0.276398   0.200872   \n",
       "1028  0.547945  0.105732  0.000000  0.848243      0.000000   0.380814   \n",
       "1029  1.000000  0.000000  0.000000  0.408946      0.000000   0.941860   \n",
       "\n",
       "       fineagg       age  strength  \n",
       "1025  0.529353  0.074176  0.136539  \n",
       "1026  0.751882  0.005495  0.485486  \n",
       "1027  0.437280  0.074176  0.522611  \n",
       "1028  0.190667  0.739011  0.656908  \n",
       "1029  0.047667  0.016484  0.626386  "
      ]
     },
     "execution_count": 14,
     "metadata": {},
     "output_type": "execute_result"
    }
   ],
   "source": [
    "# Normalized data frame (considering the numerical part of data)\n",
    "df_norm = norm_func(df_before.iloc[:,:])\n",
    "df_norm.tail()"
   ]
  },
  {
   "cell_type": "code",
   "execution_count": 15,
   "metadata": {},
   "outputs": [],
   "source": [
    "# Listing the dataframe columns and assigning in column_names\n",
    "column_names = list(df_before.columns)"
   ]
  },
  {
   "cell_type": "code",
   "execution_count": 16,
   "metadata": {},
   "outputs": [
    {
     "data": {
      "text/plain": [
       "['cement',\n",
       " 'slag',\n",
       " 'ash',\n",
       " 'water',\n",
       " 'superplastic',\n",
       " 'coarseagg',\n",
       " 'fineagg',\n",
       " 'age']"
      ]
     },
     "execution_count": 16,
     "metadata": {},
     "output_type": "execute_result"
    }
   ],
   "source": [
    "# Forming the predictors i.e independent variables\n",
    "predictors = column_names[0:8]\n",
    "predictors"
   ]
  },
  {
   "cell_type": "code",
   "execution_count": 17,
   "metadata": {},
   "outputs": [
    {
     "data": {
      "text/plain": [
       "'strength'"
      ]
     },
     "execution_count": 17,
     "metadata": {},
     "output_type": "execute_result"
    }
   ],
   "source": [
    "# Outputting the var i.e dependent variable\n",
    "target = column_names[8]\n",
    "target"
   ]
  },
  {
   "cell_type": "code",
   "execution_count": 18,
   "metadata": {},
   "outputs": [],
   "source": [
    "# Creating NN model, adding hidden layers, adding nodes, using activation & finding the val_loss\n",
    "model = Sequential()\n",
    "model.add(Dense(50,input_dim=8,activation=\"relu\"))\n",
    "model.add(Dense(40,activation=\"relu\"))\n",
    "model.add(Dense(20,activation=\"relu\"))\n",
    "model.add(Dense(1,kernel_initializer=\"normal\"))\n",
    "model.compile(loss=\"mean_squared_error\",optimizer = \"adam\",metrics = [\"mse\"])"
   ]
  },
  {
   "cell_type": "code",
   "execution_count": 19,
   "metadata": {},
   "outputs": [
    {
     "name": "stdout",
     "output_type": "stream",
     "text": [
      "Epoch 1/10\n",
      "1030/1030 [==============================] - 0s 167us/step - loss: 287.3879 - mse: 287.3879\n",
      "Epoch 2/10\n",
      "1030/1030 [==============================] - 0s 47us/step - loss: 161.6635 - mse: 161.6635\n",
      "Epoch 3/10\n",
      "1030/1030 [==============================] - 0s 50us/step - loss: 139.5545 - mse: 139.5545\n",
      "Epoch 4/10\n",
      "1030/1030 [==============================] - 0s 54us/step - loss: 116.5545 - mse: 116.5545\n",
      "Epoch 5/10\n",
      "1030/1030 [==============================] - 0s 54us/step - loss: 108.7376 - mse: 108.7376\n",
      "Epoch 6/10\n",
      "1030/1030 [==============================] - 0s 74us/step - loss: 102.4520 - mse: 102.4520\n",
      "Epoch 7/10\n",
      "1030/1030 [==============================] - 0s 58us/step - loss: 93.6885 - mse: 93.6885\n",
      "Epoch 8/10\n",
      "1030/1030 [==============================] - 0s 62us/step - loss: 88.7286 - mse: 88.7286\n",
      "Epoch 9/10\n",
      "1030/1030 [==============================] - 0s 58us/step - loss: 85.0372 - mse: 85.0372\n",
      "Epoch 10/10\n",
      "1030/1030 [==============================] - 0s 62us/step - loss: 78.4977 - mse: 78.4977\n"
     ]
    },
    {
     "data": {
      "text/plain": [
       "array([[13.927055],\n",
       "       [17.418404],\n",
       "       [20.965652],\n",
       "       ...,\n",
       "       [40.639915],\n",
       "       [44.93388 ],\n",
       "       [40.550602]], dtype=float32)"
      ]
     },
     "execution_count": 19,
     "metadata": {},
     "output_type": "execute_result"
    }
   ],
   "source": [
    "# Fitting model & predicting with epochs=10 \n",
    "first_model = model\n",
    "first_model.fit(np.array(df_before[predictors]),np.array(df_before[target]),epochs=10)\n",
    "pred_train = first_model.predict(np.array(df_before[predictors]))\n",
    "pred_train"
   ]
  },
  {
   "cell_type": "code",
   "execution_count": 20,
   "metadata": {},
   "outputs": [
    {
     "data": {
      "text/plain": [
       "0       13.927055\n",
       "1       17.418404\n",
       "2       20.965652\n",
       "3       21.152065\n",
       "4       14.456154\n",
       "          ...    \n",
       "1025    13.845615\n",
       "1026    44.472118\n",
       "1027    40.639915\n",
       "1028    44.933880\n",
       "1029    40.550602\n",
       "Length: 1030, dtype: float64"
      ]
     },
     "execution_count": 20,
     "metadata": {},
     "output_type": "execute_result"
    }
   ],
   "source": [
    "# Prediction traing data\n",
    "pred_train = pd.Series([i[0] for i in pred_train])\n",
    "pred_train "
   ]
  },
  {
   "cell_type": "code",
   "execution_count": 21,
   "metadata": {},
   "outputs": [
    {
     "data": {
      "text/plain": [
       "9.617628933861853"
      ]
     },
     "execution_count": 21,
     "metadata": {},
     "output_type": "execute_result"
    }
   ],
   "source": [
    "# Showing value of RMSE - error value\n",
    "rmse_value = np.sqrt(np.mean((pred_train-df_before[target])**2))\n",
    "rmse_value "
   ]
  },
  {
   "cell_type": "code",
   "execution_count": 22,
   "metadata": {},
   "outputs": [
    {
     "data": {
      "text/plain": [
       "[<matplotlib.lines.Line2D at 0x1ff018074c8>]"
      ]
     },
     "execution_count": 22,
     "metadata": {},
     "output_type": "execute_result"
    },
    {
     "data": {
      "image/png": "[encoded data removed]",
      "text/plain": [
       "<Figure size 432x288 with 1 Axes>"
      ]
     },
     "metadata": {
      "needs_background": "light"
     },
     "output_type": "display_data"
    }
   ],
   "source": [
    "# Plotting of scattered linear values\n",
    "plt.plot(pred_train,df_before[target],\"bo\")"
   ]
  },
  {
   "cell_type": "code",
   "execution_count": 23,
   "metadata": {},
   "outputs": [
    {
     "data": {
      "text/plain": [
       "array([[1.        , 0.86024374],\n",
       "       [0.86024374, 1.        ]])"
      ]
     },
     "execution_count": 23,
     "metadata": {},
     "output_type": "execute_result"
    }
   ],
   "source": [
    "# we got high correlation \n",
    "np.corrcoef(pred_train,df_before[target]) "
   ]
  },
  {
   "cell_type": "code",
   "execution_count": 25,
   "metadata": {},
   "outputs": [],
   "source": [
    "# Configuring path to show the nural network graph \n",
    "import os\n",
    "os.environ[\"PATH\"] += os.pathsep + 'C:\\\\ProgramData\\\\Anaconda3\\\\Library\\\\bin\\\\Graphviz2.38\\\\'"
   ]
  },
  {
   "cell_type": "code",
   "execution_count": 26,
   "metadata": {
    "scrolled": true
   },
   "outputs": [],
   "source": [
    "# Importing the visualization libraray\n",
    "from ann_visualizer.visualize import ann_viz\n",
    "ann_viz(first_model, title=\"Strength of Concreate NN\")"
   ]
  },
  {
   "cell_type": "markdown",
   "metadata": {},
   "source": [
    "![](cement.png)"
   ]
  }
 ],
 "metadata": {
  "kernelspec": {
   "display_name": "Python 3",
   "language": "python",
   "name": "python3"
  },
  "language_info": {
   "codemirror_mode": {
    "name": "ipython",
    "version": 3
   },
   "file_extension": ".py",
   "mimetype": "text/x-python",
   "name": "python",
   "nbconvert_exporter": "python",
   "pygments_lexer": "ipython3",
   "version": "3.7.6"
  }
 },
 "nbformat": 4,
 "nbformat_minor": 4
}
