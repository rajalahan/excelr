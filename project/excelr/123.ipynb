{
 "cells": [
  {
   "cell_type": "markdown",
   "metadata": {},
   "source": [
    "![](airindia_sized.jpg)\n",
    "<h1 align=center><font size=5>Air Fare</font></h1>"
   ]
  },
  {
   "cell_type": "markdown",
   "metadata": {},
   "source": [
    "# 1. Initialize"
   ]
  },
  {
   "cell_type": "markdown",
   "metadata": {},
   "source": [
    "## Getting Data"
   ]
  },
  {
   "cell_type": "code",
   "execution_count": 1,
   "metadata": {},
   "outputs": [],
   "source": [
    "import pycaret"
   ]
  },
  {
   "cell_type": "code",
   "execution_count": 2,
   "metadata": {},
   "outputs": [],
   "source": [
    "import pandas as pd"
   ]
  },
  {
   "cell_type": "code",
   "execution_count": 3,
   "metadata": {},
   "outputs": [],
   "source": [
    "df = pd.read_csv('C:\\\\Users\\\\Raja\\\\Desktop\\\\project\\\\excelr\\\\air_fair.csv')"
   ]
  },
  {
   "cell_type": "code",
   "execution_count": 4,
   "metadata": {},
   "outputs": [],
   "source": [
    "df = df.set_index(['InvoiceDate'])"
   ]
  },
  {
   "cell_type": "code",
   "execution_count": 5,
   "metadata": {
    "scrolled": true
   },
   "outputs": [
    {
     "data": {
      "text/html": [
       "<div>\n",
       "<style scoped>\n",
       "    .dataframe tbody tr th:only-of-type {\n",
       "        vertical-align: middle;\n",
       "    }\n",
       "\n",
       "    .dataframe tbody tr th {\n",
       "        vertical-align: top;\n",
       "    }\n",
       "\n",
       "    .dataframe thead th {\n",
       "        text-align: right;\n",
       "    }\n",
       "</style>\n",
       "<table border=\"1\" class=\"dataframe\">\n",
       "  <thead>\n",
       "    <tr style=\"text-align: right;\">\n",
       "      <th></th>\n",
       "      <th>NetFare</th>\n",
       "      <th>ProductType</th>\n",
       "      <th>ItineraryType</th>\n",
       "    </tr>\n",
       "    <tr>\n",
       "      <th>InvoiceDate</th>\n",
       "      <th></th>\n",
       "      <th></th>\n",
       "      <th></th>\n",
       "    </tr>\n",
       "  </thead>\n",
       "  <tbody>\n",
       "    <tr>\n",
       "      <th>1/12/18 11:43</th>\n",
       "      <td>2160.00</td>\n",
       "      <td>Other Product</td>\n",
       "      <td>Domestic</td>\n",
       "    </tr>\n",
       "    <tr>\n",
       "      <th>1/12/18 11:43</th>\n",
       "      <td>0.49</td>\n",
       "      <td>Other Product</td>\n",
       "      <td>Domestic</td>\n",
       "    </tr>\n",
       "    <tr>\n",
       "      <th>1/12/18 13:01</th>\n",
       "      <td>6550.00</td>\n",
       "      <td>Air</td>\n",
       "      <td>Domestic</td>\n",
       "    </tr>\n",
       "    <tr>\n",
       "      <th>1/12/18 13:10</th>\n",
       "      <td>6550.00</td>\n",
       "      <td>Air</td>\n",
       "      <td>Domestic</td>\n",
       "    </tr>\n",
       "    <tr>\n",
       "      <th>30/11/2018 14:30</th>\n",
       "      <td>5497.00</td>\n",
       "      <td>Air</td>\n",
       "      <td>Domestic</td>\n",
       "    </tr>\n",
       "  </tbody>\n",
       "</table>\n",
       "</div>"
      ],
      "text/plain": [
       "                  NetFare    ProductType ItineraryType\n",
       "InvoiceDate                                           \n",
       "1/12/18 11:43     2160.00  Other Product      Domestic\n",
       "1/12/18 11:43        0.49  Other Product      Domestic\n",
       "1/12/18 13:01     6550.00            Air      Domestic\n",
       "1/12/18 13:10     6550.00            Air      Domestic\n",
       "30/11/2018 14:30  5497.00            Air      Domestic"
      ]
     },
     "execution_count": 5,
     "metadata": {},
     "output_type": "execute_result"
    }
   ],
   "source": [
    "df.head()"
   ]
  },
  {
   "cell_type": "code",
   "execution_count": 6,
   "metadata": {},
   "outputs": [
    {
     "data": {
      "text/plain": [
       "835398"
      ]
     },
     "execution_count": 6,
     "metadata": {},
     "output_type": "execute_result"
    }
   ],
   "source": [
    "df.size"
   ]
  },
  {
   "cell_type": "code",
   "execution_count": 7,
   "metadata": {},
   "outputs": [
    {
     "data": {
      "text/plain": [
       "array(['Other Product', 'Air', 'Charge', 'Hotel', 'Air Cancellation',\n",
       "       'Other Product Cancellation', 'payment', 'Hotel Cancellation',\n",
       "       'refund', nan, 'Air Debit Note', 'Hotel Debit Note', 'Air Loss',\n",
       "       'Other Product Debit Note', 'Hotel Loss'], dtype=object)"
      ]
     },
     "execution_count": 7,
     "metadata": {},
     "output_type": "execute_result"
    }
   ],
   "source": [
    "df.ProductType.unique()"
   ]
  },
  {
   "cell_type": "code",
   "execution_count": 8,
   "metadata": {},
   "outputs": [
    {
     "data": {
      "text/plain": [
       "array(['Domestic', nan, 'International'], dtype=object)"
      ]
     },
     "execution_count": 8,
     "metadata": {},
     "output_type": "execute_result"
    }
   ],
   "source": [
    "df.ItineraryType.unique()"
   ]
  },
  {
   "cell_type": "code",
   "execution_count": 9,
   "metadata": {},
   "outputs": [
    {
     "data": {
      "text/html": [
       "<div>\n",
       "<style scoped>\n",
       "    .dataframe tbody tr th:only-of-type {\n",
       "        vertical-align: middle;\n",
       "    }\n",
       "\n",
       "    .dataframe tbody tr th {\n",
       "        vertical-align: top;\n",
       "    }\n",
       "\n",
       "    .dataframe thead th {\n",
       "        text-align: right;\n",
       "    }\n",
       "</style>\n",
       "<table border=\"1\" class=\"dataframe\">\n",
       "  <thead>\n",
       "    <tr style=\"text-align: right;\">\n",
       "      <th></th>\n",
       "      <th>NetFare</th>\n",
       "    </tr>\n",
       "  </thead>\n",
       "  <tbody>\n",
       "    <tr>\n",
       "      <th>count</th>\n",
       "      <td>217576.000000</td>\n",
       "    </tr>\n",
       "    <tr>\n",
       "      <th>mean</th>\n",
       "      <td>4266.905212</td>\n",
       "    </tr>\n",
       "    <tr>\n",
       "      <th>std</th>\n",
       "      <td>9803.137297</td>\n",
       "    </tr>\n",
       "    <tr>\n",
       "      <th>min</th>\n",
       "      <td>-497324.000000</td>\n",
       "    </tr>\n",
       "    <tr>\n",
       "      <th>25%</th>\n",
       "      <td>10.000000</td>\n",
       "    </tr>\n",
       "    <tr>\n",
       "      <th>50%</th>\n",
       "      <td>3501.000000</td>\n",
       "    </tr>\n",
       "    <tr>\n",
       "      <th>75%</th>\n",
       "      <td>5944.000000</td>\n",
       "    </tr>\n",
       "    <tr>\n",
       "      <th>max</th>\n",
       "      <td>497678.000000</td>\n",
       "    </tr>\n",
       "  </tbody>\n",
       "</table>\n",
       "</div>"
      ],
      "text/plain": [
       "             NetFare\n",
       "count  217576.000000\n",
       "mean     4266.905212\n",
       "std      9803.137297\n",
       "min   -497324.000000\n",
       "25%        10.000000\n",
       "50%      3501.000000\n",
       "75%      5944.000000\n",
       "max    497678.000000"
      ]
     },
     "execution_count": 9,
     "metadata": {},
     "output_type": "execute_result"
    }
   ],
   "source": [
    "df.describe()"
   ]
  },
  {
   "cell_type": "code",
   "execution_count": 10,
   "metadata": {},
   "outputs": [
    {
     "name": "stdout",
     "output_type": "stream",
     "text": [
      "<class 'pandas.core.frame.DataFrame'>\n",
      "Index: 278466 entries, 1/12/18 11:43 to 10/6/19 22:30\n",
      "Data columns (total 3 columns):\n",
      " #   Column         Non-Null Count   Dtype  \n",
      "---  ------         --------------   -----  \n",
      " 0   NetFare        217576 non-null  float64\n",
      " 1   ProductType    278464 non-null  object \n",
      " 2   ItineraryType  245689 non-null  object \n",
      "dtypes: float64(1), object(2)\n",
      "memory usage: 8.5+ MB\n"
     ]
    }
   ],
   "source": [
    "df.info()"
   ]
  },
  {
   "cell_type": "markdown",
   "metadata": {},
   "source": [
    "<h4>Evaluating for Missing Data</h4>\n",
    "The missing values are converted to Python's default. We use Python's built-in functions to identify these missing values. There are two methods to detect missing data:\n",
    "<ol>\n",
    " <li><b>.isnull()</b></li>\n",
    " <li><b>.notnull()</b></li>\n",
    "</ol>    \n",
    "The output is a boolean value indicating whether the value that is passed into the argument is in fact missing data."
   ]
  },
  {
   "cell_type": "code",
   "execution_count": 11,
   "metadata": {},
   "outputs": [],
   "source": [
    "missing_data = df.isnull()"
   ]
  },
  {
   "cell_type": "markdown",
   "metadata": {},
   "source": [
    "\"True\" stands for missing value, while \"False\" stands for not missing value."
   ]
  },
  {
   "cell_type": "markdown",
   "metadata": {},
   "source": [
    "<h4>Count missing values in each column</h4>\n",
    "<p>\n",
    "Using a for loop in Python, we can quickly figure out the number of missing values in each column. As mentioned above, \"True\" represents a missing value, \"False\"  means the value is present in the dataset.  In the body of the for loop the method  \".value_counts()\"  counts the number of \"True\" values. \n",
    "</p>"
   ]
  },
  {
   "cell_type": "code",
   "execution_count": 12,
   "metadata": {},
   "outputs": [
    {
     "name": "stdout",
     "output_type": "stream",
     "text": [
      "NetFare\n",
      "False    217576\n",
      "True      60890\n",
      "Name: NetFare, dtype: int64\n",
      "\n",
      "ProductType\n",
      "False    278464\n",
      "True          2\n",
      "Name: ProductType, dtype: int64\n",
      "\n",
      "ItineraryType\n",
      "False    245689\n",
      "True      32777\n",
      "Name: ItineraryType, dtype: int64\n",
      "\n"
     ]
    }
   ],
   "source": [
    "for column in missing_data.columns.values.tolist():\n",
    "    print(column)\n",
    "    print (missing_data[column].value_counts())\n",
    "    print(\"\")  "
   ]
  },
  {
   "cell_type": "markdown",
   "metadata": {},
   "source": [
    "Based on the summary above, each column has 278466 rows of data, three columns containing missing data:\n",
    "<ol>\n",
    "    <li>\"NetFare\": 60890 missing data</li>\n",
    "<li>\"ProductType\": 2 missing data</li>\n",
    "<li>\"ItineraryType\": 32777 missing data</li>\n",
    "</ol>"
   ]
  },
  {
   "cell_type": "markdown",
   "metadata": {},
   "source": [
    "<h3 id=\"deal_missing_values\">Deal with missing data</h3>\n",
    "<b>How to deal with missing data?</b>\n",
    "\n",
    "<ol>\n",
    "    <li>drop data<br>\n",
    "        a. drop the whole row<br>\n",
    "        b. drop the whole column\n",
    "    </li>\n",
    "    <li>replace data<br>\n",
    "        a. replace it by mean<br>\n",
    "        b. replace it by frequency<br>\n",
    "        c. replace it based on other functions\n",
    "    </li>\n",
    "</ol>"
   ]
  },
  {
   "cell_type": "markdown",
   "metadata": {},
   "source": [
    "Whole columns should be dropped only if most entries in the column are empty. In our dataset, none of the columns are empty enough to drop entirely.\n",
    "We have some freedom in choosing which method to replace data; however, some methods may seem more reasonable than others. We will apply each method to many different columns:\n",
    "\n",
    "<b>Replace by mean:</b>\n",
    "<ul>\n",
    "    <li>\"NetFare\": 60890 missing data, replace them with mean</li>\n",
    "    <li>\"ProductType\": 2 missing data, replace them with most frequent occur</li>\n",
    "    <li>\"ItineraryType\": 32777 missing data, replace them with most frequent occur</li>\n",
    "</ul>"
   ]
  },
  {
   "cell_type": "code",
   "execution_count": 13,
   "metadata": {},
   "outputs": [
    {
     "data": {
      "text/plain": [
       "NetFare          float64\n",
       "ProductType       object\n",
       "ItineraryType     object\n",
       "dtype: object"
      ]
     },
     "execution_count": 13,
     "metadata": {},
     "output_type": "execute_result"
    }
   ],
   "source": [
    "df.dtypes"
   ]
  },
  {
   "cell_type": "markdown",
   "metadata": {},
   "source": [
    "Above data types has errors, actually NetFare is the float not object. So, it has to convert into float!"
   ]
  },
  {
   "cell_type": "markdown",
   "metadata": {},
   "source": [
    "<h4>Calculate the average of the column </h4>"
   ]
  },
  {
   "cell_type": "code",
   "execution_count": 14,
   "metadata": {},
   "outputs": [
    {
     "name": "stdout",
     "output_type": "stream",
     "text": [
      "Average of NetFare: 4266.905212109792\n"
     ]
    }
   ],
   "source": [
    "avg_NetFare = df.NetFare.astype(\"float\").mean(axis=0)\n",
    "print(\"Average of NetFare:\", avg_NetFare)"
   ]
  },
  {
   "cell_type": "markdown",
   "metadata": {},
   "source": [
    "#### Replace \"NaN\" by mean value in \"NetFare\" column"
   ]
  },
  {
   "cell_type": "code",
   "execution_count": 15,
   "metadata": {},
   "outputs": [],
   "source": [
    "import numpy as np"
   ]
  },
  {
   "cell_type": "code",
   "execution_count": 16,
   "metadata": {},
   "outputs": [],
   "source": [
    "df[\"NetFare\"].replace(np.nan, avg_NetFare, inplace=True)"
   ]
  },
  {
   "cell_type": "code",
   "execution_count": 17,
   "metadata": {},
   "outputs": [
    {
     "data": {
      "text/plain": [
       "<bound method IndexOpsMixin.value_counts of InvoiceDate\n",
       "1/12/18 11:43       2160.00\n",
       "1/12/18 11:43          0.49\n",
       "1/12/18 13:01       6550.00\n",
       "1/12/18 13:10       6550.00\n",
       "30/11/2018 14:30    5497.00\n",
       "                     ...   \n",
       "10/6/19 20:45          0.00\n",
       "10/6/19 21:39       9073.00\n",
       "10/6/19 22:18       2367.00\n",
       "10/6/19 22:30       6572.00\n",
       "10/6/19 22:30       5118.00\n",
       "Name: NetFare, Length: 278466, dtype: float64>"
      ]
     },
     "execution_count": 17,
     "metadata": {},
     "output_type": "execute_result"
    }
   ],
   "source": [
    "df.NetFare.value_counts"
   ]
  },
  {
   "cell_type": "code",
   "execution_count": 18,
   "metadata": {},
   "outputs": [
    {
     "data": {
      "text/plain": [
       "0"
      ]
     },
     "execution_count": 18,
     "metadata": {},
     "output_type": "execute_result"
    }
   ],
   "source": [
    "df.NetFare.isnull().sum()"
   ]
  },
  {
   "cell_type": "markdown",
   "metadata": {},
   "source": [
    "## Working with ProductType"
   ]
  },
  {
   "cell_type": "code",
   "execution_count": 19,
   "metadata": {},
   "outputs": [
    {
     "data": {
      "text/plain": [
       "Air                           151995\n",
       "payment                        55394\n",
       "Charge                         32775\n",
       "Other Product                  18692\n",
       "Hotel                           7904\n",
       "refund                          5495\n",
       "Air Cancellation                4600\n",
       "Other Product Cancellation       547\n",
       "Air Debit Note                   535\n",
       "Hotel Cancellation               289\n",
       "Air Loss                         210\n",
       "Other Product Debit Note          21\n",
       "Hotel Loss                         4\n",
       "Hotel Debit Note                   3\n",
       "Name: ProductType, dtype: int64"
      ]
     },
     "execution_count": 19,
     "metadata": {},
     "output_type": "execute_result"
    }
   ],
   "source": [
    "df['ProductType'].value_counts()"
   ]
  },
  {
   "cell_type": "markdown",
   "metadata": {},
   "source": [
    "ProductType of most frequent is Air, So replace with Air."
   ]
  },
  {
   "cell_type": "markdown",
   "metadata": {},
   "source": [
    "We can see that Air are the most common type. We can also use the \".idxmax()\" method to calculate for us the most common type automatically:"
   ]
  },
  {
   "cell_type": "code",
   "execution_count": 20,
   "metadata": {},
   "outputs": [
    {
     "data": {
      "text/plain": [
       "'Air'"
      ]
     },
     "execution_count": 20,
     "metadata": {},
     "output_type": "execute_result"
    }
   ],
   "source": [
    "df['ProductType'].value_counts().idxmax()"
   ]
  },
  {
   "cell_type": "markdown",
   "metadata": {},
   "source": [
    "The replacement procedure is very similar to what we have seen previously"
   ]
  },
  {
   "cell_type": "code",
   "execution_count": 21,
   "metadata": {},
   "outputs": [],
   "source": [
    "#replace the missing 'Air values by the most frequent \n",
    "df[\"ProductType\"].replace(np.nan, \"Air\", inplace=True)"
   ]
  },
  {
   "cell_type": "code",
   "execution_count": 22,
   "metadata": {},
   "outputs": [
    {
     "data": {
      "text/plain": [
       "Air                           151997\n",
       "payment                        55394\n",
       "Charge                         32775\n",
       "Other Product                  18692\n",
       "Hotel                           7904\n",
       "refund                          5495\n",
       "Air Cancellation                4600\n",
       "Other Product Cancellation       547\n",
       "Air Debit Note                   535\n",
       "Hotel Cancellation               289\n",
       "Air Loss                         210\n",
       "Other Product Debit Note          21\n",
       "Hotel Loss                         4\n",
       "Hotel Debit Note                   3\n",
       "Name: ProductType, dtype: int64"
      ]
     },
     "execution_count": 22,
     "metadata": {},
     "output_type": "execute_result"
    }
   ],
   "source": [
    "df['ProductType'].value_counts()"
   ]
  },
  {
   "cell_type": "code",
   "execution_count": 23,
   "metadata": {},
   "outputs": [
    {
     "data": {
      "text/plain": [
       "0"
      ]
     },
     "execution_count": 23,
     "metadata": {},
     "output_type": "execute_result"
    }
   ],
   "source": [
    "df.ProductType.isnull().sum()"
   ]
  },
  {
   "cell_type": "markdown",
   "metadata": {},
   "source": [
    "### Working with ItineraryType"
   ]
  },
  {
   "cell_type": "code",
   "execution_count": 24,
   "metadata": {},
   "outputs": [
    {
     "data": {
      "text/plain": [
       "Domestic         225231\n",
       "International     20458\n",
       "Name: ItineraryType, dtype: int64"
      ]
     },
     "execution_count": 24,
     "metadata": {},
     "output_type": "execute_result"
    }
   ],
   "source": [
    "df['ItineraryType'].value_counts()"
   ]
  },
  {
   "cell_type": "markdown",
   "metadata": {},
   "source": [
    "ItineraryType of most frequent is Domestic, So replace with Domestic."
   ]
  },
  {
   "cell_type": "markdown",
   "metadata": {},
   "source": [
    "We can see that Domestic are the most common type. We can also use the \".idxmax()\" method to calculate for us the most common type automatically:"
   ]
  },
  {
   "cell_type": "code",
   "execution_count": 25,
   "metadata": {},
   "outputs": [
    {
     "data": {
      "text/plain": [
       "'Domestic'"
      ]
     },
     "execution_count": 25,
     "metadata": {},
     "output_type": "execute_result"
    }
   ],
   "source": [
    "df['ItineraryType'].value_counts().idxmax()"
   ]
  },
  {
   "cell_type": "code",
   "execution_count": 26,
   "metadata": {},
   "outputs": [],
   "source": [
    "#replace the missing Domestic values by the most frequent \n",
    "df[\"ItineraryType\"].replace(np.nan, \"Domestic\", inplace=True)"
   ]
  },
  {
   "cell_type": "code",
   "execution_count": 27,
   "metadata": {},
   "outputs": [
    {
     "data": {
      "text/plain": [
       "Domestic         258008\n",
       "International     20458\n",
       "Name: ItineraryType, dtype: int64"
      ]
     },
     "execution_count": 27,
     "metadata": {},
     "output_type": "execute_result"
    }
   ],
   "source": [
    "df['ItineraryType'].value_counts()"
   ]
  },
  {
   "cell_type": "code",
   "execution_count": 28,
   "metadata": {},
   "outputs": [
    {
     "data": {
      "text/plain": [
       "0"
      ]
     },
     "execution_count": 28,
     "metadata": {},
     "output_type": "execute_result"
    }
   ],
   "source": [
    "df.ItineraryType.isnull().sum()"
   ]
  },
  {
   "cell_type": "code",
   "execution_count": 29,
   "metadata": {},
   "outputs": [],
   "source": [
    "missing_data_cleaned = df.isnull()"
   ]
  },
  {
   "cell_type": "code",
   "execution_count": 30,
   "metadata": {},
   "outputs": [
    {
     "name": "stdout",
     "output_type": "stream",
     "text": [
      "NetFare\n",
      "False    278466\n",
      "Name: NetFare, dtype: int64\n",
      "\n",
      "ProductType\n",
      "False    278466\n",
      "Name: ProductType, dtype: int64\n",
      "\n",
      "ItineraryType\n",
      "False    278466\n",
      "Name: ItineraryType, dtype: int64\n",
      "\n"
     ]
    }
   ],
   "source": [
    "for column in missing_data_cleaned.columns.values.tolist():\n",
    "    print(column)\n",
    "    print (missing_data_cleaned[column].value_counts())\n",
    "    print(\"\")  "
   ]
  },
  {
   "cell_type": "markdown",
   "metadata": {},
   "source": [
    "<b>Good!</b> Now, we obtain the dataset with no missing values."
   ]
  },
  {
   "cell_type": "code",
   "execution_count": null,
   "metadata": {},
   "outputs": [],
   "source": []
  },
  {
   "cell_type": "markdown",
   "metadata": {},
   "source": [
    "## Setting up Environment"
   ]
  },
  {
   "cell_type": "code",
   "execution_count": 31,
   "metadata": {},
   "outputs": [
    {
     "name": "stdout",
     "output_type": "stream",
     "text": [
      " \n",
      "Setup Succesfully Completed!\n"
     ]
    },
    {
     "data": {
      "text/html": [
       "<style  type=\"text/css\" >\n",
       "</style><table id=\"T_f1161d48_a046_11ea_aec0_34e6ad71bcfe\" ><thead>    <tr>        <th class=\"blank level0\" ></th>        <th class=\"col_heading level0 col0\" >Description</th>        <th class=\"col_heading level0 col1\" >Value</th>    </tr></thead><tbody>\n",
       "                <tr>\n",
       "                        <th id=\"T_f1161d48_a046_11ea_aec0_34e6ad71bcfelevel0_row0\" class=\"row_heading level0 row0\" >0</th>\n",
       "                        <td id=\"T_f1161d48_a046_11ea_aec0_34e6ad71bcferow0_col0\" class=\"data row0 col0\" >session_id</td>\n",
       "                        <td id=\"T_f1161d48_a046_11ea_aec0_34e6ad71bcferow0_col1\" class=\"data row0 col1\" >758</td>\n",
       "            </tr>\n",
       "            <tr>\n",
       "                        <th id=\"T_f1161d48_a046_11ea_aec0_34e6ad71bcfelevel0_row1\" class=\"row_heading level0 row1\" >1</th>\n",
       "                        <td id=\"T_f1161d48_a046_11ea_aec0_34e6ad71bcferow1_col0\" class=\"data row1 col0\" >Transform Target </td>\n",
       "                        <td id=\"T_f1161d48_a046_11ea_aec0_34e6ad71bcferow1_col1\" class=\"data row1 col1\" >False</td>\n",
       "            </tr>\n",
       "            <tr>\n",
       "                        <th id=\"T_f1161d48_a046_11ea_aec0_34e6ad71bcfelevel0_row2\" class=\"row_heading level0 row2\" >2</th>\n",
       "                        <td id=\"T_f1161d48_a046_11ea_aec0_34e6ad71bcferow2_col0\" class=\"data row2 col0\" >Transform Target Method</td>\n",
       "                        <td id=\"T_f1161d48_a046_11ea_aec0_34e6ad71bcferow2_col1\" class=\"data row2 col1\" >None</td>\n",
       "            </tr>\n",
       "            <tr>\n",
       "                        <th id=\"T_f1161d48_a046_11ea_aec0_34e6ad71bcfelevel0_row3\" class=\"row_heading level0 row3\" >3</th>\n",
       "                        <td id=\"T_f1161d48_a046_11ea_aec0_34e6ad71bcferow3_col0\" class=\"data row3 col0\" >Original Data</td>\n",
       "                        <td id=\"T_f1161d48_a046_11ea_aec0_34e6ad71bcferow3_col1\" class=\"data row3 col1\" >(278466, 3)</td>\n",
       "            </tr>\n",
       "            <tr>\n",
       "                        <th id=\"T_f1161d48_a046_11ea_aec0_34e6ad71bcfelevel0_row4\" class=\"row_heading level0 row4\" >4</th>\n",
       "                        <td id=\"T_f1161d48_a046_11ea_aec0_34e6ad71bcferow4_col0\" class=\"data row4 col0\" >Missing Values </td>\n",
       "                        <td id=\"T_f1161d48_a046_11ea_aec0_34e6ad71bcferow4_col1\" class=\"data row4 col1\" >False</td>\n",
       "            </tr>\n",
       "            <tr>\n",
       "                        <th id=\"T_f1161d48_a046_11ea_aec0_34e6ad71bcfelevel0_row5\" class=\"row_heading level0 row5\" >5</th>\n",
       "                        <td id=\"T_f1161d48_a046_11ea_aec0_34e6ad71bcferow5_col0\" class=\"data row5 col0\" >Numeric Features </td>\n",
       "                        <td id=\"T_f1161d48_a046_11ea_aec0_34e6ad71bcferow5_col1\" class=\"data row5 col1\" >0</td>\n",
       "            </tr>\n",
       "            <tr>\n",
       "                        <th id=\"T_f1161d48_a046_11ea_aec0_34e6ad71bcfelevel0_row6\" class=\"row_heading level0 row6\" >6</th>\n",
       "                        <td id=\"T_f1161d48_a046_11ea_aec0_34e6ad71bcferow6_col0\" class=\"data row6 col0\" >Categorical Features </td>\n",
       "                        <td id=\"T_f1161d48_a046_11ea_aec0_34e6ad71bcferow6_col1\" class=\"data row6 col1\" >2</td>\n",
       "            </tr>\n",
       "            <tr>\n",
       "                        <th id=\"T_f1161d48_a046_11ea_aec0_34e6ad71bcfelevel0_row7\" class=\"row_heading level0 row7\" >7</th>\n",
       "                        <td id=\"T_f1161d48_a046_11ea_aec0_34e6ad71bcferow7_col0\" class=\"data row7 col0\" >Ordinal Features </td>\n",
       "                        <td id=\"T_f1161d48_a046_11ea_aec0_34e6ad71bcferow7_col1\" class=\"data row7 col1\" >False</td>\n",
       "            </tr>\n",
       "            <tr>\n",
       "                        <th id=\"T_f1161d48_a046_11ea_aec0_34e6ad71bcfelevel0_row8\" class=\"row_heading level0 row8\" >8</th>\n",
       "                        <td id=\"T_f1161d48_a046_11ea_aec0_34e6ad71bcferow8_col0\" class=\"data row8 col0\" >High Cardinality Features </td>\n",
       "                        <td id=\"T_f1161d48_a046_11ea_aec0_34e6ad71bcferow8_col1\" class=\"data row8 col1\" >False</td>\n",
       "            </tr>\n",
       "            <tr>\n",
       "                        <th id=\"T_f1161d48_a046_11ea_aec0_34e6ad71bcfelevel0_row9\" class=\"row_heading level0 row9\" >9</th>\n",
       "                        <td id=\"T_f1161d48_a046_11ea_aec0_34e6ad71bcferow9_col0\" class=\"data row9 col0\" >High Cardinality Method </td>\n",
       "                        <td id=\"T_f1161d48_a046_11ea_aec0_34e6ad71bcferow9_col1\" class=\"data row9 col1\" >None</td>\n",
       "            </tr>\n",
       "            <tr>\n",
       "                        <th id=\"T_f1161d48_a046_11ea_aec0_34e6ad71bcfelevel0_row10\" class=\"row_heading level0 row10\" >10</th>\n",
       "                        <td id=\"T_f1161d48_a046_11ea_aec0_34e6ad71bcferow10_col0\" class=\"data row10 col0\" >Sampled Data</td>\n",
       "                        <td id=\"T_f1161d48_a046_11ea_aec0_34e6ad71bcferow10_col1\" class=\"data row10 col1\" >(194926, 3)</td>\n",
       "            </tr>\n",
       "            <tr>\n",
       "                        <th id=\"T_f1161d48_a046_11ea_aec0_34e6ad71bcfelevel0_row11\" class=\"row_heading level0 row11\" >11</th>\n",
       "                        <td id=\"T_f1161d48_a046_11ea_aec0_34e6ad71bcferow11_col0\" class=\"data row11 col0\" >Transformed Train Set</td>\n",
       "                        <td id=\"T_f1161d48_a046_11ea_aec0_34e6ad71bcferow11_col1\" class=\"data row11 col1\" >(136448, 15)</td>\n",
       "            </tr>\n",
       "            <tr>\n",
       "                        <th id=\"T_f1161d48_a046_11ea_aec0_34e6ad71bcfelevel0_row12\" class=\"row_heading level0 row12\" >12</th>\n",
       "                        <td id=\"T_f1161d48_a046_11ea_aec0_34e6ad71bcferow12_col0\" class=\"data row12 col0\" >Transformed Test Set</td>\n",
       "                        <td id=\"T_f1161d48_a046_11ea_aec0_34e6ad71bcferow12_col1\" class=\"data row12 col1\" >(58478, 15)</td>\n",
       "            </tr>\n",
       "            <tr>\n",
       "                        <th id=\"T_f1161d48_a046_11ea_aec0_34e6ad71bcfelevel0_row13\" class=\"row_heading level0 row13\" >13</th>\n",
       "                        <td id=\"T_f1161d48_a046_11ea_aec0_34e6ad71bcferow13_col0\" class=\"data row13 col0\" >Numeric Imputer </td>\n",
       "                        <td id=\"T_f1161d48_a046_11ea_aec0_34e6ad71bcferow13_col1\" class=\"data row13 col1\" >mean</td>\n",
       "            </tr>\n",
       "            <tr>\n",
       "                        <th id=\"T_f1161d48_a046_11ea_aec0_34e6ad71bcfelevel0_row14\" class=\"row_heading level0 row14\" >14</th>\n",
       "                        <td id=\"T_f1161d48_a046_11ea_aec0_34e6ad71bcferow14_col0\" class=\"data row14 col0\" >Categorical Imputer </td>\n",
       "                        <td id=\"T_f1161d48_a046_11ea_aec0_34e6ad71bcferow14_col1\" class=\"data row14 col1\" >constant</td>\n",
       "            </tr>\n",
       "            <tr>\n",
       "                        <th id=\"T_f1161d48_a046_11ea_aec0_34e6ad71bcfelevel0_row15\" class=\"row_heading level0 row15\" >15</th>\n",
       "                        <td id=\"T_f1161d48_a046_11ea_aec0_34e6ad71bcferow15_col0\" class=\"data row15 col0\" >Normalize </td>\n",
       "                        <td id=\"T_f1161d48_a046_11ea_aec0_34e6ad71bcferow15_col1\" class=\"data row15 col1\" >False</td>\n",
       "            </tr>\n",
       "            <tr>\n",
       "                        <th id=\"T_f1161d48_a046_11ea_aec0_34e6ad71bcfelevel0_row16\" class=\"row_heading level0 row16\" >16</th>\n",
       "                        <td id=\"T_f1161d48_a046_11ea_aec0_34e6ad71bcferow16_col0\" class=\"data row16 col0\" >Normalize Method </td>\n",
       "                        <td id=\"T_f1161d48_a046_11ea_aec0_34e6ad71bcferow16_col1\" class=\"data row16 col1\" >None</td>\n",
       "            </tr>\n",
       "            <tr>\n",
       "                        <th id=\"T_f1161d48_a046_11ea_aec0_34e6ad71bcfelevel0_row17\" class=\"row_heading level0 row17\" >17</th>\n",
       "                        <td id=\"T_f1161d48_a046_11ea_aec0_34e6ad71bcferow17_col0\" class=\"data row17 col0\" >Transformation </td>\n",
       "                        <td id=\"T_f1161d48_a046_11ea_aec0_34e6ad71bcferow17_col1\" class=\"data row17 col1\" >False</td>\n",
       "            </tr>\n",
       "            <tr>\n",
       "                        <th id=\"T_f1161d48_a046_11ea_aec0_34e6ad71bcfelevel0_row18\" class=\"row_heading level0 row18\" >18</th>\n",
       "                        <td id=\"T_f1161d48_a046_11ea_aec0_34e6ad71bcferow18_col0\" class=\"data row18 col0\" >Transformation Method </td>\n",
       "                        <td id=\"T_f1161d48_a046_11ea_aec0_34e6ad71bcferow18_col1\" class=\"data row18 col1\" >None</td>\n",
       "            </tr>\n",
       "            <tr>\n",
       "                        <th id=\"T_f1161d48_a046_11ea_aec0_34e6ad71bcfelevel0_row19\" class=\"row_heading level0 row19\" >19</th>\n",
       "                        <td id=\"T_f1161d48_a046_11ea_aec0_34e6ad71bcferow19_col0\" class=\"data row19 col0\" >PCA </td>\n",
       "                        <td id=\"T_f1161d48_a046_11ea_aec0_34e6ad71bcferow19_col1\" class=\"data row19 col1\" >False</td>\n",
       "            </tr>\n",
       "            <tr>\n",
       "                        <th id=\"T_f1161d48_a046_11ea_aec0_34e6ad71bcfelevel0_row20\" class=\"row_heading level0 row20\" >20</th>\n",
       "                        <td id=\"T_f1161d48_a046_11ea_aec0_34e6ad71bcferow20_col0\" class=\"data row20 col0\" >PCA Method </td>\n",
       "                        <td id=\"T_f1161d48_a046_11ea_aec0_34e6ad71bcferow20_col1\" class=\"data row20 col1\" >None</td>\n",
       "            </tr>\n",
       "            <tr>\n",
       "                        <th id=\"T_f1161d48_a046_11ea_aec0_34e6ad71bcfelevel0_row21\" class=\"row_heading level0 row21\" >21</th>\n",
       "                        <td id=\"T_f1161d48_a046_11ea_aec0_34e6ad71bcferow21_col0\" class=\"data row21 col0\" >PCA Components </td>\n",
       "                        <td id=\"T_f1161d48_a046_11ea_aec0_34e6ad71bcferow21_col1\" class=\"data row21 col1\" >None</td>\n",
       "            </tr>\n",
       "            <tr>\n",
       "                        <th id=\"T_f1161d48_a046_11ea_aec0_34e6ad71bcfelevel0_row22\" class=\"row_heading level0 row22\" >22</th>\n",
       "                        <td id=\"T_f1161d48_a046_11ea_aec0_34e6ad71bcferow22_col0\" class=\"data row22 col0\" >Ignore Low Variance </td>\n",
       "                        <td id=\"T_f1161d48_a046_11ea_aec0_34e6ad71bcferow22_col1\" class=\"data row22 col1\" >False</td>\n",
       "            </tr>\n",
       "            <tr>\n",
       "                        <th id=\"T_f1161d48_a046_11ea_aec0_34e6ad71bcfelevel0_row23\" class=\"row_heading level0 row23\" >23</th>\n",
       "                        <td id=\"T_f1161d48_a046_11ea_aec0_34e6ad71bcferow23_col0\" class=\"data row23 col0\" >Combine Rare Levels </td>\n",
       "                        <td id=\"T_f1161d48_a046_11ea_aec0_34e6ad71bcferow23_col1\" class=\"data row23 col1\" >False</td>\n",
       "            </tr>\n",
       "            <tr>\n",
       "                        <th id=\"T_f1161d48_a046_11ea_aec0_34e6ad71bcfelevel0_row24\" class=\"row_heading level0 row24\" >24</th>\n",
       "                        <td id=\"T_f1161d48_a046_11ea_aec0_34e6ad71bcferow24_col0\" class=\"data row24 col0\" >Rare Level Threshold </td>\n",
       "                        <td id=\"T_f1161d48_a046_11ea_aec0_34e6ad71bcferow24_col1\" class=\"data row24 col1\" >None</td>\n",
       "            </tr>\n",
       "            <tr>\n",
       "                        <th id=\"T_f1161d48_a046_11ea_aec0_34e6ad71bcfelevel0_row25\" class=\"row_heading level0 row25\" >25</th>\n",
       "                        <td id=\"T_f1161d48_a046_11ea_aec0_34e6ad71bcferow25_col0\" class=\"data row25 col0\" >Numeric Binning </td>\n",
       "                        <td id=\"T_f1161d48_a046_11ea_aec0_34e6ad71bcferow25_col1\" class=\"data row25 col1\" >False</td>\n",
       "            </tr>\n",
       "            <tr>\n",
       "                        <th id=\"T_f1161d48_a046_11ea_aec0_34e6ad71bcfelevel0_row26\" class=\"row_heading level0 row26\" >26</th>\n",
       "                        <td id=\"T_f1161d48_a046_11ea_aec0_34e6ad71bcferow26_col0\" class=\"data row26 col0\" >Remove Outliers </td>\n",
       "                        <td id=\"T_f1161d48_a046_11ea_aec0_34e6ad71bcferow26_col1\" class=\"data row26 col1\" >False</td>\n",
       "            </tr>\n",
       "            <tr>\n",
       "                        <th id=\"T_f1161d48_a046_11ea_aec0_34e6ad71bcfelevel0_row27\" class=\"row_heading level0 row27\" >27</th>\n",
       "                        <td id=\"T_f1161d48_a046_11ea_aec0_34e6ad71bcferow27_col0\" class=\"data row27 col0\" >Outliers Threshold </td>\n",
       "                        <td id=\"T_f1161d48_a046_11ea_aec0_34e6ad71bcferow27_col1\" class=\"data row27 col1\" >None</td>\n",
       "            </tr>\n",
       "            <tr>\n",
       "                        <th id=\"T_f1161d48_a046_11ea_aec0_34e6ad71bcfelevel0_row28\" class=\"row_heading level0 row28\" >28</th>\n",
       "                        <td id=\"T_f1161d48_a046_11ea_aec0_34e6ad71bcferow28_col0\" class=\"data row28 col0\" >Remove Multicollinearity </td>\n",
       "                        <td id=\"T_f1161d48_a046_11ea_aec0_34e6ad71bcferow28_col1\" class=\"data row28 col1\" >False</td>\n",
       "            </tr>\n",
       "            <tr>\n",
       "                        <th id=\"T_f1161d48_a046_11ea_aec0_34e6ad71bcfelevel0_row29\" class=\"row_heading level0 row29\" >29</th>\n",
       "                        <td id=\"T_f1161d48_a046_11ea_aec0_34e6ad71bcferow29_col0\" class=\"data row29 col0\" >Multicollinearity Threshold </td>\n",
       "                        <td id=\"T_f1161d48_a046_11ea_aec0_34e6ad71bcferow29_col1\" class=\"data row29 col1\" >None</td>\n",
       "            </tr>\n",
       "            <tr>\n",
       "                        <th id=\"T_f1161d48_a046_11ea_aec0_34e6ad71bcfelevel0_row30\" class=\"row_heading level0 row30\" >30</th>\n",
       "                        <td id=\"T_f1161d48_a046_11ea_aec0_34e6ad71bcferow30_col0\" class=\"data row30 col0\" >Clustering </td>\n",
       "                        <td id=\"T_f1161d48_a046_11ea_aec0_34e6ad71bcferow30_col1\" class=\"data row30 col1\" >False</td>\n",
       "            </tr>\n",
       "            <tr>\n",
       "                        <th id=\"T_f1161d48_a046_11ea_aec0_34e6ad71bcfelevel0_row31\" class=\"row_heading level0 row31\" >31</th>\n",
       "                        <td id=\"T_f1161d48_a046_11ea_aec0_34e6ad71bcferow31_col0\" class=\"data row31 col0\" >Clustering Iteration </td>\n",
       "                        <td id=\"T_f1161d48_a046_11ea_aec0_34e6ad71bcferow31_col1\" class=\"data row31 col1\" >None</td>\n",
       "            </tr>\n",
       "            <tr>\n",
       "                        <th id=\"T_f1161d48_a046_11ea_aec0_34e6ad71bcfelevel0_row32\" class=\"row_heading level0 row32\" >32</th>\n",
       "                        <td id=\"T_f1161d48_a046_11ea_aec0_34e6ad71bcferow32_col0\" class=\"data row32 col0\" >Polynomial Features </td>\n",
       "                        <td id=\"T_f1161d48_a046_11ea_aec0_34e6ad71bcferow32_col1\" class=\"data row32 col1\" >False</td>\n",
       "            </tr>\n",
       "            <tr>\n",
       "                        <th id=\"T_f1161d48_a046_11ea_aec0_34e6ad71bcfelevel0_row33\" class=\"row_heading level0 row33\" >33</th>\n",
       "                        <td id=\"T_f1161d48_a046_11ea_aec0_34e6ad71bcferow33_col0\" class=\"data row33 col0\" >Polynomial Degree </td>\n",
       "                        <td id=\"T_f1161d48_a046_11ea_aec0_34e6ad71bcferow33_col1\" class=\"data row33 col1\" >None</td>\n",
       "            </tr>\n",
       "            <tr>\n",
       "                        <th id=\"T_f1161d48_a046_11ea_aec0_34e6ad71bcfelevel0_row34\" class=\"row_heading level0 row34\" >34</th>\n",
       "                        <td id=\"T_f1161d48_a046_11ea_aec0_34e6ad71bcferow34_col0\" class=\"data row34 col0\" >Trignometry Features </td>\n",
       "                        <td id=\"T_f1161d48_a046_11ea_aec0_34e6ad71bcferow34_col1\" class=\"data row34 col1\" >False</td>\n",
       "            </tr>\n",
       "            <tr>\n",
       "                        <th id=\"T_f1161d48_a046_11ea_aec0_34e6ad71bcfelevel0_row35\" class=\"row_heading level0 row35\" >35</th>\n",
       "                        <td id=\"T_f1161d48_a046_11ea_aec0_34e6ad71bcferow35_col0\" class=\"data row35 col0\" >Polynomial Threshold </td>\n",
       "                        <td id=\"T_f1161d48_a046_11ea_aec0_34e6ad71bcferow35_col1\" class=\"data row35 col1\" >None</td>\n",
       "            </tr>\n",
       "            <tr>\n",
       "                        <th id=\"T_f1161d48_a046_11ea_aec0_34e6ad71bcfelevel0_row36\" class=\"row_heading level0 row36\" >36</th>\n",
       "                        <td id=\"T_f1161d48_a046_11ea_aec0_34e6ad71bcferow36_col0\" class=\"data row36 col0\" >Group Features </td>\n",
       "                        <td id=\"T_f1161d48_a046_11ea_aec0_34e6ad71bcferow36_col1\" class=\"data row36 col1\" >False</td>\n",
       "            </tr>\n",
       "            <tr>\n",
       "                        <th id=\"T_f1161d48_a046_11ea_aec0_34e6ad71bcfelevel0_row37\" class=\"row_heading level0 row37\" >37</th>\n",
       "                        <td id=\"T_f1161d48_a046_11ea_aec0_34e6ad71bcferow37_col0\" class=\"data row37 col0\" >Feature Selection </td>\n",
       "                        <td id=\"T_f1161d48_a046_11ea_aec0_34e6ad71bcferow37_col1\" class=\"data row37 col1\" >False</td>\n",
       "            </tr>\n",
       "            <tr>\n",
       "                        <th id=\"T_f1161d48_a046_11ea_aec0_34e6ad71bcfelevel0_row38\" class=\"row_heading level0 row38\" >38</th>\n",
       "                        <td id=\"T_f1161d48_a046_11ea_aec0_34e6ad71bcferow38_col0\" class=\"data row38 col0\" >Features Selection Threshold </td>\n",
       "                        <td id=\"T_f1161d48_a046_11ea_aec0_34e6ad71bcferow38_col1\" class=\"data row38 col1\" >None</td>\n",
       "            </tr>\n",
       "            <tr>\n",
       "                        <th id=\"T_f1161d48_a046_11ea_aec0_34e6ad71bcfelevel0_row39\" class=\"row_heading level0 row39\" >39</th>\n",
       "                        <td id=\"T_f1161d48_a046_11ea_aec0_34e6ad71bcferow39_col0\" class=\"data row39 col0\" >Feature Interaction </td>\n",
       "                        <td id=\"T_f1161d48_a046_11ea_aec0_34e6ad71bcferow39_col1\" class=\"data row39 col1\" >False</td>\n",
       "            </tr>\n",
       "            <tr>\n",
       "                        <th id=\"T_f1161d48_a046_11ea_aec0_34e6ad71bcfelevel0_row40\" class=\"row_heading level0 row40\" >40</th>\n",
       "                        <td id=\"T_f1161d48_a046_11ea_aec0_34e6ad71bcferow40_col0\" class=\"data row40 col0\" >Feature Ratio </td>\n",
       "                        <td id=\"T_f1161d48_a046_11ea_aec0_34e6ad71bcferow40_col1\" class=\"data row40 col1\" >False</td>\n",
       "            </tr>\n",
       "            <tr>\n",
       "                        <th id=\"T_f1161d48_a046_11ea_aec0_34e6ad71bcfelevel0_row41\" class=\"row_heading level0 row41\" >41</th>\n",
       "                        <td id=\"T_f1161d48_a046_11ea_aec0_34e6ad71bcferow41_col0\" class=\"data row41 col0\" >Interaction Threshold </td>\n",
       "                        <td id=\"T_f1161d48_a046_11ea_aec0_34e6ad71bcferow41_col1\" class=\"data row41 col1\" >None</td>\n",
       "            </tr>\n",
       "    </tbody></table>"
      ],
      "text/plain": [
       "<pandas.io.formats.style.Styler at 0x1dc1f81de10>"
      ]
     },
     "metadata": {},
     "output_type": "display_data"
    }
   ],
   "source": [
    "from pycaret.regression import *\n",
    "env= setup(data = df, target = 'NetFare')"
   ]
  },
  {
   "cell_type": "markdown",
   "metadata": {},
   "source": [
    "# 2. Model Training"
   ]
  },
  {
   "cell_type": "markdown",
   "metadata": {},
   "source": [
    "## Create Model"
   ]
  },
  {
   "cell_type": "code",
   "execution_count": 32,
   "metadata": {},
   "outputs": [
    {
     "data": {
      "text/html": [
       "<div>\n",
       "<style scoped>\n",
       "    .dataframe tbody tr th:only-of-type {\n",
       "        vertical-align: middle;\n",
       "    }\n",
       "\n",
       "    .dataframe tbody tr th {\n",
       "        vertical-align: top;\n",
       "    }\n",
       "\n",
       "    .dataframe thead th {\n",
       "        text-align: right;\n",
       "    }\n",
       "</style>\n",
       "<table border=\"1\" class=\"dataframe\">\n",
       "  <thead>\n",
       "    <tr style=\"text-align: right;\">\n",
       "      <th></th>\n",
       "      <th>MAE</th>\n",
       "      <th>MSE</th>\n",
       "      <th>RMSE</th>\n",
       "      <th>R2</th>\n",
       "      <th>RMSLE</th>\n",
       "      <th>MAPE</th>\n",
       "    </tr>\n",
       "  </thead>\n",
       "  <tbody>\n",
       "    <tr>\n",
       "      <th>0</th>\n",
       "      <td>2.600980e+03</td>\n",
       "      <td>4.998092e+07</td>\n",
       "      <td>7.069718e+03</td>\n",
       "      <td>1.715000e-01</td>\n",
       "      <td>1.2343</td>\n",
       "      <td>8.259700e+00</td>\n",
       "    </tr>\n",
       "    <tr>\n",
       "      <th>1</th>\n",
       "      <td>2.669652e+03</td>\n",
       "      <td>6.463066e+07</td>\n",
       "      <td>8.039320e+03</td>\n",
       "      <td>1.534000e-01</td>\n",
       "      <td>1.5714</td>\n",
       "      <td>7.978400e+00</td>\n",
       "    </tr>\n",
       "    <tr>\n",
       "      <th>2</th>\n",
       "      <td>2.681154e+03</td>\n",
       "      <td>1.081726e+08</td>\n",
       "      <td>1.040061e+04</td>\n",
       "      <td>1.091000e-01</td>\n",
       "      <td>1.7479</td>\n",
       "      <td>8.710700e+00</td>\n",
       "    </tr>\n",
       "    <tr>\n",
       "      <th>3</th>\n",
       "      <td>2.662184e+03</td>\n",
       "      <td>6.961721e+07</td>\n",
       "      <td>8.343693e+03</td>\n",
       "      <td>1.642000e-01</td>\n",
       "      <td>1.6194</td>\n",
       "      <td>8.097500e+00</td>\n",
       "    </tr>\n",
       "    <tr>\n",
       "      <th>4</th>\n",
       "      <td>2.600027e+03</td>\n",
       "      <td>5.476869e+07</td>\n",
       "      <td>7.400587e+03</td>\n",
       "      <td>1.858000e-01</td>\n",
       "      <td>1.4950</td>\n",
       "      <td>8.973900e+00</td>\n",
       "    </tr>\n",
       "    <tr>\n",
       "      <th>5</th>\n",
       "      <td>2.704132e+03</td>\n",
       "      <td>8.422390e+07</td>\n",
       "      <td>9.177358e+03</td>\n",
       "      <td>1.116000e-01</td>\n",
       "      <td>1.3442</td>\n",
       "      <td>9.651700e+00</td>\n",
       "    </tr>\n",
       "    <tr>\n",
       "      <th>6</th>\n",
       "      <td>2.559372e+03</td>\n",
       "      <td>5.242988e+07</td>\n",
       "      <td>7.240848e+03</td>\n",
       "      <td>1.875000e-01</td>\n",
       "      <td>1.5174</td>\n",
       "      <td>8.494000e+00</td>\n",
       "    </tr>\n",
       "    <tr>\n",
       "      <th>7</th>\n",
       "      <td>2.630679e+03</td>\n",
       "      <td>5.723088e+07</td>\n",
       "      <td>7.565109e+03</td>\n",
       "      <td>1.849000e-01</td>\n",
       "      <td>1.6044</td>\n",
       "      <td>1.015140e+01</td>\n",
       "    </tr>\n",
       "    <tr>\n",
       "      <th>8</th>\n",
       "      <td>4.551757e+09</td>\n",
       "      <td>2.826828e+23</td>\n",
       "      <td>5.316792e+11</td>\n",
       "      <td>-4.280581e+15</td>\n",
       "      <td>1.3323</td>\n",
       "      <td>-1.391845e+06</td>\n",
       "    </tr>\n",
       "    <tr>\n",
       "      <th>9</th>\n",
       "      <td>2.741327e+03</td>\n",
       "      <td>9.399814e+07</td>\n",
       "      <td>9.695264e+03</td>\n",
       "      <td>1.093000e-01</td>\n",
       "      <td>1.5320</td>\n",
       "      <td>9.859300e+00</td>\n",
       "    </tr>\n",
       "    <tr>\n",
       "      <th>Mean</th>\n",
       "      <td>4.551781e+08</td>\n",
       "      <td>2.826828e+22</td>\n",
       "      <td>5.316793e+10</td>\n",
       "      <td>-4.280581e+14</td>\n",
       "      <td>1.4998</td>\n",
       "      <td>-1.391765e+05</td>\n",
       "    </tr>\n",
       "    <tr>\n",
       "      <th>SD</th>\n",
       "      <td>1.365526e+09</td>\n",
       "      <td>8.480484e+22</td>\n",
       "      <td>1.595038e+11</td>\n",
       "      <td>1.284174e+15</td>\n",
       "      <td>0.1470</td>\n",
       "      <td>4.175561e+05</td>\n",
       "    </tr>\n",
       "  </tbody>\n",
       "</table>\n",
       "</div>"
      ],
      "text/plain": [
       "               MAE           MSE          RMSE            R2   RMSLE  \\\n",
       "0     2.600980e+03  4.998092e+07  7.069718e+03  1.715000e-01  1.2343   \n",
       "1     2.669652e+03  6.463066e+07  8.039320e+03  1.534000e-01  1.5714   \n",
       "2     2.681154e+03  1.081726e+08  1.040061e+04  1.091000e-01  1.7479   \n",
       "3     2.662184e+03  6.961721e+07  8.343693e+03  1.642000e-01  1.6194   \n",
       "4     2.600027e+03  5.476869e+07  7.400587e+03  1.858000e-01  1.4950   \n",
       "5     2.704132e+03  8.422390e+07  9.177358e+03  1.116000e-01  1.3442   \n",
       "6     2.559372e+03  5.242988e+07  7.240848e+03  1.875000e-01  1.5174   \n",
       "7     2.630679e+03  5.723088e+07  7.565109e+03  1.849000e-01  1.6044   \n",
       "8     4.551757e+09  2.826828e+23  5.316792e+11 -4.280581e+15  1.3323   \n",
       "9     2.741327e+03  9.399814e+07  9.695264e+03  1.093000e-01  1.5320   \n",
       "Mean  4.551781e+08  2.826828e+22  5.316793e+10 -4.280581e+14  1.4998   \n",
       "SD    1.365526e+09  8.480484e+22  1.595038e+11  1.284174e+15  0.1470   \n",
       "\n",
       "              MAPE  \n",
       "0     8.259700e+00  \n",
       "1     7.978400e+00  \n",
       "2     8.710700e+00  \n",
       "3     8.097500e+00  \n",
       "4     8.973900e+00  \n",
       "5     9.651700e+00  \n",
       "6     8.494000e+00  \n",
       "7     1.015140e+01  \n",
       "8    -1.391845e+06  \n",
       "9     9.859300e+00  \n",
       "Mean -1.391765e+05  \n",
       "SD    4.175561e+05  "
      ]
     },
     "metadata": {},
     "output_type": "display_data"
    }
   ],
   "source": [
    "lr = create_model('lr')"
   ]
  },
  {
   "cell_type": "code",
   "execution_count": 34,
   "metadata": {},
   "outputs": [
    {
     "data": {
      "text/html": [
       "<div>\n",
       "<style scoped>\n",
       "    .dataframe tbody tr th:only-of-type {\n",
       "        vertical-align: middle;\n",
       "    }\n",
       "\n",
       "    .dataframe tbody tr th {\n",
       "        vertical-align: top;\n",
       "    }\n",
       "\n",
       "    .dataframe thead th {\n",
       "        text-align: right;\n",
       "    }\n",
       "</style>\n",
       "<table border=\"1\" class=\"dataframe\">\n",
       "  <thead>\n",
       "    <tr style=\"text-align: right;\">\n",
       "      <th></th>\n",
       "      <th>MAE</th>\n",
       "      <th>MSE</th>\n",
       "      <th>RMSE</th>\n",
       "      <th>R2</th>\n",
       "      <th>RMSLE</th>\n",
       "      <th>MAPE</th>\n",
       "    </tr>\n",
       "  </thead>\n",
       "  <tbody>\n",
       "    <tr>\n",
       "      <th>0</th>\n",
       "      <td>2607.1427</td>\n",
       "      <td>4.998407e+07</td>\n",
       "      <td>7069.9414</td>\n",
       "      <td>0.1714</td>\n",
       "      <td>1.2121</td>\n",
       "      <td>8.4484</td>\n",
       "    </tr>\n",
       "    <tr>\n",
       "      <th>1</th>\n",
       "      <td>2666.8548</td>\n",
       "      <td>6.463306e+07</td>\n",
       "      <td>8039.4691</td>\n",
       "      <td>0.1534</td>\n",
       "      <td>1.2266</td>\n",
       "      <td>7.9081</td>\n",
       "    </tr>\n",
       "    <tr>\n",
       "      <th>2</th>\n",
       "      <td>2673.3019</td>\n",
       "      <td>1.081696e+08</td>\n",
       "      <td>10400.4594</td>\n",
       "      <td>0.1091</td>\n",
       "      <td>1.2604</td>\n",
       "      <td>8.6018</td>\n",
       "    </tr>\n",
       "    <tr>\n",
       "      <th>3</th>\n",
       "      <td>2663.5381</td>\n",
       "      <td>6.961599e+07</td>\n",
       "      <td>8343.6199</td>\n",
       "      <td>0.1642</td>\n",
       "      <td>1.2475</td>\n",
       "      <td>8.1878</td>\n",
       "    </tr>\n",
       "    <tr>\n",
       "      <th>4</th>\n",
       "      <td>2596.0216</td>\n",
       "      <td>5.476855e+07</td>\n",
       "      <td>7400.5775</td>\n",
       "      <td>0.1858</td>\n",
       "      <td>1.2850</td>\n",
       "      <td>8.9275</td>\n",
       "    </tr>\n",
       "    <tr>\n",
       "      <th>5</th>\n",
       "      <td>2702.2322</td>\n",
       "      <td>8.422325e+07</td>\n",
       "      <td>9177.3226</td>\n",
       "      <td>0.1116</td>\n",
       "      <td>1.2443</td>\n",
       "      <td>9.6409</td>\n",
       "    </tr>\n",
       "    <tr>\n",
       "      <th>6</th>\n",
       "      <td>2554.6932</td>\n",
       "      <td>5.242869e+07</td>\n",
       "      <td>7240.7659</td>\n",
       "      <td>0.1875</td>\n",
       "      <td>1.2502</td>\n",
       "      <td>8.4401</td>\n",
       "    </tr>\n",
       "    <tr>\n",
       "      <th>7</th>\n",
       "      <td>2626.2074</td>\n",
       "      <td>5.723161e+07</td>\n",
       "      <td>7565.1575</td>\n",
       "      <td>0.1849</td>\n",
       "      <td>1.2837</td>\n",
       "      <td>10.0951</td>\n",
       "    </tr>\n",
       "    <tr>\n",
       "      <th>8</th>\n",
       "      <td>2631.8280</td>\n",
       "      <td>5.415904e+07</td>\n",
       "      <td>7359.2827</td>\n",
       "      <td>0.1799</td>\n",
       "      <td>1.2319</td>\n",
       "      <td>9.3235</td>\n",
       "    </tr>\n",
       "    <tr>\n",
       "      <th>9</th>\n",
       "      <td>2735.3036</td>\n",
       "      <td>9.399570e+07</td>\n",
       "      <td>9695.1380</td>\n",
       "      <td>0.1093</td>\n",
       "      <td>1.2873</td>\n",
       "      <td>9.7961</td>\n",
       "    </tr>\n",
       "    <tr>\n",
       "      <th>Mean</th>\n",
       "      <td>2645.7124</td>\n",
       "      <td>6.892095e+07</td>\n",
       "      <td>8229.1734</td>\n",
       "      <td>0.1557</td>\n",
       "      <td>1.2529</td>\n",
       "      <td>8.9369</td>\n",
       "    </tr>\n",
       "    <tr>\n",
       "      <th>SD</th>\n",
       "      <td>50.5584</td>\n",
       "      <td>1.899387e+07</td>\n",
       "      <td>1096.2013</td>\n",
       "      <td>0.0315</td>\n",
       "      <td>0.0247</td>\n",
       "      <td>0.7030</td>\n",
       "    </tr>\n",
       "  </tbody>\n",
       "</table>\n",
       "</div>"
      ],
      "text/plain": [
       "            MAE           MSE        RMSE      R2   RMSLE     MAPE\n",
       "0     2607.1427  4.998407e+07   7069.9414  0.1714  1.2121   8.4484\n",
       "1     2666.8548  6.463306e+07   8039.4691  0.1534  1.2266   7.9081\n",
       "2     2673.3019  1.081696e+08  10400.4594  0.1091  1.2604   8.6018\n",
       "3     2663.5381  6.961599e+07   8343.6199  0.1642  1.2475   8.1878\n",
       "4     2596.0216  5.476855e+07   7400.5775  0.1858  1.2850   8.9275\n",
       "5     2702.2322  8.422325e+07   9177.3226  0.1116  1.2443   9.6409\n",
       "6     2554.6932  5.242869e+07   7240.7659  0.1875  1.2502   8.4401\n",
       "7     2626.2074  5.723161e+07   7565.1575  0.1849  1.2837  10.0951\n",
       "8     2631.8280  5.415904e+07   7359.2827  0.1799  1.2319   9.3235\n",
       "9     2735.3036  9.399570e+07   9695.1380  0.1093  1.2873   9.7961\n",
       "Mean  2645.7124  6.892095e+07   8229.1734  0.1557  1.2529   8.9369\n",
       "SD      50.5584  1.899387e+07   1096.2013  0.0315  0.0247   0.7030"
      ]
     },
     "metadata": {},
     "output_type": "display_data"
    }
   ],
   "source": [
    "ridge=create_model('ridge')"
   ]
  },
  {
   "cell_type": "code",
   "execution_count": 35,
   "metadata": {},
   "outputs": [
    {
     "data": {
      "text/html": [
       "<div>\n",
       "<style scoped>\n",
       "    .dataframe tbody tr th:only-of-type {\n",
       "        vertical-align: middle;\n",
       "    }\n",
       "\n",
       "    .dataframe tbody tr th {\n",
       "        vertical-align: top;\n",
       "    }\n",
       "\n",
       "    .dataframe thead th {\n",
       "        text-align: right;\n",
       "    }\n",
       "</style>\n",
       "<table border=\"1\" class=\"dataframe\">\n",
       "  <thead>\n",
       "    <tr style=\"text-align: right;\">\n",
       "      <th></th>\n",
       "      <th>MAE</th>\n",
       "      <th>MSE</th>\n",
       "      <th>RMSE</th>\n",
       "      <th>R2</th>\n",
       "      <th>RMSLE</th>\n",
       "      <th>MAPE</th>\n",
       "    </tr>\n",
       "  </thead>\n",
       "  <tbody>\n",
       "    <tr>\n",
       "      <th>0</th>\n",
       "      <td>2607.2476</td>\n",
       "      <td>4.998355e+07</td>\n",
       "      <td>7069.9048</td>\n",
       "      <td>0.1714</td>\n",
       "      <td>1.2120</td>\n",
       "      <td>8.4495</td>\n",
       "    </tr>\n",
       "    <tr>\n",
       "      <th>1</th>\n",
       "      <td>2666.9469</td>\n",
       "      <td>6.463212e+07</td>\n",
       "      <td>8039.4104</td>\n",
       "      <td>0.1534</td>\n",
       "      <td>1.2265</td>\n",
       "      <td>7.9092</td>\n",
       "    </tr>\n",
       "    <tr>\n",
       "      <th>2</th>\n",
       "      <td>2673.4337</td>\n",
       "      <td>1.081702e+08</td>\n",
       "      <td>10400.4905</td>\n",
       "      <td>0.1091</td>\n",
       "      <td>1.2604</td>\n",
       "      <td>8.5964</td>\n",
       "    </tr>\n",
       "    <tr>\n",
       "      <th>3</th>\n",
       "      <td>2663.6237</td>\n",
       "      <td>6.961561e+07</td>\n",
       "      <td>8343.5967</td>\n",
       "      <td>0.1642</td>\n",
       "      <td>1.2474</td>\n",
       "      <td>8.1889</td>\n",
       "    </tr>\n",
       "    <tr>\n",
       "      <th>4</th>\n",
       "      <td>2596.1116</td>\n",
       "      <td>5.476839e+07</td>\n",
       "      <td>7400.5669</td>\n",
       "      <td>0.1858</td>\n",
       "      <td>1.2849</td>\n",
       "      <td>8.9286</td>\n",
       "    </tr>\n",
       "    <tr>\n",
       "      <th>5</th>\n",
       "      <td>2702.2819</td>\n",
       "      <td>8.422355e+07</td>\n",
       "      <td>9177.3387</td>\n",
       "      <td>0.1116</td>\n",
       "      <td>1.2449</td>\n",
       "      <td>9.6421</td>\n",
       "    </tr>\n",
       "    <tr>\n",
       "      <th>6</th>\n",
       "      <td>2554.8787</td>\n",
       "      <td>5.242986e+07</td>\n",
       "      <td>7240.8465</td>\n",
       "      <td>0.1875</td>\n",
       "      <td>1.2502</td>\n",
       "      <td>8.4414</td>\n",
       "    </tr>\n",
       "    <tr>\n",
       "      <th>7</th>\n",
       "      <td>2626.3010</td>\n",
       "      <td>5.723205e+07</td>\n",
       "      <td>7565.1865</td>\n",
       "      <td>0.1849</td>\n",
       "      <td>1.2829</td>\n",
       "      <td>10.0965</td>\n",
       "    </tr>\n",
       "    <tr>\n",
       "      <th>8</th>\n",
       "      <td>2632.2793</td>\n",
       "      <td>5.416173e+07</td>\n",
       "      <td>7359.4657</td>\n",
       "      <td>0.1798</td>\n",
       "      <td>1.2318</td>\n",
       "      <td>9.3248</td>\n",
       "    </tr>\n",
       "    <tr>\n",
       "      <th>9</th>\n",
       "      <td>2735.4742</td>\n",
       "      <td>9.399628e+07</td>\n",
       "      <td>9695.1679</td>\n",
       "      <td>0.1093</td>\n",
       "      <td>1.2873</td>\n",
       "      <td>9.7975</td>\n",
       "    </tr>\n",
       "    <tr>\n",
       "      <th>Mean</th>\n",
       "      <td>2645.8579</td>\n",
       "      <td>6.892133e+07</td>\n",
       "      <td>8229.1975</td>\n",
       "      <td>0.1557</td>\n",
       "      <td>1.2528</td>\n",
       "      <td>8.9375</td>\n",
       "    </tr>\n",
       "    <tr>\n",
       "      <th>SD</th>\n",
       "      <td>50.5421</td>\n",
       "      <td>1.899385e+07</td>\n",
       "      <td>1096.1948</td>\n",
       "      <td>0.0315</td>\n",
       "      <td>0.0247</td>\n",
       "      <td>0.7034</td>\n",
       "    </tr>\n",
       "  </tbody>\n",
       "</table>\n",
       "</div>"
      ],
      "text/plain": [
       "            MAE           MSE        RMSE      R2   RMSLE     MAPE\n",
       "0     2607.2476  4.998355e+07   7069.9048  0.1714  1.2120   8.4495\n",
       "1     2666.9469  6.463212e+07   8039.4104  0.1534  1.2265   7.9092\n",
       "2     2673.4337  1.081702e+08  10400.4905  0.1091  1.2604   8.5964\n",
       "3     2663.6237  6.961561e+07   8343.5967  0.1642  1.2474   8.1889\n",
       "4     2596.1116  5.476839e+07   7400.5669  0.1858  1.2849   8.9286\n",
       "5     2702.2819  8.422355e+07   9177.3387  0.1116  1.2449   9.6421\n",
       "6     2554.8787  5.242986e+07   7240.8465  0.1875  1.2502   8.4414\n",
       "7     2626.3010  5.723205e+07   7565.1865  0.1849  1.2829  10.0965\n",
       "8     2632.2793  5.416173e+07   7359.4657  0.1798  1.2318   9.3248\n",
       "9     2735.4742  9.399628e+07   9695.1679  0.1093  1.2873   9.7975\n",
       "Mean  2645.8579  6.892133e+07   8229.1975  0.1557  1.2528   8.9375\n",
       "SD      50.5421  1.899385e+07   1096.1948  0.0315  0.0247   0.7034"
      ]
     },
     "metadata": {},
     "output_type": "display_data"
    }
   ],
   "source": [
    "lar=create_model('lar')"
   ]
  },
  {
   "cell_type": "markdown",
   "metadata": {},
   "source": [
    "# 3. Tune Model"
   ]
  },
  {
   "cell_type": "code",
   "execution_count": 36,
   "metadata": {},
   "outputs": [
    {
     "data": {
      "text/html": [
       "<div>\n",
       "<style scoped>\n",
       "    .dataframe tbody tr th:only-of-type {\n",
       "        vertical-align: middle;\n",
       "    }\n",
       "\n",
       "    .dataframe tbody tr th {\n",
       "        vertical-align: top;\n",
       "    }\n",
       "\n",
       "    .dataframe thead th {\n",
       "        text-align: right;\n",
       "    }\n",
       "</style>\n",
       "<table border=\"1\" class=\"dataframe\">\n",
       "  <thead>\n",
       "    <tr style=\"text-align: right;\">\n",
       "      <th></th>\n",
       "      <th>MAE</th>\n",
       "      <th>MSE</th>\n",
       "      <th>RMSE</th>\n",
       "      <th>R2</th>\n",
       "      <th>RMSLE</th>\n",
       "      <th>MAPE</th>\n",
       "    </tr>\n",
       "  </thead>\n",
       "  <tbody>\n",
       "    <tr>\n",
       "      <th>0</th>\n",
       "      <td>2607.2476</td>\n",
       "      <td>4.998355e+07</td>\n",
       "      <td>7069.9048</td>\n",
       "      <td>0.1714</td>\n",
       "      <td>1.2120</td>\n",
       "      <td>8.4495</td>\n",
       "    </tr>\n",
       "    <tr>\n",
       "      <th>1</th>\n",
       "      <td>2666.9469</td>\n",
       "      <td>6.463212e+07</td>\n",
       "      <td>8039.4104</td>\n",
       "      <td>0.1534</td>\n",
       "      <td>1.2265</td>\n",
       "      <td>7.9092</td>\n",
       "    </tr>\n",
       "    <tr>\n",
       "      <th>2</th>\n",
       "      <td>2673.4337</td>\n",
       "      <td>1.081702e+08</td>\n",
       "      <td>10400.4905</td>\n",
       "      <td>0.1091</td>\n",
       "      <td>1.2604</td>\n",
       "      <td>8.5964</td>\n",
       "    </tr>\n",
       "    <tr>\n",
       "      <th>3</th>\n",
       "      <td>2663.6237</td>\n",
       "      <td>6.961561e+07</td>\n",
       "      <td>8343.5967</td>\n",
       "      <td>0.1642</td>\n",
       "      <td>1.2474</td>\n",
       "      <td>8.1889</td>\n",
       "    </tr>\n",
       "    <tr>\n",
       "      <th>4</th>\n",
       "      <td>2596.1116</td>\n",
       "      <td>5.476839e+07</td>\n",
       "      <td>7400.5669</td>\n",
       "      <td>0.1858</td>\n",
       "      <td>1.2849</td>\n",
       "      <td>8.9286</td>\n",
       "    </tr>\n",
       "    <tr>\n",
       "      <th>5</th>\n",
       "      <td>2702.2819</td>\n",
       "      <td>8.422355e+07</td>\n",
       "      <td>9177.3387</td>\n",
       "      <td>0.1116</td>\n",
       "      <td>1.2449</td>\n",
       "      <td>9.6421</td>\n",
       "    </tr>\n",
       "    <tr>\n",
       "      <th>6</th>\n",
       "      <td>2554.8787</td>\n",
       "      <td>5.242986e+07</td>\n",
       "      <td>7240.8465</td>\n",
       "      <td>0.1875</td>\n",
       "      <td>1.2502</td>\n",
       "      <td>8.4414</td>\n",
       "    </tr>\n",
       "    <tr>\n",
       "      <th>7</th>\n",
       "      <td>2626.3010</td>\n",
       "      <td>5.723205e+07</td>\n",
       "      <td>7565.1865</td>\n",
       "      <td>0.1849</td>\n",
       "      <td>1.2829</td>\n",
       "      <td>10.0965</td>\n",
       "    </tr>\n",
       "    <tr>\n",
       "      <th>8</th>\n",
       "      <td>2632.1225</td>\n",
       "      <td>5.415984e+07</td>\n",
       "      <td>7359.3367</td>\n",
       "      <td>0.1799</td>\n",
       "      <td>1.2318</td>\n",
       "      <td>9.3248</td>\n",
       "    </tr>\n",
       "    <tr>\n",
       "      <th>9</th>\n",
       "      <td>2735.4742</td>\n",
       "      <td>9.399628e+07</td>\n",
       "      <td>9695.1679</td>\n",
       "      <td>0.1093</td>\n",
       "      <td>1.2873</td>\n",
       "      <td>9.7975</td>\n",
       "    </tr>\n",
       "    <tr>\n",
       "      <th>Mean</th>\n",
       "      <td>2645.8422</td>\n",
       "      <td>6.892114e+07</td>\n",
       "      <td>8229.1846</td>\n",
       "      <td>0.1557</td>\n",
       "      <td>1.2528</td>\n",
       "      <td>8.9375</td>\n",
       "    </tr>\n",
       "    <tr>\n",
       "      <th>SD</th>\n",
       "      <td>50.5464</td>\n",
       "      <td>1.899400e+07</td>\n",
       "      <td>1096.2050</td>\n",
       "      <td>0.0315</td>\n",
       "      <td>0.0247</td>\n",
       "      <td>0.7034</td>\n",
       "    </tr>\n",
       "  </tbody>\n",
       "</table>\n",
       "</div>"
      ],
      "text/plain": [
       "            MAE           MSE        RMSE      R2   RMSLE     MAPE\n",
       "0     2607.2476  4.998355e+07   7069.9048  0.1714  1.2120   8.4495\n",
       "1     2666.9469  6.463212e+07   8039.4104  0.1534  1.2265   7.9092\n",
       "2     2673.4337  1.081702e+08  10400.4905  0.1091  1.2604   8.5964\n",
       "3     2663.6237  6.961561e+07   8343.5967  0.1642  1.2474   8.1889\n",
       "4     2596.1116  5.476839e+07   7400.5669  0.1858  1.2849   8.9286\n",
       "5     2702.2819  8.422355e+07   9177.3387  0.1116  1.2449   9.6421\n",
       "6     2554.8787  5.242986e+07   7240.8465  0.1875  1.2502   8.4414\n",
       "7     2626.3010  5.723205e+07   7565.1865  0.1849  1.2829  10.0965\n",
       "8     2632.1225  5.415984e+07   7359.3367  0.1799  1.2318   9.3248\n",
       "9     2735.4742  9.399628e+07   9695.1679  0.1093  1.2873   9.7975\n",
       "Mean  2645.8422  6.892114e+07   8229.1846  0.1557  1.2528   8.9375\n",
       "SD      50.5464  1.899400e+07   1096.2050  0.0315  0.0247   0.7034"
      ]
     },
     "metadata": {},
     "output_type": "display_data"
    },
    {
     "data": {
      "text/plain": [
       "LinearRegression(copy_X=True, fit_intercept=False, n_jobs=None, normalize=True)"
      ]
     },
     "execution_count": 36,
     "metadata": {},
     "output_type": "execute_result"
    }
   ],
   "source": [
    "tuned_lr = tune_model('lr')\n",
    "tuned_lr"
   ]
  },
  {
   "cell_type": "code",
   "execution_count": 37,
   "metadata": {},
   "outputs": [
    {
     "data": {
      "text/html": [
       "<div>\n",
       "<style scoped>\n",
       "    .dataframe tbody tr th:only-of-type {\n",
       "        vertical-align: middle;\n",
       "    }\n",
       "\n",
       "    .dataframe tbody tr th {\n",
       "        vertical-align: top;\n",
       "    }\n",
       "\n",
       "    .dataframe thead th {\n",
       "        text-align: right;\n",
       "    }\n",
       "</style>\n",
       "<table border=\"1\" class=\"dataframe\">\n",
       "  <thead>\n",
       "    <tr style=\"text-align: right;\">\n",
       "      <th></th>\n",
       "      <th>MAE</th>\n",
       "      <th>MSE</th>\n",
       "      <th>RMSE</th>\n",
       "      <th>R2</th>\n",
       "      <th>RMSLE</th>\n",
       "      <th>MAPE</th>\n",
       "    </tr>\n",
       "  </thead>\n",
       "  <tbody>\n",
       "    <tr>\n",
       "      <th>0</th>\n",
       "      <td>2607.1585</td>\n",
       "      <td>4.998400e+07</td>\n",
       "      <td>7069.9361</td>\n",
       "      <td>0.1714</td>\n",
       "      <td>1.2120</td>\n",
       "      <td>8.4486</td>\n",
       "    </tr>\n",
       "    <tr>\n",
       "      <th>1</th>\n",
       "      <td>2666.8686</td>\n",
       "      <td>6.463292e+07</td>\n",
       "      <td>8039.4605</td>\n",
       "      <td>0.1534</td>\n",
       "      <td>1.2266</td>\n",
       "      <td>7.9083</td>\n",
       "    </tr>\n",
       "    <tr>\n",
       "      <th>2</th>\n",
       "      <td>2673.3215</td>\n",
       "      <td>1.081696e+08</td>\n",
       "      <td>10400.4638</td>\n",
       "      <td>0.1091</td>\n",
       "      <td>1.2604</td>\n",
       "      <td>8.6010</td>\n",
       "    </tr>\n",
       "    <tr>\n",
       "      <th>3</th>\n",
       "      <td>2663.5510</td>\n",
       "      <td>6.961594e+07</td>\n",
       "      <td>8343.6164</td>\n",
       "      <td>0.1642</td>\n",
       "      <td>1.2475</td>\n",
       "      <td>8.1880</td>\n",
       "    </tr>\n",
       "    <tr>\n",
       "      <th>4</th>\n",
       "      <td>2596.0353</td>\n",
       "      <td>5.476853e+07</td>\n",
       "      <td>7400.5761</td>\n",
       "      <td>0.1858</td>\n",
       "      <td>1.2850</td>\n",
       "      <td>8.9277</td>\n",
       "    </tr>\n",
       "    <tr>\n",
       "      <th>5</th>\n",
       "      <td>2702.2410</td>\n",
       "      <td>8.422329e+07</td>\n",
       "      <td>9177.3250</td>\n",
       "      <td>0.1116</td>\n",
       "      <td>1.2443</td>\n",
       "      <td>9.6411</td>\n",
       "    </tr>\n",
       "    <tr>\n",
       "      <th>6</th>\n",
       "      <td>2554.7203</td>\n",
       "      <td>5.242886e+07</td>\n",
       "      <td>7240.7773</td>\n",
       "      <td>0.1875</td>\n",
       "      <td>1.2502</td>\n",
       "      <td>8.4403</td>\n",
       "    </tr>\n",
       "    <tr>\n",
       "      <th>7</th>\n",
       "      <td>2626.2216</td>\n",
       "      <td>5.723167e+07</td>\n",
       "      <td>7565.1614</td>\n",
       "      <td>0.1849</td>\n",
       "      <td>1.2836</td>\n",
       "      <td>10.0953</td>\n",
       "    </tr>\n",
       "    <tr>\n",
       "      <th>8</th>\n",
       "      <td>2631.8495</td>\n",
       "      <td>5.415898e+07</td>\n",
       "      <td>7359.2788</td>\n",
       "      <td>0.1799</td>\n",
       "      <td>1.2319</td>\n",
       "      <td>9.3237</td>\n",
       "    </tr>\n",
       "    <tr>\n",
       "      <th>9</th>\n",
       "      <td>2735.3278</td>\n",
       "      <td>9.399577e+07</td>\n",
       "      <td>9695.1417</td>\n",
       "      <td>0.1093</td>\n",
       "      <td>1.2872</td>\n",
       "      <td>9.7963</td>\n",
       "    </tr>\n",
       "    <tr>\n",
       "      <th>Mean</th>\n",
       "      <td>2645.7295</td>\n",
       "      <td>6.892096e+07</td>\n",
       "      <td>8229.1737</td>\n",
       "      <td>0.1557</td>\n",
       "      <td>1.2529</td>\n",
       "      <td>8.9370</td>\n",
       "    </tr>\n",
       "    <tr>\n",
       "      <th>SD</th>\n",
       "      <td>50.5572</td>\n",
       "      <td>1.899390e+07</td>\n",
       "      <td>1096.2027</td>\n",
       "      <td>0.0315</td>\n",
       "      <td>0.0247</td>\n",
       "      <td>0.7031</td>\n",
       "    </tr>\n",
       "  </tbody>\n",
       "</table>\n",
       "</div>"
      ],
      "text/plain": [
       "            MAE           MSE        RMSE      R2   RMSLE     MAPE\n",
       "0     2607.1585  4.998400e+07   7069.9361  0.1714  1.2120   8.4486\n",
       "1     2666.8686  6.463292e+07   8039.4605  0.1534  1.2266   7.9083\n",
       "2     2673.3215  1.081696e+08  10400.4638  0.1091  1.2604   8.6010\n",
       "3     2663.5510  6.961594e+07   8343.6164  0.1642  1.2475   8.1880\n",
       "4     2596.0353  5.476853e+07   7400.5761  0.1858  1.2850   8.9277\n",
       "5     2702.2410  8.422329e+07   9177.3250  0.1116  1.2443   9.6411\n",
       "6     2554.7203  5.242886e+07   7240.7773  0.1875  1.2502   8.4403\n",
       "7     2626.2216  5.723167e+07   7565.1614  0.1849  1.2836  10.0953\n",
       "8     2631.8495  5.415898e+07   7359.2788  0.1799  1.2319   9.3237\n",
       "9     2735.3278  9.399577e+07   9695.1417  0.1093  1.2872   9.7963\n",
       "Mean  2645.7295  6.892096e+07   8229.1737  0.1557  1.2529   8.9370\n",
       "SD      50.5572  1.899390e+07   1096.2027  0.0315  0.0247   0.7031"
      ]
     },
     "metadata": {},
     "output_type": "display_data"
    },
    {
     "data": {
      "text/plain": [
       "Ridge(alpha=0.854, copy_X=True, fit_intercept=True, max_iter=None,\n",
       "      normalize=False, random_state=758, solver='auto', tol=0.001)"
      ]
     },
     "execution_count": 37,
     "metadata": {},
     "output_type": "execute_result"
    }
   ],
   "source": [
    "tuned_ridge = tune_model('ridge')\n",
    "tuned_ridge"
   ]
  },
  {
   "cell_type": "code",
   "execution_count": 38,
   "metadata": {},
   "outputs": [
    {
     "data": {
      "text/html": [
       "<div>\n",
       "<style scoped>\n",
       "    .dataframe tbody tr th:only-of-type {\n",
       "        vertical-align: middle;\n",
       "    }\n",
       "\n",
       "    .dataframe tbody tr th {\n",
       "        vertical-align: top;\n",
       "    }\n",
       "\n",
       "    .dataframe thead th {\n",
       "        text-align: right;\n",
       "    }\n",
       "</style>\n",
       "<table border=\"1\" class=\"dataframe\">\n",
       "  <thead>\n",
       "    <tr style=\"text-align: right;\">\n",
       "      <th></th>\n",
       "      <th>MAE</th>\n",
       "      <th>MSE</th>\n",
       "      <th>RMSE</th>\n",
       "      <th>R2</th>\n",
       "      <th>RMSLE</th>\n",
       "      <th>MAPE</th>\n",
       "    </tr>\n",
       "  </thead>\n",
       "  <tbody>\n",
       "    <tr>\n",
       "      <th>0</th>\n",
       "      <td>2607.2476</td>\n",
       "      <td>4.998355e+07</td>\n",
       "      <td>7069.9048</td>\n",
       "      <td>0.1714</td>\n",
       "      <td>1.2120</td>\n",
       "      <td>8.4495</td>\n",
       "    </tr>\n",
       "    <tr>\n",
       "      <th>1</th>\n",
       "      <td>2666.9469</td>\n",
       "      <td>6.463212e+07</td>\n",
       "      <td>8039.4104</td>\n",
       "      <td>0.1534</td>\n",
       "      <td>1.2265</td>\n",
       "      <td>7.9092</td>\n",
       "    </tr>\n",
       "    <tr>\n",
       "      <th>2</th>\n",
       "      <td>2673.4337</td>\n",
       "      <td>1.081702e+08</td>\n",
       "      <td>10400.4905</td>\n",
       "      <td>0.1091</td>\n",
       "      <td>1.2604</td>\n",
       "      <td>8.5964</td>\n",
       "    </tr>\n",
       "    <tr>\n",
       "      <th>3</th>\n",
       "      <td>2663.6237</td>\n",
       "      <td>6.961561e+07</td>\n",
       "      <td>8343.5967</td>\n",
       "      <td>0.1642</td>\n",
       "      <td>1.2474</td>\n",
       "      <td>8.1889</td>\n",
       "    </tr>\n",
       "    <tr>\n",
       "      <th>4</th>\n",
       "      <td>2596.1116</td>\n",
       "      <td>5.476839e+07</td>\n",
       "      <td>7400.5669</td>\n",
       "      <td>0.1858</td>\n",
       "      <td>1.2849</td>\n",
       "      <td>8.9286</td>\n",
       "    </tr>\n",
       "    <tr>\n",
       "      <th>5</th>\n",
       "      <td>2702.2819</td>\n",
       "      <td>8.422355e+07</td>\n",
       "      <td>9177.3387</td>\n",
       "      <td>0.1116</td>\n",
       "      <td>1.2449</td>\n",
       "      <td>9.6421</td>\n",
       "    </tr>\n",
       "    <tr>\n",
       "      <th>6</th>\n",
       "      <td>2554.8787</td>\n",
       "      <td>5.242986e+07</td>\n",
       "      <td>7240.8465</td>\n",
       "      <td>0.1875</td>\n",
       "      <td>1.2502</td>\n",
       "      <td>8.4414</td>\n",
       "    </tr>\n",
       "    <tr>\n",
       "      <th>7</th>\n",
       "      <td>2626.3010</td>\n",
       "      <td>5.723205e+07</td>\n",
       "      <td>7565.1865</td>\n",
       "      <td>0.1849</td>\n",
       "      <td>1.2829</td>\n",
       "      <td>10.0965</td>\n",
       "    </tr>\n",
       "    <tr>\n",
       "      <th>8</th>\n",
       "      <td>2632.2793</td>\n",
       "      <td>5.416173e+07</td>\n",
       "      <td>7359.4657</td>\n",
       "      <td>0.1798</td>\n",
       "      <td>1.2318</td>\n",
       "      <td>9.3248</td>\n",
       "    </tr>\n",
       "    <tr>\n",
       "      <th>9</th>\n",
       "      <td>2735.4742</td>\n",
       "      <td>9.399628e+07</td>\n",
       "      <td>9695.1679</td>\n",
       "      <td>0.1093</td>\n",
       "      <td>1.2873</td>\n",
       "      <td>9.7975</td>\n",
       "    </tr>\n",
       "    <tr>\n",
       "      <th>Mean</th>\n",
       "      <td>2645.8579</td>\n",
       "      <td>6.892133e+07</td>\n",
       "      <td>8229.1975</td>\n",
       "      <td>0.1557</td>\n",
       "      <td>1.2528</td>\n",
       "      <td>8.9375</td>\n",
       "    </tr>\n",
       "    <tr>\n",
       "      <th>SD</th>\n",
       "      <td>50.5421</td>\n",
       "      <td>1.899385e+07</td>\n",
       "      <td>1096.1948</td>\n",
       "      <td>0.0315</td>\n",
       "      <td>0.0247</td>\n",
       "      <td>0.7034</td>\n",
       "    </tr>\n",
       "  </tbody>\n",
       "</table>\n",
       "</div>"
      ],
      "text/plain": [
       "            MAE           MSE        RMSE      R2   RMSLE     MAPE\n",
       "0     2607.2476  4.998355e+07   7069.9048  0.1714  1.2120   8.4495\n",
       "1     2666.9469  6.463212e+07   8039.4104  0.1534  1.2265   7.9092\n",
       "2     2673.4337  1.081702e+08  10400.4905  0.1091  1.2604   8.5964\n",
       "3     2663.6237  6.961561e+07   8343.5967  0.1642  1.2474   8.1889\n",
       "4     2596.1116  5.476839e+07   7400.5669  0.1858  1.2849   8.9286\n",
       "5     2702.2819  8.422355e+07   9177.3387  0.1116  1.2449   9.6421\n",
       "6     2554.8787  5.242986e+07   7240.8465  0.1875  1.2502   8.4414\n",
       "7     2626.3010  5.723205e+07   7565.1865  0.1849  1.2829  10.0965\n",
       "8     2632.2793  5.416173e+07   7359.4657  0.1798  1.2318   9.3248\n",
       "9     2735.4742  9.399628e+07   9695.1679  0.1093  1.2873   9.7975\n",
       "Mean  2645.8579  6.892133e+07   8229.1975  0.1557  1.2528   8.9375\n",
       "SD      50.5421  1.899385e+07   1096.1948  0.0315  0.0247   0.7034"
      ]
     },
     "metadata": {},
     "output_type": "display_data"
    },
    {
     "data": {
      "text/plain": [
       "Lars(copy_X=True, eps=0.001, fit_intercept=True, fit_path=True,\n",
       "     n_nonzero_coefs=500, normalize=True, precompute='auto', verbose=False)"
      ]
     },
     "execution_count": 38,
     "metadata": {},
     "output_type": "execute_result"
    }
   ],
   "source": [
    "tuned_lar = tune_model('lar')\n",
    "tuned_lar"
   ]
  },
  {
   "cell_type": "markdown",
   "metadata": {},
   "source": [
    "# 4. Model Ensembling"
   ]
  },
  {
   "cell_type": "markdown",
   "metadata": {},
   "source": [
    "## Blend Models"
   ]
  },
  {
   "cell_type": "code",
   "execution_count": 39,
   "metadata": {},
   "outputs": [
    {
     "data": {
      "text/html": [
       "<div>\n",
       "<style scoped>\n",
       "    .dataframe tbody tr th:only-of-type {\n",
       "        vertical-align: middle;\n",
       "    }\n",
       "\n",
       "    .dataframe tbody tr th {\n",
       "        vertical-align: top;\n",
       "    }\n",
       "\n",
       "    .dataframe thead th {\n",
       "        text-align: right;\n",
       "    }\n",
       "</style>\n",
       "<table border=\"1\" class=\"dataframe\">\n",
       "  <thead>\n",
       "    <tr style=\"text-align: right;\">\n",
       "      <th></th>\n",
       "      <th>MAE</th>\n",
       "      <th>MSE</th>\n",
       "      <th>RMSE</th>\n",
       "      <th>R2</th>\n",
       "      <th>RMSLE</th>\n",
       "      <th>MAPE</th>\n",
       "    </tr>\n",
       "  </thead>\n",
       "  <tbody>\n",
       "    <tr>\n",
       "      <th>0</th>\n",
       "      <td>2.605118e+03</td>\n",
       "      <td>4.998279e+07</td>\n",
       "      <td>7.069851e+03</td>\n",
       "      <td>1.714000e-01</td>\n",
       "      <td>1.2147</td>\n",
       "      <td>8.3859</td>\n",
       "    </tr>\n",
       "    <tr>\n",
       "      <th>1</th>\n",
       "      <td>2.667815e+03</td>\n",
       "      <td>6.463190e+07</td>\n",
       "      <td>8.039397e+03</td>\n",
       "      <td>1.534000e-01</td>\n",
       "      <td>1.3861</td>\n",
       "      <td>7.9319</td>\n",
       "    </tr>\n",
       "    <tr>\n",
       "      <th>2</th>\n",
       "      <td>2.675958e+03</td>\n",
       "      <td>1.081707e+08</td>\n",
       "      <td>1.040051e+04</td>\n",
       "      <td>1.091000e-01</td>\n",
       "      <td>1.5225</td>\n",
       "      <td>8.6363</td>\n",
       "    </tr>\n",
       "    <tr>\n",
       "      <th>3</th>\n",
       "      <td>2.663108e+03</td>\n",
       "      <td>6.961623e+07</td>\n",
       "      <td>8.343634e+03</td>\n",
       "      <td>1.642000e-01</td>\n",
       "      <td>1.4243</td>\n",
       "      <td>8.1581</td>\n",
       "    </tr>\n",
       "    <tr>\n",
       "      <th>4</th>\n",
       "      <td>2.597386e+03</td>\n",
       "      <td>5.476852e+07</td>\n",
       "      <td>7.400576e+03</td>\n",
       "      <td>1.858000e-01</td>\n",
       "      <td>1.3637</td>\n",
       "      <td>8.9434</td>\n",
       "    </tr>\n",
       "    <tr>\n",
       "      <th>5</th>\n",
       "      <td>2.702882e+03</td>\n",
       "      <td>8.422356e+07</td>\n",
       "      <td>9.177339e+03</td>\n",
       "      <td>1.116000e-01</td>\n",
       "      <td>1.2718</td>\n",
       "      <td>9.6449</td>\n",
       "    </tr>\n",
       "    <tr>\n",
       "      <th>6</th>\n",
       "      <td>2.556314e+03</td>\n",
       "      <td>5.242946e+07</td>\n",
       "      <td>7.240819e+03</td>\n",
       "      <td>1.875000e-01</td>\n",
       "      <td>1.3596</td>\n",
       "      <td>8.4585</td>\n",
       "    </tr>\n",
       "    <tr>\n",
       "      <th>7</th>\n",
       "      <td>2.627706e+03</td>\n",
       "      <td>5.723148e+07</td>\n",
       "      <td>7.565149e+03</td>\n",
       "      <td>1.849000e-01</td>\n",
       "      <td>1.4271</td>\n",
       "      <td>10.1143</td>\n",
       "    </tr>\n",
       "    <tr>\n",
       "      <th>8</th>\n",
       "      <td>1.517254e+09</td>\n",
       "      <td>3.140920e+22</td>\n",
       "      <td>1.772264e+11</td>\n",
       "      <td>-4.756202e+14</td>\n",
       "      <td>1.2686</td>\n",
       "      <td>-463942.0406</td>\n",
       "    </tr>\n",
       "    <tr>\n",
       "      <th>9</th>\n",
       "      <td>2.737367e+03</td>\n",
       "      <td>9.399667e+07</td>\n",
       "      <td>9.695188e+03</td>\n",
       "      <td>1.093000e-01</td>\n",
       "      <td>1.3836</td>\n",
       "      <td>9.8176</td>\n",
       "    </tr>\n",
       "    <tr>\n",
       "      <th>Mean</th>\n",
       "      <td>1.517278e+08</td>\n",
       "      <td>3.140920e+21</td>\n",
       "      <td>1.772265e+10</td>\n",
       "      <td>-4.756202e+13</td>\n",
       "      <td>1.3622</td>\n",
       "      <td>-46386.1950</td>\n",
       "    </tr>\n",
       "    <tr>\n",
       "      <th>SD</th>\n",
       "      <td>4.551755e+08</td>\n",
       "      <td>9.422760e+21</td>\n",
       "      <td>5.316792e+10</td>\n",
       "      <td>1.426860e+14</td>\n",
       "      <td>0.0857</td>\n",
       "      <td>139185.2819</td>\n",
       "    </tr>\n",
       "  </tbody>\n",
       "</table>\n",
       "</div>"
      ],
      "text/plain": [
       "               MAE           MSE          RMSE            R2   RMSLE  \\\n",
       "0     2.605118e+03  4.998279e+07  7.069851e+03  1.714000e-01  1.2147   \n",
       "1     2.667815e+03  6.463190e+07  8.039397e+03  1.534000e-01  1.3861   \n",
       "2     2.675958e+03  1.081707e+08  1.040051e+04  1.091000e-01  1.5225   \n",
       "3     2.663108e+03  6.961623e+07  8.343634e+03  1.642000e-01  1.4243   \n",
       "4     2.597386e+03  5.476852e+07  7.400576e+03  1.858000e-01  1.3637   \n",
       "5     2.702882e+03  8.422356e+07  9.177339e+03  1.116000e-01  1.2718   \n",
       "6     2.556314e+03  5.242946e+07  7.240819e+03  1.875000e-01  1.3596   \n",
       "7     2.627706e+03  5.723148e+07  7.565149e+03  1.849000e-01  1.4271   \n",
       "8     1.517254e+09  3.140920e+22  1.772264e+11 -4.756202e+14  1.2686   \n",
       "9     2.737367e+03  9.399667e+07  9.695188e+03  1.093000e-01  1.3836   \n",
       "Mean  1.517278e+08  3.140920e+21  1.772265e+10 -4.756202e+13  1.3622   \n",
       "SD    4.551755e+08  9.422760e+21  5.316792e+10  1.426860e+14  0.0857   \n",
       "\n",
       "             MAPE  \n",
       "0          8.3859  \n",
       "1          7.9319  \n",
       "2          8.6363  \n",
       "3          8.1581  \n",
       "4          8.9434  \n",
       "5          9.6449  \n",
       "6          8.4585  \n",
       "7         10.1143  \n",
       "8    -463942.0406  \n",
       "9          9.8176  \n",
       "Mean  -46386.1950  \n",
       "SD    139185.2819  "
      ]
     },
     "metadata": {},
     "output_type": "display_data"
    },
    {
     "data": {
      "text/plain": [
       "VotingRegressor(estimators=[('Linear Regression_0',\n",
       "                             LinearRegression(copy_X=True, fit_intercept=True,\n",
       "                                              n_jobs=None, normalize=False)),\n",
       "                            ('Ridge_1',\n",
       "                             Ridge(alpha=1.0, copy_X=True, fit_intercept=True,\n",
       "                                   max_iter=None, normalize=False,\n",
       "                                   random_state=758, solver='auto',\n",
       "                                   tol=0.001)),\n",
       "                            ('Least Angle Regression_2',\n",
       "                             Lars(copy_X=True, eps=2.220446049250313e-16,\n",
       "                                  fit_intercept=True, fit_path=True,\n",
       "                                  n_nonzero_coefs=500, normalize=True,\n",
       "                                  precompute='auto', verbose=False))],\n",
       "                n_jobs=None, weights=None)"
      ]
     },
     "execution_count": 39,
     "metadata": {},
     "output_type": "execute_result"
    }
   ],
   "source": [
    "blender = blend_models(estimator_list = [lr, ridge, lar])\n",
    "blender"
   ]
  },
  {
   "cell_type": "markdown",
   "metadata": {},
   "source": [
    "# 5. Model Analysis"
   ]
  },
  {
   "cell_type": "markdown",
   "metadata": {},
   "source": [
    "## Plot Model"
   ]
  },
  {
   "cell_type": "markdown",
   "metadata": {},
   "source": [
    "Before model finalization, the plot_model() function can be used to analyze the performance across different aspects such as Residuals Plot, Prediction Error, Feature Importance etc. This function takes a trained model object and returns a plot based on the test / hold-out set.\n",
    "\n",
    "There are over 10 plots available, please see the plot_model() docstring for the list of available plots."
   ]
  },
  {
   "cell_type": "markdown",
   "metadata": {},
   "source": [
    "### 5.1 Residual Plot"
   ]
  },
  {
   "cell_type": "code",
   "execution_count": 40,
   "metadata": {},
   "outputs": [
    {
     "data": {
      "image/png": "[encoded data removed]",
      "text/plain": [
       "<Figure size 576x396 with 2 Axes>"
      ]
     },
     "metadata": {},
     "output_type": "display_data"
    }
   ],
   "source": [
    "plot_model(tuned_lr)"
   ]
  },
  {
   "cell_type": "markdown",
   "metadata": {},
   "source": [
    "### 5.2 Recursive Feat. Selection"
   ]
  },
  {
   "cell_type": "code",
   "execution_count": 41,
   "metadata": {},
   "outputs": [
    {
     "data": {
      "image/png": "[encoded data removed]",
      "text/plain": [
       "<Figure size 576x396 with 1 Axes>"
      ]
     },
     "metadata": {},
     "output_type": "display_data"
    }
   ],
   "source": [
    "plot_model(tuned_ridge, plot='rfe')"
   ]
  },
  {
   "cell_type": "markdown",
   "metadata": {},
   "source": [
    "### 5.3 Prediction Error Plot"
   ]
  },
  {
   "cell_type": "code",
   "execution_count": 42,
   "metadata": {},
   "outputs": [
    {
     "data": {
      "image/png": "[encoded data removed]",
      "text/plain": [
       "<Figure size 576x396 with 1 Axes>"
      ]
     },
     "metadata": {},
     "output_type": "display_data"
    }
   ],
   "source": [
    "plot_model(tuned_lar, plot = 'error')"
   ]
  },
  {
   "cell_type": "markdown",
   "metadata": {},
   "source": [
    "### 5.4 Feature Importance Plot"
   ]
  },
  {
   "cell_type": "code",
   "execution_count": 43,
   "metadata": {},
   "outputs": [
    {
     "data": {
      "image/png": "[encoded data removed]",
      "text/plain": [
       "<Figure size 576x360 with 1 Axes>"
      ]
     },
     "metadata": {},
     "output_type": "display_data"
    }
   ],
   "source": [
    "plot_model(tuned_lar, plot = 'feature')"
   ]
  },
  {
   "cell_type": "markdown",
   "metadata": {},
   "source": [
    "there was error in 6/6/2019 18:08"
   ]
  }
 ],
 "metadata": {
  "kernelspec": {
   "display_name": "Python 3",
   "language": "python",
   "name": "python3"
  },
  "language_info": {
   "codemirror_mode": {
    "name": "ipython",
    "version": 3
   },
   "file_extension": ".py",
   "mimetype": "text/x-python",
   "name": "python",
   "nbconvert_exporter": "python",
   "pygments_lexer": "ipython3",
   "version": "3.6.10"
  }
 },
 "nbformat": 4,
 "nbformat_minor": 4
}
