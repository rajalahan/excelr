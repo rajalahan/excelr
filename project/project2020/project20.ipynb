{
 "cells": [
  {
   "cell_type": "markdown",
   "metadata": {},
   "source": [
    "**Submitted by: Group G4**<br>\n",
    "**2020-06-02**"
   ]
  },
  {
   "cell_type": "markdown",
   "metadata": {},
   "source": [
    "![](airindia.png)\n",
    "<h1 style=\"text-align:center;\"> Air Fare prediction Analysis</h1>"
   ]
  },
  {
   "cell_type": "markdown",
   "metadata": {},
   "source": [
    "## Table of Contents\n",
    "\n",
    "<div class=\"alert alert-block alert-info\" style=\"margin-top: 20px\">\n",
    "    \n",
    "1. [Business Understanding](#0)<br>\n",
    "2. [Data Understanding](#2)<br>\n",
    "3. [Data Preparation](#4)<br>\n",
    "4. [Modeling](#0)<br>\n",
    "2. [Evaluation](#2)<br>\n",
    "3. [Deployment](#4)<br>\n",
    "</div>\n",
    "<hr>"
   ]
  },
  {
   "cell_type": "markdown",
   "metadata": {},
   "source": [
    "### Data Science Life Cycle"
   ]
  },
  {
   "cell_type": "markdown",
   "metadata": {},
   "source": [
    "Microsoft & IBM methodologies are adopting in recent time for solving Data Science & Analytic problems. We used IBM Data Science Methodology. Due to more steps in this methodology, we could cleary identified problems & their's solutions clearly. "
   ]
  },
  {
   "cell_type": "markdown",
   "metadata": {},
   "source": [
    "![](micro-ibm.png)"
   ]
  },
  {
   "cell_type": "markdown",
   "metadata": {},
   "source": [
    "## Business Understanding  <a id=\"0\"></a>\n",
    "This is the **Data Science Methodology**, a flowchart that begins with business understanding.<br>\n",
    "Q: What is the problem that we are tried to solve?    "
   ]
  },
  {
   "cell_type": "markdown",
   "metadata": {},
   "source": [
    "Air travel is the safest mode of transport in any times. Passengers are therefore likely to switch in large numbers away from rail and car to air travel. India’s commercial aircraft are around 670 & skies are empty now.India’s aviation system is going to boom because of oil prices are decreased. In this time, Passengers want to fly in cheaper rate but companies want to generate valuable revenue at same time. Due to this, there has fluctuations in price of Air (AirFare) over time to get seat. This is the problem to solve by building a predictive model by exploring previous airfare data."
   ]
  },
  {
   "cell_type": "markdown",
   "metadata": {},
   "source": [
    "**Business objective-** To predict airfare, as domestic air travel is popular these days in India with different air ticket booking channels, travelers are trying to make sense and understand how airlines price their tickets over time. \n",
    "We want you to explore previous airfare data and build a model to predict the price fluctuations over time so that the consumer could benefit from it. We want you to identify dependency over many endogenous variables. You are free to look at different models from the space of forecasting and regression."
   ]
  },
  {
   "cell_type": "markdown",
   "metadata": {},
   "source": [
    "## Analytic Approach\n",
    "<li> How can we used data to answer the question?"
   ]
  },
  {
   "cell_type": "markdown",
   "metadata": {},
   "source": [
    "After we have acquired the data, we have done the followings:\n",
    "\n",
    "Diagnosed data quality:\n",
    "<li>If there has a problem with data quality.</li>\n",
    "<li>The data has corrected.</li>\n",
    "<li>Explored data to understand the data and find scenarios for performing the analysis.</li>\n",
    "<li>Identify dependency over many endogenous variables.</li>\n",
    "<li>Compared different models to evaluate best model.</li>\n",
    "\n",
    "The **pycaret** package made these steps fast and easy:\n",
    "\n",
    "<li>Performed data diagnosis or automatically generated a data diagnosis report.</li>\n",
    "<li>Discovered data in a variety of ways, and automatically generated EDA report.</li>\n",
    "<li>Imputated missing values and outliers, resolved skewed data. And generated an automated report to support it.</li>\n",
    "\n",
    "Particularly in data exploration and data wrangling, it increased the efficiency of the pycaret package."
   ]
  },
  {
   "cell_type": "markdown",
   "metadata": {},
   "source": [
    "## Data Understanding"
   ]
  },
  {
   "cell_type": "markdown",
   "metadata": {},
   "source": [
    " Import necessaries library"
   ]
  },
  {
   "cell_type": "code",
   "execution_count": 1,
   "metadata": {},
   "outputs": [],
   "source": [
    "import numpy as np\n",
    "import pandas as pd\n",
    "import matplotlib.pyplot as plt\n",
    "%matplotlib inline\n",
    "from matplotlib.pylab import rcParams\n",
    "rcParams['figure.figsize']=10,6"
   ]
  },
  {
   "cell_type": "markdown",
   "metadata": {},
   "source": [
    "Read given data by help of pandas function "
   ]
  },
  {
   "cell_type": "code",
   "execution_count": 2,
   "metadata": {},
   "outputs": [],
   "source": [
    "df = pd.read_csv('C:\\\\Users\\\\Raja\\\\Desktop\\\\project\\\\project2020\\\\air_fair.csv')"
   ]
  },
  {
   "cell_type": "markdown",
   "metadata": {},
   "source": [
    "Parse strings to datetime type "
   ]
  },
  {
   "cell_type": "code",
   "execution_count": 3,
   "metadata": {},
   "outputs": [],
   "source": [
    "df['InvoiceDate'] = pd.to_datetime(df.InvoiceDate, infer_datetime_format=True)\n",
    "index_df=df.set_index(['InvoiceDate'])"
   ]
  },
  {
   "cell_type": "markdown",
   "metadata": {},
   "source": [
    "InvoiceData index sorted"
   ]
  },
  {
   "cell_type": "code",
   "execution_count": 4,
   "metadata": {},
   "outputs": [
    {
     "data": {
      "text/html": [
       "<div>\n",
       "<style scoped>\n",
       "    .dataframe tbody tr th:only-of-type {\n",
       "        vertical-align: middle;\n",
       "    }\n",
       "\n",
       "    .dataframe tbody tr th {\n",
       "        vertical-align: top;\n",
       "    }\n",
       "\n",
       "    .dataframe thead th {\n",
       "        text-align: right;\n",
       "    }\n",
       "</style>\n",
       "<table border=\"1\" class=\"dataframe\">\n",
       "  <thead>\n",
       "    <tr style=\"text-align: right;\">\n",
       "      <th></th>\n",
       "      <th>NetFare</th>\n",
       "      <th>ProductType</th>\n",
       "      <th>ItineraryType</th>\n",
       "    </tr>\n",
       "    <tr>\n",
       "      <th>InvoiceDate</th>\n",
       "      <th></th>\n",
       "      <th></th>\n",
       "      <th></th>\n",
       "    </tr>\n",
       "  </thead>\n",
       "  <tbody>\n",
       "    <tr>\n",
       "      <th>2018-01-04 08:26:00</th>\n",
       "      <td>8222.0</td>\n",
       "      <td>Air</td>\n",
       "      <td>Domestic</td>\n",
       "    </tr>\n",
       "    <tr>\n",
       "      <th>2018-01-04 09:17:00</th>\n",
       "      <td>3418.0</td>\n",
       "      <td>Air</td>\n",
       "      <td>Domestic</td>\n",
       "    </tr>\n",
       "    <tr>\n",
       "      <th>2018-01-04 09:54:00</th>\n",
       "      <td>6708.0</td>\n",
       "      <td>Air</td>\n",
       "      <td>Domestic</td>\n",
       "    </tr>\n",
       "    <tr>\n",
       "      <th>2018-01-04 12:00:00</th>\n",
       "      <td>3625.0</td>\n",
       "      <td>Air</td>\n",
       "      <td>Domestic</td>\n",
       "    </tr>\n",
       "    <tr>\n",
       "      <th>2018-01-04 12:36:00</th>\n",
       "      <td>3099.0</td>\n",
       "      <td>Air</td>\n",
       "      <td>Domestic</td>\n",
       "    </tr>\n",
       "  </tbody>\n",
       "</table>\n",
       "</div>"
      ],
      "text/plain": [
       "                     NetFare ProductType ItineraryType\n",
       "InvoiceDate                                           \n",
       "2018-01-04 08:26:00   8222.0         Air      Domestic\n",
       "2018-01-04 09:17:00   3418.0         Air      Domestic\n",
       "2018-01-04 09:54:00   6708.0         Air      Domestic\n",
       "2018-01-04 12:00:00   3625.0         Air      Domestic\n",
       "2018-01-04 12:36:00   3099.0         Air      Domestic"
      ]
     },
     "execution_count": 4,
     "metadata": {},
     "output_type": "execute_result"
    }
   ],
   "source": [
    "index_df.sort_values(by='InvoiceDate').head()"
   ]
  },
  {
   "cell_type": "markdown",
   "metadata": {},
   "source": [
    "### Descriptive Statistical Analysis"
   ]
  },
  {
   "cell_type": "markdown",
   "metadata": {},
   "source": [
    "Show size of dataframe "
   ]
  },
  {
   "cell_type": "code",
   "execution_count": 5,
   "metadata": {},
   "outputs": [
    {
     "data": {
      "text/plain": [
       "835398"
      ]
     },
     "execution_count": 5,
     "metadata": {},
     "output_type": "execute_result"
    }
   ],
   "source": [
    "index_df.size"
   ]
  },
  {
   "cell_type": "markdown",
   "metadata": {},
   "source": [
    "Show unique value of ProductType "
   ]
  },
  {
   "cell_type": "code",
   "execution_count": 6,
   "metadata": {},
   "outputs": [
    {
     "data": {
      "text/plain": [
       "array(['Other Product', 'Air', 'Charge', 'Hotel', 'Air Cancellation',\n",
       "       'Other Product Cancellation', 'payment', 'Hotel Cancellation',\n",
       "       'refund', nan, 'Air Debit Note', 'Hotel Debit Note', 'Air Loss',\n",
       "       'Other Product Debit Note', 'Hotel Loss'], dtype=object)"
      ]
     },
     "execution_count": 6,
     "metadata": {},
     "output_type": "execute_result"
    }
   ],
   "source": [
    "index_df.ProductType.unique()"
   ]
  },
  {
   "cell_type": "markdown",
   "metadata": {},
   "source": [
    "Show unique value of Itinerary column"
   ]
  },
  {
   "cell_type": "code",
   "execution_count": 7,
   "metadata": {},
   "outputs": [
    {
     "data": {
      "text/plain": [
       "array(['Domestic', nan, 'International'], dtype=object)"
      ]
     },
     "execution_count": 7,
     "metadata": {},
     "output_type": "execute_result"
    }
   ],
   "source": [
    "index_df.ItineraryType.unique()"
   ]
  },
  {
   "cell_type": "markdown",
   "metadata": {},
   "source": [
    "Show the statistical calculations of dataframe"
   ]
  },
  {
   "cell_type": "code",
   "execution_count": 8,
   "metadata": {},
   "outputs": [
    {
     "data": {
      "text/html": [
       "<div>\n",
       "<style scoped>\n",
       "    .dataframe tbody tr th:only-of-type {\n",
       "        vertical-align: middle;\n",
       "    }\n",
       "\n",
       "    .dataframe tbody tr th {\n",
       "        vertical-align: top;\n",
       "    }\n",
       "\n",
       "    .dataframe thead th {\n",
       "        text-align: right;\n",
       "    }\n",
       "</style>\n",
       "<table border=\"1\" class=\"dataframe\">\n",
       "  <thead>\n",
       "    <tr style=\"text-align: right;\">\n",
       "      <th></th>\n",
       "      <th>NetFare</th>\n",
       "    </tr>\n",
       "  </thead>\n",
       "  <tbody>\n",
       "    <tr>\n",
       "      <th>count</th>\n",
       "      <td>217576.00</td>\n",
       "    </tr>\n",
       "    <tr>\n",
       "      <th>mean</th>\n",
       "      <td>4266.91</td>\n",
       "    </tr>\n",
       "    <tr>\n",
       "      <th>std</th>\n",
       "      <td>9803.14</td>\n",
       "    </tr>\n",
       "    <tr>\n",
       "      <th>min</th>\n",
       "      <td>-497324.00</td>\n",
       "    </tr>\n",
       "    <tr>\n",
       "      <th>25%</th>\n",
       "      <td>10.00</td>\n",
       "    </tr>\n",
       "    <tr>\n",
       "      <th>50%</th>\n",
       "      <td>3501.00</td>\n",
       "    </tr>\n",
       "    <tr>\n",
       "      <th>75%</th>\n",
       "      <td>5944.00</td>\n",
       "    </tr>\n",
       "    <tr>\n",
       "      <th>max</th>\n",
       "      <td>497678.00</td>\n",
       "    </tr>\n",
       "  </tbody>\n",
       "</table>\n",
       "</div>"
      ],
      "text/plain": [
       "         NetFare\n",
       "count  217576.00\n",
       "mean     4266.91\n",
       "std      9803.14\n",
       "min   -497324.00\n",
       "25%        10.00\n",
       "50%      3501.00\n",
       "75%      5944.00\n",
       "max    497678.00"
      ]
     },
     "execution_count": 8,
     "metadata": {},
     "output_type": "execute_result"
    }
   ],
   "source": [
    "index_df.describe().round(2)"
   ]
  },
  {
   "cell_type": "markdown",
   "metadata": {},
   "source": [
    "Show the general info about dataframe"
   ]
  },
  {
   "cell_type": "code",
   "execution_count": 9,
   "metadata": {},
   "outputs": [
    {
     "name": "stdout",
     "output_type": "stream",
     "text": [
      "<class 'pandas.core.frame.DataFrame'>\n",
      "DatetimeIndex: 278466 entries, 2018-01-12 11:43:00 to 2019-10-06 22:30:00\n",
      "Data columns (total 3 columns):\n",
      " #   Column         Non-Null Count   Dtype  \n",
      "---  ------         --------------   -----  \n",
      " 0   NetFare        217576 non-null  float64\n",
      " 1   ProductType    278464 non-null  object \n",
      " 2   ItineraryType  245689 non-null  object \n",
      "dtypes: float64(1), object(2)\n",
      "memory usage: 8.5+ MB\n"
     ]
    }
   ],
   "source": [
    "index_df.info()"
   ]
  },
  {
   "cell_type": "markdown",
   "metadata": {},
   "source": [
    "## Data Preparation"
   ]
  },
  {
   "cell_type": "markdown",
   "metadata": {},
   "source": [
    "<h4>Evaluating for Missing Data</h4>\n",
    "There are two methods to detect missing data:\n",
    "<ol>\n",
    " <li><b>.isnull()</b></li>\n",
    " <li><b>.notnull()</b></li>\n",
    "</ol>   "
   ]
  },
  {
   "cell_type": "markdown",
   "metadata": {},
   "source": [
    "Find missing value by Boolean method:\n",
    "**\"True\"** stands for missing value, while **\"False\"** stands for not missing value."
   ]
  },
  {
   "cell_type": "code",
   "execution_count": 10,
   "metadata": {},
   "outputs": [
    {
     "data": {
      "text/html": [
       "<div>\n",
       "<style scoped>\n",
       "    .dataframe tbody tr th:only-of-type {\n",
       "        vertical-align: middle;\n",
       "    }\n",
       "\n",
       "    .dataframe tbody tr th {\n",
       "        vertical-align: top;\n",
       "    }\n",
       "\n",
       "    .dataframe thead th {\n",
       "        text-align: right;\n",
       "    }\n",
       "</style>\n",
       "<table border=\"1\" class=\"dataframe\">\n",
       "  <thead>\n",
       "    <tr style=\"text-align: right;\">\n",
       "      <th></th>\n",
       "      <th>NetFare</th>\n",
       "      <th>ProductType</th>\n",
       "      <th>ItineraryType</th>\n",
       "    </tr>\n",
       "    <tr>\n",
       "      <th>InvoiceDate</th>\n",
       "      <th></th>\n",
       "      <th></th>\n",
       "      <th></th>\n",
       "    </tr>\n",
       "  </thead>\n",
       "  <tbody>\n",
       "    <tr>\n",
       "      <th>2018-01-12 11:43:00</th>\n",
       "      <td>False</td>\n",
       "      <td>False</td>\n",
       "      <td>False</td>\n",
       "    </tr>\n",
       "    <tr>\n",
       "      <th>2018-01-12 11:43:00</th>\n",
       "      <td>False</td>\n",
       "      <td>False</td>\n",
       "      <td>False</td>\n",
       "    </tr>\n",
       "    <tr>\n",
       "      <th>2018-01-12 13:01:00</th>\n",
       "      <td>False</td>\n",
       "      <td>False</td>\n",
       "      <td>False</td>\n",
       "    </tr>\n",
       "    <tr>\n",
       "      <th>2018-01-12 13:10:00</th>\n",
       "      <td>False</td>\n",
       "      <td>False</td>\n",
       "      <td>False</td>\n",
       "    </tr>\n",
       "    <tr>\n",
       "      <th>2018-11-30 14:30:00</th>\n",
       "      <td>False</td>\n",
       "      <td>False</td>\n",
       "      <td>False</td>\n",
       "    </tr>\n",
       "    <tr>\n",
       "      <th>...</th>\n",
       "      <td>...</td>\n",
       "      <td>...</td>\n",
       "      <td>...</td>\n",
       "    </tr>\n",
       "    <tr>\n",
       "      <th>2019-10-06 20:45:00</th>\n",
       "      <td>False</td>\n",
       "      <td>False</td>\n",
       "      <td>False</td>\n",
       "    </tr>\n",
       "    <tr>\n",
       "      <th>2019-10-06 21:39:00</th>\n",
       "      <td>False</td>\n",
       "      <td>False</td>\n",
       "      <td>False</td>\n",
       "    </tr>\n",
       "    <tr>\n",
       "      <th>2019-10-06 22:18:00</th>\n",
       "      <td>False</td>\n",
       "      <td>False</td>\n",
       "      <td>False</td>\n",
       "    </tr>\n",
       "    <tr>\n",
       "      <th>2019-10-06 22:30:00</th>\n",
       "      <td>False</td>\n",
       "      <td>False</td>\n",
       "      <td>False</td>\n",
       "    </tr>\n",
       "    <tr>\n",
       "      <th>2019-10-06 22:30:00</th>\n",
       "      <td>False</td>\n",
       "      <td>False</td>\n",
       "      <td>False</td>\n",
       "    </tr>\n",
       "  </tbody>\n",
       "</table>\n",
       "<p>278466 rows × 3 columns</p>\n",
       "</div>"
      ],
      "text/plain": [
       "                     NetFare  ProductType  ItineraryType\n",
       "InvoiceDate                                             \n",
       "2018-01-12 11:43:00    False        False          False\n",
       "2018-01-12 11:43:00    False        False          False\n",
       "2018-01-12 13:01:00    False        False          False\n",
       "2018-01-12 13:10:00    False        False          False\n",
       "2018-11-30 14:30:00    False        False          False\n",
       "...                      ...          ...            ...\n",
       "2019-10-06 20:45:00    False        False          False\n",
       "2019-10-06 21:39:00    False        False          False\n",
       "2019-10-06 22:18:00    False        False          False\n",
       "2019-10-06 22:30:00    False        False          False\n",
       "2019-10-06 22:30:00    False        False          False\n",
       "\n",
       "[278466 rows x 3 columns]"
      ]
     },
     "execution_count": 10,
     "metadata": {},
     "output_type": "execute_result"
    }
   ],
   "source": [
    "missing_value = index_df.isnull()\n",
    "missing_value"
   ]
  },
  {
   "cell_type": "markdown",
   "metadata": {},
   "source": [
    "### Count missing values in each column\n",
    "\n",
    "Using a for loop in Python, we can quickly figure out the number of missing values in each column.<br>\n",
    "**\"True\" stands for missing value, while \"False\" stands for not missing value**"
   ]
  },
  {
   "cell_type": "code",
   "execution_count": 11,
   "metadata": {},
   "outputs": [
    {
     "name": "stdout",
     "output_type": "stream",
     "text": [
      "NetFare\n",
      "False    217576\n",
      "True      60890\n",
      "Name: NetFare, dtype: int64\n",
      "\n",
      "ProductType\n",
      "False    278464\n",
      "True          2\n",
      "Name: ProductType, dtype: int64\n",
      "\n",
      "ItineraryType\n",
      "False    245689\n",
      "True      32777\n",
      "Name: ItineraryType, dtype: int64\n",
      "\n"
     ]
    }
   ],
   "source": [
    "for column in missing_value.columns.values.tolist():\n",
    "    print(column)\n",
    "    print (missing_value[column].value_counts())\n",
    "    print(\"\") "
   ]
  },
  {
   "cell_type": "markdown",
   "metadata": {},
   "source": [
    "Based on the summary above, each column has 278466 rows of data, three columns containing missing data:\n",
    "<ol>\n",
    "    <li>\"NetFare\": 60890 missing data</li>\n",
    "<li>\"ProductType\": 2 missing data</li>\n",
    "<li>\"ItineraryType\": 32777 missing data</li>\n",
    "</ol>"
   ]
  },
  {
   "cell_type": "markdown",
   "metadata": {},
   "source": [
    "<h3 id=\"deal_missing_values\">Deal with missing data</h3>\n",
    "<b>How to deal with missing data?</b>\n",
    "\n",
    "<ol>\n",
    "    <li>drop data<br>\n",
    "        a. drop the whole row<br>\n",
    "        b. drop the whole column\n",
    "    </li>\n",
    "    <li>replace data<br>\n",
    "        a. replace it by mean<br>\n",
    "        b. replace it by frequency<br>\n",
    "       </li>\n",
    "</ol>"
   ]
  },
  {
   "cell_type": "markdown",
   "metadata": {},
   "source": [
    "Whole columns should be dropped only if most entries in the column are empty. In our dataset, none of the columns are empty enough to drop entirely.\n",
    "We have some freedom in choosing which method to replace data; however, some methods may seem more reasonable than others. We will apply each method to many different columns:\n",
    "\n",
    "<b>Drop rows:</b>\n",
    "<ul>\n",
    "    <li>\"NetFare\": 60890 missing data, drop whole rows, they are totally empty</li>\n",
    "    <li>\"ProductType\": 2 missing data, drop them , among of them 2 are not so necessary</li>\n",
    "    <li>\"ItineraryType\": 32777 missing data, drop them , they are totally empty, we have huge data</li>\n",
    "</ul>"
   ]
  },
  {
   "cell_type": "markdown",
   "metadata": {},
   "source": [
    "Show data types"
   ]
  },
  {
   "cell_type": "code",
   "execution_count": 12,
   "metadata": {},
   "outputs": [
    {
     "data": {
      "text/plain": [
       "NetFare          float64\n",
       "ProductType       object\n",
       "ItineraryType     object\n",
       "dtype: object"
      ]
     },
     "execution_count": 12,
     "metadata": {},
     "output_type": "execute_result"
    }
   ],
   "source": [
    "index_df.dtypes"
   ]
  },
  {
   "cell_type": "markdown",
   "metadata": {},
   "source": [
    "Drop missing values **[NetFare]** in observations, they are completly empty "
   ]
  },
  {
   "cell_type": "code",
   "execution_count": 13,
   "metadata": {},
   "outputs": [],
   "source": [
    "index_df.dropna(subset=[\"NetFare\"], axis=0, inplace=True)"
   ]
  },
  {
   "cell_type": "markdown",
   "metadata": {},
   "source": [
    "Drop missing values **[ProductType]** in observations, the two rows are negelegible "
   ]
  },
  {
   "cell_type": "code",
   "execution_count": 14,
   "metadata": {},
   "outputs": [],
   "source": [
    "index_df.dropna(subset=[\"ProductType\"], axis=0, inplace=True)"
   ]
  },
  {
   "cell_type": "markdown",
   "metadata": {},
   "source": [
    "Drop missing values **[ItineraryType]** in observations, they are not very sensitive "
   ]
  },
  {
   "cell_type": "code",
   "execution_count": 15,
   "metadata": {},
   "outputs": [],
   "source": [
    "index_df.dropna(subset=[\"ItineraryType\"], axis=0, inplace=True)"
   ]
  },
  {
   "cell_type": "markdown",
   "metadata": {},
   "source": [
    "Reset index, because we droped many rows & sorted"
   ]
  },
  {
   "cell_type": "code",
   "execution_count": 17,
   "metadata": {},
   "outputs": [
    {
     "data": {
      "text/html": [
       "<div>\n",
       "<style scoped>\n",
       "    .dataframe tbody tr th:only-of-type {\n",
       "        vertical-align: middle;\n",
       "    }\n",
       "\n",
       "    .dataframe tbody tr th {\n",
       "        vertical-align: top;\n",
       "    }\n",
       "\n",
       "    .dataframe thead th {\n",
       "        text-align: right;\n",
       "    }\n",
       "</style>\n",
       "<table border=\"1\" class=\"dataframe\">\n",
       "  <thead>\n",
       "    <tr style=\"text-align: right;\">\n",
       "      <th></th>\n",
       "      <th>InvoiceDate</th>\n",
       "      <th>NetFare</th>\n",
       "      <th>ProductType</th>\n",
       "      <th>ItineraryType</th>\n",
       "    </tr>\n",
       "  </thead>\n",
       "  <tbody>\n",
       "    <tr>\n",
       "      <th>93220</th>\n",
       "      <td>2018-01-04 08:26:00</td>\n",
       "      <td>8222.0</td>\n",
       "      <td>Air</td>\n",
       "      <td>Domestic</td>\n",
       "    </tr>\n",
       "    <tr>\n",
       "      <th>93221</th>\n",
       "      <td>2018-01-04 09:17:00</td>\n",
       "      <td>3418.0</td>\n",
       "      <td>Air</td>\n",
       "      <td>Domestic</td>\n",
       "    </tr>\n",
       "    <tr>\n",
       "      <th>93222</th>\n",
       "      <td>2018-01-04 09:54:00</td>\n",
       "      <td>6708.0</td>\n",
       "      <td>Air</td>\n",
       "      <td>Domestic</td>\n",
       "    </tr>\n",
       "    <tr>\n",
       "      <th>93223</th>\n",
       "      <td>2018-01-04 12:00:00</td>\n",
       "      <td>3625.0</td>\n",
       "      <td>Air</td>\n",
       "      <td>Domestic</td>\n",
       "    </tr>\n",
       "    <tr>\n",
       "      <th>93224</th>\n",
       "      <td>2018-01-04 12:36:00</td>\n",
       "      <td>3099.0</td>\n",
       "      <td>Air</td>\n",
       "      <td>Domestic</td>\n",
       "    </tr>\n",
       "  </tbody>\n",
       "</table>\n",
       "</div>"
      ],
      "text/plain": [
       "              InvoiceDate  NetFare ProductType ItineraryType\n",
       "93220 2018-01-04 08:26:00   8222.0         Air      Domestic\n",
       "93221 2018-01-04 09:17:00   3418.0         Air      Domestic\n",
       "93222 2018-01-04 09:54:00   6708.0         Air      Domestic\n",
       "93223 2018-01-04 12:00:00   3625.0         Air      Domestic\n",
       "93224 2018-01-04 12:36:00   3099.0         Air      Domestic"
      ]
     },
     "execution_count": 17,
     "metadata": {},
     "output_type": "execute_result"
    }
   ],
   "source": [
    "index_df.reset_index().sort_values(by='InvoiceDate').head()"
   ]
  },
  {
   "cell_type": "markdown",
   "metadata": {},
   "source": [
    "**Final Cleaned** data"
   ]
  },
  {
   "cell_type": "code",
   "execution_count": 18,
   "metadata": {},
   "outputs": [],
   "source": [
    "missing_data_cleaned = index_df.isnull()"
   ]
  },
  {
   "cell_type": "markdown",
   "metadata": {},
   "source": [
    "**\"True\" stands for missing value, while \"False\" stands for not missing value**"
   ]
  },
  {
   "cell_type": "code",
   "execution_count": 19,
   "metadata": {},
   "outputs": [
    {
     "name": "stdout",
     "output_type": "stream",
     "text": [
      "NetFare\n",
      "False    184800\n",
      "Name: NetFare, dtype: int64\n",
      "\n",
      "ProductType\n",
      "False    184800\n",
      "Name: ProductType, dtype: int64\n",
      "\n",
      "ItineraryType\n",
      "False    184800\n",
      "Name: ItineraryType, dtype: int64\n",
      "\n"
     ]
    }
   ],
   "source": [
    "for column in missing_data_cleaned.columns.values.tolist():\n",
    "    print(column)\n",
    "    print (missing_data_cleaned[column].value_counts())\n",
    "    print(\"\") "
   ]
  },
  {
   "cell_type": "markdown",
   "metadata": {},
   "source": [
    "RAW Data observations=**278466**, CLEANED Data observations=**184800**, USELESS Data observations=**93666**"
   ]
  },
  {
   "cell_type": "markdown",
   "metadata": {},
   "source": [
    "**Box Plot** to find out the outliers:"
   ]
  },
  {
   "cell_type": "code",
   "execution_count": 20,
   "metadata": {},
   "outputs": [],
   "source": [
    "import seaborn as sns"
   ]
  },
  {
   "cell_type": "code",
   "execution_count": 22,
   "metadata": {},
   "outputs": [
    {
     "data": {
      "image/png": "[encoded data removed]",
      "text/plain": [
       "<Figure size 720x1080 with 1 Axes>"
      ]
     },
     "metadata": {
      "needs_background": "light"
     },
     "output_type": "display_data"
    }
   ],
   "source": [
    "fig, ax1=plt.subplots()\n",
    "fig.set_size_inches(10,15)\n",
    "plt.boxplot(index_df[\"NetFare\"])\n",
    "plt.show()"
   ]
  },
  {
   "cell_type": "markdown",
   "metadata": {},
   "source": [
    "↑ Box-plot shows much outliers both sides, it has to remove, actually outliers makes execution lazy and make noise."
   ]
  },
  {
   "cell_type": "code",
   "execution_count": 23,
   "metadata": {},
   "outputs": [
    {
     "data": {
      "text/plain": [
       "<matplotlib.axes._subplots.AxesSubplot at 0x15e2ad2cb38>"
      ]
     },
     "execution_count": 23,
     "metadata": {},
     "output_type": "execute_result"
    },
    {
     "data": {
      "image/png": "[encoded data removed]",
      "text/plain": [
       "<Figure size 720x432 with 1 Axes>"
      ]
     },
     "metadata": {
      "needs_background": "light"
     },
     "output_type": "display_data"
    }
   ],
   "source": [
    "index_df.boxplot(column='NetFare', by='ProductType')"
   ]
  },
  {
   "cell_type": "code",
   "execution_count": 24,
   "metadata": {},
   "outputs": [
    {
     "data": {
      "text/plain": [
       "<matplotlib.axes._subplots.AxesSubplot at 0x15e2afb6cf8>"
      ]
     },
     "execution_count": 24,
     "metadata": {},
     "output_type": "execute_result"
    },
    {
     "data": {
      "image/png": "[encoded data removed]",
      "text/plain": [
       "<Figure size 720x432 with 1 Axes>"
      ]
     },
     "metadata": {
      "needs_background": "light"
     },
     "output_type": "display_data"
    }
   ],
   "source": [
    "index_df.boxplot(column='NetFare', by='ItineraryType')"
   ]
  },
  {
   "cell_type": "markdown",
   "metadata": {},
   "source": [
    "↑ Compared with International NetFare, Domestic airfare has less outliers, advised to remove outliers in both variables"
   ]
  },
  {
   "cell_type": "markdown",
   "metadata": {},
   "source": [
    "Histogram plot of NetFare"
   ]
  },
  {
   "cell_type": "code",
   "execution_count": 25,
   "metadata": {},
   "outputs": [
    {
     "data": {
      "text/plain": [
       "<matplotlib.axes._subplots.AxesSubplot at 0x15e2aebf208>"
      ]
     },
     "execution_count": 25,
     "metadata": {},
     "output_type": "execute_result"
    },
    {
     "data": {
      "image/png": "[encoded data removed]",
      "text/plain": [
       "<Figure size 720x432 with 1 Axes>"
      ]
     },
     "metadata": {
      "needs_background": "light"
     },
     "output_type": "display_data"
    }
   ],
   "source": [
    "df.NetFare.hist()"
   ]
  },
  {
   "cell_type": "markdown",
   "metadata": {},
   "source": [
    "↑ By graph can be analysed that negative values are also existed and NetFare nearly 58000."
   ]
  },
  {
   "cell_type": "code",
   "execution_count": 26,
   "metadata": {},
   "outputs": [
    {
     "data": {
      "text/plain": [
       "<matplotlib.axes._subplots.AxesSubplot at 0x15e2acbd860>"
      ]
     },
     "execution_count": 26,
     "metadata": {},
     "output_type": "execute_result"
    },
    {
     "data": {
      "image/png": "[encoded data removed]",
      "text/plain": [
       "<Figure size 720x432 with 1 Axes>"
      ]
     },
     "metadata": {
      "needs_background": "light"
     },
     "output_type": "display_data"
    }
   ],
   "source": [
    "index_df.ItineraryType.hist()"
   ]
  },
  {
   "cell_type": "markdown",
   "metadata": {},
   "source": [
    "↑ Domestic AirFare consists of huge amounts."
   ]
  },
  {
   "cell_type": "code",
   "execution_count": 27,
   "metadata": {},
   "outputs": [
    {
     "data": {
      "text/plain": [
       "<matplotlib.axes._subplots.AxesSubplot at 0x15e2af5cc50>"
      ]
     },
     "execution_count": 27,
     "metadata": {},
     "output_type": "execute_result"
    },
    {
     "data": {
      "image/png": "[encoded data removed]",
      "text/plain": [
       "<Figure size 720x432 with 1 Axes>"
      ]
     },
     "metadata": {
      "needs_background": "light"
     },
     "output_type": "display_data"
    }
   ],
   "source": [
    "index_df.ProductType.hist()"
   ]
  },
  {
   "cell_type": "markdown",
   "metadata": {},
   "source": [
    "↑ By graph can be conclude that Sub-type Air of ProductType plays main role in a group. It means correlation with NetFare should be strong."
   ]
  },
  {
   "cell_type": "markdown",
   "metadata": {},
   "source": [
    "#### Identifying Outliers with Interquartile Range (IQR)"
   ]
  },
  {
   "cell_type": "code",
   "execution_count": 28,
   "metadata": {},
   "outputs": [
    {
     "name": "stdout",
     "output_type": "stream",
     "text": [
      "NetFare    4314.0\n",
      "dtype: float64\n"
     ]
    }
   ],
   "source": [
    "Q1 = index_df.quantile(0.25)\n",
    "Q3 = index_df.quantile(0.75)\n",
    "IQR = Q3 - Q1  \n",
    "print(IQR)"
   ]
  },
  {
   "cell_type": "markdown",
   "metadata": {},
   "source": [
    "The code below generates an output with the 'True' and 'False' values. Points where the values are 'True' represent the presence of the outlier."
   ]
  },
  {
   "cell_type": "code",
   "execution_count": 29,
   "metadata": {},
   "outputs": [
    {
     "name": "stdout",
     "output_type": "stream",
     "text": [
      "                     ItineraryType  NetFare  ProductType\n",
      "InvoiceDate                                             \n",
      "2018-01-12 11:43:00          False    False        False\n",
      "2018-01-12 11:43:00          False    False        False\n",
      "2018-01-12 13:01:00          False    False        False\n",
      "2018-01-12 13:10:00          False    False        False\n",
      "2018-11-30 14:30:00          False    False        False\n",
      "...                            ...      ...          ...\n",
      "2019-10-06 20:45:00          False    False        False\n",
      "2019-10-06 21:39:00          False    False        False\n",
      "2019-10-06 22:18:00          False    False        False\n",
      "2019-10-06 22:30:00          False    False        False\n",
      "2019-10-06 22:30:00          False    False        False\n",
      "\n",
      "[184800 rows x 3 columns]\n"
     ]
    }
   ],
   "source": [
    "print((index_df  < (Q1 - 1.5 * IQR)) | (index_df  > (Q3 + 1.5 * IQR)))"
   ]
  },
  {
   "cell_type": "markdown",
   "metadata": {},
   "source": [
    "#### Identifying skewness "
   ]
  },
  {
   "cell_type": "code",
   "execution_count": 30,
   "metadata": {},
   "outputs": [
    {
     "name": "stdout",
     "output_type": "stream",
     "text": [
      "11.686463514862059\n"
     ]
    },
    {
     "data": {
      "text/plain": [
       "count    217576.000000\n",
       "mean       4266.905212\n",
       "std        9803.137297\n",
       "min     -497324.000000\n",
       "25%          10.000000\n",
       "50%        3501.000000\n",
       "75%        5944.000000\n",
       "max      497678.000000\n",
       "Name: NetFare, dtype: float64"
      ]
     },
     "execution_count": 30,
     "metadata": {},
     "output_type": "execute_result"
    }
   ],
   "source": [
    "print(df['NetFare'].skew())\n",
    "df['NetFare'].describe()"
   ]
  },
  {
   "cell_type": "markdown",
   "metadata": {},
   "source": [
    "↑ Data is highly right skewed (11.68). Max value is 497678.It is due to outliers. So, there has necessary to delete outliers. "
   ]
  },
  {
   "cell_type": "markdown",
   "metadata": {},
   "source": [
    "### IQR Score\n",
    "We use the IQR method to delete outliers from records"
   ]
  },
  {
   "cell_type": "code",
   "execution_count": 31,
   "metadata": {},
   "outputs": [
    {
     "name": "stdout",
     "output_type": "stream",
     "text": [
      "(170117, 3)\n"
     ]
    }
   ],
   "source": [
    "index_outlier = index_df[~((index_df < (Q1 - 1.5 * IQR)) |(index_df > (Q3 + 1.5 * IQR))).any(axis=1)]\n",
    "print(index_outlier.shape)"
   ]
  },
  {
   "cell_type": "code",
   "execution_count": 34,
   "metadata": {},
   "outputs": [
    {
     "data": {
      "text/html": [
       "<div>\n",
       "<style scoped>\n",
       "    .dataframe tbody tr th:only-of-type {\n",
       "        vertical-align: middle;\n",
       "    }\n",
       "\n",
       "    .dataframe tbody tr th {\n",
       "        vertical-align: top;\n",
       "    }\n",
       "\n",
       "    .dataframe thead th {\n",
       "        text-align: right;\n",
       "    }\n",
       "</style>\n",
       "<table border=\"1\" class=\"dataframe\">\n",
       "  <thead>\n",
       "    <tr style=\"text-align: right;\">\n",
       "      <th></th>\n",
       "      <th>InvoiceDate</th>\n",
       "      <th>NetFare</th>\n",
       "      <th>ProductType</th>\n",
       "      <th>ItineraryType</th>\n",
       "    </tr>\n",
       "  </thead>\n",
       "  <tbody>\n",
       "    <tr>\n",
       "      <th>86275</th>\n",
       "      <td>2018-01-04 08:26:00</td>\n",
       "      <td>8222.0</td>\n",
       "      <td>Air</td>\n",
       "      <td>Domestic</td>\n",
       "    </tr>\n",
       "    <tr>\n",
       "      <th>86276</th>\n",
       "      <td>2018-01-04 09:17:00</td>\n",
       "      <td>3418.0</td>\n",
       "      <td>Air</td>\n",
       "      <td>Domestic</td>\n",
       "    </tr>\n",
       "    <tr>\n",
       "      <th>86277</th>\n",
       "      <td>2018-01-04 09:54:00</td>\n",
       "      <td>6708.0</td>\n",
       "      <td>Air</td>\n",
       "      <td>Domestic</td>\n",
       "    </tr>\n",
       "    <tr>\n",
       "      <th>86278</th>\n",
       "      <td>2018-01-04 12:00:00</td>\n",
       "      <td>3625.0</td>\n",
       "      <td>Air</td>\n",
       "      <td>Domestic</td>\n",
       "    </tr>\n",
       "    <tr>\n",
       "      <th>86279</th>\n",
       "      <td>2018-01-04 12:36:00</td>\n",
       "      <td>3099.0</td>\n",
       "      <td>Air</td>\n",
       "      <td>Domestic</td>\n",
       "    </tr>\n",
       "    <tr>\n",
       "      <th>...</th>\n",
       "      <td>...</td>\n",
       "      <td>...</td>\n",
       "      <td>...</td>\n",
       "      <td>...</td>\n",
       "    </tr>\n",
       "    <tr>\n",
       "      <th>65135</th>\n",
       "      <td>2019-12-05 23:56:00</td>\n",
       "      <td>5532.0</td>\n",
       "      <td>Air</td>\n",
       "      <td>Domestic</td>\n",
       "    </tr>\n",
       "    <tr>\n",
       "      <th>65134</th>\n",
       "      <td>2019-12-05 23:56:00</td>\n",
       "      <td>5532.0</td>\n",
       "      <td>Air</td>\n",
       "      <td>Domestic</td>\n",
       "    </tr>\n",
       "    <tr>\n",
       "      <th>65133</th>\n",
       "      <td>2019-12-05 23:56:00</td>\n",
       "      <td>5532.0</td>\n",
       "      <td>Air</td>\n",
       "      <td>Domestic</td>\n",
       "    </tr>\n",
       "    <tr>\n",
       "      <th>65136</th>\n",
       "      <td>2019-12-05 23:56:00</td>\n",
       "      <td>5532.0</td>\n",
       "      <td>Air</td>\n",
       "      <td>Domestic</td>\n",
       "    </tr>\n",
       "    <tr>\n",
       "      <th>65140</th>\n",
       "      <td>2019-12-05 23:56:00</td>\n",
       "      <td>5532.0</td>\n",
       "      <td>Air</td>\n",
       "      <td>Domestic</td>\n",
       "    </tr>\n",
       "  </tbody>\n",
       "</table>\n",
       "<p>170117 rows × 4 columns</p>\n",
       "</div>"
      ],
      "text/plain": [
       "              InvoiceDate  NetFare ProductType ItineraryType\n",
       "86275 2018-01-04 08:26:00   8222.0         Air      Domestic\n",
       "86276 2018-01-04 09:17:00   3418.0         Air      Domestic\n",
       "86277 2018-01-04 09:54:00   6708.0         Air      Domestic\n",
       "86278 2018-01-04 12:00:00   3625.0         Air      Domestic\n",
       "86279 2018-01-04 12:36:00   3099.0         Air      Domestic\n",
       "...                   ...      ...         ...           ...\n",
       "65135 2019-12-05 23:56:00   5532.0         Air      Domestic\n",
       "65134 2019-12-05 23:56:00   5532.0         Air      Domestic\n",
       "65133 2019-12-05 23:56:00   5532.0         Air      Domestic\n",
       "65136 2019-12-05 23:56:00   5532.0         Air      Domestic\n",
       "65140 2019-12-05 23:56:00   5532.0         Air      Domestic\n",
       "\n",
       "[170117 rows x 4 columns]"
      ]
     },
     "execution_count": 34,
     "metadata": {},
     "output_type": "execute_result"
    }
   ],
   "source": [
    "index_outlier.reset_index().sort_values(by='InvoiceDate')"
   ]
  },
  {
   "cell_type": "markdown",
   "metadata": {},
   "source": [
    "<p>Among CLEANED Data observations=**184800**, after delation of outlier REMAINDER Data observations=**170117** </p>"
   ]
  },
  {
   "cell_type": "markdown",
   "metadata": {},
   "source": [
    "### Re-Check outliers by Box-Plot "
   ]
  },
  {
   "cell_type": "code",
   "execution_count": 35,
   "metadata": {},
   "outputs": [
    {
     "data": {
      "image/png": "[encoded data removed]",
      "text/plain": [
       "<Figure size 360x360 with 1 Axes>"
      ]
     },
     "metadata": {
      "needs_background": "light"
     },
     "output_type": "display_data"
    }
   ],
   "source": [
    "fig, ax1=plt.subplots()\n",
    "fig.set_size_inches(5,5)\n",
    "plt.boxplot(index_outlier[\"NetFare\"])\n",
    "plt.show()"
   ]
  },
  {
   "cell_type": "markdown",
   "metadata": {},
   "source": [
    "↑ **Oah..**, we got box plot with free outliers. Its great"
   ]
  },
  {
   "cell_type": "code",
   "execution_count": 36,
   "metadata": {},
   "outputs": [
    {
     "name": "stdout",
     "output_type": "stream",
     "text": [
      "0.10733512294966292\n"
     ]
    },
    {
     "data": {
      "text/plain": [
       "count    170117.000000\n",
       "mean       4138.070657\n",
       "std        3034.224226\n",
       "min       -4315.000000\n",
       "25%        2243.000000\n",
       "50%        4044.000000\n",
       "75%        6084.000000\n",
       "max       12941.000000\n",
       "Name: NetFare, dtype: float64"
      ]
     },
     "execution_count": 36,
     "metadata": {},
     "output_type": "execute_result"
    }
   ],
   "source": [
    "print(index_outlier['NetFare'].skew())\n",
    "index_outlier['NetFare'].describe()"
   ]
  },
  {
   "cell_type": "markdown",
   "metadata": {},
   "source": [
    "↑ See the Skewness=0.10, nearly 0. Data is normal distribution."
   ]
  },
  {
   "cell_type": "markdown",
   "metadata": {},
   "source": [
    "<b>Good!</b> Now, we obtain the dataset with no missing values, no outliers , no dispersion & sort indexed."
   ]
  },
  {
   "cell_type": "markdown",
   "metadata": {},
   "source": [
    "### Data Normalization\n",
    "**Target:** Normalize variables so their value ranges from 0 to 1.<br>\n",
    "**Approach:** replace original value by (original value)/(maximum value).<br>\n",
    "We have not such columns having big values which affects our target[NetFare], that's why we did not normalize data."
   ]
  },
  {
   "cell_type": "code",
   "execution_count": null,
   "metadata": {},
   "outputs": [],
   "source": [
    "#index_outlier.NetFare = index_outlier.NetFare/index_outlier.NetFare.max()\n",
    "#index_outlier.head().round(4)"
   ]
  },
  {
   "cell_type": "markdown",
   "metadata": {},
   "source": [
    "### Binning\n",
    "Binning is a process of transforming continuous numerical variables into discrete categorical 'bins', for grouped analysis."
   ]
  },
  {
   "cell_type": "markdown",
   "metadata": {},
   "source": [
    "Histogram of NetFare"
   ]
  },
  {
   "cell_type": "code",
   "execution_count": 38,
   "metadata": {},
   "outputs": [
    {
     "data": {
      "text/plain": [
       "Text(0.5, 1.0, 'NetFare-Counts Plot')"
      ]
     },
     "execution_count": 38,
     "metadata": {},
     "output_type": "execute_result"
    },
    {
     "data": {
      "image/png": "[encoded data removed]",
      "text/plain": [
       "<Figure size 720x432 with 1 Axes>"
      ]
     },
     "metadata": {
      "needs_background": "light"
     },
     "output_type": "display_data"
    }
   ],
   "source": [
    "plt.hist(index_outlier[\"NetFare\"])\n",
    "plt.xlabel(\"NetFare\")\n",
    "plt.ylabel(\"count\")\n",
    "plt.title(\"NetFare-Counts Plot\")"
   ]
  },
  {
   "cell_type": "markdown",
   "metadata": {},
   "source": [
    "↑ Above plot shows that NetFare between 2500-4000 has nearly 50000."
   ]
  },
  {
   "cell_type": "markdown",
   "metadata": {},
   "source": [
    "Create bar plot for ProductType"
   ]
  },
  {
   "cell_type": "code",
   "execution_count": 39,
   "metadata": {},
   "outputs": [
    {
     "data": {
      "text/plain": [
       "Air                           140669\n",
       "Other Product                  18660\n",
       "Hotel                           6988\n",
       "Air Cancellation                2416\n",
       "Other Product Cancellation       538\n",
       "Air Debit Note                   535\n",
       "Air Loss                         190\n",
       "Hotel Cancellation                93\n",
       "Other Product Debit Note          21\n",
       "Hotel Loss                         4\n",
       "Hotel Debit Note                   3\n",
       "Name: ProductType, dtype: int64"
      ]
     },
     "execution_count": 39,
     "metadata": {},
     "output_type": "execute_result"
    }
   ],
   "source": [
    "index_outlier['ProductType'].value_counts()"
   ]
  },
  {
   "cell_type": "code",
   "execution_count": 40,
   "metadata": {},
   "outputs": [
    {
     "data": {
      "text/plain": [
       "<matplotlib.axes._subplots.AxesSubplot at 0x15e2c78d7b8>"
      ]
     },
     "execution_count": 40,
     "metadata": {},
     "output_type": "execute_result"
    },
    {
     "data": {
      "image/png": "[encoded data removed]",
      "text/plain": [
       "<Figure size 720x432 with 1 Axes>"
      ]
     },
     "metadata": {
      "needs_background": "light"
     },
     "output_type": "display_data"
    }
   ],
   "source": [
    "index_outlier['ProductType'].value_counts().plot(kind='bar')"
   ]
  },
  {
   "cell_type": "markdown",
   "metadata": {},
   "source": [
    "Create bar plot of ItineraryType ( Domestic, International)"
   ]
  },
  {
   "cell_type": "code",
   "execution_count": 41,
   "metadata": {},
   "outputs": [
    {
     "data": {
      "text/plain": [
       "Domestic         162378\n",
       "International      7739\n",
       "Name: ItineraryType, dtype: int64"
      ]
     },
     "execution_count": 41,
     "metadata": {},
     "output_type": "execute_result"
    }
   ],
   "source": [
    "index_outlier['ItineraryType'].value_counts()"
   ]
  },
  {
   "cell_type": "code",
   "execution_count": 42,
   "metadata": {},
   "outputs": [
    {
     "data": {
      "text/plain": [
       "<matplotlib.axes._subplots.AxesSubplot at 0x15e2c810f60>"
      ]
     },
     "execution_count": 42,
     "metadata": {},
     "output_type": "execute_result"
    },
    {
     "data": {
      "image/png": "[encoded data removed]",
      "text/plain": [
       "<Figure size 720x432 with 1 Axes>"
      ]
     },
     "metadata": {
      "needs_background": "light"
     },
     "output_type": "display_data"
    }
   ],
   "source": [
    "index_outlier['ItineraryType'].value_counts().plot(kind='bar')"
   ]
  },
  {
   "cell_type": "markdown",
   "metadata": {},
   "source": [
    "### Create dummie variables of ['ProductType', 'ItineraryType']"
   ]
  },
  {
   "cell_type": "code",
   "execution_count": 43,
   "metadata": {},
   "outputs": [],
   "source": [
    "dummy_df=pd.get_dummies(index_outlier, columns=['ProductType', 'ItineraryType'], drop_first=True)"
   ]
  },
  {
   "cell_type": "code",
   "execution_count": 44,
   "metadata": {},
   "outputs": [
    {
     "data": {
      "text/plain": [
       "Index(['NetFare', 'ProductType_Air Cancellation', 'ProductType_Air Debit Note',\n",
       "       'ProductType_Air Loss', 'ProductType_Hotel',\n",
       "       'ProductType_Hotel Cancellation', 'ProductType_Hotel Debit Note',\n",
       "       'ProductType_Hotel Loss', 'ProductType_Other Product',\n",
       "       'ProductType_Other Product Cancellation',\n",
       "       'ProductType_Other Product Debit Note', 'ItineraryType_International'],\n",
       "      dtype='object')"
      ]
     },
     "execution_count": 44,
     "metadata": {},
     "output_type": "execute_result"
    }
   ],
   "source": [
    "dummy_df.columns"
   ]
  },
  {
   "cell_type": "code",
   "execution_count": 45,
   "metadata": {},
   "outputs": [],
   "source": [
    "dummy_df.rename(columns = {'NetFare':'NetFare','ProductType_Air Cancellation':'ProTypeAirCanc','ProductType_Air Debit Note':'ProTypeAirDebtNote','ProductType_Air Loss':'ProTypeAirLoss','ProductType_Hotel':'ProTypeHot','ProductType_Hotel Cancellation':'ProTypeHotCanc','ProductType_Hotel Debit Note':'ProTypeHotDebNote','ProductType_Hotel Loss':'ProTypeHotLoss','ProductType_Other Product':'ProTypeOthPro','ProductType_Other Product Cancellation':'ProTypeOthProCanc','ProductType_Other Product Debit Note':'ProTypeOthProDebNote','ItineraryType_International':'IteTypeInter'}, inplace=True)\n"
   ]
  },
  {
   "cell_type": "code",
   "execution_count": 48,
   "metadata": {},
   "outputs": [
    {
     "data": {
      "text/html": [
       "<div>\n",
       "<style scoped>\n",
       "    .dataframe tbody tr th:only-of-type {\n",
       "        vertical-align: middle;\n",
       "    }\n",
       "\n",
       "    .dataframe tbody tr th {\n",
       "        vertical-align: top;\n",
       "    }\n",
       "\n",
       "    .dataframe thead th {\n",
       "        text-align: right;\n",
       "    }\n",
       "</style>\n",
       "<table border=\"1\" class=\"dataframe\">\n",
       "  <thead>\n",
       "    <tr style=\"text-align: right;\">\n",
       "      <th></th>\n",
       "      <th>NetFare</th>\n",
       "      <th>ProTypeAirCanc</th>\n",
       "      <th>ProTypeAirDebtNote</th>\n",
       "      <th>ProTypeAirLoss</th>\n",
       "      <th>ProTypeHot</th>\n",
       "      <th>ProTypeHotCanc</th>\n",
       "      <th>ProTypeHotDebNote</th>\n",
       "      <th>ProTypeHotLoss</th>\n",
       "      <th>ProTypeOthPro</th>\n",
       "      <th>ProTypeOthProCanc</th>\n",
       "      <th>ProTypeOthProDebNote</th>\n",
       "      <th>IteTypeInter</th>\n",
       "    </tr>\n",
       "    <tr>\n",
       "      <th>InvoiceDate</th>\n",
       "      <th></th>\n",
       "      <th></th>\n",
       "      <th></th>\n",
       "      <th></th>\n",
       "      <th></th>\n",
       "      <th></th>\n",
       "      <th></th>\n",
       "      <th></th>\n",
       "      <th></th>\n",
       "      <th></th>\n",
       "      <th></th>\n",
       "      <th></th>\n",
       "    </tr>\n",
       "  </thead>\n",
       "  <tbody>\n",
       "    <tr>\n",
       "      <th>2018-01-12 11:43:00</th>\n",
       "      <td>2160.00</td>\n",
       "      <td>0</td>\n",
       "      <td>0</td>\n",
       "      <td>0</td>\n",
       "      <td>0</td>\n",
       "      <td>0</td>\n",
       "      <td>0</td>\n",
       "      <td>0</td>\n",
       "      <td>1</td>\n",
       "      <td>0</td>\n",
       "      <td>0</td>\n",
       "      <td>0</td>\n",
       "    </tr>\n",
       "    <tr>\n",
       "      <th>2018-01-12 11:43:00</th>\n",
       "      <td>0.49</td>\n",
       "      <td>0</td>\n",
       "      <td>0</td>\n",
       "      <td>0</td>\n",
       "      <td>0</td>\n",
       "      <td>0</td>\n",
       "      <td>0</td>\n",
       "      <td>0</td>\n",
       "      <td>1</td>\n",
       "      <td>0</td>\n",
       "      <td>0</td>\n",
       "      <td>0</td>\n",
       "    </tr>\n",
       "    <tr>\n",
       "      <th>2018-01-12 13:01:00</th>\n",
       "      <td>6550.00</td>\n",
       "      <td>0</td>\n",
       "      <td>0</td>\n",
       "      <td>0</td>\n",
       "      <td>0</td>\n",
       "      <td>0</td>\n",
       "      <td>0</td>\n",
       "      <td>0</td>\n",
       "      <td>0</td>\n",
       "      <td>0</td>\n",
       "      <td>0</td>\n",
       "      <td>0</td>\n",
       "    </tr>\n",
       "    <tr>\n",
       "      <th>2018-01-12 13:10:00</th>\n",
       "      <td>6550.00</td>\n",
       "      <td>0</td>\n",
       "      <td>0</td>\n",
       "      <td>0</td>\n",
       "      <td>0</td>\n",
       "      <td>0</td>\n",
       "      <td>0</td>\n",
       "      <td>0</td>\n",
       "      <td>0</td>\n",
       "      <td>0</td>\n",
       "      <td>0</td>\n",
       "      <td>0</td>\n",
       "    </tr>\n",
       "    <tr>\n",
       "      <th>2018-11-30 14:30:00</th>\n",
       "      <td>5497.00</td>\n",
       "      <td>0</td>\n",
       "      <td>0</td>\n",
       "      <td>0</td>\n",
       "      <td>0</td>\n",
       "      <td>0</td>\n",
       "      <td>0</td>\n",
       "      <td>0</td>\n",
       "      <td>0</td>\n",
       "      <td>0</td>\n",
       "      <td>0</td>\n",
       "      <td>0</td>\n",
       "    </tr>\n",
       "    <tr>\n",
       "      <th>...</th>\n",
       "      <td>...</td>\n",
       "      <td>...</td>\n",
       "      <td>...</td>\n",
       "      <td>...</td>\n",
       "      <td>...</td>\n",
       "      <td>...</td>\n",
       "      <td>...</td>\n",
       "      <td>...</td>\n",
       "      <td>...</td>\n",
       "      <td>...</td>\n",
       "      <td>...</td>\n",
       "      <td>...</td>\n",
       "    </tr>\n",
       "    <tr>\n",
       "      <th>2019-10-06 20:45:00</th>\n",
       "      <td>0.00</td>\n",
       "      <td>0</td>\n",
       "      <td>0</td>\n",
       "      <td>0</td>\n",
       "      <td>0</td>\n",
       "      <td>0</td>\n",
       "      <td>0</td>\n",
       "      <td>0</td>\n",
       "      <td>0</td>\n",
       "      <td>0</td>\n",
       "      <td>0</td>\n",
       "      <td>0</td>\n",
       "    </tr>\n",
       "    <tr>\n",
       "      <th>2019-10-06 21:39:00</th>\n",
       "      <td>9073.00</td>\n",
       "      <td>0</td>\n",
       "      <td>0</td>\n",
       "      <td>0</td>\n",
       "      <td>0</td>\n",
       "      <td>0</td>\n",
       "      <td>0</td>\n",
       "      <td>0</td>\n",
       "      <td>0</td>\n",
       "      <td>0</td>\n",
       "      <td>0</td>\n",
       "      <td>0</td>\n",
       "    </tr>\n",
       "    <tr>\n",
       "      <th>2019-10-06 22:18:00</th>\n",
       "      <td>2367.00</td>\n",
       "      <td>0</td>\n",
       "      <td>0</td>\n",
       "      <td>0</td>\n",
       "      <td>0</td>\n",
       "      <td>0</td>\n",
       "      <td>0</td>\n",
       "      <td>0</td>\n",
       "      <td>0</td>\n",
       "      <td>0</td>\n",
       "      <td>0</td>\n",
       "      <td>0</td>\n",
       "    </tr>\n",
       "    <tr>\n",
       "      <th>2019-10-06 22:30:00</th>\n",
       "      <td>6572.00</td>\n",
       "      <td>0</td>\n",
       "      <td>0</td>\n",
       "      <td>0</td>\n",
       "      <td>0</td>\n",
       "      <td>0</td>\n",
       "      <td>0</td>\n",
       "      <td>0</td>\n",
       "      <td>0</td>\n",
       "      <td>0</td>\n",
       "      <td>0</td>\n",
       "      <td>0</td>\n",
       "    </tr>\n",
       "    <tr>\n",
       "      <th>2019-10-06 22:30:00</th>\n",
       "      <td>5118.00</td>\n",
       "      <td>0</td>\n",
       "      <td>0</td>\n",
       "      <td>0</td>\n",
       "      <td>0</td>\n",
       "      <td>0</td>\n",
       "      <td>0</td>\n",
       "      <td>0</td>\n",
       "      <td>0</td>\n",
       "      <td>0</td>\n",
       "      <td>0</td>\n",
       "      <td>0</td>\n",
       "    </tr>\n",
       "  </tbody>\n",
       "</table>\n",
       "<p>170117 rows × 12 columns</p>\n",
       "</div>"
      ],
      "text/plain": [
       "                     NetFare  ProTypeAirCanc  ProTypeAirDebtNote  \\\n",
       "InvoiceDate                                                        \n",
       "2018-01-12 11:43:00  2160.00               0                   0   \n",
       "2018-01-12 11:43:00     0.49               0                   0   \n",
       "2018-01-12 13:01:00  6550.00               0                   0   \n",
       "2018-01-12 13:10:00  6550.00               0                   0   \n",
       "2018-11-30 14:30:00  5497.00               0                   0   \n",
       "...                      ...             ...                 ...   \n",
       "2019-10-06 20:45:00     0.00               0                   0   \n",
       "2019-10-06 21:39:00  9073.00               0                   0   \n",
       "2019-10-06 22:18:00  2367.00               0                   0   \n",
       "2019-10-06 22:30:00  6572.00               0                   0   \n",
       "2019-10-06 22:30:00  5118.00               0                   0   \n",
       "\n",
       "                     ProTypeAirLoss  ProTypeHot  ProTypeHotCanc  \\\n",
       "InvoiceDate                                                       \n",
       "2018-01-12 11:43:00               0           0               0   \n",
       "2018-01-12 11:43:00               0           0               0   \n",
       "2018-01-12 13:01:00               0           0               0   \n",
       "2018-01-12 13:10:00               0           0               0   \n",
       "2018-11-30 14:30:00               0           0               0   \n",
       "...                             ...         ...             ...   \n",
       "2019-10-06 20:45:00               0           0               0   \n",
       "2019-10-06 21:39:00               0           0               0   \n",
       "2019-10-06 22:18:00               0           0               0   \n",
       "2019-10-06 22:30:00               0           0               0   \n",
       "2019-10-06 22:30:00               0           0               0   \n",
       "\n",
       "                     ProTypeHotDebNote  ProTypeHotLoss  ProTypeOthPro  \\\n",
       "InvoiceDate                                                             \n",
       "2018-01-12 11:43:00                  0               0              1   \n",
       "2018-01-12 11:43:00                  0               0              1   \n",
       "2018-01-12 13:01:00                  0               0              0   \n",
       "2018-01-12 13:10:00                  0               0              0   \n",
       "2018-11-30 14:30:00                  0               0              0   \n",
       "...                                ...             ...            ...   \n",
       "2019-10-06 20:45:00                  0               0              0   \n",
       "2019-10-06 21:39:00                  0               0              0   \n",
       "2019-10-06 22:18:00                  0               0              0   \n",
       "2019-10-06 22:30:00                  0               0              0   \n",
       "2019-10-06 22:30:00                  0               0              0   \n",
       "\n",
       "                     ProTypeOthProCanc  ProTypeOthProDebNote  IteTypeInter  \n",
       "InvoiceDate                                                                 \n",
       "2018-01-12 11:43:00                  0                     0             0  \n",
       "2018-01-12 11:43:00                  0                     0             0  \n",
       "2018-01-12 13:01:00                  0                     0             0  \n",
       "2018-01-12 13:10:00                  0                     0             0  \n",
       "2018-11-30 14:30:00                  0                     0             0  \n",
       "...                                ...                   ...           ...  \n",
       "2019-10-06 20:45:00                  0                     0             0  \n",
       "2019-10-06 21:39:00                  0                     0             0  \n",
       "2019-10-06 22:18:00                  0                     0             0  \n",
       "2019-10-06 22:30:00                  0                     0             0  \n",
       "2019-10-06 22:30:00                  0                     0             0  \n",
       "\n",
       "[170117 rows x 12 columns]"
      ]
     },
     "execution_count": 48,
     "metadata": {},
     "output_type": "execute_result"
    }
   ],
   "source": [
    "dummy_df"
   ]
  },
  {
   "cell_type": "code",
   "execution_count": 49,
   "metadata": {},
   "outputs": [
    {
     "data": {
      "text/plain": [
       "Index(['NetFare', 'ProTypeAirCanc', 'ProTypeAirDebtNote', 'ProTypeAirLoss',\n",
       "       'ProTypeHot', 'ProTypeHotCanc', 'ProTypeHotDebNote', 'ProTypeHotLoss',\n",
       "       'ProTypeOthPro', 'ProTypeOthProCanc', 'ProTypeOthProDebNote',\n",
       "       'IteTypeInter'],\n",
       "      dtype='object')"
      ]
     },
     "execution_count": 49,
     "metadata": {},
     "output_type": "execute_result"
    }
   ],
   "source": [
    "dummy_df.columns"
   ]
  },
  {
   "cell_type": "markdown",
   "metadata": {},
   "source": [
    "## Analysis "
   ]
  },
  {
   "cell_type": "markdown",
   "metadata": {},
   "source": [
    "#### Correlation heatmap of dataset"
   ]
  },
  {
   "cell_type": "code",
   "execution_count": 50,
   "metadata": {},
   "outputs": [
    {
     "data": {
      "image/png": "[encoded data removed]",
      "text/plain": [
       "<Figure size 1008x864 with 2 Axes>"
      ]
     },
     "metadata": {
      "needs_background": "light"
     },
     "output_type": "display_data"
    }
   ],
   "source": [
    "def correlation_heatmap(dummy_df):\n",
    "    hmap , ax = plt.subplots(figsize =(14, 12))\n",
    "    colormap = sns.diverging_palette(220, 10, as_cmap = True)\n",
    "    \n",
    "    hmap= sns.heatmap(\n",
    "        dummy_df.corr(), \n",
    "        cmap = \"YlGn\",\n",
    "        square=True, \n",
    "        cbar_kws={'shrink':.9 }, \n",
    "        ax=ax,\n",
    "        annot=True, \n",
    "        linewidths=0.1,vmax=1.0, linecolor='white',\n",
    "        annot_kws={'fontsize':12 }\n",
    "    )\n",
    "    \n",
    "    plt.title('Pearson Correlation of Features', y=1.05, size=15)\n",
    "\n",
    "correlation_heatmap(dummy_df)"
   ]
  },
  {
   "cell_type": "markdown",
   "metadata": {},
   "source": [
    "↑ Pearson Correlation of Features (ProductType_Hotel & ItineraryType_International) plays role to increase NetFare. Others variables less effective."
   ]
  },
  {
   "cell_type": "markdown",
   "metadata": {},
   "source": [
    "### Setting up Environment"
   ]
  },
  {
   "cell_type": "code",
   "execution_count": 51,
   "metadata": {},
   "outputs": [],
   "source": [
    "import pycaret"
   ]
  },
  {
   "cell_type": "code",
   "execution_count": 52,
   "metadata": {},
   "outputs": [
    {
     "name": "stdout",
     "output_type": "stream",
     "text": [
      " \n",
      "Setup Succesfully Completed!\n"
     ]
    },
    {
     "data": {
      "text/html": [
       "<style  type=\"text/css\" >\n",
       "</style><table id=\"T_7a922b38_a5b6_11ea_8f05_34e6ad71bcfe\" ><thead>    <tr>        <th class=\"blank level0\" ></th>        <th class=\"col_heading level0 col0\" >Description</th>        <th class=\"col_heading level0 col1\" >Value</th>    </tr></thead><tbody>\n",
       "                <tr>\n",
       "                        <th id=\"T_7a922b38_a5b6_11ea_8f05_34e6ad71bcfelevel0_row0\" class=\"row_heading level0 row0\" >0</th>\n",
       "                        <td id=\"T_7a922b38_a5b6_11ea_8f05_34e6ad71bcferow0_col0\" class=\"data row0 col0\" >session_id</td>\n",
       "                        <td id=\"T_7a922b38_a5b6_11ea_8f05_34e6ad71bcferow0_col1\" class=\"data row0 col1\" >3651</td>\n",
       "            </tr>\n",
       "            <tr>\n",
       "                        <th id=\"T_7a922b38_a5b6_11ea_8f05_34e6ad71bcfelevel0_row1\" class=\"row_heading level0 row1\" >1</th>\n",
       "                        <td id=\"T_7a922b38_a5b6_11ea_8f05_34e6ad71bcferow1_col0\" class=\"data row1 col0\" >Transform Target </td>\n",
       "                        <td id=\"T_7a922b38_a5b6_11ea_8f05_34e6ad71bcferow1_col1\" class=\"data row1 col1\" >False</td>\n",
       "            </tr>\n",
       "            <tr>\n",
       "                        <th id=\"T_7a922b38_a5b6_11ea_8f05_34e6ad71bcfelevel0_row2\" class=\"row_heading level0 row2\" >2</th>\n",
       "                        <td id=\"T_7a922b38_a5b6_11ea_8f05_34e6ad71bcferow2_col0\" class=\"data row2 col0\" >Transform Target Method</td>\n",
       "                        <td id=\"T_7a922b38_a5b6_11ea_8f05_34e6ad71bcferow2_col1\" class=\"data row2 col1\" >None</td>\n",
       "            </tr>\n",
       "            <tr>\n",
       "                        <th id=\"T_7a922b38_a5b6_11ea_8f05_34e6ad71bcfelevel0_row3\" class=\"row_heading level0 row3\" >3</th>\n",
       "                        <td id=\"T_7a922b38_a5b6_11ea_8f05_34e6ad71bcferow3_col0\" class=\"data row3 col0\" >Original Data</td>\n",
       "                        <td id=\"T_7a922b38_a5b6_11ea_8f05_34e6ad71bcferow3_col1\" class=\"data row3 col1\" >(170117, 12)</td>\n",
       "            </tr>\n",
       "            <tr>\n",
       "                        <th id=\"T_7a922b38_a5b6_11ea_8f05_34e6ad71bcfelevel0_row4\" class=\"row_heading level0 row4\" >4</th>\n",
       "                        <td id=\"T_7a922b38_a5b6_11ea_8f05_34e6ad71bcferow4_col0\" class=\"data row4 col0\" >Missing Values </td>\n",
       "                        <td id=\"T_7a922b38_a5b6_11ea_8f05_34e6ad71bcferow4_col1\" class=\"data row4 col1\" >False</td>\n",
       "            </tr>\n",
       "            <tr>\n",
       "                        <th id=\"T_7a922b38_a5b6_11ea_8f05_34e6ad71bcfelevel0_row5\" class=\"row_heading level0 row5\" >5</th>\n",
       "                        <td id=\"T_7a922b38_a5b6_11ea_8f05_34e6ad71bcferow5_col0\" class=\"data row5 col0\" >Numeric Features </td>\n",
       "                        <td id=\"T_7a922b38_a5b6_11ea_8f05_34e6ad71bcferow5_col1\" class=\"data row5 col1\" >11</td>\n",
       "            </tr>\n",
       "            <tr>\n",
       "                        <th id=\"T_7a922b38_a5b6_11ea_8f05_34e6ad71bcfelevel0_row6\" class=\"row_heading level0 row6\" >6</th>\n",
       "                        <td id=\"T_7a922b38_a5b6_11ea_8f05_34e6ad71bcferow6_col0\" class=\"data row6 col0\" >Categorical Features </td>\n",
       "                        <td id=\"T_7a922b38_a5b6_11ea_8f05_34e6ad71bcferow6_col1\" class=\"data row6 col1\" >0</td>\n",
       "            </tr>\n",
       "            <tr>\n",
       "                        <th id=\"T_7a922b38_a5b6_11ea_8f05_34e6ad71bcfelevel0_row7\" class=\"row_heading level0 row7\" >7</th>\n",
       "                        <td id=\"T_7a922b38_a5b6_11ea_8f05_34e6ad71bcferow7_col0\" class=\"data row7 col0\" >Ordinal Features </td>\n",
       "                        <td id=\"T_7a922b38_a5b6_11ea_8f05_34e6ad71bcferow7_col1\" class=\"data row7 col1\" >False</td>\n",
       "            </tr>\n",
       "            <tr>\n",
       "                        <th id=\"T_7a922b38_a5b6_11ea_8f05_34e6ad71bcfelevel0_row8\" class=\"row_heading level0 row8\" >8</th>\n",
       "                        <td id=\"T_7a922b38_a5b6_11ea_8f05_34e6ad71bcferow8_col0\" class=\"data row8 col0\" >High Cardinality Features </td>\n",
       "                        <td id=\"T_7a922b38_a5b6_11ea_8f05_34e6ad71bcferow8_col1\" class=\"data row8 col1\" >False</td>\n",
       "            </tr>\n",
       "            <tr>\n",
       "                        <th id=\"T_7a922b38_a5b6_11ea_8f05_34e6ad71bcfelevel0_row9\" class=\"row_heading level0 row9\" >9</th>\n",
       "                        <td id=\"T_7a922b38_a5b6_11ea_8f05_34e6ad71bcferow9_col0\" class=\"data row9 col0\" >High Cardinality Method </td>\n",
       "                        <td id=\"T_7a922b38_a5b6_11ea_8f05_34e6ad71bcferow9_col1\" class=\"data row9 col1\" >None</td>\n",
       "            </tr>\n",
       "            <tr>\n",
       "                        <th id=\"T_7a922b38_a5b6_11ea_8f05_34e6ad71bcfelevel0_row10\" class=\"row_heading level0 row10\" >10</th>\n",
       "                        <td id=\"T_7a922b38_a5b6_11ea_8f05_34e6ad71bcferow10_col0\" class=\"data row10 col0\" >Sampled Data</td>\n",
       "                        <td id=\"T_7a922b38_a5b6_11ea_8f05_34e6ad71bcferow10_col1\" class=\"data row10 col1\" >(136093, 12)</td>\n",
       "            </tr>\n",
       "            <tr>\n",
       "                        <th id=\"T_7a922b38_a5b6_11ea_8f05_34e6ad71bcfelevel0_row11\" class=\"row_heading level0 row11\" >11</th>\n",
       "                        <td id=\"T_7a922b38_a5b6_11ea_8f05_34e6ad71bcferow11_col0\" class=\"data row11 col0\" >Transformed Train Set</td>\n",
       "                        <td id=\"T_7a922b38_a5b6_11ea_8f05_34e6ad71bcferow11_col1\" class=\"data row11 col1\" >(95265, 11)</td>\n",
       "            </tr>\n",
       "            <tr>\n",
       "                        <th id=\"T_7a922b38_a5b6_11ea_8f05_34e6ad71bcfelevel0_row12\" class=\"row_heading level0 row12\" >12</th>\n",
       "                        <td id=\"T_7a922b38_a5b6_11ea_8f05_34e6ad71bcferow12_col0\" class=\"data row12 col0\" >Transformed Test Set</td>\n",
       "                        <td id=\"T_7a922b38_a5b6_11ea_8f05_34e6ad71bcferow12_col1\" class=\"data row12 col1\" >(40828, 11)</td>\n",
       "            </tr>\n",
       "            <tr>\n",
       "                        <th id=\"T_7a922b38_a5b6_11ea_8f05_34e6ad71bcfelevel0_row13\" class=\"row_heading level0 row13\" >13</th>\n",
       "                        <td id=\"T_7a922b38_a5b6_11ea_8f05_34e6ad71bcferow13_col0\" class=\"data row13 col0\" >Numeric Imputer </td>\n",
       "                        <td id=\"T_7a922b38_a5b6_11ea_8f05_34e6ad71bcferow13_col1\" class=\"data row13 col1\" >mean</td>\n",
       "            </tr>\n",
       "            <tr>\n",
       "                        <th id=\"T_7a922b38_a5b6_11ea_8f05_34e6ad71bcfelevel0_row14\" class=\"row_heading level0 row14\" >14</th>\n",
       "                        <td id=\"T_7a922b38_a5b6_11ea_8f05_34e6ad71bcferow14_col0\" class=\"data row14 col0\" >Categorical Imputer </td>\n",
       "                        <td id=\"T_7a922b38_a5b6_11ea_8f05_34e6ad71bcferow14_col1\" class=\"data row14 col1\" >constant</td>\n",
       "            </tr>\n",
       "            <tr>\n",
       "                        <th id=\"T_7a922b38_a5b6_11ea_8f05_34e6ad71bcfelevel0_row15\" class=\"row_heading level0 row15\" >15</th>\n",
       "                        <td id=\"T_7a922b38_a5b6_11ea_8f05_34e6ad71bcferow15_col0\" class=\"data row15 col0\" >Normalize </td>\n",
       "                        <td id=\"T_7a922b38_a5b6_11ea_8f05_34e6ad71bcferow15_col1\" class=\"data row15 col1\" >False</td>\n",
       "            </tr>\n",
       "            <tr>\n",
       "                        <th id=\"T_7a922b38_a5b6_11ea_8f05_34e6ad71bcfelevel0_row16\" class=\"row_heading level0 row16\" >16</th>\n",
       "                        <td id=\"T_7a922b38_a5b6_11ea_8f05_34e6ad71bcferow16_col0\" class=\"data row16 col0\" >Normalize Method </td>\n",
       "                        <td id=\"T_7a922b38_a5b6_11ea_8f05_34e6ad71bcferow16_col1\" class=\"data row16 col1\" >None</td>\n",
       "            </tr>\n",
       "            <tr>\n",
       "                        <th id=\"T_7a922b38_a5b6_11ea_8f05_34e6ad71bcfelevel0_row17\" class=\"row_heading level0 row17\" >17</th>\n",
       "                        <td id=\"T_7a922b38_a5b6_11ea_8f05_34e6ad71bcferow17_col0\" class=\"data row17 col0\" >Transformation </td>\n",
       "                        <td id=\"T_7a922b38_a5b6_11ea_8f05_34e6ad71bcferow17_col1\" class=\"data row17 col1\" >False</td>\n",
       "            </tr>\n",
       "            <tr>\n",
       "                        <th id=\"T_7a922b38_a5b6_11ea_8f05_34e6ad71bcfelevel0_row18\" class=\"row_heading level0 row18\" >18</th>\n",
       "                        <td id=\"T_7a922b38_a5b6_11ea_8f05_34e6ad71bcferow18_col0\" class=\"data row18 col0\" >Transformation Method </td>\n",
       "                        <td id=\"T_7a922b38_a5b6_11ea_8f05_34e6ad71bcferow18_col1\" class=\"data row18 col1\" >None</td>\n",
       "            </tr>\n",
       "            <tr>\n",
       "                        <th id=\"T_7a922b38_a5b6_11ea_8f05_34e6ad71bcfelevel0_row19\" class=\"row_heading level0 row19\" >19</th>\n",
       "                        <td id=\"T_7a922b38_a5b6_11ea_8f05_34e6ad71bcferow19_col0\" class=\"data row19 col0\" >PCA </td>\n",
       "                        <td id=\"T_7a922b38_a5b6_11ea_8f05_34e6ad71bcferow19_col1\" class=\"data row19 col1\" >False</td>\n",
       "            </tr>\n",
       "            <tr>\n",
       "                        <th id=\"T_7a922b38_a5b6_11ea_8f05_34e6ad71bcfelevel0_row20\" class=\"row_heading level0 row20\" >20</th>\n",
       "                        <td id=\"T_7a922b38_a5b6_11ea_8f05_34e6ad71bcferow20_col0\" class=\"data row20 col0\" >PCA Method </td>\n",
       "                        <td id=\"T_7a922b38_a5b6_11ea_8f05_34e6ad71bcferow20_col1\" class=\"data row20 col1\" >None</td>\n",
       "            </tr>\n",
       "            <tr>\n",
       "                        <th id=\"T_7a922b38_a5b6_11ea_8f05_34e6ad71bcfelevel0_row21\" class=\"row_heading level0 row21\" >21</th>\n",
       "                        <td id=\"T_7a922b38_a5b6_11ea_8f05_34e6ad71bcferow21_col0\" class=\"data row21 col0\" >PCA Components </td>\n",
       "                        <td id=\"T_7a922b38_a5b6_11ea_8f05_34e6ad71bcferow21_col1\" class=\"data row21 col1\" >None</td>\n",
       "            </tr>\n",
       "            <tr>\n",
       "                        <th id=\"T_7a922b38_a5b6_11ea_8f05_34e6ad71bcfelevel0_row22\" class=\"row_heading level0 row22\" >22</th>\n",
       "                        <td id=\"T_7a922b38_a5b6_11ea_8f05_34e6ad71bcferow22_col0\" class=\"data row22 col0\" >Ignore Low Variance </td>\n",
       "                        <td id=\"T_7a922b38_a5b6_11ea_8f05_34e6ad71bcferow22_col1\" class=\"data row22 col1\" >False</td>\n",
       "            </tr>\n",
       "            <tr>\n",
       "                        <th id=\"T_7a922b38_a5b6_11ea_8f05_34e6ad71bcfelevel0_row23\" class=\"row_heading level0 row23\" >23</th>\n",
       "                        <td id=\"T_7a922b38_a5b6_11ea_8f05_34e6ad71bcferow23_col0\" class=\"data row23 col0\" >Combine Rare Levels </td>\n",
       "                        <td id=\"T_7a922b38_a5b6_11ea_8f05_34e6ad71bcferow23_col1\" class=\"data row23 col1\" >False</td>\n",
       "            </tr>\n",
       "            <tr>\n",
       "                        <th id=\"T_7a922b38_a5b6_11ea_8f05_34e6ad71bcfelevel0_row24\" class=\"row_heading level0 row24\" >24</th>\n",
       "                        <td id=\"T_7a922b38_a5b6_11ea_8f05_34e6ad71bcferow24_col0\" class=\"data row24 col0\" >Rare Level Threshold </td>\n",
       "                        <td id=\"T_7a922b38_a5b6_11ea_8f05_34e6ad71bcferow24_col1\" class=\"data row24 col1\" >None</td>\n",
       "            </tr>\n",
       "            <tr>\n",
       "                        <th id=\"T_7a922b38_a5b6_11ea_8f05_34e6ad71bcfelevel0_row25\" class=\"row_heading level0 row25\" >25</th>\n",
       "                        <td id=\"T_7a922b38_a5b6_11ea_8f05_34e6ad71bcferow25_col0\" class=\"data row25 col0\" >Numeric Binning </td>\n",
       "                        <td id=\"T_7a922b38_a5b6_11ea_8f05_34e6ad71bcferow25_col1\" class=\"data row25 col1\" >False</td>\n",
       "            </tr>\n",
       "            <tr>\n",
       "                        <th id=\"T_7a922b38_a5b6_11ea_8f05_34e6ad71bcfelevel0_row26\" class=\"row_heading level0 row26\" >26</th>\n",
       "                        <td id=\"T_7a922b38_a5b6_11ea_8f05_34e6ad71bcferow26_col0\" class=\"data row26 col0\" >Remove Outliers </td>\n",
       "                        <td id=\"T_7a922b38_a5b6_11ea_8f05_34e6ad71bcferow26_col1\" class=\"data row26 col1\" >False</td>\n",
       "            </tr>\n",
       "            <tr>\n",
       "                        <th id=\"T_7a922b38_a5b6_11ea_8f05_34e6ad71bcfelevel0_row27\" class=\"row_heading level0 row27\" >27</th>\n",
       "                        <td id=\"T_7a922b38_a5b6_11ea_8f05_34e6ad71bcferow27_col0\" class=\"data row27 col0\" >Outliers Threshold </td>\n",
       "                        <td id=\"T_7a922b38_a5b6_11ea_8f05_34e6ad71bcferow27_col1\" class=\"data row27 col1\" >None</td>\n",
       "            </tr>\n",
       "            <tr>\n",
       "                        <th id=\"T_7a922b38_a5b6_11ea_8f05_34e6ad71bcfelevel0_row28\" class=\"row_heading level0 row28\" >28</th>\n",
       "                        <td id=\"T_7a922b38_a5b6_11ea_8f05_34e6ad71bcferow28_col0\" class=\"data row28 col0\" >Remove Multicollinearity </td>\n",
       "                        <td id=\"T_7a922b38_a5b6_11ea_8f05_34e6ad71bcferow28_col1\" class=\"data row28 col1\" >False</td>\n",
       "            </tr>\n",
       "            <tr>\n",
       "                        <th id=\"T_7a922b38_a5b6_11ea_8f05_34e6ad71bcfelevel0_row29\" class=\"row_heading level0 row29\" >29</th>\n",
       "                        <td id=\"T_7a922b38_a5b6_11ea_8f05_34e6ad71bcferow29_col0\" class=\"data row29 col0\" >Multicollinearity Threshold </td>\n",
       "                        <td id=\"T_7a922b38_a5b6_11ea_8f05_34e6ad71bcferow29_col1\" class=\"data row29 col1\" >None</td>\n",
       "            </tr>\n",
       "            <tr>\n",
       "                        <th id=\"T_7a922b38_a5b6_11ea_8f05_34e6ad71bcfelevel0_row30\" class=\"row_heading level0 row30\" >30</th>\n",
       "                        <td id=\"T_7a922b38_a5b6_11ea_8f05_34e6ad71bcferow30_col0\" class=\"data row30 col0\" >Clustering </td>\n",
       "                        <td id=\"T_7a922b38_a5b6_11ea_8f05_34e6ad71bcferow30_col1\" class=\"data row30 col1\" >False</td>\n",
       "            </tr>\n",
       "            <tr>\n",
       "                        <th id=\"T_7a922b38_a5b6_11ea_8f05_34e6ad71bcfelevel0_row31\" class=\"row_heading level0 row31\" >31</th>\n",
       "                        <td id=\"T_7a922b38_a5b6_11ea_8f05_34e6ad71bcferow31_col0\" class=\"data row31 col0\" >Clustering Iteration </td>\n",
       "                        <td id=\"T_7a922b38_a5b6_11ea_8f05_34e6ad71bcferow31_col1\" class=\"data row31 col1\" >None</td>\n",
       "            </tr>\n",
       "            <tr>\n",
       "                        <th id=\"T_7a922b38_a5b6_11ea_8f05_34e6ad71bcfelevel0_row32\" class=\"row_heading level0 row32\" >32</th>\n",
       "                        <td id=\"T_7a922b38_a5b6_11ea_8f05_34e6ad71bcferow32_col0\" class=\"data row32 col0\" >Polynomial Features </td>\n",
       "                        <td id=\"T_7a922b38_a5b6_11ea_8f05_34e6ad71bcferow32_col1\" class=\"data row32 col1\" >False</td>\n",
       "            </tr>\n",
       "            <tr>\n",
       "                        <th id=\"T_7a922b38_a5b6_11ea_8f05_34e6ad71bcfelevel0_row33\" class=\"row_heading level0 row33\" >33</th>\n",
       "                        <td id=\"T_7a922b38_a5b6_11ea_8f05_34e6ad71bcferow33_col0\" class=\"data row33 col0\" >Polynomial Degree </td>\n",
       "                        <td id=\"T_7a922b38_a5b6_11ea_8f05_34e6ad71bcferow33_col1\" class=\"data row33 col1\" >None</td>\n",
       "            </tr>\n",
       "            <tr>\n",
       "                        <th id=\"T_7a922b38_a5b6_11ea_8f05_34e6ad71bcfelevel0_row34\" class=\"row_heading level0 row34\" >34</th>\n",
       "                        <td id=\"T_7a922b38_a5b6_11ea_8f05_34e6ad71bcferow34_col0\" class=\"data row34 col0\" >Trignometry Features </td>\n",
       "                        <td id=\"T_7a922b38_a5b6_11ea_8f05_34e6ad71bcferow34_col1\" class=\"data row34 col1\" >False</td>\n",
       "            </tr>\n",
       "            <tr>\n",
       "                        <th id=\"T_7a922b38_a5b6_11ea_8f05_34e6ad71bcfelevel0_row35\" class=\"row_heading level0 row35\" >35</th>\n",
       "                        <td id=\"T_7a922b38_a5b6_11ea_8f05_34e6ad71bcferow35_col0\" class=\"data row35 col0\" >Polynomial Threshold </td>\n",
       "                        <td id=\"T_7a922b38_a5b6_11ea_8f05_34e6ad71bcferow35_col1\" class=\"data row35 col1\" >None</td>\n",
       "            </tr>\n",
       "            <tr>\n",
       "                        <th id=\"T_7a922b38_a5b6_11ea_8f05_34e6ad71bcfelevel0_row36\" class=\"row_heading level0 row36\" >36</th>\n",
       "                        <td id=\"T_7a922b38_a5b6_11ea_8f05_34e6ad71bcferow36_col0\" class=\"data row36 col0\" >Group Features </td>\n",
       "                        <td id=\"T_7a922b38_a5b6_11ea_8f05_34e6ad71bcferow36_col1\" class=\"data row36 col1\" >False</td>\n",
       "            </tr>\n",
       "            <tr>\n",
       "                        <th id=\"T_7a922b38_a5b6_11ea_8f05_34e6ad71bcfelevel0_row37\" class=\"row_heading level0 row37\" >37</th>\n",
       "                        <td id=\"T_7a922b38_a5b6_11ea_8f05_34e6ad71bcferow37_col0\" class=\"data row37 col0\" >Feature Selection </td>\n",
       "                        <td id=\"T_7a922b38_a5b6_11ea_8f05_34e6ad71bcferow37_col1\" class=\"data row37 col1\" >False</td>\n",
       "            </tr>\n",
       "            <tr>\n",
       "                        <th id=\"T_7a922b38_a5b6_11ea_8f05_34e6ad71bcfelevel0_row38\" class=\"row_heading level0 row38\" >38</th>\n",
       "                        <td id=\"T_7a922b38_a5b6_11ea_8f05_34e6ad71bcferow38_col0\" class=\"data row38 col0\" >Features Selection Threshold </td>\n",
       "                        <td id=\"T_7a922b38_a5b6_11ea_8f05_34e6ad71bcferow38_col1\" class=\"data row38 col1\" >None</td>\n",
       "            </tr>\n",
       "            <tr>\n",
       "                        <th id=\"T_7a922b38_a5b6_11ea_8f05_34e6ad71bcfelevel0_row39\" class=\"row_heading level0 row39\" >39</th>\n",
       "                        <td id=\"T_7a922b38_a5b6_11ea_8f05_34e6ad71bcferow39_col0\" class=\"data row39 col0\" >Feature Interaction </td>\n",
       "                        <td id=\"T_7a922b38_a5b6_11ea_8f05_34e6ad71bcferow39_col1\" class=\"data row39 col1\" >False</td>\n",
       "            </tr>\n",
       "            <tr>\n",
       "                        <th id=\"T_7a922b38_a5b6_11ea_8f05_34e6ad71bcfelevel0_row40\" class=\"row_heading level0 row40\" >40</th>\n",
       "                        <td id=\"T_7a922b38_a5b6_11ea_8f05_34e6ad71bcferow40_col0\" class=\"data row40 col0\" >Feature Ratio </td>\n",
       "                        <td id=\"T_7a922b38_a5b6_11ea_8f05_34e6ad71bcferow40_col1\" class=\"data row40 col1\" >False</td>\n",
       "            </tr>\n",
       "            <tr>\n",
       "                        <th id=\"T_7a922b38_a5b6_11ea_8f05_34e6ad71bcfelevel0_row41\" class=\"row_heading level0 row41\" >41</th>\n",
       "                        <td id=\"T_7a922b38_a5b6_11ea_8f05_34e6ad71bcferow41_col0\" class=\"data row41 col0\" >Interaction Threshold </td>\n",
       "                        <td id=\"T_7a922b38_a5b6_11ea_8f05_34e6ad71bcferow41_col1\" class=\"data row41 col1\" >None</td>\n",
       "            </tr>\n",
       "    </tbody></table>"
      ],
      "text/plain": [
       "<pandas.io.formats.style.Styler at 0x15e325ecf98>"
      ]
     },
     "metadata": {},
     "output_type": "display_data"
    }
   ],
   "source": [
    "from pycaret.regression import *\n",
    "env= setup(data = dummy_df, target = 'NetFare')"
   ]
  },
  {
   "cell_type": "markdown",
   "metadata": {},
   "source": [
    "### Comparing All Models"
   ]
  },
  {
   "cell_type": "code",
   "execution_count": null,
   "metadata": {},
   "outputs": [],
   "source": [
    "#compare_models()"
   ]
  },
  {
   "cell_type": "markdown",
   "metadata": {},
   "source": [
    "### Create Model"
   ]
  },
  {
   "cell_type": "markdown",
   "metadata": {},
   "source": [
    "Create lenear model"
   ]
  },
  {
   "cell_type": "code",
   "execution_count": 53,
   "metadata": {},
   "outputs": [
    {
     "data": {
      "text/html": [
       "<div>\n",
       "<style scoped>\n",
       "    .dataframe tbody tr th:only-of-type {\n",
       "        vertical-align: middle;\n",
       "    }\n",
       "\n",
       "    .dataframe tbody tr th {\n",
       "        vertical-align: top;\n",
       "    }\n",
       "\n",
       "    .dataframe thead th {\n",
       "        text-align: right;\n",
       "    }\n",
       "</style>\n",
       "<table border=\"1\" class=\"dataframe\">\n",
       "  <thead>\n",
       "    <tr style=\"text-align: right;\">\n",
       "      <th></th>\n",
       "      <th>MAE</th>\n",
       "      <th>MSE</th>\n",
       "      <th>RMSE</th>\n",
       "      <th>R2</th>\n",
       "      <th>RMSLE</th>\n",
       "      <th>MAPE</th>\n",
       "    </tr>\n",
       "  </thead>\n",
       "  <tbody>\n",
       "    <tr>\n",
       "      <th>0</th>\n",
       "      <td>1862.7256</td>\n",
       "      <td>6.318042e+06</td>\n",
       "      <td>2513.5716</td>\n",
       "      <td>0.3085</td>\n",
       "      <td>1.2141</td>\n",
       "      <td>3.2688</td>\n",
       "    </tr>\n",
       "    <tr>\n",
       "      <th>1</th>\n",
       "      <td>1856.5897</td>\n",
       "      <td>6.282321e+06</td>\n",
       "      <td>2506.4559</td>\n",
       "      <td>0.3108</td>\n",
       "      <td>1.2119</td>\n",
       "      <td>2.8391</td>\n",
       "    </tr>\n",
       "    <tr>\n",
       "      <th>2</th>\n",
       "      <td>1858.6587</td>\n",
       "      <td>6.324401e+06</td>\n",
       "      <td>2514.8361</td>\n",
       "      <td>0.3159</td>\n",
       "      <td>1.2153</td>\n",
       "      <td>3.3121</td>\n",
       "    </tr>\n",
       "    <tr>\n",
       "      <th>Mean</th>\n",
       "      <td>1859.3247</td>\n",
       "      <td>6.308255e+06</td>\n",
       "      <td>2511.6212</td>\n",
       "      <td>0.3118</td>\n",
       "      <td>1.2138</td>\n",
       "      <td>3.1400</td>\n",
       "    </tr>\n",
       "    <tr>\n",
       "      <th>SD</th>\n",
       "      <td>2.5489</td>\n",
       "      <td>1.852064e+04</td>\n",
       "      <td>3.6887</td>\n",
       "      <td>0.0031</td>\n",
       "      <td>0.0014</td>\n",
       "      <td>0.2135</td>\n",
       "    </tr>\n",
       "  </tbody>\n",
       "</table>\n",
       "</div>"
      ],
      "text/plain": [
       "            MAE           MSE       RMSE      R2   RMSLE    MAPE\n",
       "0     1862.7256  6.318042e+06  2513.5716  0.3085  1.2141  3.2688\n",
       "1     1856.5897  6.282321e+06  2506.4559  0.3108  1.2119  2.8391\n",
       "2     1858.6587  6.324401e+06  2514.8361  0.3159  1.2153  3.3121\n",
       "Mean  1859.3247  6.308255e+06  2511.6212  0.3118  1.2138  3.1400\n",
       "SD       2.5489  1.852064e+04     3.6887  0.0031  0.0014  0.2135"
      ]
     },
     "metadata": {},
     "output_type": "display_data"
    }
   ],
   "source": [
    "lr = create_model('lr',fold=3)"
   ]
  },
  {
   "cell_type": "markdown",
   "metadata": {},
   "source": [
    "Create ridge model"
   ]
  },
  {
   "cell_type": "code",
   "execution_count": 54,
   "metadata": {},
   "outputs": [
    {
     "data": {
      "text/html": [
       "<div>\n",
       "<style scoped>\n",
       "    .dataframe tbody tr th:only-of-type {\n",
       "        vertical-align: middle;\n",
       "    }\n",
       "\n",
       "    .dataframe tbody tr th {\n",
       "        vertical-align: top;\n",
       "    }\n",
       "\n",
       "    .dataframe thead th {\n",
       "        text-align: right;\n",
       "    }\n",
       "</style>\n",
       "<table border=\"1\" class=\"dataframe\">\n",
       "  <thead>\n",
       "    <tr style=\"text-align: right;\">\n",
       "      <th></th>\n",
       "      <th>MAE</th>\n",
       "      <th>MSE</th>\n",
       "      <th>RMSE</th>\n",
       "      <th>R2</th>\n",
       "      <th>RMSLE</th>\n",
       "      <th>MAPE</th>\n",
       "    </tr>\n",
       "  </thead>\n",
       "  <tbody>\n",
       "    <tr>\n",
       "      <th>0</th>\n",
       "      <td>1862.6361</td>\n",
       "      <td>6.318183e+06</td>\n",
       "      <td>2513.5996</td>\n",
       "      <td>0.3085</td>\n",
       "      <td>1.2123</td>\n",
       "      <td>3.2819</td>\n",
       "    </tr>\n",
       "    <tr>\n",
       "      <th>1</th>\n",
       "      <td>1856.4489</td>\n",
       "      <td>6.282335e+06</td>\n",
       "      <td>2506.4587</td>\n",
       "      <td>0.3108</td>\n",
       "      <td>1.2100</td>\n",
       "      <td>2.8451</td>\n",
       "    </tr>\n",
       "    <tr>\n",
       "      <th>2</th>\n",
       "      <td>1858.5235</td>\n",
       "      <td>6.324512e+06</td>\n",
       "      <td>2514.8583</td>\n",
       "      <td>0.3159</td>\n",
       "      <td>1.2141</td>\n",
       "      <td>3.3251</td>\n",
       "    </tr>\n",
       "    <tr>\n",
       "      <th>Mean</th>\n",
       "      <td>1859.2028</td>\n",
       "      <td>6.308343e+06</td>\n",
       "      <td>2511.6389</td>\n",
       "      <td>0.3117</td>\n",
       "      <td>1.2121</td>\n",
       "      <td>3.1507</td>\n",
       "    </tr>\n",
       "    <tr>\n",
       "      <th>SD</th>\n",
       "      <td>2.5712</td>\n",
       "      <td>1.857121e+04</td>\n",
       "      <td>3.6988</td>\n",
       "      <td>0.0031</td>\n",
       "      <td>0.0017</td>\n",
       "      <td>0.2168</td>\n",
       "    </tr>\n",
       "  </tbody>\n",
       "</table>\n",
       "</div>"
      ],
      "text/plain": [
       "            MAE           MSE       RMSE      R2   RMSLE    MAPE\n",
       "0     1862.6361  6.318183e+06  2513.5996  0.3085  1.2123  3.2819\n",
       "1     1856.4489  6.282335e+06  2506.4587  0.3108  1.2100  2.8451\n",
       "2     1858.5235  6.324512e+06  2514.8583  0.3159  1.2141  3.3251\n",
       "Mean  1859.2028  6.308343e+06  2511.6389  0.3117  1.2121  3.1507\n",
       "SD       2.5712  1.857121e+04     3.6988  0.0031  0.0017  0.2168"
      ]
     },
     "metadata": {},
     "output_type": "display_data"
    }
   ],
   "source": [
    "ridge=create_model('ridge',fold=3)"
   ]
  },
  {
   "cell_type": "markdown",
   "metadata": {},
   "source": [
    "Create Least Angle Regression model"
   ]
  },
  {
   "cell_type": "code",
   "execution_count": 55,
   "metadata": {},
   "outputs": [
    {
     "data": {
      "text/html": [
       "<div>\n",
       "<style scoped>\n",
       "    .dataframe tbody tr th:only-of-type {\n",
       "        vertical-align: middle;\n",
       "    }\n",
       "\n",
       "    .dataframe tbody tr th {\n",
       "        vertical-align: top;\n",
       "    }\n",
       "\n",
       "    .dataframe thead th {\n",
       "        text-align: right;\n",
       "    }\n",
       "</style>\n",
       "<table border=\"1\" class=\"dataframe\">\n",
       "  <thead>\n",
       "    <tr style=\"text-align: right;\">\n",
       "      <th></th>\n",
       "      <th>MAE</th>\n",
       "      <th>MSE</th>\n",
       "      <th>RMSE</th>\n",
       "      <th>R2</th>\n",
       "      <th>RMSLE</th>\n",
       "      <th>MAPE</th>\n",
       "    </tr>\n",
       "  </thead>\n",
       "  <tbody>\n",
       "    <tr>\n",
       "      <th>0</th>\n",
       "      <td>1862.7256</td>\n",
       "      <td>6.318042e+06</td>\n",
       "      <td>2513.5716</td>\n",
       "      <td>0.3085</td>\n",
       "      <td>1.2141</td>\n",
       "      <td>3.2688</td>\n",
       "    </tr>\n",
       "    <tr>\n",
       "      <th>1</th>\n",
       "      <td>1856.5897</td>\n",
       "      <td>6.282321e+06</td>\n",
       "      <td>2506.4559</td>\n",
       "      <td>0.3108</td>\n",
       "      <td>1.2119</td>\n",
       "      <td>2.8391</td>\n",
       "    </tr>\n",
       "    <tr>\n",
       "      <th>2</th>\n",
       "      <td>1858.6587</td>\n",
       "      <td>6.324401e+06</td>\n",
       "      <td>2514.8361</td>\n",
       "      <td>0.3159</td>\n",
       "      <td>1.2153</td>\n",
       "      <td>3.3121</td>\n",
       "    </tr>\n",
       "    <tr>\n",
       "      <th>Mean</th>\n",
       "      <td>1859.3247</td>\n",
       "      <td>6.308255e+06</td>\n",
       "      <td>2511.6212</td>\n",
       "      <td>0.3118</td>\n",
       "      <td>1.2138</td>\n",
       "      <td>3.1400</td>\n",
       "    </tr>\n",
       "    <tr>\n",
       "      <th>SD</th>\n",
       "      <td>2.5489</td>\n",
       "      <td>1.852064e+04</td>\n",
       "      <td>3.6887</td>\n",
       "      <td>0.0031</td>\n",
       "      <td>0.0014</td>\n",
       "      <td>0.2135</td>\n",
       "    </tr>\n",
       "  </tbody>\n",
       "</table>\n",
       "</div>"
      ],
      "text/plain": [
       "            MAE           MSE       RMSE      R2   RMSLE    MAPE\n",
       "0     1862.7256  6.318042e+06  2513.5716  0.3085  1.2141  3.2688\n",
       "1     1856.5897  6.282321e+06  2506.4559  0.3108  1.2119  2.8391\n",
       "2     1858.6587  6.324401e+06  2514.8361  0.3159  1.2153  3.3121\n",
       "Mean  1859.3247  6.308255e+06  2511.6212  0.3118  1.2138  3.1400\n",
       "SD       2.5489  1.852064e+04     3.6887  0.0031  0.0014  0.2135"
      ]
     },
     "metadata": {},
     "output_type": "display_data"
    }
   ],
   "source": [
    "lar=create_model('lar',fold=3)"
   ]
  },
  {
   "cell_type": "markdown",
   "metadata": {},
   "source": [
    "###  Tune Model"
   ]
  },
  {
   "cell_type": "markdown",
   "metadata": {},
   "source": [
    "Tuned model of Lenear regression"
   ]
  },
  {
   "cell_type": "code",
   "execution_count": 56,
   "metadata": {},
   "outputs": [
    {
     "data": {
      "text/html": [
       "<div>\n",
       "<style scoped>\n",
       "    .dataframe tbody tr th:only-of-type {\n",
       "        vertical-align: middle;\n",
       "    }\n",
       "\n",
       "    .dataframe tbody tr th {\n",
       "        vertical-align: top;\n",
       "    }\n",
       "\n",
       "    .dataframe thead th {\n",
       "        text-align: right;\n",
       "    }\n",
       "</style>\n",
       "<table border=\"1\" class=\"dataframe\">\n",
       "  <thead>\n",
       "    <tr style=\"text-align: right;\">\n",
       "      <th></th>\n",
       "      <th>MAE</th>\n",
       "      <th>MSE</th>\n",
       "      <th>RMSE</th>\n",
       "      <th>R2</th>\n",
       "      <th>RMSLE</th>\n",
       "      <th>MAPE</th>\n",
       "    </tr>\n",
       "  </thead>\n",
       "  <tbody>\n",
       "    <tr>\n",
       "      <th>0</th>\n",
       "      <td>1862.7256</td>\n",
       "      <td>6.318042e+06</td>\n",
       "      <td>2513.5716</td>\n",
       "      <td>0.3085</td>\n",
       "      <td>1.2141</td>\n",
       "      <td>3.2688</td>\n",
       "    </tr>\n",
       "    <tr>\n",
       "      <th>1</th>\n",
       "      <td>1856.5897</td>\n",
       "      <td>6.282321e+06</td>\n",
       "      <td>2506.4559</td>\n",
       "      <td>0.3108</td>\n",
       "      <td>1.2119</td>\n",
       "      <td>2.8391</td>\n",
       "    </tr>\n",
       "    <tr>\n",
       "      <th>2</th>\n",
       "      <td>1858.6587</td>\n",
       "      <td>6.324401e+06</td>\n",
       "      <td>2514.8361</td>\n",
       "      <td>0.3159</td>\n",
       "      <td>1.2153</td>\n",
       "      <td>3.3121</td>\n",
       "    </tr>\n",
       "    <tr>\n",
       "      <th>Mean</th>\n",
       "      <td>1859.3247</td>\n",
       "      <td>6.308255e+06</td>\n",
       "      <td>2511.6212</td>\n",
       "      <td>0.3118</td>\n",
       "      <td>1.2138</td>\n",
       "      <td>3.1400</td>\n",
       "    </tr>\n",
       "    <tr>\n",
       "      <th>SD</th>\n",
       "      <td>2.5489</td>\n",
       "      <td>1.852064e+04</td>\n",
       "      <td>3.6887</td>\n",
       "      <td>0.0031</td>\n",
       "      <td>0.0014</td>\n",
       "      <td>0.2135</td>\n",
       "    </tr>\n",
       "  </tbody>\n",
       "</table>\n",
       "</div>"
      ],
      "text/plain": [
       "            MAE           MSE       RMSE      R2   RMSLE    MAPE\n",
       "0     1862.7256  6.318042e+06  2513.5716  0.3085  1.2141  3.2688\n",
       "1     1856.5897  6.282321e+06  2506.4559  0.3108  1.2119  2.8391\n",
       "2     1858.6587  6.324401e+06  2514.8361  0.3159  1.2153  3.3121\n",
       "Mean  1859.3247  6.308255e+06  2511.6212  0.3118  1.2138  3.1400\n",
       "SD       2.5489  1.852064e+04     3.6887  0.0031  0.0014  0.2135"
      ]
     },
     "metadata": {},
     "output_type": "display_data"
    },
    {
     "data": {
      "text/plain": [
       "LinearRegression(copy_X=True, fit_intercept=True, n_jobs=None, normalize=True)"
      ]
     },
     "execution_count": 56,
     "metadata": {},
     "output_type": "execute_result"
    }
   ],
   "source": [
    "tuned_lr = tune_model('lr',fold=3)\n",
    "tuned_lr"
   ]
  },
  {
   "cell_type": "markdown",
   "metadata": {},
   "source": [
    "Tuned model of ridge regression"
   ]
  },
  {
   "cell_type": "code",
   "execution_count": 57,
   "metadata": {},
   "outputs": [
    {
     "data": {
      "text/html": [
       "<div>\n",
       "<style scoped>\n",
       "    .dataframe tbody tr th:only-of-type {\n",
       "        vertical-align: middle;\n",
       "    }\n",
       "\n",
       "    .dataframe tbody tr th {\n",
       "        vertical-align: top;\n",
       "    }\n",
       "\n",
       "    .dataframe thead th {\n",
       "        text-align: right;\n",
       "    }\n",
       "</style>\n",
       "<table border=\"1\" class=\"dataframe\">\n",
       "  <thead>\n",
       "    <tr style=\"text-align: right;\">\n",
       "      <th></th>\n",
       "      <th>MAE</th>\n",
       "      <th>MSE</th>\n",
       "      <th>RMSE</th>\n",
       "      <th>R2</th>\n",
       "      <th>RMSLE</th>\n",
       "      <th>MAPE</th>\n",
       "    </tr>\n",
       "  </thead>\n",
       "  <tbody>\n",
       "    <tr>\n",
       "      <th>0</th>\n",
       "      <td>1862.6457</td>\n",
       "      <td>6.318126e+06</td>\n",
       "      <td>2513.5883</td>\n",
       "      <td>0.3085</td>\n",
       "      <td>1.2122</td>\n",
       "      <td>3.2780</td>\n",
       "    </tr>\n",
       "    <tr>\n",
       "      <th>1</th>\n",
       "      <td>1856.4863</td>\n",
       "      <td>6.282309e+06</td>\n",
       "      <td>2506.4535</td>\n",
       "      <td>0.3108</td>\n",
       "      <td>1.2107</td>\n",
       "      <td>2.8433</td>\n",
       "    </tr>\n",
       "    <tr>\n",
       "      <th>2</th>\n",
       "      <td>1858.5567</td>\n",
       "      <td>6.324465e+06</td>\n",
       "      <td>2514.8490</td>\n",
       "      <td>0.3159</td>\n",
       "      <td>1.2144</td>\n",
       "      <td>3.3212</td>\n",
       "    </tr>\n",
       "    <tr>\n",
       "      <th>Mean</th>\n",
       "      <td>1859.2296</td>\n",
       "      <td>6.308300e+06</td>\n",
       "      <td>2511.6303</td>\n",
       "      <td>0.3118</td>\n",
       "      <td>1.2124</td>\n",
       "      <td>3.1475</td>\n",
       "    </tr>\n",
       "    <tr>\n",
       "      <th>SD</th>\n",
       "      <td>2.5592</td>\n",
       "      <td>1.855982e+04</td>\n",
       "      <td>3.6965</td>\n",
       "      <td>0.0031</td>\n",
       "      <td>0.0015</td>\n",
       "      <td>0.2158</td>\n",
       "    </tr>\n",
       "  </tbody>\n",
       "</table>\n",
       "</div>"
      ],
      "text/plain": [
       "            MAE           MSE       RMSE      R2   RMSLE    MAPE\n",
       "0     1862.6457  6.318126e+06  2513.5883  0.3085  1.2122  3.2780\n",
       "1     1856.4863  6.282309e+06  2506.4535  0.3108  1.2107  2.8433\n",
       "2     1858.5567  6.324465e+06  2514.8490  0.3159  1.2144  3.3212\n",
       "Mean  1859.2296  6.308300e+06  2511.6303  0.3118  1.2124  3.1475\n",
       "SD       2.5592  1.855982e+04     3.6965  0.0031  0.0015  0.2158"
      ]
     },
     "metadata": {},
     "output_type": "display_data"
    },
    {
     "data": {
      "text/plain": [
       "Ridge(alpha=0.6970000000000001, copy_X=True, fit_intercept=True, max_iter=None,\n",
       "      normalize=False, random_state=3651, solver='auto', tol=0.001)"
      ]
     },
     "execution_count": 57,
     "metadata": {},
     "output_type": "execute_result"
    }
   ],
   "source": [
    "tuned_ridge = tune_model('ridge',fold=3)\n",
    "tuned_ridge"
   ]
  },
  {
   "cell_type": "markdown",
   "metadata": {},
   "source": [
    "Tuned model of Least Angle Regression regression"
   ]
  },
  {
   "cell_type": "code",
   "execution_count": 58,
   "metadata": {},
   "outputs": [
    {
     "data": {
      "text/html": [
       "<div>\n",
       "<style scoped>\n",
       "    .dataframe tbody tr th:only-of-type {\n",
       "        vertical-align: middle;\n",
       "    }\n",
       "\n",
       "    .dataframe tbody tr th {\n",
       "        vertical-align: top;\n",
       "    }\n",
       "\n",
       "    .dataframe thead th {\n",
       "        text-align: right;\n",
       "    }\n",
       "</style>\n",
       "<table border=\"1\" class=\"dataframe\">\n",
       "  <thead>\n",
       "    <tr style=\"text-align: right;\">\n",
       "      <th></th>\n",
       "      <th>MAE</th>\n",
       "      <th>MSE</th>\n",
       "      <th>RMSE</th>\n",
       "      <th>R2</th>\n",
       "      <th>RMSLE</th>\n",
       "      <th>MAPE</th>\n",
       "    </tr>\n",
       "  </thead>\n",
       "  <tbody>\n",
       "    <tr>\n",
       "      <th>0</th>\n",
       "      <td>1862.7256</td>\n",
       "      <td>6.318042e+06</td>\n",
       "      <td>2513.5716</td>\n",
       "      <td>0.3085</td>\n",
       "      <td>1.2141</td>\n",
       "      <td>3.2688</td>\n",
       "    </tr>\n",
       "    <tr>\n",
       "      <th>1</th>\n",
       "      <td>1856.5897</td>\n",
       "      <td>6.282321e+06</td>\n",
       "      <td>2506.4559</td>\n",
       "      <td>0.3108</td>\n",
       "      <td>1.2119</td>\n",
       "      <td>2.8391</td>\n",
       "    </tr>\n",
       "    <tr>\n",
       "      <th>2</th>\n",
       "      <td>1858.6587</td>\n",
       "      <td>6.324401e+06</td>\n",
       "      <td>2514.8361</td>\n",
       "      <td>0.3159</td>\n",
       "      <td>1.2153</td>\n",
       "      <td>3.3121</td>\n",
       "    </tr>\n",
       "    <tr>\n",
       "      <th>Mean</th>\n",
       "      <td>1859.3247</td>\n",
       "      <td>6.308255e+06</td>\n",
       "      <td>2511.6212</td>\n",
       "      <td>0.3118</td>\n",
       "      <td>1.2138</td>\n",
       "      <td>3.1400</td>\n",
       "    </tr>\n",
       "    <tr>\n",
       "      <th>SD</th>\n",
       "      <td>2.5489</td>\n",
       "      <td>1.852064e+04</td>\n",
       "      <td>3.6887</td>\n",
       "      <td>0.0031</td>\n",
       "      <td>0.0014</td>\n",
       "      <td>0.2135</td>\n",
       "    </tr>\n",
       "  </tbody>\n",
       "</table>\n",
       "</div>"
      ],
      "text/plain": [
       "            MAE           MSE       RMSE      R2   RMSLE    MAPE\n",
       "0     1862.7256  6.318042e+06  2513.5716  0.3085  1.2141  3.2688\n",
       "1     1856.5897  6.282321e+06  2506.4559  0.3108  1.2119  2.8391\n",
       "2     1858.6587  6.324401e+06  2514.8361  0.3159  1.2153  3.3121\n",
       "Mean  1859.3247  6.308255e+06  2511.6212  0.3118  1.2138  3.1400\n",
       "SD       2.5489  1.852064e+04     3.6887  0.0031  0.0014  0.2135"
      ]
     },
     "metadata": {},
     "output_type": "display_data"
    },
    {
     "data": {
      "text/plain": [
       "Lars(copy_X=True, eps=0.05, fit_intercept=True, fit_path=True,\n",
       "     n_nonzero_coefs=500, normalize=False, precompute='auto', verbose=False)"
      ]
     },
     "execution_count": 58,
     "metadata": {},
     "output_type": "execute_result"
    }
   ],
   "source": [
    "tuned_lar = tune_model('lar',fold=3)\n",
    "tuned_lar"
   ]
  },
  {
   "cell_type": "markdown",
   "metadata": {},
   "source": [
    "### Model Ensembling"
   ]
  },
  {
   "cell_type": "markdown",
   "metadata": {},
   "source": [
    "Combined model of all tuned"
   ]
  },
  {
   "cell_type": "code",
   "execution_count": 59,
   "metadata": {},
   "outputs": [
    {
     "data": {
      "text/html": [
       "<div>\n",
       "<style scoped>\n",
       "    .dataframe tbody tr th:only-of-type {\n",
       "        vertical-align: middle;\n",
       "    }\n",
       "\n",
       "    .dataframe tbody tr th {\n",
       "        vertical-align: top;\n",
       "    }\n",
       "\n",
       "    .dataframe thead th {\n",
       "        text-align: right;\n",
       "    }\n",
       "</style>\n",
       "<table border=\"1\" class=\"dataframe\">\n",
       "  <thead>\n",
       "    <tr style=\"text-align: right;\">\n",
       "      <th></th>\n",
       "      <th>MAE</th>\n",
       "      <th>MSE</th>\n",
       "      <th>RMSE</th>\n",
       "      <th>R2</th>\n",
       "      <th>RMSLE</th>\n",
       "      <th>MAPE</th>\n",
       "    </tr>\n",
       "  </thead>\n",
       "  <tbody>\n",
       "    <tr>\n",
       "      <th>0</th>\n",
       "      <td>1862.6857</td>\n",
       "      <td>6.318071e+06</td>\n",
       "      <td>2513.5774</td>\n",
       "      <td>0.3085</td>\n",
       "      <td>1.2135</td>\n",
       "      <td>3.2732</td>\n",
       "    </tr>\n",
       "    <tr>\n",
       "      <th>1</th>\n",
       "      <td>1856.5366</td>\n",
       "      <td>6.282302e+06</td>\n",
       "      <td>2506.4521</td>\n",
       "      <td>0.3108</td>\n",
       "      <td>1.2114</td>\n",
       "      <td>2.8411</td>\n",
       "    </tr>\n",
       "    <tr>\n",
       "      <th>2</th>\n",
       "      <td>1858.6083</td>\n",
       "      <td>6.324422e+06</td>\n",
       "      <td>2514.8403</td>\n",
       "      <td>0.3159</td>\n",
       "      <td>1.2149</td>\n",
       "      <td>3.3164</td>\n",
       "    </tr>\n",
       "    <tr>\n",
       "      <th>Mean</th>\n",
       "      <td>1859.2769</td>\n",
       "      <td>6.308265e+06</td>\n",
       "      <td>2511.6232</td>\n",
       "      <td>0.3118</td>\n",
       "      <td>1.2133</td>\n",
       "      <td>3.1436</td>\n",
       "    </tr>\n",
       "    <tr>\n",
       "      <th>SD</th>\n",
       "      <td>2.5545</td>\n",
       "      <td>1.854068e+04</td>\n",
       "      <td>3.6927</td>\n",
       "      <td>0.0031</td>\n",
       "      <td>0.0015</td>\n",
       "      <td>0.2146</td>\n",
       "    </tr>\n",
       "  </tbody>\n",
       "</table>\n",
       "</div>"
      ],
      "text/plain": [
       "            MAE           MSE       RMSE      R2   RMSLE    MAPE\n",
       "0     1862.6857  6.318071e+06  2513.5774  0.3085  1.2135  3.2732\n",
       "1     1856.5366  6.282302e+06  2506.4521  0.3108  1.2114  2.8411\n",
       "2     1858.6083  6.324422e+06  2514.8403  0.3159  1.2149  3.3164\n",
       "Mean  1859.2769  6.308265e+06  2511.6232  0.3118  1.2133  3.1436\n",
       "SD       2.5545  1.854068e+04     3.6927  0.0031  0.0015  0.2146"
      ]
     },
     "metadata": {},
     "output_type": "display_data"
    },
    {
     "data": {
      "text/plain": [
       "VotingRegressor(estimators=[('Linear Regression_0',\n",
       "                             LinearRegression(copy_X=True, fit_intercept=True,\n",
       "                                              n_jobs=None, normalize=False)),\n",
       "                            ('Ridge_1',\n",
       "                             Ridge(alpha=1.0, copy_X=True, fit_intercept=True,\n",
       "                                   max_iter=None, normalize=False,\n",
       "                                   random_state=3651, solver='auto',\n",
       "                                   tol=0.001)),\n",
       "                            ('Least Angle Regression_2',\n",
       "                             Lars(copy_X=True, eps=2.220446049250313e-16,\n",
       "                                  fit_intercept=True, fit_path=True,\n",
       "                                  n_nonzero_coefs=500, normalize=True,\n",
       "                                  precompute='auto', verbose=False))],\n",
       "                n_jobs=None, weights=None)"
      ]
     },
     "execution_count": 59,
     "metadata": {},
     "output_type": "execute_result"
    }
   ],
   "source": [
    "blender = blend_models(estimator_list = [lr, ridge, lar],fold=3)\n",
    "blender"
   ]
  },
  {
   "cell_type": "markdown",
   "metadata": {},
   "source": [
    "### Model Analysis"
   ]
  },
  {
   "cell_type": "markdown",
   "metadata": {},
   "source": [
    "Before model finalization, the plot_model() function can be used to analyze the performance across different aspects such as Residuals Plot, Prediction Error, Feature Importance etc. This function takes a trained model object and returns a plot based on the test / hold-out set.\n",
    "\n",
    "There are over 10 plots available, please see the plot_model() docstring for the list of available plots."
   ]
  },
  {
   "cell_type": "markdown",
   "metadata": {},
   "source": [
    "#### 4.1 Residual Plot"
   ]
  },
  {
   "cell_type": "code",
   "execution_count": 60,
   "metadata": {},
   "outputs": [
    {
     "data": {
      "image/png": "[encoded data removed]",
      "text/plain": [
       "<Figure size 576x396 with 2 Axes>"
      ]
     },
     "metadata": {},
     "output_type": "display_data"
    }
   ],
   "source": [
    "plot_model(tuned_lr)"
   ]
  },
  {
   "cell_type": "markdown",
   "metadata": {},
   "source": [
    "#### 4.2 Recursive Feat. Selection"
   ]
  },
  {
   "cell_type": "code",
   "execution_count": 61,
   "metadata": {},
   "outputs": [
    {
     "data": {
      "image/png": "[encoded data removed]",
      "text/plain": [
       "<Figure size 576x396 with 1 Axes>"
      ]
     },
     "metadata": {},
     "output_type": "display_data"
    }
   ],
   "source": [
    "plot_model(tuned_ridge, plot='rfe')"
   ]
  },
  {
   "cell_type": "markdown",
   "metadata": {},
   "source": [
    "#### 4.3 Prediction Error Plot"
   ]
  },
  {
   "cell_type": "code",
   "execution_count": 62,
   "metadata": {},
   "outputs": [
    {
     "data": {
      "image/png": "[encoded data removed]",
      "text/plain": [
       "<Figure size 576x396 with 1 Axes>"
      ]
     },
     "metadata": {},
     "output_type": "display_data"
    }
   ],
   "source": [
    "plot_model(tuned_lar, plot = 'error')"
   ]
  },
  {
   "cell_type": "markdown",
   "metadata": {},
   "source": [
    "#### 4.4 Feature Importance Plot"
   ]
  },
  {
   "cell_type": "code",
   "execution_count": 63,
   "metadata": {},
   "outputs": [
    {
     "data": {
      "image/png": "[encoded data removed]",
      "text/plain": [
       "<Figure size 576x360 with 1 Axes>"
      ]
     },
     "metadata": {},
     "output_type": "display_data"
    }
   ],
   "source": [
    "plot_model(tuned_lar, plot = 'feature')"
   ]
  },
  {
   "cell_type": "markdown",
   "metadata": {},
   "source": [
    "## Predict on Test / Hold-out Sample"
   ]
  },
  {
   "cell_type": "code",
   "execution_count": 64,
   "metadata": {},
   "outputs": [
    {
     "data": {
      "text/html": [
       "<div>\n",
       "<style scoped>\n",
       "    .dataframe tbody tr th:only-of-type {\n",
       "        vertical-align: middle;\n",
       "    }\n",
       "\n",
       "    .dataframe tbody tr th {\n",
       "        vertical-align: top;\n",
       "    }\n",
       "\n",
       "    .dataframe thead th {\n",
       "        text-align: right;\n",
       "    }\n",
       "</style>\n",
       "<table border=\"1\" class=\"dataframe\">\n",
       "  <thead>\n",
       "    <tr style=\"text-align: right;\">\n",
       "      <th></th>\n",
       "      <th>Model</th>\n",
       "      <th>MAE</th>\n",
       "      <th>MSE</th>\n",
       "      <th>RMSE</th>\n",
       "      <th>R2</th>\n",
       "      <th>RMSLE</th>\n",
       "      <th>MAPE</th>\n",
       "    </tr>\n",
       "  </thead>\n",
       "  <tbody>\n",
       "    <tr>\n",
       "      <th>0</th>\n",
       "      <td>Linear Regression</td>\n",
       "      <td>1856.6937</td>\n",
       "      <td>6.320129e+06</td>\n",
       "      <td>2513.9866</td>\n",
       "      <td>0.3135</td>\n",
       "      <td>1.2216</td>\n",
       "      <td>2.9147</td>\n",
       "    </tr>\n",
       "  </tbody>\n",
       "</table>\n",
       "</div>"
      ],
      "text/plain": [
       "               Model        MAE           MSE       RMSE      R2   RMSLE  \\\n",
       "0  Linear Regression  1856.6937  6.320129e+06  2513.9866  0.3135  1.2216   \n",
       "\n",
       "     MAPE  \n",
       "0  2.9147  "
      ]
     },
     "metadata": {},
     "output_type": "display_data"
    }
   ],
   "source": [
    "predict_model(tuned_lr);"
   ]
  },
  {
   "cell_type": "markdown",
   "metadata": {},
   "source": [
    "The RMSE on the test/hold-out set is 2513.98 compared to 2513.57 achieved on tuned_lr NetFare results.This is not a significant difference."
   ]
  },
  {
   "cell_type": "markdown",
   "metadata": {},
   "source": [
    "## Finalize Model for Deployment"
   ]
  },
  {
   "cell_type": "code",
   "execution_count": 65,
   "metadata": {},
   "outputs": [],
   "source": [
    "final_model_linear_reg = finalize_model(tuned_lr)"
   ]
  },
  {
   "cell_type": "code",
   "execution_count": 66,
   "metadata": {},
   "outputs": [
    {
     "name": "stdout",
     "output_type": "stream",
     "text": [
      "LinearRegression(copy_X=True, fit_intercept=True, n_jobs=None, normalize=True)\n"
     ]
    }
   ],
   "source": [
    "print(final_model_linear_reg)"
   ]
  },
  {
   "cell_type": "code",
   "execution_count": 67,
   "metadata": {},
   "outputs": [
    {
     "data": {
      "text/html": [
       "<div>\n",
       "<style scoped>\n",
       "    .dataframe tbody tr th:only-of-type {\n",
       "        vertical-align: middle;\n",
       "    }\n",
       "\n",
       "    .dataframe tbody tr th {\n",
       "        vertical-align: top;\n",
       "    }\n",
       "\n",
       "    .dataframe thead th {\n",
       "        text-align: right;\n",
       "    }\n",
       "</style>\n",
       "<table border=\"1\" class=\"dataframe\">\n",
       "  <thead>\n",
       "    <tr style=\"text-align: right;\">\n",
       "      <th></th>\n",
       "      <th>Model</th>\n",
       "      <th>MAE</th>\n",
       "      <th>MSE</th>\n",
       "      <th>RMSE</th>\n",
       "      <th>R2</th>\n",
       "      <th>RMSLE</th>\n",
       "      <th>MAPE</th>\n",
       "    </tr>\n",
       "  </thead>\n",
       "  <tbody>\n",
       "    <tr>\n",
       "      <th>0</th>\n",
       "      <td>Linear Regression</td>\n",
       "      <td>1856.5107</td>\n",
       "      <td>6.319608e+06</td>\n",
       "      <td>2513.8831</td>\n",
       "      <td>0.3136</td>\n",
       "      <td>1.223</td>\n",
       "      <td>2.9222</td>\n",
       "    </tr>\n",
       "  </tbody>\n",
       "</table>\n",
       "</div>"
      ],
      "text/plain": [
       "               Model        MAE           MSE       RMSE      R2  RMSLE  \\\n",
       "0  Linear Regression  1856.5107  6.319608e+06  2513.8831  0.3136  1.223   \n",
       "\n",
       "     MAPE  \n",
       "0  2.9222  "
      ]
     },
     "metadata": {},
     "output_type": "display_data"
    }
   ],
   "source": [
    "predict_model(final_model_linear_reg);"
   ]
  },
  {
   "cell_type": "markdown",
   "metadata": {},
   "source": [
    "## Predict on Unseen Data"
   ]
  },
  {
   "cell_type": "code",
   "execution_count": 68,
   "metadata": {},
   "outputs": [
    {
     "name": "stdout",
     "output_type": "stream",
     "text": [
      "Data for Modeling: (136094, 12)\n",
      "Unseen Data For Predictions: (8963, 12)\n"
     ]
    }
   ],
   "source": [
    "data = dummy_df.sample(frac=0.8, random_state=786)\n",
    "data_unseen = dummy_df.drop(data.index)\n",
    "\n",
    "print('Data for Modeling: ' + str(data.shape))\n",
    "print('Unseen Data For Predictions: ' + str(data_unseen.shape))"
   ]
  },
  {
   "cell_type": "code",
   "execution_count": 70,
   "metadata": {},
   "outputs": [
    {
     "data": {
      "text/html": [
       "<div>\n",
       "<style scoped>\n",
       "    .dataframe tbody tr th:only-of-type {\n",
       "        vertical-align: middle;\n",
       "    }\n",
       "\n",
       "    .dataframe tbody tr th {\n",
       "        vertical-align: top;\n",
       "    }\n",
       "\n",
       "    .dataframe thead th {\n",
       "        text-align: right;\n",
       "    }\n",
       "</style>\n",
       "<table border=\"1\" class=\"dataframe\">\n",
       "  <thead>\n",
       "    <tr style=\"text-align: right;\">\n",
       "      <th></th>\n",
       "      <th>NetFare</th>\n",
       "      <th>ProTypeAirCanc</th>\n",
       "      <th>ProTypeAirDebtNote</th>\n",
       "      <th>ProTypeAirLoss</th>\n",
       "      <th>ProTypeHot</th>\n",
       "      <th>ProTypeHotCanc</th>\n",
       "      <th>ProTypeHotDebNote</th>\n",
       "      <th>ProTypeHotLoss</th>\n",
       "      <th>ProTypeOthPro</th>\n",
       "      <th>ProTypeOthProCanc</th>\n",
       "      <th>ProTypeOthProDebNote</th>\n",
       "      <th>IteTypeInter</th>\n",
       "      <th>Label</th>\n",
       "    </tr>\n",
       "  </thead>\n",
       "  <tbody>\n",
       "    <tr>\n",
       "      <th>0</th>\n",
       "      <td>10.0</td>\n",
       "      <td>0</td>\n",
       "      <td>0</td>\n",
       "      <td>0</td>\n",
       "      <td>0</td>\n",
       "      <td>0</td>\n",
       "      <td>0</td>\n",
       "      <td>0</td>\n",
       "      <td>1</td>\n",
       "      <td>0</td>\n",
       "      <td>0</td>\n",
       "      <td>0</td>\n",
       "      <td>151.1592</td>\n",
       "    </tr>\n",
       "    <tr>\n",
       "      <th>1</th>\n",
       "      <td>10.0</td>\n",
       "      <td>0</td>\n",
       "      <td>0</td>\n",
       "      <td>0</td>\n",
       "      <td>0</td>\n",
       "      <td>0</td>\n",
       "      <td>0</td>\n",
       "      <td>0</td>\n",
       "      <td>1</td>\n",
       "      <td>0</td>\n",
       "      <td>0</td>\n",
       "      <td>0</td>\n",
       "      <td>151.1592</td>\n",
       "    </tr>\n",
       "    <tr>\n",
       "      <th>2</th>\n",
       "      <td>350.0</td>\n",
       "      <td>0</td>\n",
       "      <td>0</td>\n",
       "      <td>0</td>\n",
       "      <td>0</td>\n",
       "      <td>0</td>\n",
       "      <td>0</td>\n",
       "      <td>0</td>\n",
       "      <td>1</td>\n",
       "      <td>0</td>\n",
       "      <td>0</td>\n",
       "      <td>0</td>\n",
       "      <td>151.1592</td>\n",
       "    </tr>\n",
       "    <tr>\n",
       "      <th>3</th>\n",
       "      <td>350.0</td>\n",
       "      <td>0</td>\n",
       "      <td>0</td>\n",
       "      <td>0</td>\n",
       "      <td>0</td>\n",
       "      <td>0</td>\n",
       "      <td>0</td>\n",
       "      <td>0</td>\n",
       "      <td>1</td>\n",
       "      <td>0</td>\n",
       "      <td>0</td>\n",
       "      <td>0</td>\n",
       "      <td>151.1592</td>\n",
       "    </tr>\n",
       "    <tr>\n",
       "      <th>4</th>\n",
       "      <td>8232.0</td>\n",
       "      <td>0</td>\n",
       "      <td>0</td>\n",
       "      <td>0</td>\n",
       "      <td>0</td>\n",
       "      <td>0</td>\n",
       "      <td>0</td>\n",
       "      <td>0</td>\n",
       "      <td>0</td>\n",
       "      <td>0</td>\n",
       "      <td>0</td>\n",
       "      <td>0</td>\n",
       "      <td>4722.6296</td>\n",
       "    </tr>\n",
       "    <tr>\n",
       "      <th>5</th>\n",
       "      <td>6566.0</td>\n",
       "      <td>0</td>\n",
       "      <td>0</td>\n",
       "      <td>0</td>\n",
       "      <td>0</td>\n",
       "      <td>0</td>\n",
       "      <td>0</td>\n",
       "      <td>0</td>\n",
       "      <td>0</td>\n",
       "      <td>0</td>\n",
       "      <td>0</td>\n",
       "      <td>0</td>\n",
       "      <td>4722.6296</td>\n",
       "    </tr>\n",
       "    <tr>\n",
       "      <th>6</th>\n",
       "      <td>4231.0</td>\n",
       "      <td>0</td>\n",
       "      <td>0</td>\n",
       "      <td>0</td>\n",
       "      <td>0</td>\n",
       "      <td>0</td>\n",
       "      <td>0</td>\n",
       "      <td>0</td>\n",
       "      <td>0</td>\n",
       "      <td>0</td>\n",
       "      <td>0</td>\n",
       "      <td>0</td>\n",
       "      <td>4722.6296</td>\n",
       "    </tr>\n",
       "    <tr>\n",
       "      <th>7</th>\n",
       "      <td>10.0</td>\n",
       "      <td>0</td>\n",
       "      <td>0</td>\n",
       "      <td>0</td>\n",
       "      <td>0</td>\n",
       "      <td>0</td>\n",
       "      <td>0</td>\n",
       "      <td>0</td>\n",
       "      <td>1</td>\n",
       "      <td>0</td>\n",
       "      <td>0</td>\n",
       "      <td>0</td>\n",
       "      <td>151.1592</td>\n",
       "    </tr>\n",
       "    <tr>\n",
       "      <th>8</th>\n",
       "      <td>7392.0</td>\n",
       "      <td>0</td>\n",
       "      <td>0</td>\n",
       "      <td>0</td>\n",
       "      <td>0</td>\n",
       "      <td>0</td>\n",
       "      <td>0</td>\n",
       "      <td>0</td>\n",
       "      <td>0</td>\n",
       "      <td>0</td>\n",
       "      <td>0</td>\n",
       "      <td>0</td>\n",
       "      <td>4722.6296</td>\n",
       "    </tr>\n",
       "    <tr>\n",
       "      <th>9</th>\n",
       "      <td>7987.0</td>\n",
       "      <td>0</td>\n",
       "      <td>0</td>\n",
       "      <td>0</td>\n",
       "      <td>0</td>\n",
       "      <td>0</td>\n",
       "      <td>0</td>\n",
       "      <td>0</td>\n",
       "      <td>0</td>\n",
       "      <td>0</td>\n",
       "      <td>0</td>\n",
       "      <td>0</td>\n",
       "      <td>4722.6296</td>\n",
       "    </tr>\n",
       "    <tr>\n",
       "      <th>10</th>\n",
       "      <td>4900.0</td>\n",
       "      <td>0</td>\n",
       "      <td>0</td>\n",
       "      <td>0</td>\n",
       "      <td>0</td>\n",
       "      <td>0</td>\n",
       "      <td>0</td>\n",
       "      <td>0</td>\n",
       "      <td>0</td>\n",
       "      <td>0</td>\n",
       "      <td>0</td>\n",
       "      <td>0</td>\n",
       "      <td>4722.6296</td>\n",
       "    </tr>\n",
       "    <tr>\n",
       "      <th>11</th>\n",
       "      <td>10.0</td>\n",
       "      <td>0</td>\n",
       "      <td>0</td>\n",
       "      <td>0</td>\n",
       "      <td>0</td>\n",
       "      <td>0</td>\n",
       "      <td>0</td>\n",
       "      <td>0</td>\n",
       "      <td>1</td>\n",
       "      <td>0</td>\n",
       "      <td>0</td>\n",
       "      <td>0</td>\n",
       "      <td>151.1592</td>\n",
       "    </tr>\n",
       "    <tr>\n",
       "      <th>12</th>\n",
       "      <td>3828.0</td>\n",
       "      <td>0</td>\n",
       "      <td>0</td>\n",
       "      <td>0</td>\n",
       "      <td>0</td>\n",
       "      <td>0</td>\n",
       "      <td>0</td>\n",
       "      <td>0</td>\n",
       "      <td>0</td>\n",
       "      <td>0</td>\n",
       "      <td>0</td>\n",
       "      <td>0</td>\n",
       "      <td>4722.6296</td>\n",
       "    </tr>\n",
       "    <tr>\n",
       "      <th>13</th>\n",
       "      <td>1960.0</td>\n",
       "      <td>0</td>\n",
       "      <td>0</td>\n",
       "      <td>0</td>\n",
       "      <td>0</td>\n",
       "      <td>0</td>\n",
       "      <td>0</td>\n",
       "      <td>0</td>\n",
       "      <td>0</td>\n",
       "      <td>0</td>\n",
       "      <td>0</td>\n",
       "      <td>0</td>\n",
       "      <td>4722.6296</td>\n",
       "    </tr>\n",
       "    <tr>\n",
       "      <th>14</th>\n",
       "      <td>3381.0</td>\n",
       "      <td>0</td>\n",
       "      <td>0</td>\n",
       "      <td>0</td>\n",
       "      <td>0</td>\n",
       "      <td>0</td>\n",
       "      <td>0</td>\n",
       "      <td>0</td>\n",
       "      <td>0</td>\n",
       "      <td>0</td>\n",
       "      <td>0</td>\n",
       "      <td>0</td>\n",
       "      <td>4722.6296</td>\n",
       "    </tr>\n",
       "    <tr>\n",
       "      <th>15</th>\n",
       "      <td>1649.0</td>\n",
       "      <td>0</td>\n",
       "      <td>0</td>\n",
       "      <td>0</td>\n",
       "      <td>0</td>\n",
       "      <td>0</td>\n",
       "      <td>0</td>\n",
       "      <td>0</td>\n",
       "      <td>0</td>\n",
       "      <td>0</td>\n",
       "      <td>0</td>\n",
       "      <td>1</td>\n",
       "      <td>5942.9590</td>\n",
       "    </tr>\n",
       "    <tr>\n",
       "      <th>16</th>\n",
       "      <td>7890.0</td>\n",
       "      <td>0</td>\n",
       "      <td>0</td>\n",
       "      <td>0</td>\n",
       "      <td>0</td>\n",
       "      <td>0</td>\n",
       "      <td>0</td>\n",
       "      <td>0</td>\n",
       "      <td>0</td>\n",
       "      <td>0</td>\n",
       "      <td>0</td>\n",
       "      <td>0</td>\n",
       "      <td>4722.6296</td>\n",
       "    </tr>\n",
       "    <tr>\n",
       "      <th>17</th>\n",
       "      <td>5703.0</td>\n",
       "      <td>0</td>\n",
       "      <td>0</td>\n",
       "      <td>0</td>\n",
       "      <td>0</td>\n",
       "      <td>0</td>\n",
       "      <td>0</td>\n",
       "      <td>0</td>\n",
       "      <td>0</td>\n",
       "      <td>0</td>\n",
       "      <td>0</td>\n",
       "      <td>0</td>\n",
       "      <td>4722.6296</td>\n",
       "    </tr>\n",
       "    <tr>\n",
       "      <th>18</th>\n",
       "      <td>10.0</td>\n",
       "      <td>0</td>\n",
       "      <td>0</td>\n",
       "      <td>0</td>\n",
       "      <td>0</td>\n",
       "      <td>0</td>\n",
       "      <td>0</td>\n",
       "      <td>0</td>\n",
       "      <td>1</td>\n",
       "      <td>0</td>\n",
       "      <td>0</td>\n",
       "      <td>0</td>\n",
       "      <td>151.1592</td>\n",
       "    </tr>\n",
       "    <tr>\n",
       "      <th>19</th>\n",
       "      <td>10.0</td>\n",
       "      <td>0</td>\n",
       "      <td>0</td>\n",
       "      <td>0</td>\n",
       "      <td>0</td>\n",
       "      <td>0</td>\n",
       "      <td>0</td>\n",
       "      <td>0</td>\n",
       "      <td>1</td>\n",
       "      <td>0</td>\n",
       "      <td>0</td>\n",
       "      <td>0</td>\n",
       "      <td>151.1592</td>\n",
       "    </tr>\n",
       "    <tr>\n",
       "      <th>20</th>\n",
       "      <td>10149.0</td>\n",
       "      <td>0</td>\n",
       "      <td>0</td>\n",
       "      <td>0</td>\n",
       "      <td>0</td>\n",
       "      <td>0</td>\n",
       "      <td>0</td>\n",
       "      <td>0</td>\n",
       "      <td>0</td>\n",
       "      <td>0</td>\n",
       "      <td>0</td>\n",
       "      <td>0</td>\n",
       "      <td>4722.6296</td>\n",
       "    </tr>\n",
       "    <tr>\n",
       "      <th>21</th>\n",
       "      <td>2989.0</td>\n",
       "      <td>0</td>\n",
       "      <td>0</td>\n",
       "      <td>0</td>\n",
       "      <td>0</td>\n",
       "      <td>0</td>\n",
       "      <td>0</td>\n",
       "      <td>0</td>\n",
       "      <td>0</td>\n",
       "      <td>0</td>\n",
       "      <td>0</td>\n",
       "      <td>0</td>\n",
       "      <td>4722.6296</td>\n",
       "    </tr>\n",
       "    <tr>\n",
       "      <th>22</th>\n",
       "      <td>269.0</td>\n",
       "      <td>0</td>\n",
       "      <td>0</td>\n",
       "      <td>0</td>\n",
       "      <td>0</td>\n",
       "      <td>0</td>\n",
       "      <td>0</td>\n",
       "      <td>0</td>\n",
       "      <td>1</td>\n",
       "      <td>0</td>\n",
       "      <td>0</td>\n",
       "      <td>0</td>\n",
       "      <td>151.1592</td>\n",
       "    </tr>\n",
       "    <tr>\n",
       "      <th>23</th>\n",
       "      <td>10.0</td>\n",
       "      <td>0</td>\n",
       "      <td>0</td>\n",
       "      <td>0</td>\n",
       "      <td>0</td>\n",
       "      <td>0</td>\n",
       "      <td>0</td>\n",
       "      <td>0</td>\n",
       "      <td>1</td>\n",
       "      <td>0</td>\n",
       "      <td>0</td>\n",
       "      <td>0</td>\n",
       "      <td>151.1592</td>\n",
       "    </tr>\n",
       "    <tr>\n",
       "      <th>24</th>\n",
       "      <td>10.0</td>\n",
       "      <td>0</td>\n",
       "      <td>0</td>\n",
       "      <td>0</td>\n",
       "      <td>0</td>\n",
       "      <td>0</td>\n",
       "      <td>0</td>\n",
       "      <td>0</td>\n",
       "      <td>1</td>\n",
       "      <td>0</td>\n",
       "      <td>0</td>\n",
       "      <td>0</td>\n",
       "      <td>151.1592</td>\n",
       "    </tr>\n",
       "    <tr>\n",
       "      <th>25</th>\n",
       "      <td>4847.0</td>\n",
       "      <td>0</td>\n",
       "      <td>0</td>\n",
       "      <td>0</td>\n",
       "      <td>0</td>\n",
       "      <td>0</td>\n",
       "      <td>0</td>\n",
       "      <td>0</td>\n",
       "      <td>0</td>\n",
       "      <td>0</td>\n",
       "      <td>0</td>\n",
       "      <td>0</td>\n",
       "      <td>4722.6296</td>\n",
       "    </tr>\n",
       "    <tr>\n",
       "      <th>26</th>\n",
       "      <td>4100.0</td>\n",
       "      <td>0</td>\n",
       "      <td>0</td>\n",
       "      <td>0</td>\n",
       "      <td>0</td>\n",
       "      <td>0</td>\n",
       "      <td>0</td>\n",
       "      <td>0</td>\n",
       "      <td>0</td>\n",
       "      <td>0</td>\n",
       "      <td>0</td>\n",
       "      <td>0</td>\n",
       "      <td>4722.6296</td>\n",
       "    </tr>\n",
       "    <tr>\n",
       "      <th>27</th>\n",
       "      <td>200.0</td>\n",
       "      <td>0</td>\n",
       "      <td>0</td>\n",
       "      <td>0</td>\n",
       "      <td>0</td>\n",
       "      <td>0</td>\n",
       "      <td>0</td>\n",
       "      <td>0</td>\n",
       "      <td>1</td>\n",
       "      <td>0</td>\n",
       "      <td>0</td>\n",
       "      <td>0</td>\n",
       "      <td>151.1592</td>\n",
       "    </tr>\n",
       "    <tr>\n",
       "      <th>28</th>\n",
       "      <td>10.0</td>\n",
       "      <td>0</td>\n",
       "      <td>0</td>\n",
       "      <td>0</td>\n",
       "      <td>0</td>\n",
       "      <td>0</td>\n",
       "      <td>0</td>\n",
       "      <td>0</td>\n",
       "      <td>1</td>\n",
       "      <td>0</td>\n",
       "      <td>0</td>\n",
       "      <td>0</td>\n",
       "      <td>151.1592</td>\n",
       "    </tr>\n",
       "    <tr>\n",
       "      <th>29</th>\n",
       "      <td>10.0</td>\n",
       "      <td>0</td>\n",
       "      <td>0</td>\n",
       "      <td>0</td>\n",
       "      <td>0</td>\n",
       "      <td>0</td>\n",
       "      <td>0</td>\n",
       "      <td>0</td>\n",
       "      <td>1</td>\n",
       "      <td>0</td>\n",
       "      <td>0</td>\n",
       "      <td>0</td>\n",
       "      <td>151.1592</td>\n",
       "    </tr>\n",
       "    <tr>\n",
       "      <th>30</th>\n",
       "      <td>10.0</td>\n",
       "      <td>0</td>\n",
       "      <td>0</td>\n",
       "      <td>0</td>\n",
       "      <td>0</td>\n",
       "      <td>0</td>\n",
       "      <td>0</td>\n",
       "      <td>0</td>\n",
       "      <td>1</td>\n",
       "      <td>0</td>\n",
       "      <td>0</td>\n",
       "      <td>0</td>\n",
       "      <td>151.1592</td>\n",
       "    </tr>\n",
       "    <tr>\n",
       "      <th>31</th>\n",
       "      <td>10.0</td>\n",
       "      <td>0</td>\n",
       "      <td>0</td>\n",
       "      <td>0</td>\n",
       "      <td>0</td>\n",
       "      <td>0</td>\n",
       "      <td>0</td>\n",
       "      <td>0</td>\n",
       "      <td>1</td>\n",
       "      <td>0</td>\n",
       "      <td>0</td>\n",
       "      <td>0</td>\n",
       "      <td>151.1592</td>\n",
       "    </tr>\n",
       "    <tr>\n",
       "      <th>32</th>\n",
       "      <td>7021.0</td>\n",
       "      <td>0</td>\n",
       "      <td>0</td>\n",
       "      <td>0</td>\n",
       "      <td>1</td>\n",
       "      <td>0</td>\n",
       "      <td>0</td>\n",
       "      <td>0</td>\n",
       "      <td>0</td>\n",
       "      <td>0</td>\n",
       "      <td>0</td>\n",
       "      <td>0</td>\n",
       "      <td>5008.8108</td>\n",
       "    </tr>\n",
       "    <tr>\n",
       "      <th>33</th>\n",
       "      <td>269.0</td>\n",
       "      <td>0</td>\n",
       "      <td>0</td>\n",
       "      <td>0</td>\n",
       "      <td>0</td>\n",
       "      <td>0</td>\n",
       "      <td>0</td>\n",
       "      <td>0</td>\n",
       "      <td>1</td>\n",
       "      <td>0</td>\n",
       "      <td>0</td>\n",
       "      <td>0</td>\n",
       "      <td>151.1592</td>\n",
       "    </tr>\n",
       "    <tr>\n",
       "      <th>34</th>\n",
       "      <td>10.0</td>\n",
       "      <td>0</td>\n",
       "      <td>0</td>\n",
       "      <td>0</td>\n",
       "      <td>0</td>\n",
       "      <td>0</td>\n",
       "      <td>0</td>\n",
       "      <td>0</td>\n",
       "      <td>1</td>\n",
       "      <td>0</td>\n",
       "      <td>0</td>\n",
       "      <td>0</td>\n",
       "      <td>151.1592</td>\n",
       "    </tr>\n",
       "    <tr>\n",
       "      <th>35</th>\n",
       "      <td>6758.0</td>\n",
       "      <td>0</td>\n",
       "      <td>0</td>\n",
       "      <td>0</td>\n",
       "      <td>0</td>\n",
       "      <td>0</td>\n",
       "      <td>0</td>\n",
       "      <td>0</td>\n",
       "      <td>0</td>\n",
       "      <td>0</td>\n",
       "      <td>0</td>\n",
       "      <td>0</td>\n",
       "      <td>4722.6296</td>\n",
       "    </tr>\n",
       "    <tr>\n",
       "      <th>36</th>\n",
       "      <td>7559.0</td>\n",
       "      <td>0</td>\n",
       "      <td>0</td>\n",
       "      <td>0</td>\n",
       "      <td>0</td>\n",
       "      <td>0</td>\n",
       "      <td>0</td>\n",
       "      <td>0</td>\n",
       "      <td>0</td>\n",
       "      <td>0</td>\n",
       "      <td>0</td>\n",
       "      <td>0</td>\n",
       "      <td>4722.6296</td>\n",
       "    </tr>\n",
       "    <tr>\n",
       "      <th>37</th>\n",
       "      <td>1571.0</td>\n",
       "      <td>0</td>\n",
       "      <td>0</td>\n",
       "      <td>0</td>\n",
       "      <td>0</td>\n",
       "      <td>0</td>\n",
       "      <td>0</td>\n",
       "      <td>0</td>\n",
       "      <td>0</td>\n",
       "      <td>0</td>\n",
       "      <td>0</td>\n",
       "      <td>0</td>\n",
       "      <td>4722.6296</td>\n",
       "    </tr>\n",
       "    <tr>\n",
       "      <th>38</th>\n",
       "      <td>1307.0</td>\n",
       "      <td>0</td>\n",
       "      <td>0</td>\n",
       "      <td>0</td>\n",
       "      <td>0</td>\n",
       "      <td>0</td>\n",
       "      <td>0</td>\n",
       "      <td>0</td>\n",
       "      <td>0</td>\n",
       "      <td>0</td>\n",
       "      <td>0</td>\n",
       "      <td>0</td>\n",
       "      <td>4722.6296</td>\n",
       "    </tr>\n",
       "    <tr>\n",
       "      <th>39</th>\n",
       "      <td>3400.0</td>\n",
       "      <td>0</td>\n",
       "      <td>0</td>\n",
       "      <td>0</td>\n",
       "      <td>0</td>\n",
       "      <td>0</td>\n",
       "      <td>0</td>\n",
       "      <td>0</td>\n",
       "      <td>0</td>\n",
       "      <td>0</td>\n",
       "      <td>0</td>\n",
       "      <td>0</td>\n",
       "      <td>4722.6296</td>\n",
       "    </tr>\n",
       "    <tr>\n",
       "      <th>40</th>\n",
       "      <td>4247.0</td>\n",
       "      <td>0</td>\n",
       "      <td>0</td>\n",
       "      <td>0</td>\n",
       "      <td>1</td>\n",
       "      <td>0</td>\n",
       "      <td>0</td>\n",
       "      <td>0</td>\n",
       "      <td>0</td>\n",
       "      <td>0</td>\n",
       "      <td>0</td>\n",
       "      <td>0</td>\n",
       "      <td>5008.8108</td>\n",
       "    </tr>\n",
       "    <tr>\n",
       "      <th>41</th>\n",
       "      <td>4400.0</td>\n",
       "      <td>0</td>\n",
       "      <td>0</td>\n",
       "      <td>0</td>\n",
       "      <td>0</td>\n",
       "      <td>0</td>\n",
       "      <td>0</td>\n",
       "      <td>0</td>\n",
       "      <td>0</td>\n",
       "      <td>0</td>\n",
       "      <td>0</td>\n",
       "      <td>0</td>\n",
       "      <td>4722.6296</td>\n",
       "    </tr>\n",
       "    <tr>\n",
       "      <th>42</th>\n",
       "      <td>3449.0</td>\n",
       "      <td>0</td>\n",
       "      <td>0</td>\n",
       "      <td>0</td>\n",
       "      <td>0</td>\n",
       "      <td>0</td>\n",
       "      <td>0</td>\n",
       "      <td>0</td>\n",
       "      <td>0</td>\n",
       "      <td>0</td>\n",
       "      <td>0</td>\n",
       "      <td>0</td>\n",
       "      <td>4722.6296</td>\n",
       "    </tr>\n",
       "    <tr>\n",
       "      <th>43</th>\n",
       "      <td>5150.0</td>\n",
       "      <td>0</td>\n",
       "      <td>0</td>\n",
       "      <td>0</td>\n",
       "      <td>0</td>\n",
       "      <td>0</td>\n",
       "      <td>0</td>\n",
       "      <td>0</td>\n",
       "      <td>0</td>\n",
       "      <td>0</td>\n",
       "      <td>0</td>\n",
       "      <td>0</td>\n",
       "      <td>4722.6296</td>\n",
       "    </tr>\n",
       "    <tr>\n",
       "      <th>44</th>\n",
       "      <td>-10.0</td>\n",
       "      <td>0</td>\n",
       "      <td>0</td>\n",
       "      <td>0</td>\n",
       "      <td>0</td>\n",
       "      <td>0</td>\n",
       "      <td>0</td>\n",
       "      <td>0</td>\n",
       "      <td>0</td>\n",
       "      <td>1</td>\n",
       "      <td>0</td>\n",
       "      <td>0</td>\n",
       "      <td>-668.6764</td>\n",
       "    </tr>\n",
       "    <tr>\n",
       "      <th>45</th>\n",
       "      <td>10.0</td>\n",
       "      <td>0</td>\n",
       "      <td>0</td>\n",
       "      <td>0</td>\n",
       "      <td>0</td>\n",
       "      <td>0</td>\n",
       "      <td>0</td>\n",
       "      <td>0</td>\n",
       "      <td>1</td>\n",
       "      <td>0</td>\n",
       "      <td>0</td>\n",
       "      <td>1</td>\n",
       "      <td>1371.4886</td>\n",
       "    </tr>\n",
       "    <tr>\n",
       "      <th>46</th>\n",
       "      <td>4400.0</td>\n",
       "      <td>0</td>\n",
       "      <td>0</td>\n",
       "      <td>0</td>\n",
       "      <td>0</td>\n",
       "      <td>0</td>\n",
       "      <td>0</td>\n",
       "      <td>0</td>\n",
       "      <td>0</td>\n",
       "      <td>0</td>\n",
       "      <td>0</td>\n",
       "      <td>0</td>\n",
       "      <td>4722.6296</td>\n",
       "    </tr>\n",
       "    <tr>\n",
       "      <th>47</th>\n",
       "      <td>10.0</td>\n",
       "      <td>0</td>\n",
       "      <td>0</td>\n",
       "      <td>0</td>\n",
       "      <td>0</td>\n",
       "      <td>0</td>\n",
       "      <td>0</td>\n",
       "      <td>0</td>\n",
       "      <td>1</td>\n",
       "      <td>0</td>\n",
       "      <td>0</td>\n",
       "      <td>1</td>\n",
       "      <td>1371.4886</td>\n",
       "    </tr>\n",
       "    <tr>\n",
       "      <th>48</th>\n",
       "      <td>7080.0</td>\n",
       "      <td>0</td>\n",
       "      <td>0</td>\n",
       "      <td>0</td>\n",
       "      <td>1</td>\n",
       "      <td>0</td>\n",
       "      <td>0</td>\n",
       "      <td>0</td>\n",
       "      <td>0</td>\n",
       "      <td>0</td>\n",
       "      <td>0</td>\n",
       "      <td>0</td>\n",
       "      <td>5008.8108</td>\n",
       "    </tr>\n",
       "    <tr>\n",
       "      <th>49</th>\n",
       "      <td>275.0</td>\n",
       "      <td>0</td>\n",
       "      <td>0</td>\n",
       "      <td>0</td>\n",
       "      <td>0</td>\n",
       "      <td>0</td>\n",
       "      <td>0</td>\n",
       "      <td>0</td>\n",
       "      <td>1</td>\n",
       "      <td>0</td>\n",
       "      <td>0</td>\n",
       "      <td>0</td>\n",
       "      <td>151.1592</td>\n",
       "    </tr>\n",
       "  </tbody>\n",
       "</table>\n",
       "</div>"
      ],
      "text/plain": [
       "    NetFare  ProTypeAirCanc  ProTypeAirDebtNote  ProTypeAirLoss  ProTypeHot  \\\n",
       "0      10.0               0                   0               0           0   \n",
       "1      10.0               0                   0               0           0   \n",
       "2     350.0               0                   0               0           0   \n",
       "3     350.0               0                   0               0           0   \n",
       "4    8232.0               0                   0               0           0   \n",
       "5    6566.0               0                   0               0           0   \n",
       "6    4231.0               0                   0               0           0   \n",
       "7      10.0               0                   0               0           0   \n",
       "8    7392.0               0                   0               0           0   \n",
       "9    7987.0               0                   0               0           0   \n",
       "10   4900.0               0                   0               0           0   \n",
       "11     10.0               0                   0               0           0   \n",
       "12   3828.0               0                   0               0           0   \n",
       "13   1960.0               0                   0               0           0   \n",
       "14   3381.0               0                   0               0           0   \n",
       "15   1649.0               0                   0               0           0   \n",
       "16   7890.0               0                   0               0           0   \n",
       "17   5703.0               0                   0               0           0   \n",
       "18     10.0               0                   0               0           0   \n",
       "19     10.0               0                   0               0           0   \n",
       "20  10149.0               0                   0               0           0   \n",
       "21   2989.0               0                   0               0           0   \n",
       "22    269.0               0                   0               0           0   \n",
       "23     10.0               0                   0               0           0   \n",
       "24     10.0               0                   0               0           0   \n",
       "25   4847.0               0                   0               0           0   \n",
       "26   4100.0               0                   0               0           0   \n",
       "27    200.0               0                   0               0           0   \n",
       "28     10.0               0                   0               0           0   \n",
       "29     10.0               0                   0               0           0   \n",
       "30     10.0               0                   0               0           0   \n",
       "31     10.0               0                   0               0           0   \n",
       "32   7021.0               0                   0               0           1   \n",
       "33    269.0               0                   0               0           0   \n",
       "34     10.0               0                   0               0           0   \n",
       "35   6758.0               0                   0               0           0   \n",
       "36   7559.0               0                   0               0           0   \n",
       "37   1571.0               0                   0               0           0   \n",
       "38   1307.0               0                   0               0           0   \n",
       "39   3400.0               0                   0               0           0   \n",
       "40   4247.0               0                   0               0           1   \n",
       "41   4400.0               0                   0               0           0   \n",
       "42   3449.0               0                   0               0           0   \n",
       "43   5150.0               0                   0               0           0   \n",
       "44    -10.0               0                   0               0           0   \n",
       "45     10.0               0                   0               0           0   \n",
       "46   4400.0               0                   0               0           0   \n",
       "47     10.0               0                   0               0           0   \n",
       "48   7080.0               0                   0               0           1   \n",
       "49    275.0               0                   0               0           0   \n",
       "\n",
       "    ProTypeHotCanc  ProTypeHotDebNote  ProTypeHotLoss  ProTypeOthPro  \\\n",
       "0                0                  0               0              1   \n",
       "1                0                  0               0              1   \n",
       "2                0                  0               0              1   \n",
       "3                0                  0               0              1   \n",
       "4                0                  0               0              0   \n",
       "5                0                  0               0              0   \n",
       "6                0                  0               0              0   \n",
       "7                0                  0               0              1   \n",
       "8                0                  0               0              0   \n",
       "9                0                  0               0              0   \n",
       "10               0                  0               0              0   \n",
       "11               0                  0               0              1   \n",
       "12               0                  0               0              0   \n",
       "13               0                  0               0              0   \n",
       "14               0                  0               0              0   \n",
       "15               0                  0               0              0   \n",
       "16               0                  0               0              0   \n",
       "17               0                  0               0              0   \n",
       "18               0                  0               0              1   \n",
       "19               0                  0               0              1   \n",
       "20               0                  0               0              0   \n",
       "21               0                  0               0              0   \n",
       "22               0                  0               0              1   \n",
       "23               0                  0               0              1   \n",
       "24               0                  0               0              1   \n",
       "25               0                  0               0              0   \n",
       "26               0                  0               0              0   \n",
       "27               0                  0               0              1   \n",
       "28               0                  0               0              1   \n",
       "29               0                  0               0              1   \n",
       "30               0                  0               0              1   \n",
       "31               0                  0               0              1   \n",
       "32               0                  0               0              0   \n",
       "33               0                  0               0              1   \n",
       "34               0                  0               0              1   \n",
       "35               0                  0               0              0   \n",
       "36               0                  0               0              0   \n",
       "37               0                  0               0              0   \n",
       "38               0                  0               0              0   \n",
       "39               0                  0               0              0   \n",
       "40               0                  0               0              0   \n",
       "41               0                  0               0              0   \n",
       "42               0                  0               0              0   \n",
       "43               0                  0               0              0   \n",
       "44               0                  0               0              0   \n",
       "45               0                  0               0              1   \n",
       "46               0                  0               0              0   \n",
       "47               0                  0               0              1   \n",
       "48               0                  0               0              0   \n",
       "49               0                  0               0              1   \n",
       "\n",
       "    ProTypeOthProCanc  ProTypeOthProDebNote  IteTypeInter      Label  \n",
       "0                   0                     0             0   151.1592  \n",
       "1                   0                     0             0   151.1592  \n",
       "2                   0                     0             0   151.1592  \n",
       "3                   0                     0             0   151.1592  \n",
       "4                   0                     0             0  4722.6296  \n",
       "5                   0                     0             0  4722.6296  \n",
       "6                   0                     0             0  4722.6296  \n",
       "7                   0                     0             0   151.1592  \n",
       "8                   0                     0             0  4722.6296  \n",
       "9                   0                     0             0  4722.6296  \n",
       "10                  0                     0             0  4722.6296  \n",
       "11                  0                     0             0   151.1592  \n",
       "12                  0                     0             0  4722.6296  \n",
       "13                  0                     0             0  4722.6296  \n",
       "14                  0                     0             0  4722.6296  \n",
       "15                  0                     0             1  5942.9590  \n",
       "16                  0                     0             0  4722.6296  \n",
       "17                  0                     0             0  4722.6296  \n",
       "18                  0                     0             0   151.1592  \n",
       "19                  0                     0             0   151.1592  \n",
       "20                  0                     0             0  4722.6296  \n",
       "21                  0                     0             0  4722.6296  \n",
       "22                  0                     0             0   151.1592  \n",
       "23                  0                     0             0   151.1592  \n",
       "24                  0                     0             0   151.1592  \n",
       "25                  0                     0             0  4722.6296  \n",
       "26                  0                     0             0  4722.6296  \n",
       "27                  0                     0             0   151.1592  \n",
       "28                  0                     0             0   151.1592  \n",
       "29                  0                     0             0   151.1592  \n",
       "30                  0                     0             0   151.1592  \n",
       "31                  0                     0             0   151.1592  \n",
       "32                  0                     0             0  5008.8108  \n",
       "33                  0                     0             0   151.1592  \n",
       "34                  0                     0             0   151.1592  \n",
       "35                  0                     0             0  4722.6296  \n",
       "36                  0                     0             0  4722.6296  \n",
       "37                  0                     0             0  4722.6296  \n",
       "38                  0                     0             0  4722.6296  \n",
       "39                  0                     0             0  4722.6296  \n",
       "40                  0                     0             0  5008.8108  \n",
       "41                  0                     0             0  4722.6296  \n",
       "42                  0                     0             0  4722.6296  \n",
       "43                  0                     0             0  4722.6296  \n",
       "44                  1                     0             0  -668.6764  \n",
       "45                  0                     0             1  1371.4886  \n",
       "46                  0                     0             0  4722.6296  \n",
       "47                  0                     0             1  1371.4886  \n",
       "48                  0                     0             0  5008.8108  \n",
       "49                  0                     0             0   151.1592  "
      ]
     },
     "execution_count": 70,
     "metadata": {},
     "output_type": "execute_result"
    }
   ],
   "source": [
    "unseen_predictions = predict_model(final_model_linear_reg, data=data_unseen)\n",
    "unseen_predictions.head(50)"
   ]
  },
  {
   "cell_type": "markdown",
   "metadata": {},
   "source": [
    "## Saving the Model"
   ]
  },
  {
   "cell_type": "code",
   "execution_count": 71,
   "metadata": {},
   "outputs": [
    {
     "name": "stdout",
     "output_type": "stream",
     "text": [
      "Transformation Pipeline and Model Succesfully Saved\n"
     ]
    }
   ],
   "source": [
    "save_model(final_model_linear_reg,'final_model_linear_reg_03Jun2020')"
   ]
  },
  {
   "cell_type": "markdown",
   "metadata": {},
   "source": [
    "## Loading the Saved Model"
   ]
  },
  {
   "cell_type": "code",
   "execution_count": 72,
   "metadata": {},
   "outputs": [
    {
     "name": "stdout",
     "output_type": "stream",
     "text": [
      "Transformation Pipeline and Model Sucessfully Loaded\n"
     ]
    }
   ],
   "source": [
    "saved_final_linear_reg = load_model('final_model_linear_reg_03Jun2020')"
   ]
  },
  {
   "cell_type": "code",
   "execution_count": null,
   "metadata": {},
   "outputs": [],
   "source": [
    "#new_prediction = predict_model(saved_final_linear_reg, data=[0,1,0,0,0,0,1,0,0,1,1])\n",
    "#data_unseen1=[0,1,0,0,0,0,1,0,0,1,1]"
   ]
  },
  {
   "cell_type": "code",
   "execution_count": 73,
   "metadata": {},
   "outputs": [],
   "source": [
    "new_prediction = predict_model(final_model_linear_reg, data=data_unseen)#data_unseen"
   ]
  },
  {
   "cell_type": "code",
   "execution_count": 74,
   "metadata": {},
   "outputs": [
    {
     "data": {
      "text/html": [
       "<div>\n",
       "<style scoped>\n",
       "    .dataframe tbody tr th:only-of-type {\n",
       "        vertical-align: middle;\n",
       "    }\n",
       "\n",
       "    .dataframe tbody tr th {\n",
       "        vertical-align: top;\n",
       "    }\n",
       "\n",
       "    .dataframe thead th {\n",
       "        text-align: right;\n",
       "    }\n",
       "</style>\n",
       "<table border=\"1\" class=\"dataframe\">\n",
       "  <thead>\n",
       "    <tr style=\"text-align: right;\">\n",
       "      <th></th>\n",
       "      <th>NetFare</th>\n",
       "      <th>ProTypeAirCanc</th>\n",
       "      <th>ProTypeAirDebtNote</th>\n",
       "      <th>ProTypeAirLoss</th>\n",
       "      <th>ProTypeHot</th>\n",
       "      <th>ProTypeHotCanc</th>\n",
       "      <th>ProTypeHotDebNote</th>\n",
       "      <th>ProTypeHotLoss</th>\n",
       "      <th>ProTypeOthPro</th>\n",
       "      <th>ProTypeOthProCanc</th>\n",
       "      <th>ProTypeOthProDebNote</th>\n",
       "      <th>IteTypeInter</th>\n",
       "      <th>Label</th>\n",
       "    </tr>\n",
       "  </thead>\n",
       "  <tbody>\n",
       "    <tr>\n",
       "      <th>0</th>\n",
       "      <td>10.0</td>\n",
       "      <td>0</td>\n",
       "      <td>0</td>\n",
       "      <td>0</td>\n",
       "      <td>0</td>\n",
       "      <td>0</td>\n",
       "      <td>0</td>\n",
       "      <td>0</td>\n",
       "      <td>1</td>\n",
       "      <td>0</td>\n",
       "      <td>0</td>\n",
       "      <td>0</td>\n",
       "      <td>151.1592</td>\n",
       "    </tr>\n",
       "    <tr>\n",
       "      <th>1</th>\n",
       "      <td>10.0</td>\n",
       "      <td>0</td>\n",
       "      <td>0</td>\n",
       "      <td>0</td>\n",
       "      <td>0</td>\n",
       "      <td>0</td>\n",
       "      <td>0</td>\n",
       "      <td>0</td>\n",
       "      <td>1</td>\n",
       "      <td>0</td>\n",
       "      <td>0</td>\n",
       "      <td>0</td>\n",
       "      <td>151.1592</td>\n",
       "    </tr>\n",
       "    <tr>\n",
       "      <th>2</th>\n",
       "      <td>350.0</td>\n",
       "      <td>0</td>\n",
       "      <td>0</td>\n",
       "      <td>0</td>\n",
       "      <td>0</td>\n",
       "      <td>0</td>\n",
       "      <td>0</td>\n",
       "      <td>0</td>\n",
       "      <td>1</td>\n",
       "      <td>0</td>\n",
       "      <td>0</td>\n",
       "      <td>0</td>\n",
       "      <td>151.1592</td>\n",
       "    </tr>\n",
       "    <tr>\n",
       "      <th>3</th>\n",
       "      <td>350.0</td>\n",
       "      <td>0</td>\n",
       "      <td>0</td>\n",
       "      <td>0</td>\n",
       "      <td>0</td>\n",
       "      <td>0</td>\n",
       "      <td>0</td>\n",
       "      <td>0</td>\n",
       "      <td>1</td>\n",
       "      <td>0</td>\n",
       "      <td>0</td>\n",
       "      <td>0</td>\n",
       "      <td>151.1592</td>\n",
       "    </tr>\n",
       "    <tr>\n",
       "      <th>4</th>\n",
       "      <td>8232.0</td>\n",
       "      <td>0</td>\n",
       "      <td>0</td>\n",
       "      <td>0</td>\n",
       "      <td>0</td>\n",
       "      <td>0</td>\n",
       "      <td>0</td>\n",
       "      <td>0</td>\n",
       "      <td>0</td>\n",
       "      <td>0</td>\n",
       "      <td>0</td>\n",
       "      <td>0</td>\n",
       "      <td>4722.6296</td>\n",
       "    </tr>\n",
       "  </tbody>\n",
       "</table>\n",
       "</div>"
      ],
      "text/plain": [
       "   NetFare  ProTypeAirCanc  ProTypeAirDebtNote  ProTypeAirLoss  ProTypeHot  \\\n",
       "0     10.0               0                   0               0           0   \n",
       "1     10.0               0                   0               0           0   \n",
       "2    350.0               0                   0               0           0   \n",
       "3    350.0               0                   0               0           0   \n",
       "4   8232.0               0                   0               0           0   \n",
       "\n",
       "   ProTypeHotCanc  ProTypeHotDebNote  ProTypeHotLoss  ProTypeOthPro  \\\n",
       "0               0                  0               0              1   \n",
       "1               0                  0               0              1   \n",
       "2               0                  0               0              1   \n",
       "3               0                  0               0              1   \n",
       "4               0                  0               0              0   \n",
       "\n",
       "   ProTypeOthProCanc  ProTypeOthProDebNote  IteTypeInter      Label  \n",
       "0                  0                     0             0   151.1592  \n",
       "1                  0                     0             0   151.1592  \n",
       "2                  0                     0             0   151.1592  \n",
       "3                  0                     0             0   151.1592  \n",
       "4                  0                     0             0  4722.6296  "
      ]
     },
     "execution_count": 74,
     "metadata": {},
     "output_type": "execute_result"
    }
   ],
   "source": [
    "new_prediction.head()"
   ]
  },
  {
   "cell_type": "markdown",
   "metadata": {},
   "source": [
    "---------------------xxxxxxxxxx----------------------------xxxxxxxxxxxxx------------------------xxxxxxxxxxx------------------"
   ]
  },
  {
   "cell_type": "markdown",
   "metadata": {},
   "source": [
    "### Plot Graph"
   ]
  },
  {
   "cell_type": "code",
   "execution_count": 75,
   "metadata": {},
   "outputs": [],
   "source": [
    "Train= dummy_df[0:136100] \n",
    "Test= dummy_df[136101:170117]"
   ]
  },
  {
   "cell_type": "code",
   "execution_count": 76,
   "metadata": {},
   "outputs": [
    {
     "data": {
      "text/plain": [
       "<matplotlib.axes._subplots.AxesSubplot at 0x15e3383bdd8>"
      ]
     },
     "execution_count": 76,
     "metadata": {},
     "output_type": "execute_result"
    },
    {
     "data": {
      "image/png": "[encoded data removed]",
      "text/plain": [
       "<Figure size 576x396 with 1 Axes>"
      ]
     },
     "metadata": {},
     "output_type": "display_data"
    }
   ],
   "source": [
    "dummy_df[0:500].NetFare.plot(kind='line')        \n",
    "                           "
   ]
  },
  {
   "cell_type": "code",
   "execution_count": 77,
   "metadata": {},
   "outputs": [
    {
     "data": {
      "text/plain": [
       "<matplotlib.axes._subplots.AxesSubplot at 0x15e337f9160>"
      ]
     },
     "execution_count": 77,
     "metadata": {},
     "output_type": "execute_result"
    },
    {
     "data": {
      "image/png": "[encoded data removed]",
      "text/plain": [
       "<Figure size 576x396 with 1 Axes>"
      ]
     },
     "metadata": {},
     "output_type": "display_data"
    }
   ],
   "source": [
    "dummy_df[140100:140200].NetFare.plot(kind='line')"
   ]
  },
  {
   "cell_type": "code",
   "execution_count": 78,
   "metadata": {},
   "outputs": [
    {
     "data": {
      "text/plain": [
       "3217.0766599232775"
      ]
     },
     "execution_count": 78,
     "metadata": {},
     "output_type": "execute_result"
    }
   ],
   "source": [
    "##################### Exponential ##############################\n",
    "import statsmodels.formula.api as smf \n",
    "\n",
    "linear_model = smf.ols('NetFare~ProTypeOthPro',data=Train).fit()\n",
    "pred_linear =  pd.Series(linear_model.predict(pd.DataFrame(Test['ProTypeOthPro'])))\n",
    "rmse_linear = np.sqrt(np.mean((np.array(Test['NetFare'])-np.array(pred_linear))**2))\n",
    "rmse_linear"
   ]
  },
  {
   "cell_type": "code",
   "execution_count": 79,
   "metadata": {},
   "outputs": [
    {
     "data": {
      "text/plain": [
       "inf"
      ]
     },
     "execution_count": 79,
     "metadata": {},
     "output_type": "execute_result"
    }
   ],
   "source": [
    "##################### Exponential ##############################\n",
    "\n",
    "Exp = smf.ols('NetFare~IteTypeInter',data=Train).fit()\n",
    "pred_Exp = pd.Series(Exp.predict(pd.DataFrame(Test['IteTypeInter'])))\n",
    "rmse_Exp = np.sqrt(np.mean((np.array(Test['NetFare'])-np.array(np.exp(pred_Exp)))**2))\n",
    "rmse_Exp"
   ]
  },
  {
   "cell_type": "code",
   "execution_count": 80,
   "metadata": {},
   "outputs": [
    {
     "data": {
      "text/plain": [
       "3215.8925731475933"
      ]
     },
     "execution_count": 80,
     "metadata": {},
     "output_type": "execute_result"
    }
   ],
   "source": [
    "#################### Quadratic ###############################\n",
    "\n",
    "Quad = smf.ols('NetFare~ProTypeOthPro+IteTypeInter',data=Train).fit()\n",
    "pred_Quad = pd.Series(Quad.predict(Test[[\"ProTypeOthPro\",\"IteTypeInter\"]]))\n",
    "rmse_Quad = np.sqrt(np.mean((np.array(Test['NetFare'])-np.array(pred_Quad))**2))\n",
    "rmse_Quad"
   ]
  },
  {
   "cell_type": "code",
   "execution_count": 81,
   "metadata": {},
   "outputs": [
    {
     "data": {
      "text/plain": [
       "3332.1586288304998"
      ]
     },
     "execution_count": 81,
     "metadata": {},
     "output_type": "execute_result"
    }
   ],
   "source": [
    "################### Additive seasonality ########################\n",
    "\n",
    "add_sea = smf.ols('NetFare~ProTypeAirCanc+ProTypeAirDebtNote+ProTypeAirLoss+ProTypeHot+ProTypeHotCanc+ProTypeHotDebNote+ProTypeHotLoss+ProTypeOthProCanc+ProTypeOthProDebNote',data=Train).fit()\n",
    "pred_add_sea = pd.Series(add_sea.predict(Test[['ProTypeAirCanc','ProTypeAirDebtNote','ProTypeAirLoss','ProTypeHot','ProTypeHotCanc','ProTypeHotDebNote','ProTypeHotLoss','ProTypeOthProCanc','ProTypeOthProDebNote']]))\n",
    "rmse_add_sea = np.sqrt(np.mean((np.array(Test['NetFare'])-np.array(pred_add_sea))**2))\n",
    "rmse_add_sea"
   ]
  },
  {
   "cell_type": "code",
   "execution_count": 82,
   "metadata": {},
   "outputs": [
    {
     "data": {
      "text/plain": [
       "3126.221819301704"
      ]
     },
     "execution_count": 82,
     "metadata": {},
     "output_type": "execute_result"
    }
   ],
   "source": [
    "################## Additive Seasonality Quadratic ############################\n",
    "\n",
    "add_sea_Quad = smf.ols('NetFare~ProTypeOthPro+IteTypeInter+ProTypeAirCanc+ProTypeAirDebtNote+ProTypeAirLoss+ProTypeHot+ProTypeHotCanc+ProTypeHotDebNote+ProTypeHotLoss+ProTypeOthProCanc+ProTypeOthProDebNote',data=Train).fit()\n",
    "pred_add_sea_quad = pd.Series(add_sea_Quad.predict(Test[['ProTypeAirCanc','ProTypeAirDebtNote','ProTypeAirLoss','ProTypeHot','ProTypeHotCanc','ProTypeHotDebNote','ProTypeHotLoss','ProTypeOthProCanc','ProTypeOthProDebNote','ProTypeOthPro','IteTypeInter']]))\n",
    "rmse_add_sea_quad = np.sqrt(np.mean((np.array(Test['NetFare'])-np.array(pred_add_sea_quad))**2))\n",
    "rmse_add_sea_quad "
   ]
  },
  {
   "cell_type": "code",
   "execution_count": 83,
   "metadata": {},
   "outputs": [
    {
     "data": {
      "text/html": [
       "<div>\n",
       "<style scoped>\n",
       "    .dataframe tbody tr th:only-of-type {\n",
       "        vertical-align: middle;\n",
       "    }\n",
       "\n",
       "    .dataframe tbody tr th {\n",
       "        vertical-align: top;\n",
       "    }\n",
       "\n",
       "    .dataframe thead th {\n",
       "        text-align: right;\n",
       "    }\n",
       "</style>\n",
       "<table border=\"1\" class=\"dataframe\">\n",
       "  <thead>\n",
       "    <tr style=\"text-align: right;\">\n",
       "      <th></th>\n",
       "      <th>MODEL</th>\n",
       "      <th>RMSE_Values</th>\n",
       "    </tr>\n",
       "  </thead>\n",
       "  <tbody>\n",
       "    <tr>\n",
       "      <th>0</th>\n",
       "      <td>rmse_linear</td>\n",
       "      <td>3217.076660</td>\n",
       "    </tr>\n",
       "    <tr>\n",
       "      <th>1</th>\n",
       "      <td>rmse_Exp</td>\n",
       "      <td>inf</td>\n",
       "    </tr>\n",
       "    <tr>\n",
       "      <th>2</th>\n",
       "      <td>rmse_Quad</td>\n",
       "      <td>3215.892573</td>\n",
       "    </tr>\n",
       "    <tr>\n",
       "      <th>3</th>\n",
       "      <td>rmse_add_sea</td>\n",
       "      <td>3332.158629</td>\n",
       "    </tr>\n",
       "    <tr>\n",
       "      <th>4</th>\n",
       "      <td>rmse_add_sea_quad</td>\n",
       "      <td>3126.221819</td>\n",
       "    </tr>\n",
       "  </tbody>\n",
       "</table>\n",
       "</div>"
      ],
      "text/plain": [
       "               MODEL  RMSE_Values\n",
       "0        rmse_linear  3217.076660\n",
       "1           rmse_Exp          inf\n",
       "2          rmse_Quad  3215.892573\n",
       "3       rmse_add_sea  3332.158629\n",
       "4  rmse_add_sea_quad  3126.221819"
      ]
     },
     "execution_count": 83,
     "metadata": {},
     "output_type": "execute_result"
    }
   ],
   "source": [
    "################## Testing #######################################\n",
    "\n",
    "data = {\"MODEL\":pd.Series([\"rmse_linear\",\"rmse_Exp\",\"rmse_Quad\",\"rmse_add_sea\",\"rmse_add_sea_quad\"]),\"RMSE_Values\":pd.Series([rmse_linear,rmse_Exp,rmse_Quad,rmse_add_sea,rmse_add_sea_quad])}\n",
    "table_rmse=pd.DataFrame(data)\n",
    "table_rmse"
   ]
  },
  {
   "cell_type": "code",
   "execution_count": null,
   "metadata": {},
   "outputs": [],
   "source": []
  }
 ],
 "metadata": {
  "kernelspec": {
   "display_name": "Python 3",
   "language": "python",
   "name": "python3"
  },
  "language_info": {
   "codemirror_mode": {
    "name": "ipython",
    "version": 3
   },
   "file_extension": ".py",
   "mimetype": "text/x-python",
   "name": "python",
   "nbconvert_exporter": "python",
   "pygments_lexer": "ipython3",
   "version": "3.6.10"
  }
 },
 "nbformat": 4,
 "nbformat_minor": 4
}
