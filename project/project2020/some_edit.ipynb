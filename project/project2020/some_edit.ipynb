{
 "cells": [
  {
   "cell_type": "markdown",
   "metadata": {},
   "source": [
    "**Submitted by: Group G4**<br>\n",
    "**2020-06-02**"
   ]
  },
  {
   "cell_type": "markdown",
   "metadata": {},
   "source": [
    "![](airindia.png)\n",
    "<h1 style=\"text-align:center;\"> Air Fare prediction Analysis</h1>"
   ]
  },
  {
   "cell_type": "markdown",
   "metadata": {},
   "source": [
    "## Preface"
   ]
  },
  {
   "cell_type": "markdown",
   "metadata": {},
   "source": [
    "After we have acquired the data, we done the followings:\n",
    "\n",
    "Diagnosed data quality.\n",
    "<li>If there has a problem with data quality.</li>\n",
    "<li>The data has corrected.</li>\n",
    "<li>Explored data to understand the data and find scenarios for performing the analysis.</li>\n",
    "\n",
    "The **pycaret** package made these steps fast and easy:\n",
    "\n",
    "<li>Performed data diagnosis or automatically generated a data diagnosis report.</li>\n",
    "<li>Discovered data in a variety of ways, and automatically generated EDAreport.</li>\n",
    "<li>Imputated missing values and outliers, resolved skewed data. And generated an automated report to support it.</li>\n",
    "\n",
    "Particularly in data exploration and data wrangling, it increases the efficiency of the pycaret package."
   ]
  },
  {
   "cell_type": "markdown",
   "metadata": {},
   "source": [
    "## Introduction\n",
    "\n",
    "   **In this project,** we will predict airfare of domestic air travel in India."
   ]
  },
  {
   "cell_type": "markdown",
   "metadata": {},
   "source": [
    "## Table of Contents\n",
    "\n",
    "<div class=\"alert alert-block alert-info\" style=\"margin-top: 20px\">\n",
    "    \n",
    "1. [Business Understanding](#0)<br>\n",
    "2. [Data Understanding](#2)<br>\n",
    "3. [Data Preparation](#4)<br>\n",
    "4. [Modeling](#0)<br>\n",
    "2. [Evaluation](#2)<br>\n",
    "3. [Deployment](#4)<br>\n",
    "</div>\n",
    "<hr>"
   ]
  },
  {
   "cell_type": "markdown",
   "metadata": {},
   "source": [
    "## Business Understanding & Analytic Approach <a id=\"0\"></a>\n",
    "<li> What is the problem that you are trying to solve?\n",
    "<li> How can you use data to answer the question?"
   ]
  },
  {
   "cell_type": "markdown",
   "metadata": {},
   "source": [
    "**Business objective-** To predict airfare, as domestic air travel is popular these days in India with different air ticket booking channels, travelers are trying to make sense and understand how airlines price their tickets over time. \n",
    "We want you to explore previous airfare data and build a model to predict the price fluctuations over time so that the consumer could benefit from it. We want you to identify dependency over many endogenous variables. You are free to look at different models from the space of forecasting and regression."
   ]
  },
  {
   "cell_type": "markdown",
   "metadata": {},
   "source": [
    "**Due to Covid-19 & longtime lockdown,** availablity of seats are dificit in Air. Starvation, un-paid in private & uncertainty antilockdown are making fluctuations over time. Given historical data has not included these feautures which influence fluctuations. Model will only try to give the sense. "
   ]
  },
  {
   "cell_type": "markdown",
   "metadata": {},
   "source": [
    "## Data Understanding"
   ]
  },
  {
   "cell_type": "markdown",
   "metadata": {},
   "source": [
    "Import pandas library for various functions as read, write, manupulation"
   ]
  },
  {
   "cell_type": "code",
   "execution_count": 1,
   "metadata": {},
   "outputs": [],
   "source": [
    "import numpy as np\n",
    "import pandas as pd\n",
    "import matplotlib.pyplot as plt\n",
    "%matplotlib inline\n",
    "from matplotlib.pylab import rcParams\n",
    "rcParams['figure.figsize']=10,6"
   ]
  },
  {
   "cell_type": "markdown",
   "metadata": {},
   "source": [
    "Read given data by help of pandas function and assigned in variable dataframe df"
   ]
  },
  {
   "cell_type": "code",
   "execution_count": 2,
   "metadata": {},
   "outputs": [],
   "source": [
    "df = pd.read_csv('C:\\\\Users\\\\Raja\\\\Desktop\\\\project\\\\project2020\\\\air_fair.csv')"
   ]
  },
  {
   "cell_type": "markdown",
   "metadata": {},
   "source": [
    "Parse strings to datetime type "
   ]
  },
  {
   "cell_type": "code",
   "execution_count": 3,
   "metadata": {},
   "outputs": [],
   "source": [
    "df['InvoiceDate'] = pd.to_datetime(df.InvoiceDate, infer_datetime_format=True)\n",
    "index_df=df.set_index(['InvoiceDate'])"
   ]
  },
  {
   "cell_type": "markdown",
   "metadata": {},
   "source": [
    "InvoiceData index sorted"
   ]
  },
  {
   "cell_type": "code",
   "execution_count": 4,
   "metadata": {},
   "outputs": [
    {
     "data": {
      "text/html": [
       "<div>\n",
       "<style scoped>\n",
       "    .dataframe tbody tr th:only-of-type {\n",
       "        vertical-align: middle;\n",
       "    }\n",
       "\n",
       "    .dataframe tbody tr th {\n",
       "        vertical-align: top;\n",
       "    }\n",
       "\n",
       "    .dataframe thead th {\n",
       "        text-align: right;\n",
       "    }\n",
       "</style>\n",
       "<table border=\"1\" class=\"dataframe\">\n",
       "  <thead>\n",
       "    <tr style=\"text-align: right;\">\n",
       "      <th></th>\n",
       "      <th>NetFare</th>\n",
       "      <th>ProductType</th>\n",
       "      <th>ItineraryType</th>\n",
       "    </tr>\n",
       "    <tr>\n",
       "      <th>InvoiceDate</th>\n",
       "      <th></th>\n",
       "      <th></th>\n",
       "      <th></th>\n",
       "    </tr>\n",
       "  </thead>\n",
       "  <tbody>\n",
       "    <tr>\n",
       "      <th>2018-01-04 08:26:00</th>\n",
       "      <td>8222.0</td>\n",
       "      <td>Air</td>\n",
       "      <td>Domestic</td>\n",
       "    </tr>\n",
       "    <tr>\n",
       "      <th>2018-01-04 09:17:00</th>\n",
       "      <td>3418.0</td>\n",
       "      <td>Air</td>\n",
       "      <td>Domestic</td>\n",
       "    </tr>\n",
       "    <tr>\n",
       "      <th>2018-01-04 09:54:00</th>\n",
       "      <td>6708.0</td>\n",
       "      <td>Air</td>\n",
       "      <td>Domestic</td>\n",
       "    </tr>\n",
       "    <tr>\n",
       "      <th>2018-01-04 12:00:00</th>\n",
       "      <td>3625.0</td>\n",
       "      <td>Air</td>\n",
       "      <td>Domestic</td>\n",
       "    </tr>\n",
       "    <tr>\n",
       "      <th>2018-01-04 12:36:00</th>\n",
       "      <td>3099.0</td>\n",
       "      <td>Air</td>\n",
       "      <td>Domestic</td>\n",
       "    </tr>\n",
       "  </tbody>\n",
       "</table>\n",
       "</div>"
      ],
      "text/plain": [
       "                     NetFare ProductType ItineraryType\n",
       "InvoiceDate                                           \n",
       "2018-01-04 08:26:00   8222.0         Air      Domestic\n",
       "2018-01-04 09:17:00   3418.0         Air      Domestic\n",
       "2018-01-04 09:54:00   6708.0         Air      Domestic\n",
       "2018-01-04 12:00:00   3625.0         Air      Domestic\n",
       "2018-01-04 12:36:00   3099.0         Air      Domestic"
      ]
     },
     "execution_count": 4,
     "metadata": {},
     "output_type": "execute_result"
    }
   ],
   "source": [
    "index_df.sort_values(by='InvoiceDate').head()"
   ]
  },
  {
   "cell_type": "markdown",
   "metadata": {},
   "source": [
    "### Descriptive Statistical Analysis"
   ]
  },
  {
   "cell_type": "markdown",
   "metadata": {},
   "source": [
    "Show size of dataframe "
   ]
  },
  {
   "cell_type": "code",
   "execution_count": 5,
   "metadata": {},
   "outputs": [
    {
     "data": {
      "text/plain": [
       "835398"
      ]
     },
     "execution_count": 5,
     "metadata": {},
     "output_type": "execute_result"
    }
   ],
   "source": [
    "index_df.size"
   ]
  },
  {
   "cell_type": "markdown",
   "metadata": {},
   "source": [
    "Show unique value of ProductType column"
   ]
  },
  {
   "cell_type": "code",
   "execution_count": 6,
   "metadata": {},
   "outputs": [
    {
     "data": {
      "text/plain": [
       "array(['Other Product', 'Air', 'Charge', 'Hotel', 'Air Cancellation',\n",
       "       'Other Product Cancellation', 'payment', 'Hotel Cancellation',\n",
       "       'refund', nan, 'Air Debit Note', 'Hotel Debit Note', 'Air Loss',\n",
       "       'Other Product Debit Note', 'Hotel Loss'], dtype=object)"
      ]
     },
     "execution_count": 6,
     "metadata": {},
     "output_type": "execute_result"
    }
   ],
   "source": [
    "index_df.ProductType.unique()"
   ]
  },
  {
   "cell_type": "markdown",
   "metadata": {},
   "source": [
    "Show unique value of Itinerary column"
   ]
  },
  {
   "cell_type": "code",
   "execution_count": 7,
   "metadata": {},
   "outputs": [
    {
     "data": {
      "text/plain": [
       "array(['Domestic', nan, 'International'], dtype=object)"
      ]
     },
     "execution_count": 7,
     "metadata": {},
     "output_type": "execute_result"
    }
   ],
   "source": [
    "index_df.ItineraryType.unique()"
   ]
  },
  {
   "cell_type": "markdown",
   "metadata": {},
   "source": [
    "Show the statistical calculations of dataframe"
   ]
  },
  {
   "cell_type": "code",
   "execution_count": 8,
   "metadata": {},
   "outputs": [
    {
     "data": {
      "text/html": [
       "<div>\n",
       "<style scoped>\n",
       "    .dataframe tbody tr th:only-of-type {\n",
       "        vertical-align: middle;\n",
       "    }\n",
       "\n",
       "    .dataframe tbody tr th {\n",
       "        vertical-align: top;\n",
       "    }\n",
       "\n",
       "    .dataframe thead th {\n",
       "        text-align: right;\n",
       "    }\n",
       "</style>\n",
       "<table border=\"1\" class=\"dataframe\">\n",
       "  <thead>\n",
       "    <tr style=\"text-align: right;\">\n",
       "      <th></th>\n",
       "      <th>NetFare</th>\n",
       "    </tr>\n",
       "  </thead>\n",
       "  <tbody>\n",
       "    <tr>\n",
       "      <th>count</th>\n",
       "      <td>217576.00</td>\n",
       "    </tr>\n",
       "    <tr>\n",
       "      <th>mean</th>\n",
       "      <td>4266.91</td>\n",
       "    </tr>\n",
       "    <tr>\n",
       "      <th>std</th>\n",
       "      <td>9803.14</td>\n",
       "    </tr>\n",
       "    <tr>\n",
       "      <th>min</th>\n",
       "      <td>-497324.00</td>\n",
       "    </tr>\n",
       "    <tr>\n",
       "      <th>25%</th>\n",
       "      <td>10.00</td>\n",
       "    </tr>\n",
       "    <tr>\n",
       "      <th>50%</th>\n",
       "      <td>3501.00</td>\n",
       "    </tr>\n",
       "    <tr>\n",
       "      <th>75%</th>\n",
       "      <td>5944.00</td>\n",
       "    </tr>\n",
       "    <tr>\n",
       "      <th>max</th>\n",
       "      <td>497678.00</td>\n",
       "    </tr>\n",
       "  </tbody>\n",
       "</table>\n",
       "</div>"
      ],
      "text/plain": [
       "         NetFare\n",
       "count  217576.00\n",
       "mean     4266.91\n",
       "std      9803.14\n",
       "min   -497324.00\n",
       "25%        10.00\n",
       "50%      3501.00\n",
       "75%      5944.00\n",
       "max    497678.00"
      ]
     },
     "execution_count": 8,
     "metadata": {},
     "output_type": "execute_result"
    }
   ],
   "source": [
    "index_df.describe().round(2)"
   ]
  },
  {
   "cell_type": "markdown",
   "metadata": {},
   "source": [
    "Show the general info about dataframe"
   ]
  },
  {
   "cell_type": "code",
   "execution_count": 9,
   "metadata": {},
   "outputs": [
    {
     "name": "stdout",
     "output_type": "stream",
     "text": [
      "<class 'pandas.core.frame.DataFrame'>\n",
      "DatetimeIndex: 278466 entries, 2018-01-12 11:43:00 to 2019-10-06 22:30:00\n",
      "Data columns (total 3 columns):\n",
      " #   Column         Non-Null Count   Dtype  \n",
      "---  ------         --------------   -----  \n",
      " 0   NetFare        217576 non-null  float64\n",
      " 1   ProductType    278464 non-null  object \n",
      " 2   ItineraryType  245689 non-null  object \n",
      "dtypes: float64(1), object(2)\n",
      "memory usage: 8.5+ MB\n"
     ]
    }
   ],
   "source": [
    "index_df.info()"
   ]
  },
  {
   "cell_type": "markdown",
   "metadata": {},
   "source": [
    "## Data Preparation"
   ]
  },
  {
   "cell_type": "markdown",
   "metadata": {},
   "source": [
    "<h4>Evaluating for Missing Data</h4>\n",
    "There are two methods to detect missing data:\n",
    "<ol>\n",
    " <li><b>.isnull()</b></li>\n",
    " <li><b>.notnull()</b></li>\n",
    "</ol>   "
   ]
  },
  {
   "cell_type": "markdown",
   "metadata": {},
   "source": [
    "Find missing value by Boolean method:\n",
    "**\"True\"** stands for missing value, while **\"False\"** stands for not missing value."
   ]
  },
  {
   "cell_type": "code",
   "execution_count": 10,
   "metadata": {},
   "outputs": [
    {
     "data": {
      "text/html": [
       "<div>\n",
       "<style scoped>\n",
       "    .dataframe tbody tr th:only-of-type {\n",
       "        vertical-align: middle;\n",
       "    }\n",
       "\n",
       "    .dataframe tbody tr th {\n",
       "        vertical-align: top;\n",
       "    }\n",
       "\n",
       "    .dataframe thead th {\n",
       "        text-align: right;\n",
       "    }\n",
       "</style>\n",
       "<table border=\"1\" class=\"dataframe\">\n",
       "  <thead>\n",
       "    <tr style=\"text-align: right;\">\n",
       "      <th></th>\n",
       "      <th>NetFare</th>\n",
       "      <th>ProductType</th>\n",
       "      <th>ItineraryType</th>\n",
       "    </tr>\n",
       "    <tr>\n",
       "      <th>InvoiceDate</th>\n",
       "      <th></th>\n",
       "      <th></th>\n",
       "      <th></th>\n",
       "    </tr>\n",
       "  </thead>\n",
       "  <tbody>\n",
       "    <tr>\n",
       "      <th>2018-01-12 11:43:00</th>\n",
       "      <td>False</td>\n",
       "      <td>False</td>\n",
       "      <td>False</td>\n",
       "    </tr>\n",
       "    <tr>\n",
       "      <th>2018-01-12 11:43:00</th>\n",
       "      <td>False</td>\n",
       "      <td>False</td>\n",
       "      <td>False</td>\n",
       "    </tr>\n",
       "    <tr>\n",
       "      <th>2018-01-12 13:01:00</th>\n",
       "      <td>False</td>\n",
       "      <td>False</td>\n",
       "      <td>False</td>\n",
       "    </tr>\n",
       "    <tr>\n",
       "      <th>2018-01-12 13:10:00</th>\n",
       "      <td>False</td>\n",
       "      <td>False</td>\n",
       "      <td>False</td>\n",
       "    </tr>\n",
       "    <tr>\n",
       "      <th>2018-11-30 14:30:00</th>\n",
       "      <td>False</td>\n",
       "      <td>False</td>\n",
       "      <td>False</td>\n",
       "    </tr>\n",
       "    <tr>\n",
       "      <th>...</th>\n",
       "      <td>...</td>\n",
       "      <td>...</td>\n",
       "      <td>...</td>\n",
       "    </tr>\n",
       "    <tr>\n",
       "      <th>2019-10-06 20:45:00</th>\n",
       "      <td>False</td>\n",
       "      <td>False</td>\n",
       "      <td>False</td>\n",
       "    </tr>\n",
       "    <tr>\n",
       "      <th>2019-10-06 21:39:00</th>\n",
       "      <td>False</td>\n",
       "      <td>False</td>\n",
       "      <td>False</td>\n",
       "    </tr>\n",
       "    <tr>\n",
       "      <th>2019-10-06 22:18:00</th>\n",
       "      <td>False</td>\n",
       "      <td>False</td>\n",
       "      <td>False</td>\n",
       "    </tr>\n",
       "    <tr>\n",
       "      <th>2019-10-06 22:30:00</th>\n",
       "      <td>False</td>\n",
       "      <td>False</td>\n",
       "      <td>False</td>\n",
       "    </tr>\n",
       "    <tr>\n",
       "      <th>2019-10-06 22:30:00</th>\n",
       "      <td>False</td>\n",
       "      <td>False</td>\n",
       "      <td>False</td>\n",
       "    </tr>\n",
       "  </tbody>\n",
       "</table>\n",
       "<p>278466 rows × 3 columns</p>\n",
       "</div>"
      ],
      "text/plain": [
       "                     NetFare  ProductType  ItineraryType\n",
       "InvoiceDate                                             \n",
       "2018-01-12 11:43:00    False        False          False\n",
       "2018-01-12 11:43:00    False        False          False\n",
       "2018-01-12 13:01:00    False        False          False\n",
       "2018-01-12 13:10:00    False        False          False\n",
       "2018-11-30 14:30:00    False        False          False\n",
       "...                      ...          ...            ...\n",
       "2019-10-06 20:45:00    False        False          False\n",
       "2019-10-06 21:39:00    False        False          False\n",
       "2019-10-06 22:18:00    False        False          False\n",
       "2019-10-06 22:30:00    False        False          False\n",
       "2019-10-06 22:30:00    False        False          False\n",
       "\n",
       "[278466 rows x 3 columns]"
      ]
     },
     "execution_count": 10,
     "metadata": {},
     "output_type": "execute_result"
    }
   ],
   "source": [
    "missing_value = index_df.isnull()\n",
    "missing_value"
   ]
  },
  {
   "cell_type": "markdown",
   "metadata": {},
   "source": [
    "### Count missing values in each column\n",
    "\n",
    "Using a for loop in Python, we can quickly figure out the number of missing values in each column.<br>\n",
    "**\"True\" stands for missing value, while \"False\" stands for not missing value**"
   ]
  },
  {
   "cell_type": "code",
   "execution_count": 11,
   "metadata": {},
   "outputs": [
    {
     "name": "stdout",
     "output_type": "stream",
     "text": [
      "NetFare\n",
      "False    217576\n",
      "True      60890\n",
      "Name: NetFare, dtype: int64\n",
      "\n",
      "ProductType\n",
      "False    278464\n",
      "True          2\n",
      "Name: ProductType, dtype: int64\n",
      "\n",
      "ItineraryType\n",
      "False    245689\n",
      "True      32777\n",
      "Name: ItineraryType, dtype: int64\n",
      "\n"
     ]
    }
   ],
   "source": [
    "for column in missing_value.columns.values.tolist():\n",
    "    print(column)\n",
    "    print (missing_value[column].value_counts())\n",
    "    print(\"\") "
   ]
  },
  {
   "cell_type": "markdown",
   "metadata": {},
   "source": [
    "Based on the summary above, each column has 278466 rows of data, three columns containing missing data:\n",
    "<ol>\n",
    "    <li>\"NetFare\": 60890 missing data</li>\n",
    "<li>\"ProductType\": 2 missing data</li>\n",
    "<li>\"ItineraryType\": 32777 missing data</li>\n",
    "</ol>"
   ]
  },
  {
   "cell_type": "markdown",
   "metadata": {},
   "source": [
    "<h3 id=\"deal_missing_values\">Deal with missing data</h3>\n",
    "<b>How to deal with missing data?</b>\n",
    "\n",
    "<ol>\n",
    "    <li>drop data<br>\n",
    "        a. drop the whole row<br>\n",
    "        b. drop the whole column\n",
    "    </li>\n",
    "    <li>replace data<br>\n",
    "        a. replace it by mean<br>\n",
    "        b. replace it by frequency<br>\n",
    "       </li>\n",
    "</ol>"
   ]
  },
  {
   "cell_type": "markdown",
   "metadata": {},
   "source": [
    "Whole columns should be dropped only if most entries in the column are empty. In our dataset, none of the columns are empty enough to drop entirely.\n",
    "We have some freedom in choosing which method to replace data; however, some methods may seem more reasonable than others. We will apply each method to many different columns:\n",
    "\n",
    "<b>Replace by mean:</b>\n",
    "<ul>\n",
    "    <li>\"NetFare\": 60890 missing data, drop whole rows, they are empty</li>\n",
    "    <li>\"ProductType\": 2 missing data, drop them , among of them 2 are not so necessary</li>\n",
    "    <li>\"ItineraryType\": 32777 missing data, drop them , they are empty</li>\n",
    "</ul>"
   ]
  },
  {
   "cell_type": "markdown",
   "metadata": {},
   "source": [
    "Show data types"
   ]
  },
  {
   "cell_type": "code",
   "execution_count": 12,
   "metadata": {},
   "outputs": [
    {
     "data": {
      "text/plain": [
       "NetFare          float64\n",
       "ProductType       object\n",
       "ItineraryType     object\n",
       "dtype: object"
      ]
     },
     "execution_count": 12,
     "metadata": {},
     "output_type": "execute_result"
    }
   ],
   "source": [
    "index_df.dtypes"
   ]
  },
  {
   "cell_type": "markdown",
   "metadata": {},
   "source": [
    "Drop missing values **[NetFare]** in observations, they are completly empty "
   ]
  },
  {
   "cell_type": "code",
   "execution_count": 13,
   "metadata": {},
   "outputs": [],
   "source": [
    "index_df.dropna(subset=[\"NetFare\"], axis=0, inplace=True)"
   ]
  },
  {
   "cell_type": "markdown",
   "metadata": {},
   "source": [
    "Drop missing values **[ProductType]** in observations, the two rows are negelegible "
   ]
  },
  {
   "cell_type": "code",
   "execution_count": 14,
   "metadata": {},
   "outputs": [],
   "source": [
    "index_df.dropna(subset=[\"ProductType\"], axis=0, inplace=True)"
   ]
  },
  {
   "cell_type": "markdown",
   "metadata": {},
   "source": [
    "Drop missing values **[ItineraryType]** in observations, they are not very sensitive "
   ]
  },
  {
   "cell_type": "code",
   "execution_count": 15,
   "metadata": {},
   "outputs": [],
   "source": [
    "index_df.dropna(subset=[\"ItineraryType\"], axis=0, inplace=True)"
   ]
  },
  {
   "cell_type": "markdown",
   "metadata": {},
   "source": [
    "Reset index, because we droped many rows"
   ]
  },
  {
   "cell_type": "code",
   "execution_count": 16,
   "metadata": {},
   "outputs": [
    {
     "data": {
      "text/html": [
       "<div>\n",
       "<style scoped>\n",
       "    .dataframe tbody tr th:only-of-type {\n",
       "        vertical-align: middle;\n",
       "    }\n",
       "\n",
       "    .dataframe tbody tr th {\n",
       "        vertical-align: top;\n",
       "    }\n",
       "\n",
       "    .dataframe thead th {\n",
       "        text-align: right;\n",
       "    }\n",
       "</style>\n",
       "<table border=\"1\" class=\"dataframe\">\n",
       "  <thead>\n",
       "    <tr style=\"text-align: right;\">\n",
       "      <th></th>\n",
       "      <th>InvoiceDate</th>\n",
       "      <th>NetFare</th>\n",
       "      <th>ProductType</th>\n",
       "      <th>ItineraryType</th>\n",
       "    </tr>\n",
       "  </thead>\n",
       "  <tbody>\n",
       "    <tr>\n",
       "      <th>0</th>\n",
       "      <td>2018-01-12 11:43:00</td>\n",
       "      <td>2160.00</td>\n",
       "      <td>Other Product</td>\n",
       "      <td>Domestic</td>\n",
       "    </tr>\n",
       "    <tr>\n",
       "      <th>1</th>\n",
       "      <td>2018-01-12 11:43:00</td>\n",
       "      <td>0.49</td>\n",
       "      <td>Other Product</td>\n",
       "      <td>Domestic</td>\n",
       "    </tr>\n",
       "    <tr>\n",
       "      <th>2</th>\n",
       "      <td>2018-01-12 13:01:00</td>\n",
       "      <td>6550.00</td>\n",
       "      <td>Air</td>\n",
       "      <td>Domestic</td>\n",
       "    </tr>\n",
       "    <tr>\n",
       "      <th>3</th>\n",
       "      <td>2018-01-12 13:10:00</td>\n",
       "      <td>6550.00</td>\n",
       "      <td>Air</td>\n",
       "      <td>Domestic</td>\n",
       "    </tr>\n",
       "    <tr>\n",
       "      <th>4</th>\n",
       "      <td>2018-11-30 14:30:00</td>\n",
       "      <td>5497.00</td>\n",
       "      <td>Air</td>\n",
       "      <td>Domestic</td>\n",
       "    </tr>\n",
       "  </tbody>\n",
       "</table>\n",
       "</div>"
      ],
      "text/plain": [
       "          InvoiceDate  NetFare    ProductType ItineraryType\n",
       "0 2018-01-12 11:43:00  2160.00  Other Product      Domestic\n",
       "1 2018-01-12 11:43:00     0.49  Other Product      Domestic\n",
       "2 2018-01-12 13:01:00  6550.00            Air      Domestic\n",
       "3 2018-01-12 13:10:00  6550.00            Air      Domestic\n",
       "4 2018-11-30 14:30:00  5497.00            Air      Domestic"
      ]
     },
     "execution_count": 16,
     "metadata": {},
     "output_type": "execute_result"
    }
   ],
   "source": [
    "index_df.reset_index().head()"
   ]
  },
  {
   "cell_type": "code",
   "execution_count": 17,
   "metadata": {},
   "outputs": [
    {
     "data": {
      "text/html": [
       "<div>\n",
       "<style scoped>\n",
       "    .dataframe tbody tr th:only-of-type {\n",
       "        vertical-align: middle;\n",
       "    }\n",
       "\n",
       "    .dataframe tbody tr th {\n",
       "        vertical-align: top;\n",
       "    }\n",
       "\n",
       "    .dataframe thead th {\n",
       "        text-align: right;\n",
       "    }\n",
       "</style>\n",
       "<table border=\"1\" class=\"dataframe\">\n",
       "  <thead>\n",
       "    <tr style=\"text-align: right;\">\n",
       "      <th></th>\n",
       "      <th>NetFare</th>\n",
       "      <th>ProductType</th>\n",
       "      <th>ItineraryType</th>\n",
       "    </tr>\n",
       "    <tr>\n",
       "      <th>InvoiceDate</th>\n",
       "      <th></th>\n",
       "      <th></th>\n",
       "      <th></th>\n",
       "    </tr>\n",
       "  </thead>\n",
       "  <tbody>\n",
       "    <tr>\n",
       "      <th>2018-01-04 08:26:00</th>\n",
       "      <td>8222.0</td>\n",
       "      <td>Air</td>\n",
       "      <td>Domestic</td>\n",
       "    </tr>\n",
       "    <tr>\n",
       "      <th>2018-01-04 09:17:00</th>\n",
       "      <td>3418.0</td>\n",
       "      <td>Air</td>\n",
       "      <td>Domestic</td>\n",
       "    </tr>\n",
       "    <tr>\n",
       "      <th>2018-01-04 09:54:00</th>\n",
       "      <td>6708.0</td>\n",
       "      <td>Air</td>\n",
       "      <td>Domestic</td>\n",
       "    </tr>\n",
       "    <tr>\n",
       "      <th>2018-01-04 12:00:00</th>\n",
       "      <td>3625.0</td>\n",
       "      <td>Air</td>\n",
       "      <td>Domestic</td>\n",
       "    </tr>\n",
       "    <tr>\n",
       "      <th>2018-01-04 12:36:00</th>\n",
       "      <td>3099.0</td>\n",
       "      <td>Air</td>\n",
       "      <td>Domestic</td>\n",
       "    </tr>\n",
       "  </tbody>\n",
       "</table>\n",
       "</div>"
      ],
      "text/plain": [
       "                     NetFare ProductType ItineraryType\n",
       "InvoiceDate                                           \n",
       "2018-01-04 08:26:00   8222.0         Air      Domestic\n",
       "2018-01-04 09:17:00   3418.0         Air      Domestic\n",
       "2018-01-04 09:54:00   6708.0         Air      Domestic\n",
       "2018-01-04 12:00:00   3625.0         Air      Domestic\n",
       "2018-01-04 12:36:00   3099.0         Air      Domestic"
      ]
     },
     "execution_count": 17,
     "metadata": {},
     "output_type": "execute_result"
    }
   ],
   "source": [
    "index_df.sort_values(by='InvoiceDate').head()"
   ]
  },
  {
   "cell_type": "markdown",
   "metadata": {},
   "source": [
    "**Final Cleaned** data"
   ]
  },
  {
   "cell_type": "code",
   "execution_count": 18,
   "metadata": {},
   "outputs": [],
   "source": [
    "missing_data_cleaned = index_df.isnull()"
   ]
  },
  {
   "cell_type": "markdown",
   "metadata": {},
   "source": [
    "**\"True\" stands for missing value, while \"False\" stands for not missing value**"
   ]
  },
  {
   "cell_type": "code",
   "execution_count": 19,
   "metadata": {},
   "outputs": [
    {
     "name": "stdout",
     "output_type": "stream",
     "text": [
      "NetFare\n",
      "False    184800\n",
      "Name: NetFare, dtype: int64\n",
      "\n",
      "ProductType\n",
      "False    184800\n",
      "Name: ProductType, dtype: int64\n",
      "\n",
      "ItineraryType\n",
      "False    184800\n",
      "Name: ItineraryType, dtype: int64\n",
      "\n"
     ]
    }
   ],
   "source": [
    "for column in missing_data_cleaned.columns.values.tolist():\n",
    "    print(column)\n",
    "    print (missing_data_cleaned[column].value_counts())\n",
    "    print(\"\") "
   ]
  },
  {
   "cell_type": "markdown",
   "metadata": {},
   "source": [
    "RAW Data observations=**278466**, CLEANED Data observations=**184800**, USELESS Data observations=**93666**"
   ]
  },
  {
   "cell_type": "markdown",
   "metadata": {},
   "source": [
    "**Box Plot** to find out the outliers:"
   ]
  },
  {
   "cell_type": "code",
   "execution_count": 20,
   "metadata": {},
   "outputs": [],
   "source": [
    "import seaborn as sns"
   ]
  },
  {
   "cell_type": "code",
   "execution_count": 21,
   "metadata": {},
   "outputs": [
    {
     "data": {
      "image/png": "[encoded data removed]",
      "text/plain": [
       "<Figure size 720x1080 with 1 Axes>"
      ]
     },
     "metadata": {
      "needs_background": "light"
     },
     "output_type": "display_data"
    }
   ],
   "source": [
    "fig, ax1=plt.subplots()\n",
    "fig.set_size_inches(10,15)\n",
    "plt.boxplot(index_df[\"NetFare\"])\n",
    "plt.show()"
   ]
  },
  {
   "cell_type": "code",
   "execution_count": 22,
   "metadata": {},
   "outputs": [
    {
     "data": {
      "text/plain": [
       "<matplotlib.axes._subplots.AxesSubplot at 0x24aa5f9bf60>"
      ]
     },
     "execution_count": 22,
     "metadata": {},
     "output_type": "execute_result"
    },
    {
     "data": {
      "image/png": "[encoded data removed]",
      "text/plain": [
       "<Figure size 720x432 with 1 Axes>"
      ]
     },
     "metadata": {
      "needs_background": "light"
     },
     "output_type": "display_data"
    }
   ],
   "source": [
    "index_df.boxplot(column='NetFare', by='ProductType')"
   ]
  },
  {
   "cell_type": "code",
   "execution_count": 23,
   "metadata": {},
   "outputs": [
    {
     "data": {
      "text/plain": [
       "<matplotlib.axes._subplots.AxesSubplot at 0x24aa5e0a9e8>"
      ]
     },
     "execution_count": 23,
     "metadata": {},
     "output_type": "execute_result"
    },
    {
     "data": {
      "image/png": "[encoded data removed]",
      "text/plain": [
       "<Figure size 720x432 with 1 Axes>"
      ]
     },
     "metadata": {
      "needs_background": "light"
     },
     "output_type": "display_data"
    }
   ],
   "source": [
    "index_df.boxplot(column='NetFare', by='ItineraryType')"
   ]
  },
  {
   "cell_type": "code",
   "execution_count": 24,
   "metadata": {},
   "outputs": [
    {
     "data": {
      "text/plain": [
       "<matplotlib.axes._subplots.AxesSubplot at 0x24aa5cffda0>"
      ]
     },
     "execution_count": 24,
     "metadata": {},
     "output_type": "execute_result"
    },
    {
     "data": {
      "image/png": "[encoded data removed]",
      "text/plain": [
       "<Figure size 720x432 with 1 Axes>"
      ]
     },
     "metadata": {
      "needs_background": "light"
     },
     "output_type": "display_data"
    }
   ],
   "source": [
    "df.NetFare.hist()"
   ]
  },
  {
   "cell_type": "code",
   "execution_count": 25,
   "metadata": {},
   "outputs": [
    {
     "data": {
      "text/plain": [
       "<matplotlib.axes._subplots.AxesSubplot at 0x24aa5da3c50>"
      ]
     },
     "execution_count": 25,
     "metadata": {},
     "output_type": "execute_result"
    },
    {
     "data": {
      "image/png": "[encoded data removed]",
      "text/plain": [
       "<Figure size 720x432 with 1 Axes>"
      ]
     },
     "metadata": {
      "needs_background": "light"
     },
     "output_type": "display_data"
    }
   ],
   "source": [
    "index_df.ItineraryType.hist()"
   ]
  },
  {
   "cell_type": "code",
   "execution_count": 26,
   "metadata": {},
   "outputs": [
    {
     "data": {
      "text/plain": [
       "<matplotlib.axes._subplots.AxesSubplot at 0x24aa5d22748>"
      ]
     },
     "execution_count": 26,
     "metadata": {},
     "output_type": "execute_result"
    },
    {
     "data": {
      "image/png": "[encoded data removed]",
      "text/plain": [
       "<Figure size 720x432 with 1 Axes>"
      ]
     },
     "metadata": {
      "needs_background": "light"
     },
     "output_type": "display_data"
    }
   ],
   "source": [
    "index_df.ProductType.hist()"
   ]
  },
  {
   "cell_type": "markdown",
   "metadata": {},
   "source": [
    "#### Identifying Outliers with Interquartile Range (IQR)"
   ]
  },
  {
   "cell_type": "code",
   "execution_count": 27,
   "metadata": {},
   "outputs": [
    {
     "name": "stdout",
     "output_type": "stream",
     "text": [
      "NetFare    4314.0\n",
      "dtype: float64\n"
     ]
    }
   ],
   "source": [
    "Q1 = index_df.quantile(0.25)\n",
    "Q3 = index_df.quantile(0.75)\n",
    "IQR = Q3 - Q1  \n",
    "print(IQR)"
   ]
  },
  {
   "cell_type": "markdown",
   "metadata": {},
   "source": [
    "The code below generates an output with the 'True' and 'False' values. Points where the values are 'True' represent the presence of the outlier."
   ]
  },
  {
   "cell_type": "code",
   "execution_count": 28,
   "metadata": {},
   "outputs": [
    {
     "name": "stdout",
     "output_type": "stream",
     "text": [
      "                     ItineraryType  NetFare  ProductType\n",
      "InvoiceDate                                             \n",
      "2018-01-12 11:43:00          False    False        False\n",
      "2018-01-12 11:43:00          False    False        False\n",
      "2018-01-12 13:01:00          False    False        False\n",
      "2018-01-12 13:10:00          False    False        False\n",
      "2018-11-30 14:30:00          False    False        False\n",
      "...                            ...      ...          ...\n",
      "2019-10-06 20:45:00          False    False        False\n",
      "2019-10-06 21:39:00          False    False        False\n",
      "2019-10-06 22:18:00          False    False        False\n",
      "2019-10-06 22:30:00          False    False        False\n",
      "2019-10-06 22:30:00          False    False        False\n",
      "\n",
      "[184800 rows x 3 columns]\n"
     ]
    }
   ],
   "source": [
    "print((index_df  < (Q1 - 1.5 * IQR)) | (index_df  > (Q3 + 1.5 * IQR)))"
   ]
  },
  {
   "cell_type": "markdown",
   "metadata": {},
   "source": [
    "#### Identifying Outliers with Skewness (-1 to +1)"
   ]
  },
  {
   "cell_type": "code",
   "execution_count": 29,
   "metadata": {},
   "outputs": [
    {
     "name": "stdout",
     "output_type": "stream",
     "text": [
      "11.686463514862059\n"
     ]
    },
    {
     "data": {
      "text/plain": [
       "count    217576.000000\n",
       "mean       4266.905212\n",
       "std        9803.137297\n",
       "min     -497324.000000\n",
       "25%          10.000000\n",
       "50%        3501.000000\n",
       "75%        5944.000000\n",
       "max      497678.000000\n",
       "Name: NetFare, dtype: float64"
      ]
     },
     "execution_count": 29,
     "metadata": {},
     "output_type": "execute_result"
    }
   ],
   "source": [
    "print(df['NetFare'].skew())\n",
    "df['NetFare'].describe()"
   ]
  },
  {
   "cell_type": "markdown",
   "metadata": {},
   "source": [
    "Highly right skewness(11.13). Max value is 497678"
   ]
  },
  {
   "cell_type": "markdown",
   "metadata": {},
   "source": [
    "### IQR Score\n",
    "This shows that for our data, a lot of records get deleted if we use the IQR method."
   ]
  },
  {
   "cell_type": "code",
   "execution_count": 30,
   "metadata": {},
   "outputs": [
    {
     "name": "stdout",
     "output_type": "stream",
     "text": [
      "(170117, 3)\n"
     ]
    }
   ],
   "source": [
    "index_outlier = index_df[~((index_df < (Q1 - 1.5 * IQR)) |(index_df > (Q3 + 1.5 * IQR))).any(axis=1)]\n",
    "print(index_outlier.shape)"
   ]
  },
  {
   "cell_type": "code",
   "execution_count": 31,
   "metadata": {},
   "outputs": [
    {
     "data": {
      "text/html": [
       "<div>\n",
       "<style scoped>\n",
       "    .dataframe tbody tr th:only-of-type {\n",
       "        vertical-align: middle;\n",
       "    }\n",
       "\n",
       "    .dataframe tbody tr th {\n",
       "        vertical-align: top;\n",
       "    }\n",
       "\n",
       "    .dataframe thead th {\n",
       "        text-align: right;\n",
       "    }\n",
       "</style>\n",
       "<table border=\"1\" class=\"dataframe\">\n",
       "  <thead>\n",
       "    <tr style=\"text-align: right;\">\n",
       "      <th></th>\n",
       "      <th>NetFare</th>\n",
       "      <th>ProductType</th>\n",
       "      <th>ItineraryType</th>\n",
       "    </tr>\n",
       "    <tr>\n",
       "      <th>InvoiceDate</th>\n",
       "      <th></th>\n",
       "      <th></th>\n",
       "      <th></th>\n",
       "    </tr>\n",
       "  </thead>\n",
       "  <tbody>\n",
       "    <tr>\n",
       "      <th>2018-01-12 11:43:00</th>\n",
       "      <td>2160.00</td>\n",
       "      <td>Other Product</td>\n",
       "      <td>Domestic</td>\n",
       "    </tr>\n",
       "    <tr>\n",
       "      <th>2018-01-12 11:43:00</th>\n",
       "      <td>0.49</td>\n",
       "      <td>Other Product</td>\n",
       "      <td>Domestic</td>\n",
       "    </tr>\n",
       "    <tr>\n",
       "      <th>2018-01-12 13:01:00</th>\n",
       "      <td>6550.00</td>\n",
       "      <td>Air</td>\n",
       "      <td>Domestic</td>\n",
       "    </tr>\n",
       "    <tr>\n",
       "      <th>2018-01-12 13:10:00</th>\n",
       "      <td>6550.00</td>\n",
       "      <td>Air</td>\n",
       "      <td>Domestic</td>\n",
       "    </tr>\n",
       "    <tr>\n",
       "      <th>2018-11-30 14:30:00</th>\n",
       "      <td>5497.00</td>\n",
       "      <td>Air</td>\n",
       "      <td>Domestic</td>\n",
       "    </tr>\n",
       "    <tr>\n",
       "      <th>...</th>\n",
       "      <td>...</td>\n",
       "      <td>...</td>\n",
       "      <td>...</td>\n",
       "    </tr>\n",
       "    <tr>\n",
       "      <th>2019-10-06 20:45:00</th>\n",
       "      <td>0.00</td>\n",
       "      <td>Air</td>\n",
       "      <td>Domestic</td>\n",
       "    </tr>\n",
       "    <tr>\n",
       "      <th>2019-10-06 21:39:00</th>\n",
       "      <td>9073.00</td>\n",
       "      <td>Air</td>\n",
       "      <td>Domestic</td>\n",
       "    </tr>\n",
       "    <tr>\n",
       "      <th>2019-10-06 22:18:00</th>\n",
       "      <td>2367.00</td>\n",
       "      <td>Air</td>\n",
       "      <td>Domestic</td>\n",
       "    </tr>\n",
       "    <tr>\n",
       "      <th>2019-10-06 22:30:00</th>\n",
       "      <td>6572.00</td>\n",
       "      <td>Air</td>\n",
       "      <td>Domestic</td>\n",
       "    </tr>\n",
       "    <tr>\n",
       "      <th>2019-10-06 22:30:00</th>\n",
       "      <td>5118.00</td>\n",
       "      <td>Air</td>\n",
       "      <td>Domestic</td>\n",
       "    </tr>\n",
       "  </tbody>\n",
       "</table>\n",
       "<p>170117 rows × 3 columns</p>\n",
       "</div>"
      ],
      "text/plain": [
       "                     NetFare    ProductType ItineraryType\n",
       "InvoiceDate                                              \n",
       "2018-01-12 11:43:00  2160.00  Other Product      Domestic\n",
       "2018-01-12 11:43:00     0.49  Other Product      Domestic\n",
       "2018-01-12 13:01:00  6550.00            Air      Domestic\n",
       "2018-01-12 13:10:00  6550.00            Air      Domestic\n",
       "2018-11-30 14:30:00  5497.00            Air      Domestic\n",
       "...                      ...            ...           ...\n",
       "2019-10-06 20:45:00     0.00            Air      Domestic\n",
       "2019-10-06 21:39:00  9073.00            Air      Domestic\n",
       "2019-10-06 22:18:00  2367.00            Air      Domestic\n",
       "2019-10-06 22:30:00  6572.00            Air      Domestic\n",
       "2019-10-06 22:30:00  5118.00            Air      Domestic\n",
       "\n",
       "[170117 rows x 3 columns]"
      ]
     },
     "execution_count": 31,
     "metadata": {},
     "output_type": "execute_result"
    }
   ],
   "source": [
    "index_outlier"
   ]
  },
  {
   "cell_type": "markdown",
   "metadata": {},
   "source": [
    "<p style=\"color:red\">Among CLEANED Data observations=**184800**, after delation of outlier REMAINDER Data observations=**170117** </p>"
   ]
  },
  {
   "cell_type": "markdown",
   "metadata": {},
   "source": [
    "### Checking Outliers Box-Plot"
   ]
  },
  {
   "cell_type": "code",
   "execution_count": 32,
   "metadata": {},
   "outputs": [
    {
     "data": {
      "image/png": "[encoded data removed]",
      "text/plain": [
       "<Figure size 360x360 with 1 Axes>"
      ]
     },
     "metadata": {
      "needs_background": "light"
     },
     "output_type": "display_data"
    }
   ],
   "source": [
    "fig, ax1=plt.subplots()\n",
    "fig.set_size_inches(5,5)\n",
    "plt.boxplot(index_outlier[\"NetFare\"])\n",
    "plt.show()"
   ]
  },
  {
   "cell_type": "code",
   "execution_count": 33,
   "metadata": {},
   "outputs": [
    {
     "name": "stdout",
     "output_type": "stream",
     "text": [
      "0.10733512294966292\n"
     ]
    },
    {
     "data": {
      "text/plain": [
       "count    170117.000000\n",
       "mean       4138.070657\n",
       "std        3034.224226\n",
       "min       -4315.000000\n",
       "25%        2243.000000\n",
       "50%        4044.000000\n",
       "75%        6084.000000\n",
       "max       12941.000000\n",
       "Name: NetFare, dtype: float64"
      ]
     },
     "execution_count": 33,
     "metadata": {},
     "output_type": "execute_result"
    }
   ],
   "source": [
    "print(index_outlier['NetFare'].skew())\n",
    "index_outlier['NetFare'].describe()"
   ]
  },
  {
   "cell_type": "markdown",
   "metadata": {},
   "source": [
    "<b>Good!</b> Now, we obtain the dataset with no missing values, no outliers."
   ]
  },
  {
   "cell_type": "markdown",
   "metadata": {},
   "source": [
    "### Data Normalization\n",
    "**Target:** would like to Normalize those variables so their value ranges from 0 to 1.<br>\n",
    "**Approach:** replace original value by (original value)/(maximum value)."
   ]
  },
  {
   "cell_type": "code",
   "execution_count": 34,
   "metadata": {},
   "outputs": [],
   "source": [
    "#index_outlier.NetFare = index_outlier.NetFare/index_outlier.NetFare.max()\n",
    "#index_outlier.head().round(4)"
   ]
  },
  {
   "cell_type": "markdown",
   "metadata": {},
   "source": [
    "### Binning\n",
    "**Why binning?**\n",
    "Binning is a process of transforming continuous numerical variables into discrete categorical 'bins', for grouped analysis."
   ]
  },
  {
   "cell_type": "markdown",
   "metadata": {},
   "source": [
    "Lets plot the histogram of NetFare, to see what the distribution of NetFare looks like."
   ]
  },
  {
   "cell_type": "code",
   "execution_count": 35,
   "metadata": {},
   "outputs": [
    {
     "data": {
      "text/plain": [
       "Text(0.5, 1.0, 'NetFare bins')"
      ]
     },
     "execution_count": 35,
     "metadata": {},
     "output_type": "execute_result"
    },
    {
     "data": {
      "image/png": "[encoded data removed]",
      "text/plain": [
       "<Figure size 720x432 with 1 Axes>"
      ]
     },
     "metadata": {
      "needs_background": "light"
     },
     "output_type": "display_data"
    }
   ],
   "source": [
    "plt.hist(index_outlier[\"NetFare\"])\n",
    "\n",
    "# set x/y labels and plot title\n",
    "plt.xlabel(\"NetFare\")\n",
    "plt.ylabel(\"count\")\n",
    "plt.title(\"NetFare bins\")"
   ]
  },
  {
   "cell_type": "markdown",
   "metadata": {},
   "source": [
    "Create bar plot for ProductType"
   ]
  },
  {
   "cell_type": "code",
   "execution_count": 36,
   "metadata": {},
   "outputs": [
    {
     "data": {
      "text/plain": [
       "Air                           140669\n",
       "Other Product                  18660\n",
       "Hotel                           6988\n",
       "Air Cancellation                2416\n",
       "Other Product Cancellation       538\n",
       "Air Debit Note                   535\n",
       "Air Loss                         190\n",
       "Hotel Cancellation                93\n",
       "Other Product Debit Note          21\n",
       "Hotel Loss                         4\n",
       "Hotel Debit Note                   3\n",
       "Name: ProductType, dtype: int64"
      ]
     },
     "execution_count": 36,
     "metadata": {},
     "output_type": "execute_result"
    }
   ],
   "source": [
    "index_outlier['ProductType'].value_counts()"
   ]
  },
  {
   "cell_type": "code",
   "execution_count": 37,
   "metadata": {},
   "outputs": [
    {
     "data": {
      "text/plain": [
       "<matplotlib.axes._subplots.AxesSubplot at 0x24aa660a160>"
      ]
     },
     "execution_count": 37,
     "metadata": {},
     "output_type": "execute_result"
    },
    {
     "data": {
      "image/png": "[encoded data removed]",
      "text/plain": [
       "<Figure size 720x432 with 1 Axes>"
      ]
     },
     "metadata": {
      "needs_background": "light"
     },
     "output_type": "display_data"
    }
   ],
   "source": [
    "index_outlier['ProductType'].value_counts().plot(kind='bar')"
   ]
  },
  {
   "cell_type": "markdown",
   "metadata": {},
   "source": [
    "Create bar plot of ItineraryType ( Domestic, International)"
   ]
  },
  {
   "cell_type": "code",
   "execution_count": 38,
   "metadata": {},
   "outputs": [
    {
     "data": {
      "text/plain": [
       "Domestic         162378\n",
       "International      7739\n",
       "Name: ItineraryType, dtype: int64"
      ]
     },
     "execution_count": 38,
     "metadata": {},
     "output_type": "execute_result"
    }
   ],
   "source": [
    "index_outlier['ItineraryType'].value_counts()"
   ]
  },
  {
   "cell_type": "code",
   "execution_count": 39,
   "metadata": {},
   "outputs": [
    {
     "data": {
      "text/plain": [
       "<matplotlib.axes._subplots.AxesSubplot at 0x24aa7748fd0>"
      ]
     },
     "execution_count": 39,
     "metadata": {},
     "output_type": "execute_result"
    },
    {
     "data": {
      "image/png": "[encoded data removed]",
      "text/plain": [
       "<Figure size 720x432 with 1 Axes>"
      ]
     },
     "metadata": {
      "needs_background": "light"
     },
     "output_type": "display_data"
    }
   ],
   "source": [
    "index_outlier['ItineraryType'].value_counts().plot(kind='bar')"
   ]
  },
  {
   "cell_type": "code",
   "execution_count": 40,
   "metadata": {},
   "outputs": [],
   "source": [
    "dummy_df=pd.get_dummies(index_outlier, columns=['ProductType', 'ItineraryType'], drop_first=True)"
   ]
  },
  {
   "cell_type": "code",
   "execution_count": 41,
   "metadata": {},
   "outputs": [
    {
     "data": {
      "text/plain": [
       "Index(['NetFare', 'ProductType_Air Cancellation', 'ProductType_Air Debit Note',\n",
       "       'ProductType_Air Loss', 'ProductType_Hotel',\n",
       "       'ProductType_Hotel Cancellation', 'ProductType_Hotel Debit Note',\n",
       "       'ProductType_Hotel Loss', 'ProductType_Other Product',\n",
       "       'ProductType_Other Product Cancellation',\n",
       "       'ProductType_Other Product Debit Note', 'ItineraryType_International'],\n",
       "      dtype='object')"
      ]
     },
     "execution_count": 41,
     "metadata": {},
     "output_type": "execute_result"
    }
   ],
   "source": [
    "dummy_df.columns"
   ]
  },
  {
   "cell_type": "code",
   "execution_count": 42,
   "metadata": {},
   "outputs": [],
   "source": [
    "dummy_df.rename(columns = {'NetFare':'NetFare','ProductType_Air Cancellation':'ProTypeAirCanc','ProductType_Air Debit Note':'ProTypeAirDebtNote','ProductType_Air Loss':'ProTypeAirLoss','ProductType_Hotel':'ProTypeHot','ProductType_Hotel Cancellation':'ProTypeHotCanc','ProductType_Hotel Debit Note':'ProTypeHotDebNote','ProductType_Hotel Loss':'ProTypeHotLoss','ProductType_Other Product':'ProTypeOthPro','ProductType_Other Product Cancellation':'ProTypeOthProCanc','ProductType_Other Product Debit Note':'ProTypeOthProDebNote','ItineraryType_International':'IteTypeInter'}, inplace=True)\n"
   ]
  },
  {
   "cell_type": "code",
   "execution_count": 43,
   "metadata": {},
   "outputs": [
    {
     "data": {
      "text/html": [
       "<div>\n",
       "<style scoped>\n",
       "    .dataframe tbody tr th:only-of-type {\n",
       "        vertical-align: middle;\n",
       "    }\n",
       "\n",
       "    .dataframe tbody tr th {\n",
       "        vertical-align: top;\n",
       "    }\n",
       "\n",
       "    .dataframe thead th {\n",
       "        text-align: right;\n",
       "    }\n",
       "</style>\n",
       "<table border=\"1\" class=\"dataframe\">\n",
       "  <thead>\n",
       "    <tr style=\"text-align: right;\">\n",
       "      <th></th>\n",
       "      <th>NetFare</th>\n",
       "      <th>ProTypeAirCanc</th>\n",
       "      <th>ProTypeAirDebtNote</th>\n",
       "      <th>ProTypeAirLoss</th>\n",
       "      <th>ProTypeHot</th>\n",
       "      <th>ProTypeHotCanc</th>\n",
       "      <th>ProTypeHotDebNote</th>\n",
       "      <th>ProTypeHotLoss</th>\n",
       "      <th>ProTypeOthPro</th>\n",
       "      <th>ProTypeOthProCanc</th>\n",
       "      <th>ProTypeOthProDebNote</th>\n",
       "      <th>IteTypeInter</th>\n",
       "    </tr>\n",
       "    <tr>\n",
       "      <th>InvoiceDate</th>\n",
       "      <th></th>\n",
       "      <th></th>\n",
       "      <th></th>\n",
       "      <th></th>\n",
       "      <th></th>\n",
       "      <th></th>\n",
       "      <th></th>\n",
       "      <th></th>\n",
       "      <th></th>\n",
       "      <th></th>\n",
       "      <th></th>\n",
       "      <th></th>\n",
       "    </tr>\n",
       "  </thead>\n",
       "  <tbody>\n",
       "    <tr>\n",
       "      <th>2018-01-12 11:43:00</th>\n",
       "      <td>2160.00</td>\n",
       "      <td>0</td>\n",
       "      <td>0</td>\n",
       "      <td>0</td>\n",
       "      <td>0</td>\n",
       "      <td>0</td>\n",
       "      <td>0</td>\n",
       "      <td>0</td>\n",
       "      <td>1</td>\n",
       "      <td>0</td>\n",
       "      <td>0</td>\n",
       "      <td>0</td>\n",
       "    </tr>\n",
       "    <tr>\n",
       "      <th>2018-01-12 11:43:00</th>\n",
       "      <td>0.49</td>\n",
       "      <td>0</td>\n",
       "      <td>0</td>\n",
       "      <td>0</td>\n",
       "      <td>0</td>\n",
       "      <td>0</td>\n",
       "      <td>0</td>\n",
       "      <td>0</td>\n",
       "      <td>1</td>\n",
       "      <td>0</td>\n",
       "      <td>0</td>\n",
       "      <td>0</td>\n",
       "    </tr>\n",
       "    <tr>\n",
       "      <th>2018-01-12 13:01:00</th>\n",
       "      <td>6550.00</td>\n",
       "      <td>0</td>\n",
       "      <td>0</td>\n",
       "      <td>0</td>\n",
       "      <td>0</td>\n",
       "      <td>0</td>\n",
       "      <td>0</td>\n",
       "      <td>0</td>\n",
       "      <td>0</td>\n",
       "      <td>0</td>\n",
       "      <td>0</td>\n",
       "      <td>0</td>\n",
       "    </tr>\n",
       "    <tr>\n",
       "      <th>2018-01-12 13:10:00</th>\n",
       "      <td>6550.00</td>\n",
       "      <td>0</td>\n",
       "      <td>0</td>\n",
       "      <td>0</td>\n",
       "      <td>0</td>\n",
       "      <td>0</td>\n",
       "      <td>0</td>\n",
       "      <td>0</td>\n",
       "      <td>0</td>\n",
       "      <td>0</td>\n",
       "      <td>0</td>\n",
       "      <td>0</td>\n",
       "    </tr>\n",
       "    <tr>\n",
       "      <th>2018-11-30 14:30:00</th>\n",
       "      <td>5497.00</td>\n",
       "      <td>0</td>\n",
       "      <td>0</td>\n",
       "      <td>0</td>\n",
       "      <td>0</td>\n",
       "      <td>0</td>\n",
       "      <td>0</td>\n",
       "      <td>0</td>\n",
       "      <td>0</td>\n",
       "      <td>0</td>\n",
       "      <td>0</td>\n",
       "      <td>0</td>\n",
       "    </tr>\n",
       "    <tr>\n",
       "      <th>...</th>\n",
       "      <td>...</td>\n",
       "      <td>...</td>\n",
       "      <td>...</td>\n",
       "      <td>...</td>\n",
       "      <td>...</td>\n",
       "      <td>...</td>\n",
       "      <td>...</td>\n",
       "      <td>...</td>\n",
       "      <td>...</td>\n",
       "      <td>...</td>\n",
       "      <td>...</td>\n",
       "      <td>...</td>\n",
       "    </tr>\n",
       "    <tr>\n",
       "      <th>2019-10-06 20:45:00</th>\n",
       "      <td>0.00</td>\n",
       "      <td>0</td>\n",
       "      <td>0</td>\n",
       "      <td>0</td>\n",
       "      <td>0</td>\n",
       "      <td>0</td>\n",
       "      <td>0</td>\n",
       "      <td>0</td>\n",
       "      <td>0</td>\n",
       "      <td>0</td>\n",
       "      <td>0</td>\n",
       "      <td>0</td>\n",
       "    </tr>\n",
       "    <tr>\n",
       "      <th>2019-10-06 21:39:00</th>\n",
       "      <td>9073.00</td>\n",
       "      <td>0</td>\n",
       "      <td>0</td>\n",
       "      <td>0</td>\n",
       "      <td>0</td>\n",
       "      <td>0</td>\n",
       "      <td>0</td>\n",
       "      <td>0</td>\n",
       "      <td>0</td>\n",
       "      <td>0</td>\n",
       "      <td>0</td>\n",
       "      <td>0</td>\n",
       "    </tr>\n",
       "    <tr>\n",
       "      <th>2019-10-06 22:18:00</th>\n",
       "      <td>2367.00</td>\n",
       "      <td>0</td>\n",
       "      <td>0</td>\n",
       "      <td>0</td>\n",
       "      <td>0</td>\n",
       "      <td>0</td>\n",
       "      <td>0</td>\n",
       "      <td>0</td>\n",
       "      <td>0</td>\n",
       "      <td>0</td>\n",
       "      <td>0</td>\n",
       "      <td>0</td>\n",
       "    </tr>\n",
       "    <tr>\n",
       "      <th>2019-10-06 22:30:00</th>\n",
       "      <td>6572.00</td>\n",
       "      <td>0</td>\n",
       "      <td>0</td>\n",
       "      <td>0</td>\n",
       "      <td>0</td>\n",
       "      <td>0</td>\n",
       "      <td>0</td>\n",
       "      <td>0</td>\n",
       "      <td>0</td>\n",
       "      <td>0</td>\n",
       "      <td>0</td>\n",
       "      <td>0</td>\n",
       "    </tr>\n",
       "    <tr>\n",
       "      <th>2019-10-06 22:30:00</th>\n",
       "      <td>5118.00</td>\n",
       "      <td>0</td>\n",
       "      <td>0</td>\n",
       "      <td>0</td>\n",
       "      <td>0</td>\n",
       "      <td>0</td>\n",
       "      <td>0</td>\n",
       "      <td>0</td>\n",
       "      <td>0</td>\n",
       "      <td>0</td>\n",
       "      <td>0</td>\n",
       "      <td>0</td>\n",
       "    </tr>\n",
       "  </tbody>\n",
       "</table>\n",
       "<p>170117 rows × 12 columns</p>\n",
       "</div>"
      ],
      "text/plain": [
       "                     NetFare  ProTypeAirCanc  ProTypeAirDebtNote  \\\n",
       "InvoiceDate                                                        \n",
       "2018-01-12 11:43:00  2160.00               0                   0   \n",
       "2018-01-12 11:43:00     0.49               0                   0   \n",
       "2018-01-12 13:01:00  6550.00               0                   0   \n",
       "2018-01-12 13:10:00  6550.00               0                   0   \n",
       "2018-11-30 14:30:00  5497.00               0                   0   \n",
       "...                      ...             ...                 ...   \n",
       "2019-10-06 20:45:00     0.00               0                   0   \n",
       "2019-10-06 21:39:00  9073.00               0                   0   \n",
       "2019-10-06 22:18:00  2367.00               0                   0   \n",
       "2019-10-06 22:30:00  6572.00               0                   0   \n",
       "2019-10-06 22:30:00  5118.00               0                   0   \n",
       "\n",
       "                     ProTypeAirLoss  ProTypeHot  ProTypeHotCanc  \\\n",
       "InvoiceDate                                                       \n",
       "2018-01-12 11:43:00               0           0               0   \n",
       "2018-01-12 11:43:00               0           0               0   \n",
       "2018-01-12 13:01:00               0           0               0   \n",
       "2018-01-12 13:10:00               0           0               0   \n",
       "2018-11-30 14:30:00               0           0               0   \n",
       "...                             ...         ...             ...   \n",
       "2019-10-06 20:45:00               0           0               0   \n",
       "2019-10-06 21:39:00               0           0               0   \n",
       "2019-10-06 22:18:00               0           0               0   \n",
       "2019-10-06 22:30:00               0           0               0   \n",
       "2019-10-06 22:30:00               0           0               0   \n",
       "\n",
       "                     ProTypeHotDebNote  ProTypeHotLoss  ProTypeOthPro  \\\n",
       "InvoiceDate                                                             \n",
       "2018-01-12 11:43:00                  0               0              1   \n",
       "2018-01-12 11:43:00                  0               0              1   \n",
       "2018-01-12 13:01:00                  0               0              0   \n",
       "2018-01-12 13:10:00                  0               0              0   \n",
       "2018-11-30 14:30:00                  0               0              0   \n",
       "...                                ...             ...            ...   \n",
       "2019-10-06 20:45:00                  0               0              0   \n",
       "2019-10-06 21:39:00                  0               0              0   \n",
       "2019-10-06 22:18:00                  0               0              0   \n",
       "2019-10-06 22:30:00                  0               0              0   \n",
       "2019-10-06 22:30:00                  0               0              0   \n",
       "\n",
       "                     ProTypeOthProCanc  ProTypeOthProDebNote  IteTypeInter  \n",
       "InvoiceDate                                                                 \n",
       "2018-01-12 11:43:00                  0                     0             0  \n",
       "2018-01-12 11:43:00                  0                     0             0  \n",
       "2018-01-12 13:01:00                  0                     0             0  \n",
       "2018-01-12 13:10:00                  0                     0             0  \n",
       "2018-11-30 14:30:00                  0                     0             0  \n",
       "...                                ...                   ...           ...  \n",
       "2019-10-06 20:45:00                  0                     0             0  \n",
       "2019-10-06 21:39:00                  0                     0             0  \n",
       "2019-10-06 22:18:00                  0                     0             0  \n",
       "2019-10-06 22:30:00                  0                     0             0  \n",
       "2019-10-06 22:30:00                  0                     0             0  \n",
       "\n",
       "[170117 rows x 12 columns]"
      ]
     },
     "execution_count": 43,
     "metadata": {},
     "output_type": "execute_result"
    }
   ],
   "source": [
    "dummy_df"
   ]
  },
  {
   "cell_type": "code",
   "execution_count": 44,
   "metadata": {},
   "outputs": [
    {
     "data": {
      "text/plain": [
       "Index(['NetFare', 'ProTypeAirCanc', 'ProTypeAirDebtNote', 'ProTypeAirLoss',\n",
       "       'ProTypeHot', 'ProTypeHotCanc', 'ProTypeHotDebNote', 'ProTypeHotLoss',\n",
       "       'ProTypeOthPro', 'ProTypeOthProCanc', 'ProTypeOthProDebNote',\n",
       "       'IteTypeInter'],\n",
       "      dtype='object')"
      ]
     },
     "execution_count": 44,
     "metadata": {},
     "output_type": "execute_result"
    }
   ],
   "source": [
    "dummy_df.columns"
   ]
  },
  {
   "cell_type": "markdown",
   "metadata": {},
   "source": [
    "## Analysis "
   ]
  },
  {
   "cell_type": "markdown",
   "metadata": {},
   "source": [
    "#### Correlation heatmap of dataset"
   ]
  },
  {
   "cell_type": "code",
   "execution_count": 45,
   "metadata": {},
   "outputs": [
    {
     "data": {
      "image/png": "[encoded data removed]",
      "text/plain": [
       "<Figure size 1008x864 with 2 Axes>"
      ]
     },
     "metadata": {
      "needs_background": "light"
     },
     "output_type": "display_data"
    }
   ],
   "source": [
    "def correlation_heatmap(dummy_df):\n",
    "    _ , ax = plt.subplots(figsize =(14, 12))\n",
    "    colormap = sns.diverging_palette(220, 10, as_cmap = True)\n",
    "    \n",
    "    _ = sns.heatmap(\n",
    "        dummy_df.corr(), \n",
    "        cmap = \"YlGn\",\n",
    "        square=True, \n",
    "        cbar_kws={'shrink':.9 }, \n",
    "        ax=ax,\n",
    "        annot=True, \n",
    "        linewidths=0.1,vmax=1.0, linecolor='white',\n",
    "        annot_kws={'fontsize':12 }\n",
    "    )\n",
    "    \n",
    "    plt.title('Pearson Correlation of Features', y=1.05, size=15)\n",
    "\n",
    "correlation_heatmap(dummy_df)"
   ]
  },
  {
   "cell_type": "markdown",
   "metadata": {},
   "source": [
    "### Plot Graph"
   ]
  },
  {
   "cell_type": "code",
   "execution_count": 46,
   "metadata": {},
   "outputs": [],
   "source": [
    "Train= dummy_df[0:136100] \n",
    "Test= dummy_df[136101:170117]"
   ]
  },
  {
   "cell_type": "code",
   "execution_count": 47,
   "metadata": {},
   "outputs": [
    {
     "data": {
      "text/plain": [
       "<matplotlib.axes._subplots.AxesSubplot at 0x24aa875a7f0>"
      ]
     },
     "execution_count": 47,
     "metadata": {},
     "output_type": "execute_result"
    },
    {
     "data": {
      "image/png": "[encoded data removed]",
      "text/plain": [
       "<Figure size 720x432 with 1 Axes>"
      ]
     },
     "metadata": {
      "needs_background": "light"
     },
     "output_type": "display_data"
    }
   ],
   "source": [
    "dummy_df[0:500].NetFare.plot(kind='line')        \n",
    "                           "
   ]
  },
  {
   "cell_type": "code",
   "execution_count": 48,
   "metadata": {},
   "outputs": [
    {
     "data": {
      "text/plain": [
       "<matplotlib.axes._subplots.AxesSubplot at 0x24aa8308710>"
      ]
     },
     "execution_count": 48,
     "metadata": {},
     "output_type": "execute_result"
    },
    {
     "data": {
      "image/png": "[encoded data removed]",
      "text/plain": [
       "<Figure size 720x432 with 1 Axes>"
      ]
     },
     "metadata": {
      "needs_background": "light"
     },
     "output_type": "display_data"
    }
   ],
   "source": [
    "dummy_df[140100:140200].NetFare.plot(kind='line')"
   ]
  },
  {
   "cell_type": "code",
   "execution_count": 49,
   "metadata": {},
   "outputs": [
    {
     "data": {
      "text/plain": [
       "3217.0766599232775"
      ]
     },
     "execution_count": 49,
     "metadata": {},
     "output_type": "execute_result"
    }
   ],
   "source": [
    "##################### Exponential ##############################\n",
    "import statsmodels.formula.api as smf \n",
    "\n",
    "linear_model = smf.ols('NetFare~ProTypeOthPro',data=Train).fit()\n",
    "pred_linear =  pd.Series(linear_model.predict(pd.DataFrame(Test['ProTypeOthPro'])))\n",
    "rmse_linear = np.sqrt(np.mean((np.array(Test['NetFare'])-np.array(pred_linear))**2))\n",
    "rmse_linear"
   ]
  },
  {
   "cell_type": "code",
   "execution_count": 50,
   "metadata": {},
   "outputs": [
    {
     "name": "stderr",
     "output_type": "stream",
     "text": [
      "C:\\Users\\Raja\\.conda\\envs\\pycaret\\lib\\site-packages\\pandas\\core\\series.py:679: RuntimeWarning: overflow encountered in exp\n",
      "  result = getattr(ufunc, method)(*inputs, **kwargs)\n"
     ]
    },
    {
     "data": {
      "text/plain": [
       "inf"
      ]
     },
     "execution_count": 50,
     "metadata": {},
     "output_type": "execute_result"
    }
   ],
   "source": [
    "##################### Exponential ##############################\n",
    "\n",
    "Exp = smf.ols('NetFare~IteTypeInter',data=Train).fit()\n",
    "pred_Exp = pd.Series(Exp.predict(pd.DataFrame(Test['IteTypeInter'])))\n",
    "rmse_Exp = np.sqrt(np.mean((np.array(Test['NetFare'])-np.array(np.exp(pred_Exp)))**2))\n",
    "rmse_Exp"
   ]
  },
  {
   "cell_type": "code",
   "execution_count": 51,
   "metadata": {},
   "outputs": [
    {
     "data": {
      "text/plain": [
       "3215.8925731475933"
      ]
     },
     "execution_count": 51,
     "metadata": {},
     "output_type": "execute_result"
    }
   ],
   "source": [
    "#################### Quadratic ###############################\n",
    "\n",
    "Quad = smf.ols('NetFare~ProTypeOthPro+IteTypeInter',data=Train).fit()\n",
    "pred_Quad = pd.Series(Quad.predict(Test[[\"ProTypeOthPro\",\"IteTypeInter\"]]))\n",
    "rmse_Quad = np.sqrt(np.mean((np.array(Test['NetFare'])-np.array(pred_Quad))**2))\n",
    "rmse_Quad"
   ]
  },
  {
   "cell_type": "code",
   "execution_count": 52,
   "metadata": {},
   "outputs": [
    {
     "data": {
      "text/plain": [
       "3332.1586288304998"
      ]
     },
     "execution_count": 52,
     "metadata": {},
     "output_type": "execute_result"
    }
   ],
   "source": [
    "################### Additive seasonality ########################\n",
    "\n",
    "add_sea = smf.ols('NetFare~ProTypeAirCanc+ProTypeAirDebtNote+ProTypeAirLoss+ProTypeHot+ProTypeHotCanc+ProTypeHotDebNote+ProTypeHotLoss+ProTypeOthProCanc+ProTypeOthProDebNote',data=Train).fit()\n",
    "pred_add_sea = pd.Series(add_sea.predict(Test[['ProTypeAirCanc','ProTypeAirDebtNote','ProTypeAirLoss','ProTypeHot','ProTypeHotCanc','ProTypeHotDebNote','ProTypeHotLoss','ProTypeOthProCanc','ProTypeOthProDebNote']]))\n",
    "rmse_add_sea = np.sqrt(np.mean((np.array(Test['NetFare'])-np.array(pred_add_sea))**2))\n",
    "rmse_add_sea"
   ]
  },
  {
   "cell_type": "code",
   "execution_count": 53,
   "metadata": {},
   "outputs": [
    {
     "data": {
      "text/plain": [
       "3126.221819301704"
      ]
     },
     "execution_count": 53,
     "metadata": {},
     "output_type": "execute_result"
    }
   ],
   "source": [
    "################## Additive Seasonality Quadratic ############################\n",
    "\n",
    "add_sea_Quad = smf.ols('NetFare~ProTypeOthPro+IteTypeInter+ProTypeAirCanc+ProTypeAirDebtNote+ProTypeAirLoss+ProTypeHot+ProTypeHotCanc+ProTypeHotDebNote+ProTypeHotLoss+ProTypeOthProCanc+ProTypeOthProDebNote',data=Train).fit()\n",
    "pred_add_sea_quad = pd.Series(add_sea_Quad.predict(Test[['ProTypeAirCanc','ProTypeAirDebtNote','ProTypeAirLoss','ProTypeHot','ProTypeHotCanc','ProTypeHotDebNote','ProTypeHotLoss','ProTypeOthProCanc','ProTypeOthProDebNote','ProTypeOthPro','IteTypeInter']]))\n",
    "rmse_add_sea_quad = np.sqrt(np.mean((np.array(Test['NetFare'])-np.array(pred_add_sea_quad))**2))\n",
    "rmse_add_sea_quad "
   ]
  },
  {
   "cell_type": "code",
   "execution_count": 54,
   "metadata": {},
   "outputs": [
    {
     "data": {
      "text/html": [
       "<div>\n",
       "<style scoped>\n",
       "    .dataframe tbody tr th:only-of-type {\n",
       "        vertical-align: middle;\n",
       "    }\n",
       "\n",
       "    .dataframe tbody tr th {\n",
       "        vertical-align: top;\n",
       "    }\n",
       "\n",
       "    .dataframe thead th {\n",
       "        text-align: right;\n",
       "    }\n",
       "</style>\n",
       "<table border=\"1\" class=\"dataframe\">\n",
       "  <thead>\n",
       "    <tr style=\"text-align: right;\">\n",
       "      <th></th>\n",
       "      <th>MODEL</th>\n",
       "      <th>RMSE_Values</th>\n",
       "    </tr>\n",
       "  </thead>\n",
       "  <tbody>\n",
       "    <tr>\n",
       "      <th>0</th>\n",
       "      <td>rmse_linear</td>\n",
       "      <td>3217.076660</td>\n",
       "    </tr>\n",
       "    <tr>\n",
       "      <th>1</th>\n",
       "      <td>rmse_Exp</td>\n",
       "      <td>inf</td>\n",
       "    </tr>\n",
       "    <tr>\n",
       "      <th>2</th>\n",
       "      <td>rmse_Quad</td>\n",
       "      <td>3215.892573</td>\n",
       "    </tr>\n",
       "    <tr>\n",
       "      <th>3</th>\n",
       "      <td>rmse_add_sea</td>\n",
       "      <td>3332.158629</td>\n",
       "    </tr>\n",
       "    <tr>\n",
       "      <th>4</th>\n",
       "      <td>rmse_add_sea_quad</td>\n",
       "      <td>3126.221819</td>\n",
       "    </tr>\n",
       "  </tbody>\n",
       "</table>\n",
       "</div>"
      ],
      "text/plain": [
       "               MODEL  RMSE_Values\n",
       "0        rmse_linear  3217.076660\n",
       "1           rmse_Exp          inf\n",
       "2          rmse_Quad  3215.892573\n",
       "3       rmse_add_sea  3332.158629\n",
       "4  rmse_add_sea_quad  3126.221819"
      ]
     },
     "execution_count": 54,
     "metadata": {},
     "output_type": "execute_result"
    }
   ],
   "source": [
    "################## Testing #######################################\n",
    "\n",
    "data = {\"MODEL\":pd.Series([\"rmse_linear\",\"rmse_Exp\",\"rmse_Quad\",\"rmse_add_sea\",\"rmse_add_sea_quad\"]),\"RMSE_Values\":pd.Series([rmse_linear,rmse_Exp,rmse_Quad,rmse_add_sea,rmse_add_sea_quad])}\n",
    "table_rmse=pd.DataFrame(data)\n",
    "table_rmse"
   ]
  },
  {
   "cell_type": "markdown",
   "metadata": {},
   "source": [
    "### Setting up Environment"
   ]
  },
  {
   "cell_type": "code",
   "execution_count": 55,
   "metadata": {},
   "outputs": [],
   "source": [
    "import pycaret"
   ]
  },
  {
   "cell_type": "code",
   "execution_count": 56,
   "metadata": {},
   "outputs": [
    {
     "name": "stdout",
     "output_type": "stream",
     "text": [
      " \n",
      "Setup Succesfully Completed!\n"
     ]
    },
    {
     "data": {
      "text/html": [
       "<style  type=\"text/css\" >\n",
       "</style><table id=\"T_45fcaab6_a408_11ea_b9ba_34e6ad71bcfe\" ><thead>    <tr>        <th class=\"blank level0\" ></th>        <th class=\"col_heading level0 col0\" >Description</th>        <th class=\"col_heading level0 col1\" >Value</th>    </tr></thead><tbody>\n",
       "                <tr>\n",
       "                        <th id=\"T_45fcaab6_a408_11ea_b9ba_34e6ad71bcfelevel0_row0\" class=\"row_heading level0 row0\" >0</th>\n",
       "                        <td id=\"T_45fcaab6_a408_11ea_b9ba_34e6ad71bcferow0_col0\" class=\"data row0 col0\" >session_id</td>\n",
       "                        <td id=\"T_45fcaab6_a408_11ea_b9ba_34e6ad71bcferow0_col1\" class=\"data row0 col1\" >4915</td>\n",
       "            </tr>\n",
       "            <tr>\n",
       "                        <th id=\"T_45fcaab6_a408_11ea_b9ba_34e6ad71bcfelevel0_row1\" class=\"row_heading level0 row1\" >1</th>\n",
       "                        <td id=\"T_45fcaab6_a408_11ea_b9ba_34e6ad71bcferow1_col0\" class=\"data row1 col0\" >Transform Target </td>\n",
       "                        <td id=\"T_45fcaab6_a408_11ea_b9ba_34e6ad71bcferow1_col1\" class=\"data row1 col1\" >False</td>\n",
       "            </tr>\n",
       "            <tr>\n",
       "                        <th id=\"T_45fcaab6_a408_11ea_b9ba_34e6ad71bcfelevel0_row2\" class=\"row_heading level0 row2\" >2</th>\n",
       "                        <td id=\"T_45fcaab6_a408_11ea_b9ba_34e6ad71bcferow2_col0\" class=\"data row2 col0\" >Transform Target Method</td>\n",
       "                        <td id=\"T_45fcaab6_a408_11ea_b9ba_34e6ad71bcferow2_col1\" class=\"data row2 col1\" >None</td>\n",
       "            </tr>\n",
       "            <tr>\n",
       "                        <th id=\"T_45fcaab6_a408_11ea_b9ba_34e6ad71bcfelevel0_row3\" class=\"row_heading level0 row3\" >3</th>\n",
       "                        <td id=\"T_45fcaab6_a408_11ea_b9ba_34e6ad71bcferow3_col0\" class=\"data row3 col0\" >Original Data</td>\n",
       "                        <td id=\"T_45fcaab6_a408_11ea_b9ba_34e6ad71bcferow3_col1\" class=\"data row3 col1\" >(170117, 12)</td>\n",
       "            </tr>\n",
       "            <tr>\n",
       "                        <th id=\"T_45fcaab6_a408_11ea_b9ba_34e6ad71bcfelevel0_row4\" class=\"row_heading level0 row4\" >4</th>\n",
       "                        <td id=\"T_45fcaab6_a408_11ea_b9ba_34e6ad71bcferow4_col0\" class=\"data row4 col0\" >Missing Values </td>\n",
       "                        <td id=\"T_45fcaab6_a408_11ea_b9ba_34e6ad71bcferow4_col1\" class=\"data row4 col1\" >False</td>\n",
       "            </tr>\n",
       "            <tr>\n",
       "                        <th id=\"T_45fcaab6_a408_11ea_b9ba_34e6ad71bcfelevel0_row5\" class=\"row_heading level0 row5\" >5</th>\n",
       "                        <td id=\"T_45fcaab6_a408_11ea_b9ba_34e6ad71bcferow5_col0\" class=\"data row5 col0\" >Numeric Features </td>\n",
       "                        <td id=\"T_45fcaab6_a408_11ea_b9ba_34e6ad71bcferow5_col1\" class=\"data row5 col1\" >11</td>\n",
       "            </tr>\n",
       "            <tr>\n",
       "                        <th id=\"T_45fcaab6_a408_11ea_b9ba_34e6ad71bcfelevel0_row6\" class=\"row_heading level0 row6\" >6</th>\n",
       "                        <td id=\"T_45fcaab6_a408_11ea_b9ba_34e6ad71bcferow6_col0\" class=\"data row6 col0\" >Categorical Features </td>\n",
       "                        <td id=\"T_45fcaab6_a408_11ea_b9ba_34e6ad71bcferow6_col1\" class=\"data row6 col1\" >0</td>\n",
       "            </tr>\n",
       "            <tr>\n",
       "                        <th id=\"T_45fcaab6_a408_11ea_b9ba_34e6ad71bcfelevel0_row7\" class=\"row_heading level0 row7\" >7</th>\n",
       "                        <td id=\"T_45fcaab6_a408_11ea_b9ba_34e6ad71bcferow7_col0\" class=\"data row7 col0\" >Ordinal Features </td>\n",
       "                        <td id=\"T_45fcaab6_a408_11ea_b9ba_34e6ad71bcferow7_col1\" class=\"data row7 col1\" >False</td>\n",
       "            </tr>\n",
       "            <tr>\n",
       "                        <th id=\"T_45fcaab6_a408_11ea_b9ba_34e6ad71bcfelevel0_row8\" class=\"row_heading level0 row8\" >8</th>\n",
       "                        <td id=\"T_45fcaab6_a408_11ea_b9ba_34e6ad71bcferow8_col0\" class=\"data row8 col0\" >High Cardinality Features </td>\n",
       "                        <td id=\"T_45fcaab6_a408_11ea_b9ba_34e6ad71bcferow8_col1\" class=\"data row8 col1\" >False</td>\n",
       "            </tr>\n",
       "            <tr>\n",
       "                        <th id=\"T_45fcaab6_a408_11ea_b9ba_34e6ad71bcfelevel0_row9\" class=\"row_heading level0 row9\" >9</th>\n",
       "                        <td id=\"T_45fcaab6_a408_11ea_b9ba_34e6ad71bcferow9_col0\" class=\"data row9 col0\" >High Cardinality Method </td>\n",
       "                        <td id=\"T_45fcaab6_a408_11ea_b9ba_34e6ad71bcferow9_col1\" class=\"data row9 col1\" >None</td>\n",
       "            </tr>\n",
       "            <tr>\n",
       "                        <th id=\"T_45fcaab6_a408_11ea_b9ba_34e6ad71bcfelevel0_row10\" class=\"row_heading level0 row10\" >10</th>\n",
       "                        <td id=\"T_45fcaab6_a408_11ea_b9ba_34e6ad71bcferow10_col0\" class=\"data row10 col0\" >Sampled Data</td>\n",
       "                        <td id=\"T_45fcaab6_a408_11ea_b9ba_34e6ad71bcferow10_col1\" class=\"data row10 col1\" >(119081, 12)</td>\n",
       "            </tr>\n",
       "            <tr>\n",
       "                        <th id=\"T_45fcaab6_a408_11ea_b9ba_34e6ad71bcfelevel0_row11\" class=\"row_heading level0 row11\" >11</th>\n",
       "                        <td id=\"T_45fcaab6_a408_11ea_b9ba_34e6ad71bcferow11_col0\" class=\"data row11 col0\" >Transformed Train Set</td>\n",
       "                        <td id=\"T_45fcaab6_a408_11ea_b9ba_34e6ad71bcferow11_col1\" class=\"data row11 col1\" >(83356, 11)</td>\n",
       "            </tr>\n",
       "            <tr>\n",
       "                        <th id=\"T_45fcaab6_a408_11ea_b9ba_34e6ad71bcfelevel0_row12\" class=\"row_heading level0 row12\" >12</th>\n",
       "                        <td id=\"T_45fcaab6_a408_11ea_b9ba_34e6ad71bcferow12_col0\" class=\"data row12 col0\" >Transformed Test Set</td>\n",
       "                        <td id=\"T_45fcaab6_a408_11ea_b9ba_34e6ad71bcferow12_col1\" class=\"data row12 col1\" >(35725, 11)</td>\n",
       "            </tr>\n",
       "            <tr>\n",
       "                        <th id=\"T_45fcaab6_a408_11ea_b9ba_34e6ad71bcfelevel0_row13\" class=\"row_heading level0 row13\" >13</th>\n",
       "                        <td id=\"T_45fcaab6_a408_11ea_b9ba_34e6ad71bcferow13_col0\" class=\"data row13 col0\" >Numeric Imputer </td>\n",
       "                        <td id=\"T_45fcaab6_a408_11ea_b9ba_34e6ad71bcferow13_col1\" class=\"data row13 col1\" >mean</td>\n",
       "            </tr>\n",
       "            <tr>\n",
       "                        <th id=\"T_45fcaab6_a408_11ea_b9ba_34e6ad71bcfelevel0_row14\" class=\"row_heading level0 row14\" >14</th>\n",
       "                        <td id=\"T_45fcaab6_a408_11ea_b9ba_34e6ad71bcferow14_col0\" class=\"data row14 col0\" >Categorical Imputer </td>\n",
       "                        <td id=\"T_45fcaab6_a408_11ea_b9ba_34e6ad71bcferow14_col1\" class=\"data row14 col1\" >constant</td>\n",
       "            </tr>\n",
       "            <tr>\n",
       "                        <th id=\"T_45fcaab6_a408_11ea_b9ba_34e6ad71bcfelevel0_row15\" class=\"row_heading level0 row15\" >15</th>\n",
       "                        <td id=\"T_45fcaab6_a408_11ea_b9ba_34e6ad71bcferow15_col0\" class=\"data row15 col0\" >Normalize </td>\n",
       "                        <td id=\"T_45fcaab6_a408_11ea_b9ba_34e6ad71bcferow15_col1\" class=\"data row15 col1\" >False</td>\n",
       "            </tr>\n",
       "            <tr>\n",
       "                        <th id=\"T_45fcaab6_a408_11ea_b9ba_34e6ad71bcfelevel0_row16\" class=\"row_heading level0 row16\" >16</th>\n",
       "                        <td id=\"T_45fcaab6_a408_11ea_b9ba_34e6ad71bcferow16_col0\" class=\"data row16 col0\" >Normalize Method </td>\n",
       "                        <td id=\"T_45fcaab6_a408_11ea_b9ba_34e6ad71bcferow16_col1\" class=\"data row16 col1\" >None</td>\n",
       "            </tr>\n",
       "            <tr>\n",
       "                        <th id=\"T_45fcaab6_a408_11ea_b9ba_34e6ad71bcfelevel0_row17\" class=\"row_heading level0 row17\" >17</th>\n",
       "                        <td id=\"T_45fcaab6_a408_11ea_b9ba_34e6ad71bcferow17_col0\" class=\"data row17 col0\" >Transformation </td>\n",
       "                        <td id=\"T_45fcaab6_a408_11ea_b9ba_34e6ad71bcferow17_col1\" class=\"data row17 col1\" >False</td>\n",
       "            </tr>\n",
       "            <tr>\n",
       "                        <th id=\"T_45fcaab6_a408_11ea_b9ba_34e6ad71bcfelevel0_row18\" class=\"row_heading level0 row18\" >18</th>\n",
       "                        <td id=\"T_45fcaab6_a408_11ea_b9ba_34e6ad71bcferow18_col0\" class=\"data row18 col0\" >Transformation Method </td>\n",
       "                        <td id=\"T_45fcaab6_a408_11ea_b9ba_34e6ad71bcferow18_col1\" class=\"data row18 col1\" >None</td>\n",
       "            </tr>\n",
       "            <tr>\n",
       "                        <th id=\"T_45fcaab6_a408_11ea_b9ba_34e6ad71bcfelevel0_row19\" class=\"row_heading level0 row19\" >19</th>\n",
       "                        <td id=\"T_45fcaab6_a408_11ea_b9ba_34e6ad71bcferow19_col0\" class=\"data row19 col0\" >PCA </td>\n",
       "                        <td id=\"T_45fcaab6_a408_11ea_b9ba_34e6ad71bcferow19_col1\" class=\"data row19 col1\" >False</td>\n",
       "            </tr>\n",
       "            <tr>\n",
       "                        <th id=\"T_45fcaab6_a408_11ea_b9ba_34e6ad71bcfelevel0_row20\" class=\"row_heading level0 row20\" >20</th>\n",
       "                        <td id=\"T_45fcaab6_a408_11ea_b9ba_34e6ad71bcferow20_col0\" class=\"data row20 col0\" >PCA Method </td>\n",
       "                        <td id=\"T_45fcaab6_a408_11ea_b9ba_34e6ad71bcferow20_col1\" class=\"data row20 col1\" >None</td>\n",
       "            </tr>\n",
       "            <tr>\n",
       "                        <th id=\"T_45fcaab6_a408_11ea_b9ba_34e6ad71bcfelevel0_row21\" class=\"row_heading level0 row21\" >21</th>\n",
       "                        <td id=\"T_45fcaab6_a408_11ea_b9ba_34e6ad71bcferow21_col0\" class=\"data row21 col0\" >PCA Components </td>\n",
       "                        <td id=\"T_45fcaab6_a408_11ea_b9ba_34e6ad71bcferow21_col1\" class=\"data row21 col1\" >None</td>\n",
       "            </tr>\n",
       "            <tr>\n",
       "                        <th id=\"T_45fcaab6_a408_11ea_b9ba_34e6ad71bcfelevel0_row22\" class=\"row_heading level0 row22\" >22</th>\n",
       "                        <td id=\"T_45fcaab6_a408_11ea_b9ba_34e6ad71bcferow22_col0\" class=\"data row22 col0\" >Ignore Low Variance </td>\n",
       "                        <td id=\"T_45fcaab6_a408_11ea_b9ba_34e6ad71bcferow22_col1\" class=\"data row22 col1\" >False</td>\n",
       "            </tr>\n",
       "            <tr>\n",
       "                        <th id=\"T_45fcaab6_a408_11ea_b9ba_34e6ad71bcfelevel0_row23\" class=\"row_heading level0 row23\" >23</th>\n",
       "                        <td id=\"T_45fcaab6_a408_11ea_b9ba_34e6ad71bcferow23_col0\" class=\"data row23 col0\" >Combine Rare Levels </td>\n",
       "                        <td id=\"T_45fcaab6_a408_11ea_b9ba_34e6ad71bcferow23_col1\" class=\"data row23 col1\" >False</td>\n",
       "            </tr>\n",
       "            <tr>\n",
       "                        <th id=\"T_45fcaab6_a408_11ea_b9ba_34e6ad71bcfelevel0_row24\" class=\"row_heading level0 row24\" >24</th>\n",
       "                        <td id=\"T_45fcaab6_a408_11ea_b9ba_34e6ad71bcferow24_col0\" class=\"data row24 col0\" >Rare Level Threshold </td>\n",
       "                        <td id=\"T_45fcaab6_a408_11ea_b9ba_34e6ad71bcferow24_col1\" class=\"data row24 col1\" >None</td>\n",
       "            </tr>\n",
       "            <tr>\n",
       "                        <th id=\"T_45fcaab6_a408_11ea_b9ba_34e6ad71bcfelevel0_row25\" class=\"row_heading level0 row25\" >25</th>\n",
       "                        <td id=\"T_45fcaab6_a408_11ea_b9ba_34e6ad71bcferow25_col0\" class=\"data row25 col0\" >Numeric Binning </td>\n",
       "                        <td id=\"T_45fcaab6_a408_11ea_b9ba_34e6ad71bcferow25_col1\" class=\"data row25 col1\" >False</td>\n",
       "            </tr>\n",
       "            <tr>\n",
       "                        <th id=\"T_45fcaab6_a408_11ea_b9ba_34e6ad71bcfelevel0_row26\" class=\"row_heading level0 row26\" >26</th>\n",
       "                        <td id=\"T_45fcaab6_a408_11ea_b9ba_34e6ad71bcferow26_col0\" class=\"data row26 col0\" >Remove Outliers </td>\n",
       "                        <td id=\"T_45fcaab6_a408_11ea_b9ba_34e6ad71bcferow26_col1\" class=\"data row26 col1\" >False</td>\n",
       "            </tr>\n",
       "            <tr>\n",
       "                        <th id=\"T_45fcaab6_a408_11ea_b9ba_34e6ad71bcfelevel0_row27\" class=\"row_heading level0 row27\" >27</th>\n",
       "                        <td id=\"T_45fcaab6_a408_11ea_b9ba_34e6ad71bcferow27_col0\" class=\"data row27 col0\" >Outliers Threshold </td>\n",
       "                        <td id=\"T_45fcaab6_a408_11ea_b9ba_34e6ad71bcferow27_col1\" class=\"data row27 col1\" >None</td>\n",
       "            </tr>\n",
       "            <tr>\n",
       "                        <th id=\"T_45fcaab6_a408_11ea_b9ba_34e6ad71bcfelevel0_row28\" class=\"row_heading level0 row28\" >28</th>\n",
       "                        <td id=\"T_45fcaab6_a408_11ea_b9ba_34e6ad71bcferow28_col0\" class=\"data row28 col0\" >Remove Multicollinearity </td>\n",
       "                        <td id=\"T_45fcaab6_a408_11ea_b9ba_34e6ad71bcferow28_col1\" class=\"data row28 col1\" >False</td>\n",
       "            </tr>\n",
       "            <tr>\n",
       "                        <th id=\"T_45fcaab6_a408_11ea_b9ba_34e6ad71bcfelevel0_row29\" class=\"row_heading level0 row29\" >29</th>\n",
       "                        <td id=\"T_45fcaab6_a408_11ea_b9ba_34e6ad71bcferow29_col0\" class=\"data row29 col0\" >Multicollinearity Threshold </td>\n",
       "                        <td id=\"T_45fcaab6_a408_11ea_b9ba_34e6ad71bcferow29_col1\" class=\"data row29 col1\" >None</td>\n",
       "            </tr>\n",
       "            <tr>\n",
       "                        <th id=\"T_45fcaab6_a408_11ea_b9ba_34e6ad71bcfelevel0_row30\" class=\"row_heading level0 row30\" >30</th>\n",
       "                        <td id=\"T_45fcaab6_a408_11ea_b9ba_34e6ad71bcferow30_col0\" class=\"data row30 col0\" >Clustering </td>\n",
       "                        <td id=\"T_45fcaab6_a408_11ea_b9ba_34e6ad71bcferow30_col1\" class=\"data row30 col1\" >False</td>\n",
       "            </tr>\n",
       "            <tr>\n",
       "                        <th id=\"T_45fcaab6_a408_11ea_b9ba_34e6ad71bcfelevel0_row31\" class=\"row_heading level0 row31\" >31</th>\n",
       "                        <td id=\"T_45fcaab6_a408_11ea_b9ba_34e6ad71bcferow31_col0\" class=\"data row31 col0\" >Clustering Iteration </td>\n",
       "                        <td id=\"T_45fcaab6_a408_11ea_b9ba_34e6ad71bcferow31_col1\" class=\"data row31 col1\" >None</td>\n",
       "            </tr>\n",
       "            <tr>\n",
       "                        <th id=\"T_45fcaab6_a408_11ea_b9ba_34e6ad71bcfelevel0_row32\" class=\"row_heading level0 row32\" >32</th>\n",
       "                        <td id=\"T_45fcaab6_a408_11ea_b9ba_34e6ad71bcferow32_col0\" class=\"data row32 col0\" >Polynomial Features </td>\n",
       "                        <td id=\"T_45fcaab6_a408_11ea_b9ba_34e6ad71bcferow32_col1\" class=\"data row32 col1\" >False</td>\n",
       "            </tr>\n",
       "            <tr>\n",
       "                        <th id=\"T_45fcaab6_a408_11ea_b9ba_34e6ad71bcfelevel0_row33\" class=\"row_heading level0 row33\" >33</th>\n",
       "                        <td id=\"T_45fcaab6_a408_11ea_b9ba_34e6ad71bcferow33_col0\" class=\"data row33 col0\" >Polynomial Degree </td>\n",
       "                        <td id=\"T_45fcaab6_a408_11ea_b9ba_34e6ad71bcferow33_col1\" class=\"data row33 col1\" >None</td>\n",
       "            </tr>\n",
       "            <tr>\n",
       "                        <th id=\"T_45fcaab6_a408_11ea_b9ba_34e6ad71bcfelevel0_row34\" class=\"row_heading level0 row34\" >34</th>\n",
       "                        <td id=\"T_45fcaab6_a408_11ea_b9ba_34e6ad71bcferow34_col0\" class=\"data row34 col0\" >Trignometry Features </td>\n",
       "                        <td id=\"T_45fcaab6_a408_11ea_b9ba_34e6ad71bcferow34_col1\" class=\"data row34 col1\" >False</td>\n",
       "            </tr>\n",
       "            <tr>\n",
       "                        <th id=\"T_45fcaab6_a408_11ea_b9ba_34e6ad71bcfelevel0_row35\" class=\"row_heading level0 row35\" >35</th>\n",
       "                        <td id=\"T_45fcaab6_a408_11ea_b9ba_34e6ad71bcferow35_col0\" class=\"data row35 col0\" >Polynomial Threshold </td>\n",
       "                        <td id=\"T_45fcaab6_a408_11ea_b9ba_34e6ad71bcferow35_col1\" class=\"data row35 col1\" >None</td>\n",
       "            </tr>\n",
       "            <tr>\n",
       "                        <th id=\"T_45fcaab6_a408_11ea_b9ba_34e6ad71bcfelevel0_row36\" class=\"row_heading level0 row36\" >36</th>\n",
       "                        <td id=\"T_45fcaab6_a408_11ea_b9ba_34e6ad71bcferow36_col0\" class=\"data row36 col0\" >Group Features </td>\n",
       "                        <td id=\"T_45fcaab6_a408_11ea_b9ba_34e6ad71bcferow36_col1\" class=\"data row36 col1\" >False</td>\n",
       "            </tr>\n",
       "            <tr>\n",
       "                        <th id=\"T_45fcaab6_a408_11ea_b9ba_34e6ad71bcfelevel0_row37\" class=\"row_heading level0 row37\" >37</th>\n",
       "                        <td id=\"T_45fcaab6_a408_11ea_b9ba_34e6ad71bcferow37_col0\" class=\"data row37 col0\" >Feature Selection </td>\n",
       "                        <td id=\"T_45fcaab6_a408_11ea_b9ba_34e6ad71bcferow37_col1\" class=\"data row37 col1\" >False</td>\n",
       "            </tr>\n",
       "            <tr>\n",
       "                        <th id=\"T_45fcaab6_a408_11ea_b9ba_34e6ad71bcfelevel0_row38\" class=\"row_heading level0 row38\" >38</th>\n",
       "                        <td id=\"T_45fcaab6_a408_11ea_b9ba_34e6ad71bcferow38_col0\" class=\"data row38 col0\" >Features Selection Threshold </td>\n",
       "                        <td id=\"T_45fcaab6_a408_11ea_b9ba_34e6ad71bcferow38_col1\" class=\"data row38 col1\" >None</td>\n",
       "            </tr>\n",
       "            <tr>\n",
       "                        <th id=\"T_45fcaab6_a408_11ea_b9ba_34e6ad71bcfelevel0_row39\" class=\"row_heading level0 row39\" >39</th>\n",
       "                        <td id=\"T_45fcaab6_a408_11ea_b9ba_34e6ad71bcferow39_col0\" class=\"data row39 col0\" >Feature Interaction </td>\n",
       "                        <td id=\"T_45fcaab6_a408_11ea_b9ba_34e6ad71bcferow39_col1\" class=\"data row39 col1\" >False</td>\n",
       "            </tr>\n",
       "            <tr>\n",
       "                        <th id=\"T_45fcaab6_a408_11ea_b9ba_34e6ad71bcfelevel0_row40\" class=\"row_heading level0 row40\" >40</th>\n",
       "                        <td id=\"T_45fcaab6_a408_11ea_b9ba_34e6ad71bcferow40_col0\" class=\"data row40 col0\" >Feature Ratio </td>\n",
       "                        <td id=\"T_45fcaab6_a408_11ea_b9ba_34e6ad71bcferow40_col1\" class=\"data row40 col1\" >False</td>\n",
       "            </tr>\n",
       "            <tr>\n",
       "                        <th id=\"T_45fcaab6_a408_11ea_b9ba_34e6ad71bcfelevel0_row41\" class=\"row_heading level0 row41\" >41</th>\n",
       "                        <td id=\"T_45fcaab6_a408_11ea_b9ba_34e6ad71bcferow41_col0\" class=\"data row41 col0\" >Interaction Threshold </td>\n",
       "                        <td id=\"T_45fcaab6_a408_11ea_b9ba_34e6ad71bcferow41_col1\" class=\"data row41 col1\" >None</td>\n",
       "            </tr>\n",
       "    </tbody></table>"
      ],
      "text/plain": [
       "<pandas.io.formats.style.Styler at 0x24ab26ea668>"
      ]
     },
     "metadata": {},
     "output_type": "display_data"
    }
   ],
   "source": [
    "from pycaret.regression import *\n",
    "env= setup(data = dummy_df, target = 'NetFare')"
   ]
  },
  {
   "cell_type": "markdown",
   "metadata": {},
   "source": [
    "## Modeling"
   ]
  },
  {
   "cell_type": "code",
   "execution_count": 122,
   "metadata": {},
   "outputs": [
    {
     "data": {
      "text/html": [
       "<style  type=\"text/css\" >\n",
       "    #T_f9cdbc7e_a444_11ea_8792_34e6ad71bcfe th {\n",
       "          text-align: left;\n",
       "    }    #T_f9cdbc7e_a444_11ea_8792_34e6ad71bcferow0_col0 {\n",
       "            text-align:  left;\n",
       "        }    #T_f9cdbc7e_a444_11ea_8792_34e6ad71bcferow0_col1 {\n",
       "            : ;\n",
       "            text-align:  left;\n",
       "        }    #T_f9cdbc7e_a444_11ea_8792_34e6ad71bcferow0_col2 {\n",
       "            : ;\n",
       "            text-align:  left;\n",
       "        }    #T_f9cdbc7e_a444_11ea_8792_34e6ad71bcferow0_col3 {\n",
       "            : ;\n",
       "            text-align:  left;\n",
       "        }    #T_f9cdbc7e_a444_11ea_8792_34e6ad71bcferow0_col4 {\n",
       "            text-align:  left;\n",
       "        }    #T_f9cdbc7e_a444_11ea_8792_34e6ad71bcferow0_col5 {\n",
       "            : ;\n",
       "            text-align:  left;\n",
       "        }    #T_f9cdbc7e_a444_11ea_8792_34e6ad71bcferow0_col6 {\n",
       "            : ;\n",
       "            text-align:  left;\n",
       "        }    #T_f9cdbc7e_a444_11ea_8792_34e6ad71bcferow1_col0 {\n",
       "            text-align:  left;\n",
       "        }    #T_f9cdbc7e_a444_11ea_8792_34e6ad71bcferow1_col1 {\n",
       "            : ;\n",
       "            text-align:  left;\n",
       "        }    #T_f9cdbc7e_a444_11ea_8792_34e6ad71bcferow1_col2 {\n",
       "            : ;\n",
       "            text-align:  left;\n",
       "        }    #T_f9cdbc7e_a444_11ea_8792_34e6ad71bcferow1_col3 {\n",
       "            : ;\n",
       "            text-align:  left;\n",
       "        }    #T_f9cdbc7e_a444_11ea_8792_34e6ad71bcferow1_col4 {\n",
       "            text-align:  left;\n",
       "        }    #T_f9cdbc7e_a444_11ea_8792_34e6ad71bcferow1_col5 {\n",
       "            : ;\n",
       "            text-align:  left;\n",
       "        }    #T_f9cdbc7e_a444_11ea_8792_34e6ad71bcferow1_col6 {\n",
       "            : ;\n",
       "            text-align:  left;\n",
       "        }    #T_f9cdbc7e_a444_11ea_8792_34e6ad71bcferow2_col0 {\n",
       "            text-align:  left;\n",
       "        }    #T_f9cdbc7e_a444_11ea_8792_34e6ad71bcferow2_col1 {\n",
       "            : ;\n",
       "            text-align:  left;\n",
       "        }    #T_f9cdbc7e_a444_11ea_8792_34e6ad71bcferow2_col2 {\n",
       "            background-color:  yellow;\n",
       "            text-align:  left;\n",
       "        }    #T_f9cdbc7e_a444_11ea_8792_34e6ad71bcferow2_col3 {\n",
       "            background-color:  yellow;\n",
       "            text-align:  left;\n",
       "        }    #T_f9cdbc7e_a444_11ea_8792_34e6ad71bcferow2_col4 {\n",
       "            text-align:  left;\n",
       "        }    #T_f9cdbc7e_a444_11ea_8792_34e6ad71bcferow2_col5 {\n",
       "            : ;\n",
       "            text-align:  left;\n",
       "        }    #T_f9cdbc7e_a444_11ea_8792_34e6ad71bcferow2_col6 {\n",
       "            : ;\n",
       "            text-align:  left;\n",
       "        }    #T_f9cdbc7e_a444_11ea_8792_34e6ad71bcferow3_col0 {\n",
       "            text-align:  left;\n",
       "        }    #T_f9cdbc7e_a444_11ea_8792_34e6ad71bcferow3_col1 {\n",
       "            : ;\n",
       "            text-align:  left;\n",
       "        }    #T_f9cdbc7e_a444_11ea_8792_34e6ad71bcferow3_col2 {\n",
       "            : ;\n",
       "            text-align:  left;\n",
       "        }    #T_f9cdbc7e_a444_11ea_8792_34e6ad71bcferow3_col3 {\n",
       "            : ;\n",
       "            text-align:  left;\n",
       "        }    #T_f9cdbc7e_a444_11ea_8792_34e6ad71bcferow3_col4 {\n",
       "            text-align:  left;\n",
       "        }    #T_f9cdbc7e_a444_11ea_8792_34e6ad71bcferow3_col5 {\n",
       "            : ;\n",
       "            text-align:  left;\n",
       "        }    #T_f9cdbc7e_a444_11ea_8792_34e6ad71bcferow3_col6 {\n",
       "            : ;\n",
       "            text-align:  left;\n",
       "        }    #T_f9cdbc7e_a444_11ea_8792_34e6ad71bcferow4_col0 {\n",
       "            text-align:  left;\n",
       "        }    #T_f9cdbc7e_a444_11ea_8792_34e6ad71bcferow4_col1 {\n",
       "            : ;\n",
       "            text-align:  left;\n",
       "        }    #T_f9cdbc7e_a444_11ea_8792_34e6ad71bcferow4_col2 {\n",
       "            : ;\n",
       "            text-align:  left;\n",
       "        }    #T_f9cdbc7e_a444_11ea_8792_34e6ad71bcferow4_col3 {\n",
       "            : ;\n",
       "            text-align:  left;\n",
       "        }    #T_f9cdbc7e_a444_11ea_8792_34e6ad71bcferow4_col4 {\n",
       "            text-align:  left;\n",
       "        }    #T_f9cdbc7e_a444_11ea_8792_34e6ad71bcferow4_col5 {\n",
       "            : ;\n",
       "            text-align:  left;\n",
       "        }    #T_f9cdbc7e_a444_11ea_8792_34e6ad71bcferow4_col6 {\n",
       "            : ;\n",
       "            text-align:  left;\n",
       "        }    #T_f9cdbc7e_a444_11ea_8792_34e6ad71bcferow5_col0 {\n",
       "            text-align:  left;\n",
       "        }    #T_f9cdbc7e_a444_11ea_8792_34e6ad71bcferow5_col1 {\n",
       "            : ;\n",
       "            text-align:  left;\n",
       "        }    #T_f9cdbc7e_a444_11ea_8792_34e6ad71bcferow5_col2 {\n",
       "            : ;\n",
       "            text-align:  left;\n",
       "        }    #T_f9cdbc7e_a444_11ea_8792_34e6ad71bcferow5_col3 {\n",
       "            : ;\n",
       "            text-align:  left;\n",
       "        }    #T_f9cdbc7e_a444_11ea_8792_34e6ad71bcferow5_col4 {\n",
       "            text-align:  left;\n",
       "        }    #T_f9cdbc7e_a444_11ea_8792_34e6ad71bcferow5_col5 {\n",
       "            : ;\n",
       "            text-align:  left;\n",
       "        }    #T_f9cdbc7e_a444_11ea_8792_34e6ad71bcferow5_col6 {\n",
       "            : ;\n",
       "            text-align:  left;\n",
       "        }    #T_f9cdbc7e_a444_11ea_8792_34e6ad71bcferow6_col0 {\n",
       "            text-align:  left;\n",
       "        }    #T_f9cdbc7e_a444_11ea_8792_34e6ad71bcferow6_col1 {\n",
       "            : ;\n",
       "            text-align:  left;\n",
       "        }    #T_f9cdbc7e_a444_11ea_8792_34e6ad71bcferow6_col2 {\n",
       "            : ;\n",
       "            text-align:  left;\n",
       "        }    #T_f9cdbc7e_a444_11ea_8792_34e6ad71bcferow6_col3 {\n",
       "            : ;\n",
       "            text-align:  left;\n",
       "        }    #T_f9cdbc7e_a444_11ea_8792_34e6ad71bcferow6_col4 {\n",
       "            text-align:  left;\n",
       "        }    #T_f9cdbc7e_a444_11ea_8792_34e6ad71bcferow6_col5 {\n",
       "            : ;\n",
       "            text-align:  left;\n",
       "        }    #T_f9cdbc7e_a444_11ea_8792_34e6ad71bcferow6_col6 {\n",
       "            : ;\n",
       "            text-align:  left;\n",
       "        }    #T_f9cdbc7e_a444_11ea_8792_34e6ad71bcferow7_col0 {\n",
       "            text-align:  left;\n",
       "        }    #T_f9cdbc7e_a444_11ea_8792_34e6ad71bcferow7_col1 {\n",
       "            : ;\n",
       "            text-align:  left;\n",
       "        }    #T_f9cdbc7e_a444_11ea_8792_34e6ad71bcferow7_col2 {\n",
       "            : ;\n",
       "            text-align:  left;\n",
       "        }    #T_f9cdbc7e_a444_11ea_8792_34e6ad71bcferow7_col3 {\n",
       "            : ;\n",
       "            text-align:  left;\n",
       "        }    #T_f9cdbc7e_a444_11ea_8792_34e6ad71bcferow7_col4 {\n",
       "            text-align:  left;\n",
       "        }    #T_f9cdbc7e_a444_11ea_8792_34e6ad71bcferow7_col5 {\n",
       "            : ;\n",
       "            text-align:  left;\n",
       "        }    #T_f9cdbc7e_a444_11ea_8792_34e6ad71bcferow7_col6 {\n",
       "            : ;\n",
       "            text-align:  left;\n",
       "        }    #T_f9cdbc7e_a444_11ea_8792_34e6ad71bcferow8_col0 {\n",
       "            text-align:  left;\n",
       "        }    #T_f9cdbc7e_a444_11ea_8792_34e6ad71bcferow8_col1 {\n",
       "            : ;\n",
       "            text-align:  left;\n",
       "        }    #T_f9cdbc7e_a444_11ea_8792_34e6ad71bcferow8_col2 {\n",
       "            : ;\n",
       "            text-align:  left;\n",
       "        }    #T_f9cdbc7e_a444_11ea_8792_34e6ad71bcferow8_col3 {\n",
       "            : ;\n",
       "            text-align:  left;\n",
       "        }    #T_f9cdbc7e_a444_11ea_8792_34e6ad71bcferow8_col4 {\n",
       "            text-align:  left;\n",
       "        }    #T_f9cdbc7e_a444_11ea_8792_34e6ad71bcferow8_col5 {\n",
       "            : ;\n",
       "            text-align:  left;\n",
       "        }    #T_f9cdbc7e_a444_11ea_8792_34e6ad71bcferow8_col6 {\n",
       "            : ;\n",
       "            text-align:  left;\n",
       "        }    #T_f9cdbc7e_a444_11ea_8792_34e6ad71bcferow9_col0 {\n",
       "            text-align:  left;\n",
       "        }    #T_f9cdbc7e_a444_11ea_8792_34e6ad71bcferow9_col1 {\n",
       "            : ;\n",
       "            text-align:  left;\n",
       "        }    #T_f9cdbc7e_a444_11ea_8792_34e6ad71bcferow9_col2 {\n",
       "            : ;\n",
       "            text-align:  left;\n",
       "        }    #T_f9cdbc7e_a444_11ea_8792_34e6ad71bcferow9_col3 {\n",
       "            : ;\n",
       "            text-align:  left;\n",
       "        }    #T_f9cdbc7e_a444_11ea_8792_34e6ad71bcferow9_col4 {\n",
       "            text-align:  left;\n",
       "        }    #T_f9cdbc7e_a444_11ea_8792_34e6ad71bcferow9_col5 {\n",
       "            : ;\n",
       "            text-align:  left;\n",
       "        }    #T_f9cdbc7e_a444_11ea_8792_34e6ad71bcferow9_col6 {\n",
       "            : ;\n",
       "            text-align:  left;\n",
       "        }    #T_f9cdbc7e_a444_11ea_8792_34e6ad71bcferow10_col0 {\n",
       "            text-align:  left;\n",
       "        }    #T_f9cdbc7e_a444_11ea_8792_34e6ad71bcferow10_col1 {\n",
       "            : ;\n",
       "            text-align:  left;\n",
       "        }    #T_f9cdbc7e_a444_11ea_8792_34e6ad71bcferow10_col2 {\n",
       "            : ;\n",
       "            text-align:  left;\n",
       "        }    #T_f9cdbc7e_a444_11ea_8792_34e6ad71bcferow10_col3 {\n",
       "            : ;\n",
       "            text-align:  left;\n",
       "        }    #T_f9cdbc7e_a444_11ea_8792_34e6ad71bcferow10_col4 {\n",
       "            text-align:  left;\n",
       "        }    #T_f9cdbc7e_a444_11ea_8792_34e6ad71bcferow10_col5 {\n",
       "            : ;\n",
       "            text-align:  left;\n",
       "        }    #T_f9cdbc7e_a444_11ea_8792_34e6ad71bcferow10_col6 {\n",
       "            : ;\n",
       "            text-align:  left;\n",
       "        }    #T_f9cdbc7e_a444_11ea_8792_34e6ad71bcferow11_col0 {\n",
       "            text-align:  left;\n",
       "        }    #T_f9cdbc7e_a444_11ea_8792_34e6ad71bcferow11_col1 {\n",
       "            : ;\n",
       "            text-align:  left;\n",
       "        }    #T_f9cdbc7e_a444_11ea_8792_34e6ad71bcferow11_col2 {\n",
       "            : ;\n",
       "            text-align:  left;\n",
       "        }    #T_f9cdbc7e_a444_11ea_8792_34e6ad71bcferow11_col3 {\n",
       "            : ;\n",
       "            text-align:  left;\n",
       "        }    #T_f9cdbc7e_a444_11ea_8792_34e6ad71bcferow11_col4 {\n",
       "            text-align:  left;\n",
       "        }    #T_f9cdbc7e_a444_11ea_8792_34e6ad71bcferow11_col5 {\n",
       "            : ;\n",
       "            text-align:  left;\n",
       "        }    #T_f9cdbc7e_a444_11ea_8792_34e6ad71bcferow11_col6 {\n",
       "            : ;\n",
       "            text-align:  left;\n",
       "        }    #T_f9cdbc7e_a444_11ea_8792_34e6ad71bcferow12_col0 {\n",
       "            text-align:  left;\n",
       "        }    #T_f9cdbc7e_a444_11ea_8792_34e6ad71bcferow12_col1 {\n",
       "            : ;\n",
       "            text-align:  left;\n",
       "        }    #T_f9cdbc7e_a444_11ea_8792_34e6ad71bcferow12_col2 {\n",
       "            : ;\n",
       "            text-align:  left;\n",
       "        }    #T_f9cdbc7e_a444_11ea_8792_34e6ad71bcferow12_col3 {\n",
       "            : ;\n",
       "            text-align:  left;\n",
       "        }    #T_f9cdbc7e_a444_11ea_8792_34e6ad71bcferow12_col4 {\n",
       "            text-align:  left;\n",
       "        }    #T_f9cdbc7e_a444_11ea_8792_34e6ad71bcferow12_col5 {\n",
       "            : ;\n",
       "            text-align:  left;\n",
       "        }    #T_f9cdbc7e_a444_11ea_8792_34e6ad71bcferow12_col6 {\n",
       "            : ;\n",
       "            text-align:  left;\n",
       "        }    #T_f9cdbc7e_a444_11ea_8792_34e6ad71bcferow13_col0 {\n",
       "            text-align:  left;\n",
       "        }    #T_f9cdbc7e_a444_11ea_8792_34e6ad71bcferow13_col1 {\n",
       "            background-color:  yellow;\n",
       "            text-align:  left;\n",
       "        }    #T_f9cdbc7e_a444_11ea_8792_34e6ad71bcferow13_col2 {\n",
       "            : ;\n",
       "            text-align:  left;\n",
       "        }    #T_f9cdbc7e_a444_11ea_8792_34e6ad71bcferow13_col3 {\n",
       "            : ;\n",
       "            text-align:  left;\n",
       "        }    #T_f9cdbc7e_a444_11ea_8792_34e6ad71bcferow13_col4 {\n",
       "            text-align:  left;\n",
       "        }    #T_f9cdbc7e_a444_11ea_8792_34e6ad71bcferow13_col5 {\n",
       "            : ;\n",
       "            text-align:  left;\n",
       "        }    #T_f9cdbc7e_a444_11ea_8792_34e6ad71bcferow13_col6 {\n",
       "            : ;\n",
       "            text-align:  left;\n",
       "        }    #T_f9cdbc7e_a444_11ea_8792_34e6ad71bcferow14_col0 {\n",
       "            text-align:  left;\n",
       "        }    #T_f9cdbc7e_a444_11ea_8792_34e6ad71bcferow14_col1 {\n",
       "            : ;\n",
       "            text-align:  left;\n",
       "        }    #T_f9cdbc7e_a444_11ea_8792_34e6ad71bcferow14_col2 {\n",
       "            : ;\n",
       "            text-align:  left;\n",
       "        }    #T_f9cdbc7e_a444_11ea_8792_34e6ad71bcferow14_col3 {\n",
       "            : ;\n",
       "            text-align:  left;\n",
       "        }    #T_f9cdbc7e_a444_11ea_8792_34e6ad71bcferow14_col4 {\n",
       "            text-align:  left;\n",
       "        }    #T_f9cdbc7e_a444_11ea_8792_34e6ad71bcferow14_col5 {\n",
       "            background-color:  yellow;\n",
       "            text-align:  left;\n",
       "        }    #T_f9cdbc7e_a444_11ea_8792_34e6ad71bcferow14_col6 {\n",
       "            background-color:  yellow;\n",
       "            text-align:  left;\n",
       "        }    #T_f9cdbc7e_a444_11ea_8792_34e6ad71bcferow15_col0 {\n",
       "            text-align:  left;\n",
       "        }    #T_f9cdbc7e_a444_11ea_8792_34e6ad71bcferow15_col1 {\n",
       "            : ;\n",
       "            text-align:  left;\n",
       "        }    #T_f9cdbc7e_a444_11ea_8792_34e6ad71bcferow15_col2 {\n",
       "            : ;\n",
       "            text-align:  left;\n",
       "        }    #T_f9cdbc7e_a444_11ea_8792_34e6ad71bcferow15_col3 {\n",
       "            : ;\n",
       "            text-align:  left;\n",
       "        }    #T_f9cdbc7e_a444_11ea_8792_34e6ad71bcferow15_col4 {\n",
       "            text-align:  left;\n",
       "        }    #T_f9cdbc7e_a444_11ea_8792_34e6ad71bcferow15_col5 {\n",
       "            : ;\n",
       "            text-align:  left;\n",
       "        }    #T_f9cdbc7e_a444_11ea_8792_34e6ad71bcferow15_col6 {\n",
       "            : ;\n",
       "            text-align:  left;\n",
       "        }    #T_f9cdbc7e_a444_11ea_8792_34e6ad71bcferow16_col0 {\n",
       "            text-align:  left;\n",
       "        }    #T_f9cdbc7e_a444_11ea_8792_34e6ad71bcferow16_col1 {\n",
       "            : ;\n",
       "            text-align:  left;\n",
       "        }    #T_f9cdbc7e_a444_11ea_8792_34e6ad71bcferow16_col2 {\n",
       "            : ;\n",
       "            text-align:  left;\n",
       "        }    #T_f9cdbc7e_a444_11ea_8792_34e6ad71bcferow16_col3 {\n",
       "            : ;\n",
       "            text-align:  left;\n",
       "        }    #T_f9cdbc7e_a444_11ea_8792_34e6ad71bcferow16_col4 {\n",
       "            text-align:  left;\n",
       "        }    #T_f9cdbc7e_a444_11ea_8792_34e6ad71bcferow16_col5 {\n",
       "            : ;\n",
       "            text-align:  left;\n",
       "        }    #T_f9cdbc7e_a444_11ea_8792_34e6ad71bcferow16_col6 {\n",
       "            : ;\n",
       "            text-align:  left;\n",
       "        }    #T_f9cdbc7e_a444_11ea_8792_34e6ad71bcferow17_col0 {\n",
       "            text-align:  left;\n",
       "        }    #T_f9cdbc7e_a444_11ea_8792_34e6ad71bcferow17_col1 {\n",
       "            : ;\n",
       "            text-align:  left;\n",
       "        }    #T_f9cdbc7e_a444_11ea_8792_34e6ad71bcferow17_col2 {\n",
       "            : ;\n",
       "            text-align:  left;\n",
       "        }    #T_f9cdbc7e_a444_11ea_8792_34e6ad71bcferow17_col3 {\n",
       "            : ;\n",
       "            text-align:  left;\n",
       "        }    #T_f9cdbc7e_a444_11ea_8792_34e6ad71bcferow17_col4 {\n",
       "            text-align:  left;\n",
       "        }    #T_f9cdbc7e_a444_11ea_8792_34e6ad71bcferow17_col5 {\n",
       "            : ;\n",
       "            text-align:  left;\n",
       "        }    #T_f9cdbc7e_a444_11ea_8792_34e6ad71bcferow17_col6 {\n",
       "            : ;\n",
       "            text-align:  left;\n",
       "        }    #T_f9cdbc7e_a444_11ea_8792_34e6ad71bcferow18_col0 {\n",
       "            text-align:  left;\n",
       "        }    #T_f9cdbc7e_a444_11ea_8792_34e6ad71bcferow18_col1 {\n",
       "            : ;\n",
       "            text-align:  left;\n",
       "        }    #T_f9cdbc7e_a444_11ea_8792_34e6ad71bcferow18_col2 {\n",
       "            : ;\n",
       "            text-align:  left;\n",
       "        }    #T_f9cdbc7e_a444_11ea_8792_34e6ad71bcferow18_col3 {\n",
       "            : ;\n",
       "            text-align:  left;\n",
       "        }    #T_f9cdbc7e_a444_11ea_8792_34e6ad71bcferow18_col4 {\n",
       "            text-align:  left;\n",
       "        }    #T_f9cdbc7e_a444_11ea_8792_34e6ad71bcferow18_col5 {\n",
       "            : ;\n",
       "            text-align:  left;\n",
       "        }    #T_f9cdbc7e_a444_11ea_8792_34e6ad71bcferow18_col6 {\n",
       "            : ;\n",
       "            text-align:  left;\n",
       "        }    #T_f9cdbc7e_a444_11ea_8792_34e6ad71bcferow19_col0 {\n",
       "            text-align:  left;\n",
       "        }    #T_f9cdbc7e_a444_11ea_8792_34e6ad71bcferow19_col1 {\n",
       "            : ;\n",
       "            text-align:  left;\n",
       "        }    #T_f9cdbc7e_a444_11ea_8792_34e6ad71bcferow19_col2 {\n",
       "            : ;\n",
       "            text-align:  left;\n",
       "        }    #T_f9cdbc7e_a444_11ea_8792_34e6ad71bcferow19_col3 {\n",
       "            : ;\n",
       "            text-align:  left;\n",
       "        }    #T_f9cdbc7e_a444_11ea_8792_34e6ad71bcferow19_col4 {\n",
       "            text-align:  left;\n",
       "        }    #T_f9cdbc7e_a444_11ea_8792_34e6ad71bcferow19_col5 {\n",
       "            : ;\n",
       "            text-align:  left;\n",
       "        }    #T_f9cdbc7e_a444_11ea_8792_34e6ad71bcferow19_col6 {\n",
       "            : ;\n",
       "            text-align:  left;\n",
       "        }    #T_f9cdbc7e_a444_11ea_8792_34e6ad71bcferow20_col0 {\n",
       "            text-align:  left;\n",
       "        }    #T_f9cdbc7e_a444_11ea_8792_34e6ad71bcferow20_col1 {\n",
       "            : ;\n",
       "            text-align:  left;\n",
       "        }    #T_f9cdbc7e_a444_11ea_8792_34e6ad71bcferow20_col2 {\n",
       "            : ;\n",
       "            text-align:  left;\n",
       "        }    #T_f9cdbc7e_a444_11ea_8792_34e6ad71bcferow20_col3 {\n",
       "            : ;\n",
       "            text-align:  left;\n",
       "        }    #T_f9cdbc7e_a444_11ea_8792_34e6ad71bcferow20_col4 {\n",
       "            text-align:  left;\n",
       "        }    #T_f9cdbc7e_a444_11ea_8792_34e6ad71bcferow20_col5 {\n",
       "            : ;\n",
       "            text-align:  left;\n",
       "        }    #T_f9cdbc7e_a444_11ea_8792_34e6ad71bcferow20_col6 {\n",
       "            : ;\n",
       "            text-align:  left;\n",
       "        }    #T_f9cdbc7e_a444_11ea_8792_34e6ad71bcferow21_col0 {\n",
       "            text-align:  left;\n",
       "        }    #T_f9cdbc7e_a444_11ea_8792_34e6ad71bcferow21_col1 {\n",
       "            : ;\n",
       "            text-align:  left;\n",
       "        }    #T_f9cdbc7e_a444_11ea_8792_34e6ad71bcferow21_col2 {\n",
       "            : ;\n",
       "            text-align:  left;\n",
       "        }    #T_f9cdbc7e_a444_11ea_8792_34e6ad71bcferow21_col3 {\n",
       "            : ;\n",
       "            text-align:  left;\n",
       "        }    #T_f9cdbc7e_a444_11ea_8792_34e6ad71bcferow21_col4 {\n",
       "            text-align:  left;\n",
       "        }    #T_f9cdbc7e_a444_11ea_8792_34e6ad71bcferow21_col5 {\n",
       "            : ;\n",
       "            text-align:  left;\n",
       "        }    #T_f9cdbc7e_a444_11ea_8792_34e6ad71bcferow21_col6 {\n",
       "            : ;\n",
       "            text-align:  left;\n",
       "        }</style><table id=\"T_f9cdbc7e_a444_11ea_8792_34e6ad71bcfe\" ><thead>    <tr>        <th class=\"blank level0\" ></th>        <th class=\"col_heading level0 col0\" >Model</th>        <th class=\"col_heading level0 col1\" >MAE</th>        <th class=\"col_heading level0 col2\" >MSE</th>        <th class=\"col_heading level0 col3\" >RMSE</th>        <th class=\"col_heading level0 col4\" >R2</th>        <th class=\"col_heading level0 col5\" >RMSLE</th>        <th class=\"col_heading level0 col6\" >MAPE</th>    </tr></thead><tbody>\n",
       "                <tr>\n",
       "                        <th id=\"T_f9cdbc7e_a444_11ea_8792_34e6ad71bcfelevel0_row0\" class=\"row_heading level0 row0\" >0</th>\n",
       "                        <td id=\"T_f9cdbc7e_a444_11ea_8792_34e6ad71bcferow0_col0\" class=\"data row0 col0\" >Decision Tree</td>\n",
       "                        <td id=\"T_f9cdbc7e_a444_11ea_8792_34e6ad71bcferow0_col1\" class=\"data row0 col1\" >1859.488900</td>\n",
       "                        <td id=\"T_f9cdbc7e_a444_11ea_8792_34e6ad71bcferow0_col2\" class=\"data row0 col2\" >6336777.874100</td>\n",
       "                        <td id=\"T_f9cdbc7e_a444_11ea_8792_34e6ad71bcferow0_col3\" class=\"data row0 col3\" >2517.213200</td>\n",
       "                        <td id=\"T_f9cdbc7e_a444_11ea_8792_34e6ad71bcferow0_col4\" class=\"data row0 col4\" >0.308600</td>\n",
       "                        <td id=\"T_f9cdbc7e_a444_11ea_8792_34e6ad71bcferow0_col5\" class=\"data row0 col5\" >1.206600</td>\n",
       "                        <td id=\"T_f9cdbc7e_a444_11ea_8792_34e6ad71bcferow0_col6\" class=\"data row0 col6\" >3.263300</td>\n",
       "            </tr>\n",
       "            <tr>\n",
       "                        <th id=\"T_f9cdbc7e_a444_11ea_8792_34e6ad71bcfelevel0_row1\" class=\"row_heading level0 row1\" >1</th>\n",
       "                        <td id=\"T_f9cdbc7e_a444_11ea_8792_34e6ad71bcferow1_col0\" class=\"data row1 col0\" >Random Forest</td>\n",
       "                        <td id=\"T_f9cdbc7e_a444_11ea_8792_34e6ad71bcferow1_col1\" class=\"data row1 col1\" >1859.518900</td>\n",
       "                        <td id=\"T_f9cdbc7e_a444_11ea_8792_34e6ad71bcferow1_col2\" class=\"data row1 col2\" >6336806.959300</td>\n",
       "                        <td id=\"T_f9cdbc7e_a444_11ea_8792_34e6ad71bcferow1_col3\" class=\"data row1 col3\" >2517.219000</td>\n",
       "                        <td id=\"T_f9cdbc7e_a444_11ea_8792_34e6ad71bcferow1_col4\" class=\"data row1 col4\" >0.308600</td>\n",
       "                        <td id=\"T_f9cdbc7e_a444_11ea_8792_34e6ad71bcferow1_col5\" class=\"data row1 col5\" >1.206800</td>\n",
       "                        <td id=\"T_f9cdbc7e_a444_11ea_8792_34e6ad71bcferow1_col6\" class=\"data row1 col6\" >3.259400</td>\n",
       "            </tr>\n",
       "            <tr>\n",
       "                        <th id=\"T_f9cdbc7e_a444_11ea_8792_34e6ad71bcfelevel0_row2\" class=\"row_heading level0 row2\" >2</th>\n",
       "                        <td id=\"T_f9cdbc7e_a444_11ea_8792_34e6ad71bcferow2_col0\" class=\"data row2 col0\" >CatBoost Regressor</td>\n",
       "                        <td id=\"T_f9cdbc7e_a444_11ea_8792_34e6ad71bcferow2_col1\" class=\"data row2 col1\" >1859.488100</td>\n",
       "                        <td id=\"T_f9cdbc7e_a444_11ea_8792_34e6ad71bcferow2_col2\" class=\"data row2 col2\" >6336776.105900</td>\n",
       "                        <td id=\"T_f9cdbc7e_a444_11ea_8792_34e6ad71bcferow2_col3\" class=\"data row2 col3\" >2517.212800</td>\n",
       "                        <td id=\"T_f9cdbc7e_a444_11ea_8792_34e6ad71bcferow2_col4\" class=\"data row2 col4\" >0.308600</td>\n",
       "                        <td id=\"T_f9cdbc7e_a444_11ea_8792_34e6ad71bcferow2_col5\" class=\"data row2 col5\" >1.206700</td>\n",
       "                        <td id=\"T_f9cdbc7e_a444_11ea_8792_34e6ad71bcferow2_col6\" class=\"data row2 col6\" >3.263300</td>\n",
       "            </tr>\n",
       "            <tr>\n",
       "                        <th id=\"T_f9cdbc7e_a444_11ea_8792_34e6ad71bcfelevel0_row3\" class=\"row_heading level0 row3\" >3</th>\n",
       "                        <td id=\"T_f9cdbc7e_a444_11ea_8792_34e6ad71bcferow3_col0\" class=\"data row3 col0\" >Extra Trees Regressor</td>\n",
       "                        <td id=\"T_f9cdbc7e_a444_11ea_8792_34e6ad71bcferow3_col1\" class=\"data row3 col1\" >1859.488900</td>\n",
       "                        <td id=\"T_f9cdbc7e_a444_11ea_8792_34e6ad71bcferow3_col2\" class=\"data row3 col2\" >6336777.874100</td>\n",
       "                        <td id=\"T_f9cdbc7e_a444_11ea_8792_34e6ad71bcferow3_col3\" class=\"data row3 col3\" >2517.213200</td>\n",
       "                        <td id=\"T_f9cdbc7e_a444_11ea_8792_34e6ad71bcferow3_col4\" class=\"data row3 col4\" >0.308600</td>\n",
       "                        <td id=\"T_f9cdbc7e_a444_11ea_8792_34e6ad71bcferow3_col5\" class=\"data row3 col5\" >1.206600</td>\n",
       "                        <td id=\"T_f9cdbc7e_a444_11ea_8792_34e6ad71bcferow3_col6\" class=\"data row3 col6\" >3.263300</td>\n",
       "            </tr>\n",
       "            <tr>\n",
       "                        <th id=\"T_f9cdbc7e_a444_11ea_8792_34e6ad71bcfelevel0_row4\" class=\"row_heading level0 row4\" >4</th>\n",
       "                        <td id=\"T_f9cdbc7e_a444_11ea_8792_34e6ad71bcferow4_col0\" class=\"data row4 col0\" >Extreme Gradient Boosting</td>\n",
       "                        <td id=\"T_f9cdbc7e_a444_11ea_8792_34e6ad71bcferow4_col1\" class=\"data row4 col1\" >1860.929000</td>\n",
       "                        <td id=\"T_f9cdbc7e_a444_11ea_8792_34e6ad71bcferow4_col2\" class=\"data row4 col2\" >6338040.898000</td>\n",
       "                        <td id=\"T_f9cdbc7e_a444_11ea_8792_34e6ad71bcferow4_col3\" class=\"data row4 col3\" >2517.464200</td>\n",
       "                        <td id=\"T_f9cdbc7e_a444_11ea_8792_34e6ad71bcferow4_col4\" class=\"data row4 col4\" >0.308500</td>\n",
       "                        <td id=\"T_f9cdbc7e_a444_11ea_8792_34e6ad71bcferow4_col5\" class=\"data row4 col5\" >1.239100</td>\n",
       "                        <td id=\"T_f9cdbc7e_a444_11ea_8792_34e6ad71bcferow4_col6\" class=\"data row4 col6\" >3.479100</td>\n",
       "            </tr>\n",
       "            <tr>\n",
       "                        <th id=\"T_f9cdbc7e_a444_11ea_8792_34e6ad71bcfelevel0_row5\" class=\"row_heading level0 row5\" >5</th>\n",
       "                        <td id=\"T_f9cdbc7e_a444_11ea_8792_34e6ad71bcferow5_col0\" class=\"data row5 col0\" >Gradient Boosting Regressor</td>\n",
       "                        <td id=\"T_f9cdbc7e_a444_11ea_8792_34e6ad71bcferow5_col1\" class=\"data row5 col1\" >1860.688000</td>\n",
       "                        <td id=\"T_f9cdbc7e_a444_11ea_8792_34e6ad71bcferow5_col2\" class=\"data row5 col2\" >6337701.352100</td>\n",
       "                        <td id=\"T_f9cdbc7e_a444_11ea_8792_34e6ad71bcferow5_col3\" class=\"data row5 col3\" >2517.396800</td>\n",
       "                        <td id=\"T_f9cdbc7e_a444_11ea_8792_34e6ad71bcferow5_col4\" class=\"data row5 col4\" >0.308500</td>\n",
       "                        <td id=\"T_f9cdbc7e_a444_11ea_8792_34e6ad71bcferow5_col5\" class=\"data row5 col5\" >1.237900</td>\n",
       "                        <td id=\"T_f9cdbc7e_a444_11ea_8792_34e6ad71bcferow5_col6\" class=\"data row5 col6\" >3.459500</td>\n",
       "            </tr>\n",
       "            <tr>\n",
       "                        <th id=\"T_f9cdbc7e_a444_11ea_8792_34e6ad71bcfelevel0_row6\" class=\"row_heading level0 row6\" >6</th>\n",
       "                        <td id=\"T_f9cdbc7e_a444_11ea_8792_34e6ad71bcferow6_col0\" class=\"data row6 col0\" >Light Gradient Boosting Machine</td>\n",
       "                        <td id=\"T_f9cdbc7e_a444_11ea_8792_34e6ad71bcferow6_col1\" class=\"data row6 col1\" >1860.717500</td>\n",
       "                        <td id=\"T_f9cdbc7e_a444_11ea_8792_34e6ad71bcferow6_col2\" class=\"data row6 col2\" >6344457.797500</td>\n",
       "                        <td id=\"T_f9cdbc7e_a444_11ea_8792_34e6ad71bcferow6_col3\" class=\"data row6 col3\" >2518.736600</td>\n",
       "                        <td id=\"T_f9cdbc7e_a444_11ea_8792_34e6ad71bcferow6_col4\" class=\"data row6 col4\" >0.307800</td>\n",
       "                        <td id=\"T_f9cdbc7e_a444_11ea_8792_34e6ad71bcferow6_col5\" class=\"data row6 col5\" >1.209000</td>\n",
       "                        <td id=\"T_f9cdbc7e_a444_11ea_8792_34e6ad71bcferow6_col6\" class=\"data row6 col6\" >3.261200</td>\n",
       "            </tr>\n",
       "            <tr>\n",
       "                        <th id=\"T_f9cdbc7e_a444_11ea_8792_34e6ad71bcfelevel0_row7\" class=\"row_heading level0 row7\" >7</th>\n",
       "                        <td id=\"T_f9cdbc7e_a444_11ea_8792_34e6ad71bcferow7_col0\" class=\"data row7 col0\" >Bayesian Ridge</td>\n",
       "                        <td id=\"T_f9cdbc7e_a444_11ea_8792_34e6ad71bcferow7_col1\" class=\"data row7 col1\" >1868.572500</td>\n",
       "                        <td id=\"T_f9cdbc7e_a444_11ea_8792_34e6ad71bcferow7_col2\" class=\"data row7 col2\" >6350502.379900</td>\n",
       "                        <td id=\"T_f9cdbc7e_a444_11ea_8792_34e6ad71bcferow7_col3\" class=\"data row7 col3\" >2519.939000</td>\n",
       "                        <td id=\"T_f9cdbc7e_a444_11ea_8792_34e6ad71bcferow7_col4\" class=\"data row7 col4\" >0.307100</td>\n",
       "                        <td id=\"T_f9cdbc7e_a444_11ea_8792_34e6ad71bcferow7_col5\" class=\"data row7 col5\" >1.207400</td>\n",
       "                        <td id=\"T_f9cdbc7e_a444_11ea_8792_34e6ad71bcferow7_col6\" class=\"data row7 col6\" >3.013900</td>\n",
       "            </tr>\n",
       "            <tr>\n",
       "                        <th id=\"T_f9cdbc7e_a444_11ea_8792_34e6ad71bcfelevel0_row8\" class=\"row_heading level0 row8\" >8</th>\n",
       "                        <td id=\"T_f9cdbc7e_a444_11ea_8792_34e6ad71bcferow8_col0\" class=\"data row8 col0\" >Linear Regression</td>\n",
       "                        <td id=\"T_f9cdbc7e_a444_11ea_8792_34e6ad71bcferow8_col1\" class=\"data row8 col1\" >1868.607700</td>\n",
       "                        <td id=\"T_f9cdbc7e_a444_11ea_8792_34e6ad71bcferow8_col2\" class=\"data row8 col2\" >6350486.760600</td>\n",
       "                        <td id=\"T_f9cdbc7e_a444_11ea_8792_34e6ad71bcferow8_col3\" class=\"data row8 col3\" >2519.935800</td>\n",
       "                        <td id=\"T_f9cdbc7e_a444_11ea_8792_34e6ad71bcferow8_col4\" class=\"data row8 col4\" >0.307100</td>\n",
       "                        <td id=\"T_f9cdbc7e_a444_11ea_8792_34e6ad71bcferow8_col5\" class=\"data row8 col5\" >1.207900</td>\n",
       "                        <td id=\"T_f9cdbc7e_a444_11ea_8792_34e6ad71bcferow8_col6\" class=\"data row8 col6\" >3.012000</td>\n",
       "            </tr>\n",
       "            <tr>\n",
       "                        <th id=\"T_f9cdbc7e_a444_11ea_8792_34e6ad71bcfelevel0_row9\" class=\"row_heading level0 row9\" >9</th>\n",
       "                        <td id=\"T_f9cdbc7e_a444_11ea_8792_34e6ad71bcferow9_col0\" class=\"data row9 col0\" >Ridge Regression</td>\n",
       "                        <td id=\"T_f9cdbc7e_a444_11ea_8792_34e6ad71bcferow9_col1\" class=\"data row9 col1\" >1868.528500</td>\n",
       "                        <td id=\"T_f9cdbc7e_a444_11ea_8792_34e6ad71bcferow9_col2\" class=\"data row9 col2\" >6350716.571200</td>\n",
       "                        <td id=\"T_f9cdbc7e_a444_11ea_8792_34e6ad71bcferow9_col3\" class=\"data row9 col3\" >2519.981500</td>\n",
       "                        <td id=\"T_f9cdbc7e_a444_11ea_8792_34e6ad71bcferow9_col4\" class=\"data row9 col4\" >0.307100</td>\n",
       "                        <td id=\"T_f9cdbc7e_a444_11ea_8792_34e6ad71bcferow9_col5\" class=\"data row9 col5\" >1.206500</td>\n",
       "                        <td id=\"T_f9cdbc7e_a444_11ea_8792_34e6ad71bcferow9_col6\" class=\"data row9 col6\" >3.020500</td>\n",
       "            </tr>\n",
       "            <tr>\n",
       "                        <th id=\"T_f9cdbc7e_a444_11ea_8792_34e6ad71bcfelevel0_row10\" class=\"row_heading level0 row10\" >10</th>\n",
       "                        <td id=\"T_f9cdbc7e_a444_11ea_8792_34e6ad71bcferow10_col0\" class=\"data row10 col0\" >Least Angle Regression</td>\n",
       "                        <td id=\"T_f9cdbc7e_a444_11ea_8792_34e6ad71bcferow10_col1\" class=\"data row10 col1\" >1868.607700</td>\n",
       "                        <td id=\"T_f9cdbc7e_a444_11ea_8792_34e6ad71bcferow10_col2\" class=\"data row10 col2\" >6350486.760600</td>\n",
       "                        <td id=\"T_f9cdbc7e_a444_11ea_8792_34e6ad71bcferow10_col3\" class=\"data row10 col3\" >2519.935800</td>\n",
       "                        <td id=\"T_f9cdbc7e_a444_11ea_8792_34e6ad71bcferow10_col4\" class=\"data row10 col4\" >0.307100</td>\n",
       "                        <td id=\"T_f9cdbc7e_a444_11ea_8792_34e6ad71bcferow10_col5\" class=\"data row10 col5\" >1.207900</td>\n",
       "                        <td id=\"T_f9cdbc7e_a444_11ea_8792_34e6ad71bcferow10_col6\" class=\"data row10 col6\" >3.012000</td>\n",
       "            </tr>\n",
       "            <tr>\n",
       "                        <th id=\"T_f9cdbc7e_a444_11ea_8792_34e6ad71bcfelevel0_row11\" class=\"row_heading level0 row11\" >11</th>\n",
       "                        <td id=\"T_f9cdbc7e_a444_11ea_8792_34e6ad71bcferow11_col0\" class=\"data row11 col0\" >Lasso Regression</td>\n",
       "                        <td id=\"T_f9cdbc7e_a444_11ea_8792_34e6ad71bcferow11_col1\" class=\"data row11 col1\" >1869.357200</td>\n",
       "                        <td id=\"T_f9cdbc7e_a444_11ea_8792_34e6ad71bcferow11_col2\" class=\"data row11 col2\" >6359389.896600</td>\n",
       "                        <td id=\"T_f9cdbc7e_a444_11ea_8792_34e6ad71bcferow11_col3\" class=\"data row11 col3\" >2521.704100</td>\n",
       "                        <td id=\"T_f9cdbc7e_a444_11ea_8792_34e6ad71bcferow11_col4\" class=\"data row11 col4\" >0.306200</td>\n",
       "                        <td id=\"T_f9cdbc7e_a444_11ea_8792_34e6ad71bcferow11_col5\" class=\"data row11 col5\" >1.216400</td>\n",
       "                        <td id=\"T_f9cdbc7e_a444_11ea_8792_34e6ad71bcferow11_col6\" class=\"data row11 col6\" >3.133900</td>\n",
       "            </tr>\n",
       "            <tr>\n",
       "                        <th id=\"T_f9cdbc7e_a444_11ea_8792_34e6ad71bcfelevel0_row12\" class=\"row_heading level0 row12\" >12</th>\n",
       "                        <td id=\"T_f9cdbc7e_a444_11ea_8792_34e6ad71bcferow12_col0\" class=\"data row12 col0\" >Huber Regressor</td>\n",
       "                        <td id=\"T_f9cdbc7e_a444_11ea_8792_34e6ad71bcferow12_col1\" class=\"data row12 col1\" >1858.060600</td>\n",
       "                        <td id=\"T_f9cdbc7e_a444_11ea_8792_34e6ad71bcferow12_col2\" class=\"data row12 col2\" >6383063.628100</td>\n",
       "                        <td id=\"T_f9cdbc7e_a444_11ea_8792_34e6ad71bcferow12_col3\" class=\"data row12 col3\" >2526.383100</td>\n",
       "                        <td id=\"T_f9cdbc7e_a444_11ea_8792_34e6ad71bcferow12_col4\" class=\"data row12 col4\" >0.303600</td>\n",
       "                        <td id=\"T_f9cdbc7e_a444_11ea_8792_34e6ad71bcferow12_col5\" class=\"data row12 col5\" >1.178400</td>\n",
       "                        <td id=\"T_f9cdbc7e_a444_11ea_8792_34e6ad71bcferow12_col6\" class=\"data row12 col6\" >2.571100</td>\n",
       "            </tr>\n",
       "            <tr>\n",
       "                        <th id=\"T_f9cdbc7e_a444_11ea_8792_34e6ad71bcfelevel0_row13\" class=\"row_heading level0 row13\" >13</th>\n",
       "                        <td id=\"T_f9cdbc7e_a444_11ea_8792_34e6ad71bcferow13_col0\" class=\"data row13 col0\" >Random Sample Consensus</td>\n",
       "                        <td id=\"T_f9cdbc7e_a444_11ea_8792_34e6ad71bcferow13_col1\" class=\"data row13 col1\" >1856.294800</td>\n",
       "                        <td id=\"T_f9cdbc7e_a444_11ea_8792_34e6ad71bcferow13_col2\" class=\"data row13 col2\" >6396551.039900</td>\n",
       "                        <td id=\"T_f9cdbc7e_a444_11ea_8792_34e6ad71bcferow13_col3\" class=\"data row13 col3\" >2529.050700</td>\n",
       "                        <td id=\"T_f9cdbc7e_a444_11ea_8792_34e6ad71bcferow13_col4\" class=\"data row13 col4\" >0.302100</td>\n",
       "                        <td id=\"T_f9cdbc7e_a444_11ea_8792_34e6ad71bcferow13_col5\" class=\"data row13 col5\" >1.164000</td>\n",
       "                        <td id=\"T_f9cdbc7e_a444_11ea_8792_34e6ad71bcferow13_col6\" class=\"data row13 col6\" >2.315200</td>\n",
       "            </tr>\n",
       "            <tr>\n",
       "                        <th id=\"T_f9cdbc7e_a444_11ea_8792_34e6ad71bcfelevel0_row14\" class=\"row_heading level0 row14\" >14</th>\n",
       "                        <td id=\"T_f9cdbc7e_a444_11ea_8792_34e6ad71bcferow14_col0\" class=\"data row14 col0\" >Passive Aggressive Regressor</td>\n",
       "                        <td id=\"T_f9cdbc7e_a444_11ea_8792_34e6ad71bcferow14_col1\" class=\"data row14 col1\" >1873.458600</td>\n",
       "                        <td id=\"T_f9cdbc7e_a444_11ea_8792_34e6ad71bcferow14_col2\" class=\"data row14 col2\" >6416313.776300</td>\n",
       "                        <td id=\"T_f9cdbc7e_a444_11ea_8792_34e6ad71bcferow14_col3\" class=\"data row14 col3\" >2532.968900</td>\n",
       "                        <td id=\"T_f9cdbc7e_a444_11ea_8792_34e6ad71bcferow14_col4\" class=\"data row14 col4\" >0.300000</td>\n",
       "                        <td id=\"T_f9cdbc7e_a444_11ea_8792_34e6ad71bcferow14_col5\" class=\"data row14 col5\" >1.146900</td>\n",
       "                        <td id=\"T_f9cdbc7e_a444_11ea_8792_34e6ad71bcferow14_col6\" class=\"data row14 col6\" >2.153400</td>\n",
       "            </tr>\n",
       "            <tr>\n",
       "                        <th id=\"T_f9cdbc7e_a444_11ea_8792_34e6ad71bcfelevel0_row15\" class=\"row_heading level0 row15\" >15</th>\n",
       "                        <td id=\"T_f9cdbc7e_a444_11ea_8792_34e6ad71bcferow15_col0\" class=\"data row15 col0\" >AdaBoost Regressor</td>\n",
       "                        <td id=\"T_f9cdbc7e_a444_11ea_8792_34e6ad71bcferow15_col1\" class=\"data row15 col1\" >1939.181400</td>\n",
       "                        <td id=\"T_f9cdbc7e_a444_11ea_8792_34e6ad71bcferow15_col2\" class=\"data row15 col2\" >6629683.732600</td>\n",
       "                        <td id=\"T_f9cdbc7e_a444_11ea_8792_34e6ad71bcferow15_col3\" class=\"data row15 col3\" >2574.737700</td>\n",
       "                        <td id=\"T_f9cdbc7e_a444_11ea_8792_34e6ad71bcferow15_col4\" class=\"data row15 col4\" >0.276700</td>\n",
       "                        <td id=\"T_f9cdbc7e_a444_11ea_8792_34e6ad71bcferow15_col5\" class=\"data row15 col5\" >1.423300</td>\n",
       "                        <td id=\"T_f9cdbc7e_a444_11ea_8792_34e6ad71bcferow15_col6\" class=\"data row15 col6\" >6.077200</td>\n",
       "            </tr>\n",
       "            <tr>\n",
       "                        <th id=\"T_f9cdbc7e_a444_11ea_8792_34e6ad71bcfelevel0_row16\" class=\"row_heading level0 row16\" >16</th>\n",
       "                        <td id=\"T_f9cdbc7e_a444_11ea_8792_34e6ad71bcferow16_col0\" class=\"data row16 col0\" >Lasso Least Angle Regression</td>\n",
       "                        <td id=\"T_f9cdbc7e_a444_11ea_8792_34e6ad71bcferow16_col1\" class=\"data row16 col1\" >1991.582300</td>\n",
       "                        <td id=\"T_f9cdbc7e_a444_11ea_8792_34e6ad71bcferow16_col2\" class=\"data row16 col2\" >6782178.224900</td>\n",
       "                        <td id=\"T_f9cdbc7e_a444_11ea_8792_34e6ad71bcferow16_col3\" class=\"data row16 col3\" >2604.181700</td>\n",
       "                        <td id=\"T_f9cdbc7e_a444_11ea_8792_34e6ad71bcferow16_col4\" class=\"data row16 col4\" >0.260000</td>\n",
       "                        <td id=\"T_f9cdbc7e_a444_11ea_8792_34e6ad71bcferow16_col5\" class=\"data row16 col5\" >1.525700</td>\n",
       "                        <td id=\"T_f9cdbc7e_a444_11ea_8792_34e6ad71bcferow16_col6\" class=\"data row16 col6\" >9.394600</td>\n",
       "            </tr>\n",
       "            <tr>\n",
       "                        <th id=\"T_f9cdbc7e_a444_11ea_8792_34e6ad71bcfelevel0_row17\" class=\"row_heading level0 row17\" >17</th>\n",
       "                        <td id=\"T_f9cdbc7e_a444_11ea_8792_34e6ad71bcferow17_col0\" class=\"data row17 col0\" >Support Vector Machine</td>\n",
       "                        <td id=\"T_f9cdbc7e_a444_11ea_8792_34e6ad71bcferow17_col1\" class=\"data row17 col1\" >1953.707300</td>\n",
       "                        <td id=\"T_f9cdbc7e_a444_11ea_8792_34e6ad71bcferow17_col2\" class=\"data row17 col2\" >7110664.397700</td>\n",
       "                        <td id=\"T_f9cdbc7e_a444_11ea_8792_34e6ad71bcferow17_col3\" class=\"data row17 col3\" >2666.472400</td>\n",
       "                        <td id=\"T_f9cdbc7e_a444_11ea_8792_34e6ad71bcferow17_col4\" class=\"data row17 col4\" >0.224200</td>\n",
       "                        <td id=\"T_f9cdbc7e_a444_11ea_8792_34e6ad71bcferow17_col5\" class=\"data row17 col5\" >1.293100</td>\n",
       "                        <td id=\"T_f9cdbc7e_a444_11ea_8792_34e6ad71bcferow17_col6\" class=\"data row17 col6\" >3.548300</td>\n",
       "            </tr>\n",
       "            <tr>\n",
       "                        <th id=\"T_f9cdbc7e_a444_11ea_8792_34e6ad71bcfelevel0_row18\" class=\"row_heading level0 row18\" >18</th>\n",
       "                        <td id=\"T_f9cdbc7e_a444_11ea_8792_34e6ad71bcferow18_col0\" class=\"data row18 col0\" >K Neighbors Regressor</td>\n",
       "                        <td id=\"T_f9cdbc7e_a444_11ea_8792_34e6ad71bcferow18_col1\" class=\"data row18 col1\" >1933.628200</td>\n",
       "                        <td id=\"T_f9cdbc7e_a444_11ea_8792_34e6ad71bcferow18_col2\" class=\"data row18 col2\" >7180427.374100</td>\n",
       "                        <td id=\"T_f9cdbc7e_a444_11ea_8792_34e6ad71bcferow18_col3\" class=\"data row18 col3\" >2678.311400</td>\n",
       "                        <td id=\"T_f9cdbc7e_a444_11ea_8792_34e6ad71bcferow18_col4\" class=\"data row18 col4\" >0.216900</td>\n",
       "                        <td id=\"T_f9cdbc7e_a444_11ea_8792_34e6ad71bcferow18_col5\" class=\"data row18 col5\" >1.176100</td>\n",
       "                        <td id=\"T_f9cdbc7e_a444_11ea_8792_34e6ad71bcferow18_col6\" class=\"data row18 col6\" >2.794500</td>\n",
       "            </tr>\n",
       "            <tr>\n",
       "                        <th id=\"T_f9cdbc7e_a444_11ea_8792_34e6ad71bcfelevel0_row19\" class=\"row_heading level0 row19\" >19</th>\n",
       "                        <td id=\"T_f9cdbc7e_a444_11ea_8792_34e6ad71bcferow19_col0\" class=\"data row19 col0\" >TheilSen Regressor</td>\n",
       "                        <td id=\"T_f9cdbc7e_a444_11ea_8792_34e6ad71bcferow19_col1\" class=\"data row19 col1\" >2024.236000</td>\n",
       "                        <td id=\"T_f9cdbc7e_a444_11ea_8792_34e6ad71bcferow19_col2\" class=\"data row19 col2\" >7326931.649000</td>\n",
       "                        <td id=\"T_f9cdbc7e_a444_11ea_8792_34e6ad71bcferow19_col3\" class=\"data row19 col3\" >2706.734400</td>\n",
       "                        <td id=\"T_f9cdbc7e_a444_11ea_8792_34e6ad71bcferow19_col4\" class=\"data row19 col4\" >0.200700</td>\n",
       "                        <td id=\"T_f9cdbc7e_a444_11ea_8792_34e6ad71bcferow19_col5\" class=\"data row19 col5\" >1.446400</td>\n",
       "                        <td id=\"T_f9cdbc7e_a444_11ea_8792_34e6ad71bcferow19_col6\" class=\"data row19 col6\" >6.813100</td>\n",
       "            </tr>\n",
       "            <tr>\n",
       "                        <th id=\"T_f9cdbc7e_a444_11ea_8792_34e6ad71bcfelevel0_row20\" class=\"row_heading level0 row20\" >20</th>\n",
       "                        <td id=\"T_f9cdbc7e_a444_11ea_8792_34e6ad71bcferow20_col0\" class=\"data row20 col0\" >Orthogonal Matching Pursuit</td>\n",
       "                        <td id=\"T_f9cdbc7e_a444_11ea_8792_34e6ad71bcferow20_col1\" class=\"data row20 col1\" >1989.479900</td>\n",
       "                        <td id=\"T_f9cdbc7e_a444_11ea_8792_34e6ad71bcferow20_col2\" class=\"data row20 col2\" >7372625.185400</td>\n",
       "                        <td id=\"T_f9cdbc7e_a444_11ea_8792_34e6ad71bcferow20_col3\" class=\"data row20 col3\" >2715.156700</td>\n",
       "                        <td id=\"T_f9cdbc7e_a444_11ea_8792_34e6ad71bcferow20_col4\" class=\"data row20 col4\" >0.195700</td>\n",
       "                        <td id=\"T_f9cdbc7e_a444_11ea_8792_34e6ad71bcferow20_col5\" class=\"data row20 col5\" >1.300400</td>\n",
       "                        <td id=\"T_f9cdbc7e_a444_11ea_8792_34e6ad71bcferow20_col6\" class=\"data row20 col6\" >2.965700</td>\n",
       "            </tr>\n",
       "            <tr>\n",
       "                        <th id=\"T_f9cdbc7e_a444_11ea_8792_34e6ad71bcfelevel0_row21\" class=\"row_heading level0 row21\" >21</th>\n",
       "                        <td id=\"T_f9cdbc7e_a444_11ea_8792_34e6ad71bcferow21_col0\" class=\"data row21 col0\" >Elastic Net</td>\n",
       "                        <td id=\"T_f9cdbc7e_a444_11ea_8792_34e6ad71bcferow21_col1\" class=\"data row21 col1\" >2307.442000</td>\n",
       "                        <td id=\"T_f9cdbc7e_a444_11ea_8792_34e6ad71bcferow21_col2\" class=\"data row21 col2\" >8596741.625000</td>\n",
       "                        <td id=\"T_f9cdbc7e_a444_11ea_8792_34e6ad71bcferow21_col3\" class=\"data row21 col3\" >2931.951500</td>\n",
       "                        <td id=\"T_f9cdbc7e_a444_11ea_8792_34e6ad71bcferow21_col4\" class=\"data row21 col4\" >0.062100</td>\n",
       "                        <td id=\"T_f9cdbc7e_a444_11ea_8792_34e6ad71bcferow21_col5\" class=\"data row21 col5\" >1.765300</td>\n",
       "                        <td id=\"T_f9cdbc7e_a444_11ea_8792_34e6ad71bcferow21_col6\" class=\"data row21 col6\" >29.191200</td>\n",
       "            </tr>\n",
       "    </tbody></table>"
      ],
      "text/plain": [
       "<pandas.io.formats.style.Styler at 0x24ab6e96a90>"
      ]
     },
     "execution_count": 122,
     "metadata": {},
     "output_type": "execute_result"
    }
   ],
   "source": [
    "compare_models()"
   ]
  },
  {
   "cell_type": "markdown",
   "metadata": {},
   "source": [
    "### Create Model"
   ]
  },
  {
   "cell_type": "markdown",
   "metadata": {},
   "source": [
    "Create lenear model"
   ]
  },
  {
   "cell_type": "code",
   "execution_count": 58,
   "metadata": {},
   "outputs": [
    {
     "data": {
      "text/html": [
       "<div>\n",
       "<style scoped>\n",
       "    .dataframe tbody tr th:only-of-type {\n",
       "        vertical-align: middle;\n",
       "    }\n",
       "\n",
       "    .dataframe tbody tr th {\n",
       "        vertical-align: top;\n",
       "    }\n",
       "\n",
       "    .dataframe thead th {\n",
       "        text-align: right;\n",
       "    }\n",
       "</style>\n",
       "<table border=\"1\" class=\"dataframe\">\n",
       "  <thead>\n",
       "    <tr style=\"text-align: right;\">\n",
       "      <th></th>\n",
       "      <th>MAE</th>\n",
       "      <th>MSE</th>\n",
       "      <th>RMSE</th>\n",
       "      <th>R2</th>\n",
       "      <th>RMSLE</th>\n",
       "      <th>MAPE</th>\n",
       "    </tr>\n",
       "  </thead>\n",
       "  <tbody>\n",
       "    <tr>\n",
       "      <th>0</th>\n",
       "      <td>1880.6154</td>\n",
       "      <td>6.422004e+06</td>\n",
       "      <td>2534.1674</td>\n",
       "      <td>0.3052</td>\n",
       "      <td>1.2157</td>\n",
       "      <td>3.0727</td>\n",
       "    </tr>\n",
       "    <tr>\n",
       "      <th>1</th>\n",
       "      <td>1861.3824</td>\n",
       "      <td>6.301061e+06</td>\n",
       "      <td>2510.1914</td>\n",
       "      <td>0.3032</td>\n",
       "      <td>1.1739</td>\n",
       "      <td>2.8345</td>\n",
       "    </tr>\n",
       "    <tr>\n",
       "      <th>2</th>\n",
       "      <td>1863.9415</td>\n",
       "      <td>6.328259e+06</td>\n",
       "      <td>2515.6030</td>\n",
       "      <td>0.3132</td>\n",
       "      <td>1.2334</td>\n",
       "      <td>3.1265</td>\n",
       "    </tr>\n",
       "    <tr>\n",
       "      <th>Mean</th>\n",
       "      <td>1868.6464</td>\n",
       "      <td>6.350441e+06</td>\n",
       "      <td>2519.9873</td>\n",
       "      <td>0.3072</td>\n",
       "      <td>1.2077</td>\n",
       "      <td>3.0113</td>\n",
       "    </tr>\n",
       "    <tr>\n",
       "      <th>SD</th>\n",
       "      <td>8.5276</td>\n",
       "      <td>5.180669e+04</td>\n",
       "      <td>10.2674</td>\n",
       "      <td>0.0043</td>\n",
       "      <td>0.0249</td>\n",
       "      <td>0.1269</td>\n",
       "    </tr>\n",
       "  </tbody>\n",
       "</table>\n",
       "</div>"
      ],
      "text/plain": [
       "            MAE           MSE       RMSE      R2   RMSLE    MAPE\n",
       "0     1880.6154  6.422004e+06  2534.1674  0.3052  1.2157  3.0727\n",
       "1     1861.3824  6.301061e+06  2510.1914  0.3032  1.1739  2.8345\n",
       "2     1863.9415  6.328259e+06  2515.6030  0.3132  1.2334  3.1265\n",
       "Mean  1868.6464  6.350441e+06  2519.9873  0.3072  1.2077  3.0113\n",
       "SD       8.5276  5.180669e+04    10.2674  0.0043  0.0249  0.1269"
      ]
     },
     "metadata": {},
     "output_type": "display_data"
    }
   ],
   "source": [
    "lr = create_model('lr',fold=3)"
   ]
  },
  {
   "cell_type": "markdown",
   "metadata": {},
   "source": [
    "Create ridge model"
   ]
  },
  {
   "cell_type": "code",
   "execution_count": 59,
   "metadata": {},
   "outputs": [
    {
     "data": {
      "text/html": [
       "<div>\n",
       "<style scoped>\n",
       "    .dataframe tbody tr th:only-of-type {\n",
       "        vertical-align: middle;\n",
       "    }\n",
       "\n",
       "    .dataframe tbody tr th {\n",
       "        vertical-align: top;\n",
       "    }\n",
       "\n",
       "    .dataframe thead th {\n",
       "        text-align: right;\n",
       "    }\n",
       "</style>\n",
       "<table border=\"1\" class=\"dataframe\">\n",
       "  <thead>\n",
       "    <tr style=\"text-align: right;\">\n",
       "      <th></th>\n",
       "      <th>MAE</th>\n",
       "      <th>MSE</th>\n",
       "      <th>RMSE</th>\n",
       "      <th>R2</th>\n",
       "      <th>RMSLE</th>\n",
       "      <th>MAPE</th>\n",
       "    </tr>\n",
       "  </thead>\n",
       "  <tbody>\n",
       "    <tr>\n",
       "      <th>0</th>\n",
       "      <td>1880.4117</td>\n",
       "      <td>6.421979e+06</td>\n",
       "      <td>2534.1624</td>\n",
       "      <td>0.3052</td>\n",
       "      <td>1.2144</td>\n",
       "      <td>3.0817</td>\n",
       "    </tr>\n",
       "    <tr>\n",
       "      <th>1</th>\n",
       "      <td>1861.3577</td>\n",
       "      <td>6.301704e+06</td>\n",
       "      <td>2510.3195</td>\n",
       "      <td>0.3032</td>\n",
       "      <td>1.1730</td>\n",
       "      <td>2.8416</td>\n",
       "    </tr>\n",
       "    <tr>\n",
       "      <th>2</th>\n",
       "      <td>1863.8679</td>\n",
       "      <td>6.328432e+06</td>\n",
       "      <td>2515.6375</td>\n",
       "      <td>0.3132</td>\n",
       "      <td>1.2322</td>\n",
       "      <td>3.1429</td>\n",
       "    </tr>\n",
       "    <tr>\n",
       "      <th>Mean</th>\n",
       "      <td>1868.5458</td>\n",
       "      <td>6.350705e+06</td>\n",
       "      <td>2520.0398</td>\n",
       "      <td>0.3072</td>\n",
       "      <td>1.2065</td>\n",
       "      <td>3.0221</td>\n",
       "    </tr>\n",
       "    <tr>\n",
       "      <th>SD</th>\n",
       "      <td>8.4528</td>\n",
       "      <td>5.156612e+04</td>\n",
       "      <td>10.2195</td>\n",
       "      <td>0.0043</td>\n",
       "      <td>0.0248</td>\n",
       "      <td>0.1300</td>\n",
       "    </tr>\n",
       "  </tbody>\n",
       "</table>\n",
       "</div>"
      ],
      "text/plain": [
       "            MAE           MSE       RMSE      R2   RMSLE    MAPE\n",
       "0     1880.4117  6.421979e+06  2534.1624  0.3052  1.2144  3.0817\n",
       "1     1861.3577  6.301704e+06  2510.3195  0.3032  1.1730  2.8416\n",
       "2     1863.8679  6.328432e+06  2515.6375  0.3132  1.2322  3.1429\n",
       "Mean  1868.5458  6.350705e+06  2520.0398  0.3072  1.2065  3.0221\n",
       "SD       8.4528  5.156612e+04    10.2195  0.0043  0.0248  0.1300"
      ]
     },
     "metadata": {},
     "output_type": "display_data"
    }
   ],
   "source": [
    "ridge=create_model('ridge',fold=3)"
   ]
  },
  {
   "cell_type": "markdown",
   "metadata": {},
   "source": [
    "Create Least Angle Regression model"
   ]
  },
  {
   "cell_type": "code",
   "execution_count": 60,
   "metadata": {},
   "outputs": [
    {
     "data": {
      "text/html": [
       "<div>\n",
       "<style scoped>\n",
       "    .dataframe tbody tr th:only-of-type {\n",
       "        vertical-align: middle;\n",
       "    }\n",
       "\n",
       "    .dataframe tbody tr th {\n",
       "        vertical-align: top;\n",
       "    }\n",
       "\n",
       "    .dataframe thead th {\n",
       "        text-align: right;\n",
       "    }\n",
       "</style>\n",
       "<table border=\"1\" class=\"dataframe\">\n",
       "  <thead>\n",
       "    <tr style=\"text-align: right;\">\n",
       "      <th></th>\n",
       "      <th>MAE</th>\n",
       "      <th>MSE</th>\n",
       "      <th>RMSE</th>\n",
       "      <th>R2</th>\n",
       "      <th>RMSLE</th>\n",
       "      <th>MAPE</th>\n",
       "    </tr>\n",
       "  </thead>\n",
       "  <tbody>\n",
       "    <tr>\n",
       "      <th>0</th>\n",
       "      <td>1880.6154</td>\n",
       "      <td>6.422004e+06</td>\n",
       "      <td>2534.1674</td>\n",
       "      <td>0.3052</td>\n",
       "      <td>1.2157</td>\n",
       "      <td>3.0727</td>\n",
       "    </tr>\n",
       "    <tr>\n",
       "      <th>1</th>\n",
       "      <td>1861.3824</td>\n",
       "      <td>6.301061e+06</td>\n",
       "      <td>2510.1914</td>\n",
       "      <td>0.3032</td>\n",
       "      <td>1.1739</td>\n",
       "      <td>2.8345</td>\n",
       "    </tr>\n",
       "    <tr>\n",
       "      <th>2</th>\n",
       "      <td>1863.9415</td>\n",
       "      <td>6.328259e+06</td>\n",
       "      <td>2515.6030</td>\n",
       "      <td>0.3132</td>\n",
       "      <td>1.2334</td>\n",
       "      <td>3.1265</td>\n",
       "    </tr>\n",
       "    <tr>\n",
       "      <th>Mean</th>\n",
       "      <td>1868.6464</td>\n",
       "      <td>6.350441e+06</td>\n",
       "      <td>2519.9873</td>\n",
       "      <td>0.3072</td>\n",
       "      <td>1.2077</td>\n",
       "      <td>3.0113</td>\n",
       "    </tr>\n",
       "    <tr>\n",
       "      <th>SD</th>\n",
       "      <td>8.5276</td>\n",
       "      <td>5.180669e+04</td>\n",
       "      <td>10.2674</td>\n",
       "      <td>0.0043</td>\n",
       "      <td>0.0249</td>\n",
       "      <td>0.1269</td>\n",
       "    </tr>\n",
       "  </tbody>\n",
       "</table>\n",
       "</div>"
      ],
      "text/plain": [
       "            MAE           MSE       RMSE      R2   RMSLE    MAPE\n",
       "0     1880.6154  6.422004e+06  2534.1674  0.3052  1.2157  3.0727\n",
       "1     1861.3824  6.301061e+06  2510.1914  0.3032  1.1739  2.8345\n",
       "2     1863.9415  6.328259e+06  2515.6030  0.3132  1.2334  3.1265\n",
       "Mean  1868.6464  6.350441e+06  2519.9873  0.3072  1.2077  3.0113\n",
       "SD       8.5276  5.180669e+04    10.2674  0.0043  0.0249  0.1269"
      ]
     },
     "metadata": {},
     "output_type": "display_data"
    }
   ],
   "source": [
    "lar=create_model('lar',fold=3)"
   ]
  },
  {
   "cell_type": "markdown",
   "metadata": {},
   "source": [
    "###  Tune Model"
   ]
  },
  {
   "cell_type": "markdown",
   "metadata": {},
   "source": [
    "Tuned model of Lenear regression"
   ]
  },
  {
   "cell_type": "code",
   "execution_count": 61,
   "metadata": {},
   "outputs": [
    {
     "data": {
      "text/html": [
       "<div>\n",
       "<style scoped>\n",
       "    .dataframe tbody tr th:only-of-type {\n",
       "        vertical-align: middle;\n",
       "    }\n",
       "\n",
       "    .dataframe tbody tr th {\n",
       "        vertical-align: top;\n",
       "    }\n",
       "\n",
       "    .dataframe thead th {\n",
       "        text-align: right;\n",
       "    }\n",
       "</style>\n",
       "<table border=\"1\" class=\"dataframe\">\n",
       "  <thead>\n",
       "    <tr style=\"text-align: right;\">\n",
       "      <th></th>\n",
       "      <th>MAE</th>\n",
       "      <th>MSE</th>\n",
       "      <th>RMSE</th>\n",
       "      <th>R2</th>\n",
       "      <th>RMSLE</th>\n",
       "      <th>MAPE</th>\n",
       "    </tr>\n",
       "  </thead>\n",
       "  <tbody>\n",
       "    <tr>\n",
       "      <th>0</th>\n",
       "      <td>1880.6154</td>\n",
       "      <td>6.422004e+06</td>\n",
       "      <td>2534.1674</td>\n",
       "      <td>0.3052</td>\n",
       "      <td>1.2157</td>\n",
       "      <td>3.0727</td>\n",
       "    </tr>\n",
       "    <tr>\n",
       "      <th>1</th>\n",
       "      <td>1861.3824</td>\n",
       "      <td>6.301061e+06</td>\n",
       "      <td>2510.1914</td>\n",
       "      <td>0.3032</td>\n",
       "      <td>1.1739</td>\n",
       "      <td>2.8345</td>\n",
       "    </tr>\n",
       "    <tr>\n",
       "      <th>2</th>\n",
       "      <td>1863.9415</td>\n",
       "      <td>6.328259e+06</td>\n",
       "      <td>2515.6030</td>\n",
       "      <td>0.3132</td>\n",
       "      <td>1.2334</td>\n",
       "      <td>3.1265</td>\n",
       "    </tr>\n",
       "    <tr>\n",
       "      <th>Mean</th>\n",
       "      <td>1868.6464</td>\n",
       "      <td>6.350441e+06</td>\n",
       "      <td>2519.9873</td>\n",
       "      <td>0.3072</td>\n",
       "      <td>1.2077</td>\n",
       "      <td>3.0113</td>\n",
       "    </tr>\n",
       "    <tr>\n",
       "      <th>SD</th>\n",
       "      <td>8.5276</td>\n",
       "      <td>5.180669e+04</td>\n",
       "      <td>10.2674</td>\n",
       "      <td>0.0043</td>\n",
       "      <td>0.0249</td>\n",
       "      <td>0.1269</td>\n",
       "    </tr>\n",
       "  </tbody>\n",
       "</table>\n",
       "</div>"
      ],
      "text/plain": [
       "            MAE           MSE       RMSE      R2   RMSLE    MAPE\n",
       "0     1880.6154  6.422004e+06  2534.1674  0.3052  1.2157  3.0727\n",
       "1     1861.3824  6.301061e+06  2510.1914  0.3032  1.1739  2.8345\n",
       "2     1863.9415  6.328259e+06  2515.6030  0.3132  1.2334  3.1265\n",
       "Mean  1868.6464  6.350441e+06  2519.9873  0.3072  1.2077  3.0113\n",
       "SD       8.5276  5.180669e+04    10.2674  0.0043  0.0249  0.1269"
      ]
     },
     "metadata": {},
     "output_type": "display_data"
    },
    {
     "data": {
      "text/plain": [
       "LinearRegression(copy_X=True, fit_intercept=True, n_jobs=None, normalize=False)"
      ]
     },
     "execution_count": 61,
     "metadata": {},
     "output_type": "execute_result"
    }
   ],
   "source": [
    "tuned_lr = tune_model('lr',fold=3)\n",
    "tuned_lr"
   ]
  },
  {
   "cell_type": "markdown",
   "metadata": {},
   "source": [
    "Tuned model of ridge regression"
   ]
  },
  {
   "cell_type": "code",
   "execution_count": 62,
   "metadata": {},
   "outputs": [
    {
     "data": {
      "text/html": [
       "<div>\n",
       "<style scoped>\n",
       "    .dataframe tbody tr th:only-of-type {\n",
       "        vertical-align: middle;\n",
       "    }\n",
       "\n",
       "    .dataframe tbody tr th {\n",
       "        vertical-align: top;\n",
       "    }\n",
       "\n",
       "    .dataframe thead th {\n",
       "        text-align: right;\n",
       "    }\n",
       "</style>\n",
       "<table border=\"1\" class=\"dataframe\">\n",
       "  <thead>\n",
       "    <tr style=\"text-align: right;\">\n",
       "      <th></th>\n",
       "      <th>MAE</th>\n",
       "      <th>MSE</th>\n",
       "      <th>RMSE</th>\n",
       "      <th>R2</th>\n",
       "      <th>RMSLE</th>\n",
       "      <th>MAPE</th>\n",
       "    </tr>\n",
       "  </thead>\n",
       "  <tbody>\n",
       "    <tr>\n",
       "      <th>0</th>\n",
       "      <td>1880.5889</td>\n",
       "      <td>6.421976e+06</td>\n",
       "      <td>2534.1618</td>\n",
       "      <td>0.3052</td>\n",
       "      <td>1.2156</td>\n",
       "      <td>3.0734</td>\n",
       "    </tr>\n",
       "    <tr>\n",
       "      <th>1</th>\n",
       "      <td>1861.3719</td>\n",
       "      <td>6.301098e+06</td>\n",
       "      <td>2510.1989</td>\n",
       "      <td>0.3032</td>\n",
       "      <td>1.1737</td>\n",
       "      <td>2.8351</td>\n",
       "    </tr>\n",
       "    <tr>\n",
       "      <th>2</th>\n",
       "      <td>1863.9284</td>\n",
       "      <td>6.328246e+06</td>\n",
       "      <td>2515.6006</td>\n",
       "      <td>0.3132</td>\n",
       "      <td>1.2333</td>\n",
       "      <td>3.1278</td>\n",
       "    </tr>\n",
       "    <tr>\n",
       "      <th>Mean</th>\n",
       "      <td>1868.6297</td>\n",
       "      <td>6.350440e+06</td>\n",
       "      <td>2519.9871</td>\n",
       "      <td>0.3072</td>\n",
       "      <td>1.2076</td>\n",
       "      <td>3.0121</td>\n",
       "    </tr>\n",
       "    <tr>\n",
       "      <th>SD</th>\n",
       "      <td>8.5205</td>\n",
       "      <td>5.178331e+04</td>\n",
       "      <td>10.2627</td>\n",
       "      <td>0.0043</td>\n",
       "      <td>0.0250</td>\n",
       "      <td>0.1271</td>\n",
       "    </tr>\n",
       "  </tbody>\n",
       "</table>\n",
       "</div>"
      ],
      "text/plain": [
       "            MAE           MSE       RMSE      R2   RMSLE    MAPE\n",
       "0     1880.5889  6.421976e+06  2534.1618  0.3052  1.2156  3.0734\n",
       "1     1861.3719  6.301098e+06  2510.1989  0.3032  1.1737  2.8351\n",
       "2     1863.9284  6.328246e+06  2515.6006  0.3132  1.2333  3.1278\n",
       "Mean  1868.6297  6.350440e+06  2519.9871  0.3072  1.2076  3.0121\n",
       "SD       8.5205  5.178331e+04    10.2627  0.0043  0.0250  0.1271"
      ]
     },
     "metadata": {},
     "output_type": "display_data"
    },
    {
     "data": {
      "text/plain": [
       "Ridge(alpha=0.075, copy_X=True, fit_intercept=True, max_iter=None,\n",
       "      normalize=False, random_state=4915, solver='auto', tol=0.001)"
      ]
     },
     "execution_count": 62,
     "metadata": {},
     "output_type": "execute_result"
    }
   ],
   "source": [
    "tuned_ridge = tune_model('ridge',fold=3)\n",
    "tuned_ridge"
   ]
  },
  {
   "cell_type": "markdown",
   "metadata": {},
   "source": [
    "Tuned model of Least Angle Regression regression"
   ]
  },
  {
   "cell_type": "code",
   "execution_count": 63,
   "metadata": {},
   "outputs": [
    {
     "data": {
      "text/html": [
       "<div>\n",
       "<style scoped>\n",
       "    .dataframe tbody tr th:only-of-type {\n",
       "        vertical-align: middle;\n",
       "    }\n",
       "\n",
       "    .dataframe tbody tr th {\n",
       "        vertical-align: top;\n",
       "    }\n",
       "\n",
       "    .dataframe thead th {\n",
       "        text-align: right;\n",
       "    }\n",
       "</style>\n",
       "<table border=\"1\" class=\"dataframe\">\n",
       "  <thead>\n",
       "    <tr style=\"text-align: right;\">\n",
       "      <th></th>\n",
       "      <th>MAE</th>\n",
       "      <th>MSE</th>\n",
       "      <th>RMSE</th>\n",
       "      <th>R2</th>\n",
       "      <th>RMSLE</th>\n",
       "      <th>MAPE</th>\n",
       "    </tr>\n",
       "  </thead>\n",
       "  <tbody>\n",
       "    <tr>\n",
       "      <th>0</th>\n",
       "      <td>1880.6154</td>\n",
       "      <td>6.422004e+06</td>\n",
       "      <td>2534.1674</td>\n",
       "      <td>0.3052</td>\n",
       "      <td>1.2157</td>\n",
       "      <td>3.0727</td>\n",
       "    </tr>\n",
       "    <tr>\n",
       "      <th>1</th>\n",
       "      <td>1861.3824</td>\n",
       "      <td>6.301061e+06</td>\n",
       "      <td>2510.1914</td>\n",
       "      <td>0.3032</td>\n",
       "      <td>1.1739</td>\n",
       "      <td>2.8345</td>\n",
       "    </tr>\n",
       "    <tr>\n",
       "      <th>2</th>\n",
       "      <td>1863.9415</td>\n",
       "      <td>6.328259e+06</td>\n",
       "      <td>2515.6030</td>\n",
       "      <td>0.3132</td>\n",
       "      <td>1.2334</td>\n",
       "      <td>3.1265</td>\n",
       "    </tr>\n",
       "    <tr>\n",
       "      <th>Mean</th>\n",
       "      <td>1868.6464</td>\n",
       "      <td>6.350441e+06</td>\n",
       "      <td>2519.9873</td>\n",
       "      <td>0.3072</td>\n",
       "      <td>1.2077</td>\n",
       "      <td>3.0113</td>\n",
       "    </tr>\n",
       "    <tr>\n",
       "      <th>SD</th>\n",
       "      <td>8.5276</td>\n",
       "      <td>5.180669e+04</td>\n",
       "      <td>10.2674</td>\n",
       "      <td>0.0043</td>\n",
       "      <td>0.0249</td>\n",
       "      <td>0.1269</td>\n",
       "    </tr>\n",
       "  </tbody>\n",
       "</table>\n",
       "</div>"
      ],
      "text/plain": [
       "            MAE           MSE       RMSE      R2   RMSLE    MAPE\n",
       "0     1880.6154  6.422004e+06  2534.1674  0.3052  1.2157  3.0727\n",
       "1     1861.3824  6.301061e+06  2510.1914  0.3032  1.1739  2.8345\n",
       "2     1863.9415  6.328259e+06  2515.6030  0.3132  1.2334  3.1265\n",
       "Mean  1868.6464  6.350441e+06  2519.9873  0.3072  1.2077  3.0113\n",
       "SD       8.5276  5.180669e+04    10.2674  0.0043  0.0249  0.1269"
      ]
     },
     "metadata": {},
     "output_type": "display_data"
    },
    {
     "data": {
      "text/plain": [
       "Lars(copy_X=True, eps=5e-05, fit_intercept=True, fit_path=True,\n",
       "     n_nonzero_coefs=500, normalize=False, precompute='auto', verbose=False)"
      ]
     },
     "execution_count": 63,
     "metadata": {},
     "output_type": "execute_result"
    }
   ],
   "source": [
    "tuned_lar = tune_model('lar',fold=3)\n",
    "tuned_lar"
   ]
  },
  {
   "cell_type": "markdown",
   "metadata": {},
   "source": [
    "### Model Ensembling"
   ]
  },
  {
   "cell_type": "markdown",
   "metadata": {},
   "source": [
    "Combined model of all tuned"
   ]
  },
  {
   "cell_type": "code",
   "execution_count": 64,
   "metadata": {},
   "outputs": [
    {
     "data": {
      "text/html": [
       "<div>\n",
       "<style scoped>\n",
       "    .dataframe tbody tr th:only-of-type {\n",
       "        vertical-align: middle;\n",
       "    }\n",
       "\n",
       "    .dataframe tbody tr th {\n",
       "        vertical-align: top;\n",
       "    }\n",
       "\n",
       "    .dataframe thead th {\n",
       "        text-align: right;\n",
       "    }\n",
       "</style>\n",
       "<table border=\"1\" class=\"dataframe\">\n",
       "  <thead>\n",
       "    <tr style=\"text-align: right;\">\n",
       "      <th></th>\n",
       "      <th>MAE</th>\n",
       "      <th>MSE</th>\n",
       "      <th>RMSE</th>\n",
       "      <th>R2</th>\n",
       "      <th>RMSLE</th>\n",
       "      <th>MAPE</th>\n",
       "    </tr>\n",
       "  </thead>\n",
       "  <tbody>\n",
       "    <tr>\n",
       "      <th>0</th>\n",
       "      <td>1880.5130</td>\n",
       "      <td>6.421930e+06</td>\n",
       "      <td>2534.1527</td>\n",
       "      <td>0.3052</td>\n",
       "      <td>1.2153</td>\n",
       "      <td>3.0757</td>\n",
       "    </tr>\n",
       "    <tr>\n",
       "      <th>1</th>\n",
       "      <td>1861.3354</td>\n",
       "      <td>6.301197e+06</td>\n",
       "      <td>2510.2184</td>\n",
       "      <td>0.3032</td>\n",
       "      <td>1.1728</td>\n",
       "      <td>2.8369</td>\n",
       "    </tr>\n",
       "    <tr>\n",
       "      <th>2</th>\n",
       "      <td>1863.8962</td>\n",
       "      <td>6.328258e+06</td>\n",
       "      <td>2515.6030</td>\n",
       "      <td>0.3132</td>\n",
       "      <td>1.2330</td>\n",
       "      <td>3.1320</td>\n",
       "    </tr>\n",
       "    <tr>\n",
       "      <th>Mean</th>\n",
       "      <td>1868.5815</td>\n",
       "      <td>6.350462e+06</td>\n",
       "      <td>2519.9914</td>\n",
       "      <td>0.3072</td>\n",
       "      <td>1.2070</td>\n",
       "      <td>3.0149</td>\n",
       "    </tr>\n",
       "    <tr>\n",
       "      <th>SD</th>\n",
       "      <td>8.5013</td>\n",
       "      <td>5.172936e+04</td>\n",
       "      <td>10.2520</td>\n",
       "      <td>0.0043</td>\n",
       "      <td>0.0252</td>\n",
       "      <td>0.1279</td>\n",
       "    </tr>\n",
       "  </tbody>\n",
       "</table>\n",
       "</div>"
      ],
      "text/plain": [
       "            MAE           MSE       RMSE      R2   RMSLE    MAPE\n",
       "0     1880.5130  6.421930e+06  2534.1527  0.3052  1.2153  3.0757\n",
       "1     1861.3354  6.301197e+06  2510.2184  0.3032  1.1728  2.8369\n",
       "2     1863.8962  6.328258e+06  2515.6030  0.3132  1.2330  3.1320\n",
       "Mean  1868.5815  6.350462e+06  2519.9914  0.3072  1.2070  3.0149\n",
       "SD       8.5013  5.172936e+04    10.2520  0.0043  0.0252  0.1279"
      ]
     },
     "metadata": {},
     "output_type": "display_data"
    },
    {
     "data": {
      "text/plain": [
       "VotingRegressor(estimators=[('Linear Regression_0',\n",
       "                             LinearRegression(copy_X=True, fit_intercept=True,\n",
       "                                              n_jobs=None, normalize=False)),\n",
       "                            ('Ridge_1',\n",
       "                             Ridge(alpha=1.0, copy_X=True, fit_intercept=True,\n",
       "                                   max_iter=None, normalize=False,\n",
       "                                   random_state=4915, solver='auto',\n",
       "                                   tol=0.001)),\n",
       "                            ('Least Angle Regression_2',\n",
       "                             Lars(copy_X=True, eps=2.220446049250313e-16,\n",
       "                                  fit_intercept=True, fit_path=True,\n",
       "                                  n_nonzero_coefs=500, normalize=True,\n",
       "                                  precompute='auto', verbose=False))],\n",
       "                n_jobs=None, weights=None)"
      ]
     },
     "execution_count": 64,
     "metadata": {},
     "output_type": "execute_result"
    }
   ],
   "source": [
    "blender = blend_models(estimator_list = [lr, ridge, lar],fold=3)\n",
    "blender"
   ]
  },
  {
   "cell_type": "markdown",
   "metadata": {},
   "source": [
    "### Model Analysis"
   ]
  },
  {
   "cell_type": "markdown",
   "metadata": {},
   "source": [
    "Before model finalization, the plot_model() function can be used to analyze the performance across different aspects such as Residuals Plot, Prediction Error, Feature Importance etc. This function takes a trained model object and returns a plot based on the test / hold-out set.\n",
    "\n",
    "There are over 10 plots available, please see the plot_model() docstring for the list of available plots."
   ]
  },
  {
   "cell_type": "markdown",
   "metadata": {},
   "source": [
    "#### 4.1 Residual Plot"
   ]
  },
  {
   "cell_type": "code",
   "execution_count": 65,
   "metadata": {},
   "outputs": [
    {
     "data": {
      "image/png": "[encoded data removed]",
      "text/plain": [
       "<Figure size 576x396 with 2 Axes>"
      ]
     },
     "metadata": {},
     "output_type": "display_data"
    }
   ],
   "source": [
    "plot_model(tuned_lr)"
   ]
  },
  {
   "cell_type": "markdown",
   "metadata": {},
   "source": [
    "#### 4.2 Recursive Feat. Selection"
   ]
  },
  {
   "cell_type": "code",
   "execution_count": 66,
   "metadata": {},
   "outputs": [
    {
     "data": {
      "image/png": "[encoded data removed]",
      "text/plain": [
       "<Figure size 576x396 with 1 Axes>"
      ]
     },
     "metadata": {},
     "output_type": "display_data"
    }
   ],
   "source": [
    "plot_model(tuned_ridge, plot='rfe')"
   ]
  },
  {
   "cell_type": "markdown",
   "metadata": {},
   "source": [
    "#### 4.3 Prediction Error Plot"
   ]
  },
  {
   "cell_type": "code",
   "execution_count": 67,
   "metadata": {},
   "outputs": [
    {
     "data": {
      "image/png": "[encoded data removed]",
      "text/plain": [
       "<Figure size 576x396 with 1 Axes>"
      ]
     },
     "metadata": {},
     "output_type": "display_data"
    }
   ],
   "source": [
    "plot_model(tuned_lar, plot = 'error')"
   ]
  },
  {
   "cell_type": "markdown",
   "metadata": {},
   "source": [
    "#### 4.4 Feature Importance Plot"
   ]
  },
  {
   "cell_type": "code",
   "execution_count": 68,
   "metadata": {},
   "outputs": [
    {
     "data": {
      "image/png": "[encoded data removed]",
      "text/plain": [
       "<Figure size 576x360 with 1 Axes>"
      ]
     },
     "metadata": {},
     "output_type": "display_data"
    }
   ],
   "source": [
    "plot_model(tuned_lar, plot = 'feature')"
   ]
  },
  {
   "cell_type": "markdown",
   "metadata": {},
   "source": [
    "## Predict on Test / Hold-out Sample"
   ]
  },
  {
   "cell_type": "code",
   "execution_count": 69,
   "metadata": {},
   "outputs": [
    {
     "data": {
      "text/html": [
       "<div>\n",
       "<style scoped>\n",
       "    .dataframe tbody tr th:only-of-type {\n",
       "        vertical-align: middle;\n",
       "    }\n",
       "\n",
       "    .dataframe tbody tr th {\n",
       "        vertical-align: top;\n",
       "    }\n",
       "\n",
       "    .dataframe thead th {\n",
       "        text-align: right;\n",
       "    }\n",
       "</style>\n",
       "<table border=\"1\" class=\"dataframe\">\n",
       "  <thead>\n",
       "    <tr style=\"text-align: right;\">\n",
       "      <th></th>\n",
       "      <th>Model</th>\n",
       "      <th>MAE</th>\n",
       "      <th>MSE</th>\n",
       "      <th>RMSE</th>\n",
       "      <th>R2</th>\n",
       "      <th>RMSLE</th>\n",
       "      <th>MAPE</th>\n",
       "    </tr>\n",
       "  </thead>\n",
       "  <tbody>\n",
       "    <tr>\n",
       "      <th>0</th>\n",
       "      <td>Linear Regression</td>\n",
       "      <td>1850.0107</td>\n",
       "      <td>6.253922e+06</td>\n",
       "      <td>2500.7842</td>\n",
       "      <td>0.3207</td>\n",
       "      <td>1.2295</td>\n",
       "      <td>3.3231</td>\n",
       "    </tr>\n",
       "  </tbody>\n",
       "</table>\n",
       "</div>"
      ],
      "text/plain": [
       "               Model        MAE           MSE       RMSE      R2   RMSLE  \\\n",
       "0  Linear Regression  1850.0107  6.253922e+06  2500.7842  0.3207  1.2295   \n",
       "\n",
       "     MAPE  \n",
       "0  3.3231  "
      ]
     },
     "metadata": {},
     "output_type": "display_data"
    }
   ],
   "source": [
    "predict_model(tuned_lr);"
   ]
  },
  {
   "cell_type": "markdown",
   "metadata": {},
   "source": [
    "The RMSE on the test/hold-out set is 0.1953 compared to 0.1945 achieved on tuned_lr NetFare results.This is not a significant difference."
   ]
  },
  {
   "cell_type": "markdown",
   "metadata": {},
   "source": [
    "## Finalize Model for Deployment"
   ]
  },
  {
   "cell_type": "code",
   "execution_count": 70,
   "metadata": {},
   "outputs": [],
   "source": [
    "final_model_linear_reg = finalize_model(tuned_lr)"
   ]
  },
  {
   "cell_type": "code",
   "execution_count": 71,
   "metadata": {},
   "outputs": [
    {
     "name": "stdout",
     "output_type": "stream",
     "text": [
      "LinearRegression(copy_X=True, fit_intercept=True, n_jobs=None, normalize=False)\n"
     ]
    }
   ],
   "source": [
    "print(final_model_linear_reg)"
   ]
  },
  {
   "cell_type": "code",
   "execution_count": 72,
   "metadata": {},
   "outputs": [
    {
     "data": {
      "text/html": [
       "<div>\n",
       "<style scoped>\n",
       "    .dataframe tbody tr th:only-of-type {\n",
       "        vertical-align: middle;\n",
       "    }\n",
       "\n",
       "    .dataframe tbody tr th {\n",
       "        vertical-align: top;\n",
       "    }\n",
       "\n",
       "    .dataframe thead th {\n",
       "        text-align: right;\n",
       "    }\n",
       "</style>\n",
       "<table border=\"1\" class=\"dataframe\">\n",
       "  <thead>\n",
       "    <tr style=\"text-align: right;\">\n",
       "      <th></th>\n",
       "      <th>Model</th>\n",
       "      <th>MAE</th>\n",
       "      <th>MSE</th>\n",
       "      <th>RMSE</th>\n",
       "      <th>R2</th>\n",
       "      <th>RMSLE</th>\n",
       "      <th>MAPE</th>\n",
       "    </tr>\n",
       "  </thead>\n",
       "  <tbody>\n",
       "    <tr>\n",
       "      <th>0</th>\n",
       "      <td>Linear Regression</td>\n",
       "      <td>1849.2087</td>\n",
       "      <td>6.250736e+06</td>\n",
       "      <td>2500.1472</td>\n",
       "      <td>0.321</td>\n",
       "      <td>1.2285</td>\n",
       "      <td>3.3399</td>\n",
       "    </tr>\n",
       "  </tbody>\n",
       "</table>\n",
       "</div>"
      ],
      "text/plain": [
       "               Model        MAE           MSE       RMSE     R2   RMSLE  \\\n",
       "0  Linear Regression  1849.2087  6.250736e+06  2500.1472  0.321  1.2285   \n",
       "\n",
       "     MAPE  \n",
       "0  3.3399  "
      ]
     },
     "metadata": {},
     "output_type": "display_data"
    }
   ],
   "source": [
    "predict_model(final_model_linear_reg);"
   ]
  },
  {
   "cell_type": "markdown",
   "metadata": {},
   "source": [
    "## Predict on Unseen Data"
   ]
  },
  {
   "cell_type": "code",
   "execution_count": 73,
   "metadata": {},
   "outputs": [
    {
     "name": "stdout",
     "output_type": "stream",
     "text": [
      "Data for Modeling: (119082, 12)\n",
      "Unseen Data For Predictions: (15303, 12)\n"
     ]
    }
   ],
   "source": [
    "data = dummy_df.sample(frac=0.7, random_state=786)\n",
    "data_unseen = dummy_df.drop(data.index)\n",
    "\n",
    "print('Data for Modeling: ' + str(data.shape))\n",
    "print('Unseen Data For Predictions: ' + str(data_unseen.shape))"
   ]
  },
  {
   "cell_type": "code",
   "execution_count": 74,
   "metadata": {},
   "outputs": [
    {
     "data": {
      "text/html": [
       "<div>\n",
       "<style scoped>\n",
       "    .dataframe tbody tr th:only-of-type {\n",
       "        vertical-align: middle;\n",
       "    }\n",
       "\n",
       "    .dataframe tbody tr th {\n",
       "        vertical-align: top;\n",
       "    }\n",
       "\n",
       "    .dataframe thead th {\n",
       "        text-align: right;\n",
       "    }\n",
       "</style>\n",
       "<table border=\"1\" class=\"dataframe\">\n",
       "  <thead>\n",
       "    <tr style=\"text-align: right;\">\n",
       "      <th></th>\n",
       "      <th>NetFare</th>\n",
       "      <th>ProTypeAirCanc</th>\n",
       "      <th>ProTypeAirDebtNote</th>\n",
       "      <th>ProTypeAirLoss</th>\n",
       "      <th>ProTypeHot</th>\n",
       "      <th>ProTypeHotCanc</th>\n",
       "      <th>ProTypeHotDebNote</th>\n",
       "      <th>ProTypeHotLoss</th>\n",
       "      <th>ProTypeOthPro</th>\n",
       "      <th>ProTypeOthProCanc</th>\n",
       "      <th>ProTypeOthProDebNote</th>\n",
       "      <th>IteTypeInter</th>\n",
       "      <th>Label</th>\n",
       "    </tr>\n",
       "  </thead>\n",
       "  <tbody>\n",
       "    <tr>\n",
       "      <th>0</th>\n",
       "      <td>10.0</td>\n",
       "      <td>0</td>\n",
       "      <td>0</td>\n",
       "      <td>0</td>\n",
       "      <td>0</td>\n",
       "      <td>0</td>\n",
       "      <td>0</td>\n",
       "      <td>0</td>\n",
       "      <td>1</td>\n",
       "      <td>0</td>\n",
       "      <td>0</td>\n",
       "      <td>0</td>\n",
       "      <td>151.1592</td>\n",
       "    </tr>\n",
       "    <tr>\n",
       "      <th>1</th>\n",
       "      <td>1670.0</td>\n",
       "      <td>0</td>\n",
       "      <td>0</td>\n",
       "      <td>0</td>\n",
       "      <td>0</td>\n",
       "      <td>0</td>\n",
       "      <td>0</td>\n",
       "      <td>0</td>\n",
       "      <td>0</td>\n",
       "      <td>0</td>\n",
       "      <td>0</td>\n",
       "      <td>0</td>\n",
       "      <td>4722.6296</td>\n",
       "    </tr>\n",
       "    <tr>\n",
       "      <th>2</th>\n",
       "      <td>10.0</td>\n",
       "      <td>0</td>\n",
       "      <td>0</td>\n",
       "      <td>0</td>\n",
       "      <td>0</td>\n",
       "      <td>0</td>\n",
       "      <td>0</td>\n",
       "      <td>0</td>\n",
       "      <td>1</td>\n",
       "      <td>0</td>\n",
       "      <td>0</td>\n",
       "      <td>0</td>\n",
       "      <td>151.1592</td>\n",
       "    </tr>\n",
       "    <tr>\n",
       "      <th>3</th>\n",
       "      <td>350.0</td>\n",
       "      <td>0</td>\n",
       "      <td>0</td>\n",
       "      <td>0</td>\n",
       "      <td>0</td>\n",
       "      <td>0</td>\n",
       "      <td>0</td>\n",
       "      <td>0</td>\n",
       "      <td>1</td>\n",
       "      <td>0</td>\n",
       "      <td>0</td>\n",
       "      <td>0</td>\n",
       "      <td>151.1592</td>\n",
       "    </tr>\n",
       "    <tr>\n",
       "      <th>4</th>\n",
       "      <td>350.0</td>\n",
       "      <td>0</td>\n",
       "      <td>0</td>\n",
       "      <td>0</td>\n",
       "      <td>0</td>\n",
       "      <td>0</td>\n",
       "      <td>0</td>\n",
       "      <td>0</td>\n",
       "      <td>1</td>\n",
       "      <td>0</td>\n",
       "      <td>0</td>\n",
       "      <td>0</td>\n",
       "      <td>151.1592</td>\n",
       "    </tr>\n",
       "  </tbody>\n",
       "</table>\n",
       "</div>"
      ],
      "text/plain": [
       "   NetFare  ProTypeAirCanc  ProTypeAirDebtNote  ProTypeAirLoss  ProTypeHot  \\\n",
       "0     10.0               0                   0               0           0   \n",
       "1   1670.0               0                   0               0           0   \n",
       "2     10.0               0                   0               0           0   \n",
       "3    350.0               0                   0               0           0   \n",
       "4    350.0               0                   0               0           0   \n",
       "\n",
       "   ProTypeHotCanc  ProTypeHotDebNote  ProTypeHotLoss  ProTypeOthPro  \\\n",
       "0               0                  0               0              1   \n",
       "1               0                  0               0              0   \n",
       "2               0                  0               0              1   \n",
       "3               0                  0               0              1   \n",
       "4               0                  0               0              1   \n",
       "\n",
       "   ProTypeOthProCanc  ProTypeOthProDebNote  IteTypeInter      Label  \n",
       "0                  0                     0             0   151.1592  \n",
       "1                  0                     0             0  4722.6296  \n",
       "2                  0                     0             0   151.1592  \n",
       "3                  0                     0             0   151.1592  \n",
       "4                  0                     0             0   151.1592  "
      ]
     },
     "execution_count": 74,
     "metadata": {},
     "output_type": "execute_result"
    }
   ],
   "source": [
    "unseen_predictions = predict_model(final_model_linear_reg, data=data_unseen)\n",
    "unseen_predictions.head()"
   ]
  },
  {
   "cell_type": "markdown",
   "metadata": {},
   "source": [
    "## Saving the Model"
   ]
  },
  {
   "cell_type": "code",
   "execution_count": 75,
   "metadata": {},
   "outputs": [
    {
     "name": "stdout",
     "output_type": "stream",
     "text": [
      "Transformation Pipeline and Model Succesfully Saved\n"
     ]
    }
   ],
   "source": [
    "save_model(final_model_linear_reg,'final_model_linear_reg_01Jun2020')"
   ]
  },
  {
   "cell_type": "markdown",
   "metadata": {},
   "source": [
    "## Loading the Saved Model"
   ]
  },
  {
   "cell_type": "code",
   "execution_count": 119,
   "metadata": {},
   "outputs": [
    {
     "name": "stdout",
     "output_type": "stream",
     "text": [
      "Transformation Pipeline and Model Sucessfully Loaded\n"
     ]
    }
   ],
   "source": [
    "saved_final_linear_reg = load_model('final_model_linear_reg_01Jun2020')"
   ]
  },
  {
   "cell_type": "code",
   "execution_count": 117,
   "metadata": {},
   "outputs": [],
   "source": [
    "#new_prediction = predict_model(saved_final_linear_reg, data=[0,1,0,0,0,0,1,0,0,1,1])\n",
    "#data_unseen1=[0,1,0,0,0,0,1,0,0,1,1]"
   ]
  },
  {
   "cell_type": "code",
   "execution_count": 120,
   "metadata": {},
   "outputs": [],
   "source": [
    "new_prediction = predict_model(final_model_linear_reg, data=data_unseen)#data_unseen"
   ]
  },
  {
   "cell_type": "code",
   "execution_count": 121,
   "metadata": {},
   "outputs": [
    {
     "data": {
      "text/html": [
       "<div>\n",
       "<style scoped>\n",
       "    .dataframe tbody tr th:only-of-type {\n",
       "        vertical-align: middle;\n",
       "    }\n",
       "\n",
       "    .dataframe tbody tr th {\n",
       "        vertical-align: top;\n",
       "    }\n",
       "\n",
       "    .dataframe thead th {\n",
       "        text-align: right;\n",
       "    }\n",
       "</style>\n",
       "<table border=\"1\" class=\"dataframe\">\n",
       "  <thead>\n",
       "    <tr style=\"text-align: right;\">\n",
       "      <th></th>\n",
       "      <th>NetFare</th>\n",
       "      <th>ProTypeAirCanc</th>\n",
       "      <th>ProTypeAirDebtNote</th>\n",
       "      <th>ProTypeAirLoss</th>\n",
       "      <th>ProTypeHot</th>\n",
       "      <th>ProTypeHotCanc</th>\n",
       "      <th>ProTypeHotDebNote</th>\n",
       "      <th>ProTypeHotLoss</th>\n",
       "      <th>ProTypeOthPro</th>\n",
       "      <th>ProTypeOthProCanc</th>\n",
       "      <th>ProTypeOthProDebNote</th>\n",
       "      <th>IteTypeInter</th>\n",
       "      <th>Label</th>\n",
       "    </tr>\n",
       "  </thead>\n",
       "  <tbody>\n",
       "    <tr>\n",
       "      <th>0</th>\n",
       "      <td>10.0</td>\n",
       "      <td>0</td>\n",
       "      <td>0</td>\n",
       "      <td>0</td>\n",
       "      <td>0</td>\n",
       "      <td>0</td>\n",
       "      <td>0</td>\n",
       "      <td>0</td>\n",
       "      <td>1</td>\n",
       "      <td>0</td>\n",
       "      <td>0</td>\n",
       "      <td>0</td>\n",
       "      <td>151.1592</td>\n",
       "    </tr>\n",
       "    <tr>\n",
       "      <th>1</th>\n",
       "      <td>1670.0</td>\n",
       "      <td>0</td>\n",
       "      <td>0</td>\n",
       "      <td>0</td>\n",
       "      <td>0</td>\n",
       "      <td>0</td>\n",
       "      <td>0</td>\n",
       "      <td>0</td>\n",
       "      <td>0</td>\n",
       "      <td>0</td>\n",
       "      <td>0</td>\n",
       "      <td>0</td>\n",
       "      <td>4722.6296</td>\n",
       "    </tr>\n",
       "    <tr>\n",
       "      <th>2</th>\n",
       "      <td>10.0</td>\n",
       "      <td>0</td>\n",
       "      <td>0</td>\n",
       "      <td>0</td>\n",
       "      <td>0</td>\n",
       "      <td>0</td>\n",
       "      <td>0</td>\n",
       "      <td>0</td>\n",
       "      <td>1</td>\n",
       "      <td>0</td>\n",
       "      <td>0</td>\n",
       "      <td>0</td>\n",
       "      <td>151.1592</td>\n",
       "    </tr>\n",
       "    <tr>\n",
       "      <th>3</th>\n",
       "      <td>350.0</td>\n",
       "      <td>0</td>\n",
       "      <td>0</td>\n",
       "      <td>0</td>\n",
       "      <td>0</td>\n",
       "      <td>0</td>\n",
       "      <td>0</td>\n",
       "      <td>0</td>\n",
       "      <td>1</td>\n",
       "      <td>0</td>\n",
       "      <td>0</td>\n",
       "      <td>0</td>\n",
       "      <td>151.1592</td>\n",
       "    </tr>\n",
       "    <tr>\n",
       "      <th>4</th>\n",
       "      <td>350.0</td>\n",
       "      <td>0</td>\n",
       "      <td>0</td>\n",
       "      <td>0</td>\n",
       "      <td>0</td>\n",
       "      <td>0</td>\n",
       "      <td>0</td>\n",
       "      <td>0</td>\n",
       "      <td>1</td>\n",
       "      <td>0</td>\n",
       "      <td>0</td>\n",
       "      <td>0</td>\n",
       "      <td>151.1592</td>\n",
       "    </tr>\n",
       "  </tbody>\n",
       "</table>\n",
       "</div>"
      ],
      "text/plain": [
       "   NetFare  ProTypeAirCanc  ProTypeAirDebtNote  ProTypeAirLoss  ProTypeHot  \\\n",
       "0     10.0               0                   0               0           0   \n",
       "1   1670.0               0                   0               0           0   \n",
       "2     10.0               0                   0               0           0   \n",
       "3    350.0               0                   0               0           0   \n",
       "4    350.0               0                   0               0           0   \n",
       "\n",
       "   ProTypeHotCanc  ProTypeHotDebNote  ProTypeHotLoss  ProTypeOthPro  \\\n",
       "0               0                  0               0              1   \n",
       "1               0                  0               0              0   \n",
       "2               0                  0               0              1   \n",
       "3               0                  0               0              1   \n",
       "4               0                  0               0              1   \n",
       "\n",
       "   ProTypeOthProCanc  ProTypeOthProDebNote  IteTypeInter      Label  \n",
       "0                  0                     0             0   151.1592  \n",
       "1                  0                     0             0  4722.6296  \n",
       "2                  0                     0             0   151.1592  \n",
       "3                  0                     0             0   151.1592  \n",
       "4                  0                     0             0   151.1592  "
      ]
     },
     "execution_count": 121,
     "metadata": {},
     "output_type": "execute_result"
    }
   ],
   "source": [
    "new_prediction.head()"
   ]
  },
  {
   "cell_type": "code",
   "execution_count": null,
   "metadata": {},
   "outputs": [],
   "source": []
  }
 ],
 "metadata": {
  "kernelspec": {
   "display_name": "Python 3",
   "language": "python",
   "name": "python3"
  },
  "language_info": {
   "codemirror_mode": {
    "name": "ipython",
    "version": 3
   },
   "file_extension": ".py",
   "mimetype": "text/x-python",
   "name": "python",
   "nbconvert_exporter": "python",
   "pygments_lexer": "ipython3",
   "version": "3.6.10"
  }
 },
 "nbformat": 4,
 "nbformat_minor": 4
}
