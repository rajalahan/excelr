{
 "cells": [
  {
   "cell_type": "markdown",
   "metadata": {},
   "source": [
    "![](airindia.png)\n",
    "<h1 style=\"text-align:center;\"> Air Fare prediction Analysis</h1>"
   ]
  },
  {
   "cell_type": "markdown",
   "metadata": {},
   "source": [
    "## Introduction\n",
    "\n",
    "   **In this project,** we will predict airfare of domestic air travel in India."
   ]
  },
  {
   "cell_type": "markdown",
   "metadata": {},
   "source": [
    "## Table of Contents\n",
    "\n",
    "<div class=\"alert alert-block alert-info\" style=\"margin-top: 20px\">\n",
    "    \n",
    "1. [Business Understanding](#0)<br>\n",
    "2. [Data Understanding](#2)<br>\n",
    "3. [Data Preparation](#4)<br>\n",
    "4. [Modeling](#0)<br>\n",
    "2. [Evaluation](#2)<br>\n",
    "3. [Deployment](#4)<br>\n",
    "</div>\n",
    "<hr>"
   ]
  },
  {
   "cell_type": "markdown",
   "metadata": {},
   "source": [
    "## 1. Business Understanding & Analytic Approach <a id=\"0\"></a>\n",
    "<li> What is the problem that you are trying to solve?\n",
    "<li> How can you use data to answer the question?"
   ]
  },
  {
   "cell_type": "markdown",
   "metadata": {},
   "source": [
    "**Business objective-** To predict airfare, as domestic air travel is popular these days in India with different air ticket booking channels, travelers are trying to make sense and understand how airlines price their tickets over time. \n",
    "We want you to explore previous airfare data and build a model to predict the price fluctuations over time so that the consumer could benefit from it. We want you to identify dependency over many endogenous variables. You are free to look at different models from the space of forecasting and regression."
   ]
  },
  {
   "cell_type": "markdown",
   "metadata": {},
   "source": [
    "**Due to Covid-19 & longtime lockdown,** availablity of seats are dificit in Air. Starvation, un-paid in private & uncertainty antilockdown are making fluctuations over time. Given historical data has not included these feautures which influence fluctuations. Model will only try to give the sense. "
   ]
  },
  {
   "cell_type": "markdown",
   "metadata": {},
   "source": [
    "## 2. Data Understanding"
   ]
  },
  {
   "cell_type": "markdown",
   "metadata": {},
   "source": [
    "Import pandas library for various functions as read, write, manupulation"
   ]
  },
  {
   "cell_type": "code",
   "execution_count": 1,
   "metadata": {},
   "outputs": [],
   "source": [
    "import numpy as np\n",
    "import pandas as pd\n",
    "import matplotlib.pyplot as plt\n",
    "%matplotlib inline\n",
    "from matplotlib.pylab import rcParams\n",
    "rcParams['figure.figsize']=10,6"
   ]
  },
  {
   "cell_type": "markdown",
   "metadata": {},
   "source": [
    "Read given data by help of pandas function and assigned in variable dataframe df"
   ]
  },
  {
   "cell_type": "code",
   "execution_count": 2,
   "metadata": {},
   "outputs": [],
   "source": [
    "df = pd.read_csv('C:\\\\Users\\\\Raja\\\\Desktop\\\\project\\\\project2020\\\\air_fair.csv')"
   ]
  },
  {
   "cell_type": "markdown",
   "metadata": {},
   "source": [
    "Parse strings to datetime type "
   ]
  },
  {
   "cell_type": "code",
   "execution_count": 3,
   "metadata": {},
   "outputs": [],
   "source": [
    "df['InvoiceDate'] = pd.to_datetime(df.InvoiceDate, infer_datetime_format=True)\n",
    "index_df=df.set_index(['InvoiceDate'])"
   ]
  },
  {
   "cell_type": "markdown",
   "metadata": {},
   "source": [
    "InvoiceData index sorted"
   ]
  },
  {
   "cell_type": "code",
   "execution_count": 4,
   "metadata": {},
   "outputs": [
    {
     "data": {
      "text/html": [
       "<div>\n",
       "<style scoped>\n",
       "    .dataframe tbody tr th:only-of-type {\n",
       "        vertical-align: middle;\n",
       "    }\n",
       "\n",
       "    .dataframe tbody tr th {\n",
       "        vertical-align: top;\n",
       "    }\n",
       "\n",
       "    .dataframe thead th {\n",
       "        text-align: right;\n",
       "    }\n",
       "</style>\n",
       "<table border=\"1\" class=\"dataframe\">\n",
       "  <thead>\n",
       "    <tr style=\"text-align: right;\">\n",
       "      <th></th>\n",
       "      <th>NetFare</th>\n",
       "      <th>ProductType</th>\n",
       "      <th>ItineraryType</th>\n",
       "    </tr>\n",
       "    <tr>\n",
       "      <th>InvoiceDate</th>\n",
       "      <th></th>\n",
       "      <th></th>\n",
       "      <th></th>\n",
       "    </tr>\n",
       "  </thead>\n",
       "  <tbody>\n",
       "    <tr>\n",
       "      <th>2018-01-04 08:26:00</th>\n",
       "      <td>8222.0</td>\n",
       "      <td>Air</td>\n",
       "      <td>Domestic</td>\n",
       "    </tr>\n",
       "    <tr>\n",
       "      <th>2018-01-04 09:17:00</th>\n",
       "      <td>3418.0</td>\n",
       "      <td>Air</td>\n",
       "      <td>Domestic</td>\n",
       "    </tr>\n",
       "    <tr>\n",
       "      <th>2018-01-04 09:54:00</th>\n",
       "      <td>6708.0</td>\n",
       "      <td>Air</td>\n",
       "      <td>Domestic</td>\n",
       "    </tr>\n",
       "    <tr>\n",
       "      <th>2018-01-04 12:00:00</th>\n",
       "      <td>3625.0</td>\n",
       "      <td>Air</td>\n",
       "      <td>Domestic</td>\n",
       "    </tr>\n",
       "    <tr>\n",
       "      <th>2018-01-04 12:36:00</th>\n",
       "      <td>3099.0</td>\n",
       "      <td>Air</td>\n",
       "      <td>Domestic</td>\n",
       "    </tr>\n",
       "  </tbody>\n",
       "</table>\n",
       "</div>"
      ],
      "text/plain": [
       "                     NetFare ProductType ItineraryType\n",
       "InvoiceDate                                           \n",
       "2018-01-04 08:26:00   8222.0         Air      Domestic\n",
       "2018-01-04 09:17:00   3418.0         Air      Domestic\n",
       "2018-01-04 09:54:00   6708.0         Air      Domestic\n",
       "2018-01-04 12:00:00   3625.0         Air      Domestic\n",
       "2018-01-04 12:36:00   3099.0         Air      Domestic"
      ]
     },
     "execution_count": 4,
     "metadata": {},
     "output_type": "execute_result"
    }
   ],
   "source": [
    "index_df.sort_values(by='InvoiceDate').head()"
   ]
  },
  {
   "cell_type": "markdown",
   "metadata": {},
   "source": [
    "### Descriptive Statistical Analysis"
   ]
  },
  {
   "cell_type": "markdown",
   "metadata": {},
   "source": [
    "Show size of dataframe "
   ]
  },
  {
   "cell_type": "code",
   "execution_count": 5,
   "metadata": {},
   "outputs": [
    {
     "data": {
      "text/plain": [
       "835398"
      ]
     },
     "execution_count": 5,
     "metadata": {},
     "output_type": "execute_result"
    }
   ],
   "source": [
    "index_df.size"
   ]
  },
  {
   "cell_type": "markdown",
   "metadata": {},
   "source": [
    "Show unique value of ProductType column"
   ]
  },
  {
   "cell_type": "code",
   "execution_count": 6,
   "metadata": {},
   "outputs": [
    {
     "data": {
      "text/plain": [
       "array(['Other Product', 'Air', 'Charge', 'Hotel', 'Air Cancellation',\n",
       "       'Other Product Cancellation', 'payment', 'Hotel Cancellation',\n",
       "       'refund', nan, 'Air Debit Note', 'Hotel Debit Note', 'Air Loss',\n",
       "       'Other Product Debit Note', 'Hotel Loss'], dtype=object)"
      ]
     },
     "execution_count": 6,
     "metadata": {},
     "output_type": "execute_result"
    }
   ],
   "source": [
    "index_df.ProductType.unique()"
   ]
  },
  {
   "cell_type": "markdown",
   "metadata": {},
   "source": [
    "Show unique value of Itinerary column"
   ]
  },
  {
   "cell_type": "code",
   "execution_count": 7,
   "metadata": {},
   "outputs": [
    {
     "data": {
      "text/plain": [
       "array(['Domestic', nan, 'International'], dtype=object)"
      ]
     },
     "execution_count": 7,
     "metadata": {},
     "output_type": "execute_result"
    }
   ],
   "source": [
    "index_df.ItineraryType.unique()"
   ]
  },
  {
   "cell_type": "markdown",
   "metadata": {},
   "source": [
    "Show the statistical calculations of dataframe"
   ]
  },
  {
   "cell_type": "code",
   "execution_count": 8,
   "metadata": {},
   "outputs": [
    {
     "data": {
      "text/html": [
       "<div>\n",
       "<style scoped>\n",
       "    .dataframe tbody tr th:only-of-type {\n",
       "        vertical-align: middle;\n",
       "    }\n",
       "\n",
       "    .dataframe tbody tr th {\n",
       "        vertical-align: top;\n",
       "    }\n",
       "\n",
       "    .dataframe thead th {\n",
       "        text-align: right;\n",
       "    }\n",
       "</style>\n",
       "<table border=\"1\" class=\"dataframe\">\n",
       "  <thead>\n",
       "    <tr style=\"text-align: right;\">\n",
       "      <th></th>\n",
       "      <th>NetFare</th>\n",
       "    </tr>\n",
       "  </thead>\n",
       "  <tbody>\n",
       "    <tr>\n",
       "      <th>count</th>\n",
       "      <td>217576.00</td>\n",
       "    </tr>\n",
       "    <tr>\n",
       "      <th>mean</th>\n",
       "      <td>4266.91</td>\n",
       "    </tr>\n",
       "    <tr>\n",
       "      <th>std</th>\n",
       "      <td>9803.14</td>\n",
       "    </tr>\n",
       "    <tr>\n",
       "      <th>min</th>\n",
       "      <td>-497324.00</td>\n",
       "    </tr>\n",
       "    <tr>\n",
       "      <th>25%</th>\n",
       "      <td>10.00</td>\n",
       "    </tr>\n",
       "    <tr>\n",
       "      <th>50%</th>\n",
       "      <td>3501.00</td>\n",
       "    </tr>\n",
       "    <tr>\n",
       "      <th>75%</th>\n",
       "      <td>5944.00</td>\n",
       "    </tr>\n",
       "    <tr>\n",
       "      <th>max</th>\n",
       "      <td>497678.00</td>\n",
       "    </tr>\n",
       "  </tbody>\n",
       "</table>\n",
       "</div>"
      ],
      "text/plain": [
       "         NetFare\n",
       "count  217576.00\n",
       "mean     4266.91\n",
       "std      9803.14\n",
       "min   -497324.00\n",
       "25%        10.00\n",
       "50%      3501.00\n",
       "75%      5944.00\n",
       "max    497678.00"
      ]
     },
     "execution_count": 8,
     "metadata": {},
     "output_type": "execute_result"
    }
   ],
   "source": [
    "index_df.describe().round(2)"
   ]
  },
  {
   "cell_type": "markdown",
   "metadata": {},
   "source": [
    "Show the general info about dataframe"
   ]
  },
  {
   "cell_type": "code",
   "execution_count": 9,
   "metadata": {},
   "outputs": [
    {
     "name": "stdout",
     "output_type": "stream",
     "text": [
      "<class 'pandas.core.frame.DataFrame'>\n",
      "DatetimeIndex: 278466 entries, 2018-01-12 11:43:00 to 2019-10-06 22:30:00\n",
      "Data columns (total 3 columns):\n",
      " #   Column         Non-Null Count   Dtype  \n",
      "---  ------         --------------   -----  \n",
      " 0   NetFare        217576 non-null  float64\n",
      " 1   ProductType    278464 non-null  object \n",
      " 2   ItineraryType  245689 non-null  object \n",
      "dtypes: float64(1), object(2)\n",
      "memory usage: 8.5+ MB\n"
     ]
    }
   ],
   "source": [
    "index_df.info()"
   ]
  },
  {
   "cell_type": "markdown",
   "metadata": {},
   "source": [
    "## 3. Data Preparation"
   ]
  },
  {
   "cell_type": "markdown",
   "metadata": {},
   "source": [
    "<h4>Evaluating for Missing Data</h4>\n",
    "There are two methods to detect missing data:\n",
    "<ol>\n",
    " <li><b>.isnull()</b></li>\n",
    " <li><b>.notnull()</b></li>\n",
    "</ol>   "
   ]
  },
  {
   "cell_type": "markdown",
   "metadata": {},
   "source": [
    "Find missing value by Boolean method:\n",
    "**\"True\"** stands for missing value, while **\"False\"** stands for not missing value."
   ]
  },
  {
   "cell_type": "code",
   "execution_count": 10,
   "metadata": {},
   "outputs": [
    {
     "data": {
      "text/html": [
       "<div>\n",
       "<style scoped>\n",
       "    .dataframe tbody tr th:only-of-type {\n",
       "        vertical-align: middle;\n",
       "    }\n",
       "\n",
       "    .dataframe tbody tr th {\n",
       "        vertical-align: top;\n",
       "    }\n",
       "\n",
       "    .dataframe thead th {\n",
       "        text-align: right;\n",
       "    }\n",
       "</style>\n",
       "<table border=\"1\" class=\"dataframe\">\n",
       "  <thead>\n",
       "    <tr style=\"text-align: right;\">\n",
       "      <th></th>\n",
       "      <th>NetFare</th>\n",
       "      <th>ProductType</th>\n",
       "      <th>ItineraryType</th>\n",
       "    </tr>\n",
       "    <tr>\n",
       "      <th>InvoiceDate</th>\n",
       "      <th></th>\n",
       "      <th></th>\n",
       "      <th></th>\n",
       "    </tr>\n",
       "  </thead>\n",
       "  <tbody>\n",
       "    <tr>\n",
       "      <th>2018-01-12 11:43:00</th>\n",
       "      <td>False</td>\n",
       "      <td>False</td>\n",
       "      <td>False</td>\n",
       "    </tr>\n",
       "    <tr>\n",
       "      <th>2018-01-12 11:43:00</th>\n",
       "      <td>False</td>\n",
       "      <td>False</td>\n",
       "      <td>False</td>\n",
       "    </tr>\n",
       "    <tr>\n",
       "      <th>2018-01-12 13:01:00</th>\n",
       "      <td>False</td>\n",
       "      <td>False</td>\n",
       "      <td>False</td>\n",
       "    </tr>\n",
       "    <tr>\n",
       "      <th>2018-01-12 13:10:00</th>\n",
       "      <td>False</td>\n",
       "      <td>False</td>\n",
       "      <td>False</td>\n",
       "    </tr>\n",
       "    <tr>\n",
       "      <th>2018-11-30 14:30:00</th>\n",
       "      <td>False</td>\n",
       "      <td>False</td>\n",
       "      <td>False</td>\n",
       "    </tr>\n",
       "    <tr>\n",
       "      <th>...</th>\n",
       "      <td>...</td>\n",
       "      <td>...</td>\n",
       "      <td>...</td>\n",
       "    </tr>\n",
       "    <tr>\n",
       "      <th>2019-10-06 20:45:00</th>\n",
       "      <td>False</td>\n",
       "      <td>False</td>\n",
       "      <td>False</td>\n",
       "    </tr>\n",
       "    <tr>\n",
       "      <th>2019-10-06 21:39:00</th>\n",
       "      <td>False</td>\n",
       "      <td>False</td>\n",
       "      <td>False</td>\n",
       "    </tr>\n",
       "    <tr>\n",
       "      <th>2019-10-06 22:18:00</th>\n",
       "      <td>False</td>\n",
       "      <td>False</td>\n",
       "      <td>False</td>\n",
       "    </tr>\n",
       "    <tr>\n",
       "      <th>2019-10-06 22:30:00</th>\n",
       "      <td>False</td>\n",
       "      <td>False</td>\n",
       "      <td>False</td>\n",
       "    </tr>\n",
       "    <tr>\n",
       "      <th>2019-10-06 22:30:00</th>\n",
       "      <td>False</td>\n",
       "      <td>False</td>\n",
       "      <td>False</td>\n",
       "    </tr>\n",
       "  </tbody>\n",
       "</table>\n",
       "<p>278466 rows × 3 columns</p>\n",
       "</div>"
      ],
      "text/plain": [
       "                     NetFare  ProductType  ItineraryType\n",
       "InvoiceDate                                             \n",
       "2018-01-12 11:43:00    False        False          False\n",
       "2018-01-12 11:43:00    False        False          False\n",
       "2018-01-12 13:01:00    False        False          False\n",
       "2018-01-12 13:10:00    False        False          False\n",
       "2018-11-30 14:30:00    False        False          False\n",
       "...                      ...          ...            ...\n",
       "2019-10-06 20:45:00    False        False          False\n",
       "2019-10-06 21:39:00    False        False          False\n",
       "2019-10-06 22:18:00    False        False          False\n",
       "2019-10-06 22:30:00    False        False          False\n",
       "2019-10-06 22:30:00    False        False          False\n",
       "\n",
       "[278466 rows x 3 columns]"
      ]
     },
     "execution_count": 10,
     "metadata": {},
     "output_type": "execute_result"
    }
   ],
   "source": [
    "missing_value = index_df.isnull()\n",
    "missing_value"
   ]
  },
  {
   "cell_type": "markdown",
   "metadata": {},
   "source": [
    "### Count missing values in each column\n",
    "\n",
    "Using a for loop in Python, we can quickly figure out the number of missing values in each column.<br>\n",
    "**\"True\" stands for missing value, while \"False\" stands for not missing value**"
   ]
  },
  {
   "cell_type": "code",
   "execution_count": 11,
   "metadata": {},
   "outputs": [
    {
     "name": "stdout",
     "output_type": "stream",
     "text": [
      "NetFare\n",
      "False    217576\n",
      "True      60890\n",
      "Name: NetFare, dtype: int64\n",
      "\n",
      "ProductType\n",
      "False    278464\n",
      "True          2\n",
      "Name: ProductType, dtype: int64\n",
      "\n",
      "ItineraryType\n",
      "False    245689\n",
      "True      32777\n",
      "Name: ItineraryType, dtype: int64\n",
      "\n"
     ]
    }
   ],
   "source": [
    "for column in missing_value.columns.values.tolist():\n",
    "    print(column)\n",
    "    print (missing_value[column].value_counts())\n",
    "    print(\"\") "
   ]
  },
  {
   "cell_type": "markdown",
   "metadata": {},
   "source": [
    "Based on the summary above, each column has 278466 rows of data, three columns containing missing data:\n",
    "<ol>\n",
    "    <li>\"NetFare\": 60890 missing data</li>\n",
    "<li>\"ProductType\": 2 missing data</li>\n",
    "<li>\"ItineraryType\": 32777 missing data</li>\n",
    "</ol>"
   ]
  },
  {
   "cell_type": "markdown",
   "metadata": {},
   "source": [
    "<h3 id=\"deal_missing_values\">Deal with missing data</h3>\n",
    "<b>How to deal with missing data?</b>\n",
    "\n",
    "<ol>\n",
    "    <li>drop data<br>\n",
    "        a. drop the whole row<br>\n",
    "        b. drop the whole column\n",
    "    </li>\n",
    "    <li>replace data<br>\n",
    "        a. replace it by mean<br>\n",
    "        b. replace it by frequency<br>\n",
    "       </li>\n",
    "</ol>"
   ]
  },
  {
   "cell_type": "markdown",
   "metadata": {},
   "source": [
    "Whole columns should be dropped only if most entries in the column are empty. In our dataset, none of the columns are empty enough to drop entirely.\n",
    "We have some freedom in choosing which method to replace data; however, some methods may seem more reasonable than others. We will apply each method to many different columns:\n",
    "\n",
    "<b>Replace by mean:</b>\n",
    "<ul>\n",
    "    <li>\"NetFare\": 60890 missing data, drop whole rows, they are empty</li>\n",
    "    <li>\"ProductType\": 2 missing data, drop them , among of them 2 are not so necessary</li>\n",
    "    <li>\"ItineraryType\": 32777 missing data, drop them , they are empty</li>\n",
    "</ul>"
   ]
  },
  {
   "cell_type": "markdown",
   "metadata": {},
   "source": [
    "Show data types"
   ]
  },
  {
   "cell_type": "code",
   "execution_count": 12,
   "metadata": {},
   "outputs": [
    {
     "data": {
      "text/plain": [
       "NetFare          float64\n",
       "ProductType       object\n",
       "ItineraryType     object\n",
       "dtype: object"
      ]
     },
     "execution_count": 12,
     "metadata": {},
     "output_type": "execute_result"
    }
   ],
   "source": [
    "index_df.dtypes"
   ]
  },
  {
   "cell_type": "markdown",
   "metadata": {},
   "source": [
    "Drop missing values **[NetFare]** in observations, they are completly empty "
   ]
  },
  {
   "cell_type": "code",
   "execution_count": 13,
   "metadata": {},
   "outputs": [],
   "source": [
    "index_df.dropna(subset=[\"NetFare\"], axis=0, inplace=True)"
   ]
  },
  {
   "cell_type": "markdown",
   "metadata": {},
   "source": [
    "Drop missing values **[ProductType]** in observations, the two rows are negelegible "
   ]
  },
  {
   "cell_type": "code",
   "execution_count": 14,
   "metadata": {},
   "outputs": [],
   "source": [
    "index_df.dropna(subset=[\"ProductType\"], axis=0, inplace=True)"
   ]
  },
  {
   "cell_type": "markdown",
   "metadata": {},
   "source": [
    "Drop missing values **[ItineraryType]** in observations, they are not very sensitive "
   ]
  },
  {
   "cell_type": "code",
   "execution_count": 15,
   "metadata": {},
   "outputs": [],
   "source": [
    "index_df.dropna(subset=[\"ItineraryType\"], axis=0, inplace=True)"
   ]
  },
  {
   "cell_type": "markdown",
   "metadata": {},
   "source": [
    "Reset index, because we droped many rows"
   ]
  },
  {
   "cell_type": "code",
   "execution_count": 16,
   "metadata": {},
   "outputs": [
    {
     "data": {
      "text/html": [
       "<div>\n",
       "<style scoped>\n",
       "    .dataframe tbody tr th:only-of-type {\n",
       "        vertical-align: middle;\n",
       "    }\n",
       "\n",
       "    .dataframe tbody tr th {\n",
       "        vertical-align: top;\n",
       "    }\n",
       "\n",
       "    .dataframe thead th {\n",
       "        text-align: right;\n",
       "    }\n",
       "</style>\n",
       "<table border=\"1\" class=\"dataframe\">\n",
       "  <thead>\n",
       "    <tr style=\"text-align: right;\">\n",
       "      <th></th>\n",
       "      <th>InvoiceDate</th>\n",
       "      <th>NetFare</th>\n",
       "      <th>ProductType</th>\n",
       "      <th>ItineraryType</th>\n",
       "    </tr>\n",
       "  </thead>\n",
       "  <tbody>\n",
       "    <tr>\n",
       "      <th>0</th>\n",
       "      <td>2018-01-12 11:43:00</td>\n",
       "      <td>2160.00</td>\n",
       "      <td>Other Product</td>\n",
       "      <td>Domestic</td>\n",
       "    </tr>\n",
       "    <tr>\n",
       "      <th>1</th>\n",
       "      <td>2018-01-12 11:43:00</td>\n",
       "      <td>0.49</td>\n",
       "      <td>Other Product</td>\n",
       "      <td>Domestic</td>\n",
       "    </tr>\n",
       "    <tr>\n",
       "      <th>2</th>\n",
       "      <td>2018-01-12 13:01:00</td>\n",
       "      <td>6550.00</td>\n",
       "      <td>Air</td>\n",
       "      <td>Domestic</td>\n",
       "    </tr>\n",
       "    <tr>\n",
       "      <th>3</th>\n",
       "      <td>2018-01-12 13:10:00</td>\n",
       "      <td>6550.00</td>\n",
       "      <td>Air</td>\n",
       "      <td>Domestic</td>\n",
       "    </tr>\n",
       "    <tr>\n",
       "      <th>4</th>\n",
       "      <td>2018-11-30 14:30:00</td>\n",
       "      <td>5497.00</td>\n",
       "      <td>Air</td>\n",
       "      <td>Domestic</td>\n",
       "    </tr>\n",
       "  </tbody>\n",
       "</table>\n",
       "</div>"
      ],
      "text/plain": [
       "          InvoiceDate  NetFare    ProductType ItineraryType\n",
       "0 2018-01-12 11:43:00  2160.00  Other Product      Domestic\n",
       "1 2018-01-12 11:43:00     0.49  Other Product      Domestic\n",
       "2 2018-01-12 13:01:00  6550.00            Air      Domestic\n",
       "3 2018-01-12 13:10:00  6550.00            Air      Domestic\n",
       "4 2018-11-30 14:30:00  5497.00            Air      Domestic"
      ]
     },
     "execution_count": 16,
     "metadata": {},
     "output_type": "execute_result"
    }
   ],
   "source": [
    "index_df.reset_index().head()"
   ]
  },
  {
   "cell_type": "code",
   "execution_count": 17,
   "metadata": {},
   "outputs": [
    {
     "data": {
      "text/html": [
       "<div>\n",
       "<style scoped>\n",
       "    .dataframe tbody tr th:only-of-type {\n",
       "        vertical-align: middle;\n",
       "    }\n",
       "\n",
       "    .dataframe tbody tr th {\n",
       "        vertical-align: top;\n",
       "    }\n",
       "\n",
       "    .dataframe thead th {\n",
       "        text-align: right;\n",
       "    }\n",
       "</style>\n",
       "<table border=\"1\" class=\"dataframe\">\n",
       "  <thead>\n",
       "    <tr style=\"text-align: right;\">\n",
       "      <th></th>\n",
       "      <th>NetFare</th>\n",
       "      <th>ProductType</th>\n",
       "      <th>ItineraryType</th>\n",
       "    </tr>\n",
       "    <tr>\n",
       "      <th>InvoiceDate</th>\n",
       "      <th></th>\n",
       "      <th></th>\n",
       "      <th></th>\n",
       "    </tr>\n",
       "  </thead>\n",
       "  <tbody>\n",
       "    <tr>\n",
       "      <th>2018-01-04 08:26:00</th>\n",
       "      <td>8222.0</td>\n",
       "      <td>Air</td>\n",
       "      <td>Domestic</td>\n",
       "    </tr>\n",
       "    <tr>\n",
       "      <th>2018-01-04 09:17:00</th>\n",
       "      <td>3418.0</td>\n",
       "      <td>Air</td>\n",
       "      <td>Domestic</td>\n",
       "    </tr>\n",
       "    <tr>\n",
       "      <th>2018-01-04 09:54:00</th>\n",
       "      <td>6708.0</td>\n",
       "      <td>Air</td>\n",
       "      <td>Domestic</td>\n",
       "    </tr>\n",
       "    <tr>\n",
       "      <th>2018-01-04 12:00:00</th>\n",
       "      <td>3625.0</td>\n",
       "      <td>Air</td>\n",
       "      <td>Domestic</td>\n",
       "    </tr>\n",
       "    <tr>\n",
       "      <th>2018-01-04 12:36:00</th>\n",
       "      <td>3099.0</td>\n",
       "      <td>Air</td>\n",
       "      <td>Domestic</td>\n",
       "    </tr>\n",
       "  </tbody>\n",
       "</table>\n",
       "</div>"
      ],
      "text/plain": [
       "                     NetFare ProductType ItineraryType\n",
       "InvoiceDate                                           \n",
       "2018-01-04 08:26:00   8222.0         Air      Domestic\n",
       "2018-01-04 09:17:00   3418.0         Air      Domestic\n",
       "2018-01-04 09:54:00   6708.0         Air      Domestic\n",
       "2018-01-04 12:00:00   3625.0         Air      Domestic\n",
       "2018-01-04 12:36:00   3099.0         Air      Domestic"
      ]
     },
     "execution_count": 17,
     "metadata": {},
     "output_type": "execute_result"
    }
   ],
   "source": [
    "index_df.sort_values(by='InvoiceDate').head()"
   ]
  },
  {
   "cell_type": "markdown",
   "metadata": {},
   "source": [
    "**Final Cleaned** data"
   ]
  },
  {
   "cell_type": "code",
   "execution_count": 18,
   "metadata": {},
   "outputs": [],
   "source": [
    "missing_data_cleaned = index_df.isnull()"
   ]
  },
  {
   "cell_type": "markdown",
   "metadata": {},
   "source": [
    "**\"True\" stands for missing value, while \"False\" stands for not missing value**"
   ]
  },
  {
   "cell_type": "code",
   "execution_count": 19,
   "metadata": {},
   "outputs": [
    {
     "name": "stdout",
     "output_type": "stream",
     "text": [
      "NetFare\n",
      "False    184800\n",
      "Name: NetFare, dtype: int64\n",
      "\n",
      "ProductType\n",
      "False    184800\n",
      "Name: ProductType, dtype: int64\n",
      "\n",
      "ItineraryType\n",
      "False    184800\n",
      "Name: ItineraryType, dtype: int64\n",
      "\n"
     ]
    }
   ],
   "source": [
    "for column in missing_data_cleaned.columns.values.tolist():\n",
    "    print(column)\n",
    "    print (missing_data_cleaned[column].value_counts())\n",
    "    print(\"\") "
   ]
  },
  {
   "cell_type": "markdown",
   "metadata": {},
   "source": [
    "RAW Data observations=**278466**, CLEANED Data observations=**184800**, USELESS Data observations=**93666**"
   ]
  },
  {
   "cell_type": "markdown",
   "metadata": {},
   "source": [
    "**Box Plot** to find out the outliers:"
   ]
  },
  {
   "cell_type": "code",
   "execution_count": 20,
   "metadata": {},
   "outputs": [],
   "source": [
    "import seaborn as sns"
   ]
  },
  {
   "cell_type": "code",
   "execution_count": 21,
   "metadata": {},
   "outputs": [
    {
     "data": {
      "image/png": "[encoded data removed]",
      "text/plain": [
       "<Figure size 720x1080 with 1 Axes>"
      ]
     },
     "metadata": {
      "needs_background": "light"
     },
     "output_type": "display_data"
    }
   ],
   "source": [
    "fig, ax1=plt.subplots()\n",
    "fig.set_size_inches(10,15)\n",
    "plt.boxplot(index_df[\"NetFare\"])\n",
    "plt.show()"
   ]
  },
  {
   "cell_type": "code",
   "execution_count": 22,
   "metadata": {},
   "outputs": [
    {
     "data": {
      "text/plain": [
       "<matplotlib.axes._subplots.AxesSubplot at 0x2d2c1f24cf8>"
      ]
     },
     "execution_count": 22,
     "metadata": {},
     "output_type": "execute_result"
    },
    {
     "data": {
      "image/png": "[encoded data removed]",
      "text/plain": [
       "<Figure size 720x432 with 1 Axes>"
      ]
     },
     "metadata": {
      "needs_background": "light"
     },
     "output_type": "display_data"
    }
   ],
   "source": [
    "index_df.boxplot(column='NetFare', by='ProductType')"
   ]
  },
  {
   "cell_type": "code",
   "execution_count": 23,
   "metadata": {},
   "outputs": [
    {
     "data": {
      "text/plain": [
       "<matplotlib.axes._subplots.AxesSubplot at 0x2d2c21197f0>"
      ]
     },
     "execution_count": 23,
     "metadata": {},
     "output_type": "execute_result"
    },
    {
     "data": {
      "image/png": "[encoded data removed]",
      "text/plain": [
       "<Figure size 720x432 with 1 Axes>"
      ]
     },
     "metadata": {
      "needs_background": "light"
     },
     "output_type": "display_data"
    }
   ],
   "source": [
    "index_df.boxplot(column='NetFare', by='ItineraryType')"
   ]
  },
  {
   "cell_type": "code",
   "execution_count": 24,
   "metadata": {},
   "outputs": [
    {
     "data": {
      "text/plain": [
       "<matplotlib.axes._subplots.AxesSubplot at 0x2d2c201b3c8>"
      ]
     },
     "execution_count": 24,
     "metadata": {},
     "output_type": "execute_result"
    },
    {
     "data": {
      "image/png": "[encoded data removed]",
      "text/plain": [
       "<Figure size 720x432 with 1 Axes>"
      ]
     },
     "metadata": {
      "needs_background": "light"
     },
     "output_type": "display_data"
    }
   ],
   "source": [
    "df.NetFare.hist()"
   ]
  },
  {
   "cell_type": "code",
   "execution_count": 25,
   "metadata": {},
   "outputs": [
    {
     "data": {
      "text/plain": [
       "<matplotlib.axes._subplots.AxesSubplot at 0x2d2c209f400>"
      ]
     },
     "execution_count": 25,
     "metadata": {},
     "output_type": "execute_result"
    },
    {
     "data": {
      "image/png": "[encoded data removed]",
      "text/plain": [
       "<Figure size 720x432 with 1 Axes>"
      ]
     },
     "metadata": {
      "needs_background": "light"
     },
     "output_type": "display_data"
    }
   ],
   "source": [
    "index_df.ItineraryType.hist()"
   ]
  },
  {
   "cell_type": "code",
   "execution_count": 26,
   "metadata": {},
   "outputs": [
    {
     "data": {
      "text/plain": [
       "<matplotlib.axes._subplots.AxesSubplot at 0x2d2c2213438>"
      ]
     },
     "execution_count": 26,
     "metadata": {},
     "output_type": "execute_result"
    },
    {
     "data": {
      "image/png": "[encoded data removed]",
      "text/plain": [
       "<Figure size 720x432 with 1 Axes>"
      ]
     },
     "metadata": {
      "needs_background": "light"
     },
     "output_type": "display_data"
    }
   ],
   "source": [
    "index_df.ProductType.hist()"
   ]
  },
  {
   "cell_type": "markdown",
   "metadata": {},
   "source": [
    "#### Identifying Outliers with Interquartile Range (IQR)"
   ]
  },
  {
   "cell_type": "code",
   "execution_count": 27,
   "metadata": {},
   "outputs": [
    {
     "name": "stdout",
     "output_type": "stream",
     "text": [
      "NetFare    4314.0\n",
      "dtype: float64\n"
     ]
    }
   ],
   "source": [
    "Q1 = index_df.quantile(0.25)\n",
    "Q3 = index_df.quantile(0.75)\n",
    "IQR = Q3 - Q1  \n",
    "print(IQR)"
   ]
  },
  {
   "cell_type": "markdown",
   "metadata": {},
   "source": [
    "The code below generates an output with the 'True' and 'False' values. Points where the values are 'True' represent the presence of the outlier."
   ]
  },
  {
   "cell_type": "code",
   "execution_count": 28,
   "metadata": {},
   "outputs": [
    {
     "name": "stdout",
     "output_type": "stream",
     "text": [
      "                     ItineraryType  NetFare  ProductType\n",
      "InvoiceDate                                             \n",
      "2018-01-12 11:43:00          False    False        False\n",
      "2018-01-12 11:43:00          False    False        False\n",
      "2018-01-12 13:01:00          False    False        False\n",
      "2018-01-12 13:10:00          False    False        False\n",
      "2018-11-30 14:30:00          False    False        False\n",
      "...                            ...      ...          ...\n",
      "2019-10-06 20:45:00          False    False        False\n",
      "2019-10-06 21:39:00          False    False        False\n",
      "2019-10-06 22:18:00          False    False        False\n",
      "2019-10-06 22:30:00          False    False        False\n",
      "2019-10-06 22:30:00          False    False        False\n",
      "\n",
      "[184800 rows x 3 columns]\n"
     ]
    }
   ],
   "source": [
    "print((index_df  < (Q1 - 1.5 * IQR)) | (index_df  > (Q3 + 1.5 * IQR)))"
   ]
  },
  {
   "cell_type": "markdown",
   "metadata": {},
   "source": [
    "#### Identifying Outliers with Skewness (-1 to +1)"
   ]
  },
  {
   "cell_type": "code",
   "execution_count": 29,
   "metadata": {},
   "outputs": [
    {
     "name": "stdout",
     "output_type": "stream",
     "text": [
      "11.686463514862059\n"
     ]
    },
    {
     "data": {
      "text/plain": [
       "count    217576.000000\n",
       "mean       4266.905212\n",
       "std        9803.137297\n",
       "min     -497324.000000\n",
       "25%          10.000000\n",
       "50%        3501.000000\n",
       "75%        5944.000000\n",
       "max      497678.000000\n",
       "Name: NetFare, dtype: float64"
      ]
     },
     "execution_count": 29,
     "metadata": {},
     "output_type": "execute_result"
    }
   ],
   "source": [
    "print(df['NetFare'].skew())\n",
    "df['NetFare'].describe()"
   ]
  },
  {
   "cell_type": "markdown",
   "metadata": {},
   "source": [
    "Highly right skewness(11.13). Max value is 497678"
   ]
  },
  {
   "cell_type": "markdown",
   "metadata": {},
   "source": [
    "### IQR Score\n",
    "This shows that for our data, a lot of records get deleted if we use the IQR method."
   ]
  },
  {
   "cell_type": "code",
   "execution_count": 30,
   "metadata": {},
   "outputs": [
    {
     "name": "stdout",
     "output_type": "stream",
     "text": [
      "(170117, 3)\n"
     ]
    }
   ],
   "source": [
    "index_outlier = index_df[~((index_df < (Q1 - 1.5 * IQR)) |(index_df > (Q3 + 1.5 * IQR))).any(axis=1)]\n",
    "print(index_outlier.shape)"
   ]
  },
  {
   "cell_type": "code",
   "execution_count": 31,
   "metadata": {},
   "outputs": [
    {
     "data": {
      "text/html": [
       "<div>\n",
       "<style scoped>\n",
       "    .dataframe tbody tr th:only-of-type {\n",
       "        vertical-align: middle;\n",
       "    }\n",
       "\n",
       "    .dataframe tbody tr th {\n",
       "        vertical-align: top;\n",
       "    }\n",
       "\n",
       "    .dataframe thead th {\n",
       "        text-align: right;\n",
       "    }\n",
       "</style>\n",
       "<table border=\"1\" class=\"dataframe\">\n",
       "  <thead>\n",
       "    <tr style=\"text-align: right;\">\n",
       "      <th></th>\n",
       "      <th>NetFare</th>\n",
       "      <th>ProductType</th>\n",
       "      <th>ItineraryType</th>\n",
       "    </tr>\n",
       "    <tr>\n",
       "      <th>InvoiceDate</th>\n",
       "      <th></th>\n",
       "      <th></th>\n",
       "      <th></th>\n",
       "    </tr>\n",
       "  </thead>\n",
       "  <tbody>\n",
       "    <tr>\n",
       "      <th>2018-01-12 11:43:00</th>\n",
       "      <td>2160.00</td>\n",
       "      <td>Other Product</td>\n",
       "      <td>Domestic</td>\n",
       "    </tr>\n",
       "    <tr>\n",
       "      <th>2018-01-12 11:43:00</th>\n",
       "      <td>0.49</td>\n",
       "      <td>Other Product</td>\n",
       "      <td>Domestic</td>\n",
       "    </tr>\n",
       "    <tr>\n",
       "      <th>2018-01-12 13:01:00</th>\n",
       "      <td>6550.00</td>\n",
       "      <td>Air</td>\n",
       "      <td>Domestic</td>\n",
       "    </tr>\n",
       "    <tr>\n",
       "      <th>2018-01-12 13:10:00</th>\n",
       "      <td>6550.00</td>\n",
       "      <td>Air</td>\n",
       "      <td>Domestic</td>\n",
       "    </tr>\n",
       "    <tr>\n",
       "      <th>2018-11-30 14:30:00</th>\n",
       "      <td>5497.00</td>\n",
       "      <td>Air</td>\n",
       "      <td>Domestic</td>\n",
       "    </tr>\n",
       "    <tr>\n",
       "      <th>...</th>\n",
       "      <td>...</td>\n",
       "      <td>...</td>\n",
       "      <td>...</td>\n",
       "    </tr>\n",
       "    <tr>\n",
       "      <th>2019-10-06 20:45:00</th>\n",
       "      <td>0.00</td>\n",
       "      <td>Air</td>\n",
       "      <td>Domestic</td>\n",
       "    </tr>\n",
       "    <tr>\n",
       "      <th>2019-10-06 21:39:00</th>\n",
       "      <td>9073.00</td>\n",
       "      <td>Air</td>\n",
       "      <td>Domestic</td>\n",
       "    </tr>\n",
       "    <tr>\n",
       "      <th>2019-10-06 22:18:00</th>\n",
       "      <td>2367.00</td>\n",
       "      <td>Air</td>\n",
       "      <td>Domestic</td>\n",
       "    </tr>\n",
       "    <tr>\n",
       "      <th>2019-10-06 22:30:00</th>\n",
       "      <td>6572.00</td>\n",
       "      <td>Air</td>\n",
       "      <td>Domestic</td>\n",
       "    </tr>\n",
       "    <tr>\n",
       "      <th>2019-10-06 22:30:00</th>\n",
       "      <td>5118.00</td>\n",
       "      <td>Air</td>\n",
       "      <td>Domestic</td>\n",
       "    </tr>\n",
       "  </tbody>\n",
       "</table>\n",
       "<p>170117 rows × 3 columns</p>\n",
       "</div>"
      ],
      "text/plain": [
       "                     NetFare    ProductType ItineraryType\n",
       "InvoiceDate                                              \n",
       "2018-01-12 11:43:00  2160.00  Other Product      Domestic\n",
       "2018-01-12 11:43:00     0.49  Other Product      Domestic\n",
       "2018-01-12 13:01:00  6550.00            Air      Domestic\n",
       "2018-01-12 13:10:00  6550.00            Air      Domestic\n",
       "2018-11-30 14:30:00  5497.00            Air      Domestic\n",
       "...                      ...            ...           ...\n",
       "2019-10-06 20:45:00     0.00            Air      Domestic\n",
       "2019-10-06 21:39:00  9073.00            Air      Domestic\n",
       "2019-10-06 22:18:00  2367.00            Air      Domestic\n",
       "2019-10-06 22:30:00  6572.00            Air      Domestic\n",
       "2019-10-06 22:30:00  5118.00            Air      Domestic\n",
       "\n",
       "[170117 rows x 3 columns]"
      ]
     },
     "execution_count": 31,
     "metadata": {},
     "output_type": "execute_result"
    }
   ],
   "source": [
    "index_outlier"
   ]
  },
  {
   "cell_type": "markdown",
   "metadata": {},
   "source": [
    "<p style=\"color:red\">Among CLEANED Data observations=**184800**, after delation of outlier REMAINDER Data observations=**170117** </p>"
   ]
  },
  {
   "cell_type": "markdown",
   "metadata": {},
   "source": [
    "### Checking Outliers Box-Plot"
   ]
  },
  {
   "cell_type": "code",
   "execution_count": 32,
   "metadata": {},
   "outputs": [
    {
     "data": {
      "image/png": "[encoded data removed]",
      "text/plain": [
       "<Figure size 360x360 with 1 Axes>"
      ]
     },
     "metadata": {
      "needs_background": "light"
     },
     "output_type": "display_data"
    }
   ],
   "source": [
    "fig, ax1=plt.subplots()\n",
    "fig.set_size_inches(5,5)\n",
    "plt.boxplot(index_outlier[\"NetFare\"])\n",
    "plt.show()"
   ]
  },
  {
   "cell_type": "code",
   "execution_count": 33,
   "metadata": {},
   "outputs": [
    {
     "name": "stdout",
     "output_type": "stream",
     "text": [
      "0.10733512294966292\n"
     ]
    },
    {
     "data": {
      "text/plain": [
       "count    170117.000000\n",
       "mean       4138.070657\n",
       "std        3034.224226\n",
       "min       -4315.000000\n",
       "25%        2243.000000\n",
       "50%        4044.000000\n",
       "75%        6084.000000\n",
       "max       12941.000000\n",
       "Name: NetFare, dtype: float64"
      ]
     },
     "execution_count": 33,
     "metadata": {},
     "output_type": "execute_result"
    }
   ],
   "source": [
    "print(index_outlier['NetFare'].skew())\n",
    "index_outlier['NetFare'].describe()"
   ]
  },
  {
   "cell_type": "markdown",
   "metadata": {},
   "source": [
    "<b>Good!</b> Now, we obtain the dataset with no missing values, no outliers."
   ]
  },
  {
   "cell_type": "markdown",
   "metadata": {},
   "source": [
    "### Data Normalization\n",
    "**Target:** would like to Normalize those variables so their value ranges from 0 to 1.<br>\n",
    "**Approach:** replace original value by (original value)/(maximum value)."
   ]
  },
  {
   "cell_type": "code",
   "execution_count": 34,
   "metadata": {},
   "outputs": [
    {
     "name": "stderr",
     "output_type": "stream",
     "text": [
      "C:\\Users\\Raja\\.conda\\envs\\pycaret\\lib\\site-packages\\pandas\\core\\generic.py:5303: SettingWithCopyWarning: \n",
      "A value is trying to be set on a copy of a slice from a DataFrame.\n",
      "Try using .loc[row_indexer,col_indexer] = value instead\n",
      "\n",
      "See the caveats in the documentation: https://pandas.pydata.org/pandas-docs/stable/user_guide/indexing.html#returning-a-view-versus-a-copy\n",
      "  self[name] = value\n"
     ]
    },
    {
     "data": {
      "text/html": [
       "<div>\n",
       "<style scoped>\n",
       "    .dataframe tbody tr th:only-of-type {\n",
       "        vertical-align: middle;\n",
       "    }\n",
       "\n",
       "    .dataframe tbody tr th {\n",
       "        vertical-align: top;\n",
       "    }\n",
       "\n",
       "    .dataframe thead th {\n",
       "        text-align: right;\n",
       "    }\n",
       "</style>\n",
       "<table border=\"1\" class=\"dataframe\">\n",
       "  <thead>\n",
       "    <tr style=\"text-align: right;\">\n",
       "      <th></th>\n",
       "      <th>NetFare</th>\n",
       "      <th>ProductType</th>\n",
       "      <th>ItineraryType</th>\n",
       "    </tr>\n",
       "    <tr>\n",
       "      <th>InvoiceDate</th>\n",
       "      <th></th>\n",
       "      <th></th>\n",
       "      <th></th>\n",
       "    </tr>\n",
       "  </thead>\n",
       "  <tbody>\n",
       "    <tr>\n",
       "      <th>2018-01-12 11:43:00</th>\n",
       "      <td>0.1669</td>\n",
       "      <td>Other Product</td>\n",
       "      <td>Domestic</td>\n",
       "    </tr>\n",
       "    <tr>\n",
       "      <th>2018-01-12 11:43:00</th>\n",
       "      <td>0.0000</td>\n",
       "      <td>Other Product</td>\n",
       "      <td>Domestic</td>\n",
       "    </tr>\n",
       "    <tr>\n",
       "      <th>2018-01-12 13:01:00</th>\n",
       "      <td>0.5061</td>\n",
       "      <td>Air</td>\n",
       "      <td>Domestic</td>\n",
       "    </tr>\n",
       "    <tr>\n",
       "      <th>2018-01-12 13:10:00</th>\n",
       "      <td>0.5061</td>\n",
       "      <td>Air</td>\n",
       "      <td>Domestic</td>\n",
       "    </tr>\n",
       "    <tr>\n",
       "      <th>2018-11-30 14:30:00</th>\n",
       "      <td>0.4248</td>\n",
       "      <td>Air</td>\n",
       "      <td>Domestic</td>\n",
       "    </tr>\n",
       "  </tbody>\n",
       "</table>\n",
       "</div>"
      ],
      "text/plain": [
       "                     NetFare    ProductType ItineraryType\n",
       "InvoiceDate                                              \n",
       "2018-01-12 11:43:00   0.1669  Other Product      Domestic\n",
       "2018-01-12 11:43:00   0.0000  Other Product      Domestic\n",
       "2018-01-12 13:01:00   0.5061            Air      Domestic\n",
       "2018-01-12 13:10:00   0.5061            Air      Domestic\n",
       "2018-11-30 14:30:00   0.4248            Air      Domestic"
      ]
     },
     "execution_count": 34,
     "metadata": {},
     "output_type": "execute_result"
    }
   ],
   "source": [
    "index_outlier.NetFare = index_outlier.NetFare/index_outlier.NetFare.max()\n",
    "index_outlier.head().round(4)"
   ]
  },
  {
   "cell_type": "markdown",
   "metadata": {},
   "source": [
    "### Binning\n",
    "**Why binning?**\n",
    "Binning is a process of transforming continuous numerical variables into discrete categorical 'bins', for grouped analysis."
   ]
  },
  {
   "cell_type": "markdown",
   "metadata": {},
   "source": [
    "Lets plot the histogram of NetFare, to see what the distribution of NetFare looks like."
   ]
  },
  {
   "cell_type": "code",
   "execution_count": 35,
   "metadata": {},
   "outputs": [
    {
     "data": {
      "text/plain": [
       "Text(0.5, 1.0, 'NetFare bins')"
      ]
     },
     "execution_count": 35,
     "metadata": {},
     "output_type": "execute_result"
    },
    {
     "data": {
      "image/png": "[encoded data removed]",
      "text/plain": [
       "<Figure size 720x432 with 1 Axes>"
      ]
     },
     "metadata": {
      "needs_background": "light"
     },
     "output_type": "display_data"
    }
   ],
   "source": [
    "plt.hist(index_outlier[\"NetFare\"])\n",
    "\n",
    "# set x/y labels and plot title\n",
    "plt.xlabel(\"NetFare\")\n",
    "plt.ylabel(\"count\")\n",
    "plt.title(\"NetFare bins\")"
   ]
  },
  {
   "cell_type": "markdown",
   "metadata": {},
   "source": [
    "Create bar plot for ProductType"
   ]
  },
  {
   "cell_type": "code",
   "execution_count": 36,
   "metadata": {},
   "outputs": [
    {
     "data": {
      "text/plain": [
       "Air                           140669\n",
       "Other Product                  18660\n",
       "Hotel                           6988\n",
       "Air Cancellation                2416\n",
       "Other Product Cancellation       538\n",
       "Air Debit Note                   535\n",
       "Air Loss                         190\n",
       "Hotel Cancellation                93\n",
       "Other Product Debit Note          21\n",
       "Hotel Loss                         4\n",
       "Hotel Debit Note                   3\n",
       "Name: ProductType, dtype: int64"
      ]
     },
     "execution_count": 36,
     "metadata": {},
     "output_type": "execute_result"
    }
   ],
   "source": [
    "index_outlier['ProductType'].value_counts()"
   ]
  },
  {
   "cell_type": "code",
   "execution_count": 37,
   "metadata": {},
   "outputs": [
    {
     "data": {
      "text/plain": [
       "<matplotlib.axes._subplots.AxesSubplot at 0x2d2c28e3e10>"
      ]
     },
     "execution_count": 37,
     "metadata": {},
     "output_type": "execute_result"
    },
    {
     "data": {
      "image/png": "[encoded data removed]",
      "text/plain": [
       "<Figure size 720x432 with 1 Axes>"
      ]
     },
     "metadata": {
      "needs_background": "light"
     },
     "output_type": "display_data"
    }
   ],
   "source": [
    "index_outlier['ProductType'].value_counts().plot(kind='bar')"
   ]
  },
  {
   "cell_type": "markdown",
   "metadata": {},
   "source": [
    "Create bar plot of ItineraryType ( Domestic, International)"
   ]
  },
  {
   "cell_type": "code",
   "execution_count": 38,
   "metadata": {},
   "outputs": [
    {
     "data": {
      "text/plain": [
       "Domestic         162378\n",
       "International      7739\n",
       "Name: ItineraryType, dtype: int64"
      ]
     },
     "execution_count": 38,
     "metadata": {},
     "output_type": "execute_result"
    }
   ],
   "source": [
    "index_outlier['ItineraryType'].value_counts()"
   ]
  },
  {
   "cell_type": "code",
   "execution_count": 39,
   "metadata": {},
   "outputs": [
    {
     "data": {
      "text/plain": [
       "<matplotlib.axes._subplots.AxesSubplot at 0x2d2c3fffa90>"
      ]
     },
     "execution_count": 39,
     "metadata": {},
     "output_type": "execute_result"
    },
    {
     "data": {
      "image/png": "[encoded data removed]",
      "text/plain": [
       "<Figure size 720x432 with 1 Axes>"
      ]
     },
     "metadata": {
      "needs_background": "light"
     },
     "output_type": "display_data"
    }
   ],
   "source": [
    "index_outlier['ItineraryType'].value_counts().plot(kind='bar')"
   ]
  },
  {
   "cell_type": "code",
   "execution_count": 40,
   "metadata": {},
   "outputs": [],
   "source": [
    "dummy_df=pd.get_dummies(index_outlier, columns=['ProductType', 'ItineraryType'], drop_first=True)"
   ]
  },
  {
   "cell_type": "code",
   "execution_count": 41,
   "metadata": {},
   "outputs": [],
   "source": [
    "#dummy_df=dummy_df.rename(columns = {'ProductType_Air Cancellation':'ProTypeAirCanc','ProductType_Air Debit Note':'ProTypeAirDebtNote','ProductType_Air Loss':'ProTypeAirLoss','ProductType_Hotel':'ProTypeHot','ProductType_Hotel Cancellation':'ProTypeHotCanc','ProductType_Hotel Debit Note':'ProTypeHotDebNote','ProductType_Hotel Loss':'ProTypeHotLoss','ProductType_Other Product':'ProTypeOthPro','ProductType_Other Product Cancellation':'ProTypeOthProCanc','ProductType_Other Product Debit Note':'ProTypeOthProDebNote','ItineraryType_International':'IteTypeInter'}, inplace=True)\n"
   ]
  },
  {
   "cell_type": "code",
   "execution_count": 42,
   "metadata": {},
   "outputs": [
    {
     "data": {
      "text/html": [
       "<div>\n",
       "<style scoped>\n",
       "    .dataframe tbody tr th:only-of-type {\n",
       "        vertical-align: middle;\n",
       "    }\n",
       "\n",
       "    .dataframe tbody tr th {\n",
       "        vertical-align: top;\n",
       "    }\n",
       "\n",
       "    .dataframe thead th {\n",
       "        text-align: right;\n",
       "    }\n",
       "</style>\n",
       "<table border=\"1\" class=\"dataframe\">\n",
       "  <thead>\n",
       "    <tr style=\"text-align: right;\">\n",
       "      <th></th>\n",
       "      <th>NetFare</th>\n",
       "      <th>ProductType_Air Cancellation</th>\n",
       "      <th>ProductType_Air Debit Note</th>\n",
       "      <th>ProductType_Air Loss</th>\n",
       "      <th>ProductType_Hotel</th>\n",
       "      <th>ProductType_Hotel Cancellation</th>\n",
       "      <th>ProductType_Hotel Debit Note</th>\n",
       "      <th>ProductType_Hotel Loss</th>\n",
       "      <th>ProductType_Other Product</th>\n",
       "      <th>ProductType_Other Product Cancellation</th>\n",
       "      <th>ProductType_Other Product Debit Note</th>\n",
       "      <th>ItineraryType_International</th>\n",
       "    </tr>\n",
       "    <tr>\n",
       "      <th>InvoiceDate</th>\n",
       "      <th></th>\n",
       "      <th></th>\n",
       "      <th></th>\n",
       "      <th></th>\n",
       "      <th></th>\n",
       "      <th></th>\n",
       "      <th></th>\n",
       "      <th></th>\n",
       "      <th></th>\n",
       "      <th></th>\n",
       "      <th></th>\n",
       "      <th></th>\n",
       "    </tr>\n",
       "  </thead>\n",
       "  <tbody>\n",
       "    <tr>\n",
       "      <th>2018-01-12 11:43:00</th>\n",
       "      <td>0.166911</td>\n",
       "      <td>0</td>\n",
       "      <td>0</td>\n",
       "      <td>0</td>\n",
       "      <td>0</td>\n",
       "      <td>0</td>\n",
       "      <td>0</td>\n",
       "      <td>0</td>\n",
       "      <td>1</td>\n",
       "      <td>0</td>\n",
       "      <td>0</td>\n",
       "      <td>0</td>\n",
       "    </tr>\n",
       "    <tr>\n",
       "      <th>2018-01-12 11:43:00</th>\n",
       "      <td>0.000038</td>\n",
       "      <td>0</td>\n",
       "      <td>0</td>\n",
       "      <td>0</td>\n",
       "      <td>0</td>\n",
       "      <td>0</td>\n",
       "      <td>0</td>\n",
       "      <td>0</td>\n",
       "      <td>1</td>\n",
       "      <td>0</td>\n",
       "      <td>0</td>\n",
       "      <td>0</td>\n",
       "    </tr>\n",
       "    <tr>\n",
       "      <th>2018-01-12 13:01:00</th>\n",
       "      <td>0.506143</td>\n",
       "      <td>0</td>\n",
       "      <td>0</td>\n",
       "      <td>0</td>\n",
       "      <td>0</td>\n",
       "      <td>0</td>\n",
       "      <td>0</td>\n",
       "      <td>0</td>\n",
       "      <td>0</td>\n",
       "      <td>0</td>\n",
       "      <td>0</td>\n",
       "      <td>0</td>\n",
       "    </tr>\n",
       "    <tr>\n",
       "      <th>2018-01-12 13:10:00</th>\n",
       "      <td>0.506143</td>\n",
       "      <td>0</td>\n",
       "      <td>0</td>\n",
       "      <td>0</td>\n",
       "      <td>0</td>\n",
       "      <td>0</td>\n",
       "      <td>0</td>\n",
       "      <td>0</td>\n",
       "      <td>0</td>\n",
       "      <td>0</td>\n",
       "      <td>0</td>\n",
       "      <td>0</td>\n",
       "    </tr>\n",
       "    <tr>\n",
       "      <th>2018-11-30 14:30:00</th>\n",
       "      <td>0.424774</td>\n",
       "      <td>0</td>\n",
       "      <td>0</td>\n",
       "      <td>0</td>\n",
       "      <td>0</td>\n",
       "      <td>0</td>\n",
       "      <td>0</td>\n",
       "      <td>0</td>\n",
       "      <td>0</td>\n",
       "      <td>0</td>\n",
       "      <td>0</td>\n",
       "      <td>0</td>\n",
       "    </tr>\n",
       "    <tr>\n",
       "      <th>...</th>\n",
       "      <td>...</td>\n",
       "      <td>...</td>\n",
       "      <td>...</td>\n",
       "      <td>...</td>\n",
       "      <td>...</td>\n",
       "      <td>...</td>\n",
       "      <td>...</td>\n",
       "      <td>...</td>\n",
       "      <td>...</td>\n",
       "      <td>...</td>\n",
       "      <td>...</td>\n",
       "      <td>...</td>\n",
       "    </tr>\n",
       "    <tr>\n",
       "      <th>2019-10-06 20:45:00</th>\n",
       "      <td>0.000000</td>\n",
       "      <td>0</td>\n",
       "      <td>0</td>\n",
       "      <td>0</td>\n",
       "      <td>0</td>\n",
       "      <td>0</td>\n",
       "      <td>0</td>\n",
       "      <td>0</td>\n",
       "      <td>0</td>\n",
       "      <td>0</td>\n",
       "      <td>0</td>\n",
       "      <td>0</td>\n",
       "    </tr>\n",
       "    <tr>\n",
       "      <th>2019-10-06 21:39:00</th>\n",
       "      <td>0.701105</td>\n",
       "      <td>0</td>\n",
       "      <td>0</td>\n",
       "      <td>0</td>\n",
       "      <td>0</td>\n",
       "      <td>0</td>\n",
       "      <td>0</td>\n",
       "      <td>0</td>\n",
       "      <td>0</td>\n",
       "      <td>0</td>\n",
       "      <td>0</td>\n",
       "      <td>0</td>\n",
       "    </tr>\n",
       "    <tr>\n",
       "      <th>2019-10-06 22:18:00</th>\n",
       "      <td>0.182907</td>\n",
       "      <td>0</td>\n",
       "      <td>0</td>\n",
       "      <td>0</td>\n",
       "      <td>0</td>\n",
       "      <td>0</td>\n",
       "      <td>0</td>\n",
       "      <td>0</td>\n",
       "      <td>0</td>\n",
       "      <td>0</td>\n",
       "      <td>0</td>\n",
       "      <td>0</td>\n",
       "    </tr>\n",
       "    <tr>\n",
       "      <th>2019-10-06 22:30:00</th>\n",
       "      <td>0.507843</td>\n",
       "      <td>0</td>\n",
       "      <td>0</td>\n",
       "      <td>0</td>\n",
       "      <td>0</td>\n",
       "      <td>0</td>\n",
       "      <td>0</td>\n",
       "      <td>0</td>\n",
       "      <td>0</td>\n",
       "      <td>0</td>\n",
       "      <td>0</td>\n",
       "      <td>0</td>\n",
       "    </tr>\n",
       "    <tr>\n",
       "      <th>2019-10-06 22:30:00</th>\n",
       "      <td>0.395487</td>\n",
       "      <td>0</td>\n",
       "      <td>0</td>\n",
       "      <td>0</td>\n",
       "      <td>0</td>\n",
       "      <td>0</td>\n",
       "      <td>0</td>\n",
       "      <td>0</td>\n",
       "      <td>0</td>\n",
       "      <td>0</td>\n",
       "      <td>0</td>\n",
       "      <td>0</td>\n",
       "    </tr>\n",
       "  </tbody>\n",
       "</table>\n",
       "<p>170117 rows × 12 columns</p>\n",
       "</div>"
      ],
      "text/plain": [
       "                      NetFare  ProductType_Air Cancellation  \\\n",
       "InvoiceDate                                                   \n",
       "2018-01-12 11:43:00  0.166911                             0   \n",
       "2018-01-12 11:43:00  0.000038                             0   \n",
       "2018-01-12 13:01:00  0.506143                             0   \n",
       "2018-01-12 13:10:00  0.506143                             0   \n",
       "2018-11-30 14:30:00  0.424774                             0   \n",
       "...                       ...                           ...   \n",
       "2019-10-06 20:45:00  0.000000                             0   \n",
       "2019-10-06 21:39:00  0.701105                             0   \n",
       "2019-10-06 22:18:00  0.182907                             0   \n",
       "2019-10-06 22:30:00  0.507843                             0   \n",
       "2019-10-06 22:30:00  0.395487                             0   \n",
       "\n",
       "                     ProductType_Air Debit Note  ProductType_Air Loss  \\\n",
       "InvoiceDate                                                             \n",
       "2018-01-12 11:43:00                           0                     0   \n",
       "2018-01-12 11:43:00                           0                     0   \n",
       "2018-01-12 13:01:00                           0                     0   \n",
       "2018-01-12 13:10:00                           0                     0   \n",
       "2018-11-30 14:30:00                           0                     0   \n",
       "...                                         ...                   ...   \n",
       "2019-10-06 20:45:00                           0                     0   \n",
       "2019-10-06 21:39:00                           0                     0   \n",
       "2019-10-06 22:18:00                           0                     0   \n",
       "2019-10-06 22:30:00                           0                     0   \n",
       "2019-10-06 22:30:00                           0                     0   \n",
       "\n",
       "                     ProductType_Hotel  ProductType_Hotel Cancellation  \\\n",
       "InvoiceDate                                                              \n",
       "2018-01-12 11:43:00                  0                               0   \n",
       "2018-01-12 11:43:00                  0                               0   \n",
       "2018-01-12 13:01:00                  0                               0   \n",
       "2018-01-12 13:10:00                  0                               0   \n",
       "2018-11-30 14:30:00                  0                               0   \n",
       "...                                ...                             ...   \n",
       "2019-10-06 20:45:00                  0                               0   \n",
       "2019-10-06 21:39:00                  0                               0   \n",
       "2019-10-06 22:18:00                  0                               0   \n",
       "2019-10-06 22:30:00                  0                               0   \n",
       "2019-10-06 22:30:00                  0                               0   \n",
       "\n",
       "                     ProductType_Hotel Debit Note  ProductType_Hotel Loss  \\\n",
       "InvoiceDate                                                                 \n",
       "2018-01-12 11:43:00                             0                       0   \n",
       "2018-01-12 11:43:00                             0                       0   \n",
       "2018-01-12 13:01:00                             0                       0   \n",
       "2018-01-12 13:10:00                             0                       0   \n",
       "2018-11-30 14:30:00                             0                       0   \n",
       "...                                           ...                     ...   \n",
       "2019-10-06 20:45:00                             0                       0   \n",
       "2019-10-06 21:39:00                             0                       0   \n",
       "2019-10-06 22:18:00                             0                       0   \n",
       "2019-10-06 22:30:00                             0                       0   \n",
       "2019-10-06 22:30:00                             0                       0   \n",
       "\n",
       "                     ProductType_Other Product  \\\n",
       "InvoiceDate                                      \n",
       "2018-01-12 11:43:00                          1   \n",
       "2018-01-12 11:43:00                          1   \n",
       "2018-01-12 13:01:00                          0   \n",
       "2018-01-12 13:10:00                          0   \n",
       "2018-11-30 14:30:00                          0   \n",
       "...                                        ...   \n",
       "2019-10-06 20:45:00                          0   \n",
       "2019-10-06 21:39:00                          0   \n",
       "2019-10-06 22:18:00                          0   \n",
       "2019-10-06 22:30:00                          0   \n",
       "2019-10-06 22:30:00                          0   \n",
       "\n",
       "                     ProductType_Other Product Cancellation  \\\n",
       "InvoiceDate                                                   \n",
       "2018-01-12 11:43:00                                       0   \n",
       "2018-01-12 11:43:00                                       0   \n",
       "2018-01-12 13:01:00                                       0   \n",
       "2018-01-12 13:10:00                                       0   \n",
       "2018-11-30 14:30:00                                       0   \n",
       "...                                                     ...   \n",
       "2019-10-06 20:45:00                                       0   \n",
       "2019-10-06 21:39:00                                       0   \n",
       "2019-10-06 22:18:00                                       0   \n",
       "2019-10-06 22:30:00                                       0   \n",
       "2019-10-06 22:30:00                                       0   \n",
       "\n",
       "                     ProductType_Other Product Debit Note  \\\n",
       "InvoiceDate                                                 \n",
       "2018-01-12 11:43:00                                     0   \n",
       "2018-01-12 11:43:00                                     0   \n",
       "2018-01-12 13:01:00                                     0   \n",
       "2018-01-12 13:10:00                                     0   \n",
       "2018-11-30 14:30:00                                     0   \n",
       "...                                                   ...   \n",
       "2019-10-06 20:45:00                                     0   \n",
       "2019-10-06 21:39:00                                     0   \n",
       "2019-10-06 22:18:00                                     0   \n",
       "2019-10-06 22:30:00                                     0   \n",
       "2019-10-06 22:30:00                                     0   \n",
       "\n",
       "                     ItineraryType_International  \n",
       "InvoiceDate                                       \n",
       "2018-01-12 11:43:00                            0  \n",
       "2018-01-12 11:43:00                            0  \n",
       "2018-01-12 13:01:00                            0  \n",
       "2018-01-12 13:10:00                            0  \n",
       "2018-11-30 14:30:00                            0  \n",
       "...                                          ...  \n",
       "2019-10-06 20:45:00                            0  \n",
       "2019-10-06 21:39:00                            0  \n",
       "2019-10-06 22:18:00                            0  \n",
       "2019-10-06 22:30:00                            0  \n",
       "2019-10-06 22:30:00                            0  \n",
       "\n",
       "[170117 rows x 12 columns]"
      ]
     },
     "execution_count": 42,
     "metadata": {},
     "output_type": "execute_result"
    }
   ],
   "source": [
    "dummy_df"
   ]
  },
  {
   "cell_type": "markdown",
   "metadata": {},
   "source": [
    "## Analysis "
   ]
  },
  {
   "cell_type": "markdown",
   "metadata": {},
   "source": [
    "#### Correlation heatmap of dataset"
   ]
  },
  {
   "cell_type": "code",
   "execution_count": 43,
   "metadata": {},
   "outputs": [
    {
     "data": {
      "image/png": "[encoded data removed]",
      "text/plain": [
       "<Figure size 1008x864 with 2 Axes>"
      ]
     },
     "metadata": {
      "needs_background": "light"
     },
     "output_type": "display_data"
    }
   ],
   "source": [
    "def correlation_heatmap(dummy_df):\n",
    "    _ , ax = plt.subplots(figsize =(14, 12))\n",
    "    colormap = sns.diverging_palette(220, 10, as_cmap = True)\n",
    "    \n",
    "    _ = sns.heatmap(\n",
    "        dummy_df.corr(), \n",
    "        cmap = \"YlGn\",\n",
    "        square=True, \n",
    "        cbar_kws={'shrink':.9 }, \n",
    "        ax=ax,\n",
    "        annot=True, \n",
    "        linewidths=0.1,vmax=1.0, linecolor='white',\n",
    "        annot_kws={'fontsize':12 }\n",
    "    )\n",
    "    \n",
    "    plt.title('Pearson Correlation of Features', y=1.05, size=15)\n",
    "\n",
    "correlation_heatmap(dummy_df)"
   ]
  },
  {
   "cell_type": "code",
   "execution_count": 44,
   "metadata": {},
   "outputs": [
    {
     "data": {
      "text/html": [
       "<div>\n",
       "<style scoped>\n",
       "    .dataframe tbody tr th:only-of-type {\n",
       "        vertical-align: middle;\n",
       "    }\n",
       "\n",
       "    .dataframe tbody tr th {\n",
       "        vertical-align: top;\n",
       "    }\n",
       "\n",
       "    .dataframe thead th {\n",
       "        text-align: right;\n",
       "    }\n",
       "</style>\n",
       "<table border=\"1\" class=\"dataframe\">\n",
       "  <thead>\n",
       "    <tr style=\"text-align: right;\">\n",
       "      <th></th>\n",
       "      <th>NetFare</th>\n",
       "      <th>ProductType_Air Cancellation</th>\n",
       "      <th>ProductType_Other Product</th>\n",
       "      <th>ItineraryType_International</th>\n",
       "    </tr>\n",
       "  </thead>\n",
       "  <tbody>\n",
       "    <tr>\n",
       "      <th>NetFare</th>\n",
       "      <td>1.000000</td>\n",
       "      <td>-0.270425</td>\n",
       "      <td>-0.442874</td>\n",
       "      <td>0.008295</td>\n",
       "    </tr>\n",
       "    <tr>\n",
       "      <th>ProductType_Air Cancellation</th>\n",
       "      <td>-0.270425</td>\n",
       "      <td>1.000000</td>\n",
       "      <td>-0.042130</td>\n",
       "      <td>0.003836</td>\n",
       "    </tr>\n",
       "    <tr>\n",
       "      <th>ProductType_Other Product</th>\n",
       "      <td>-0.442874</td>\n",
       "      <td>-0.042130</td>\n",
       "      <td>1.000000</td>\n",
       "      <td>0.142185</td>\n",
       "    </tr>\n",
       "    <tr>\n",
       "      <th>ItineraryType_International</th>\n",
       "      <td>0.008295</td>\n",
       "      <td>0.003836</td>\n",
       "      <td>0.142185</td>\n",
       "      <td>1.000000</td>\n",
       "    </tr>\n",
       "  </tbody>\n",
       "</table>\n",
       "</div>"
      ],
      "text/plain": [
       "                               NetFare  ProductType_Air Cancellation  \\\n",
       "NetFare                       1.000000                     -0.270425   \n",
       "ProductType_Air Cancellation -0.270425                      1.000000   \n",
       "ProductType_Other Product    -0.442874                     -0.042130   \n",
       "ItineraryType_International   0.008295                      0.003836   \n",
       "\n",
       "                              ProductType_Other Product  \\\n",
       "NetFare                                       -0.442874   \n",
       "ProductType_Air Cancellation                  -0.042130   \n",
       "ProductType_Other Product                      1.000000   \n",
       "ItineraryType_International                    0.142185   \n",
       "\n",
       "                              ItineraryType_International  \n",
       "NetFare                                          0.008295  \n",
       "ProductType_Air Cancellation                     0.003836  \n",
       "ProductType_Other Product                        0.142185  \n",
       "ItineraryType_International                      1.000000  "
      ]
     },
     "execution_count": 44,
     "metadata": {},
     "output_type": "execute_result"
    }
   ],
   "source": [
    "dummy_df[['NetFare','ProductType_Air Cancellation' ,'ProductType_Other Product','ItineraryType_International']].corr()"
   ]
  },
  {
   "cell_type": "markdown",
   "metadata": {},
   "source": [
    "### Setting up Environment"
   ]
  },
  {
   "cell_type": "code",
   "execution_count": 45,
   "metadata": {},
   "outputs": [],
   "source": [
    "import pycaret"
   ]
  },
  {
   "cell_type": "code",
   "execution_count": 46,
   "metadata": {},
   "outputs": [
    {
     "name": "stdout",
     "output_type": "stream",
     "text": [
      " \n",
      "Setup Succesfully Completed!\n"
     ]
    },
    {
     "data": {
      "text/html": [
       "<style  type=\"text/css\" >\n",
       "</style><table id=\"T_b4f30d92_a367_11ea_b30d_34e6ad71bcfe\" ><thead>    <tr>        <th class=\"blank level0\" ></th>        <th class=\"col_heading level0 col0\" >Description</th>        <th class=\"col_heading level0 col1\" >Value</th>    </tr></thead><tbody>\n",
       "                <tr>\n",
       "                        <th id=\"T_b4f30d92_a367_11ea_b30d_34e6ad71bcfelevel0_row0\" class=\"row_heading level0 row0\" >0</th>\n",
       "                        <td id=\"T_b4f30d92_a367_11ea_b30d_34e6ad71bcferow0_col0\" class=\"data row0 col0\" >session_id</td>\n",
       "                        <td id=\"T_b4f30d92_a367_11ea_b30d_34e6ad71bcferow0_col1\" class=\"data row0 col1\" >2604</td>\n",
       "            </tr>\n",
       "            <tr>\n",
       "                        <th id=\"T_b4f30d92_a367_11ea_b30d_34e6ad71bcfelevel0_row1\" class=\"row_heading level0 row1\" >1</th>\n",
       "                        <td id=\"T_b4f30d92_a367_11ea_b30d_34e6ad71bcferow1_col0\" class=\"data row1 col0\" >Transform Target </td>\n",
       "                        <td id=\"T_b4f30d92_a367_11ea_b30d_34e6ad71bcferow1_col1\" class=\"data row1 col1\" >False</td>\n",
       "            </tr>\n",
       "            <tr>\n",
       "                        <th id=\"T_b4f30d92_a367_11ea_b30d_34e6ad71bcfelevel0_row2\" class=\"row_heading level0 row2\" >2</th>\n",
       "                        <td id=\"T_b4f30d92_a367_11ea_b30d_34e6ad71bcferow2_col0\" class=\"data row2 col0\" >Transform Target Method</td>\n",
       "                        <td id=\"T_b4f30d92_a367_11ea_b30d_34e6ad71bcferow2_col1\" class=\"data row2 col1\" >None</td>\n",
       "            </tr>\n",
       "            <tr>\n",
       "                        <th id=\"T_b4f30d92_a367_11ea_b30d_34e6ad71bcfelevel0_row3\" class=\"row_heading level0 row3\" >3</th>\n",
       "                        <td id=\"T_b4f30d92_a367_11ea_b30d_34e6ad71bcferow3_col0\" class=\"data row3 col0\" >Original Data</td>\n",
       "                        <td id=\"T_b4f30d92_a367_11ea_b30d_34e6ad71bcferow3_col1\" class=\"data row3 col1\" >(170117, 12)</td>\n",
       "            </tr>\n",
       "            <tr>\n",
       "                        <th id=\"T_b4f30d92_a367_11ea_b30d_34e6ad71bcfelevel0_row4\" class=\"row_heading level0 row4\" >4</th>\n",
       "                        <td id=\"T_b4f30d92_a367_11ea_b30d_34e6ad71bcferow4_col0\" class=\"data row4 col0\" >Missing Values </td>\n",
       "                        <td id=\"T_b4f30d92_a367_11ea_b30d_34e6ad71bcferow4_col1\" class=\"data row4 col1\" >False</td>\n",
       "            </tr>\n",
       "            <tr>\n",
       "                        <th id=\"T_b4f30d92_a367_11ea_b30d_34e6ad71bcfelevel0_row5\" class=\"row_heading level0 row5\" >5</th>\n",
       "                        <td id=\"T_b4f30d92_a367_11ea_b30d_34e6ad71bcferow5_col0\" class=\"data row5 col0\" >Numeric Features </td>\n",
       "                        <td id=\"T_b4f30d92_a367_11ea_b30d_34e6ad71bcferow5_col1\" class=\"data row5 col1\" >11</td>\n",
       "            </tr>\n",
       "            <tr>\n",
       "                        <th id=\"T_b4f30d92_a367_11ea_b30d_34e6ad71bcfelevel0_row6\" class=\"row_heading level0 row6\" >6</th>\n",
       "                        <td id=\"T_b4f30d92_a367_11ea_b30d_34e6ad71bcferow6_col0\" class=\"data row6 col0\" >Categorical Features </td>\n",
       "                        <td id=\"T_b4f30d92_a367_11ea_b30d_34e6ad71bcferow6_col1\" class=\"data row6 col1\" >0</td>\n",
       "            </tr>\n",
       "            <tr>\n",
       "                        <th id=\"T_b4f30d92_a367_11ea_b30d_34e6ad71bcfelevel0_row7\" class=\"row_heading level0 row7\" >7</th>\n",
       "                        <td id=\"T_b4f30d92_a367_11ea_b30d_34e6ad71bcferow7_col0\" class=\"data row7 col0\" >Ordinal Features </td>\n",
       "                        <td id=\"T_b4f30d92_a367_11ea_b30d_34e6ad71bcferow7_col1\" class=\"data row7 col1\" >False</td>\n",
       "            </tr>\n",
       "            <tr>\n",
       "                        <th id=\"T_b4f30d92_a367_11ea_b30d_34e6ad71bcfelevel0_row8\" class=\"row_heading level0 row8\" >8</th>\n",
       "                        <td id=\"T_b4f30d92_a367_11ea_b30d_34e6ad71bcferow8_col0\" class=\"data row8 col0\" >High Cardinality Features </td>\n",
       "                        <td id=\"T_b4f30d92_a367_11ea_b30d_34e6ad71bcferow8_col1\" class=\"data row8 col1\" >False</td>\n",
       "            </tr>\n",
       "            <tr>\n",
       "                        <th id=\"T_b4f30d92_a367_11ea_b30d_34e6ad71bcfelevel0_row9\" class=\"row_heading level0 row9\" >9</th>\n",
       "                        <td id=\"T_b4f30d92_a367_11ea_b30d_34e6ad71bcferow9_col0\" class=\"data row9 col0\" >High Cardinality Method </td>\n",
       "                        <td id=\"T_b4f30d92_a367_11ea_b30d_34e6ad71bcferow9_col1\" class=\"data row9 col1\" >None</td>\n",
       "            </tr>\n",
       "            <tr>\n",
       "                        <th id=\"T_b4f30d92_a367_11ea_b30d_34e6ad71bcfelevel0_row10\" class=\"row_heading level0 row10\" >10</th>\n",
       "                        <td id=\"T_b4f30d92_a367_11ea_b30d_34e6ad71bcferow10_col0\" class=\"data row10 col0\" >Sampled Data</td>\n",
       "                        <td id=\"T_b4f30d92_a367_11ea_b30d_34e6ad71bcferow10_col1\" class=\"data row10 col1\" >(119081, 12)</td>\n",
       "            </tr>\n",
       "            <tr>\n",
       "                        <th id=\"T_b4f30d92_a367_11ea_b30d_34e6ad71bcfelevel0_row11\" class=\"row_heading level0 row11\" >11</th>\n",
       "                        <td id=\"T_b4f30d92_a367_11ea_b30d_34e6ad71bcferow11_col0\" class=\"data row11 col0\" >Transformed Train Set</td>\n",
       "                        <td id=\"T_b4f30d92_a367_11ea_b30d_34e6ad71bcferow11_col1\" class=\"data row11 col1\" >(83356, 11)</td>\n",
       "            </tr>\n",
       "            <tr>\n",
       "                        <th id=\"T_b4f30d92_a367_11ea_b30d_34e6ad71bcfelevel0_row12\" class=\"row_heading level0 row12\" >12</th>\n",
       "                        <td id=\"T_b4f30d92_a367_11ea_b30d_34e6ad71bcferow12_col0\" class=\"data row12 col0\" >Transformed Test Set</td>\n",
       "                        <td id=\"T_b4f30d92_a367_11ea_b30d_34e6ad71bcferow12_col1\" class=\"data row12 col1\" >(35725, 11)</td>\n",
       "            </tr>\n",
       "            <tr>\n",
       "                        <th id=\"T_b4f30d92_a367_11ea_b30d_34e6ad71bcfelevel0_row13\" class=\"row_heading level0 row13\" >13</th>\n",
       "                        <td id=\"T_b4f30d92_a367_11ea_b30d_34e6ad71bcferow13_col0\" class=\"data row13 col0\" >Numeric Imputer </td>\n",
       "                        <td id=\"T_b4f30d92_a367_11ea_b30d_34e6ad71bcferow13_col1\" class=\"data row13 col1\" >mean</td>\n",
       "            </tr>\n",
       "            <tr>\n",
       "                        <th id=\"T_b4f30d92_a367_11ea_b30d_34e6ad71bcfelevel0_row14\" class=\"row_heading level0 row14\" >14</th>\n",
       "                        <td id=\"T_b4f30d92_a367_11ea_b30d_34e6ad71bcferow14_col0\" class=\"data row14 col0\" >Categorical Imputer </td>\n",
       "                        <td id=\"T_b4f30d92_a367_11ea_b30d_34e6ad71bcferow14_col1\" class=\"data row14 col1\" >constant</td>\n",
       "            </tr>\n",
       "            <tr>\n",
       "                        <th id=\"T_b4f30d92_a367_11ea_b30d_34e6ad71bcfelevel0_row15\" class=\"row_heading level0 row15\" >15</th>\n",
       "                        <td id=\"T_b4f30d92_a367_11ea_b30d_34e6ad71bcferow15_col0\" class=\"data row15 col0\" >Normalize </td>\n",
       "                        <td id=\"T_b4f30d92_a367_11ea_b30d_34e6ad71bcferow15_col1\" class=\"data row15 col1\" >False</td>\n",
       "            </tr>\n",
       "            <tr>\n",
       "                        <th id=\"T_b4f30d92_a367_11ea_b30d_34e6ad71bcfelevel0_row16\" class=\"row_heading level0 row16\" >16</th>\n",
       "                        <td id=\"T_b4f30d92_a367_11ea_b30d_34e6ad71bcferow16_col0\" class=\"data row16 col0\" >Normalize Method </td>\n",
       "                        <td id=\"T_b4f30d92_a367_11ea_b30d_34e6ad71bcferow16_col1\" class=\"data row16 col1\" >None</td>\n",
       "            </tr>\n",
       "            <tr>\n",
       "                        <th id=\"T_b4f30d92_a367_11ea_b30d_34e6ad71bcfelevel0_row17\" class=\"row_heading level0 row17\" >17</th>\n",
       "                        <td id=\"T_b4f30d92_a367_11ea_b30d_34e6ad71bcferow17_col0\" class=\"data row17 col0\" >Transformation </td>\n",
       "                        <td id=\"T_b4f30d92_a367_11ea_b30d_34e6ad71bcferow17_col1\" class=\"data row17 col1\" >False</td>\n",
       "            </tr>\n",
       "            <tr>\n",
       "                        <th id=\"T_b4f30d92_a367_11ea_b30d_34e6ad71bcfelevel0_row18\" class=\"row_heading level0 row18\" >18</th>\n",
       "                        <td id=\"T_b4f30d92_a367_11ea_b30d_34e6ad71bcferow18_col0\" class=\"data row18 col0\" >Transformation Method </td>\n",
       "                        <td id=\"T_b4f30d92_a367_11ea_b30d_34e6ad71bcferow18_col1\" class=\"data row18 col1\" >None</td>\n",
       "            </tr>\n",
       "            <tr>\n",
       "                        <th id=\"T_b4f30d92_a367_11ea_b30d_34e6ad71bcfelevel0_row19\" class=\"row_heading level0 row19\" >19</th>\n",
       "                        <td id=\"T_b4f30d92_a367_11ea_b30d_34e6ad71bcferow19_col0\" class=\"data row19 col0\" >PCA </td>\n",
       "                        <td id=\"T_b4f30d92_a367_11ea_b30d_34e6ad71bcferow19_col1\" class=\"data row19 col1\" >False</td>\n",
       "            </tr>\n",
       "            <tr>\n",
       "                        <th id=\"T_b4f30d92_a367_11ea_b30d_34e6ad71bcfelevel0_row20\" class=\"row_heading level0 row20\" >20</th>\n",
       "                        <td id=\"T_b4f30d92_a367_11ea_b30d_34e6ad71bcferow20_col0\" class=\"data row20 col0\" >PCA Method </td>\n",
       "                        <td id=\"T_b4f30d92_a367_11ea_b30d_34e6ad71bcferow20_col1\" class=\"data row20 col1\" >None</td>\n",
       "            </tr>\n",
       "            <tr>\n",
       "                        <th id=\"T_b4f30d92_a367_11ea_b30d_34e6ad71bcfelevel0_row21\" class=\"row_heading level0 row21\" >21</th>\n",
       "                        <td id=\"T_b4f30d92_a367_11ea_b30d_34e6ad71bcferow21_col0\" class=\"data row21 col0\" >PCA Components </td>\n",
       "                        <td id=\"T_b4f30d92_a367_11ea_b30d_34e6ad71bcferow21_col1\" class=\"data row21 col1\" >None</td>\n",
       "            </tr>\n",
       "            <tr>\n",
       "                        <th id=\"T_b4f30d92_a367_11ea_b30d_34e6ad71bcfelevel0_row22\" class=\"row_heading level0 row22\" >22</th>\n",
       "                        <td id=\"T_b4f30d92_a367_11ea_b30d_34e6ad71bcferow22_col0\" class=\"data row22 col0\" >Ignore Low Variance </td>\n",
       "                        <td id=\"T_b4f30d92_a367_11ea_b30d_34e6ad71bcferow22_col1\" class=\"data row22 col1\" >False</td>\n",
       "            </tr>\n",
       "            <tr>\n",
       "                        <th id=\"T_b4f30d92_a367_11ea_b30d_34e6ad71bcfelevel0_row23\" class=\"row_heading level0 row23\" >23</th>\n",
       "                        <td id=\"T_b4f30d92_a367_11ea_b30d_34e6ad71bcferow23_col0\" class=\"data row23 col0\" >Combine Rare Levels </td>\n",
       "                        <td id=\"T_b4f30d92_a367_11ea_b30d_34e6ad71bcferow23_col1\" class=\"data row23 col1\" >False</td>\n",
       "            </tr>\n",
       "            <tr>\n",
       "                        <th id=\"T_b4f30d92_a367_11ea_b30d_34e6ad71bcfelevel0_row24\" class=\"row_heading level0 row24\" >24</th>\n",
       "                        <td id=\"T_b4f30d92_a367_11ea_b30d_34e6ad71bcferow24_col0\" class=\"data row24 col0\" >Rare Level Threshold </td>\n",
       "                        <td id=\"T_b4f30d92_a367_11ea_b30d_34e6ad71bcferow24_col1\" class=\"data row24 col1\" >None</td>\n",
       "            </tr>\n",
       "            <tr>\n",
       "                        <th id=\"T_b4f30d92_a367_11ea_b30d_34e6ad71bcfelevel0_row25\" class=\"row_heading level0 row25\" >25</th>\n",
       "                        <td id=\"T_b4f30d92_a367_11ea_b30d_34e6ad71bcferow25_col0\" class=\"data row25 col0\" >Numeric Binning </td>\n",
       "                        <td id=\"T_b4f30d92_a367_11ea_b30d_34e6ad71bcferow25_col1\" class=\"data row25 col1\" >False</td>\n",
       "            </tr>\n",
       "            <tr>\n",
       "                        <th id=\"T_b4f30d92_a367_11ea_b30d_34e6ad71bcfelevel0_row26\" class=\"row_heading level0 row26\" >26</th>\n",
       "                        <td id=\"T_b4f30d92_a367_11ea_b30d_34e6ad71bcferow26_col0\" class=\"data row26 col0\" >Remove Outliers </td>\n",
       "                        <td id=\"T_b4f30d92_a367_11ea_b30d_34e6ad71bcferow26_col1\" class=\"data row26 col1\" >False</td>\n",
       "            </tr>\n",
       "            <tr>\n",
       "                        <th id=\"T_b4f30d92_a367_11ea_b30d_34e6ad71bcfelevel0_row27\" class=\"row_heading level0 row27\" >27</th>\n",
       "                        <td id=\"T_b4f30d92_a367_11ea_b30d_34e6ad71bcferow27_col0\" class=\"data row27 col0\" >Outliers Threshold </td>\n",
       "                        <td id=\"T_b4f30d92_a367_11ea_b30d_34e6ad71bcferow27_col1\" class=\"data row27 col1\" >None</td>\n",
       "            </tr>\n",
       "            <tr>\n",
       "                        <th id=\"T_b4f30d92_a367_11ea_b30d_34e6ad71bcfelevel0_row28\" class=\"row_heading level0 row28\" >28</th>\n",
       "                        <td id=\"T_b4f30d92_a367_11ea_b30d_34e6ad71bcferow28_col0\" class=\"data row28 col0\" >Remove Multicollinearity </td>\n",
       "                        <td id=\"T_b4f30d92_a367_11ea_b30d_34e6ad71bcferow28_col1\" class=\"data row28 col1\" >False</td>\n",
       "            </tr>\n",
       "            <tr>\n",
       "                        <th id=\"T_b4f30d92_a367_11ea_b30d_34e6ad71bcfelevel0_row29\" class=\"row_heading level0 row29\" >29</th>\n",
       "                        <td id=\"T_b4f30d92_a367_11ea_b30d_34e6ad71bcferow29_col0\" class=\"data row29 col0\" >Multicollinearity Threshold </td>\n",
       "                        <td id=\"T_b4f30d92_a367_11ea_b30d_34e6ad71bcferow29_col1\" class=\"data row29 col1\" >None</td>\n",
       "            </tr>\n",
       "            <tr>\n",
       "                        <th id=\"T_b4f30d92_a367_11ea_b30d_34e6ad71bcfelevel0_row30\" class=\"row_heading level0 row30\" >30</th>\n",
       "                        <td id=\"T_b4f30d92_a367_11ea_b30d_34e6ad71bcferow30_col0\" class=\"data row30 col0\" >Clustering </td>\n",
       "                        <td id=\"T_b4f30d92_a367_11ea_b30d_34e6ad71bcferow30_col1\" class=\"data row30 col1\" >False</td>\n",
       "            </tr>\n",
       "            <tr>\n",
       "                        <th id=\"T_b4f30d92_a367_11ea_b30d_34e6ad71bcfelevel0_row31\" class=\"row_heading level0 row31\" >31</th>\n",
       "                        <td id=\"T_b4f30d92_a367_11ea_b30d_34e6ad71bcferow31_col0\" class=\"data row31 col0\" >Clustering Iteration </td>\n",
       "                        <td id=\"T_b4f30d92_a367_11ea_b30d_34e6ad71bcferow31_col1\" class=\"data row31 col1\" >None</td>\n",
       "            </tr>\n",
       "            <tr>\n",
       "                        <th id=\"T_b4f30d92_a367_11ea_b30d_34e6ad71bcfelevel0_row32\" class=\"row_heading level0 row32\" >32</th>\n",
       "                        <td id=\"T_b4f30d92_a367_11ea_b30d_34e6ad71bcferow32_col0\" class=\"data row32 col0\" >Polynomial Features </td>\n",
       "                        <td id=\"T_b4f30d92_a367_11ea_b30d_34e6ad71bcferow32_col1\" class=\"data row32 col1\" >False</td>\n",
       "            </tr>\n",
       "            <tr>\n",
       "                        <th id=\"T_b4f30d92_a367_11ea_b30d_34e6ad71bcfelevel0_row33\" class=\"row_heading level0 row33\" >33</th>\n",
       "                        <td id=\"T_b4f30d92_a367_11ea_b30d_34e6ad71bcferow33_col0\" class=\"data row33 col0\" >Polynomial Degree </td>\n",
       "                        <td id=\"T_b4f30d92_a367_11ea_b30d_34e6ad71bcferow33_col1\" class=\"data row33 col1\" >None</td>\n",
       "            </tr>\n",
       "            <tr>\n",
       "                        <th id=\"T_b4f30d92_a367_11ea_b30d_34e6ad71bcfelevel0_row34\" class=\"row_heading level0 row34\" >34</th>\n",
       "                        <td id=\"T_b4f30d92_a367_11ea_b30d_34e6ad71bcferow34_col0\" class=\"data row34 col0\" >Trignometry Features </td>\n",
       "                        <td id=\"T_b4f30d92_a367_11ea_b30d_34e6ad71bcferow34_col1\" class=\"data row34 col1\" >False</td>\n",
       "            </tr>\n",
       "            <tr>\n",
       "                        <th id=\"T_b4f30d92_a367_11ea_b30d_34e6ad71bcfelevel0_row35\" class=\"row_heading level0 row35\" >35</th>\n",
       "                        <td id=\"T_b4f30d92_a367_11ea_b30d_34e6ad71bcferow35_col0\" class=\"data row35 col0\" >Polynomial Threshold </td>\n",
       "                        <td id=\"T_b4f30d92_a367_11ea_b30d_34e6ad71bcferow35_col1\" class=\"data row35 col1\" >None</td>\n",
       "            </tr>\n",
       "            <tr>\n",
       "                        <th id=\"T_b4f30d92_a367_11ea_b30d_34e6ad71bcfelevel0_row36\" class=\"row_heading level0 row36\" >36</th>\n",
       "                        <td id=\"T_b4f30d92_a367_11ea_b30d_34e6ad71bcferow36_col0\" class=\"data row36 col0\" >Group Features </td>\n",
       "                        <td id=\"T_b4f30d92_a367_11ea_b30d_34e6ad71bcferow36_col1\" class=\"data row36 col1\" >False</td>\n",
       "            </tr>\n",
       "            <tr>\n",
       "                        <th id=\"T_b4f30d92_a367_11ea_b30d_34e6ad71bcfelevel0_row37\" class=\"row_heading level0 row37\" >37</th>\n",
       "                        <td id=\"T_b4f30d92_a367_11ea_b30d_34e6ad71bcferow37_col0\" class=\"data row37 col0\" >Feature Selection </td>\n",
       "                        <td id=\"T_b4f30d92_a367_11ea_b30d_34e6ad71bcferow37_col1\" class=\"data row37 col1\" >False</td>\n",
       "            </tr>\n",
       "            <tr>\n",
       "                        <th id=\"T_b4f30d92_a367_11ea_b30d_34e6ad71bcfelevel0_row38\" class=\"row_heading level0 row38\" >38</th>\n",
       "                        <td id=\"T_b4f30d92_a367_11ea_b30d_34e6ad71bcferow38_col0\" class=\"data row38 col0\" >Features Selection Threshold </td>\n",
       "                        <td id=\"T_b4f30d92_a367_11ea_b30d_34e6ad71bcferow38_col1\" class=\"data row38 col1\" >None</td>\n",
       "            </tr>\n",
       "            <tr>\n",
       "                        <th id=\"T_b4f30d92_a367_11ea_b30d_34e6ad71bcfelevel0_row39\" class=\"row_heading level0 row39\" >39</th>\n",
       "                        <td id=\"T_b4f30d92_a367_11ea_b30d_34e6ad71bcferow39_col0\" class=\"data row39 col0\" >Feature Interaction </td>\n",
       "                        <td id=\"T_b4f30d92_a367_11ea_b30d_34e6ad71bcferow39_col1\" class=\"data row39 col1\" >False</td>\n",
       "            </tr>\n",
       "            <tr>\n",
       "                        <th id=\"T_b4f30d92_a367_11ea_b30d_34e6ad71bcfelevel0_row40\" class=\"row_heading level0 row40\" >40</th>\n",
       "                        <td id=\"T_b4f30d92_a367_11ea_b30d_34e6ad71bcferow40_col0\" class=\"data row40 col0\" >Feature Ratio </td>\n",
       "                        <td id=\"T_b4f30d92_a367_11ea_b30d_34e6ad71bcferow40_col1\" class=\"data row40 col1\" >False</td>\n",
       "            </tr>\n",
       "            <tr>\n",
       "                        <th id=\"T_b4f30d92_a367_11ea_b30d_34e6ad71bcfelevel0_row41\" class=\"row_heading level0 row41\" >41</th>\n",
       "                        <td id=\"T_b4f30d92_a367_11ea_b30d_34e6ad71bcferow41_col0\" class=\"data row41 col0\" >Interaction Threshold </td>\n",
       "                        <td id=\"T_b4f30d92_a367_11ea_b30d_34e6ad71bcferow41_col1\" class=\"data row41 col1\" >None</td>\n",
       "            </tr>\n",
       "    </tbody></table>"
      ],
      "text/plain": [
       "<pandas.io.formats.style.Styler at 0x2d2c8d48278>"
      ]
     },
     "metadata": {},
     "output_type": "display_data"
    }
   ],
   "source": [
    "from pycaret.regression import *\n",
    "env= setup(data = dummy_df, target = 'NetFare')"
   ]
  },
  {
   "cell_type": "markdown",
   "metadata": {},
   "source": [
    "## Modeling"
   ]
  },
  {
   "cell_type": "code",
   "execution_count": null,
   "metadata": {},
   "outputs": [],
   "source": [
    "#compare_models()"
   ]
  },
  {
   "cell_type": "code",
   "execution_count": null,
   "metadata": {},
   "outputs": [],
   "source": []
  },
  {
   "cell_type": "markdown",
   "metadata": {},
   "source": [
    "### Create Model"
   ]
  },
  {
   "cell_type": "markdown",
   "metadata": {},
   "source": [
    "Create lenear model"
   ]
  },
  {
   "cell_type": "code",
   "execution_count": 55,
   "metadata": {},
   "outputs": [
    {
     "data": {
      "text/html": [
       "<div>\n",
       "<style scoped>\n",
       "    .dataframe tbody tr th:only-of-type {\n",
       "        vertical-align: middle;\n",
       "    }\n",
       "\n",
       "    .dataframe tbody tr th {\n",
       "        vertical-align: top;\n",
       "    }\n",
       "\n",
       "    .dataframe thead th {\n",
       "        text-align: right;\n",
       "    }\n",
       "</style>\n",
       "<table border=\"1\" class=\"dataframe\">\n",
       "  <thead>\n",
       "    <tr style=\"text-align: right;\">\n",
       "      <th></th>\n",
       "      <th>MAE</th>\n",
       "      <th>MSE</th>\n",
       "      <th>RMSE</th>\n",
       "      <th>R2</th>\n",
       "      <th>RMSLE</th>\n",
       "      <th>MAPE</th>\n",
       "    </tr>\n",
       "  </thead>\n",
       "  <tbody>\n",
       "    <tr>\n",
       "      <th>0</th>\n",
       "      <td>0.1429</td>\n",
       "      <td>0.0373</td>\n",
       "      <td>0.1931</td>\n",
       "      <td>0.3256</td>\n",
       "      <td>0.1279</td>\n",
       "      <td>2.4730</td>\n",
       "    </tr>\n",
       "    <tr>\n",
       "      <th>1</th>\n",
       "      <td>0.1441</td>\n",
       "      <td>0.0380</td>\n",
       "      <td>0.1950</td>\n",
       "      <td>0.3080</td>\n",
       "      <td>0.1275</td>\n",
       "      <td>2.7838</td>\n",
       "    </tr>\n",
       "    <tr>\n",
       "      <th>2</th>\n",
       "      <td>0.1421</td>\n",
       "      <td>0.0371</td>\n",
       "      <td>0.1926</td>\n",
       "      <td>0.3252</td>\n",
       "      <td>0.1268</td>\n",
       "      <td>3.9479</td>\n",
       "    </tr>\n",
       "    <tr>\n",
       "      <th>3</th>\n",
       "      <td>0.1451</td>\n",
       "      <td>0.0383</td>\n",
       "      <td>0.1957</td>\n",
       "      <td>0.3162</td>\n",
       "      <td>0.1281</td>\n",
       "      <td>2.5816</td>\n",
       "    </tr>\n",
       "    <tr>\n",
       "      <th>4</th>\n",
       "      <td>0.1472</td>\n",
       "      <td>0.0396</td>\n",
       "      <td>0.1989</td>\n",
       "      <td>0.2993</td>\n",
       "      <td>0.1293</td>\n",
       "      <td>2.9061</td>\n",
       "    </tr>\n",
       "    <tr>\n",
       "      <th>5</th>\n",
       "      <td>0.1459</td>\n",
       "      <td>0.0387</td>\n",
       "      <td>0.1966</td>\n",
       "      <td>0.3219</td>\n",
       "      <td>0.1283</td>\n",
       "      <td>2.8255</td>\n",
       "    </tr>\n",
       "    <tr>\n",
       "      <th>6</th>\n",
       "      <td>0.1448</td>\n",
       "      <td>0.0382</td>\n",
       "      <td>0.1956</td>\n",
       "      <td>0.3067</td>\n",
       "      <td>0.1291</td>\n",
       "      <td>3.9154</td>\n",
       "    </tr>\n",
       "    <tr>\n",
       "      <th>7</th>\n",
       "      <td>0.1442</td>\n",
       "      <td>0.0379</td>\n",
       "      <td>0.1946</td>\n",
       "      <td>0.3074</td>\n",
       "      <td>0.1285</td>\n",
       "      <td>2.1406</td>\n",
       "    </tr>\n",
       "    <tr>\n",
       "      <th>8</th>\n",
       "      <td>0.1444</td>\n",
       "      <td>0.0377</td>\n",
       "      <td>0.1940</td>\n",
       "      <td>0.2863</td>\n",
       "      <td>0.1274</td>\n",
       "      <td>2.2542</td>\n",
       "    </tr>\n",
       "    <tr>\n",
       "      <th>9</th>\n",
       "      <td>0.1447</td>\n",
       "      <td>0.0379</td>\n",
       "      <td>0.1947</td>\n",
       "      <td>0.3151</td>\n",
       "      <td>0.1289</td>\n",
       "      <td>2.5647</td>\n",
       "    </tr>\n",
       "    <tr>\n",
       "      <th>Mean</th>\n",
       "      <td>0.1445</td>\n",
       "      <td>0.0381</td>\n",
       "      <td>0.1951</td>\n",
       "      <td>0.3112</td>\n",
       "      <td>0.1282</td>\n",
       "      <td>2.8393</td>\n",
       "    </tr>\n",
       "    <tr>\n",
       "      <th>SD</th>\n",
       "      <td>0.0013</td>\n",
       "      <td>0.0007</td>\n",
       "      <td>0.0017</td>\n",
       "      <td>0.0117</td>\n",
       "      <td>0.0008</td>\n",
       "      <td>0.5917</td>\n",
       "    </tr>\n",
       "  </tbody>\n",
       "</table>\n",
       "</div>"
      ],
      "text/plain": [
       "         MAE     MSE    RMSE      R2   RMSLE    MAPE\n",
       "0     0.1429  0.0373  0.1931  0.3256  0.1279  2.4730\n",
       "1     0.1441  0.0380  0.1950  0.3080  0.1275  2.7838\n",
       "2     0.1421  0.0371  0.1926  0.3252  0.1268  3.9479\n",
       "3     0.1451  0.0383  0.1957  0.3162  0.1281  2.5816\n",
       "4     0.1472  0.0396  0.1989  0.2993  0.1293  2.9061\n",
       "5     0.1459  0.0387  0.1966  0.3219  0.1283  2.8255\n",
       "6     0.1448  0.0382  0.1956  0.3067  0.1291  3.9154\n",
       "7     0.1442  0.0379  0.1946  0.3074  0.1285  2.1406\n",
       "8     0.1444  0.0377  0.1940  0.2863  0.1274  2.2542\n",
       "9     0.1447  0.0379  0.1947  0.3151  0.1289  2.5647\n",
       "Mean  0.1445  0.0381  0.1951  0.3112  0.1282  2.8393\n",
       "SD    0.0013  0.0007  0.0017  0.0117  0.0008  0.5917"
      ]
     },
     "metadata": {},
     "output_type": "display_data"
    }
   ],
   "source": [
    "lr = create_model('lr')"
   ]
  },
  {
   "cell_type": "markdown",
   "metadata": {},
   "source": [
    "Create ridge model"
   ]
  },
  {
   "cell_type": "code",
   "execution_count": 56,
   "metadata": {},
   "outputs": [
    {
     "data": {
      "text/html": [
       "<div>\n",
       "<style scoped>\n",
       "    .dataframe tbody tr th:only-of-type {\n",
       "        vertical-align: middle;\n",
       "    }\n",
       "\n",
       "    .dataframe tbody tr th {\n",
       "        vertical-align: top;\n",
       "    }\n",
       "\n",
       "    .dataframe thead th {\n",
       "        text-align: right;\n",
       "    }\n",
       "</style>\n",
       "<table border=\"1\" class=\"dataframe\">\n",
       "  <thead>\n",
       "    <tr style=\"text-align: right;\">\n",
       "      <th></th>\n",
       "      <th>MAE</th>\n",
       "      <th>MSE</th>\n",
       "      <th>RMSE</th>\n",
       "      <th>R2</th>\n",
       "      <th>RMSLE</th>\n",
       "      <th>MAPE</th>\n",
       "    </tr>\n",
       "  </thead>\n",
       "  <tbody>\n",
       "    <tr>\n",
       "      <th>0</th>\n",
       "      <td>0.1429</td>\n",
       "      <td>0.0373</td>\n",
       "      <td>0.1931</td>\n",
       "      <td>0.3255</td>\n",
       "      <td>0.1279</td>\n",
       "      <td>2.4780</td>\n",
       "    </tr>\n",
       "    <tr>\n",
       "      <th>1</th>\n",
       "      <td>0.1441</td>\n",
       "      <td>0.0380</td>\n",
       "      <td>0.1950</td>\n",
       "      <td>0.3081</td>\n",
       "      <td>0.1274</td>\n",
       "      <td>2.8068</td>\n",
       "    </tr>\n",
       "    <tr>\n",
       "      <th>2</th>\n",
       "      <td>0.1421</td>\n",
       "      <td>0.0371</td>\n",
       "      <td>0.1926</td>\n",
       "      <td>0.3252</td>\n",
       "      <td>0.1268</td>\n",
       "      <td>3.9533</td>\n",
       "    </tr>\n",
       "    <tr>\n",
       "      <th>3</th>\n",
       "      <td>0.1450</td>\n",
       "      <td>0.0383</td>\n",
       "      <td>0.1957</td>\n",
       "      <td>0.3162</td>\n",
       "      <td>0.1281</td>\n",
       "      <td>2.5881</td>\n",
       "    </tr>\n",
       "    <tr>\n",
       "      <th>4</th>\n",
       "      <td>0.1472</td>\n",
       "      <td>0.0396</td>\n",
       "      <td>0.1989</td>\n",
       "      <td>0.2993</td>\n",
       "      <td>0.1293</td>\n",
       "      <td>2.9125</td>\n",
       "    </tr>\n",
       "    <tr>\n",
       "      <th>5</th>\n",
       "      <td>0.1459</td>\n",
       "      <td>0.0387</td>\n",
       "      <td>0.1966</td>\n",
       "      <td>0.3218</td>\n",
       "      <td>0.1283</td>\n",
       "      <td>2.8317</td>\n",
       "    </tr>\n",
       "    <tr>\n",
       "      <th>6</th>\n",
       "      <td>0.1448</td>\n",
       "      <td>0.0382</td>\n",
       "      <td>0.1956</td>\n",
       "      <td>0.3067</td>\n",
       "      <td>0.1291</td>\n",
       "      <td>3.9202</td>\n",
       "    </tr>\n",
       "    <tr>\n",
       "      <th>7</th>\n",
       "      <td>0.1442</td>\n",
       "      <td>0.0379</td>\n",
       "      <td>0.1946</td>\n",
       "      <td>0.3073</td>\n",
       "      <td>0.1285</td>\n",
       "      <td>2.1449</td>\n",
       "    </tr>\n",
       "    <tr>\n",
       "      <th>8</th>\n",
       "      <td>0.1444</td>\n",
       "      <td>0.0377</td>\n",
       "      <td>0.1941</td>\n",
       "      <td>0.2862</td>\n",
       "      <td>0.1274</td>\n",
       "      <td>2.2584</td>\n",
       "    </tr>\n",
       "    <tr>\n",
       "      <th>9</th>\n",
       "      <td>0.1447</td>\n",
       "      <td>0.0379</td>\n",
       "      <td>0.1947</td>\n",
       "      <td>0.3151</td>\n",
       "      <td>0.1289</td>\n",
       "      <td>2.5705</td>\n",
       "    </tr>\n",
       "    <tr>\n",
       "      <th>Mean</th>\n",
       "      <td>0.1445</td>\n",
       "      <td>0.0381</td>\n",
       "      <td>0.1951</td>\n",
       "      <td>0.3111</td>\n",
       "      <td>0.1282</td>\n",
       "      <td>2.8464</td>\n",
       "    </tr>\n",
       "    <tr>\n",
       "      <th>SD</th>\n",
       "      <td>0.0014</td>\n",
       "      <td>0.0007</td>\n",
       "      <td>0.0017</td>\n",
       "      <td>0.0117</td>\n",
       "      <td>0.0008</td>\n",
       "      <td>0.5917</td>\n",
       "    </tr>\n",
       "  </tbody>\n",
       "</table>\n",
       "</div>"
      ],
      "text/plain": [
       "         MAE     MSE    RMSE      R2   RMSLE    MAPE\n",
       "0     0.1429  0.0373  0.1931  0.3255  0.1279  2.4780\n",
       "1     0.1441  0.0380  0.1950  0.3081  0.1274  2.8068\n",
       "2     0.1421  0.0371  0.1926  0.3252  0.1268  3.9533\n",
       "3     0.1450  0.0383  0.1957  0.3162  0.1281  2.5881\n",
       "4     0.1472  0.0396  0.1989  0.2993  0.1293  2.9125\n",
       "5     0.1459  0.0387  0.1966  0.3218  0.1283  2.8317\n",
       "6     0.1448  0.0382  0.1956  0.3067  0.1291  3.9202\n",
       "7     0.1442  0.0379  0.1946  0.3073  0.1285  2.1449\n",
       "8     0.1444  0.0377  0.1941  0.2862  0.1274  2.2584\n",
       "9     0.1447  0.0379  0.1947  0.3151  0.1289  2.5705\n",
       "Mean  0.1445  0.0381  0.1951  0.3111  0.1282  2.8464\n",
       "SD    0.0014  0.0007  0.0017  0.0117  0.0008  0.5917"
      ]
     },
     "metadata": {},
     "output_type": "display_data"
    }
   ],
   "source": [
    "ridge=create_model('ridge')"
   ]
  },
  {
   "cell_type": "markdown",
   "metadata": {},
   "source": [
    "Create Least Angle Regression model"
   ]
  },
  {
   "cell_type": "code",
   "execution_count": 57,
   "metadata": {},
   "outputs": [
    {
     "data": {
      "text/html": [
       "<div>\n",
       "<style scoped>\n",
       "    .dataframe tbody tr th:only-of-type {\n",
       "        vertical-align: middle;\n",
       "    }\n",
       "\n",
       "    .dataframe tbody tr th {\n",
       "        vertical-align: top;\n",
       "    }\n",
       "\n",
       "    .dataframe thead th {\n",
       "        text-align: right;\n",
       "    }\n",
       "</style>\n",
       "<table border=\"1\" class=\"dataframe\">\n",
       "  <thead>\n",
       "    <tr style=\"text-align: right;\">\n",
       "      <th></th>\n",
       "      <th>MAE</th>\n",
       "      <th>MSE</th>\n",
       "      <th>RMSE</th>\n",
       "      <th>R2</th>\n",
       "      <th>RMSLE</th>\n",
       "      <th>MAPE</th>\n",
       "    </tr>\n",
       "  </thead>\n",
       "  <tbody>\n",
       "    <tr>\n",
       "      <th>0</th>\n",
       "      <td>0.1429</td>\n",
       "      <td>0.0373</td>\n",
       "      <td>0.1931</td>\n",
       "      <td>0.3256</td>\n",
       "      <td>0.1279</td>\n",
       "      <td>2.4730</td>\n",
       "    </tr>\n",
       "    <tr>\n",
       "      <th>1</th>\n",
       "      <td>0.1441</td>\n",
       "      <td>0.0380</td>\n",
       "      <td>0.1950</td>\n",
       "      <td>0.3080</td>\n",
       "      <td>0.1275</td>\n",
       "      <td>2.7838</td>\n",
       "    </tr>\n",
       "    <tr>\n",
       "      <th>2</th>\n",
       "      <td>0.1421</td>\n",
       "      <td>0.0371</td>\n",
       "      <td>0.1926</td>\n",
       "      <td>0.3252</td>\n",
       "      <td>0.1268</td>\n",
       "      <td>3.9479</td>\n",
       "    </tr>\n",
       "    <tr>\n",
       "      <th>3</th>\n",
       "      <td>0.1451</td>\n",
       "      <td>0.0383</td>\n",
       "      <td>0.1957</td>\n",
       "      <td>0.3162</td>\n",
       "      <td>0.1281</td>\n",
       "      <td>2.5816</td>\n",
       "    </tr>\n",
       "    <tr>\n",
       "      <th>4</th>\n",
       "      <td>0.1472</td>\n",
       "      <td>0.0396</td>\n",
       "      <td>0.1989</td>\n",
       "      <td>0.2993</td>\n",
       "      <td>0.1293</td>\n",
       "      <td>2.9061</td>\n",
       "    </tr>\n",
       "    <tr>\n",
       "      <th>5</th>\n",
       "      <td>0.1459</td>\n",
       "      <td>0.0387</td>\n",
       "      <td>0.1966</td>\n",
       "      <td>0.3219</td>\n",
       "      <td>0.1283</td>\n",
       "      <td>2.8255</td>\n",
       "    </tr>\n",
       "    <tr>\n",
       "      <th>6</th>\n",
       "      <td>0.1448</td>\n",
       "      <td>0.0382</td>\n",
       "      <td>0.1956</td>\n",
       "      <td>0.3067</td>\n",
       "      <td>0.1291</td>\n",
       "      <td>3.9154</td>\n",
       "    </tr>\n",
       "    <tr>\n",
       "      <th>7</th>\n",
       "      <td>0.1442</td>\n",
       "      <td>0.0379</td>\n",
       "      <td>0.1946</td>\n",
       "      <td>0.3074</td>\n",
       "      <td>0.1285</td>\n",
       "      <td>2.1406</td>\n",
       "    </tr>\n",
       "    <tr>\n",
       "      <th>8</th>\n",
       "      <td>0.1444</td>\n",
       "      <td>0.0377</td>\n",
       "      <td>0.1940</td>\n",
       "      <td>0.2863</td>\n",
       "      <td>0.1274</td>\n",
       "      <td>2.2542</td>\n",
       "    </tr>\n",
       "    <tr>\n",
       "      <th>9</th>\n",
       "      <td>0.1447</td>\n",
       "      <td>0.0379</td>\n",
       "      <td>0.1947</td>\n",
       "      <td>0.3151</td>\n",
       "      <td>0.1289</td>\n",
       "      <td>2.5647</td>\n",
       "    </tr>\n",
       "    <tr>\n",
       "      <th>Mean</th>\n",
       "      <td>0.1445</td>\n",
       "      <td>0.0381</td>\n",
       "      <td>0.1951</td>\n",
       "      <td>0.3112</td>\n",
       "      <td>0.1282</td>\n",
       "      <td>2.8393</td>\n",
       "    </tr>\n",
       "    <tr>\n",
       "      <th>SD</th>\n",
       "      <td>0.0013</td>\n",
       "      <td>0.0007</td>\n",
       "      <td>0.0017</td>\n",
       "      <td>0.0117</td>\n",
       "      <td>0.0008</td>\n",
       "      <td>0.5917</td>\n",
       "    </tr>\n",
       "  </tbody>\n",
       "</table>\n",
       "</div>"
      ],
      "text/plain": [
       "         MAE     MSE    RMSE      R2   RMSLE    MAPE\n",
       "0     0.1429  0.0373  0.1931  0.3256  0.1279  2.4730\n",
       "1     0.1441  0.0380  0.1950  0.3080  0.1275  2.7838\n",
       "2     0.1421  0.0371  0.1926  0.3252  0.1268  3.9479\n",
       "3     0.1451  0.0383  0.1957  0.3162  0.1281  2.5816\n",
       "4     0.1472  0.0396  0.1989  0.2993  0.1293  2.9061\n",
       "5     0.1459  0.0387  0.1966  0.3219  0.1283  2.8255\n",
       "6     0.1448  0.0382  0.1956  0.3067  0.1291  3.9154\n",
       "7     0.1442  0.0379  0.1946  0.3074  0.1285  2.1406\n",
       "8     0.1444  0.0377  0.1940  0.2863  0.1274  2.2542\n",
       "9     0.1447  0.0379  0.1947  0.3151  0.1289  2.5647\n",
       "Mean  0.1445  0.0381  0.1951  0.3112  0.1282  2.8393\n",
       "SD    0.0013  0.0007  0.0017  0.0117  0.0008  0.5917"
      ]
     },
     "metadata": {},
     "output_type": "display_data"
    }
   ],
   "source": [
    "lar=create_model('lar')"
   ]
  },
  {
   "cell_type": "markdown",
   "metadata": {},
   "source": [
    "###  Tune Model"
   ]
  },
  {
   "cell_type": "markdown",
   "metadata": {},
   "source": [
    "Tuned model of Lenear regression"
   ]
  },
  {
   "cell_type": "code",
   "execution_count": 58,
   "metadata": {},
   "outputs": [
    {
     "data": {
      "text/html": [
       "<div>\n",
       "<style scoped>\n",
       "    .dataframe tbody tr th:only-of-type {\n",
       "        vertical-align: middle;\n",
       "    }\n",
       "\n",
       "    .dataframe tbody tr th {\n",
       "        vertical-align: top;\n",
       "    }\n",
       "\n",
       "    .dataframe thead th {\n",
       "        text-align: right;\n",
       "    }\n",
       "</style>\n",
       "<table border=\"1\" class=\"dataframe\">\n",
       "  <thead>\n",
       "    <tr style=\"text-align: right;\">\n",
       "      <th></th>\n",
       "      <th>MAE</th>\n",
       "      <th>MSE</th>\n",
       "      <th>RMSE</th>\n",
       "      <th>R2</th>\n",
       "      <th>RMSLE</th>\n",
       "      <th>MAPE</th>\n",
       "    </tr>\n",
       "  </thead>\n",
       "  <tbody>\n",
       "    <tr>\n",
       "      <th>0</th>\n",
       "      <td>0.1429</td>\n",
       "      <td>0.0373</td>\n",
       "      <td>0.1931</td>\n",
       "      <td>0.3256</td>\n",
       "      <td>0.1279</td>\n",
       "      <td>2.4730</td>\n",
       "    </tr>\n",
       "    <tr>\n",
       "      <th>1</th>\n",
       "      <td>0.1441</td>\n",
       "      <td>0.0380</td>\n",
       "      <td>0.1950</td>\n",
       "      <td>0.3080</td>\n",
       "      <td>0.1275</td>\n",
       "      <td>2.7838</td>\n",
       "    </tr>\n",
       "    <tr>\n",
       "      <th>2</th>\n",
       "      <td>0.1421</td>\n",
       "      <td>0.0371</td>\n",
       "      <td>0.1926</td>\n",
       "      <td>0.3252</td>\n",
       "      <td>0.1268</td>\n",
       "      <td>3.9479</td>\n",
       "    </tr>\n",
       "    <tr>\n",
       "      <th>3</th>\n",
       "      <td>0.1451</td>\n",
       "      <td>0.0383</td>\n",
       "      <td>0.1957</td>\n",
       "      <td>0.3162</td>\n",
       "      <td>0.1281</td>\n",
       "      <td>2.5816</td>\n",
       "    </tr>\n",
       "    <tr>\n",
       "      <th>4</th>\n",
       "      <td>0.1472</td>\n",
       "      <td>0.0396</td>\n",
       "      <td>0.1989</td>\n",
       "      <td>0.2993</td>\n",
       "      <td>0.1293</td>\n",
       "      <td>2.9061</td>\n",
       "    </tr>\n",
       "    <tr>\n",
       "      <th>5</th>\n",
       "      <td>0.1459</td>\n",
       "      <td>0.0387</td>\n",
       "      <td>0.1966</td>\n",
       "      <td>0.3219</td>\n",
       "      <td>0.1283</td>\n",
       "      <td>2.8255</td>\n",
       "    </tr>\n",
       "    <tr>\n",
       "      <th>6</th>\n",
       "      <td>0.1448</td>\n",
       "      <td>0.0382</td>\n",
       "      <td>0.1956</td>\n",
       "      <td>0.3067</td>\n",
       "      <td>0.1291</td>\n",
       "      <td>3.9154</td>\n",
       "    </tr>\n",
       "    <tr>\n",
       "      <th>7</th>\n",
       "      <td>0.1442</td>\n",
       "      <td>0.0379</td>\n",
       "      <td>0.1946</td>\n",
       "      <td>0.3074</td>\n",
       "      <td>0.1285</td>\n",
       "      <td>2.1406</td>\n",
       "    </tr>\n",
       "    <tr>\n",
       "      <th>8</th>\n",
       "      <td>0.1444</td>\n",
       "      <td>0.0377</td>\n",
       "      <td>0.1940</td>\n",
       "      <td>0.2863</td>\n",
       "      <td>0.1274</td>\n",
       "      <td>2.2542</td>\n",
       "    </tr>\n",
       "    <tr>\n",
       "      <th>9</th>\n",
       "      <td>0.1447</td>\n",
       "      <td>0.0379</td>\n",
       "      <td>0.1947</td>\n",
       "      <td>0.3151</td>\n",
       "      <td>0.1289</td>\n",
       "      <td>2.5647</td>\n",
       "    </tr>\n",
       "    <tr>\n",
       "      <th>Mean</th>\n",
       "      <td>0.1445</td>\n",
       "      <td>0.0381</td>\n",
       "      <td>0.1951</td>\n",
       "      <td>0.3112</td>\n",
       "      <td>0.1282</td>\n",
       "      <td>2.8393</td>\n",
       "    </tr>\n",
       "    <tr>\n",
       "      <th>SD</th>\n",
       "      <td>0.0013</td>\n",
       "      <td>0.0007</td>\n",
       "      <td>0.0017</td>\n",
       "      <td>0.0117</td>\n",
       "      <td>0.0008</td>\n",
       "      <td>0.5917</td>\n",
       "    </tr>\n",
       "  </tbody>\n",
       "</table>\n",
       "</div>"
      ],
      "text/plain": [
       "         MAE     MSE    RMSE      R2   RMSLE    MAPE\n",
       "0     0.1429  0.0373  0.1931  0.3256  0.1279  2.4730\n",
       "1     0.1441  0.0380  0.1950  0.3080  0.1275  2.7838\n",
       "2     0.1421  0.0371  0.1926  0.3252  0.1268  3.9479\n",
       "3     0.1451  0.0383  0.1957  0.3162  0.1281  2.5816\n",
       "4     0.1472  0.0396  0.1989  0.2993  0.1293  2.9061\n",
       "5     0.1459  0.0387  0.1966  0.3219  0.1283  2.8255\n",
       "6     0.1448  0.0382  0.1956  0.3067  0.1291  3.9154\n",
       "7     0.1442  0.0379  0.1946  0.3074  0.1285  2.1406\n",
       "8     0.1444  0.0377  0.1940  0.2863  0.1274  2.2542\n",
       "9     0.1447  0.0379  0.1947  0.3151  0.1289  2.5647\n",
       "Mean  0.1445  0.0381  0.1951  0.3112  0.1282  2.8393\n",
       "SD    0.0013  0.0007  0.0017  0.0117  0.0008  0.5917"
      ]
     },
     "metadata": {},
     "output_type": "display_data"
    },
    {
     "data": {
      "text/plain": [
       "LinearRegression(copy_X=True, fit_intercept=True, n_jobs=None, normalize=False)"
      ]
     },
     "execution_count": 58,
     "metadata": {},
     "output_type": "execute_result"
    }
   ],
   "source": [
    "tuned_lr = tune_model('lr')\n",
    "tuned_lr"
   ]
  },
  {
   "cell_type": "markdown",
   "metadata": {},
   "source": [
    "Tuned model of ridge regression"
   ]
  },
  {
   "cell_type": "code",
   "execution_count": 59,
   "metadata": {},
   "outputs": [
    {
     "data": {
      "text/html": [
       "<div>\n",
       "<style scoped>\n",
       "    .dataframe tbody tr th:only-of-type {\n",
       "        vertical-align: middle;\n",
       "    }\n",
       "\n",
       "    .dataframe tbody tr th {\n",
       "        vertical-align: top;\n",
       "    }\n",
       "\n",
       "    .dataframe thead th {\n",
       "        text-align: right;\n",
       "    }\n",
       "</style>\n",
       "<table border=\"1\" class=\"dataframe\">\n",
       "  <thead>\n",
       "    <tr style=\"text-align: right;\">\n",
       "      <th></th>\n",
       "      <th>MAE</th>\n",
       "      <th>MSE</th>\n",
       "      <th>RMSE</th>\n",
       "      <th>R2</th>\n",
       "      <th>RMSLE</th>\n",
       "      <th>MAPE</th>\n",
       "    </tr>\n",
       "  </thead>\n",
       "  <tbody>\n",
       "    <tr>\n",
       "      <th>0</th>\n",
       "      <td>0.1429</td>\n",
       "      <td>0.0373</td>\n",
       "      <td>0.1931</td>\n",
       "      <td>0.3256</td>\n",
       "      <td>0.1279</td>\n",
       "      <td>2.4741</td>\n",
       "    </tr>\n",
       "    <tr>\n",
       "      <th>1</th>\n",
       "      <td>0.1441</td>\n",
       "      <td>0.0380</td>\n",
       "      <td>0.1950</td>\n",
       "      <td>0.3080</td>\n",
       "      <td>0.1275</td>\n",
       "      <td>2.7889</td>\n",
       "    </tr>\n",
       "    <tr>\n",
       "      <th>2</th>\n",
       "      <td>0.1421</td>\n",
       "      <td>0.0371</td>\n",
       "      <td>0.1926</td>\n",
       "      <td>0.3252</td>\n",
       "      <td>0.1268</td>\n",
       "      <td>3.9491</td>\n",
       "    </tr>\n",
       "    <tr>\n",
       "      <th>3</th>\n",
       "      <td>0.1451</td>\n",
       "      <td>0.0383</td>\n",
       "      <td>0.1957</td>\n",
       "      <td>0.3162</td>\n",
       "      <td>0.1281</td>\n",
       "      <td>2.5830</td>\n",
       "    </tr>\n",
       "    <tr>\n",
       "      <th>4</th>\n",
       "      <td>0.1472</td>\n",
       "      <td>0.0396</td>\n",
       "      <td>0.1989</td>\n",
       "      <td>0.2993</td>\n",
       "      <td>0.1293</td>\n",
       "      <td>2.9075</td>\n",
       "    </tr>\n",
       "    <tr>\n",
       "      <th>5</th>\n",
       "      <td>0.1459</td>\n",
       "      <td>0.0387</td>\n",
       "      <td>0.1966</td>\n",
       "      <td>0.3219</td>\n",
       "      <td>0.1283</td>\n",
       "      <td>2.8268</td>\n",
       "    </tr>\n",
       "    <tr>\n",
       "      <th>6</th>\n",
       "      <td>0.1448</td>\n",
       "      <td>0.0382</td>\n",
       "      <td>0.1956</td>\n",
       "      <td>0.3067</td>\n",
       "      <td>0.1291</td>\n",
       "      <td>3.9165</td>\n",
       "    </tr>\n",
       "    <tr>\n",
       "      <th>7</th>\n",
       "      <td>0.1442</td>\n",
       "      <td>0.0379</td>\n",
       "      <td>0.1946</td>\n",
       "      <td>0.3074</td>\n",
       "      <td>0.1285</td>\n",
       "      <td>2.1415</td>\n",
       "    </tr>\n",
       "    <tr>\n",
       "      <th>8</th>\n",
       "      <td>0.1444</td>\n",
       "      <td>0.0377</td>\n",
       "      <td>0.1941</td>\n",
       "      <td>0.2863</td>\n",
       "      <td>0.1274</td>\n",
       "      <td>2.2551</td>\n",
       "    </tr>\n",
       "    <tr>\n",
       "      <th>9</th>\n",
       "      <td>0.1447</td>\n",
       "      <td>0.0379</td>\n",
       "      <td>0.1947</td>\n",
       "      <td>0.3151</td>\n",
       "      <td>0.1289</td>\n",
       "      <td>2.5660</td>\n",
       "    </tr>\n",
       "    <tr>\n",
       "      <th>Mean</th>\n",
       "      <td>0.1445</td>\n",
       "      <td>0.0381</td>\n",
       "      <td>0.1951</td>\n",
       "      <td>0.3112</td>\n",
       "      <td>0.1282</td>\n",
       "      <td>2.8409</td>\n",
       "    </tr>\n",
       "    <tr>\n",
       "      <th>SD</th>\n",
       "      <td>0.0013</td>\n",
       "      <td>0.0007</td>\n",
       "      <td>0.0017</td>\n",
       "      <td>0.0117</td>\n",
       "      <td>0.0008</td>\n",
       "      <td>0.5917</td>\n",
       "    </tr>\n",
       "  </tbody>\n",
       "</table>\n",
       "</div>"
      ],
      "text/plain": [
       "         MAE     MSE    RMSE      R2   RMSLE    MAPE\n",
       "0     0.1429  0.0373  0.1931  0.3256  0.1279  2.4741\n",
       "1     0.1441  0.0380  0.1950  0.3080  0.1275  2.7889\n",
       "2     0.1421  0.0371  0.1926  0.3252  0.1268  3.9491\n",
       "3     0.1451  0.0383  0.1957  0.3162  0.1281  2.5830\n",
       "4     0.1472  0.0396  0.1989  0.2993  0.1293  2.9075\n",
       "5     0.1459  0.0387  0.1966  0.3219  0.1283  2.8268\n",
       "6     0.1448  0.0382  0.1956  0.3067  0.1291  3.9165\n",
       "7     0.1442  0.0379  0.1946  0.3074  0.1285  2.1415\n",
       "8     0.1444  0.0377  0.1941  0.2863  0.1274  2.2551\n",
       "9     0.1447  0.0379  0.1947  0.3151  0.1289  2.5660\n",
       "Mean  0.1445  0.0381  0.1951  0.3112  0.1282  2.8409\n",
       "SD    0.0013  0.0007  0.0017  0.0117  0.0008  0.5917"
      ]
     },
     "metadata": {},
     "output_type": "display_data"
    },
    {
     "data": {
      "text/plain": [
       "Ridge(alpha=0.221, copy_X=True, fit_intercept=True, max_iter=None,\n",
       "      normalize=False, random_state=2604, solver='auto', tol=0.001)"
      ]
     },
     "execution_count": 59,
     "metadata": {},
     "output_type": "execute_result"
    }
   ],
   "source": [
    "tuned_ridge = tune_model('ridge')\n",
    "tuned_ridge"
   ]
  },
  {
   "cell_type": "markdown",
   "metadata": {},
   "source": [
    "Tuned model of Least Angle Regression regression"
   ]
  },
  {
   "cell_type": "code",
   "execution_count": 60,
   "metadata": {},
   "outputs": [
    {
     "data": {
      "text/html": [
       "<div>\n",
       "<style scoped>\n",
       "    .dataframe tbody tr th:only-of-type {\n",
       "        vertical-align: middle;\n",
       "    }\n",
       "\n",
       "    .dataframe tbody tr th {\n",
       "        vertical-align: top;\n",
       "    }\n",
       "\n",
       "    .dataframe thead th {\n",
       "        text-align: right;\n",
       "    }\n",
       "</style>\n",
       "<table border=\"1\" class=\"dataframe\">\n",
       "  <thead>\n",
       "    <tr style=\"text-align: right;\">\n",
       "      <th></th>\n",
       "      <th>MAE</th>\n",
       "      <th>MSE</th>\n",
       "      <th>RMSE</th>\n",
       "      <th>R2</th>\n",
       "      <th>RMSLE</th>\n",
       "      <th>MAPE</th>\n",
       "    </tr>\n",
       "  </thead>\n",
       "  <tbody>\n",
       "    <tr>\n",
       "      <th>0</th>\n",
       "      <td>0.1429</td>\n",
       "      <td>0.0373</td>\n",
       "      <td>0.1931</td>\n",
       "      <td>0.3256</td>\n",
       "      <td>0.1279</td>\n",
       "      <td>2.4730</td>\n",
       "    </tr>\n",
       "    <tr>\n",
       "      <th>1</th>\n",
       "      <td>0.1441</td>\n",
       "      <td>0.0380</td>\n",
       "      <td>0.1950</td>\n",
       "      <td>0.3080</td>\n",
       "      <td>0.1275</td>\n",
       "      <td>2.7838</td>\n",
       "    </tr>\n",
       "    <tr>\n",
       "      <th>2</th>\n",
       "      <td>0.1421</td>\n",
       "      <td>0.0371</td>\n",
       "      <td>0.1926</td>\n",
       "      <td>0.3252</td>\n",
       "      <td>0.1268</td>\n",
       "      <td>3.9479</td>\n",
       "    </tr>\n",
       "    <tr>\n",
       "      <th>3</th>\n",
       "      <td>0.1451</td>\n",
       "      <td>0.0383</td>\n",
       "      <td>0.1957</td>\n",
       "      <td>0.3162</td>\n",
       "      <td>0.1281</td>\n",
       "      <td>2.5816</td>\n",
       "    </tr>\n",
       "    <tr>\n",
       "      <th>4</th>\n",
       "      <td>0.1472</td>\n",
       "      <td>0.0396</td>\n",
       "      <td>0.1989</td>\n",
       "      <td>0.2993</td>\n",
       "      <td>0.1293</td>\n",
       "      <td>2.9061</td>\n",
       "    </tr>\n",
       "    <tr>\n",
       "      <th>5</th>\n",
       "      <td>0.1459</td>\n",
       "      <td>0.0387</td>\n",
       "      <td>0.1966</td>\n",
       "      <td>0.3219</td>\n",
       "      <td>0.1283</td>\n",
       "      <td>2.8255</td>\n",
       "    </tr>\n",
       "    <tr>\n",
       "      <th>6</th>\n",
       "      <td>0.1448</td>\n",
       "      <td>0.0382</td>\n",
       "      <td>0.1956</td>\n",
       "      <td>0.3067</td>\n",
       "      <td>0.1291</td>\n",
       "      <td>3.9154</td>\n",
       "    </tr>\n",
       "    <tr>\n",
       "      <th>7</th>\n",
       "      <td>0.1442</td>\n",
       "      <td>0.0379</td>\n",
       "      <td>0.1946</td>\n",
       "      <td>0.3074</td>\n",
       "      <td>0.1285</td>\n",
       "      <td>2.1406</td>\n",
       "    </tr>\n",
       "    <tr>\n",
       "      <th>8</th>\n",
       "      <td>0.1444</td>\n",
       "      <td>0.0377</td>\n",
       "      <td>0.1940</td>\n",
       "      <td>0.2863</td>\n",
       "      <td>0.1274</td>\n",
       "      <td>2.2542</td>\n",
       "    </tr>\n",
       "    <tr>\n",
       "      <th>9</th>\n",
       "      <td>0.1447</td>\n",
       "      <td>0.0379</td>\n",
       "      <td>0.1947</td>\n",
       "      <td>0.3151</td>\n",
       "      <td>0.1289</td>\n",
       "      <td>2.5647</td>\n",
       "    </tr>\n",
       "    <tr>\n",
       "      <th>Mean</th>\n",
       "      <td>0.1445</td>\n",
       "      <td>0.0381</td>\n",
       "      <td>0.1951</td>\n",
       "      <td>0.3112</td>\n",
       "      <td>0.1282</td>\n",
       "      <td>2.8393</td>\n",
       "    </tr>\n",
       "    <tr>\n",
       "      <th>SD</th>\n",
       "      <td>0.0013</td>\n",
       "      <td>0.0007</td>\n",
       "      <td>0.0017</td>\n",
       "      <td>0.0117</td>\n",
       "      <td>0.0008</td>\n",
       "      <td>0.5917</td>\n",
       "    </tr>\n",
       "  </tbody>\n",
       "</table>\n",
       "</div>"
      ],
      "text/plain": [
       "         MAE     MSE    RMSE      R2   RMSLE    MAPE\n",
       "0     0.1429  0.0373  0.1931  0.3256  0.1279  2.4730\n",
       "1     0.1441  0.0380  0.1950  0.3080  0.1275  2.7838\n",
       "2     0.1421  0.0371  0.1926  0.3252  0.1268  3.9479\n",
       "3     0.1451  0.0383  0.1957  0.3162  0.1281  2.5816\n",
       "4     0.1472  0.0396  0.1989  0.2993  0.1293  2.9061\n",
       "5     0.1459  0.0387  0.1966  0.3219  0.1283  2.8255\n",
       "6     0.1448  0.0382  0.1956  0.3067  0.1291  3.9154\n",
       "7     0.1442  0.0379  0.1946  0.3074  0.1285  2.1406\n",
       "8     0.1444  0.0377  0.1940  0.2863  0.1274  2.2542\n",
       "9     0.1447  0.0379  0.1947  0.3151  0.1289  2.5647\n",
       "Mean  0.1445  0.0381  0.1951  0.3112  0.1282  2.8393\n",
       "SD    0.0013  0.0007  0.0017  0.0117  0.0008  0.5917"
      ]
     },
     "metadata": {},
     "output_type": "display_data"
    },
    {
     "data": {
      "text/plain": [
       "Lars(copy_X=True, eps=0.02, fit_intercept=True, fit_path=True,\n",
       "     n_nonzero_coefs=500, normalize=False, precompute='auto', verbose=False)"
      ]
     },
     "execution_count": 60,
     "metadata": {},
     "output_type": "execute_result"
    }
   ],
   "source": [
    "tuned_lar = tune_model('lar')\n",
    "tuned_lar"
   ]
  },
  {
   "cell_type": "markdown",
   "metadata": {},
   "source": [
    "### Model Ensembling"
   ]
  },
  {
   "cell_type": "markdown",
   "metadata": {},
   "source": [
    "Combined model of all tuned"
   ]
  },
  {
   "cell_type": "code",
   "execution_count": 61,
   "metadata": {},
   "outputs": [
    {
     "data": {
      "text/html": [
       "<div>\n",
       "<style scoped>\n",
       "    .dataframe tbody tr th:only-of-type {\n",
       "        vertical-align: middle;\n",
       "    }\n",
       "\n",
       "    .dataframe tbody tr th {\n",
       "        vertical-align: top;\n",
       "    }\n",
       "\n",
       "    .dataframe thead th {\n",
       "        text-align: right;\n",
       "    }\n",
       "</style>\n",
       "<table border=\"1\" class=\"dataframe\">\n",
       "  <thead>\n",
       "    <tr style=\"text-align: right;\">\n",
       "      <th></th>\n",
       "      <th>MAE</th>\n",
       "      <th>MSE</th>\n",
       "      <th>RMSE</th>\n",
       "      <th>R2</th>\n",
       "      <th>RMSLE</th>\n",
       "      <th>MAPE</th>\n",
       "    </tr>\n",
       "  </thead>\n",
       "  <tbody>\n",
       "    <tr>\n",
       "      <th>0</th>\n",
       "      <td>0.1429</td>\n",
       "      <td>0.0373</td>\n",
       "      <td>0.1931</td>\n",
       "      <td>0.3256</td>\n",
       "      <td>0.1279</td>\n",
       "      <td>2.4747</td>\n",
       "    </tr>\n",
       "    <tr>\n",
       "      <th>1</th>\n",
       "      <td>0.1441</td>\n",
       "      <td>0.0380</td>\n",
       "      <td>0.1950</td>\n",
       "      <td>0.3081</td>\n",
       "      <td>0.1275</td>\n",
       "      <td>2.7914</td>\n",
       "    </tr>\n",
       "    <tr>\n",
       "      <th>2</th>\n",
       "      <td>0.1421</td>\n",
       "      <td>0.0371</td>\n",
       "      <td>0.1926</td>\n",
       "      <td>0.3252</td>\n",
       "      <td>0.1268</td>\n",
       "      <td>3.9497</td>\n",
       "    </tr>\n",
       "    <tr>\n",
       "      <th>3</th>\n",
       "      <td>0.1451</td>\n",
       "      <td>0.0383</td>\n",
       "      <td>0.1957</td>\n",
       "      <td>0.3162</td>\n",
       "      <td>0.1281</td>\n",
       "      <td>2.5838</td>\n",
       "    </tr>\n",
       "    <tr>\n",
       "      <th>4</th>\n",
       "      <td>0.1472</td>\n",
       "      <td>0.0396</td>\n",
       "      <td>0.1989</td>\n",
       "      <td>0.2993</td>\n",
       "      <td>0.1293</td>\n",
       "      <td>2.9082</td>\n",
       "    </tr>\n",
       "    <tr>\n",
       "      <th>5</th>\n",
       "      <td>0.1459</td>\n",
       "      <td>0.0387</td>\n",
       "      <td>0.1966</td>\n",
       "      <td>0.3219</td>\n",
       "      <td>0.1283</td>\n",
       "      <td>2.8275</td>\n",
       "    </tr>\n",
       "    <tr>\n",
       "      <th>6</th>\n",
       "      <td>0.1448</td>\n",
       "      <td>0.0382</td>\n",
       "      <td>0.1956</td>\n",
       "      <td>0.3067</td>\n",
       "      <td>0.1291</td>\n",
       "      <td>3.9170</td>\n",
       "    </tr>\n",
       "    <tr>\n",
       "      <th>7</th>\n",
       "      <td>0.1442</td>\n",
       "      <td>0.0379</td>\n",
       "      <td>0.1946</td>\n",
       "      <td>0.3074</td>\n",
       "      <td>0.1285</td>\n",
       "      <td>2.1421</td>\n",
       "    </tr>\n",
       "    <tr>\n",
       "      <th>8</th>\n",
       "      <td>0.1444</td>\n",
       "      <td>0.0377</td>\n",
       "      <td>0.1941</td>\n",
       "      <td>0.2863</td>\n",
       "      <td>0.1274</td>\n",
       "      <td>2.2556</td>\n",
       "    </tr>\n",
       "    <tr>\n",
       "      <th>9</th>\n",
       "      <td>0.1447</td>\n",
       "      <td>0.0379</td>\n",
       "      <td>0.1947</td>\n",
       "      <td>0.3151</td>\n",
       "      <td>0.1289</td>\n",
       "      <td>2.5666</td>\n",
       "    </tr>\n",
       "    <tr>\n",
       "      <th>Mean</th>\n",
       "      <td>0.1445</td>\n",
       "      <td>0.0381</td>\n",
       "      <td>0.1951</td>\n",
       "      <td>0.3112</td>\n",
       "      <td>0.1282</td>\n",
       "      <td>2.8417</td>\n",
       "    </tr>\n",
       "    <tr>\n",
       "      <th>SD</th>\n",
       "      <td>0.0014</td>\n",
       "      <td>0.0007</td>\n",
       "      <td>0.0017</td>\n",
       "      <td>0.0117</td>\n",
       "      <td>0.0008</td>\n",
       "      <td>0.5917</td>\n",
       "    </tr>\n",
       "  </tbody>\n",
       "</table>\n",
       "</div>"
      ],
      "text/plain": [
       "         MAE     MSE    RMSE      R2   RMSLE    MAPE\n",
       "0     0.1429  0.0373  0.1931  0.3256  0.1279  2.4747\n",
       "1     0.1441  0.0380  0.1950  0.3081  0.1275  2.7914\n",
       "2     0.1421  0.0371  0.1926  0.3252  0.1268  3.9497\n",
       "3     0.1451  0.0383  0.1957  0.3162  0.1281  2.5838\n",
       "4     0.1472  0.0396  0.1989  0.2993  0.1293  2.9082\n",
       "5     0.1459  0.0387  0.1966  0.3219  0.1283  2.8275\n",
       "6     0.1448  0.0382  0.1956  0.3067  0.1291  3.9170\n",
       "7     0.1442  0.0379  0.1946  0.3074  0.1285  2.1421\n",
       "8     0.1444  0.0377  0.1941  0.2863  0.1274  2.2556\n",
       "9     0.1447  0.0379  0.1947  0.3151  0.1289  2.5666\n",
       "Mean  0.1445  0.0381  0.1951  0.3112  0.1282  2.8417\n",
       "SD    0.0014  0.0007  0.0017  0.0117  0.0008  0.5917"
      ]
     },
     "metadata": {},
     "output_type": "display_data"
    },
    {
     "data": {
      "text/plain": [
       "VotingRegressor(estimators=[('Linear Regression_0',\n",
       "                             LinearRegression(copy_X=True, fit_intercept=True,\n",
       "                                              n_jobs=None, normalize=False)),\n",
       "                            ('Ridge_1',\n",
       "                             Ridge(alpha=1.0, copy_X=True, fit_intercept=True,\n",
       "                                   max_iter=None, normalize=False,\n",
       "                                   random_state=2604, solver='auto',\n",
       "                                   tol=0.001)),\n",
       "                            ('Least Angle Regression_2',\n",
       "                             Lars(copy_X=True, eps=2.220446049250313e-16,\n",
       "                                  fit_intercept=True, fit_path=True,\n",
       "                                  n_nonzero_coefs=500, normalize=True,\n",
       "                                  precompute='auto', verbose=False))],\n",
       "                n_jobs=None, weights=None)"
      ]
     },
     "execution_count": 61,
     "metadata": {},
     "output_type": "execute_result"
    }
   ],
   "source": [
    "blender = blend_models(estimator_list = [lr, ridge, lar])\n",
    "blender"
   ]
  },
  {
   "cell_type": "markdown",
   "metadata": {},
   "source": [
    "### Model Analysis"
   ]
  },
  {
   "cell_type": "markdown",
   "metadata": {},
   "source": [
    "Before model finalization, the plot_model() function can be used to analyze the performance across different aspects such as Residuals Plot, Prediction Error, Feature Importance etc. This function takes a trained model object and returns a plot based on the test / hold-out set.\n",
    "\n",
    "There are over 10 plots available, please see the plot_model() docstring for the list of available plots."
   ]
  },
  {
   "cell_type": "markdown",
   "metadata": {},
   "source": [
    "#### 4.1 Residual Plot"
   ]
  },
  {
   "cell_type": "code",
   "execution_count": 62,
   "metadata": {},
   "outputs": [
    {
     "data": {
      "image/png": "[encoded data removed]",
      "text/plain": [
       "<Figure size 576x396 with 2 Axes>"
      ]
     },
     "metadata": {},
     "output_type": "display_data"
    }
   ],
   "source": [
    "plot_model(tuned_lr)"
   ]
  },
  {
   "cell_type": "markdown",
   "metadata": {},
   "source": [
    "#### 4.2 Recursive Feat. Selection"
   ]
  },
  {
   "cell_type": "code",
   "execution_count": 63,
   "metadata": {},
   "outputs": [
    {
     "data": {
      "image/png": "[encoded data removed]",
      "text/plain": [
       "<Figure size 576x396 with 1 Axes>"
      ]
     },
     "metadata": {},
     "output_type": "display_data"
    }
   ],
   "source": [
    "plot_model(tuned_ridge, plot='rfe')"
   ]
  },
  {
   "cell_type": "markdown",
   "metadata": {},
   "source": [
    "#### 4.3 Prediction Error Plot"
   ]
  },
  {
   "cell_type": "code",
   "execution_count": 64,
   "metadata": {},
   "outputs": [
    {
     "data": {
      "image/png": "[encoded data removed]",
      "text/plain": [
       "<Figure size 576x396 with 1 Axes>"
      ]
     },
     "metadata": {},
     "output_type": "display_data"
    }
   ],
   "source": [
    "plot_model(tuned_lar, plot = 'error')"
   ]
  },
  {
   "cell_type": "markdown",
   "metadata": {},
   "source": [
    "#### 4.4 Feature Importance Plot"
   ]
  },
  {
   "cell_type": "code",
   "execution_count": 65,
   "metadata": {},
   "outputs": [
    {
     "data": {
      "image/png": "[encoded data removed]",
      "text/plain": [
       "<Figure size 576x360 with 1 Axes>"
      ]
     },
     "metadata": {},
     "output_type": "display_data"
    }
   ],
   "source": [
    "plot_model(tuned_lar, plot = 'feature')"
   ]
  },
  {
   "cell_type": "code",
   "execution_count": 66,
   "metadata": {},
   "outputs": [
    {
     "data": {
      "text/html": [
       "<div>\n",
       "<style scoped>\n",
       "    .dataframe tbody tr th:only-of-type {\n",
       "        vertical-align: middle;\n",
       "    }\n",
       "\n",
       "    .dataframe tbody tr th {\n",
       "        vertical-align: top;\n",
       "    }\n",
       "\n",
       "    .dataframe thead th {\n",
       "        text-align: right;\n",
       "    }\n",
       "</style>\n",
       "<table border=\"1\" class=\"dataframe\">\n",
       "  <thead>\n",
       "    <tr style=\"text-align: right;\">\n",
       "      <th></th>\n",
       "      <th>Parameters</th>\n",
       "    </tr>\n",
       "  </thead>\n",
       "  <tbody>\n",
       "    <tr>\n",
       "      <th>copy_X</th>\n",
       "      <td>True</td>\n",
       "    </tr>\n",
       "    <tr>\n",
       "      <th>fit_intercept</th>\n",
       "      <td>True</td>\n",
       "    </tr>\n",
       "    <tr>\n",
       "      <th>n_jobs</th>\n",
       "      <td>None</td>\n",
       "    </tr>\n",
       "    <tr>\n",
       "      <th>normalize</th>\n",
       "      <td>False</td>\n",
       "    </tr>\n",
       "  </tbody>\n",
       "</table>\n",
       "</div>"
      ],
      "text/plain": [
       "              Parameters\n",
       "copy_X              True\n",
       "fit_intercept       True\n",
       "n_jobs              None\n",
       "normalize          False"
      ]
     },
     "metadata": {},
     "output_type": "display_data"
    }
   ],
   "source": [
    "plot_model(tuned_lr, plot = 'parameter')"
   ]
  },
  {
   "cell_type": "markdown",
   "metadata": {},
   "source": [
    "## Predict on Test / Hold-out Sample"
   ]
  },
  {
   "cell_type": "code",
   "execution_count": 67,
   "metadata": {},
   "outputs": [
    {
     "data": {
      "text/html": [
       "<div>\n",
       "<style scoped>\n",
       "    .dataframe tbody tr th:only-of-type {\n",
       "        vertical-align: middle;\n",
       "    }\n",
       "\n",
       "    .dataframe tbody tr th {\n",
       "        vertical-align: top;\n",
       "    }\n",
       "\n",
       "    .dataframe thead th {\n",
       "        text-align: right;\n",
       "    }\n",
       "</style>\n",
       "<table border=\"1\" class=\"dataframe\">\n",
       "  <thead>\n",
       "    <tr style=\"text-align: right;\">\n",
       "      <th></th>\n",
       "      <th>Model</th>\n",
       "      <th>MAE</th>\n",
       "      <th>MSE</th>\n",
       "      <th>RMSE</th>\n",
       "      <th>R2</th>\n",
       "      <th>RMSLE</th>\n",
       "      <th>MAPE</th>\n",
       "    </tr>\n",
       "  </thead>\n",
       "  <tbody>\n",
       "    <tr>\n",
       "      <th>0</th>\n",
       "      <td>Linear Regression</td>\n",
       "      <td>0.1449</td>\n",
       "      <td>0.0383</td>\n",
       "      <td>0.1956</td>\n",
       "      <td>0.3113</td>\n",
       "      <td>0.1287</td>\n",
       "      <td>3.3098</td>\n",
       "    </tr>\n",
       "  </tbody>\n",
       "</table>\n",
       "</div>"
      ],
      "text/plain": [
       "               Model     MAE     MSE    RMSE      R2   RMSLE    MAPE\n",
       "0  Linear Regression  0.1449  0.0383  0.1956  0.3113  0.1287  3.3098"
      ]
     },
     "metadata": {},
     "output_type": "display_data"
    }
   ],
   "source": [
    "predict_model(tuned_lr);"
   ]
  },
  {
   "cell_type": "markdown",
   "metadata": {},
   "source": [
    "The R2 on the test/hold-out set is 0.3111 compared to 0.3091 achieved on tuned_lr NetFare results.This is not a significant difference."
   ]
  },
  {
   "cell_type": "markdown",
   "metadata": {},
   "source": [
    "## Finalize Model for Deployment"
   ]
  },
  {
   "cell_type": "code",
   "execution_count": 68,
   "metadata": {},
   "outputs": [],
   "source": [
    "final_model_linear_reg = finalize_model(tuned_lr)"
   ]
  },
  {
   "cell_type": "code",
   "execution_count": 69,
   "metadata": {},
   "outputs": [
    {
     "name": "stdout",
     "output_type": "stream",
     "text": [
      "LinearRegression(copy_X=True, fit_intercept=True, n_jobs=None, normalize=False)\n"
     ]
    }
   ],
   "source": [
    "print(final_model_linear_reg)"
   ]
  },
  {
   "cell_type": "code",
   "execution_count": 70,
   "metadata": {},
   "outputs": [
    {
     "data": {
      "text/html": [
       "<div>\n",
       "<style scoped>\n",
       "    .dataframe tbody tr th:only-of-type {\n",
       "        vertical-align: middle;\n",
       "    }\n",
       "\n",
       "    .dataframe tbody tr th {\n",
       "        vertical-align: top;\n",
       "    }\n",
       "\n",
       "    .dataframe thead th {\n",
       "        text-align: right;\n",
       "    }\n",
       "</style>\n",
       "<table border=\"1\" class=\"dataframe\">\n",
       "  <thead>\n",
       "    <tr style=\"text-align: right;\">\n",
       "      <th></th>\n",
       "      <th>Model</th>\n",
       "      <th>MAE</th>\n",
       "      <th>MSE</th>\n",
       "      <th>RMSE</th>\n",
       "      <th>R2</th>\n",
       "      <th>RMSLE</th>\n",
       "      <th>MAPE</th>\n",
       "    </tr>\n",
       "  </thead>\n",
       "  <tbody>\n",
       "    <tr>\n",
       "      <th>0</th>\n",
       "      <td>Linear Regression</td>\n",
       "      <td>0.1448</td>\n",
       "      <td>0.0383</td>\n",
       "      <td>0.1956</td>\n",
       "      <td>0.3114</td>\n",
       "      <td>0.1287</td>\n",
       "      <td>3.3697</td>\n",
       "    </tr>\n",
       "  </tbody>\n",
       "</table>\n",
       "</div>"
      ],
      "text/plain": [
       "               Model     MAE     MSE    RMSE      R2   RMSLE    MAPE\n",
       "0  Linear Regression  0.1448  0.0383  0.1956  0.3114  0.1287  3.3697"
      ]
     },
     "metadata": {},
     "output_type": "display_data"
    }
   ],
   "source": [
    "predict_model(final_model_linear_reg);"
   ]
  },
  {
   "cell_type": "markdown",
   "metadata": {},
   "source": [
    "Notice how the R2 in the final_model_linear_reg has increased to 0.3112 from 0.3111, even though the model is same. This is because the final_model_linear_reg variable is trained on the complete dataset including the test/hold-out set."
   ]
  },
  {
   "cell_type": "markdown",
   "metadata": {},
   "source": [
    "## Predict on Unseen Data"
   ]
  },
  {
   "cell_type": "code",
   "execution_count": null,
   "metadata": {},
   "outputs": [],
   "source": [
    "data = dummy_df.sample(frac=0.7, random_state=786).reset_index(drop=True)\n",
    "data_unseen = dummy_df.drop(data.index).reset_index(drop=True)\n",
    "\n",
    "print('Data for Modeling: ' + str(data.shape))\n",
    "print('Unseen Data For Predictions: ' + str(data_unseen.shape))"
   ]
  },
  {
   "cell_type": "code",
   "execution_count": 73,
   "metadata": {},
   "outputs": [
    {
     "data": {
      "text/html": [
       "<div>\n",
       "<style scoped>\n",
       "    .dataframe tbody tr th:only-of-type {\n",
       "        vertical-align: middle;\n",
       "    }\n",
       "\n",
       "    .dataframe tbody tr th {\n",
       "        vertical-align: top;\n",
       "    }\n",
       "\n",
       "    .dataframe thead th {\n",
       "        text-align: right;\n",
       "    }\n",
       "</style>\n",
       "<table border=\"1\" class=\"dataframe\">\n",
       "  <thead>\n",
       "    <tr style=\"text-align: right;\">\n",
       "      <th></th>\n",
       "      <th>NetFare</th>\n",
       "      <th>ProductType_Air Cancellation</th>\n",
       "      <th>ProductType_Air Debit Note</th>\n",
       "      <th>ProductType_Air Loss</th>\n",
       "      <th>ProductType_Hotel</th>\n",
       "      <th>ProductType_Hotel Cancellation</th>\n",
       "      <th>ProductType_Hotel Debit Note</th>\n",
       "      <th>ProductType_Hotel Loss</th>\n",
       "      <th>ProductType_Other Product</th>\n",
       "      <th>ProductType_Other Product Cancellation</th>\n",
       "      <th>ProductType_Other Product Debit Note</th>\n",
       "      <th>ItineraryType_International</th>\n",
       "    </tr>\n",
       "    <tr>\n",
       "      <th>InvoiceDate</th>\n",
       "      <th></th>\n",
       "      <th></th>\n",
       "      <th></th>\n",
       "      <th></th>\n",
       "      <th></th>\n",
       "      <th></th>\n",
       "      <th></th>\n",
       "      <th></th>\n",
       "      <th></th>\n",
       "      <th></th>\n",
       "      <th></th>\n",
       "      <th></th>\n",
       "    </tr>\n",
       "  </thead>\n",
       "  <tbody>\n",
       "    <tr>\n",
       "      <th>2018-01-12 11:43:00</th>\n",
       "      <td>0.166911</td>\n",
       "      <td>0</td>\n",
       "      <td>0</td>\n",
       "      <td>0</td>\n",
       "      <td>0</td>\n",
       "      <td>0</td>\n",
       "      <td>0</td>\n",
       "      <td>0</td>\n",
       "      <td>1</td>\n",
       "      <td>0</td>\n",
       "      <td>0</td>\n",
       "      <td>0</td>\n",
       "    </tr>\n",
       "    <tr>\n",
       "      <th>2018-01-12 11:43:00</th>\n",
       "      <td>0.000038</td>\n",
       "      <td>0</td>\n",
       "      <td>0</td>\n",
       "      <td>0</td>\n",
       "      <td>0</td>\n",
       "      <td>0</td>\n",
       "      <td>0</td>\n",
       "      <td>0</td>\n",
       "      <td>1</td>\n",
       "      <td>0</td>\n",
       "      <td>0</td>\n",
       "      <td>0</td>\n",
       "    </tr>\n",
       "    <tr>\n",
       "      <th>2018-01-12 13:01:00</th>\n",
       "      <td>0.506143</td>\n",
       "      <td>0</td>\n",
       "      <td>0</td>\n",
       "      <td>0</td>\n",
       "      <td>0</td>\n",
       "      <td>0</td>\n",
       "      <td>0</td>\n",
       "      <td>0</td>\n",
       "      <td>0</td>\n",
       "      <td>0</td>\n",
       "      <td>0</td>\n",
       "      <td>0</td>\n",
       "    </tr>\n",
       "    <tr>\n",
       "      <th>2018-01-12 13:10:00</th>\n",
       "      <td>0.506143</td>\n",
       "      <td>0</td>\n",
       "      <td>0</td>\n",
       "      <td>0</td>\n",
       "      <td>0</td>\n",
       "      <td>0</td>\n",
       "      <td>0</td>\n",
       "      <td>0</td>\n",
       "      <td>0</td>\n",
       "      <td>0</td>\n",
       "      <td>0</td>\n",
       "      <td>0</td>\n",
       "    </tr>\n",
       "    <tr>\n",
       "      <th>2018-11-30 14:30:00</th>\n",
       "      <td>0.424774</td>\n",
       "      <td>0</td>\n",
       "      <td>0</td>\n",
       "      <td>0</td>\n",
       "      <td>0</td>\n",
       "      <td>0</td>\n",
       "      <td>0</td>\n",
       "      <td>0</td>\n",
       "      <td>0</td>\n",
       "      <td>0</td>\n",
       "      <td>0</td>\n",
       "      <td>0</td>\n",
       "    </tr>\n",
       "  </tbody>\n",
       "</table>\n",
       "</div>"
      ],
      "text/plain": [
       "                      NetFare  ProductType_Air Cancellation  \\\n",
       "InvoiceDate                                                   \n",
       "2018-01-12 11:43:00  0.166911                             0   \n",
       "2018-01-12 11:43:00  0.000038                             0   \n",
       "2018-01-12 13:01:00  0.506143                             0   \n",
       "2018-01-12 13:10:00  0.506143                             0   \n",
       "2018-11-30 14:30:00  0.424774                             0   \n",
       "\n",
       "                     ProductType_Air Debit Note  ProductType_Air Loss  \\\n",
       "InvoiceDate                                                             \n",
       "2018-01-12 11:43:00                           0                     0   \n",
       "2018-01-12 11:43:00                           0                     0   \n",
       "2018-01-12 13:01:00                           0                     0   \n",
       "2018-01-12 13:10:00                           0                     0   \n",
       "2018-11-30 14:30:00                           0                     0   \n",
       "\n",
       "                     ProductType_Hotel  ProductType_Hotel Cancellation  \\\n",
       "InvoiceDate                                                              \n",
       "2018-01-12 11:43:00                  0                               0   \n",
       "2018-01-12 11:43:00                  0                               0   \n",
       "2018-01-12 13:01:00                  0                               0   \n",
       "2018-01-12 13:10:00                  0                               0   \n",
       "2018-11-30 14:30:00                  0                               0   \n",
       "\n",
       "                     ProductType_Hotel Debit Note  ProductType_Hotel Loss  \\\n",
       "InvoiceDate                                                                 \n",
       "2018-01-12 11:43:00                             0                       0   \n",
       "2018-01-12 11:43:00                             0                       0   \n",
       "2018-01-12 13:01:00                             0                       0   \n",
       "2018-01-12 13:10:00                             0                       0   \n",
       "2018-11-30 14:30:00                             0                       0   \n",
       "\n",
       "                     ProductType_Other Product  \\\n",
       "InvoiceDate                                      \n",
       "2018-01-12 11:43:00                          1   \n",
       "2018-01-12 11:43:00                          1   \n",
       "2018-01-12 13:01:00                          0   \n",
       "2018-01-12 13:10:00                          0   \n",
       "2018-11-30 14:30:00                          0   \n",
       "\n",
       "                     ProductType_Other Product Cancellation  \\\n",
       "InvoiceDate                                                   \n",
       "2018-01-12 11:43:00                                       0   \n",
       "2018-01-12 11:43:00                                       0   \n",
       "2018-01-12 13:01:00                                       0   \n",
       "2018-01-12 13:10:00                                       0   \n",
       "2018-11-30 14:30:00                                       0   \n",
       "\n",
       "                     ProductType_Other Product Debit Note  \\\n",
       "InvoiceDate                                                 \n",
       "2018-01-12 11:43:00                                     0   \n",
       "2018-01-12 11:43:00                                     0   \n",
       "2018-01-12 13:01:00                                     0   \n",
       "2018-01-12 13:10:00                                     0   \n",
       "2018-11-30 14:30:00                                     0   \n",
       "\n",
       "                     ItineraryType_International  \n",
       "InvoiceDate                                       \n",
       "2018-01-12 11:43:00                            0  \n",
       "2018-01-12 11:43:00                            0  \n",
       "2018-01-12 13:01:00                            0  \n",
       "2018-01-12 13:10:00                            0  \n",
       "2018-11-30 14:30:00                            0  "
      ]
     },
     "execution_count": 73,
     "metadata": {},
     "output_type": "execute_result"
    }
   ],
   "source": [
    "Train = dummy_df[0:136100]\n",
    "Train.head()"
   ]
  },
  {
   "cell_type": "code",
   "execution_count": 77,
   "metadata": {},
   "outputs": [
    {
     "data": {
      "text/html": [
       "<div>\n",
       "<style scoped>\n",
       "    .dataframe tbody tr th:only-of-type {\n",
       "        vertical-align: middle;\n",
       "    }\n",
       "\n",
       "    .dataframe tbody tr th {\n",
       "        vertical-align: top;\n",
       "    }\n",
       "\n",
       "    .dataframe thead th {\n",
       "        text-align: right;\n",
       "    }\n",
       "</style>\n",
       "<table border=\"1\" class=\"dataframe\">\n",
       "  <thead>\n",
       "    <tr style=\"text-align: right;\">\n",
       "      <th></th>\n",
       "      <th>NetFare</th>\n",
       "      <th>ProductType_Air Cancellation</th>\n",
       "      <th>ProductType_Air Debit Note</th>\n",
       "      <th>ProductType_Air Loss</th>\n",
       "      <th>ProductType_Hotel</th>\n",
       "      <th>ProductType_Hotel Cancellation</th>\n",
       "      <th>ProductType_Hotel Debit Note</th>\n",
       "      <th>ProductType_Hotel Loss</th>\n",
       "      <th>ProductType_Other Product</th>\n",
       "      <th>ProductType_Other Product Cancellation</th>\n",
       "      <th>ProductType_Other Product Debit Note</th>\n",
       "      <th>ItineraryType_International</th>\n",
       "    </tr>\n",
       "    <tr>\n",
       "      <th>InvoiceDate</th>\n",
       "      <th></th>\n",
       "      <th></th>\n",
       "      <th></th>\n",
       "      <th></th>\n",
       "      <th></th>\n",
       "      <th></th>\n",
       "      <th></th>\n",
       "      <th></th>\n",
       "      <th></th>\n",
       "      <th></th>\n",
       "      <th></th>\n",
       "      <th></th>\n",
       "    </tr>\n",
       "  </thead>\n",
       "  <tbody>\n",
       "    <tr>\n",
       "      <th>2018-11-30 11:07:00</th>\n",
       "      <td>0.568503</td>\n",
       "      <td>0</td>\n",
       "      <td>0</td>\n",
       "      <td>0</td>\n",
       "      <td>0</td>\n",
       "      <td>0</td>\n",
       "      <td>0</td>\n",
       "      <td>0</td>\n",
       "      <td>0</td>\n",
       "      <td>0</td>\n",
       "      <td>0</td>\n",
       "      <td>0</td>\n",
       "    </tr>\n",
       "    <tr>\n",
       "      <th>2018-11-30 11:14:00</th>\n",
       "      <td>0.609072</td>\n",
       "      <td>0</td>\n",
       "      <td>0</td>\n",
       "      <td>0</td>\n",
       "      <td>0</td>\n",
       "      <td>0</td>\n",
       "      <td>0</td>\n",
       "      <td>0</td>\n",
       "      <td>0</td>\n",
       "      <td>0</td>\n",
       "      <td>0</td>\n",
       "      <td>0</td>\n",
       "    </tr>\n",
       "    <tr>\n",
       "      <th>2018-11-30 11:17:00</th>\n",
       "      <td>0.333127</td>\n",
       "      <td>0</td>\n",
       "      <td>0</td>\n",
       "      <td>0</td>\n",
       "      <td>0</td>\n",
       "      <td>0</td>\n",
       "      <td>0</td>\n",
       "      <td>0</td>\n",
       "      <td>0</td>\n",
       "      <td>0</td>\n",
       "      <td>0</td>\n",
       "      <td>0</td>\n",
       "    </tr>\n",
       "    <tr>\n",
       "      <th>2018-11-30 11:17:00</th>\n",
       "      <td>0.333127</td>\n",
       "      <td>0</td>\n",
       "      <td>0</td>\n",
       "      <td>0</td>\n",
       "      <td>0</td>\n",
       "      <td>0</td>\n",
       "      <td>0</td>\n",
       "      <td>0</td>\n",
       "      <td>0</td>\n",
       "      <td>0</td>\n",
       "      <td>0</td>\n",
       "      <td>0</td>\n",
       "    </tr>\n",
       "    <tr>\n",
       "      <th>2018-11-30 11:17:00</th>\n",
       "      <td>0.333127</td>\n",
       "      <td>0</td>\n",
       "      <td>0</td>\n",
       "      <td>0</td>\n",
       "      <td>0</td>\n",
       "      <td>0</td>\n",
       "      <td>0</td>\n",
       "      <td>0</td>\n",
       "      <td>0</td>\n",
       "      <td>0</td>\n",
       "      <td>0</td>\n",
       "      <td>0</td>\n",
       "    </tr>\n",
       "  </tbody>\n",
       "</table>\n",
       "</div>"
      ],
      "text/plain": [
       "                      NetFare  ProductType_Air Cancellation  \\\n",
       "InvoiceDate                                                   \n",
       "2018-11-30 11:07:00  0.568503                             0   \n",
       "2018-11-30 11:14:00  0.609072                             0   \n",
       "2018-11-30 11:17:00  0.333127                             0   \n",
       "2018-11-30 11:17:00  0.333127                             0   \n",
       "2018-11-30 11:17:00  0.333127                             0   \n",
       "\n",
       "                     ProductType_Air Debit Note  ProductType_Air Loss  \\\n",
       "InvoiceDate                                                             \n",
       "2018-11-30 11:07:00                           0                     0   \n",
       "2018-11-30 11:14:00                           0                     0   \n",
       "2018-11-30 11:17:00                           0                     0   \n",
       "2018-11-30 11:17:00                           0                     0   \n",
       "2018-11-30 11:17:00                           0                     0   \n",
       "\n",
       "                     ProductType_Hotel  ProductType_Hotel Cancellation  \\\n",
       "InvoiceDate                                                              \n",
       "2018-11-30 11:07:00                  0                               0   \n",
       "2018-11-30 11:14:00                  0                               0   \n",
       "2018-11-30 11:17:00                  0                               0   \n",
       "2018-11-30 11:17:00                  0                               0   \n",
       "2018-11-30 11:17:00                  0                               0   \n",
       "\n",
       "                     ProductType_Hotel Debit Note  ProductType_Hotel Loss  \\\n",
       "InvoiceDate                                                                 \n",
       "2018-11-30 11:07:00                             0                       0   \n",
       "2018-11-30 11:14:00                             0                       0   \n",
       "2018-11-30 11:17:00                             0                       0   \n",
       "2018-11-30 11:17:00                             0                       0   \n",
       "2018-11-30 11:17:00                             0                       0   \n",
       "\n",
       "                     ProductType_Other Product  \\\n",
       "InvoiceDate                                      \n",
       "2018-11-30 11:07:00                          0   \n",
       "2018-11-30 11:14:00                          0   \n",
       "2018-11-30 11:17:00                          0   \n",
       "2018-11-30 11:17:00                          0   \n",
       "2018-11-30 11:17:00                          0   \n",
       "\n",
       "                     ProductType_Other Product Cancellation  \\\n",
       "InvoiceDate                                                   \n",
       "2018-11-30 11:07:00                                       0   \n",
       "2018-11-30 11:14:00                                       0   \n",
       "2018-11-30 11:17:00                                       0   \n",
       "2018-11-30 11:17:00                                       0   \n",
       "2018-11-30 11:17:00                                       0   \n",
       "\n",
       "                     ProductType_Other Product Debit Note  \\\n",
       "InvoiceDate                                                 \n",
       "2018-11-30 11:07:00                                     0   \n",
       "2018-11-30 11:14:00                                     0   \n",
       "2018-11-30 11:17:00                                     0   \n",
       "2018-11-30 11:17:00                                     0   \n",
       "2018-11-30 11:17:00                                     0   \n",
       "\n",
       "                     ItineraryType_International  \n",
       "InvoiceDate                                       \n",
       "2018-11-30 11:07:00                            0  \n",
       "2018-11-30 11:14:00                            0  \n",
       "2018-11-30 11:17:00                            0  \n",
       "2018-11-30 11:17:00                            0  \n",
       "2018-11-30 11:17:00                            0  "
      ]
     },
     "execution_count": 77,
     "metadata": {},
     "output_type": "execute_result"
    }
   ],
   "source": [
    "Test = dummy_df[136101:170117]\n",
    "Test.head()"
   ]
  },
  {
   "cell_type": "code",
   "execution_count": 78,
   "metadata": {},
   "outputs": [
    {
     "data": {
      "text/html": [
       "<div>\n",
       "<style scoped>\n",
       "    .dataframe tbody tr th:only-of-type {\n",
       "        vertical-align: middle;\n",
       "    }\n",
       "\n",
       "    .dataframe tbody tr th {\n",
       "        vertical-align: top;\n",
       "    }\n",
       "\n",
       "    .dataframe thead th {\n",
       "        text-align: right;\n",
       "    }\n",
       "</style>\n",
       "<table border=\"1\" class=\"dataframe\">\n",
       "  <thead>\n",
       "    <tr style=\"text-align: right;\">\n",
       "      <th></th>\n",
       "      <th>NetFare</th>\n",
       "      <th>ProductType_Air Cancellation</th>\n",
       "      <th>ProductType_Air Debit Note</th>\n",
       "      <th>ProductType_Air Loss</th>\n",
       "      <th>ProductType_Hotel</th>\n",
       "      <th>ProductType_Hotel Cancellation</th>\n",
       "      <th>ProductType_Hotel Debit Note</th>\n",
       "      <th>ProductType_Hotel Loss</th>\n",
       "      <th>ProductType_Other Product</th>\n",
       "      <th>ProductType_Other Product Cancellation</th>\n",
       "      <th>ProductType_Other Product Debit Note</th>\n",
       "      <th>ItineraryType_International</th>\n",
       "      <th>Label</th>\n",
       "    </tr>\n",
       "  </thead>\n",
       "  <tbody>\n",
       "    <tr>\n",
       "      <th>0</th>\n",
       "      <td>0.568503</td>\n",
       "      <td>0</td>\n",
       "      <td>0</td>\n",
       "      <td>0</td>\n",
       "      <td>0</td>\n",
       "      <td>0</td>\n",
       "      <td>0</td>\n",
       "      <td>0</td>\n",
       "      <td>0</td>\n",
       "      <td>0</td>\n",
       "      <td>0</td>\n",
       "      <td>0</td>\n",
       "      <td>0.3649</td>\n",
       "    </tr>\n",
       "    <tr>\n",
       "      <th>1</th>\n",
       "      <td>0.609072</td>\n",
       "      <td>0</td>\n",
       "      <td>0</td>\n",
       "      <td>0</td>\n",
       "      <td>0</td>\n",
       "      <td>0</td>\n",
       "      <td>0</td>\n",
       "      <td>0</td>\n",
       "      <td>0</td>\n",
       "      <td>0</td>\n",
       "      <td>0</td>\n",
       "      <td>0</td>\n",
       "      <td>0.3649</td>\n",
       "    </tr>\n",
       "    <tr>\n",
       "      <th>2</th>\n",
       "      <td>0.333127</td>\n",
       "      <td>0</td>\n",
       "      <td>0</td>\n",
       "      <td>0</td>\n",
       "      <td>0</td>\n",
       "      <td>0</td>\n",
       "      <td>0</td>\n",
       "      <td>0</td>\n",
       "      <td>0</td>\n",
       "      <td>0</td>\n",
       "      <td>0</td>\n",
       "      <td>0</td>\n",
       "      <td>0.3649</td>\n",
       "    </tr>\n",
       "    <tr>\n",
       "      <th>3</th>\n",
       "      <td>0.333127</td>\n",
       "      <td>0</td>\n",
       "      <td>0</td>\n",
       "      <td>0</td>\n",
       "      <td>0</td>\n",
       "      <td>0</td>\n",
       "      <td>0</td>\n",
       "      <td>0</td>\n",
       "      <td>0</td>\n",
       "      <td>0</td>\n",
       "      <td>0</td>\n",
       "      <td>0</td>\n",
       "      <td>0.3649</td>\n",
       "    </tr>\n",
       "    <tr>\n",
       "      <th>4</th>\n",
       "      <td>0.333127</td>\n",
       "      <td>0</td>\n",
       "      <td>0</td>\n",
       "      <td>0</td>\n",
       "      <td>0</td>\n",
       "      <td>0</td>\n",
       "      <td>0</td>\n",
       "      <td>0</td>\n",
       "      <td>0</td>\n",
       "      <td>0</td>\n",
       "      <td>0</td>\n",
       "      <td>0</td>\n",
       "      <td>0.3649</td>\n",
       "    </tr>\n",
       "    <tr>\n",
       "      <th>...</th>\n",
       "      <td>...</td>\n",
       "      <td>...</td>\n",
       "      <td>...</td>\n",
       "      <td>...</td>\n",
       "      <td>...</td>\n",
       "      <td>...</td>\n",
       "      <td>...</td>\n",
       "      <td>...</td>\n",
       "      <td>...</td>\n",
       "      <td>...</td>\n",
       "      <td>...</td>\n",
       "      <td>...</td>\n",
       "      <td>...</td>\n",
       "    </tr>\n",
       "    <tr>\n",
       "      <th>34011</th>\n",
       "      <td>0.000000</td>\n",
       "      <td>0</td>\n",
       "      <td>0</td>\n",
       "      <td>0</td>\n",
       "      <td>0</td>\n",
       "      <td>0</td>\n",
       "      <td>0</td>\n",
       "      <td>0</td>\n",
       "      <td>0</td>\n",
       "      <td>0</td>\n",
       "      <td>0</td>\n",
       "      <td>0</td>\n",
       "      <td>0.3649</td>\n",
       "    </tr>\n",
       "    <tr>\n",
       "      <th>34012</th>\n",
       "      <td>0.701105</td>\n",
       "      <td>0</td>\n",
       "      <td>0</td>\n",
       "      <td>0</td>\n",
       "      <td>0</td>\n",
       "      <td>0</td>\n",
       "      <td>0</td>\n",
       "      <td>0</td>\n",
       "      <td>0</td>\n",
       "      <td>0</td>\n",
       "      <td>0</td>\n",
       "      <td>0</td>\n",
       "      <td>0.3649</td>\n",
       "    </tr>\n",
       "    <tr>\n",
       "      <th>34013</th>\n",
       "      <td>0.182907</td>\n",
       "      <td>0</td>\n",
       "      <td>0</td>\n",
       "      <td>0</td>\n",
       "      <td>0</td>\n",
       "      <td>0</td>\n",
       "      <td>0</td>\n",
       "      <td>0</td>\n",
       "      <td>0</td>\n",
       "      <td>0</td>\n",
       "      <td>0</td>\n",
       "      <td>0</td>\n",
       "      <td>0.3649</td>\n",
       "    </tr>\n",
       "    <tr>\n",
       "      <th>34014</th>\n",
       "      <td>0.507843</td>\n",
       "      <td>0</td>\n",
       "      <td>0</td>\n",
       "      <td>0</td>\n",
       "      <td>0</td>\n",
       "      <td>0</td>\n",
       "      <td>0</td>\n",
       "      <td>0</td>\n",
       "      <td>0</td>\n",
       "      <td>0</td>\n",
       "      <td>0</td>\n",
       "      <td>0</td>\n",
       "      <td>0.3649</td>\n",
       "    </tr>\n",
       "    <tr>\n",
       "      <th>34015</th>\n",
       "      <td>0.395487</td>\n",
       "      <td>0</td>\n",
       "      <td>0</td>\n",
       "      <td>0</td>\n",
       "      <td>0</td>\n",
       "      <td>0</td>\n",
       "      <td>0</td>\n",
       "      <td>0</td>\n",
       "      <td>0</td>\n",
       "      <td>0</td>\n",
       "      <td>0</td>\n",
       "      <td>0</td>\n",
       "      <td>0.3649</td>\n",
       "    </tr>\n",
       "  </tbody>\n",
       "</table>\n",
       "<p>34016 rows × 13 columns</p>\n",
       "</div>"
      ],
      "text/plain": [
       "        NetFare  ProductType_Air Cancellation  ProductType_Air Debit Note  \\\n",
       "0      0.568503                             0                           0   \n",
       "1      0.609072                             0                           0   \n",
       "2      0.333127                             0                           0   \n",
       "3      0.333127                             0                           0   \n",
       "4      0.333127                             0                           0   \n",
       "...         ...                           ...                         ...   \n",
       "34011  0.000000                             0                           0   \n",
       "34012  0.701105                             0                           0   \n",
       "34013  0.182907                             0                           0   \n",
       "34014  0.507843                             0                           0   \n",
       "34015  0.395487                             0                           0   \n",
       "\n",
       "       ProductType_Air Loss  ProductType_Hotel  \\\n",
       "0                         0                  0   \n",
       "1                         0                  0   \n",
       "2                         0                  0   \n",
       "3                         0                  0   \n",
       "4                         0                  0   \n",
       "...                     ...                ...   \n",
       "34011                     0                  0   \n",
       "34012                     0                  0   \n",
       "34013                     0                  0   \n",
       "34014                     0                  0   \n",
       "34015                     0                  0   \n",
       "\n",
       "       ProductType_Hotel Cancellation  ProductType_Hotel Debit Note  \\\n",
       "0                                   0                             0   \n",
       "1                                   0                             0   \n",
       "2                                   0                             0   \n",
       "3                                   0                             0   \n",
       "4                                   0                             0   \n",
       "...                               ...                           ...   \n",
       "34011                               0                             0   \n",
       "34012                               0                             0   \n",
       "34013                               0                             0   \n",
       "34014                               0                             0   \n",
       "34015                               0                             0   \n",
       "\n",
       "       ProductType_Hotel Loss  ProductType_Other Product  \\\n",
       "0                           0                          0   \n",
       "1                           0                          0   \n",
       "2                           0                          0   \n",
       "3                           0                          0   \n",
       "4                           0                          0   \n",
       "...                       ...                        ...   \n",
       "34011                       0                          0   \n",
       "34012                       0                          0   \n",
       "34013                       0                          0   \n",
       "34014                       0                          0   \n",
       "34015                       0                          0   \n",
       "\n",
       "       ProductType_Other Product Cancellation  \\\n",
       "0                                           0   \n",
       "1                                           0   \n",
       "2                                           0   \n",
       "3                                           0   \n",
       "4                                           0   \n",
       "...                                       ...   \n",
       "34011                                       0   \n",
       "34012                                       0   \n",
       "34013                                       0   \n",
       "34014                                       0   \n",
       "34015                                       0   \n",
       "\n",
       "       ProductType_Other Product Debit Note  ItineraryType_International  \\\n",
       "0                                         0                            0   \n",
       "1                                         0                            0   \n",
       "2                                         0                            0   \n",
       "3                                         0                            0   \n",
       "4                                         0                            0   \n",
       "...                                     ...                          ...   \n",
       "34011                                     0                            0   \n",
       "34012                                     0                            0   \n",
       "34013                                     0                            0   \n",
       "34014                                     0                            0   \n",
       "34015                                     0                            0   \n",
       "\n",
       "        Label  \n",
       "0      0.3649  \n",
       "1      0.3649  \n",
       "2      0.3649  \n",
       "3      0.3649  \n",
       "4      0.3649  \n",
       "...       ...  \n",
       "34011  0.3649  \n",
       "34012  0.3649  \n",
       "34013  0.3649  \n",
       "34014  0.3649  \n",
       "34015  0.3649  \n",
       "\n",
       "[34016 rows x 13 columns]"
      ]
     },
     "execution_count": 78,
     "metadata": {},
     "output_type": "execute_result"
    }
   ],
   "source": [
    "unseen_predictions = predict_model(final_model_linear_reg, data=Test)\n",
    "unseen_predictions"
   ]
  },
  {
   "cell_type": "code",
   "execution_count": null,
   "metadata": {},
   "outputs": [],
   "source": []
  },
  {
   "cell_type": "markdown",
   "metadata": {},
   "source": [
    "### Plot Graph"
   ]
  },
  {
   "cell_type": "code",
   "execution_count": 47,
   "metadata": {},
   "outputs": [
    {
     "data": {
      "text/plain": [
       "<matplotlib.axes._subplots.AxesSubplot at 0x2d2c8d482e8>"
      ]
     },
     "execution_count": 47,
     "metadata": {},
     "output_type": "execute_result"
    },
    {
     "data": {
      "image/png": "[encoded data removed]",
      "text/plain": [
       "<Figure size 720x432 with 1 Axes>"
      ]
     },
     "metadata": {
      "needs_background": "light"
     },
     "output_type": "display_data"
    }
   ],
   "source": [
    "dummy_df[0:500].NetFare.plot(kind='line')                  \n",
    "                           "
   ]
  },
  {
   "cell_type": "code",
   "execution_count": 48,
   "metadata": {},
   "outputs": [
    {
     "data": {
      "text/plain": [
       "<matplotlib.axes._subplots.AxesSubplot at 0x2d2c6c881d0>"
      ]
     },
     "execution_count": 48,
     "metadata": {},
     "output_type": "execute_result"
    },
    {
     "data": {
      "image/png": "[encoded data removed]",
      "text/plain": [
       "<Figure size 720x432 with 1 Axes>"
      ]
     },
     "metadata": {
      "needs_background": "light"
     },
     "output_type": "display_data"
    }
   ],
   "source": [
    "dummy_df[140100:140200].NetFare.plot(kind='line')"
   ]
  },
  {
   "cell_type": "code",
   "execution_count": 52,
   "metadata": {},
   "outputs": [
    {
     "data": {
      "text/plain": [
       "0.26352279462738337"
      ]
     },
     "execution_count": 52,
     "metadata": {},
     "output_type": "execute_result"
    }
   ],
   "source": [
    "##################### Exponential ##############################\n",
    "import statsmodels.formula.api as smf \n",
    "\n",
    "linear_model = smf.ols('NetFare~ItineraryType_International',data=Train).fit()\n",
    "pred_linear =  pd.Series(linear_model.predict(pd.DataFrame(Test['ItineraryType_International'])))\n",
    "rmse_linear = np.sqrt(np.mean((np.array(Test['NetFare'])-np.array(pred_linear))**2))\n",
    "rmse_linear"
   ]
  },
  {
   "cell_type": "code",
   "execution_count": 53,
   "metadata": {},
   "outputs": [
    {
     "data": {
      "text/plain": [
       "0.9700415062892315"
      ]
     },
     "execution_count": 53,
     "metadata": {},
     "output_type": "execute_result"
    }
   ],
   "source": [
    "##################### Exponential ##############################\n",
    "\n",
    "Exp = smf.ols('NetFare~ProductType_Hotel',data=Train).fit()\n",
    "pred_Exp = pd.Series(Exp.predict(pd.DataFrame(Test['ProductType_Hotel'])))\n",
    "rmse_Exp = np.sqrt(np.mean((np.array(Test['NetFare'])-np.array(np.exp(pred_Exp)))**2))\n",
    "rmse_Exp"
   ]
  },
  {
   "cell_type": "code",
   "execution_count": 54,
   "metadata": {},
   "outputs": [
    {
     "data": {
      "text/plain": [
       "0.26495275073609664"
      ]
     },
     "execution_count": 54,
     "metadata": {},
     "output_type": "execute_result"
    }
   ],
   "source": [
    "#################### Quadratic ###############################\n",
    "\n",
    "Quad = smf.ols('NetFare~ProductType_Hotel+ItineraryType_International',data=Train).fit()\n",
    "pred_Quad = pd.Series(Quad.predict(Test[[\"ProductType_Hotel\",\"ItineraryType_International\"]]))\n",
    "rmse_Quad = np.sqrt(np.mean((np.array(Test['NetFare'])-np.array(pred_Quad))**2))\n",
    "rmse_Quad"
   ]
  },
  {
   "cell_type": "code",
   "execution_count": null,
   "metadata": {},
   "outputs": [],
   "source": []
  }
 ],
 "metadata": {
  "kernelspec": {
   "display_name": "Python 3",
   "language": "python",
   "name": "python3"
  },
  "language_info": {
   "codemirror_mode": {
    "name": "ipython",
    "version": 3
   },
   "file_extension": ".py",
   "mimetype": "text/x-python",
   "name": "python",
   "nbconvert_exporter": "python",
   "pygments_lexer": "ipython3",
   "version": "3.6.10"
  }
 },
 "nbformat": 4,
 "nbformat_minor": 4
}
