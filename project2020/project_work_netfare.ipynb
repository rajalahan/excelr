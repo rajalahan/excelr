{
 "cells": [
  {
   "cell_type": "markdown",
   "metadata": {},
   "source": [
    "**Submitted by: Group G4**<br>\n",
    "**2020-06-05**"
   ]
  },
  {
   "cell_type": "markdown",
   "metadata": {},
   "source": [
    "![](airindia.png)\n",
    "<h1 style=\"text-align:center;\"> Air Fare prediction Analysis</h1>"
   ]
  },
  {
   "cell_type": "markdown",
   "metadata": {},
   "source": [
    "## Table of Contents\n",
    "\n",
    "<div class=\"alert alert-block alert-info\" style=\"margin-top: 20px\">\n",
    "\n",
    "1. [Business Understanding](#1)<br>\n",
    "2. [Analytic Approach](#2)<br>  \n",
    "3. [Exploratory Data Analysis (EDA)](#3)<br>\n",
    "3.1[Descriptive Statistical Analysis](#15)<br>\n",
    "4. [Data Preparation](#4)<br>\n",
    "5. [Setting up Environment](#5)<br>\n",
    "6. [Comparing All Models](#6)<br> \n",
    "7. [Create Model](#7)<br>\n",
    "8. [Tune Model](#8)<br>\n",
    "9. [Model Ensembling](#9)<br>\n",
    "10.[Model Analysis](#10)<br>\n",
    "11.[Predict on Test / Hold-out Sample](#11)<br>\n",
    "12.[Finalize Model for Deployment](#12)<br> \n",
    "13.[Saving the Model](#13)<br>\n",
    "\n",
    "</div>\n",
    "<hr>"
   ]
  },
  {
   "cell_type": "markdown",
   "metadata": {},
   "source": [
    "## Business Understanding  <a id=\"1\"></a>\n",
    "This is the **Data Science Methodology**, a flowchart that begins with business understanding.<br>\n",
    "Q: What is the problem that we are tried to solve?    "
   ]
  },
  {
   "cell_type": "markdown",
   "metadata": {},
   "source": [
    "Air travel is the safest mode of transport in any times. Passengers are therefore likely to switch in large numbers away from rail and car to air travel. India’s commercial aircraft are around 670 & skies are empty now.India’s aviation system is going to boom because of oil prices are decreased. In this time, Passengers want to fly in cheaper rate but companies want to generate valuable revenue at same time. Due to this, there has fluctuations in price of Air (AirFare) over time to get seat. This is the problem to solve by building a predictive model by exploring previous airfare data."
   ]
  },
  {
   "cell_type": "markdown",
   "metadata": {},
   "source": [
    "**Business objective-** To predict airfare, as domestic air travel is popular these days in India with different air ticket booking channels, travelers are trying to make sense and understand how airlines price their tickets over time. \n",
    "We want you to explore previous airfare data and build a model to predict the price fluctuations over time so that the consumer could benefit from it. We want you to identify dependency over many endogenous variables. You are free to look at different models from the space of forecasting and regression."
   ]
  },
  {
   "cell_type": "markdown",
   "metadata": {},
   "source": [
    "## Analytic Approach<a id=\"2\"></a>\n",
    "<li> How can we used data to answer the question?"
   ]
  },
  {
   "cell_type": "markdown",
   "metadata": {},
   "source": [
    "After we have acquired the data, we have done the followings:\n",
    "\n",
    "Diagnosed data quality:\n",
    "<li>If there has a problem with data quality.</li>\n",
    "<li>The data has corrected.</li>\n",
    "<li>Explored data to understand the data and find scenarios for performing the analysis.</li>\n",
    "<li>Identify dependency over many endogenous variables.</li>\n",
    "<li>Compared different models to evaluate best model.</li>\n",
    "\n",
    "The **pycaret** package made these steps fast and easy:\n",
    "\n",
    "<li>Performed data diagnosis or automatically generated a data diagnosis report.</li>\n",
    "<li>Discovered data in a variety of ways, and automatically generated EDA report.</li>\n",
    "<li>Imputated missing values and outliers, resolved skewed data. And generated an automated report to support it.</li>\n",
    "\n",
    "Particularly in data exploration and data wrangling, it increased the efficiency of the pycaret package."
   ]
  },
  {
   "cell_type": "markdown",
   "metadata": {},
   "source": [
    " Import necessaries library"
   ]
  },
  {
   "cell_type": "code",
   "execution_count": 1,
   "metadata": {},
   "outputs": [],
   "source": [
    "import numpy as np\n",
    "import pandas as pd\n",
    "import matplotlib.pyplot as plt\n",
    "%matplotlib inline\n",
    "from matplotlib.pylab import rcParams\n",
    "rcParams['figure.figsize']=10,6"
   ]
  },
  {
   "cell_type": "markdown",
   "metadata": {},
   "source": [
    "Read given data by help of pandas function "
   ]
  },
  {
   "cell_type": "code",
   "execution_count": 2,
   "metadata": {},
   "outputs": [],
   "source": [
    "data = pd.read_csv('C:\\\\Users\\\\Raja\\\\Desktop\\\\project\\\\project2020\\\\air_fair.csv')"
   ]
  },
  {
   "cell_type": "markdown",
   "metadata": {},
   "source": [
    "## Exploratory Data Analysis (EDA)<a id=\"3\"></a>"
   ]
  },
  {
   "cell_type": "markdown",
   "metadata": {},
   "source": [
    "Show top 5 records"
   ]
  },
  {
   "cell_type": "code",
   "execution_count": 3,
   "metadata": {},
   "outputs": [
    {
     "data": {
      "text/html": [
       "<div>\n",
       "<style scoped>\n",
       "    .dataframe tbody tr th:only-of-type {\n",
       "        vertical-align: middle;\n",
       "    }\n",
       "\n",
       "    .dataframe tbody tr th {\n",
       "        vertical-align: top;\n",
       "    }\n",
       "\n",
       "    .dataframe thead th {\n",
       "        text-align: right;\n",
       "    }\n",
       "</style>\n",
       "<table border=\"1\" class=\"dataframe\">\n",
       "  <thead>\n",
       "    <tr style=\"text-align: right;\">\n",
       "      <th></th>\n",
       "      <th>InvoiceDate</th>\n",
       "      <th>NetFare</th>\n",
       "      <th>ProductType</th>\n",
       "      <th>ItineraryType</th>\n",
       "    </tr>\n",
       "  </thead>\n",
       "  <tbody>\n",
       "    <tr>\n",
       "      <th>0</th>\n",
       "      <td>1/12/18 11:43</td>\n",
       "      <td>2160.00</td>\n",
       "      <td>Other Product</td>\n",
       "      <td>Domestic</td>\n",
       "    </tr>\n",
       "    <tr>\n",
       "      <th>1</th>\n",
       "      <td>1/12/18 11:43</td>\n",
       "      <td>0.49</td>\n",
       "      <td>Other Product</td>\n",
       "      <td>Domestic</td>\n",
       "    </tr>\n",
       "    <tr>\n",
       "      <th>2</th>\n",
       "      <td>1/12/18 13:01</td>\n",
       "      <td>6550.00</td>\n",
       "      <td>Air</td>\n",
       "      <td>Domestic</td>\n",
       "    </tr>\n",
       "    <tr>\n",
       "      <th>3</th>\n",
       "      <td>1/12/18 13:10</td>\n",
       "      <td>6550.00</td>\n",
       "      <td>Air</td>\n",
       "      <td>Domestic</td>\n",
       "    </tr>\n",
       "    <tr>\n",
       "      <th>4</th>\n",
       "      <td>30/11/2018 14:30</td>\n",
       "      <td>5497.00</td>\n",
       "      <td>Air</td>\n",
       "      <td>Domestic</td>\n",
       "    </tr>\n",
       "  </tbody>\n",
       "</table>\n",
       "</div>"
      ],
      "text/plain": [
       "        InvoiceDate  NetFare    ProductType ItineraryType\n",
       "0     1/12/18 11:43  2160.00  Other Product      Domestic\n",
       "1     1/12/18 11:43     0.49  Other Product      Domestic\n",
       "2     1/12/18 13:01  6550.00            Air      Domestic\n",
       "3     1/12/18 13:10  6550.00            Air      Domestic\n",
       "4  30/11/2018 14:30  5497.00            Air      Domestic"
      ]
     },
     "execution_count": 3,
     "metadata": {},
     "output_type": "execute_result"
    }
   ],
   "source": [
    "data.head()"
   ]
  },
  {
   "cell_type": "markdown",
   "metadata": {},
   "source": [
    "InvoiceDate converted int datetime format"
   ]
  },
  {
   "cell_type": "code",
   "execution_count": 4,
   "metadata": {},
   "outputs": [],
   "source": [
    "data['InvoiceDate']=pd.to_datetime(data['InvoiceDate'])"
   ]
  },
  {
   "cell_type": "markdown",
   "metadata": {},
   "source": [
    "Extraction of Date, Hour & Minute from InvoiceDate columns"
   ]
  },
  {
   "cell_type": "code",
   "execution_count": 5,
   "metadata": {},
   "outputs": [
    {
     "data": {
      "text/html": [
       "<div>\n",
       "<style scoped>\n",
       "    .dataframe tbody tr th:only-of-type {\n",
       "        vertical-align: middle;\n",
       "    }\n",
       "\n",
       "    .dataframe tbody tr th {\n",
       "        vertical-align: top;\n",
       "    }\n",
       "\n",
       "    .dataframe thead th {\n",
       "        text-align: right;\n",
       "    }\n",
       "</style>\n",
       "<table border=\"1\" class=\"dataframe\">\n",
       "  <thead>\n",
       "    <tr style=\"text-align: right;\">\n",
       "      <th></th>\n",
       "      <th>InvoiceDate</th>\n",
       "      <th>NetFare</th>\n",
       "      <th>ProductType</th>\n",
       "      <th>ItineraryType</th>\n",
       "      <th>Date</th>\n",
       "      <th>Hour</th>\n",
       "      <th>Minute</th>\n",
       "    </tr>\n",
       "  </thead>\n",
       "  <tbody>\n",
       "    <tr>\n",
       "      <th>0</th>\n",
       "      <td>2018-01-12 11:43:00</td>\n",
       "      <td>2160.00</td>\n",
       "      <td>Other Product</td>\n",
       "      <td>Domestic</td>\n",
       "      <td>2018-01-12</td>\n",
       "      <td>11.0</td>\n",
       "      <td>43.0</td>\n",
       "    </tr>\n",
       "    <tr>\n",
       "      <th>1</th>\n",
       "      <td>2018-01-12 11:43:00</td>\n",
       "      <td>0.49</td>\n",
       "      <td>Other Product</td>\n",
       "      <td>Domestic</td>\n",
       "      <td>2018-01-12</td>\n",
       "      <td>11.0</td>\n",
       "      <td>43.0</td>\n",
       "    </tr>\n",
       "    <tr>\n",
       "      <th>2</th>\n",
       "      <td>2018-01-12 13:01:00</td>\n",
       "      <td>6550.00</td>\n",
       "      <td>Air</td>\n",
       "      <td>Domestic</td>\n",
       "      <td>2018-01-12</td>\n",
       "      <td>13.0</td>\n",
       "      <td>1.0</td>\n",
       "    </tr>\n",
       "    <tr>\n",
       "      <th>3</th>\n",
       "      <td>2018-01-12 13:10:00</td>\n",
       "      <td>6550.00</td>\n",
       "      <td>Air</td>\n",
       "      <td>Domestic</td>\n",
       "      <td>2018-01-12</td>\n",
       "      <td>13.0</td>\n",
       "      <td>10.0</td>\n",
       "    </tr>\n",
       "    <tr>\n",
       "      <th>4</th>\n",
       "      <td>2018-11-30 14:30:00</td>\n",
       "      <td>5497.00</td>\n",
       "      <td>Air</td>\n",
       "      <td>Domestic</td>\n",
       "      <td>2018-11-30</td>\n",
       "      <td>14.0</td>\n",
       "      <td>30.0</td>\n",
       "    </tr>\n",
       "    <tr>\n",
       "      <th>...</th>\n",
       "      <td>...</td>\n",
       "      <td>...</td>\n",
       "      <td>...</td>\n",
       "      <td>...</td>\n",
       "      <td>...</td>\n",
       "      <td>...</td>\n",
       "      <td>...</td>\n",
       "    </tr>\n",
       "    <tr>\n",
       "      <th>278461</th>\n",
       "      <td>2019-10-06 20:45:00</td>\n",
       "      <td>0.00</td>\n",
       "      <td>Air</td>\n",
       "      <td>Domestic</td>\n",
       "      <td>2019-10-06</td>\n",
       "      <td>20.0</td>\n",
       "      <td>45.0</td>\n",
       "    </tr>\n",
       "    <tr>\n",
       "      <th>278462</th>\n",
       "      <td>2019-10-06 21:39:00</td>\n",
       "      <td>9073.00</td>\n",
       "      <td>Air</td>\n",
       "      <td>Domestic</td>\n",
       "      <td>2019-10-06</td>\n",
       "      <td>21.0</td>\n",
       "      <td>39.0</td>\n",
       "    </tr>\n",
       "    <tr>\n",
       "      <th>278463</th>\n",
       "      <td>2019-10-06 22:18:00</td>\n",
       "      <td>2367.00</td>\n",
       "      <td>Air</td>\n",
       "      <td>Domestic</td>\n",
       "      <td>2019-10-06</td>\n",
       "      <td>22.0</td>\n",
       "      <td>18.0</td>\n",
       "    </tr>\n",
       "    <tr>\n",
       "      <th>278464</th>\n",
       "      <td>2019-10-06 22:30:00</td>\n",
       "      <td>6572.00</td>\n",
       "      <td>Air</td>\n",
       "      <td>Domestic</td>\n",
       "      <td>2019-10-06</td>\n",
       "      <td>22.0</td>\n",
       "      <td>30.0</td>\n",
       "    </tr>\n",
       "    <tr>\n",
       "      <th>278465</th>\n",
       "      <td>2019-10-06 22:30:00</td>\n",
       "      <td>5118.00</td>\n",
       "      <td>Air</td>\n",
       "      <td>Domestic</td>\n",
       "      <td>2019-10-06</td>\n",
       "      <td>22.0</td>\n",
       "      <td>30.0</td>\n",
       "    </tr>\n",
       "  </tbody>\n",
       "</table>\n",
       "<p>278466 rows × 7 columns</p>\n",
       "</div>"
      ],
      "text/plain": [
       "               InvoiceDate  NetFare    ProductType ItineraryType        Date  \\\n",
       "0      2018-01-12 11:43:00  2160.00  Other Product      Domestic  2018-01-12   \n",
       "1      2018-01-12 11:43:00     0.49  Other Product      Domestic  2018-01-12   \n",
       "2      2018-01-12 13:01:00  6550.00            Air      Domestic  2018-01-12   \n",
       "3      2018-01-12 13:10:00  6550.00            Air      Domestic  2018-01-12   \n",
       "4      2018-11-30 14:30:00  5497.00            Air      Domestic  2018-11-30   \n",
       "...                    ...      ...            ...           ...         ...   \n",
       "278461 2019-10-06 20:45:00     0.00            Air      Domestic  2019-10-06   \n",
       "278462 2019-10-06 21:39:00  9073.00            Air      Domestic  2019-10-06   \n",
       "278463 2019-10-06 22:18:00  2367.00            Air      Domestic  2019-10-06   \n",
       "278464 2019-10-06 22:30:00  6572.00            Air      Domestic  2019-10-06   \n",
       "278465 2019-10-06 22:30:00  5118.00            Air      Domestic  2019-10-06   \n",
       "\n",
       "        Hour  Minute  \n",
       "0       11.0    43.0  \n",
       "1       11.0    43.0  \n",
       "2       13.0     1.0  \n",
       "3       13.0    10.0  \n",
       "4       14.0    30.0  \n",
       "...      ...     ...  \n",
       "278461  20.0    45.0  \n",
       "278462  21.0    39.0  \n",
       "278463  22.0    18.0  \n",
       "278464  22.0    30.0  \n",
       "278465  22.0    30.0  \n",
       "\n",
       "[278466 rows x 7 columns]"
      ]
     },
     "execution_count": 5,
     "metadata": {},
     "output_type": "execute_result"
    }
   ],
   "source": [
    "data['Date']=data['InvoiceDate'].dt.date\n",
    "data['Hour']=data['InvoiceDate'].dt.hour\n",
    "data['Minute']=data['InvoiceDate'].dt.minute\n",
    "data"
   ]
  },
  {
   "cell_type": "markdown",
   "metadata": {},
   "source": [
    "Drop InvoiceDate column after formation of Date, Hour & Minute from InvoiceDate columns"
   ]
  },
  {
   "cell_type": "code",
   "execution_count": 6,
   "metadata": {},
   "outputs": [],
   "source": [
    "data.drop([\"InvoiceDate\"], axis=1, inplace=True)"
   ]
  },
  {
   "cell_type": "markdown",
   "metadata": {},
   "source": [
    "Rearrange of columns as our choices"
   ]
  },
  {
   "cell_type": "code",
   "execution_count": 7,
   "metadata": {},
   "outputs": [
    {
     "data": {
      "text/html": [
       "<div>\n",
       "<style scoped>\n",
       "    .dataframe tbody tr th:only-of-type {\n",
       "        vertical-align: middle;\n",
       "    }\n",
       "\n",
       "    .dataframe tbody tr th {\n",
       "        vertical-align: top;\n",
       "    }\n",
       "\n",
       "    .dataframe thead th {\n",
       "        text-align: right;\n",
       "    }\n",
       "</style>\n",
       "<table border=\"1\" class=\"dataframe\">\n",
       "  <thead>\n",
       "    <tr style=\"text-align: right;\">\n",
       "      <th></th>\n",
       "      <th>Date</th>\n",
       "      <th>Hour</th>\n",
       "      <th>Minute</th>\n",
       "      <th>ProductType</th>\n",
       "      <th>ItineraryType</th>\n",
       "      <th>NetFare</th>\n",
       "    </tr>\n",
       "  </thead>\n",
       "  <tbody>\n",
       "    <tr>\n",
       "      <th>0</th>\n",
       "      <td>2018-01-12</td>\n",
       "      <td>11.0</td>\n",
       "      <td>43.0</td>\n",
       "      <td>Other Product</td>\n",
       "      <td>Domestic</td>\n",
       "      <td>2160.00</td>\n",
       "    </tr>\n",
       "    <tr>\n",
       "      <th>1</th>\n",
       "      <td>2018-01-12</td>\n",
       "      <td>11.0</td>\n",
       "      <td>43.0</td>\n",
       "      <td>Other Product</td>\n",
       "      <td>Domestic</td>\n",
       "      <td>0.49</td>\n",
       "    </tr>\n",
       "    <tr>\n",
       "      <th>2</th>\n",
       "      <td>2018-01-12</td>\n",
       "      <td>13.0</td>\n",
       "      <td>1.0</td>\n",
       "      <td>Air</td>\n",
       "      <td>Domestic</td>\n",
       "      <td>6550.00</td>\n",
       "    </tr>\n",
       "    <tr>\n",
       "      <th>3</th>\n",
       "      <td>2018-01-12</td>\n",
       "      <td>13.0</td>\n",
       "      <td>10.0</td>\n",
       "      <td>Air</td>\n",
       "      <td>Domestic</td>\n",
       "      <td>6550.00</td>\n",
       "    </tr>\n",
       "    <tr>\n",
       "      <th>4</th>\n",
       "      <td>2018-11-30</td>\n",
       "      <td>14.0</td>\n",
       "      <td>30.0</td>\n",
       "      <td>Air</td>\n",
       "      <td>Domestic</td>\n",
       "      <td>5497.00</td>\n",
       "    </tr>\n",
       "  </tbody>\n",
       "</table>\n",
       "</div>"
      ],
      "text/plain": [
       "         Date  Hour  Minute    ProductType ItineraryType  NetFare\n",
       "0  2018-01-12  11.0    43.0  Other Product      Domestic  2160.00\n",
       "1  2018-01-12  11.0    43.0  Other Product      Domestic     0.49\n",
       "2  2018-01-12  13.0     1.0            Air      Domestic  6550.00\n",
       "3  2018-01-12  13.0    10.0            Air      Domestic  6550.00\n",
       "4  2018-11-30  14.0    30.0            Air      Domestic  5497.00"
      ]
     },
     "execution_count": 7,
     "metadata": {},
     "output_type": "execute_result"
    }
   ],
   "source": [
    "data = data[['Date','Hour','Minute','ProductType','ItineraryType','NetFare']]\n",
    "data.head()"
   ]
  },
  {
   "cell_type": "markdown",
   "metadata": {},
   "source": [
    "Converting data types on suitable format as mention below"
   ]
  },
  {
   "cell_type": "code",
   "execution_count": 8,
   "metadata": {},
   "outputs": [],
   "source": [
    "data['Date']=pd.to_datetime(data['Date'])\n",
    "data['Hour']=data['Hour'].astype('float')\n",
    "data['Minute']=data['Minute'].astype('float')"
   ]
  },
  {
   "cell_type": "markdown",
   "metadata": {},
   "source": [
    "Show total counts of records in different dates"
   ]
  },
  {
   "cell_type": "code",
   "execution_count": 9,
   "metadata": {},
   "outputs": [
    {
     "data": {
      "text/plain": [
       "2019-06-05    2427\n",
       "2019-05-30    2341\n",
       "2019-10-06    2326\n",
       "2019-05-13    2276\n",
       "2019-03-05    2251\n",
       "              ... \n",
       "2018-01-04      31\n",
       "2018-04-22      26\n",
       "2018-05-27      25\n",
       "2019-04-28      21\n",
       "2018-07-31       5\n",
       "Name: Date, Length: 425, dtype: int64"
      ]
     },
     "execution_count": 9,
     "metadata": {},
     "output_type": "execute_result"
    }
   ],
   "source": [
    "data.Date.value_counts()"
   ]
  },
  {
   "cell_type": "markdown",
   "metadata": {},
   "source": [
    "↑ Above counts shows that the NetFare records at date of 2019-06-05 is maximum and minimum at 2018-07-31. Google shows that maximum transaction recods due to celebration day declared by UN , World Environment Day & minimum due to leap month."
   ]
  },
  {
   "cell_type": "markdown",
   "metadata": {},
   "source": [
    "Show total counts of records in different hours"
   ]
  },
  {
   "cell_type": "code",
   "execution_count": 10,
   "metadata": {},
   "outputs": [
    {
     "data": {
      "text/plain": [
       "17.0    26509\n",
       "16.0    25434\n",
       "12.0    25282\n",
       "15.0    24968\n",
       "14.0    23487\n",
       "13.0    23340\n",
       "18.0    22236\n",
       "11.0    22158\n",
       "19.0    15690\n",
       "10.0    14810\n",
       "20.0    11631\n",
       "21.0     9572\n",
       "22.0     7963\n",
       "9.0      7154\n",
       "23.0     6594\n",
       "0.0      3367\n",
       "8.0      3143\n",
       "7.0      1464\n",
       "1.0      1241\n",
       "2.0       783\n",
       "6.0       585\n",
       "5.0       379\n",
       "3.0       355\n",
       "4.0       319\n",
       "Name: Hour, dtype: int64"
      ]
     },
     "execution_count": 10,
     "metadata": {},
     "output_type": "execute_result"
    }
   ],
   "source": [
    "data.Hour.value_counts()"
   ]
  },
  {
   "cell_type": "markdown",
   "metadata": {},
   "source": [
    "↑ Above counts shows that NetFare records at the time (hour of time) 17.0(5:00 PM) is maximum and minimum at 4.0(4:00 AM) morning. It means people buy or book theirs ticket after office time and minimum at 4:00 oclock morning at end of sleep."
   ]
  },
  {
   "cell_type": "markdown",
   "metadata": {},
   "source": [
    "Show total counts of records in different Minutes"
   ]
  },
  {
   "cell_type": "code",
   "execution_count": 11,
   "metadata": {},
   "outputs": [
    {
     "data": {
      "text/plain": [
       "1.0     7354\n",
       "13.0    6856\n",
       "25.0    6818\n",
       "37.0    6459\n",
       "49.0    6213\n",
       "46.0    5322\n",
       "16.0    5270\n",
       "6.0     5246\n",
       "0.0     5103\n",
       "56.0    5076\n",
       "31.0    5057\n",
       "45.0    5030\n",
       "36.0    5006\n",
       "30.0    4919\n",
       "15.0    4893\n",
       "26.0    4814\n",
       "21.0    4752\n",
       "11.0    4674\n",
       "34.0    4623\n",
       "51.0    4601\n",
       "4.0     4599\n",
       "10.0    4576\n",
       "50.0    4552\n",
       "54.0    4531\n",
       "35.0    4527\n",
       "22.0    4522\n",
       "55.0    4483\n",
       "20.0    4477\n",
       "2.0     4408\n",
       "24.0    4407\n",
       "18.0    4406\n",
       "14.0    4404\n",
       "38.0    4375\n",
       "48.0    4367\n",
       "44.0    4357\n",
       "40.0    4350\n",
       "41.0    4322\n",
       "28.0    4311\n",
       "58.0    4310\n",
       "42.0    4307\n",
       "8.0     4290\n",
       "32.0    4258\n",
       "33.0    4247\n",
       "12.0    4231\n",
       "3.0     4222\n",
       "52.0    4179\n",
       "7.0     4179\n",
       "47.0    4176\n",
       "53.0    4106\n",
       "27.0    4098\n",
       "19.0    4094\n",
       "43.0    4091\n",
       "59.0    4068\n",
       "23.0    4067\n",
       "57.0    4047\n",
       "17.0    3986\n",
       "39.0    3985\n",
       "29.0    3853\n",
       "5.0     3815\n",
       "9.0     3795\n",
       "Name: Minute, dtype: int64"
      ]
     },
     "execution_count": 11,
     "metadata": {},
     "output_type": "execute_result"
    }
   ],
   "source": [
    "data.Minute.value_counts()"
   ]
  },
  {
   "cell_type": "markdown",
   "metadata": {},
   "source": [
    "↑ Above counts shows that NetFare records booked or baught at 1 minute later than integer hour. Working of booking starts at certain integer hour and finish within in minute. "
   ]
  },
  {
   "cell_type": "markdown",
   "metadata": {},
   "source": [
    "Parse strings to datetime type "
   ]
  },
  {
   "cell_type": "code",
   "execution_count": 12,
   "metadata": {},
   "outputs": [],
   "source": [
    "data['Date'] = pd.to_datetime(data.Date, infer_datetime_format=True)\n",
    "df=data.set_index(['Date'])"
   ]
  },
  {
   "cell_type": "markdown",
   "metadata": {},
   "source": [
    "Data index sorted"
   ]
  },
  {
   "cell_type": "code",
   "execution_count": 13,
   "metadata": {},
   "outputs": [
    {
     "data": {
      "text/html": [
       "<div>\n",
       "<style scoped>\n",
       "    .dataframe tbody tr th:only-of-type {\n",
       "        vertical-align: middle;\n",
       "    }\n",
       "\n",
       "    .dataframe tbody tr th {\n",
       "        vertical-align: top;\n",
       "    }\n",
       "\n",
       "    .dataframe thead th {\n",
       "        text-align: right;\n",
       "    }\n",
       "</style>\n",
       "<table border=\"1\" class=\"dataframe\">\n",
       "  <thead>\n",
       "    <tr style=\"text-align: right;\">\n",
       "      <th></th>\n",
       "      <th>Hour</th>\n",
       "      <th>Minute</th>\n",
       "      <th>ProductType</th>\n",
       "      <th>ItineraryType</th>\n",
       "      <th>NetFare</th>\n",
       "    </tr>\n",
       "    <tr>\n",
       "      <th>Date</th>\n",
       "      <th></th>\n",
       "      <th></th>\n",
       "      <th></th>\n",
       "      <th></th>\n",
       "      <th></th>\n",
       "    </tr>\n",
       "  </thead>\n",
       "  <tbody>\n",
       "    <tr>\n",
       "      <th>2018-01-04</th>\n",
       "      <td>8.0</td>\n",
       "      <td>26.0</td>\n",
       "      <td>Air</td>\n",
       "      <td>Domestic</td>\n",
       "      <td>8222.0</td>\n",
       "    </tr>\n",
       "    <tr>\n",
       "      <th>2018-01-04</th>\n",
       "      <td>9.0</td>\n",
       "      <td>17.0</td>\n",
       "      <td>Air</td>\n",
       "      <td>Domestic</td>\n",
       "      <td>3418.0</td>\n",
       "    </tr>\n",
       "    <tr>\n",
       "      <th>2018-01-04</th>\n",
       "      <td>22.0</td>\n",
       "      <td>38.0</td>\n",
       "      <td>Air</td>\n",
       "      <td>Domestic</td>\n",
       "      <td>6261.0</td>\n",
       "    </tr>\n",
       "    <tr>\n",
       "      <th>2018-01-04</th>\n",
       "      <td>21.0</td>\n",
       "      <td>12.0</td>\n",
       "      <td>Air</td>\n",
       "      <td>Domestic</td>\n",
       "      <td>3473.0</td>\n",
       "    </tr>\n",
       "    <tr>\n",
       "      <th>2018-01-04</th>\n",
       "      <td>20.0</td>\n",
       "      <td>59.0</td>\n",
       "      <td>Air</td>\n",
       "      <td>Domestic</td>\n",
       "      <td>5011.0</td>\n",
       "    </tr>\n",
       "  </tbody>\n",
       "</table>\n",
       "</div>"
      ],
      "text/plain": [
       "            Hour  Minute ProductType ItineraryType  NetFare\n",
       "Date                                                       \n",
       "2018-01-04   8.0    26.0         Air      Domestic   8222.0\n",
       "2018-01-04   9.0    17.0         Air      Domestic   3418.0\n",
       "2018-01-04  22.0    38.0         Air      Domestic   6261.0\n",
       "2018-01-04  21.0    12.0         Air      Domestic   3473.0\n",
       "2018-01-04  20.0    59.0         Air      Domestic   5011.0"
      ]
     },
     "execution_count": 13,
     "metadata": {},
     "output_type": "execute_result"
    }
   ],
   "source": [
    "df.sort_values(by='Date').head()"
   ]
  },
  {
   "cell_type": "markdown",
   "metadata": {},
   "source": [
    "#### Descriptive Statistical Analysis <a id=\"15\"></a>"
   ]
  },
  {
   "cell_type": "markdown",
   "metadata": {},
   "source": [
    "Show size of dataframe "
   ]
  },
  {
   "cell_type": "code",
   "execution_count": 14,
   "metadata": {},
   "outputs": [
    {
     "data": {
      "text/plain": [
       "1392330"
      ]
     },
     "execution_count": 14,
     "metadata": {},
     "output_type": "execute_result"
    }
   ],
   "source": [
    "df.size"
   ]
  },
  {
   "cell_type": "markdown",
   "metadata": {},
   "source": [
    "Show unique value of ProductType "
   ]
  },
  {
   "cell_type": "code",
   "execution_count": 15,
   "metadata": {},
   "outputs": [
    {
     "data": {
      "text/plain": [
       "array(['Other Product', 'Air', 'Charge', 'Hotel', 'Air Cancellation',\n",
       "       'Other Product Cancellation', 'payment', 'Hotel Cancellation',\n",
       "       'refund', nan, 'Air Debit Note', 'Hotel Debit Note', 'Air Loss',\n",
       "       'Other Product Debit Note', 'Hotel Loss'], dtype=object)"
      ]
     },
     "execution_count": 15,
     "metadata": {},
     "output_type": "execute_result"
    }
   ],
   "source": [
    "df.ProductType.unique()"
   ]
  },
  {
   "cell_type": "markdown",
   "metadata": {},
   "source": [
    "Show unique value of Itinerary column"
   ]
  },
  {
   "cell_type": "code",
   "execution_count": 16,
   "metadata": {},
   "outputs": [
    {
     "data": {
      "text/plain": [
       "array(['Domestic', nan, 'International'], dtype=object)"
      ]
     },
     "execution_count": 16,
     "metadata": {},
     "output_type": "execute_result"
    }
   ],
   "source": [
    "df.ItineraryType.unique()"
   ]
  },
  {
   "cell_type": "markdown",
   "metadata": {},
   "source": [
    "Show the statistical calculations of dataframe"
   ]
  },
  {
   "cell_type": "code",
   "execution_count": 17,
   "metadata": {},
   "outputs": [
    {
     "data": {
      "text/html": [
       "<div>\n",
       "<style scoped>\n",
       "    .dataframe tbody tr th:only-of-type {\n",
       "        vertical-align: middle;\n",
       "    }\n",
       "\n",
       "    .dataframe tbody tr th {\n",
       "        vertical-align: top;\n",
       "    }\n",
       "\n",
       "    .dataframe thead th {\n",
       "        text-align: right;\n",
       "    }\n",
       "</style>\n",
       "<table border=\"1\" class=\"dataframe\">\n",
       "  <thead>\n",
       "    <tr style=\"text-align: right;\">\n",
       "      <th></th>\n",
       "      <th>Hour</th>\n",
       "      <th>Minute</th>\n",
       "      <th>NetFare</th>\n",
       "    </tr>\n",
       "  </thead>\n",
       "  <tbody>\n",
       "    <tr>\n",
       "      <th>count</th>\n",
       "      <td>278464.00</td>\n",
       "      <td>278464.00</td>\n",
       "      <td>217576.00</td>\n",
       "    </tr>\n",
       "    <tr>\n",
       "      <th>mean</th>\n",
       "      <td>14.83</td>\n",
       "      <td>29.14</td>\n",
       "      <td>4266.91</td>\n",
       "    </tr>\n",
       "    <tr>\n",
       "      <th>std</th>\n",
       "      <td>4.20</td>\n",
       "      <td>17.34</td>\n",
       "      <td>9803.14</td>\n",
       "    </tr>\n",
       "    <tr>\n",
       "      <th>min</th>\n",
       "      <td>0.00</td>\n",
       "      <td>0.00</td>\n",
       "      <td>-497324.00</td>\n",
       "    </tr>\n",
       "    <tr>\n",
       "      <th>25%</th>\n",
       "      <td>12.00</td>\n",
       "      <td>14.00</td>\n",
       "      <td>10.00</td>\n",
       "    </tr>\n",
       "    <tr>\n",
       "      <th>50%</th>\n",
       "      <td>15.00</td>\n",
       "      <td>29.00</td>\n",
       "      <td>3501.00</td>\n",
       "    </tr>\n",
       "    <tr>\n",
       "      <th>75%</th>\n",
       "      <td>18.00</td>\n",
       "      <td>44.00</td>\n",
       "      <td>5944.00</td>\n",
       "    </tr>\n",
       "    <tr>\n",
       "      <th>max</th>\n",
       "      <td>23.00</td>\n",
       "      <td>59.00</td>\n",
       "      <td>497678.00</td>\n",
       "    </tr>\n",
       "  </tbody>\n",
       "</table>\n",
       "</div>"
      ],
      "text/plain": [
       "            Hour     Minute    NetFare\n",
       "count  278464.00  278464.00  217576.00\n",
       "mean       14.83      29.14    4266.91\n",
       "std         4.20      17.34    9803.14\n",
       "min         0.00       0.00 -497324.00\n",
       "25%        12.00      14.00      10.00\n",
       "50%        15.00      29.00    3501.00\n",
       "75%        18.00      44.00    5944.00\n",
       "max        23.00      59.00  497678.00"
      ]
     },
     "execution_count": 17,
     "metadata": {},
     "output_type": "execute_result"
    }
   ],
   "source": [
    "df.describe().round(2)"
   ]
  },
  {
   "cell_type": "markdown",
   "metadata": {},
   "source": [
    "Show the general info about dataframe"
   ]
  },
  {
   "cell_type": "code",
   "execution_count": 18,
   "metadata": {},
   "outputs": [
    {
     "name": "stdout",
     "output_type": "stream",
     "text": [
      "<class 'pandas.core.frame.DataFrame'>\n",
      "DatetimeIndex: 278466 entries, 2018-01-12 to 2019-10-06\n",
      "Data columns (total 5 columns):\n",
      " #   Column         Non-Null Count   Dtype  \n",
      "---  ------         --------------   -----  \n",
      " 0   Hour           278464 non-null  float64\n",
      " 1   Minute         278464 non-null  float64\n",
      " 2   ProductType    278464 non-null  object \n",
      " 3   ItineraryType  245689 non-null  object \n",
      " 4   NetFare        217576 non-null  float64\n",
      "dtypes: float64(3), object(2)\n",
      "memory usage: 12.7+ MB\n"
     ]
    }
   ],
   "source": [
    "df.info()"
   ]
  },
  {
   "cell_type": "markdown",
   "metadata": {},
   "source": [
    "## Data Preparation <a id=\"4\"></a>"
   ]
  },
  {
   "cell_type": "markdown",
   "metadata": {},
   "source": [
    "<h4>Evaluating for Missing Data</h4>\n",
    "There are two methods to detect missing data:\n",
    "<ol>\n",
    " <li><b>.isnull()</b></li>\n",
    " <li><b>.notnull()</b></li>\n",
    "</ol>   "
   ]
  },
  {
   "cell_type": "markdown",
   "metadata": {},
   "source": [
    "Find missing value by Boolean method:\n",
    "**\"True\"** stands for missing value, while **\"False\"** stands for not missing value."
   ]
  },
  {
   "cell_type": "code",
   "execution_count": 19,
   "metadata": {},
   "outputs": [
    {
     "data": {
      "text/html": [
       "<div>\n",
       "<style scoped>\n",
       "    .dataframe tbody tr th:only-of-type {\n",
       "        vertical-align: middle;\n",
       "    }\n",
       "\n",
       "    .dataframe tbody tr th {\n",
       "        vertical-align: top;\n",
       "    }\n",
       "\n",
       "    .dataframe thead th {\n",
       "        text-align: right;\n",
       "    }\n",
       "</style>\n",
       "<table border=\"1\" class=\"dataframe\">\n",
       "  <thead>\n",
       "    <tr style=\"text-align: right;\">\n",
       "      <th></th>\n",
       "      <th>Hour</th>\n",
       "      <th>Minute</th>\n",
       "      <th>ProductType</th>\n",
       "      <th>ItineraryType</th>\n",
       "      <th>NetFare</th>\n",
       "    </tr>\n",
       "    <tr>\n",
       "      <th>Date</th>\n",
       "      <th></th>\n",
       "      <th></th>\n",
       "      <th></th>\n",
       "      <th></th>\n",
       "      <th></th>\n",
       "    </tr>\n",
       "  </thead>\n",
       "  <tbody>\n",
       "    <tr>\n",
       "      <th>2018-01-12</th>\n",
       "      <td>False</td>\n",
       "      <td>False</td>\n",
       "      <td>False</td>\n",
       "      <td>False</td>\n",
       "      <td>False</td>\n",
       "    </tr>\n",
       "    <tr>\n",
       "      <th>2018-01-12</th>\n",
       "      <td>False</td>\n",
       "      <td>False</td>\n",
       "      <td>False</td>\n",
       "      <td>False</td>\n",
       "      <td>False</td>\n",
       "    </tr>\n",
       "    <tr>\n",
       "      <th>2018-01-12</th>\n",
       "      <td>False</td>\n",
       "      <td>False</td>\n",
       "      <td>False</td>\n",
       "      <td>False</td>\n",
       "      <td>False</td>\n",
       "    </tr>\n",
       "    <tr>\n",
       "      <th>2018-01-12</th>\n",
       "      <td>False</td>\n",
       "      <td>False</td>\n",
       "      <td>False</td>\n",
       "      <td>False</td>\n",
       "      <td>False</td>\n",
       "    </tr>\n",
       "    <tr>\n",
       "      <th>2018-11-30</th>\n",
       "      <td>False</td>\n",
       "      <td>False</td>\n",
       "      <td>False</td>\n",
       "      <td>False</td>\n",
       "      <td>False</td>\n",
       "    </tr>\n",
       "    <tr>\n",
       "      <th>...</th>\n",
       "      <td>...</td>\n",
       "      <td>...</td>\n",
       "      <td>...</td>\n",
       "      <td>...</td>\n",
       "      <td>...</td>\n",
       "    </tr>\n",
       "    <tr>\n",
       "      <th>2019-10-06</th>\n",
       "      <td>False</td>\n",
       "      <td>False</td>\n",
       "      <td>False</td>\n",
       "      <td>False</td>\n",
       "      <td>False</td>\n",
       "    </tr>\n",
       "    <tr>\n",
       "      <th>2019-10-06</th>\n",
       "      <td>False</td>\n",
       "      <td>False</td>\n",
       "      <td>False</td>\n",
       "      <td>False</td>\n",
       "      <td>False</td>\n",
       "    </tr>\n",
       "    <tr>\n",
       "      <th>2019-10-06</th>\n",
       "      <td>False</td>\n",
       "      <td>False</td>\n",
       "      <td>False</td>\n",
       "      <td>False</td>\n",
       "      <td>False</td>\n",
       "    </tr>\n",
       "    <tr>\n",
       "      <th>2019-10-06</th>\n",
       "      <td>False</td>\n",
       "      <td>False</td>\n",
       "      <td>False</td>\n",
       "      <td>False</td>\n",
       "      <td>False</td>\n",
       "    </tr>\n",
       "    <tr>\n",
       "      <th>2019-10-06</th>\n",
       "      <td>False</td>\n",
       "      <td>False</td>\n",
       "      <td>False</td>\n",
       "      <td>False</td>\n",
       "      <td>False</td>\n",
       "    </tr>\n",
       "  </tbody>\n",
       "</table>\n",
       "<p>278466 rows × 5 columns</p>\n",
       "</div>"
      ],
      "text/plain": [
       "             Hour  Minute  ProductType  ItineraryType  NetFare\n",
       "Date                                                          \n",
       "2018-01-12  False   False        False          False    False\n",
       "2018-01-12  False   False        False          False    False\n",
       "2018-01-12  False   False        False          False    False\n",
       "2018-01-12  False   False        False          False    False\n",
       "2018-11-30  False   False        False          False    False\n",
       "...           ...     ...          ...            ...      ...\n",
       "2019-10-06  False   False        False          False    False\n",
       "2019-10-06  False   False        False          False    False\n",
       "2019-10-06  False   False        False          False    False\n",
       "2019-10-06  False   False        False          False    False\n",
       "2019-10-06  False   False        False          False    False\n",
       "\n",
       "[278466 rows x 5 columns]"
      ]
     },
     "execution_count": 19,
     "metadata": {},
     "output_type": "execute_result"
    }
   ],
   "source": [
    "missing_value = df.isnull()\n",
    "missing_value"
   ]
  },
  {
   "cell_type": "markdown",
   "metadata": {},
   "source": [
    "### Count missing values in each column\n",
    "\n",
    "Using a for loop in Python, we can quickly figure out the number of missing values in each column.<br>\n",
    "**\"True\" stands for missing value, while \"False\" stands for not missing value**"
   ]
  },
  {
   "cell_type": "code",
   "execution_count": 20,
   "metadata": {},
   "outputs": [
    {
     "name": "stdout",
     "output_type": "stream",
     "text": [
      "Hour\n",
      "False    278464\n",
      "True          2\n",
      "Name: Hour, dtype: int64\n",
      "\n",
      "Minute\n",
      "False    278464\n",
      "True          2\n",
      "Name: Minute, dtype: int64\n",
      "\n",
      "ProductType\n",
      "False    278464\n",
      "True          2\n",
      "Name: ProductType, dtype: int64\n",
      "\n",
      "ItineraryType\n",
      "False    245689\n",
      "True      32777\n",
      "Name: ItineraryType, dtype: int64\n",
      "\n",
      "NetFare\n",
      "False    217576\n",
      "True      60890\n",
      "Name: NetFare, dtype: int64\n",
      "\n"
     ]
    }
   ],
   "source": [
    "for column in missing_value.columns.values.tolist():\n",
    "    print(column)\n",
    "    print (missing_value[column].value_counts())\n",
    "    print(\"\") "
   ]
  },
  {
   "cell_type": "markdown",
   "metadata": {},
   "source": [
    "Based on the summary above, each column has 278466 rows of data, all columns containing missing data:\n",
    "<ol>\n",
    "<li>\"Hour\": 2 missing data</li>\n",
    "<li>\"Minute\": 2 missing data</li>\n",
    "<li>\"ProductType\": 2 missing data</li>\n",
    "<li>\"ItineraryType\": 32777 missing data</li>    \n",
    "<li>\"NetFare\": 60890 missing data</li>\n",
    "</ol>"
   ]
  },
  {
   "cell_type": "markdown",
   "metadata": {},
   "source": [
    "<h3 id=\"deal_missing_values\">Deal with missing data</h3>"
   ]
  },
  {
   "cell_type": "markdown",
   "metadata": {},
   "source": [
    "<b>Drop rows:</b>\n",
    "<ol>\n",
    "    <li>\"Hour\": 2 missing data, drop them , two observations among large dataset are not so big deals</li>\n",
    "    <li>\"Minute\": 2 missing data, drop them , two observations among large dataset are not so big deals</li>\n",
    "    <li>\"ProductType\": 2 missing data, drop them , two observations among large dataset are not so big deals</li>\n",
    "    <li>\"ItineraryType\": 32777 missing data, drop them , they are totally empty, we have huge data</li>\n",
    "    <li>\"NetFare\": 60890 missing data, drop whole rows, they are totally empty</li>  \n",
    "</ol>"
   ]
  },
  {
   "cell_type": "markdown",
   "metadata": {},
   "source": [
    "Show data types"
   ]
  },
  {
   "cell_type": "markdown",
   "metadata": {},
   "source": [
    "Drop missing values **[Hour]** in observations, the two rows are negelegible"
   ]
  },
  {
   "cell_type": "code",
   "execution_count": 21,
   "metadata": {},
   "outputs": [],
   "source": [
    "df.dropna(subset=[\"Hour\"], axis=0, inplace=True)"
   ]
  },
  {
   "cell_type": "markdown",
   "metadata": {},
   "source": [
    "Drop missing values **[Minute]** in observations, the two rows are negelegible"
   ]
  },
  {
   "cell_type": "code",
   "execution_count": 22,
   "metadata": {},
   "outputs": [],
   "source": [
    "df.dropna(subset=[\"Minute\"], axis=0, inplace=True)"
   ]
  },
  {
   "cell_type": "markdown",
   "metadata": {},
   "source": [
    "Drop missing values **[ProductType]** in observations, the two rows are negelegible "
   ]
  },
  {
   "cell_type": "code",
   "execution_count": 23,
   "metadata": {},
   "outputs": [],
   "source": [
    "df.dropna(subset=[\"ProductType\"], axis=0, inplace=True)"
   ]
  },
  {
   "cell_type": "markdown",
   "metadata": {},
   "source": [
    "Drop missing values **[ItineraryType]** in observations, they are not very sensitive "
   ]
  },
  {
   "cell_type": "code",
   "execution_count": 24,
   "metadata": {},
   "outputs": [],
   "source": [
    "df.dropna(subset=[\"ItineraryType\"], axis=0, inplace=True)"
   ]
  },
  {
   "cell_type": "markdown",
   "metadata": {},
   "source": [
    "Drop missing values **[NetFare]** in observations, they are completly empty "
   ]
  },
  {
   "cell_type": "code",
   "execution_count": 25,
   "metadata": {},
   "outputs": [],
   "source": [
    "df.dropna(subset=[\"NetFare\"], axis=0, inplace=True)"
   ]
  },
  {
   "cell_type": "markdown",
   "metadata": {},
   "source": [
    "Reset index, because we droped many rows & sorted"
   ]
  },
  {
   "cell_type": "code",
   "execution_count": 26,
   "metadata": {},
   "outputs": [
    {
     "data": {
      "text/html": [
       "<div>\n",
       "<style scoped>\n",
       "    .dataframe tbody tr th:only-of-type {\n",
       "        vertical-align: middle;\n",
       "    }\n",
       "\n",
       "    .dataframe tbody tr th {\n",
       "        vertical-align: top;\n",
       "    }\n",
       "\n",
       "    .dataframe thead th {\n",
       "        text-align: right;\n",
       "    }\n",
       "</style>\n",
       "<table border=\"1\" class=\"dataframe\">\n",
       "  <thead>\n",
       "    <tr style=\"text-align: right;\">\n",
       "      <th></th>\n",
       "      <th>Date</th>\n",
       "      <th>Hour</th>\n",
       "      <th>Minute</th>\n",
       "      <th>ProductType</th>\n",
       "      <th>ItineraryType</th>\n",
       "      <th>NetFare</th>\n",
       "    </tr>\n",
       "  </thead>\n",
       "  <tbody>\n",
       "    <tr>\n",
       "      <th>93239</th>\n",
       "      <td>2018-01-04</td>\n",
       "      <td>17.0</td>\n",
       "      <td>28.0</td>\n",
       "      <td>Air</td>\n",
       "      <td>Domestic</td>\n",
       "      <td>7515.0</td>\n",
       "    </tr>\n",
       "    <tr>\n",
       "      <th>93227</th>\n",
       "      <td>2018-01-04</td>\n",
       "      <td>13.0</td>\n",
       "      <td>25.0</td>\n",
       "      <td>Air</td>\n",
       "      <td>Domestic</td>\n",
       "      <td>5168.0</td>\n",
       "    </tr>\n",
       "    <tr>\n",
       "      <th>93250</th>\n",
       "      <td>2018-01-04</td>\n",
       "      <td>22.0</td>\n",
       "      <td>38.0</td>\n",
       "      <td>Air</td>\n",
       "      <td>Domestic</td>\n",
       "      <td>6261.0</td>\n",
       "    </tr>\n",
       "    <tr>\n",
       "      <th>93249</th>\n",
       "      <td>2018-01-04</td>\n",
       "      <td>21.0</td>\n",
       "      <td>12.0</td>\n",
       "      <td>Air</td>\n",
       "      <td>Domestic</td>\n",
       "      <td>3473.0</td>\n",
       "    </tr>\n",
       "    <tr>\n",
       "      <th>93248</th>\n",
       "      <td>2018-01-04</td>\n",
       "      <td>20.0</td>\n",
       "      <td>59.0</td>\n",
       "      <td>Air</td>\n",
       "      <td>Domestic</td>\n",
       "      <td>5011.0</td>\n",
       "    </tr>\n",
       "  </tbody>\n",
       "</table>\n",
       "</div>"
      ],
      "text/plain": [
       "            Date  Hour  Minute ProductType ItineraryType  NetFare\n",
       "93239 2018-01-04  17.0    28.0         Air      Domestic   7515.0\n",
       "93227 2018-01-04  13.0    25.0         Air      Domestic   5168.0\n",
       "93250 2018-01-04  22.0    38.0         Air      Domestic   6261.0\n",
       "93249 2018-01-04  21.0    12.0         Air      Domestic   3473.0\n",
       "93248 2018-01-04  20.0    59.0         Air      Domestic   5011.0"
      ]
     },
     "execution_count": 26,
     "metadata": {},
     "output_type": "execute_result"
    }
   ],
   "source": [
    "df.reset_index().sort_values(by='Date').head()"
   ]
  },
  {
   "cell_type": "markdown",
   "metadata": {},
   "source": [
    "**Final Clean** data"
   ]
  },
  {
   "cell_type": "code",
   "execution_count": 27,
   "metadata": {},
   "outputs": [],
   "source": [
    "df_clean = df.isnull()"
   ]
  },
  {
   "cell_type": "markdown",
   "metadata": {},
   "source": [
    "**\"True\" stands for missing value, while \"False\" stands for not missing value**"
   ]
  },
  {
   "cell_type": "code",
   "execution_count": 28,
   "metadata": {},
   "outputs": [
    {
     "name": "stdout",
     "output_type": "stream",
     "text": [
      "Hour\n",
      "False    184800\n",
      "Name: Hour, dtype: int64\n",
      "\n",
      "Minute\n",
      "False    184800\n",
      "Name: Minute, dtype: int64\n",
      "\n",
      "ProductType\n",
      "False    184800\n",
      "Name: ProductType, dtype: int64\n",
      "\n",
      "ItineraryType\n",
      "False    184800\n",
      "Name: ItineraryType, dtype: int64\n",
      "\n",
      "NetFare\n",
      "False    184800\n",
      "Name: NetFare, dtype: int64\n",
      "\n"
     ]
    }
   ],
   "source": [
    "for column in df_clean.columns.values.tolist():\n",
    "    print(column)\n",
    "    print (df_clean[column].value_counts())\n",
    "    print(\"\") "
   ]
  },
  {
   "cell_type": "markdown",
   "metadata": {},
   "source": [
    "RAW Data observations=**278466**, CLEANED Data observations=**184800**"
   ]
  },
  {
   "cell_type": "markdown",
   "metadata": {},
   "source": [
    "**Box Plot** to find out the outliers:"
   ]
  },
  {
   "cell_type": "code",
   "execution_count": 29,
   "metadata": {},
   "outputs": [],
   "source": [
    "import seaborn as sns"
   ]
  },
  {
   "cell_type": "code",
   "execution_count": 30,
   "metadata": {},
   "outputs": [
    {
     "data": {
      "image/png": "[encoded data removed]",
      "text/plain": [
       "<Figure size 360x1080 with 1 Axes>"
      ]
     },
     "metadata": {
      "needs_background": "light"
     },
     "output_type": "display_data"
    }
   ],
   "source": [
    "fig, ax1=plt.subplots()\n",
    "fig.set_size_inches(5,15)\n",
    "plt.boxplot(df[\"NetFare\"])\n",
    "plt.show()"
   ]
  },
  {
   "cell_type": "markdown",
   "metadata": {},
   "source": [
    "↑ Box-plot shows much outliers both sides, it has to remove, actually outliers makes execution lazy and make noise."
   ]
  },
  {
   "cell_type": "code",
   "execution_count": 31,
   "metadata": {},
   "outputs": [
    {
     "data": {
      "text/plain": [
       "<matplotlib.axes._subplots.AxesSubplot at 0x1f9ed163470>"
      ]
     },
     "execution_count": 31,
     "metadata": {},
     "output_type": "execute_result"
    },
    {
     "data": {
      "image/png": "[encoded data removed]",
      "text/plain": [
       "<Figure size 720x432 with 1 Axes>"
      ]
     },
     "metadata": {
      "needs_background": "light"
     },
     "output_type": "display_data"
    }
   ],
   "source": [
    "df.boxplot(column='NetFare', by='ProductType')"
   ]
  },
  {
   "cell_type": "code",
   "execution_count": 32,
   "metadata": {},
   "outputs": [
    {
     "data": {
      "text/plain": [
       "<matplotlib.axes._subplots.AxesSubplot at 0x1f9ecf4def0>"
      ]
     },
     "execution_count": 32,
     "metadata": {},
     "output_type": "execute_result"
    },
    {
     "data": {
      "image/png": "[encoded data removed]",
      "text/plain": [
       "<Figure size 720x432 with 1 Axes>"
      ]
     },
     "metadata": {
      "needs_background": "light"
     },
     "output_type": "display_data"
    }
   ],
   "source": [
    "df.boxplot(column='NetFare', by='ItineraryType')"
   ]
  },
  {
   "cell_type": "markdown",
   "metadata": {},
   "source": [
    "↑ Compared with International NetFare, Domestic airfare has less outliers, advised to remove outliers in both variables"
   ]
  },
  {
   "cell_type": "markdown",
   "metadata": {},
   "source": [
    "Histogram plot of NetFare"
   ]
  },
  {
   "cell_type": "code",
   "execution_count": 33,
   "metadata": {},
   "outputs": [
    {
     "data": {
      "text/plain": [
       "<matplotlib.axes._subplots.AxesSubplot at 0x1f9f093c080>"
      ]
     },
     "execution_count": 33,
     "metadata": {},
     "output_type": "execute_result"
    },
    {
     "data": {
      "image/png": "[encoded data removed]",
      "text/plain": [
       "<Figure size 720x432 with 1 Axes>"
      ]
     },
     "metadata": {
      "needs_background": "light"
     },
     "output_type": "display_data"
    }
   ],
   "source": [
    "df.NetFare.hist()"
   ]
  },
  {
   "cell_type": "markdown",
   "metadata": {},
   "source": [
    "↑ By graph can be analysed that negative values are also existed and NetFare nearly 58000."
   ]
  },
  {
   "cell_type": "code",
   "execution_count": 34,
   "metadata": {},
   "outputs": [
    {
     "data": {
      "text/plain": [
       "<matplotlib.axes._subplots.AxesSubplot at 0x1f9f09b5400>"
      ]
     },
     "execution_count": 34,
     "metadata": {},
     "output_type": "execute_result"
    },
    {
     "data": {
      "image/png": "[encoded data removed]",
      "text/plain": [
       "<Figure size 720x432 with 1 Axes>"
      ]
     },
     "metadata": {
      "needs_background": "light"
     },
     "output_type": "display_data"
    }
   ],
   "source": [
    "df.ItineraryType.hist()"
   ]
  },
  {
   "cell_type": "markdown",
   "metadata": {},
   "source": [
    "↑ Domestic AirFare consists of huge amounts."
   ]
  },
  {
   "cell_type": "code",
   "execution_count": 35,
   "metadata": {},
   "outputs": [
    {
     "data": {
      "text/plain": [
       "<matplotlib.axes._subplots.AxesSubplot at 0x1f9f0e467f0>"
      ]
     },
     "execution_count": 35,
     "metadata": {},
     "output_type": "execute_result"
    },
    {
     "data": {
      "image/png": "[encoded data removed]",
      "text/plain": [
       "<Figure size 720x432 with 1 Axes>"
      ]
     },
     "metadata": {
      "needs_background": "light"
     },
     "output_type": "display_data"
    }
   ],
   "source": [
    "df.ProductType.hist()"
   ]
  },
  {
   "cell_type": "markdown",
   "metadata": {},
   "source": [
    "↑ By graph can be conclude that Sub-type Air of ProductType plays main role in a group. It means correlation with NetFare should be strong."
   ]
  },
  {
   "cell_type": "code",
   "execution_count": 36,
   "metadata": {},
   "outputs": [
    {
     "data": {
      "text/plain": [
       "<matplotlib.axes._subplots.AxesSubplot at 0x1f9f0ce0a90>"
      ]
     },
     "execution_count": 36,
     "metadata": {},
     "output_type": "execute_result"
    },
    {
     "data": {
      "image/png": "[encoded data removed]",
      "text/plain": [
       "<Figure size 720x432 with 1 Axes>"
      ]
     },
     "metadata": {
      "needs_background": "light"
     },
     "output_type": "display_data"
    }
   ],
   "source": [
    "data.Hour.hist()"
   ]
  },
  {
   "cell_type": "markdown",
   "metadata": {},
   "source": [
    "↑ Plot shows that 14:00 PM-16:00 PM, after lunch time, people book or buy NetFare services. Minimest interaction at (2:00 AM-4:00 AM)"
   ]
  },
  {
   "cell_type": "code",
   "execution_count": 37,
   "metadata": {},
   "outputs": [
    {
     "data": {
      "text/plain": [
       "<matplotlib.axes._subplots.AxesSubplot at 0x1f9f0d8d400>"
      ]
     },
     "execution_count": 37,
     "metadata": {},
     "output_type": "execute_result"
    },
    {
     "data": {
      "image/png": "[encoded data removed]",
      "text/plain": [
       "<Figure size 720x432 with 1 Axes>"
      ]
     },
     "metadata": {
      "needs_background": "light"
     },
     "output_type": "display_data"
    }
   ],
   "source": [
    "data.Minute.hist()"
   ]
  },
  {
   "cell_type": "markdown",
   "metadata": {},
   "source": [
    "↑ Plot shows that nobody booked or baught NetFare Services at 59:00 minute. Clear insight."
   ]
  },
  {
   "cell_type": "markdown",
   "metadata": {},
   "source": [
    "#### Identifying Outliers with Interquartile Range (IQR)"
   ]
  },
  {
   "cell_type": "code",
   "execution_count": 38,
   "metadata": {},
   "outputs": [
    {
     "name": "stdout",
     "output_type": "stream",
     "text": [
      "Hour          6.0\n",
      "Minute       30.0\n",
      "NetFare    4314.0\n",
      "dtype: float64\n"
     ]
    }
   ],
   "source": [
    "Q1 = df.quantile(0.25)\n",
    "Q3 = df.quantile(0.75)\n",
    "IQR = Q3 - Q1  \n",
    "print(IQR)"
   ]
  },
  {
   "cell_type": "markdown",
   "metadata": {},
   "source": [
    "The code below generates an output with the 'True' and 'False' values. Points where the values are 'True' represent the presence of the outlier."
   ]
  },
  {
   "cell_type": "code",
   "execution_count": 39,
   "metadata": {},
   "outputs": [
    {
     "name": "stdout",
     "output_type": "stream",
     "text": [
      "             Hour  ItineraryType  Minute  NetFare  ProductType\n",
      "Date                                                          \n",
      "2018-01-12  False          False   False    False        False\n",
      "2018-01-12  False          False   False    False        False\n",
      "2018-01-12  False          False   False    False        False\n",
      "2018-01-12  False          False   False    False        False\n",
      "2018-11-30  False          False   False    False        False\n",
      "...           ...            ...     ...      ...          ...\n",
      "2019-10-06  False          False   False    False        False\n",
      "2019-10-06  False          False   False    False        False\n",
      "2019-10-06  False          False   False    False        False\n",
      "2019-10-06  False          False   False    False        False\n",
      "2019-10-06  False          False   False    False        False\n",
      "\n",
      "[184800 rows x 5 columns]\n"
     ]
    }
   ],
   "source": [
    "print((df  < (Q1 - 1.5 * IQR)) | (df  > (Q3 + 1.5 * IQR)))"
   ]
  },
  {
   "cell_type": "markdown",
   "metadata": {},
   "source": [
    "#### Identifying skewness "
   ]
  },
  {
   "cell_type": "code",
   "execution_count": 40,
   "metadata": {},
   "outputs": [
    {
     "name": "stdout",
     "output_type": "stream",
     "text": [
      "11.13246139839976\n"
     ]
    },
    {
     "data": {
      "text/plain": [
       "count    184800.000000\n",
       "mean       5023.444511\n",
       "std       10456.402099\n",
       "min     -497324.000000\n",
       "25%        2156.000000\n",
       "50%        4125.000000\n",
       "75%        6470.000000\n",
       "max      497678.000000\n",
       "Name: NetFare, dtype: float64"
      ]
     },
     "execution_count": 40,
     "metadata": {},
     "output_type": "execute_result"
    }
   ],
   "source": [
    "print(df['NetFare'].skew())\n",
    "df['NetFare'].describe()"
   ]
  },
  {
   "cell_type": "markdown",
   "metadata": {},
   "source": [
    "↑ Data is highly right skewed (11.13). Max value is 497678.It is due to outliers. So, there has necessary to delete outliers. "
   ]
  },
  {
   "cell_type": "markdown",
   "metadata": {},
   "source": [
    "We use the **IQR method** to delete outliers from records"
   ]
  },
  {
   "cell_type": "code",
   "execution_count": 41,
   "metadata": {},
   "outputs": [
    {
     "name": "stdout",
     "output_type": "stream",
     "text": [
      "(167132, 5)\n"
     ]
    }
   ],
   "source": [
    "df_out = df[~((df < (Q1 - 1.5 * IQR)) |(df > (Q3 + 1.5 * IQR))).any(axis=1)]\n",
    "print(df_out.shape)"
   ]
  },
  {
   "cell_type": "code",
   "execution_count": 42,
   "metadata": {},
   "outputs": [
    {
     "data": {
      "text/html": [
       "<div>\n",
       "<style scoped>\n",
       "    .dataframe tbody tr th:only-of-type {\n",
       "        vertical-align: middle;\n",
       "    }\n",
       "\n",
       "    .dataframe tbody tr th {\n",
       "        vertical-align: top;\n",
       "    }\n",
       "\n",
       "    .dataframe thead th {\n",
       "        text-align: right;\n",
       "    }\n",
       "</style>\n",
       "<table border=\"1\" class=\"dataframe\">\n",
       "  <thead>\n",
       "    <tr style=\"text-align: right;\">\n",
       "      <th></th>\n",
       "      <th>Date</th>\n",
       "      <th>Hour</th>\n",
       "      <th>Minute</th>\n",
       "      <th>ProductType</th>\n",
       "      <th>ItineraryType</th>\n",
       "      <th>NetFare</th>\n",
       "    </tr>\n",
       "  </thead>\n",
       "  <tbody>\n",
       "    <tr>\n",
       "      <th>84394</th>\n",
       "      <td>2018-01-04</td>\n",
       "      <td>17.0</td>\n",
       "      <td>50.0</td>\n",
       "      <td>Air</td>\n",
       "      <td>Domestic</td>\n",
       "      <td>3577.0</td>\n",
       "    </tr>\n",
       "    <tr>\n",
       "      <th>84395</th>\n",
       "      <td>2018-01-04</td>\n",
       "      <td>17.0</td>\n",
       "      <td>50.0</td>\n",
       "      <td>Air</td>\n",
       "      <td>Domestic</td>\n",
       "      <td>3577.0</td>\n",
       "    </tr>\n",
       "    <tr>\n",
       "      <th>84375</th>\n",
       "      <td>2018-01-04</td>\n",
       "      <td>8.0</td>\n",
       "      <td>26.0</td>\n",
       "      <td>Air</td>\n",
       "      <td>Domestic</td>\n",
       "      <td>8222.0</td>\n",
       "    </tr>\n",
       "    <tr>\n",
       "      <th>84376</th>\n",
       "      <td>2018-01-04</td>\n",
       "      <td>9.0</td>\n",
       "      <td>17.0</td>\n",
       "      <td>Air</td>\n",
       "      <td>Domestic</td>\n",
       "      <td>3418.0</td>\n",
       "    </tr>\n",
       "    <tr>\n",
       "      <th>84378</th>\n",
       "      <td>2018-01-04</td>\n",
       "      <td>12.0</td>\n",
       "      <td>0.0</td>\n",
       "      <td>Air</td>\n",
       "      <td>Domestic</td>\n",
       "      <td>3625.0</td>\n",
       "    </tr>\n",
       "    <tr>\n",
       "      <th>...</th>\n",
       "      <td>...</td>\n",
       "      <td>...</td>\n",
       "      <td>...</td>\n",
       "      <td>...</td>\n",
       "      <td>...</td>\n",
       "      <td>...</td>\n",
       "    </tr>\n",
       "    <tr>\n",
       "      <th>63505</th>\n",
       "      <td>2019-12-05</td>\n",
       "      <td>14.0</td>\n",
       "      <td>52.0</td>\n",
       "      <td>Air</td>\n",
       "      <td>Domestic</td>\n",
       "      <td>2305.0</td>\n",
       "    </tr>\n",
       "    <tr>\n",
       "      <th>63506</th>\n",
       "      <td>2019-12-05</td>\n",
       "      <td>14.0</td>\n",
       "      <td>57.0</td>\n",
       "      <td>Air Cancellation</td>\n",
       "      <td>Domestic</td>\n",
       "      <td>-3600.0</td>\n",
       "    </tr>\n",
       "    <tr>\n",
       "      <th>63507</th>\n",
       "      <td>2019-12-05</td>\n",
       "      <td>14.0</td>\n",
       "      <td>58.0</td>\n",
       "      <td>Other Product</td>\n",
       "      <td>Domestic</td>\n",
       "      <td>127.0</td>\n",
       "    </tr>\n",
       "    <tr>\n",
       "      <th>63497</th>\n",
       "      <td>2019-12-05</td>\n",
       "      <td>14.0</td>\n",
       "      <td>51.0</td>\n",
       "      <td>Air</td>\n",
       "      <td>Domestic</td>\n",
       "      <td>3150.0</td>\n",
       "    </tr>\n",
       "    <tr>\n",
       "      <th>63583</th>\n",
       "      <td>2019-12-05</td>\n",
       "      <td>17.0</td>\n",
       "      <td>49.0</td>\n",
       "      <td>Other Product</td>\n",
       "      <td>Domestic</td>\n",
       "      <td>269.0</td>\n",
       "    </tr>\n",
       "  </tbody>\n",
       "</table>\n",
       "<p>167132 rows × 6 columns</p>\n",
       "</div>"
      ],
      "text/plain": [
       "            Date  Hour  Minute       ProductType ItineraryType  NetFare\n",
       "84394 2018-01-04  17.0    50.0               Air      Domestic   3577.0\n",
       "84395 2018-01-04  17.0    50.0               Air      Domestic   3577.0\n",
       "84375 2018-01-04   8.0    26.0               Air      Domestic   8222.0\n",
       "84376 2018-01-04   9.0    17.0               Air      Domestic   3418.0\n",
       "84378 2018-01-04  12.0     0.0               Air      Domestic   3625.0\n",
       "...          ...   ...     ...               ...           ...      ...\n",
       "63505 2019-12-05  14.0    52.0               Air      Domestic   2305.0\n",
       "63506 2019-12-05  14.0    57.0  Air Cancellation      Domestic  -3600.0\n",
       "63507 2019-12-05  14.0    58.0     Other Product      Domestic    127.0\n",
       "63497 2019-12-05  14.0    51.0               Air      Domestic   3150.0\n",
       "63583 2019-12-05  17.0    49.0     Other Product      Domestic    269.0\n",
       "\n",
       "[167132 rows x 6 columns]"
      ]
     },
     "execution_count": 42,
     "metadata": {},
     "output_type": "execute_result"
    }
   ],
   "source": [
    "df_out.reset_index().sort_values(by='Date')"
   ]
  },
  {
   "cell_type": "markdown",
   "metadata": {},
   "source": [
    "Among CLEAN Data observations=**184800**, after delation of outlier REMAINDER Data observations=**167132** "
   ]
  },
  {
   "cell_type": "markdown",
   "metadata": {},
   "source": [
    "### Re-Check outliers by Box-Plot "
   ]
  },
  {
   "cell_type": "code",
   "execution_count": 43,
   "metadata": {},
   "outputs": [
    {
     "data": {
      "image/png": "[encoded data removed]",
      "text/plain": [
       "<Figure size 360x360 with 1 Axes>"
      ]
     },
     "metadata": {
      "needs_background": "light"
     },
     "output_type": "display_data"
    }
   ],
   "source": [
    "fig, ax1=plt.subplots()\n",
    "fig.set_size_inches(5,5)\n",
    "plt.boxplot(df_out[\"NetFare\"])\n",
    "plt.show()"
   ]
  },
  {
   "cell_type": "markdown",
   "metadata": {},
   "source": [
    "↑ **Oah..**, we got box plot with free outliers. Its great"
   ]
  },
  {
   "cell_type": "code",
   "execution_count": 44,
   "metadata": {},
   "outputs": [
    {
     "name": "stdout",
     "output_type": "stream",
     "text": [
      "0.10411093606819426\n"
     ]
    },
    {
     "data": {
      "text/plain": [
       "count    167132.000000\n",
       "mean       4144.839089\n",
       "std        3034.322278\n",
       "min       -4315.000000\n",
       "25%        2250.000000\n",
       "50%        4050.000000\n",
       "75%        6092.000000\n",
       "max       12941.000000\n",
       "Name: NetFare, dtype: float64"
      ]
     },
     "execution_count": 44,
     "metadata": {},
     "output_type": "execute_result"
    }
   ],
   "source": [
    "print(df_out['NetFare'].skew())\n",
    "df_out['NetFare'].describe()"
   ]
  },
  {
   "cell_type": "markdown",
   "metadata": {},
   "source": [
    "↑ See the Skewness=0.10, nearly 0. Data is normal distribution."
   ]
  },
  {
   "cell_type": "markdown",
   "metadata": {},
   "source": [
    "<b>Good!</b> Now, we obtain the dataset with no missing values, no outliers , no dispersion & sort indexed."
   ]
  },
  {
   "cell_type": "markdown",
   "metadata": {},
   "source": [
    "### Binning\n",
    "Binning is a process of transforming continuous numerical variables into discrete categorical 'bins', for grouped analysis."
   ]
  },
  {
   "cell_type": "markdown",
   "metadata": {},
   "source": [
    "Histogram of NetFare"
   ]
  },
  {
   "cell_type": "code",
   "execution_count": 47,
   "metadata": {},
   "outputs": [
    {
     "data": {
      "text/plain": [
       "Text(0.5, 1.0, 'NetFare-Counts Plot')"
      ]
     },
     "execution_count": 47,
     "metadata": {},
     "output_type": "execute_result"
    },
    {
     "data": {
      "image/png": "[encoded data removed]",
      "text/plain": [
       "<Figure size 720x432 with 1 Axes>"
      ]
     },
     "metadata": {
      "needs_background": "light"
     },
     "output_type": "display_data"
    }
   ],
   "source": [
    "plt.hist(df_out[\"NetFare\"])\n",
    "plt.xlabel(\"NetFare\")\n",
    "plt.ylabel(\"count\")\n",
    "plt.title(\"NetFare-Counts Plot\")"
   ]
  },
  {
   "cell_type": "markdown",
   "metadata": {},
   "source": [
    "↑ Above plot shows that NetFare between 2500-4000 has nearly 50000.It means fifty thousands travellers baught ticket between 2500-4000 rupees or units of prices."
   ]
  },
  {
   "cell_type": "markdown",
   "metadata": {},
   "source": [
    "Create bar plot for ProductType"
   ]
  },
  {
   "cell_type": "code",
   "execution_count": 48,
   "metadata": {},
   "outputs": [
    {
     "data": {
      "text/plain": [
       "Air                           138445\n",
       "Other Product                  18177\n",
       "Hotel                           6783\n",
       "Air Cancellation                2354\n",
       "Other Product Cancellation       533\n",
       "Air Debit Note                   533\n",
       "Air Loss                         190\n",
       "Hotel Cancellation                89\n",
       "Other Product Debit Note          21\n",
       "Hotel Loss                         4\n",
       "Hotel Debit Note                   3\n",
       "Name: ProductType, dtype: int64"
      ]
     },
     "execution_count": 48,
     "metadata": {},
     "output_type": "execute_result"
    }
   ],
   "source": [
    "df_out['ProductType'].value_counts()"
   ]
  },
  {
   "cell_type": "markdown",
   "metadata": {},
   "source": [
    "↑ ProductType Air and Hotel are distinct clear and maximum. Maximum has Air services and maximum has booked Hotel too or included."
   ]
  },
  {
   "cell_type": "code",
   "execution_count": 49,
   "metadata": {},
   "outputs": [
    {
     "data": {
      "text/plain": [
       "<matplotlib.axes._subplots.AxesSubplot at 0x1f9f130bda0>"
      ]
     },
     "execution_count": 49,
     "metadata": {},
     "output_type": "execute_result"
    },
    {
     "data": {
      "image/png": "[encoded data removed]",
      "text/plain": [
       "<Figure size 720x432 with 1 Axes>"
      ]
     },
     "metadata": {
      "needs_background": "light"
     },
     "output_type": "display_data"
    }
   ],
   "source": [
    "df_out['ProductType'].value_counts().plot(kind='bar')"
   ]
  },
  {
   "cell_type": "markdown",
   "metadata": {},
   "source": [
    "↑ Other Product type is also high, but not clear what it is. Air & Hotel are distinct."
   ]
  },
  {
   "cell_type": "markdown",
   "metadata": {},
   "source": [
    "Create bar plot of ItineraryType ( Domestic, International)"
   ]
  },
  {
   "cell_type": "code",
   "execution_count": 50,
   "metadata": {},
   "outputs": [
    {
     "data": {
      "text/plain": [
       "Domestic         159599\n",
       "International      7533\n",
       "Name: ItineraryType, dtype: int64"
      ]
     },
     "execution_count": 50,
     "metadata": {},
     "output_type": "execute_result"
    }
   ],
   "source": [
    "df_out['ItineraryType'].value_counts()"
   ]
  },
  {
   "cell_type": "code",
   "execution_count": 51,
   "metadata": {},
   "outputs": [
    {
     "data": {
      "text/plain": [
       "<matplotlib.axes._subplots.AxesSubplot at 0x1f9f13765c0>"
      ]
     },
     "execution_count": 51,
     "metadata": {},
     "output_type": "execute_result"
    },
    {
     "data": {
      "image/png": "[encoded data removed]",
      "text/plain": [
       "<Figure size 720x432 with 1 Axes>"
      ]
     },
     "metadata": {
      "needs_background": "light"
     },
     "output_type": "display_data"
    }
   ],
   "source": [
    "df_out['ItineraryType'].value_counts().plot(kind='bar')"
   ]
  },
  {
   "cell_type": "markdown",
   "metadata": {},
   "source": [
    "↑ Travellers are not flying abroad much. It means peoples are flying inside country."
   ]
  },
  {
   "cell_type": "markdown",
   "metadata": {},
   "source": [
    "### Create dummie variables of ['ProductType', 'ItineraryType']"
   ]
  },
  {
   "cell_type": "code",
   "execution_count": 52,
   "metadata": {},
   "outputs": [],
   "source": [
    "dummy_df=pd.get_dummies(df_out, columns=['ProductType', 'ItineraryType'], drop_first=True)"
   ]
  },
  {
   "cell_type": "code",
   "execution_count": 53,
   "metadata": {},
   "outputs": [
    {
     "data": {
      "text/plain": [
       "Index(['Hour', 'Minute', 'NetFare', 'ProductType_Air Cancellation',\n",
       "       'ProductType_Air Debit Note', 'ProductType_Air Loss',\n",
       "       'ProductType_Hotel', 'ProductType_Hotel Cancellation',\n",
       "       'ProductType_Hotel Debit Note', 'ProductType_Hotel Loss',\n",
       "       'ProductType_Other Product', 'ProductType_Other Product Cancellation',\n",
       "       'ProductType_Other Product Debit Note', 'ItineraryType_International'],\n",
       "      dtype='object')"
      ]
     },
     "execution_count": 53,
     "metadata": {},
     "output_type": "execute_result"
    }
   ],
   "source": [
    "dummy_df.columns"
   ]
  },
  {
   "cell_type": "code",
   "execution_count": 54,
   "metadata": {},
   "outputs": [],
   "source": [
    "dummy_df.rename(columns = {'ProductType_Air Cancellation':'ProTypeAirCanc','ProductType_Air Debit Note':'ProTypeAirDebtNote','ProductType_Air Loss':'ProTypeAirLoss','ProductType_Hotel':'ProTypeHot','ProductType_Hotel Cancellation':'ProTypeHotCanc','ProductType_Hotel Debit Note':'ProTypeHotDebNote','ProductType_Hotel Loss':'ProTypeHotLoss','ProductType_Other Product':'ProTypeOthPro','ProductType_Other Product Cancellation':'ProTypeOthProCanc','ProductType_Other Product Debit Note':'ProTypeOthProDebNote','ItineraryType_International':'IteTypeInter'}, inplace=True)\n"
   ]
  },
  {
   "cell_type": "code",
   "execution_count": 55,
   "metadata": {},
   "outputs": [
    {
     "data": {
      "text/html": [
       "<div>\n",
       "<style scoped>\n",
       "    .dataframe tbody tr th:only-of-type {\n",
       "        vertical-align: middle;\n",
       "    }\n",
       "\n",
       "    .dataframe tbody tr th {\n",
       "        vertical-align: top;\n",
       "    }\n",
       "\n",
       "    .dataframe thead th {\n",
       "        text-align: right;\n",
       "    }\n",
       "</style>\n",
       "<table border=\"1\" class=\"dataframe\">\n",
       "  <thead>\n",
       "    <tr style=\"text-align: right;\">\n",
       "      <th></th>\n",
       "      <th>Hour</th>\n",
       "      <th>Minute</th>\n",
       "      <th>NetFare</th>\n",
       "      <th>ProTypeAirCanc</th>\n",
       "      <th>ProTypeAirDebtNote</th>\n",
       "      <th>ProTypeAirLoss</th>\n",
       "      <th>ProTypeHot</th>\n",
       "      <th>ProTypeHotCanc</th>\n",
       "      <th>ProTypeHotDebNote</th>\n",
       "      <th>ProTypeHotLoss</th>\n",
       "      <th>ProTypeOthPro</th>\n",
       "      <th>ProTypeOthProCanc</th>\n",
       "      <th>ProTypeOthProDebNote</th>\n",
       "      <th>IteTypeInter</th>\n",
       "    </tr>\n",
       "    <tr>\n",
       "      <th>Date</th>\n",
       "      <th></th>\n",
       "      <th></th>\n",
       "      <th></th>\n",
       "      <th></th>\n",
       "      <th></th>\n",
       "      <th></th>\n",
       "      <th></th>\n",
       "      <th></th>\n",
       "      <th></th>\n",
       "      <th></th>\n",
       "      <th></th>\n",
       "      <th></th>\n",
       "      <th></th>\n",
       "      <th></th>\n",
       "    </tr>\n",
       "  </thead>\n",
       "  <tbody>\n",
       "    <tr>\n",
       "      <th>2018-01-12</th>\n",
       "      <td>11.0</td>\n",
       "      <td>43.0</td>\n",
       "      <td>2160.00</td>\n",
       "      <td>0</td>\n",
       "      <td>0</td>\n",
       "      <td>0</td>\n",
       "      <td>0</td>\n",
       "      <td>0</td>\n",
       "      <td>0</td>\n",
       "      <td>0</td>\n",
       "      <td>1</td>\n",
       "      <td>0</td>\n",
       "      <td>0</td>\n",
       "      <td>0</td>\n",
       "    </tr>\n",
       "    <tr>\n",
       "      <th>2018-01-12</th>\n",
       "      <td>11.0</td>\n",
       "      <td>43.0</td>\n",
       "      <td>0.49</td>\n",
       "      <td>0</td>\n",
       "      <td>0</td>\n",
       "      <td>0</td>\n",
       "      <td>0</td>\n",
       "      <td>0</td>\n",
       "      <td>0</td>\n",
       "      <td>0</td>\n",
       "      <td>1</td>\n",
       "      <td>0</td>\n",
       "      <td>0</td>\n",
       "      <td>0</td>\n",
       "    </tr>\n",
       "    <tr>\n",
       "      <th>2018-01-12</th>\n",
       "      <td>13.0</td>\n",
       "      <td>1.0</td>\n",
       "      <td>6550.00</td>\n",
       "      <td>0</td>\n",
       "      <td>0</td>\n",
       "      <td>0</td>\n",
       "      <td>0</td>\n",
       "      <td>0</td>\n",
       "      <td>0</td>\n",
       "      <td>0</td>\n",
       "      <td>0</td>\n",
       "      <td>0</td>\n",
       "      <td>0</td>\n",
       "      <td>0</td>\n",
       "    </tr>\n",
       "    <tr>\n",
       "      <th>2018-01-12</th>\n",
       "      <td>13.0</td>\n",
       "      <td>10.0</td>\n",
       "      <td>6550.00</td>\n",
       "      <td>0</td>\n",
       "      <td>0</td>\n",
       "      <td>0</td>\n",
       "      <td>0</td>\n",
       "      <td>0</td>\n",
       "      <td>0</td>\n",
       "      <td>0</td>\n",
       "      <td>0</td>\n",
       "      <td>0</td>\n",
       "      <td>0</td>\n",
       "      <td>0</td>\n",
       "    </tr>\n",
       "    <tr>\n",
       "      <th>2018-11-30</th>\n",
       "      <td>14.0</td>\n",
       "      <td>30.0</td>\n",
       "      <td>5497.00</td>\n",
       "      <td>0</td>\n",
       "      <td>0</td>\n",
       "      <td>0</td>\n",
       "      <td>0</td>\n",
       "      <td>0</td>\n",
       "      <td>0</td>\n",
       "      <td>0</td>\n",
       "      <td>0</td>\n",
       "      <td>0</td>\n",
       "      <td>0</td>\n",
       "      <td>0</td>\n",
       "    </tr>\n",
       "    <tr>\n",
       "      <th>...</th>\n",
       "      <td>...</td>\n",
       "      <td>...</td>\n",
       "      <td>...</td>\n",
       "      <td>...</td>\n",
       "      <td>...</td>\n",
       "      <td>...</td>\n",
       "      <td>...</td>\n",
       "      <td>...</td>\n",
       "      <td>...</td>\n",
       "      <td>...</td>\n",
       "      <td>...</td>\n",
       "      <td>...</td>\n",
       "      <td>...</td>\n",
       "      <td>...</td>\n",
       "    </tr>\n",
       "    <tr>\n",
       "      <th>2019-10-06</th>\n",
       "      <td>20.0</td>\n",
       "      <td>45.0</td>\n",
       "      <td>0.00</td>\n",
       "      <td>0</td>\n",
       "      <td>0</td>\n",
       "      <td>0</td>\n",
       "      <td>0</td>\n",
       "      <td>0</td>\n",
       "      <td>0</td>\n",
       "      <td>0</td>\n",
       "      <td>0</td>\n",
       "      <td>0</td>\n",
       "      <td>0</td>\n",
       "      <td>0</td>\n",
       "    </tr>\n",
       "    <tr>\n",
       "      <th>2019-10-06</th>\n",
       "      <td>21.0</td>\n",
       "      <td>39.0</td>\n",
       "      <td>9073.00</td>\n",
       "      <td>0</td>\n",
       "      <td>0</td>\n",
       "      <td>0</td>\n",
       "      <td>0</td>\n",
       "      <td>0</td>\n",
       "      <td>0</td>\n",
       "      <td>0</td>\n",
       "      <td>0</td>\n",
       "      <td>0</td>\n",
       "      <td>0</td>\n",
       "      <td>0</td>\n",
       "    </tr>\n",
       "    <tr>\n",
       "      <th>2019-10-06</th>\n",
       "      <td>22.0</td>\n",
       "      <td>18.0</td>\n",
       "      <td>2367.00</td>\n",
       "      <td>0</td>\n",
       "      <td>0</td>\n",
       "      <td>0</td>\n",
       "      <td>0</td>\n",
       "      <td>0</td>\n",
       "      <td>0</td>\n",
       "      <td>0</td>\n",
       "      <td>0</td>\n",
       "      <td>0</td>\n",
       "      <td>0</td>\n",
       "      <td>0</td>\n",
       "    </tr>\n",
       "    <tr>\n",
       "      <th>2019-10-06</th>\n",
       "      <td>22.0</td>\n",
       "      <td>30.0</td>\n",
       "      <td>6572.00</td>\n",
       "      <td>0</td>\n",
       "      <td>0</td>\n",
       "      <td>0</td>\n",
       "      <td>0</td>\n",
       "      <td>0</td>\n",
       "      <td>0</td>\n",
       "      <td>0</td>\n",
       "      <td>0</td>\n",
       "      <td>0</td>\n",
       "      <td>0</td>\n",
       "      <td>0</td>\n",
       "    </tr>\n",
       "    <tr>\n",
       "      <th>2019-10-06</th>\n",
       "      <td>22.0</td>\n",
       "      <td>30.0</td>\n",
       "      <td>5118.00</td>\n",
       "      <td>0</td>\n",
       "      <td>0</td>\n",
       "      <td>0</td>\n",
       "      <td>0</td>\n",
       "      <td>0</td>\n",
       "      <td>0</td>\n",
       "      <td>0</td>\n",
       "      <td>0</td>\n",
       "      <td>0</td>\n",
       "      <td>0</td>\n",
       "      <td>0</td>\n",
       "    </tr>\n",
       "  </tbody>\n",
       "</table>\n",
       "<p>167132 rows × 14 columns</p>\n",
       "</div>"
      ],
      "text/plain": [
       "            Hour  Minute  NetFare  ProTypeAirCanc  ProTypeAirDebtNote  \\\n",
       "Date                                                                    \n",
       "2018-01-12  11.0    43.0  2160.00               0                   0   \n",
       "2018-01-12  11.0    43.0     0.49               0                   0   \n",
       "2018-01-12  13.0     1.0  6550.00               0                   0   \n",
       "2018-01-12  13.0    10.0  6550.00               0                   0   \n",
       "2018-11-30  14.0    30.0  5497.00               0                   0   \n",
       "...          ...     ...      ...             ...                 ...   \n",
       "2019-10-06  20.0    45.0     0.00               0                   0   \n",
       "2019-10-06  21.0    39.0  9073.00               0                   0   \n",
       "2019-10-06  22.0    18.0  2367.00               0                   0   \n",
       "2019-10-06  22.0    30.0  6572.00               0                   0   \n",
       "2019-10-06  22.0    30.0  5118.00               0                   0   \n",
       "\n",
       "            ProTypeAirLoss  ProTypeHot  ProTypeHotCanc  ProTypeHotDebNote  \\\n",
       "Date                                                                        \n",
       "2018-01-12               0           0               0                  0   \n",
       "2018-01-12               0           0               0                  0   \n",
       "2018-01-12               0           0               0                  0   \n",
       "2018-01-12               0           0               0                  0   \n",
       "2018-11-30               0           0               0                  0   \n",
       "...                    ...         ...             ...                ...   \n",
       "2019-10-06               0           0               0                  0   \n",
       "2019-10-06               0           0               0                  0   \n",
       "2019-10-06               0           0               0                  0   \n",
       "2019-10-06               0           0               0                  0   \n",
       "2019-10-06               0           0               0                  0   \n",
       "\n",
       "            ProTypeHotLoss  ProTypeOthPro  ProTypeOthProCanc  \\\n",
       "Date                                                           \n",
       "2018-01-12               0              1                  0   \n",
       "2018-01-12               0              1                  0   \n",
       "2018-01-12               0              0                  0   \n",
       "2018-01-12               0              0                  0   \n",
       "2018-11-30               0              0                  0   \n",
       "...                    ...            ...                ...   \n",
       "2019-10-06               0              0                  0   \n",
       "2019-10-06               0              0                  0   \n",
       "2019-10-06               0              0                  0   \n",
       "2019-10-06               0              0                  0   \n",
       "2019-10-06               0              0                  0   \n",
       "\n",
       "            ProTypeOthProDebNote  IteTypeInter  \n",
       "Date                                            \n",
       "2018-01-12                     0             0  \n",
       "2018-01-12                     0             0  \n",
       "2018-01-12                     0             0  \n",
       "2018-01-12                     0             0  \n",
       "2018-11-30                     0             0  \n",
       "...                          ...           ...  \n",
       "2019-10-06                     0             0  \n",
       "2019-10-06                     0             0  \n",
       "2019-10-06                     0             0  \n",
       "2019-10-06                     0             0  \n",
       "2019-10-06                     0             0  \n",
       "\n",
       "[167132 rows x 14 columns]"
      ]
     },
     "execution_count": 55,
     "metadata": {},
     "output_type": "execute_result"
    }
   ],
   "source": [
    "dummy_df"
   ]
  },
  {
   "cell_type": "code",
   "execution_count": 56,
   "metadata": {
    "scrolled": false
   },
   "outputs": [
    {
     "data": {
      "text/plain": [
       "Index(['Hour', 'Minute', 'NetFare', 'ProTypeAirCanc', 'ProTypeAirDebtNote',\n",
       "       'ProTypeAirLoss', 'ProTypeHot', 'ProTypeHotCanc', 'ProTypeHotDebNote',\n",
       "       'ProTypeHotLoss', 'ProTypeOthPro', 'ProTypeOthProCanc',\n",
       "       'ProTypeOthProDebNote', 'IteTypeInter'],\n",
       "      dtype='object')"
      ]
     },
     "execution_count": 56,
     "metadata": {},
     "output_type": "execute_result"
    }
   ],
   "source": [
    "dummy_df.columns"
   ]
  },
  {
   "cell_type": "markdown",
   "metadata": {},
   "source": [
    "### Data Normalization\n",
    "**Target:** Normalize variables so their value ranges from 0 to 1 & easy to compute & compare values.<br>\n",
    "**Approach:** Using Normalization function.<br>"
   ]
  },
  {
   "cell_type": "markdown",
   "metadata": {},
   "source": [
    "Using Normalization function "
   ]
  },
  {
   "cell_type": "code",
   "execution_count": 57,
   "metadata": {},
   "outputs": [],
   "source": [
    "def norm_func(i):\n",
    "    x = (i-i.min())/(i.max()-i.min())\n",
    "    return (x)"
   ]
  },
  {
   "cell_type": "markdown",
   "metadata": {},
   "source": [
    "Normalized data frame (considering the numerical part of data)"
   ]
  },
  {
   "cell_type": "code",
   "execution_count": 58,
   "metadata": {},
   "outputs": [
    {
     "data": {
      "text/html": [
       "<div>\n",
       "<style scoped>\n",
       "    .dataframe tbody tr th:only-of-type {\n",
       "        vertical-align: middle;\n",
       "    }\n",
       "\n",
       "    .dataframe tbody tr th {\n",
       "        vertical-align: top;\n",
       "    }\n",
       "\n",
       "    .dataframe thead th {\n",
       "        text-align: right;\n",
       "    }\n",
       "</style>\n",
       "<table border=\"1\" class=\"dataframe\">\n",
       "  <thead>\n",
       "    <tr style=\"text-align: right;\">\n",
       "      <th></th>\n",
       "      <th>Hour</th>\n",
       "      <th>Minute</th>\n",
       "      <th>NetFare</th>\n",
       "      <th>ProTypeAirCanc</th>\n",
       "      <th>ProTypeAirDebtNote</th>\n",
       "      <th>ProTypeAirLoss</th>\n",
       "      <th>ProTypeHot</th>\n",
       "      <th>ProTypeHotCanc</th>\n",
       "      <th>ProTypeHotDebNote</th>\n",
       "      <th>ProTypeHotLoss</th>\n",
       "      <th>ProTypeOthPro</th>\n",
       "      <th>ProTypeOthProCanc</th>\n",
       "      <th>ProTypeOthProDebNote</th>\n",
       "      <th>IteTypeInter</th>\n",
       "    </tr>\n",
       "    <tr>\n",
       "      <th>Date</th>\n",
       "      <th></th>\n",
       "      <th></th>\n",
       "      <th></th>\n",
       "      <th></th>\n",
       "      <th></th>\n",
       "      <th></th>\n",
       "      <th></th>\n",
       "      <th></th>\n",
       "      <th></th>\n",
       "      <th></th>\n",
       "      <th></th>\n",
       "      <th></th>\n",
       "      <th></th>\n",
       "      <th></th>\n",
       "    </tr>\n",
       "  </thead>\n",
       "  <tbody>\n",
       "    <tr>\n",
       "      <th>2018-01-12</th>\n",
       "      <td>0.40</td>\n",
       "      <td>0.73</td>\n",
       "      <td>0.38</td>\n",
       "      <td>0.0</td>\n",
       "      <td>0.0</td>\n",
       "      <td>0.0</td>\n",
       "      <td>0.0</td>\n",
       "      <td>0.0</td>\n",
       "      <td>0.0</td>\n",
       "      <td>0.0</td>\n",
       "      <td>1.0</td>\n",
       "      <td>0.0</td>\n",
       "      <td>0.0</td>\n",
       "      <td>0.0</td>\n",
       "    </tr>\n",
       "    <tr>\n",
       "      <th>2018-01-12</th>\n",
       "      <td>0.40</td>\n",
       "      <td>0.73</td>\n",
       "      <td>0.25</td>\n",
       "      <td>0.0</td>\n",
       "      <td>0.0</td>\n",
       "      <td>0.0</td>\n",
       "      <td>0.0</td>\n",
       "      <td>0.0</td>\n",
       "      <td>0.0</td>\n",
       "      <td>0.0</td>\n",
       "      <td>1.0</td>\n",
       "      <td>0.0</td>\n",
       "      <td>0.0</td>\n",
       "      <td>0.0</td>\n",
       "    </tr>\n",
       "    <tr>\n",
       "      <th>2018-01-12</th>\n",
       "      <td>0.50</td>\n",
       "      <td>0.02</td>\n",
       "      <td>0.63</td>\n",
       "      <td>0.0</td>\n",
       "      <td>0.0</td>\n",
       "      <td>0.0</td>\n",
       "      <td>0.0</td>\n",
       "      <td>0.0</td>\n",
       "      <td>0.0</td>\n",
       "      <td>0.0</td>\n",
       "      <td>0.0</td>\n",
       "      <td>0.0</td>\n",
       "      <td>0.0</td>\n",
       "      <td>0.0</td>\n",
       "    </tr>\n",
       "    <tr>\n",
       "      <th>2018-01-12</th>\n",
       "      <td>0.50</td>\n",
       "      <td>0.17</td>\n",
       "      <td>0.63</td>\n",
       "      <td>0.0</td>\n",
       "      <td>0.0</td>\n",
       "      <td>0.0</td>\n",
       "      <td>0.0</td>\n",
       "      <td>0.0</td>\n",
       "      <td>0.0</td>\n",
       "      <td>0.0</td>\n",
       "      <td>0.0</td>\n",
       "      <td>0.0</td>\n",
       "      <td>0.0</td>\n",
       "      <td>0.0</td>\n",
       "    </tr>\n",
       "    <tr>\n",
       "      <th>2018-11-30</th>\n",
       "      <td>0.55</td>\n",
       "      <td>0.51</td>\n",
       "      <td>0.57</td>\n",
       "      <td>0.0</td>\n",
       "      <td>0.0</td>\n",
       "      <td>0.0</td>\n",
       "      <td>0.0</td>\n",
       "      <td>0.0</td>\n",
       "      <td>0.0</td>\n",
       "      <td>0.0</td>\n",
       "      <td>0.0</td>\n",
       "      <td>0.0</td>\n",
       "      <td>0.0</td>\n",
       "      <td>0.0</td>\n",
       "    </tr>\n",
       "    <tr>\n",
       "      <th>2018-01-12</th>\n",
       "      <td>0.55</td>\n",
       "      <td>0.15</td>\n",
       "      <td>0.53</td>\n",
       "      <td>0.0</td>\n",
       "      <td>0.0</td>\n",
       "      <td>0.0</td>\n",
       "      <td>0.0</td>\n",
       "      <td>0.0</td>\n",
       "      <td>0.0</td>\n",
       "      <td>0.0</td>\n",
       "      <td>0.0</td>\n",
       "      <td>0.0</td>\n",
       "      <td>0.0</td>\n",
       "      <td>0.0</td>\n",
       "    </tr>\n",
       "    <tr>\n",
       "      <th>2018-11-30</th>\n",
       "      <td>0.55</td>\n",
       "      <td>0.51</td>\n",
       "      <td>0.35</td>\n",
       "      <td>0.0</td>\n",
       "      <td>0.0</td>\n",
       "      <td>0.0</td>\n",
       "      <td>0.0</td>\n",
       "      <td>0.0</td>\n",
       "      <td>0.0</td>\n",
       "      <td>0.0</td>\n",
       "      <td>0.0</td>\n",
       "      <td>0.0</td>\n",
       "      <td>0.0</td>\n",
       "      <td>0.0</td>\n",
       "    </tr>\n",
       "    <tr>\n",
       "      <th>2018-01-12</th>\n",
       "      <td>0.50</td>\n",
       "      <td>0.17</td>\n",
       "      <td>0.67</td>\n",
       "      <td>0.0</td>\n",
       "      <td>0.0</td>\n",
       "      <td>0.0</td>\n",
       "      <td>0.0</td>\n",
       "      <td>0.0</td>\n",
       "      <td>0.0</td>\n",
       "      <td>0.0</td>\n",
       "      <td>0.0</td>\n",
       "      <td>0.0</td>\n",
       "      <td>0.0</td>\n",
       "      <td>0.0</td>\n",
       "    </tr>\n",
       "    <tr>\n",
       "      <th>2018-11-30</th>\n",
       "      <td>0.70</td>\n",
       "      <td>0.51</td>\n",
       "      <td>0.66</td>\n",
       "      <td>0.0</td>\n",
       "      <td>0.0</td>\n",
       "      <td>0.0</td>\n",
       "      <td>0.0</td>\n",
       "      <td>0.0</td>\n",
       "      <td>0.0</td>\n",
       "      <td>0.0</td>\n",
       "      <td>0.0</td>\n",
       "      <td>0.0</td>\n",
       "      <td>0.0</td>\n",
       "      <td>0.0</td>\n",
       "    </tr>\n",
       "    <tr>\n",
       "      <th>2018-01-12</th>\n",
       "      <td>0.55</td>\n",
       "      <td>0.42</td>\n",
       "      <td>0.67</td>\n",
       "      <td>0.0</td>\n",
       "      <td>0.0</td>\n",
       "      <td>0.0</td>\n",
       "      <td>0.0</td>\n",
       "      <td>0.0</td>\n",
       "      <td>0.0</td>\n",
       "      <td>0.0</td>\n",
       "      <td>0.0</td>\n",
       "      <td>0.0</td>\n",
       "      <td>0.0</td>\n",
       "      <td>0.0</td>\n",
       "    </tr>\n",
       "  </tbody>\n",
       "</table>\n",
       "</div>"
      ],
      "text/plain": [
       "            Hour  Minute  NetFare  ProTypeAirCanc  ProTypeAirDebtNote  \\\n",
       "Date                                                                    \n",
       "2018-01-12  0.40    0.73     0.38             0.0                 0.0   \n",
       "2018-01-12  0.40    0.73     0.25             0.0                 0.0   \n",
       "2018-01-12  0.50    0.02     0.63             0.0                 0.0   \n",
       "2018-01-12  0.50    0.17     0.63             0.0                 0.0   \n",
       "2018-11-30  0.55    0.51     0.57             0.0                 0.0   \n",
       "2018-01-12  0.55    0.15     0.53             0.0                 0.0   \n",
       "2018-11-30  0.55    0.51     0.35             0.0                 0.0   \n",
       "2018-01-12  0.50    0.17     0.67             0.0                 0.0   \n",
       "2018-11-30  0.70    0.51     0.66             0.0                 0.0   \n",
       "2018-01-12  0.55    0.42     0.67             0.0                 0.0   \n",
       "\n",
       "            ProTypeAirLoss  ProTypeHot  ProTypeHotCanc  ProTypeHotDebNote  \\\n",
       "Date                                                                        \n",
       "2018-01-12             0.0         0.0             0.0                0.0   \n",
       "2018-01-12             0.0         0.0             0.0                0.0   \n",
       "2018-01-12             0.0         0.0             0.0                0.0   \n",
       "2018-01-12             0.0         0.0             0.0                0.0   \n",
       "2018-11-30             0.0         0.0             0.0                0.0   \n",
       "2018-01-12             0.0         0.0             0.0                0.0   \n",
       "2018-11-30             0.0         0.0             0.0                0.0   \n",
       "2018-01-12             0.0         0.0             0.0                0.0   \n",
       "2018-11-30             0.0         0.0             0.0                0.0   \n",
       "2018-01-12             0.0         0.0             0.0                0.0   \n",
       "\n",
       "            ProTypeHotLoss  ProTypeOthPro  ProTypeOthProCanc  \\\n",
       "Date                                                           \n",
       "2018-01-12             0.0            1.0                0.0   \n",
       "2018-01-12             0.0            1.0                0.0   \n",
       "2018-01-12             0.0            0.0                0.0   \n",
       "2018-01-12             0.0            0.0                0.0   \n",
       "2018-11-30             0.0            0.0                0.0   \n",
       "2018-01-12             0.0            0.0                0.0   \n",
       "2018-11-30             0.0            0.0                0.0   \n",
       "2018-01-12             0.0            0.0                0.0   \n",
       "2018-11-30             0.0            0.0                0.0   \n",
       "2018-01-12             0.0            0.0                0.0   \n",
       "\n",
       "            ProTypeOthProDebNote  IteTypeInter  \n",
       "Date                                            \n",
       "2018-01-12                   0.0           0.0  \n",
       "2018-01-12                   0.0           0.0  \n",
       "2018-01-12                   0.0           0.0  \n",
       "2018-01-12                   0.0           0.0  \n",
       "2018-11-30                   0.0           0.0  \n",
       "2018-01-12                   0.0           0.0  \n",
       "2018-11-30                   0.0           0.0  \n",
       "2018-01-12                   0.0           0.0  \n",
       "2018-11-30                   0.0           0.0  \n",
       "2018-01-12                   0.0           0.0  "
      ]
     },
     "execution_count": 58,
     "metadata": {},
     "output_type": "execute_result"
    }
   ],
   "source": [
    "df_norm = norm_func(dummy_df.iloc[:,0:])\n",
    "df_norm.head(10).round(2)"
   ]
  },
  {
   "cell_type": "markdown",
   "metadata": {},
   "source": [
    "#### Correlation heatmap of dataset"
   ]
  },
  {
   "cell_type": "code",
   "execution_count": 59,
   "metadata": {},
   "outputs": [
    {
     "data": {
      "image/png": "[encoded data removed]",
      "text/plain": [
       "<Figure size 1008x864 with 2 Axes>"
      ]
     },
     "metadata": {
      "needs_background": "light"
     },
     "output_type": "display_data"
    }
   ],
   "source": [
    "def correlation_heatmap(df_norm):\n",
    "    hmap , ax = plt.subplots(figsize =(14, 12))\n",
    "    colormap = sns.diverging_palette(220, 10, as_cmap = True)\n",
    "    \n",
    "    hmap= sns.heatmap(\n",
    "        df_norm.corr(), \n",
    "        cmap = \"YlGn\",\n",
    "        square=True, \n",
    "        cbar_kws={'shrink':.9 }, \n",
    "        ax=ax,\n",
    "        annot=True, \n",
    "        linewidths=0.1,vmax=1.0, linecolor='white',\n",
    "        annot_kws={'fontsize':12 }\n",
    "    )\n",
    "    \n",
    "    plt.title('Pearson Correlation of Features', y=1.05, size=15)\n",
    "\n",
    "correlation_heatmap(df_norm)"
   ]
  },
  {
   "cell_type": "markdown",
   "metadata": {},
   "source": [
    "↑ Please go on NetFare columns. Pearson Correlation of Features (Minute, ProductType_Hotel,  & ItineraryType_International) shows that they are highly corelated i.e. positive values. Others variables less effective."
   ]
  },
  {
   "cell_type": "markdown",
   "metadata": {},
   "source": [
    "### Setting up Environment<a id=\"5\"></a>"
   ]
  },
  {
   "cell_type": "code",
   "execution_count": 60,
   "metadata": {},
   "outputs": [],
   "source": [
    "import pycaret"
   ]
  },
  {
   "cell_type": "code",
   "execution_count": 61,
   "metadata": {},
   "outputs": [
    {
     "name": "stdout",
     "output_type": "stream",
     "text": [
      " \n",
      "Setup Succesfully Completed!\n"
     ]
    },
    {
     "data": {
      "text/html": [
       "<style  type=\"text/css\" >\n",
       "    #T_1ed0f998_a68a_11ea_b8f2_34e6ad71bcferow1_col1 {\n",
       "            background-color:  lightgreen;\n",
       "        }    #T_1ed0f998_a68a_11ea_b8f2_34e6ad71bcferow15_col1 {\n",
       "            background-color:  lightgreen;\n",
       "        }    #T_1ed0f998_a68a_11ea_b8f2_34e6ad71bcferow17_col1 {\n",
       "            background-color:  lightgreen;\n",
       "        }    #T_1ed0f998_a68a_11ea_b8f2_34e6ad71bcferow23_col1 {\n",
       "            background-color:  lightgreen;\n",
       "        }    #T_1ed0f998_a68a_11ea_b8f2_34e6ad71bcferow28_col1 {\n",
       "            background-color:  lightgreen;\n",
       "        }</style><table id=\"T_1ed0f998_a68a_11ea_b8f2_34e6ad71bcfe\" ><thead>    <tr>        <th class=\"blank level0\" ></th>        <th class=\"col_heading level0 col0\" >Description</th>        <th class=\"col_heading level0 col1\" >Value</th>    </tr></thead><tbody>\n",
       "                <tr>\n",
       "                        <th id=\"T_1ed0f998_a68a_11ea_b8f2_34e6ad71bcfelevel0_row0\" class=\"row_heading level0 row0\" >0</th>\n",
       "                        <td id=\"T_1ed0f998_a68a_11ea_b8f2_34e6ad71bcferow0_col0\" class=\"data row0 col0\" >session_id</td>\n",
       "                        <td id=\"T_1ed0f998_a68a_11ea_b8f2_34e6ad71bcferow0_col1\" class=\"data row0 col1\" >2610</td>\n",
       "            </tr>\n",
       "            <tr>\n",
       "                        <th id=\"T_1ed0f998_a68a_11ea_b8f2_34e6ad71bcfelevel0_row1\" class=\"row_heading level0 row1\" >1</th>\n",
       "                        <td id=\"T_1ed0f998_a68a_11ea_b8f2_34e6ad71bcferow1_col0\" class=\"data row1 col0\" >Transform Target </td>\n",
       "                        <td id=\"T_1ed0f998_a68a_11ea_b8f2_34e6ad71bcferow1_col1\" class=\"data row1 col1\" >True</td>\n",
       "            </tr>\n",
       "            <tr>\n",
       "                        <th id=\"T_1ed0f998_a68a_11ea_b8f2_34e6ad71bcfelevel0_row2\" class=\"row_heading level0 row2\" >2</th>\n",
       "                        <td id=\"T_1ed0f998_a68a_11ea_b8f2_34e6ad71bcferow2_col0\" class=\"data row2 col0\" >Transform Target Method</td>\n",
       "                        <td id=\"T_1ed0f998_a68a_11ea_b8f2_34e6ad71bcferow2_col1\" class=\"data row2 col1\" >yeo-johnson</td>\n",
       "            </tr>\n",
       "            <tr>\n",
       "                        <th id=\"T_1ed0f998_a68a_11ea_b8f2_34e6ad71bcfelevel0_row3\" class=\"row_heading level0 row3\" >3</th>\n",
       "                        <td id=\"T_1ed0f998_a68a_11ea_b8f2_34e6ad71bcferow3_col0\" class=\"data row3 col0\" >Original Data</td>\n",
       "                        <td id=\"T_1ed0f998_a68a_11ea_b8f2_34e6ad71bcferow3_col1\" class=\"data row3 col1\" >(167132, 14)</td>\n",
       "            </tr>\n",
       "            <tr>\n",
       "                        <th id=\"T_1ed0f998_a68a_11ea_b8f2_34e6ad71bcfelevel0_row4\" class=\"row_heading level0 row4\" >4</th>\n",
       "                        <td id=\"T_1ed0f998_a68a_11ea_b8f2_34e6ad71bcferow4_col0\" class=\"data row4 col0\" >Missing Values </td>\n",
       "                        <td id=\"T_1ed0f998_a68a_11ea_b8f2_34e6ad71bcferow4_col1\" class=\"data row4 col1\" >False</td>\n",
       "            </tr>\n",
       "            <tr>\n",
       "                        <th id=\"T_1ed0f998_a68a_11ea_b8f2_34e6ad71bcfelevel0_row5\" class=\"row_heading level0 row5\" >5</th>\n",
       "                        <td id=\"T_1ed0f998_a68a_11ea_b8f2_34e6ad71bcferow5_col0\" class=\"data row5 col0\" >Numeric Features </td>\n",
       "                        <td id=\"T_1ed0f998_a68a_11ea_b8f2_34e6ad71bcferow5_col1\" class=\"data row5 col1\" >2</td>\n",
       "            </tr>\n",
       "            <tr>\n",
       "                        <th id=\"T_1ed0f998_a68a_11ea_b8f2_34e6ad71bcfelevel0_row6\" class=\"row_heading level0 row6\" >6</th>\n",
       "                        <td id=\"T_1ed0f998_a68a_11ea_b8f2_34e6ad71bcferow6_col0\" class=\"data row6 col0\" >Categorical Features </td>\n",
       "                        <td id=\"T_1ed0f998_a68a_11ea_b8f2_34e6ad71bcferow6_col1\" class=\"data row6 col1\" >11</td>\n",
       "            </tr>\n",
       "            <tr>\n",
       "                        <th id=\"T_1ed0f998_a68a_11ea_b8f2_34e6ad71bcfelevel0_row7\" class=\"row_heading level0 row7\" >7</th>\n",
       "                        <td id=\"T_1ed0f998_a68a_11ea_b8f2_34e6ad71bcferow7_col0\" class=\"data row7 col0\" >Ordinal Features </td>\n",
       "                        <td id=\"T_1ed0f998_a68a_11ea_b8f2_34e6ad71bcferow7_col1\" class=\"data row7 col1\" >False</td>\n",
       "            </tr>\n",
       "            <tr>\n",
       "                        <th id=\"T_1ed0f998_a68a_11ea_b8f2_34e6ad71bcfelevel0_row8\" class=\"row_heading level0 row8\" >8</th>\n",
       "                        <td id=\"T_1ed0f998_a68a_11ea_b8f2_34e6ad71bcferow8_col0\" class=\"data row8 col0\" >High Cardinality Features </td>\n",
       "                        <td id=\"T_1ed0f998_a68a_11ea_b8f2_34e6ad71bcferow8_col1\" class=\"data row8 col1\" >False</td>\n",
       "            </tr>\n",
       "            <tr>\n",
       "                        <th id=\"T_1ed0f998_a68a_11ea_b8f2_34e6ad71bcfelevel0_row9\" class=\"row_heading level0 row9\" >9</th>\n",
       "                        <td id=\"T_1ed0f998_a68a_11ea_b8f2_34e6ad71bcferow9_col0\" class=\"data row9 col0\" >High Cardinality Method </td>\n",
       "                        <td id=\"T_1ed0f998_a68a_11ea_b8f2_34e6ad71bcferow9_col1\" class=\"data row9 col1\" >None</td>\n",
       "            </tr>\n",
       "            <tr>\n",
       "                        <th id=\"T_1ed0f998_a68a_11ea_b8f2_34e6ad71bcfelevel0_row10\" class=\"row_heading level0 row10\" >10</th>\n",
       "                        <td id=\"T_1ed0f998_a68a_11ea_b8f2_34e6ad71bcferow10_col0\" class=\"data row10 col0\" >Sampled Data</td>\n",
       "                        <td id=\"T_1ed0f998_a68a_11ea_b8f2_34e6ad71bcferow10_col1\" class=\"data row10 col1\" >(116992, 14)</td>\n",
       "            </tr>\n",
       "            <tr>\n",
       "                        <th id=\"T_1ed0f998_a68a_11ea_b8f2_34e6ad71bcfelevel0_row11\" class=\"row_heading level0 row11\" >11</th>\n",
       "                        <td id=\"T_1ed0f998_a68a_11ea_b8f2_34e6ad71bcferow11_col0\" class=\"data row11 col0\" >Transformed Train Set</td>\n",
       "                        <td id=\"T_1ed0f998_a68a_11ea_b8f2_34e6ad71bcferow11_col1\" class=\"data row11 col1\" >(81894, 13)</td>\n",
       "            </tr>\n",
       "            <tr>\n",
       "                        <th id=\"T_1ed0f998_a68a_11ea_b8f2_34e6ad71bcfelevel0_row12\" class=\"row_heading level0 row12\" >12</th>\n",
       "                        <td id=\"T_1ed0f998_a68a_11ea_b8f2_34e6ad71bcferow12_col0\" class=\"data row12 col0\" >Transformed Test Set</td>\n",
       "                        <td id=\"T_1ed0f998_a68a_11ea_b8f2_34e6ad71bcferow12_col1\" class=\"data row12 col1\" >(35098, 13)</td>\n",
       "            </tr>\n",
       "            <tr>\n",
       "                        <th id=\"T_1ed0f998_a68a_11ea_b8f2_34e6ad71bcfelevel0_row13\" class=\"row_heading level0 row13\" >13</th>\n",
       "                        <td id=\"T_1ed0f998_a68a_11ea_b8f2_34e6ad71bcferow13_col0\" class=\"data row13 col0\" >Numeric Imputer </td>\n",
       "                        <td id=\"T_1ed0f998_a68a_11ea_b8f2_34e6ad71bcferow13_col1\" class=\"data row13 col1\" >mean</td>\n",
       "            </tr>\n",
       "            <tr>\n",
       "                        <th id=\"T_1ed0f998_a68a_11ea_b8f2_34e6ad71bcfelevel0_row14\" class=\"row_heading level0 row14\" >14</th>\n",
       "                        <td id=\"T_1ed0f998_a68a_11ea_b8f2_34e6ad71bcferow14_col0\" class=\"data row14 col0\" >Categorical Imputer </td>\n",
       "                        <td id=\"T_1ed0f998_a68a_11ea_b8f2_34e6ad71bcferow14_col1\" class=\"data row14 col1\" >constant</td>\n",
       "            </tr>\n",
       "            <tr>\n",
       "                        <th id=\"T_1ed0f998_a68a_11ea_b8f2_34e6ad71bcfelevel0_row15\" class=\"row_heading level0 row15\" >15</th>\n",
       "                        <td id=\"T_1ed0f998_a68a_11ea_b8f2_34e6ad71bcferow15_col0\" class=\"data row15 col0\" >Normalize </td>\n",
       "                        <td id=\"T_1ed0f998_a68a_11ea_b8f2_34e6ad71bcferow15_col1\" class=\"data row15 col1\" >True</td>\n",
       "            </tr>\n",
       "            <tr>\n",
       "                        <th id=\"T_1ed0f998_a68a_11ea_b8f2_34e6ad71bcfelevel0_row16\" class=\"row_heading level0 row16\" >16</th>\n",
       "                        <td id=\"T_1ed0f998_a68a_11ea_b8f2_34e6ad71bcferow16_col0\" class=\"data row16 col0\" >Normalize Method </td>\n",
       "                        <td id=\"T_1ed0f998_a68a_11ea_b8f2_34e6ad71bcferow16_col1\" class=\"data row16 col1\" >zscore</td>\n",
       "            </tr>\n",
       "            <tr>\n",
       "                        <th id=\"T_1ed0f998_a68a_11ea_b8f2_34e6ad71bcfelevel0_row17\" class=\"row_heading level0 row17\" >17</th>\n",
       "                        <td id=\"T_1ed0f998_a68a_11ea_b8f2_34e6ad71bcferow17_col0\" class=\"data row17 col0\" >Transformation </td>\n",
       "                        <td id=\"T_1ed0f998_a68a_11ea_b8f2_34e6ad71bcferow17_col1\" class=\"data row17 col1\" >True</td>\n",
       "            </tr>\n",
       "            <tr>\n",
       "                        <th id=\"T_1ed0f998_a68a_11ea_b8f2_34e6ad71bcfelevel0_row18\" class=\"row_heading level0 row18\" >18</th>\n",
       "                        <td id=\"T_1ed0f998_a68a_11ea_b8f2_34e6ad71bcferow18_col0\" class=\"data row18 col0\" >Transformation Method </td>\n",
       "                        <td id=\"T_1ed0f998_a68a_11ea_b8f2_34e6ad71bcferow18_col1\" class=\"data row18 col1\" >yeo-johnson</td>\n",
       "            </tr>\n",
       "            <tr>\n",
       "                        <th id=\"T_1ed0f998_a68a_11ea_b8f2_34e6ad71bcfelevel0_row19\" class=\"row_heading level0 row19\" >19</th>\n",
       "                        <td id=\"T_1ed0f998_a68a_11ea_b8f2_34e6ad71bcferow19_col0\" class=\"data row19 col0\" >PCA </td>\n",
       "                        <td id=\"T_1ed0f998_a68a_11ea_b8f2_34e6ad71bcferow19_col1\" class=\"data row19 col1\" >False</td>\n",
       "            </tr>\n",
       "            <tr>\n",
       "                        <th id=\"T_1ed0f998_a68a_11ea_b8f2_34e6ad71bcfelevel0_row20\" class=\"row_heading level0 row20\" >20</th>\n",
       "                        <td id=\"T_1ed0f998_a68a_11ea_b8f2_34e6ad71bcferow20_col0\" class=\"data row20 col0\" >PCA Method </td>\n",
       "                        <td id=\"T_1ed0f998_a68a_11ea_b8f2_34e6ad71bcferow20_col1\" class=\"data row20 col1\" >None</td>\n",
       "            </tr>\n",
       "            <tr>\n",
       "                        <th id=\"T_1ed0f998_a68a_11ea_b8f2_34e6ad71bcfelevel0_row21\" class=\"row_heading level0 row21\" >21</th>\n",
       "                        <td id=\"T_1ed0f998_a68a_11ea_b8f2_34e6ad71bcferow21_col0\" class=\"data row21 col0\" >PCA Components </td>\n",
       "                        <td id=\"T_1ed0f998_a68a_11ea_b8f2_34e6ad71bcferow21_col1\" class=\"data row21 col1\" >None</td>\n",
       "            </tr>\n",
       "            <tr>\n",
       "                        <th id=\"T_1ed0f998_a68a_11ea_b8f2_34e6ad71bcfelevel0_row22\" class=\"row_heading level0 row22\" >22</th>\n",
       "                        <td id=\"T_1ed0f998_a68a_11ea_b8f2_34e6ad71bcferow22_col0\" class=\"data row22 col0\" >Ignore Low Variance </td>\n",
       "                        <td id=\"T_1ed0f998_a68a_11ea_b8f2_34e6ad71bcferow22_col1\" class=\"data row22 col1\" >False</td>\n",
       "            </tr>\n",
       "            <tr>\n",
       "                        <th id=\"T_1ed0f998_a68a_11ea_b8f2_34e6ad71bcfelevel0_row23\" class=\"row_heading level0 row23\" >23</th>\n",
       "                        <td id=\"T_1ed0f998_a68a_11ea_b8f2_34e6ad71bcferow23_col0\" class=\"data row23 col0\" >Combine Rare Levels </td>\n",
       "                        <td id=\"T_1ed0f998_a68a_11ea_b8f2_34e6ad71bcferow23_col1\" class=\"data row23 col1\" >True</td>\n",
       "            </tr>\n",
       "            <tr>\n",
       "                        <th id=\"T_1ed0f998_a68a_11ea_b8f2_34e6ad71bcfelevel0_row24\" class=\"row_heading level0 row24\" >24</th>\n",
       "                        <td id=\"T_1ed0f998_a68a_11ea_b8f2_34e6ad71bcferow24_col0\" class=\"data row24 col0\" >Rare Level Threshold </td>\n",
       "                        <td id=\"T_1ed0f998_a68a_11ea_b8f2_34e6ad71bcferow24_col1\" class=\"data row24 col1\" >0.050000</td>\n",
       "            </tr>\n",
       "            <tr>\n",
       "                        <th id=\"T_1ed0f998_a68a_11ea_b8f2_34e6ad71bcfelevel0_row25\" class=\"row_heading level0 row25\" >25</th>\n",
       "                        <td id=\"T_1ed0f998_a68a_11ea_b8f2_34e6ad71bcferow25_col0\" class=\"data row25 col0\" >Numeric Binning </td>\n",
       "                        <td id=\"T_1ed0f998_a68a_11ea_b8f2_34e6ad71bcferow25_col1\" class=\"data row25 col1\" >False</td>\n",
       "            </tr>\n",
       "            <tr>\n",
       "                        <th id=\"T_1ed0f998_a68a_11ea_b8f2_34e6ad71bcfelevel0_row26\" class=\"row_heading level0 row26\" >26</th>\n",
       "                        <td id=\"T_1ed0f998_a68a_11ea_b8f2_34e6ad71bcferow26_col0\" class=\"data row26 col0\" >Remove Outliers </td>\n",
       "                        <td id=\"T_1ed0f998_a68a_11ea_b8f2_34e6ad71bcferow26_col1\" class=\"data row26 col1\" >False</td>\n",
       "            </tr>\n",
       "            <tr>\n",
       "                        <th id=\"T_1ed0f998_a68a_11ea_b8f2_34e6ad71bcfelevel0_row27\" class=\"row_heading level0 row27\" >27</th>\n",
       "                        <td id=\"T_1ed0f998_a68a_11ea_b8f2_34e6ad71bcferow27_col0\" class=\"data row27 col0\" >Outliers Threshold </td>\n",
       "                        <td id=\"T_1ed0f998_a68a_11ea_b8f2_34e6ad71bcferow27_col1\" class=\"data row27 col1\" >None</td>\n",
       "            </tr>\n",
       "            <tr>\n",
       "                        <th id=\"T_1ed0f998_a68a_11ea_b8f2_34e6ad71bcfelevel0_row28\" class=\"row_heading level0 row28\" >28</th>\n",
       "                        <td id=\"T_1ed0f998_a68a_11ea_b8f2_34e6ad71bcferow28_col0\" class=\"data row28 col0\" >Remove Multicollinearity </td>\n",
       "                        <td id=\"T_1ed0f998_a68a_11ea_b8f2_34e6ad71bcferow28_col1\" class=\"data row28 col1\" >True</td>\n",
       "            </tr>\n",
       "            <tr>\n",
       "                        <th id=\"T_1ed0f998_a68a_11ea_b8f2_34e6ad71bcfelevel0_row29\" class=\"row_heading level0 row29\" >29</th>\n",
       "                        <td id=\"T_1ed0f998_a68a_11ea_b8f2_34e6ad71bcferow29_col0\" class=\"data row29 col0\" >Multicollinearity Threshold </td>\n",
       "                        <td id=\"T_1ed0f998_a68a_11ea_b8f2_34e6ad71bcferow29_col1\" class=\"data row29 col1\" >0.950000</td>\n",
       "            </tr>\n",
       "            <tr>\n",
       "                        <th id=\"T_1ed0f998_a68a_11ea_b8f2_34e6ad71bcfelevel0_row30\" class=\"row_heading level0 row30\" >30</th>\n",
       "                        <td id=\"T_1ed0f998_a68a_11ea_b8f2_34e6ad71bcferow30_col0\" class=\"data row30 col0\" >Clustering </td>\n",
       "                        <td id=\"T_1ed0f998_a68a_11ea_b8f2_34e6ad71bcferow30_col1\" class=\"data row30 col1\" >False</td>\n",
       "            </tr>\n",
       "            <tr>\n",
       "                        <th id=\"T_1ed0f998_a68a_11ea_b8f2_34e6ad71bcfelevel0_row31\" class=\"row_heading level0 row31\" >31</th>\n",
       "                        <td id=\"T_1ed0f998_a68a_11ea_b8f2_34e6ad71bcferow31_col0\" class=\"data row31 col0\" >Clustering Iteration </td>\n",
       "                        <td id=\"T_1ed0f998_a68a_11ea_b8f2_34e6ad71bcferow31_col1\" class=\"data row31 col1\" >None</td>\n",
       "            </tr>\n",
       "            <tr>\n",
       "                        <th id=\"T_1ed0f998_a68a_11ea_b8f2_34e6ad71bcfelevel0_row32\" class=\"row_heading level0 row32\" >32</th>\n",
       "                        <td id=\"T_1ed0f998_a68a_11ea_b8f2_34e6ad71bcferow32_col0\" class=\"data row32 col0\" >Polynomial Features </td>\n",
       "                        <td id=\"T_1ed0f998_a68a_11ea_b8f2_34e6ad71bcferow32_col1\" class=\"data row32 col1\" >False</td>\n",
       "            </tr>\n",
       "            <tr>\n",
       "                        <th id=\"T_1ed0f998_a68a_11ea_b8f2_34e6ad71bcfelevel0_row33\" class=\"row_heading level0 row33\" >33</th>\n",
       "                        <td id=\"T_1ed0f998_a68a_11ea_b8f2_34e6ad71bcferow33_col0\" class=\"data row33 col0\" >Polynomial Degree </td>\n",
       "                        <td id=\"T_1ed0f998_a68a_11ea_b8f2_34e6ad71bcferow33_col1\" class=\"data row33 col1\" >None</td>\n",
       "            </tr>\n",
       "            <tr>\n",
       "                        <th id=\"T_1ed0f998_a68a_11ea_b8f2_34e6ad71bcfelevel0_row34\" class=\"row_heading level0 row34\" >34</th>\n",
       "                        <td id=\"T_1ed0f998_a68a_11ea_b8f2_34e6ad71bcferow34_col0\" class=\"data row34 col0\" >Trignometry Features </td>\n",
       "                        <td id=\"T_1ed0f998_a68a_11ea_b8f2_34e6ad71bcferow34_col1\" class=\"data row34 col1\" >False</td>\n",
       "            </tr>\n",
       "            <tr>\n",
       "                        <th id=\"T_1ed0f998_a68a_11ea_b8f2_34e6ad71bcfelevel0_row35\" class=\"row_heading level0 row35\" >35</th>\n",
       "                        <td id=\"T_1ed0f998_a68a_11ea_b8f2_34e6ad71bcferow35_col0\" class=\"data row35 col0\" >Polynomial Threshold </td>\n",
       "                        <td id=\"T_1ed0f998_a68a_11ea_b8f2_34e6ad71bcferow35_col1\" class=\"data row35 col1\" >None</td>\n",
       "            </tr>\n",
       "            <tr>\n",
       "                        <th id=\"T_1ed0f998_a68a_11ea_b8f2_34e6ad71bcfelevel0_row36\" class=\"row_heading level0 row36\" >36</th>\n",
       "                        <td id=\"T_1ed0f998_a68a_11ea_b8f2_34e6ad71bcferow36_col0\" class=\"data row36 col0\" >Group Features </td>\n",
       "                        <td id=\"T_1ed0f998_a68a_11ea_b8f2_34e6ad71bcferow36_col1\" class=\"data row36 col1\" >False</td>\n",
       "            </tr>\n",
       "            <tr>\n",
       "                        <th id=\"T_1ed0f998_a68a_11ea_b8f2_34e6ad71bcfelevel0_row37\" class=\"row_heading level0 row37\" >37</th>\n",
       "                        <td id=\"T_1ed0f998_a68a_11ea_b8f2_34e6ad71bcferow37_col0\" class=\"data row37 col0\" >Feature Selection </td>\n",
       "                        <td id=\"T_1ed0f998_a68a_11ea_b8f2_34e6ad71bcferow37_col1\" class=\"data row37 col1\" >False</td>\n",
       "            </tr>\n",
       "            <tr>\n",
       "                        <th id=\"T_1ed0f998_a68a_11ea_b8f2_34e6ad71bcfelevel0_row38\" class=\"row_heading level0 row38\" >38</th>\n",
       "                        <td id=\"T_1ed0f998_a68a_11ea_b8f2_34e6ad71bcferow38_col0\" class=\"data row38 col0\" >Features Selection Threshold </td>\n",
       "                        <td id=\"T_1ed0f998_a68a_11ea_b8f2_34e6ad71bcferow38_col1\" class=\"data row38 col1\" >None</td>\n",
       "            </tr>\n",
       "            <tr>\n",
       "                        <th id=\"T_1ed0f998_a68a_11ea_b8f2_34e6ad71bcfelevel0_row39\" class=\"row_heading level0 row39\" >39</th>\n",
       "                        <td id=\"T_1ed0f998_a68a_11ea_b8f2_34e6ad71bcferow39_col0\" class=\"data row39 col0\" >Feature Interaction </td>\n",
       "                        <td id=\"T_1ed0f998_a68a_11ea_b8f2_34e6ad71bcferow39_col1\" class=\"data row39 col1\" >False</td>\n",
       "            </tr>\n",
       "            <tr>\n",
       "                        <th id=\"T_1ed0f998_a68a_11ea_b8f2_34e6ad71bcfelevel0_row40\" class=\"row_heading level0 row40\" >40</th>\n",
       "                        <td id=\"T_1ed0f998_a68a_11ea_b8f2_34e6ad71bcferow40_col0\" class=\"data row40 col0\" >Feature Ratio </td>\n",
       "                        <td id=\"T_1ed0f998_a68a_11ea_b8f2_34e6ad71bcferow40_col1\" class=\"data row40 col1\" >False</td>\n",
       "            </tr>\n",
       "            <tr>\n",
       "                        <th id=\"T_1ed0f998_a68a_11ea_b8f2_34e6ad71bcfelevel0_row41\" class=\"row_heading level0 row41\" >41</th>\n",
       "                        <td id=\"T_1ed0f998_a68a_11ea_b8f2_34e6ad71bcferow41_col0\" class=\"data row41 col0\" >Interaction Threshold </td>\n",
       "                        <td id=\"T_1ed0f998_a68a_11ea_b8f2_34e6ad71bcferow41_col1\" class=\"data row41 col1\" >None</td>\n",
       "            </tr>\n",
       "    </tbody></table>"
      ],
      "text/plain": [
       "<pandas.io.formats.style.Styler at 0x1f985ea1710>"
      ]
     },
     "metadata": {},
     "output_type": "display_data"
    }
   ],
   "source": [
    "from pycaret.regression import *\n",
    "env= setup(data = df_norm, target = 'NetFare', session_id=2610,normalize = True, transformation = True, transform_target = True, \n",
    "                  combine_rare_levels = True, rare_level_threshold = 0.05,\n",
    "                  remove_multicollinearity = True, multicollinearity_threshold = 0.95)"
   ]
  },
  {
   "cell_type": "markdown",
   "metadata": {},
   "source": [
    "### Comparing All Models<a id=\"6\"></a>"
   ]
  },
  {
   "cell_type": "code",
   "execution_count": 62,
   "metadata": {},
   "outputs": [
    {
     "data": {
      "text/html": [
       "<style  type=\"text/css\" >\n",
       "    #T_1eeee9e8_a692_11ea_8682_34e6ad71bcfe th {\n",
       "          text-align: left;\n",
       "    }    #T_1eeee9e8_a692_11ea_8682_34e6ad71bcferow0_col0 {\n",
       "            text-align:  left;\n",
       "        }    #T_1eeee9e8_a692_11ea_8682_34e6ad71bcferow0_col1 {\n",
       "            : ;\n",
       "            text-align:  left;\n",
       "        }    #T_1eeee9e8_a692_11ea_8682_34e6ad71bcferow0_col2 {\n",
       "            background-color:  yellow;\n",
       "            text-align:  left;\n",
       "        }    #T_1eeee9e8_a692_11ea_8682_34e6ad71bcferow0_col3 {\n",
       "            background-color:  yellow;\n",
       "            text-align:  left;\n",
       "        }    #T_1eeee9e8_a692_11ea_8682_34e6ad71bcferow0_col4 {\n",
       "            text-align:  left;\n",
       "        }    #T_1eeee9e8_a692_11ea_8682_34e6ad71bcferow0_col5 {\n",
       "            background-color:  yellow;\n",
       "            text-align:  left;\n",
       "        }    #T_1eeee9e8_a692_11ea_8682_34e6ad71bcferow0_col6 {\n",
       "            : ;\n",
       "            text-align:  left;\n",
       "        }    #T_1eeee9e8_a692_11ea_8682_34e6ad71bcferow1_col0 {\n",
       "            text-align:  left;\n",
       "        }    #T_1eeee9e8_a692_11ea_8682_34e6ad71bcferow1_col1 {\n",
       "            : ;\n",
       "            text-align:  left;\n",
       "        }    #T_1eeee9e8_a692_11ea_8682_34e6ad71bcferow1_col2 {\n",
       "            background-color:  yellow;\n",
       "            text-align:  left;\n",
       "        }    #T_1eeee9e8_a692_11ea_8682_34e6ad71bcferow1_col3 {\n",
       "            background-color:  yellow;\n",
       "            text-align:  left;\n",
       "        }    #T_1eeee9e8_a692_11ea_8682_34e6ad71bcferow1_col4 {\n",
       "            text-align:  left;\n",
       "        }    #T_1eeee9e8_a692_11ea_8682_34e6ad71bcferow1_col5 {\n",
       "            background-color:  yellow;\n",
       "            text-align:  left;\n",
       "        }    #T_1eeee9e8_a692_11ea_8682_34e6ad71bcferow1_col6 {\n",
       "            : ;\n",
       "            text-align:  left;\n",
       "        }    #T_1eeee9e8_a692_11ea_8682_34e6ad71bcferow2_col0 {\n",
       "            text-align:  left;\n",
       "        }    #T_1eeee9e8_a692_11ea_8682_34e6ad71bcferow2_col1 {\n",
       "            : ;\n",
       "            text-align:  left;\n",
       "        }    #T_1eeee9e8_a692_11ea_8682_34e6ad71bcferow2_col2 {\n",
       "            : ;\n",
       "            text-align:  left;\n",
       "        }    #T_1eeee9e8_a692_11ea_8682_34e6ad71bcferow2_col3 {\n",
       "            : ;\n",
       "            text-align:  left;\n",
       "        }    #T_1eeee9e8_a692_11ea_8682_34e6ad71bcferow2_col4 {\n",
       "            text-align:  left;\n",
       "        }    #T_1eeee9e8_a692_11ea_8682_34e6ad71bcferow2_col5 {\n",
       "            : ;\n",
       "            text-align:  left;\n",
       "        }    #T_1eeee9e8_a692_11ea_8682_34e6ad71bcferow2_col6 {\n",
       "            : ;\n",
       "            text-align:  left;\n",
       "        }    #T_1eeee9e8_a692_11ea_8682_34e6ad71bcferow3_col0 {\n",
       "            text-align:  left;\n",
       "        }    #T_1eeee9e8_a692_11ea_8682_34e6ad71bcferow3_col1 {\n",
       "            : ;\n",
       "            text-align:  left;\n",
       "        }    #T_1eeee9e8_a692_11ea_8682_34e6ad71bcferow3_col2 {\n",
       "            : ;\n",
       "            text-align:  left;\n",
       "        }    #T_1eeee9e8_a692_11ea_8682_34e6ad71bcferow3_col3 {\n",
       "            : ;\n",
       "            text-align:  left;\n",
       "        }    #T_1eeee9e8_a692_11ea_8682_34e6ad71bcferow3_col4 {\n",
       "            text-align:  left;\n",
       "        }    #T_1eeee9e8_a692_11ea_8682_34e6ad71bcferow3_col5 {\n",
       "            : ;\n",
       "            text-align:  left;\n",
       "        }    #T_1eeee9e8_a692_11ea_8682_34e6ad71bcferow3_col6 {\n",
       "            : ;\n",
       "            text-align:  left;\n",
       "        }    #T_1eeee9e8_a692_11ea_8682_34e6ad71bcferow4_col0 {\n",
       "            text-align:  left;\n",
       "        }    #T_1eeee9e8_a692_11ea_8682_34e6ad71bcferow4_col1 {\n",
       "            : ;\n",
       "            text-align:  left;\n",
       "        }    #T_1eeee9e8_a692_11ea_8682_34e6ad71bcferow4_col2 {\n",
       "            : ;\n",
       "            text-align:  left;\n",
       "        }    #T_1eeee9e8_a692_11ea_8682_34e6ad71bcferow4_col3 {\n",
       "            : ;\n",
       "            text-align:  left;\n",
       "        }    #T_1eeee9e8_a692_11ea_8682_34e6ad71bcferow4_col4 {\n",
       "            text-align:  left;\n",
       "        }    #T_1eeee9e8_a692_11ea_8682_34e6ad71bcferow4_col5 {\n",
       "            : ;\n",
       "            text-align:  left;\n",
       "        }    #T_1eeee9e8_a692_11ea_8682_34e6ad71bcferow4_col6 {\n",
       "            : ;\n",
       "            text-align:  left;\n",
       "        }    #T_1eeee9e8_a692_11ea_8682_34e6ad71bcferow5_col0 {\n",
       "            text-align:  left;\n",
       "        }    #T_1eeee9e8_a692_11ea_8682_34e6ad71bcferow5_col1 {\n",
       "            : ;\n",
       "            text-align:  left;\n",
       "        }    #T_1eeee9e8_a692_11ea_8682_34e6ad71bcferow5_col2 {\n",
       "            : ;\n",
       "            text-align:  left;\n",
       "        }    #T_1eeee9e8_a692_11ea_8682_34e6ad71bcferow5_col3 {\n",
       "            : ;\n",
       "            text-align:  left;\n",
       "        }    #T_1eeee9e8_a692_11ea_8682_34e6ad71bcferow5_col4 {\n",
       "            text-align:  left;\n",
       "        }    #T_1eeee9e8_a692_11ea_8682_34e6ad71bcferow5_col5 {\n",
       "            : ;\n",
       "            text-align:  left;\n",
       "        }    #T_1eeee9e8_a692_11ea_8682_34e6ad71bcferow5_col6 {\n",
       "            : ;\n",
       "            text-align:  left;\n",
       "        }    #T_1eeee9e8_a692_11ea_8682_34e6ad71bcferow6_col0 {\n",
       "            text-align:  left;\n",
       "        }    #T_1eeee9e8_a692_11ea_8682_34e6ad71bcferow6_col1 {\n",
       "            : ;\n",
       "            text-align:  left;\n",
       "        }    #T_1eeee9e8_a692_11ea_8682_34e6ad71bcferow6_col2 {\n",
       "            : ;\n",
       "            text-align:  left;\n",
       "        }    #T_1eeee9e8_a692_11ea_8682_34e6ad71bcferow6_col3 {\n",
       "            : ;\n",
       "            text-align:  left;\n",
       "        }    #T_1eeee9e8_a692_11ea_8682_34e6ad71bcferow6_col4 {\n",
       "            text-align:  left;\n",
       "        }    #T_1eeee9e8_a692_11ea_8682_34e6ad71bcferow6_col5 {\n",
       "            : ;\n",
       "            text-align:  left;\n",
       "        }    #T_1eeee9e8_a692_11ea_8682_34e6ad71bcferow6_col6 {\n",
       "            : ;\n",
       "            text-align:  left;\n",
       "        }    #T_1eeee9e8_a692_11ea_8682_34e6ad71bcferow7_col0 {\n",
       "            text-align:  left;\n",
       "        }    #T_1eeee9e8_a692_11ea_8682_34e6ad71bcferow7_col1 {\n",
       "            : ;\n",
       "            text-align:  left;\n",
       "        }    #T_1eeee9e8_a692_11ea_8682_34e6ad71bcferow7_col2 {\n",
       "            : ;\n",
       "            text-align:  left;\n",
       "        }    #T_1eeee9e8_a692_11ea_8682_34e6ad71bcferow7_col3 {\n",
       "            : ;\n",
       "            text-align:  left;\n",
       "        }    #T_1eeee9e8_a692_11ea_8682_34e6ad71bcferow7_col4 {\n",
       "            text-align:  left;\n",
       "        }    #T_1eeee9e8_a692_11ea_8682_34e6ad71bcferow7_col5 {\n",
       "            : ;\n",
       "            text-align:  left;\n",
       "        }    #T_1eeee9e8_a692_11ea_8682_34e6ad71bcferow7_col6 {\n",
       "            : ;\n",
       "            text-align:  left;\n",
       "        }    #T_1eeee9e8_a692_11ea_8682_34e6ad71bcferow8_col0 {\n",
       "            text-align:  left;\n",
       "        }    #T_1eeee9e8_a692_11ea_8682_34e6ad71bcferow8_col1 {\n",
       "            : ;\n",
       "            text-align:  left;\n",
       "        }    #T_1eeee9e8_a692_11ea_8682_34e6ad71bcferow8_col2 {\n",
       "            : ;\n",
       "            text-align:  left;\n",
       "        }    #T_1eeee9e8_a692_11ea_8682_34e6ad71bcferow8_col3 {\n",
       "            : ;\n",
       "            text-align:  left;\n",
       "        }    #T_1eeee9e8_a692_11ea_8682_34e6ad71bcferow8_col4 {\n",
       "            text-align:  left;\n",
       "        }    #T_1eeee9e8_a692_11ea_8682_34e6ad71bcferow8_col5 {\n",
       "            : ;\n",
       "            text-align:  left;\n",
       "        }    #T_1eeee9e8_a692_11ea_8682_34e6ad71bcferow8_col6 {\n",
       "            : ;\n",
       "            text-align:  left;\n",
       "        }    #T_1eeee9e8_a692_11ea_8682_34e6ad71bcferow9_col0 {\n",
       "            text-align:  left;\n",
       "        }    #T_1eeee9e8_a692_11ea_8682_34e6ad71bcferow9_col1 {\n",
       "            background-color:  yellow;\n",
       "            text-align:  left;\n",
       "        }    #T_1eeee9e8_a692_11ea_8682_34e6ad71bcferow9_col2 {\n",
       "            : ;\n",
       "            text-align:  left;\n",
       "        }    #T_1eeee9e8_a692_11ea_8682_34e6ad71bcferow9_col3 {\n",
       "            : ;\n",
       "            text-align:  left;\n",
       "        }    #T_1eeee9e8_a692_11ea_8682_34e6ad71bcferow9_col4 {\n",
       "            text-align:  left;\n",
       "        }    #T_1eeee9e8_a692_11ea_8682_34e6ad71bcferow9_col5 {\n",
       "            : ;\n",
       "            text-align:  left;\n",
       "        }    #T_1eeee9e8_a692_11ea_8682_34e6ad71bcferow9_col6 {\n",
       "            background-color:  yellow;\n",
       "            text-align:  left;\n",
       "        }    #T_1eeee9e8_a692_11ea_8682_34e6ad71bcferow10_col0 {\n",
       "            text-align:  left;\n",
       "        }    #T_1eeee9e8_a692_11ea_8682_34e6ad71bcferow10_col1 {\n",
       "            : ;\n",
       "            text-align:  left;\n",
       "        }    #T_1eeee9e8_a692_11ea_8682_34e6ad71bcferow10_col2 {\n",
       "            : ;\n",
       "            text-align:  left;\n",
       "        }    #T_1eeee9e8_a692_11ea_8682_34e6ad71bcferow10_col3 {\n",
       "            : ;\n",
       "            text-align:  left;\n",
       "        }    #T_1eeee9e8_a692_11ea_8682_34e6ad71bcferow10_col4 {\n",
       "            text-align:  left;\n",
       "        }    #T_1eeee9e8_a692_11ea_8682_34e6ad71bcferow10_col5 {\n",
       "            : ;\n",
       "            text-align:  left;\n",
       "        }    #T_1eeee9e8_a692_11ea_8682_34e6ad71bcferow10_col6 {\n",
       "            : ;\n",
       "            text-align:  left;\n",
       "        }    #T_1eeee9e8_a692_11ea_8682_34e6ad71bcferow11_col0 {\n",
       "            text-align:  left;\n",
       "        }    #T_1eeee9e8_a692_11ea_8682_34e6ad71bcferow11_col1 {\n",
       "            : ;\n",
       "            text-align:  left;\n",
       "        }    #T_1eeee9e8_a692_11ea_8682_34e6ad71bcferow11_col2 {\n",
       "            : ;\n",
       "            text-align:  left;\n",
       "        }    #T_1eeee9e8_a692_11ea_8682_34e6ad71bcferow11_col3 {\n",
       "            : ;\n",
       "            text-align:  left;\n",
       "        }    #T_1eeee9e8_a692_11ea_8682_34e6ad71bcferow11_col4 {\n",
       "            text-align:  left;\n",
       "        }    #T_1eeee9e8_a692_11ea_8682_34e6ad71bcferow11_col5 {\n",
       "            : ;\n",
       "            text-align:  left;\n",
       "        }    #T_1eeee9e8_a692_11ea_8682_34e6ad71bcferow11_col6 {\n",
       "            : ;\n",
       "            text-align:  left;\n",
       "        }    #T_1eeee9e8_a692_11ea_8682_34e6ad71bcferow12_col0 {\n",
       "            text-align:  left;\n",
       "        }    #T_1eeee9e8_a692_11ea_8682_34e6ad71bcferow12_col1 {\n",
       "            : ;\n",
       "            text-align:  left;\n",
       "        }    #T_1eeee9e8_a692_11ea_8682_34e6ad71bcferow12_col2 {\n",
       "            : ;\n",
       "            text-align:  left;\n",
       "        }    #T_1eeee9e8_a692_11ea_8682_34e6ad71bcferow12_col3 {\n",
       "            : ;\n",
       "            text-align:  left;\n",
       "        }    #T_1eeee9e8_a692_11ea_8682_34e6ad71bcferow12_col4 {\n",
       "            text-align:  left;\n",
       "        }    #T_1eeee9e8_a692_11ea_8682_34e6ad71bcferow12_col5 {\n",
       "            : ;\n",
       "            text-align:  left;\n",
       "        }    #T_1eeee9e8_a692_11ea_8682_34e6ad71bcferow12_col6 {\n",
       "            : ;\n",
       "            text-align:  left;\n",
       "        }    #T_1eeee9e8_a692_11ea_8682_34e6ad71bcferow13_col0 {\n",
       "            text-align:  left;\n",
       "        }    #T_1eeee9e8_a692_11ea_8682_34e6ad71bcferow13_col1 {\n",
       "            : ;\n",
       "            text-align:  left;\n",
       "        }    #T_1eeee9e8_a692_11ea_8682_34e6ad71bcferow13_col2 {\n",
       "            : ;\n",
       "            text-align:  left;\n",
       "        }    #T_1eeee9e8_a692_11ea_8682_34e6ad71bcferow13_col3 {\n",
       "            : ;\n",
       "            text-align:  left;\n",
       "        }    #T_1eeee9e8_a692_11ea_8682_34e6ad71bcferow13_col4 {\n",
       "            text-align:  left;\n",
       "        }    #T_1eeee9e8_a692_11ea_8682_34e6ad71bcferow13_col5 {\n",
       "            : ;\n",
       "            text-align:  left;\n",
       "        }    #T_1eeee9e8_a692_11ea_8682_34e6ad71bcferow13_col6 {\n",
       "            : ;\n",
       "            text-align:  left;\n",
       "        }    #T_1eeee9e8_a692_11ea_8682_34e6ad71bcferow14_col0 {\n",
       "            text-align:  left;\n",
       "        }    #T_1eeee9e8_a692_11ea_8682_34e6ad71bcferow14_col1 {\n",
       "            : ;\n",
       "            text-align:  left;\n",
       "        }    #T_1eeee9e8_a692_11ea_8682_34e6ad71bcferow14_col2 {\n",
       "            : ;\n",
       "            text-align:  left;\n",
       "        }    #T_1eeee9e8_a692_11ea_8682_34e6ad71bcferow14_col3 {\n",
       "            : ;\n",
       "            text-align:  left;\n",
       "        }    #T_1eeee9e8_a692_11ea_8682_34e6ad71bcferow14_col4 {\n",
       "            text-align:  left;\n",
       "        }    #T_1eeee9e8_a692_11ea_8682_34e6ad71bcferow14_col5 {\n",
       "            : ;\n",
       "            text-align:  left;\n",
       "        }    #T_1eeee9e8_a692_11ea_8682_34e6ad71bcferow14_col6 {\n",
       "            : ;\n",
       "            text-align:  left;\n",
       "        }    #T_1eeee9e8_a692_11ea_8682_34e6ad71bcferow15_col0 {\n",
       "            text-align:  left;\n",
       "        }    #T_1eeee9e8_a692_11ea_8682_34e6ad71bcferow15_col1 {\n",
       "            : ;\n",
       "            text-align:  left;\n",
       "        }    #T_1eeee9e8_a692_11ea_8682_34e6ad71bcferow15_col2 {\n",
       "            : ;\n",
       "            text-align:  left;\n",
       "        }    #T_1eeee9e8_a692_11ea_8682_34e6ad71bcferow15_col3 {\n",
       "            : ;\n",
       "            text-align:  left;\n",
       "        }    #T_1eeee9e8_a692_11ea_8682_34e6ad71bcferow15_col4 {\n",
       "            text-align:  left;\n",
       "        }    #T_1eeee9e8_a692_11ea_8682_34e6ad71bcferow15_col5 {\n",
       "            : ;\n",
       "            text-align:  left;\n",
       "        }    #T_1eeee9e8_a692_11ea_8682_34e6ad71bcferow15_col6 {\n",
       "            : ;\n",
       "            text-align:  left;\n",
       "        }    #T_1eeee9e8_a692_11ea_8682_34e6ad71bcferow16_col0 {\n",
       "            text-align:  left;\n",
       "        }    #T_1eeee9e8_a692_11ea_8682_34e6ad71bcferow16_col1 {\n",
       "            : ;\n",
       "            text-align:  left;\n",
       "        }    #T_1eeee9e8_a692_11ea_8682_34e6ad71bcferow16_col2 {\n",
       "            : ;\n",
       "            text-align:  left;\n",
       "        }    #T_1eeee9e8_a692_11ea_8682_34e6ad71bcferow16_col3 {\n",
       "            : ;\n",
       "            text-align:  left;\n",
       "        }    #T_1eeee9e8_a692_11ea_8682_34e6ad71bcferow16_col4 {\n",
       "            text-align:  left;\n",
       "        }    #T_1eeee9e8_a692_11ea_8682_34e6ad71bcferow16_col5 {\n",
       "            : ;\n",
       "            text-align:  left;\n",
       "        }    #T_1eeee9e8_a692_11ea_8682_34e6ad71bcferow16_col6 {\n",
       "            : ;\n",
       "            text-align:  left;\n",
       "        }    #T_1eeee9e8_a692_11ea_8682_34e6ad71bcferow17_col0 {\n",
       "            text-align:  left;\n",
       "        }    #T_1eeee9e8_a692_11ea_8682_34e6ad71bcferow17_col1 {\n",
       "            : ;\n",
       "            text-align:  left;\n",
       "        }    #T_1eeee9e8_a692_11ea_8682_34e6ad71bcferow17_col2 {\n",
       "            : ;\n",
       "            text-align:  left;\n",
       "        }    #T_1eeee9e8_a692_11ea_8682_34e6ad71bcferow17_col3 {\n",
       "            : ;\n",
       "            text-align:  left;\n",
       "        }    #T_1eeee9e8_a692_11ea_8682_34e6ad71bcferow17_col4 {\n",
       "            text-align:  left;\n",
       "        }    #T_1eeee9e8_a692_11ea_8682_34e6ad71bcferow17_col5 {\n",
       "            : ;\n",
       "            text-align:  left;\n",
       "        }    #T_1eeee9e8_a692_11ea_8682_34e6ad71bcferow17_col6 {\n",
       "            : ;\n",
       "            text-align:  left;\n",
       "        }    #T_1eeee9e8_a692_11ea_8682_34e6ad71bcferow18_col0 {\n",
       "            text-align:  left;\n",
       "        }    #T_1eeee9e8_a692_11ea_8682_34e6ad71bcferow18_col1 {\n",
       "            : ;\n",
       "            text-align:  left;\n",
       "        }    #T_1eeee9e8_a692_11ea_8682_34e6ad71bcferow18_col2 {\n",
       "            : ;\n",
       "            text-align:  left;\n",
       "        }    #T_1eeee9e8_a692_11ea_8682_34e6ad71bcferow18_col3 {\n",
       "            : ;\n",
       "            text-align:  left;\n",
       "        }    #T_1eeee9e8_a692_11ea_8682_34e6ad71bcferow18_col4 {\n",
       "            text-align:  left;\n",
       "        }    #T_1eeee9e8_a692_11ea_8682_34e6ad71bcferow18_col5 {\n",
       "            : ;\n",
       "            text-align:  left;\n",
       "        }    #T_1eeee9e8_a692_11ea_8682_34e6ad71bcferow18_col6 {\n",
       "            : ;\n",
       "            text-align:  left;\n",
       "        }    #T_1eeee9e8_a692_11ea_8682_34e6ad71bcferow19_col0 {\n",
       "            text-align:  left;\n",
       "        }    #T_1eeee9e8_a692_11ea_8682_34e6ad71bcferow19_col1 {\n",
       "            : ;\n",
       "            text-align:  left;\n",
       "        }    #T_1eeee9e8_a692_11ea_8682_34e6ad71bcferow19_col2 {\n",
       "            : ;\n",
       "            text-align:  left;\n",
       "        }    #T_1eeee9e8_a692_11ea_8682_34e6ad71bcferow19_col3 {\n",
       "            : ;\n",
       "            text-align:  left;\n",
       "        }    #T_1eeee9e8_a692_11ea_8682_34e6ad71bcferow19_col4 {\n",
       "            text-align:  left;\n",
       "        }    #T_1eeee9e8_a692_11ea_8682_34e6ad71bcferow19_col5 {\n",
       "            : ;\n",
       "            text-align:  left;\n",
       "        }    #T_1eeee9e8_a692_11ea_8682_34e6ad71bcferow19_col6 {\n",
       "            : ;\n",
       "            text-align:  left;\n",
       "        }    #T_1eeee9e8_a692_11ea_8682_34e6ad71bcferow20_col0 {\n",
       "            text-align:  left;\n",
       "        }    #T_1eeee9e8_a692_11ea_8682_34e6ad71bcferow20_col1 {\n",
       "            : ;\n",
       "            text-align:  left;\n",
       "        }    #T_1eeee9e8_a692_11ea_8682_34e6ad71bcferow20_col2 {\n",
       "            : ;\n",
       "            text-align:  left;\n",
       "        }    #T_1eeee9e8_a692_11ea_8682_34e6ad71bcferow20_col3 {\n",
       "            : ;\n",
       "            text-align:  left;\n",
       "        }    #T_1eeee9e8_a692_11ea_8682_34e6ad71bcferow20_col4 {\n",
       "            text-align:  left;\n",
       "        }    #T_1eeee9e8_a692_11ea_8682_34e6ad71bcferow20_col5 {\n",
       "            : ;\n",
       "            text-align:  left;\n",
       "        }    #T_1eeee9e8_a692_11ea_8682_34e6ad71bcferow20_col6 {\n",
       "            : ;\n",
       "            text-align:  left;\n",
       "        }    #T_1eeee9e8_a692_11ea_8682_34e6ad71bcferow21_col0 {\n",
       "            text-align:  left;\n",
       "        }    #T_1eeee9e8_a692_11ea_8682_34e6ad71bcferow21_col1 {\n",
       "            : ;\n",
       "            text-align:  left;\n",
       "        }    #T_1eeee9e8_a692_11ea_8682_34e6ad71bcferow21_col2 {\n",
       "            : ;\n",
       "            text-align:  left;\n",
       "        }    #T_1eeee9e8_a692_11ea_8682_34e6ad71bcferow21_col3 {\n",
       "            : ;\n",
       "            text-align:  left;\n",
       "        }    #T_1eeee9e8_a692_11ea_8682_34e6ad71bcferow21_col4 {\n",
       "            text-align:  left;\n",
       "        }    #T_1eeee9e8_a692_11ea_8682_34e6ad71bcferow21_col5 {\n",
       "            : ;\n",
       "            text-align:  left;\n",
       "        }    #T_1eeee9e8_a692_11ea_8682_34e6ad71bcferow21_col6 {\n",
       "            : ;\n",
       "            text-align:  left;\n",
       "        }</style><table id=\"T_1eeee9e8_a692_11ea_8682_34e6ad71bcfe\" ><thead>    <tr>        <th class=\"blank level0\" ></th>        <th class=\"col_heading level0 col0\" >Model</th>        <th class=\"col_heading level0 col1\" >MAE</th>        <th class=\"col_heading level0 col2\" >MSE</th>        <th class=\"col_heading level0 col3\" >RMSE</th>        <th class=\"col_heading level0 col4\" >R2</th>        <th class=\"col_heading level0 col5\" >RMSLE</th>        <th class=\"col_heading level0 col6\" >MAPE</th>    </tr></thead><tbody>\n",
       "                <tr>\n",
       "                        <th id=\"T_1eeee9e8_a692_11ea_8682_34e6ad71bcfelevel0_row0\" class=\"row_heading level0 row0\" >0</th>\n",
       "                        <td id=\"T_1eeee9e8_a692_11ea_8682_34e6ad71bcferow0_col0\" class=\"data row0 col0\" >Light Gradient Boosting Machine</td>\n",
       "                        <td id=\"T_1eeee9e8_a692_11ea_8682_34e6ad71bcferow0_col1\" class=\"data row0 col1\" >0.107400</td>\n",
       "                        <td id=\"T_1eeee9e8_a692_11ea_8682_34e6ad71bcferow0_col2\" class=\"data row0 col2\" >0.021300</td>\n",
       "                        <td id=\"T_1eeee9e8_a692_11ea_8682_34e6ad71bcferow0_col3\" class=\"data row0 col3\" >0.146000</td>\n",
       "                        <td id=\"T_1eeee9e8_a692_11ea_8682_34e6ad71bcferow0_col4\" class=\"data row0 col4\" >0.314300</td>\n",
       "                        <td id=\"T_1eeee9e8_a692_11ea_8682_34e6ad71bcferow0_col5\" class=\"data row0 col5\" >0.096800</td>\n",
       "                        <td id=\"T_1eeee9e8_a692_11ea_8682_34e6ad71bcferow0_col6\" class=\"data row0 col6\" >0.707400</td>\n",
       "            </tr>\n",
       "            <tr>\n",
       "                        <th id=\"T_1eeee9e8_a692_11ea_8682_34e6ad71bcfelevel0_row1\" class=\"row_heading level0 row1\" >1</th>\n",
       "                        <td id=\"T_1eeee9e8_a692_11ea_8682_34e6ad71bcferow1_col0\" class=\"data row1 col0\" >CatBoost Regressor</td>\n",
       "                        <td id=\"T_1eeee9e8_a692_11ea_8682_34e6ad71bcferow1_col1\" class=\"data row1 col1\" >0.107500</td>\n",
       "                        <td id=\"T_1eeee9e8_a692_11ea_8682_34e6ad71bcferow1_col2\" class=\"data row1 col2\" >0.021300</td>\n",
       "                        <td id=\"T_1eeee9e8_a692_11ea_8682_34e6ad71bcferow1_col3\" class=\"data row1 col3\" >0.146000</td>\n",
       "                        <td id=\"T_1eeee9e8_a692_11ea_8682_34e6ad71bcferow1_col4\" class=\"data row1 col4\" >0.314000</td>\n",
       "                        <td id=\"T_1eeee9e8_a692_11ea_8682_34e6ad71bcferow1_col5\" class=\"data row1 col5\" >0.096800</td>\n",
       "                        <td id=\"T_1eeee9e8_a692_11ea_8682_34e6ad71bcferow1_col6\" class=\"data row1 col6\" >0.708700</td>\n",
       "            </tr>\n",
       "            <tr>\n",
       "                        <th id=\"T_1eeee9e8_a692_11ea_8682_34e6ad71bcfelevel0_row2\" class=\"row_heading level0 row2\" >2</th>\n",
       "                        <td id=\"T_1eeee9e8_a692_11ea_8682_34e6ad71bcferow2_col0\" class=\"data row2 col0\" >Gradient Boosting Regressor</td>\n",
       "                        <td id=\"T_1eeee9e8_a692_11ea_8682_34e6ad71bcferow2_col1\" class=\"data row2 col1\" >0.107800</td>\n",
       "                        <td id=\"T_1eeee9e8_a692_11ea_8682_34e6ad71bcferow2_col2\" class=\"data row2 col2\" >0.021400</td>\n",
       "                        <td id=\"T_1eeee9e8_a692_11ea_8682_34e6ad71bcferow2_col3\" class=\"data row2 col3\" >0.146200</td>\n",
       "                        <td id=\"T_1eeee9e8_a692_11ea_8682_34e6ad71bcferow2_col4\" class=\"data row2 col4\" >0.311600</td>\n",
       "                        <td id=\"T_1eeee9e8_a692_11ea_8682_34e6ad71bcferow2_col5\" class=\"data row2 col5\" >0.096900</td>\n",
       "                        <td id=\"T_1eeee9e8_a692_11ea_8682_34e6ad71bcferow2_col6\" class=\"data row2 col6\" >0.709500</td>\n",
       "            </tr>\n",
       "            <tr>\n",
       "                        <th id=\"T_1eeee9e8_a692_11ea_8682_34e6ad71bcfelevel0_row3\" class=\"row_heading level0 row3\" >3</th>\n",
       "                        <td id=\"T_1eeee9e8_a692_11ea_8682_34e6ad71bcferow3_col0\" class=\"data row3 col0\" >Extreme Gradient Boosting</td>\n",
       "                        <td id=\"T_1eeee9e8_a692_11ea_8682_34e6ad71bcferow3_col1\" class=\"data row3 col1\" >0.107800</td>\n",
       "                        <td id=\"T_1eeee9e8_a692_11ea_8682_34e6ad71bcferow3_col2\" class=\"data row3 col2\" >0.021400</td>\n",
       "                        <td id=\"T_1eeee9e8_a692_11ea_8682_34e6ad71bcferow3_col3\" class=\"data row3 col3\" >0.146200</td>\n",
       "                        <td id=\"T_1eeee9e8_a692_11ea_8682_34e6ad71bcferow3_col4\" class=\"data row3 col4\" >0.311600</td>\n",
       "                        <td id=\"T_1eeee9e8_a692_11ea_8682_34e6ad71bcferow3_col5\" class=\"data row3 col5\" >0.096900</td>\n",
       "                        <td id=\"T_1eeee9e8_a692_11ea_8682_34e6ad71bcferow3_col6\" class=\"data row3 col6\" >0.709700</td>\n",
       "            </tr>\n",
       "            <tr>\n",
       "                        <th id=\"T_1eeee9e8_a692_11ea_8682_34e6ad71bcfelevel0_row4\" class=\"row_heading level0 row4\" >4</th>\n",
       "                        <td id=\"T_1eeee9e8_a692_11ea_8682_34e6ad71bcferow4_col0\" class=\"data row4 col0\" >Linear Regression</td>\n",
       "                        <td id=\"T_1eeee9e8_a692_11ea_8682_34e6ad71bcferow4_col1\" class=\"data row4 col1\" >0.108100</td>\n",
       "                        <td id=\"T_1eeee9e8_a692_11ea_8682_34e6ad71bcferow4_col2\" class=\"data row4 col2\" >0.021400</td>\n",
       "                        <td id=\"T_1eeee9e8_a692_11ea_8682_34e6ad71bcferow4_col3\" class=\"data row4 col3\" >0.146400</td>\n",
       "                        <td id=\"T_1eeee9e8_a692_11ea_8682_34e6ad71bcferow4_col4\" class=\"data row4 col4\" >0.309800</td>\n",
       "                        <td id=\"T_1eeee9e8_a692_11ea_8682_34e6ad71bcferow4_col5\" class=\"data row4 col5\" >0.097100</td>\n",
       "                        <td id=\"T_1eeee9e8_a692_11ea_8682_34e6ad71bcferow4_col6\" class=\"data row4 col6\" >0.712700</td>\n",
       "            </tr>\n",
       "            <tr>\n",
       "                        <th id=\"T_1eeee9e8_a692_11ea_8682_34e6ad71bcfelevel0_row5\" class=\"row_heading level0 row5\" >5</th>\n",
       "                        <td id=\"T_1eeee9e8_a692_11ea_8682_34e6ad71bcferow5_col0\" class=\"data row5 col0\" >Least Angle Regression</td>\n",
       "                        <td id=\"T_1eeee9e8_a692_11ea_8682_34e6ad71bcferow5_col1\" class=\"data row5 col1\" >0.108100</td>\n",
       "                        <td id=\"T_1eeee9e8_a692_11ea_8682_34e6ad71bcferow5_col2\" class=\"data row5 col2\" >0.021400</td>\n",
       "                        <td id=\"T_1eeee9e8_a692_11ea_8682_34e6ad71bcferow5_col3\" class=\"data row5 col3\" >0.146400</td>\n",
       "                        <td id=\"T_1eeee9e8_a692_11ea_8682_34e6ad71bcferow5_col4\" class=\"data row5 col4\" >0.309800</td>\n",
       "                        <td id=\"T_1eeee9e8_a692_11ea_8682_34e6ad71bcferow5_col5\" class=\"data row5 col5\" >0.097100</td>\n",
       "                        <td id=\"T_1eeee9e8_a692_11ea_8682_34e6ad71bcferow5_col6\" class=\"data row5 col6\" >0.712700</td>\n",
       "            </tr>\n",
       "            <tr>\n",
       "                        <th id=\"T_1eeee9e8_a692_11ea_8682_34e6ad71bcfelevel0_row6\" class=\"row_heading level0 row6\" >6</th>\n",
       "                        <td id=\"T_1eeee9e8_a692_11ea_8682_34e6ad71bcferow6_col0\" class=\"data row6 col0\" >Bayesian Ridge</td>\n",
       "                        <td id=\"T_1eeee9e8_a692_11ea_8682_34e6ad71bcferow6_col1\" class=\"data row6 col1\" >0.108100</td>\n",
       "                        <td id=\"T_1eeee9e8_a692_11ea_8682_34e6ad71bcferow6_col2\" class=\"data row6 col2\" >0.021400</td>\n",
       "                        <td id=\"T_1eeee9e8_a692_11ea_8682_34e6ad71bcferow6_col3\" class=\"data row6 col3\" >0.146400</td>\n",
       "                        <td id=\"T_1eeee9e8_a692_11ea_8682_34e6ad71bcferow6_col4\" class=\"data row6 col4\" >0.309800</td>\n",
       "                        <td id=\"T_1eeee9e8_a692_11ea_8682_34e6ad71bcferow6_col5\" class=\"data row6 col5\" >0.097100</td>\n",
       "                        <td id=\"T_1eeee9e8_a692_11ea_8682_34e6ad71bcferow6_col6\" class=\"data row6 col6\" >0.712700</td>\n",
       "            </tr>\n",
       "            <tr>\n",
       "                        <th id=\"T_1eeee9e8_a692_11ea_8682_34e6ad71bcfelevel0_row7\" class=\"row_heading level0 row7\" >7</th>\n",
       "                        <td id=\"T_1eeee9e8_a692_11ea_8682_34e6ad71bcferow7_col0\" class=\"data row7 col0\" >Ridge Regression</td>\n",
       "                        <td id=\"T_1eeee9e8_a692_11ea_8682_34e6ad71bcferow7_col1\" class=\"data row7 col1\" >0.108100</td>\n",
       "                        <td id=\"T_1eeee9e8_a692_11ea_8682_34e6ad71bcferow7_col2\" class=\"data row7 col2\" >0.021400</td>\n",
       "                        <td id=\"T_1eeee9e8_a692_11ea_8682_34e6ad71bcferow7_col3\" class=\"data row7 col3\" >0.146400</td>\n",
       "                        <td id=\"T_1eeee9e8_a692_11ea_8682_34e6ad71bcferow7_col4\" class=\"data row7 col4\" >0.309800</td>\n",
       "                        <td id=\"T_1eeee9e8_a692_11ea_8682_34e6ad71bcferow7_col5\" class=\"data row7 col5\" >0.097100</td>\n",
       "                        <td id=\"T_1eeee9e8_a692_11ea_8682_34e6ad71bcferow7_col6\" class=\"data row7 col6\" >0.712900</td>\n",
       "            </tr>\n",
       "            <tr>\n",
       "                        <th id=\"T_1eeee9e8_a692_11ea_8682_34e6ad71bcfelevel0_row8\" class=\"row_heading level0 row8\" >8</th>\n",
       "                        <td id=\"T_1eeee9e8_a692_11ea_8682_34e6ad71bcferow8_col0\" class=\"data row8 col0\" >Huber Regressor</td>\n",
       "                        <td id=\"T_1eeee9e8_a692_11ea_8682_34e6ad71bcferow8_col1\" class=\"data row8 col1\" >0.107800</td>\n",
       "                        <td id=\"T_1eeee9e8_a692_11ea_8682_34e6ad71bcferow8_col2\" class=\"data row8 col2\" >0.021600</td>\n",
       "                        <td id=\"T_1eeee9e8_a692_11ea_8682_34e6ad71bcferow8_col3\" class=\"data row8 col3\" >0.147000</td>\n",
       "                        <td id=\"T_1eeee9e8_a692_11ea_8682_34e6ad71bcferow8_col4\" class=\"data row8 col4\" >0.304700</td>\n",
       "                        <td id=\"T_1eeee9e8_a692_11ea_8682_34e6ad71bcferow8_col5\" class=\"data row8 col5\" >0.097200</td>\n",
       "                        <td id=\"T_1eeee9e8_a692_11ea_8682_34e6ad71bcferow8_col6\" class=\"data row8 col6\" >0.702500</td>\n",
       "            </tr>\n",
       "            <tr>\n",
       "                        <th id=\"T_1eeee9e8_a692_11ea_8682_34e6ad71bcfelevel0_row9\" class=\"row_heading level0 row9\" >9</th>\n",
       "                        <td id=\"T_1eeee9e8_a692_11ea_8682_34e6ad71bcferow9_col0\" class=\"data row9 col0\" >Support Vector Machine</td>\n",
       "                        <td id=\"T_1eeee9e8_a692_11ea_8682_34e6ad71bcferow9_col1\" class=\"data row9 col1\" >0.107200</td>\n",
       "                        <td id=\"T_1eeee9e8_a692_11ea_8682_34e6ad71bcferow9_col2\" class=\"data row9 col2\" >0.021600</td>\n",
       "                        <td id=\"T_1eeee9e8_a692_11ea_8682_34e6ad71bcferow9_col3\" class=\"data row9 col3\" >0.147000</td>\n",
       "                        <td id=\"T_1eeee9e8_a692_11ea_8682_34e6ad71bcferow9_col4\" class=\"data row9 col4\" >0.304600</td>\n",
       "                        <td id=\"T_1eeee9e8_a692_11ea_8682_34e6ad71bcferow9_col5\" class=\"data row9 col5\" >0.097100</td>\n",
       "                        <td id=\"T_1eeee9e8_a692_11ea_8682_34e6ad71bcferow9_col6\" class=\"data row9 col6\" >0.690200</td>\n",
       "            </tr>\n",
       "            <tr>\n",
       "                        <th id=\"T_1eeee9e8_a692_11ea_8682_34e6ad71bcfelevel0_row10\" class=\"row_heading level0 row10\" >10</th>\n",
       "                        <td id=\"T_1eeee9e8_a692_11ea_8682_34e6ad71bcferow10_col0\" class=\"data row10 col0\" >Random Sample Consensus</td>\n",
       "                        <td id=\"T_1eeee9e8_a692_11ea_8682_34e6ad71bcferow10_col1\" class=\"data row10 col1\" >0.107600</td>\n",
       "                        <td id=\"T_1eeee9e8_a692_11ea_8682_34e6ad71bcferow10_col2\" class=\"data row10 col2\" >0.021600</td>\n",
       "                        <td id=\"T_1eeee9e8_a692_11ea_8682_34e6ad71bcferow10_col3\" class=\"data row10 col3\" >0.147000</td>\n",
       "                        <td id=\"T_1eeee9e8_a692_11ea_8682_34e6ad71bcferow10_col4\" class=\"data row10 col4\" >0.304000</td>\n",
       "                        <td id=\"T_1eeee9e8_a692_11ea_8682_34e6ad71bcferow10_col5\" class=\"data row10 col5\" >0.097100</td>\n",
       "                        <td id=\"T_1eeee9e8_a692_11ea_8682_34e6ad71bcferow10_col6\" class=\"data row10 col6\" >0.695200</td>\n",
       "            </tr>\n",
       "            <tr>\n",
       "                        <th id=\"T_1eeee9e8_a692_11ea_8682_34e6ad71bcfelevel0_row11\" class=\"row_heading level0 row11\" >11</th>\n",
       "                        <td id=\"T_1eeee9e8_a692_11ea_8682_34e6ad71bcferow11_col0\" class=\"data row11 col0\" >Random Forest</td>\n",
       "                        <td id=\"T_1eeee9e8_a692_11ea_8682_34e6ad71bcferow11_col1\" class=\"data row11 col1\" >0.108000</td>\n",
       "                        <td id=\"T_1eeee9e8_a692_11ea_8682_34e6ad71bcferow11_col2\" class=\"data row11 col2\" >0.021700</td>\n",
       "                        <td id=\"T_1eeee9e8_a692_11ea_8682_34e6ad71bcferow11_col3\" class=\"data row11 col3\" >0.147300</td>\n",
       "                        <td id=\"T_1eeee9e8_a692_11ea_8682_34e6ad71bcferow11_col4\" class=\"data row11 col4\" >0.301300</td>\n",
       "                        <td id=\"T_1eeee9e8_a692_11ea_8682_34e6ad71bcferow11_col5\" class=\"data row11 col5\" >0.097700</td>\n",
       "                        <td id=\"T_1eeee9e8_a692_11ea_8682_34e6ad71bcferow11_col6\" class=\"data row11 col6\" >0.698800</td>\n",
       "            </tr>\n",
       "            <tr>\n",
       "                        <th id=\"T_1eeee9e8_a692_11ea_8682_34e6ad71bcfelevel0_row12\" class=\"row_heading level0 row12\" >12</th>\n",
       "                        <td id=\"T_1eeee9e8_a692_11ea_8682_34e6ad71bcferow12_col0\" class=\"data row12 col0\" >Extra Trees Regressor</td>\n",
       "                        <td id=\"T_1eeee9e8_a692_11ea_8682_34e6ad71bcferow12_col1\" class=\"data row12 col1\" >0.108200</td>\n",
       "                        <td id=\"T_1eeee9e8_a692_11ea_8682_34e6ad71bcferow12_col2\" class=\"data row12 col2\" >0.021900</td>\n",
       "                        <td id=\"T_1eeee9e8_a692_11ea_8682_34e6ad71bcferow12_col3\" class=\"data row12 col3\" >0.148100</td>\n",
       "                        <td id=\"T_1eeee9e8_a692_11ea_8682_34e6ad71bcferow12_col4\" class=\"data row12 col4\" >0.293500</td>\n",
       "                        <td id=\"T_1eeee9e8_a692_11ea_8682_34e6ad71bcferow12_col5\" class=\"data row12 col5\" >0.098200</td>\n",
       "                        <td id=\"T_1eeee9e8_a692_11ea_8682_34e6ad71bcferow12_col6\" class=\"data row12 col6\" >0.698800</td>\n",
       "            </tr>\n",
       "            <tr>\n",
       "                        <th id=\"T_1eeee9e8_a692_11ea_8682_34e6ad71bcfelevel0_row13\" class=\"row_heading level0 row13\" >13</th>\n",
       "                        <td id=\"T_1eeee9e8_a692_11ea_8682_34e6ad71bcferow13_col0\" class=\"data row13 col0\" >Decision Tree</td>\n",
       "                        <td id=\"T_1eeee9e8_a692_11ea_8682_34e6ad71bcferow13_col1\" class=\"data row13 col1\" >0.108600</td>\n",
       "                        <td id=\"T_1eeee9e8_a692_11ea_8682_34e6ad71bcferow13_col2\" class=\"data row13 col2\" >0.022100</td>\n",
       "                        <td id=\"T_1eeee9e8_a692_11ea_8682_34e6ad71bcferow13_col3\" class=\"data row13 col3\" >0.148800</td>\n",
       "                        <td id=\"T_1eeee9e8_a692_11ea_8682_34e6ad71bcferow13_col4\" class=\"data row13 col4\" >0.287600</td>\n",
       "                        <td id=\"T_1eeee9e8_a692_11ea_8682_34e6ad71bcferow13_col5\" class=\"data row13 col5\" >0.098600</td>\n",
       "                        <td id=\"T_1eeee9e8_a692_11ea_8682_34e6ad71bcferow13_col6\" class=\"data row13 col6\" >0.702600</td>\n",
       "            </tr>\n",
       "            <tr>\n",
       "                        <th id=\"T_1eeee9e8_a692_11ea_8682_34e6ad71bcfelevel0_row14\" class=\"row_heading level0 row14\" >14</th>\n",
       "                        <td id=\"T_1eeee9e8_a692_11ea_8682_34e6ad71bcferow14_col0\" class=\"data row14 col0\" >AdaBoost Regressor</td>\n",
       "                        <td id=\"T_1eeee9e8_a692_11ea_8682_34e6ad71bcferow14_col1\" class=\"data row14 col1\" >0.112300</td>\n",
       "                        <td id=\"T_1eeee9e8_a692_11ea_8682_34e6ad71bcferow14_col2\" class=\"data row14 col2\" >0.022500</td>\n",
       "                        <td id=\"T_1eeee9e8_a692_11ea_8682_34e6ad71bcferow14_col3\" class=\"data row14 col3\" >0.149900</td>\n",
       "                        <td id=\"T_1eeee9e8_a692_11ea_8682_34e6ad71bcferow14_col4\" class=\"data row14 col4\" >0.276300</td>\n",
       "                        <td id=\"T_1eeee9e8_a692_11ea_8682_34e6ad71bcferow14_col5\" class=\"data row14 col5\" >0.099600</td>\n",
       "                        <td id=\"T_1eeee9e8_a692_11ea_8682_34e6ad71bcferow14_col6\" class=\"data row14 col6\" >0.727400</td>\n",
       "            </tr>\n",
       "            <tr>\n",
       "                        <th id=\"T_1eeee9e8_a692_11ea_8682_34e6ad71bcfelevel0_row15\" class=\"row_heading level0 row15\" >15</th>\n",
       "                        <td id=\"T_1eeee9e8_a692_11ea_8682_34e6ad71bcferow15_col0\" class=\"data row15 col0\" >Orthogonal Matching Pursuit</td>\n",
       "                        <td id=\"T_1eeee9e8_a692_11ea_8682_34e6ad71bcferow15_col1\" class=\"data row15 col1\" >0.115500</td>\n",
       "                        <td id=\"T_1eeee9e8_a692_11ea_8682_34e6ad71bcferow15_col2\" class=\"data row15 col2\" >0.025000</td>\n",
       "                        <td id=\"T_1eeee9e8_a692_11ea_8682_34e6ad71bcferow15_col3\" class=\"data row15 col3\" >0.158200</td>\n",
       "                        <td id=\"T_1eeee9e8_a692_11ea_8682_34e6ad71bcferow15_col4\" class=\"data row15 col4\" >0.194600</td>\n",
       "                        <td id=\"T_1eeee9e8_a692_11ea_8682_34e6ad71bcferow15_col5\" class=\"data row15 col5\" >0.106800</td>\n",
       "                        <td id=\"T_1eeee9e8_a692_11ea_8682_34e6ad71bcferow15_col6\" class=\"data row15 col6\" >0.898700</td>\n",
       "            </tr>\n",
       "            <tr>\n",
       "                        <th id=\"T_1eeee9e8_a692_11ea_8682_34e6ad71bcfelevel0_row16\" class=\"row_heading level0 row16\" >16</th>\n",
       "                        <td id=\"T_1eeee9e8_a692_11ea_8682_34e6ad71bcferow16_col0\" class=\"data row16 col0\" >K Neighbors Regressor</td>\n",
       "                        <td id=\"T_1eeee9e8_a692_11ea_8682_34e6ad71bcferow16_col1\" class=\"data row16 col1\" >0.117300</td>\n",
       "                        <td id=\"T_1eeee9e8_a692_11ea_8682_34e6ad71bcferow16_col2\" class=\"data row16 col2\" >0.025100</td>\n",
       "                        <td id=\"T_1eeee9e8_a692_11ea_8682_34e6ad71bcferow16_col3\" class=\"data row16 col3\" >0.158500</td>\n",
       "                        <td id=\"T_1eeee9e8_a692_11ea_8682_34e6ad71bcferow16_col4\" class=\"data row16 col4\" >0.191800</td>\n",
       "                        <td id=\"T_1eeee9e8_a692_11ea_8682_34e6ad71bcferow16_col5\" class=\"data row16 col5\" >0.105000</td>\n",
       "                        <td id=\"T_1eeee9e8_a692_11ea_8682_34e6ad71bcferow16_col6\" class=\"data row16 col6\" >0.713700</td>\n",
       "            </tr>\n",
       "            <tr>\n",
       "                        <th id=\"T_1eeee9e8_a692_11ea_8682_34e6ad71bcfelevel0_row17\" class=\"row_heading level0 row17\" >17</th>\n",
       "                        <td id=\"T_1eeee9e8_a692_11ea_8682_34e6ad71bcferow17_col0\" class=\"data row17 col0\" >TheilSen Regressor</td>\n",
       "                        <td id=\"T_1eeee9e8_a692_11ea_8682_34e6ad71bcferow17_col1\" class=\"data row17 col1\" >0.118500</td>\n",
       "                        <td id=\"T_1eeee9e8_a692_11ea_8682_34e6ad71bcferow17_col2\" class=\"data row17 col2\" >0.025300</td>\n",
       "                        <td id=\"T_1eeee9e8_a692_11ea_8682_34e6ad71bcferow17_col3\" class=\"data row17 col3\" >0.159200</td>\n",
       "                        <td id=\"T_1eeee9e8_a692_11ea_8682_34e6ad71bcferow17_col4\" class=\"data row17 col4\" >0.184700</td>\n",
       "                        <td id=\"T_1eeee9e8_a692_11ea_8682_34e6ad71bcferow17_col5\" class=\"data row17 col5\" >0.107700</td>\n",
       "                        <td id=\"T_1eeee9e8_a692_11ea_8682_34e6ad71bcferow17_col6\" class=\"data row17 col6\" >0.924400</td>\n",
       "            </tr>\n",
       "            <tr>\n",
       "                        <th id=\"T_1eeee9e8_a692_11ea_8682_34e6ad71bcfelevel0_row18\" class=\"row_heading level0 row18\" >18</th>\n",
       "                        <td id=\"T_1eeee9e8_a692_11ea_8682_34e6ad71bcferow18_col0\" class=\"data row18 col0\" >Lasso Regression</td>\n",
       "                        <td id=\"T_1eeee9e8_a692_11ea_8682_34e6ad71bcferow18_col1\" class=\"data row18 col1\" >0.138500</td>\n",
       "                        <td id=\"T_1eeee9e8_a692_11ea_8682_34e6ad71bcferow18_col2\" class=\"data row18 col2\" >0.031100</td>\n",
       "                        <td id=\"T_1eeee9e8_a692_11ea_8682_34e6ad71bcferow18_col3\" class=\"data row18 col3\" >0.176300</td>\n",
       "                        <td id=\"T_1eeee9e8_a692_11ea_8682_34e6ad71bcferow18_col4\" class=\"data row18 col4\" >-0.000400</td>\n",
       "                        <td id=\"T_1eeee9e8_a692_11ea_8682_34e6ad71bcferow18_col5\" class=\"data row18 col5\" >0.119800</td>\n",
       "                        <td id=\"T_1eeee9e8_a692_11ea_8682_34e6ad71bcferow18_col6\" class=\"data row18 col6\" >0.939300</td>\n",
       "            </tr>\n",
       "            <tr>\n",
       "                        <th id=\"T_1eeee9e8_a692_11ea_8682_34e6ad71bcfelevel0_row19\" class=\"row_heading level0 row19\" >19</th>\n",
       "                        <td id=\"T_1eeee9e8_a692_11ea_8682_34e6ad71bcferow19_col0\" class=\"data row19 col0\" >Elastic Net</td>\n",
       "                        <td id=\"T_1eeee9e8_a692_11ea_8682_34e6ad71bcferow19_col1\" class=\"data row19 col1\" >0.138500</td>\n",
       "                        <td id=\"T_1eeee9e8_a692_11ea_8682_34e6ad71bcferow19_col2\" class=\"data row19 col2\" >0.031100</td>\n",
       "                        <td id=\"T_1eeee9e8_a692_11ea_8682_34e6ad71bcferow19_col3\" class=\"data row19 col3\" >0.176300</td>\n",
       "                        <td id=\"T_1eeee9e8_a692_11ea_8682_34e6ad71bcferow19_col4\" class=\"data row19 col4\" >-0.000400</td>\n",
       "                        <td id=\"T_1eeee9e8_a692_11ea_8682_34e6ad71bcferow19_col5\" class=\"data row19 col5\" >0.119800</td>\n",
       "                        <td id=\"T_1eeee9e8_a692_11ea_8682_34e6ad71bcferow19_col6\" class=\"data row19 col6\" >0.939300</td>\n",
       "            </tr>\n",
       "            <tr>\n",
       "                        <th id=\"T_1eeee9e8_a692_11ea_8682_34e6ad71bcfelevel0_row20\" class=\"row_heading level0 row20\" >20</th>\n",
       "                        <td id=\"T_1eeee9e8_a692_11ea_8682_34e6ad71bcferow20_col0\" class=\"data row20 col0\" >Lasso Least Angle Regression</td>\n",
       "                        <td id=\"T_1eeee9e8_a692_11ea_8682_34e6ad71bcferow20_col1\" class=\"data row20 col1\" >0.138500</td>\n",
       "                        <td id=\"T_1eeee9e8_a692_11ea_8682_34e6ad71bcferow20_col2\" class=\"data row20 col2\" >0.031100</td>\n",
       "                        <td id=\"T_1eeee9e8_a692_11ea_8682_34e6ad71bcferow20_col3\" class=\"data row20 col3\" >0.176300</td>\n",
       "                        <td id=\"T_1eeee9e8_a692_11ea_8682_34e6ad71bcferow20_col4\" class=\"data row20 col4\" >-0.000400</td>\n",
       "                        <td id=\"T_1eeee9e8_a692_11ea_8682_34e6ad71bcferow20_col5\" class=\"data row20 col5\" >0.119800</td>\n",
       "                        <td id=\"T_1eeee9e8_a692_11ea_8682_34e6ad71bcferow20_col6\" class=\"data row20 col6\" >0.939300</td>\n",
       "            </tr>\n",
       "            <tr>\n",
       "                        <th id=\"T_1eeee9e8_a692_11ea_8682_34e6ad71bcfelevel0_row21\" class=\"row_heading level0 row21\" >21</th>\n",
       "                        <td id=\"T_1eeee9e8_a692_11ea_8682_34e6ad71bcferow21_col0\" class=\"data row21 col0\" >Passive Aggressive Regressor</td>\n",
       "                        <td id=\"T_1eeee9e8_a692_11ea_8682_34e6ad71bcferow21_col1\" class=\"data row21 col1\" >0.160600</td>\n",
       "                        <td id=\"T_1eeee9e8_a692_11ea_8682_34e6ad71bcferow21_col2\" class=\"data row21 col2\" >0.042300</td>\n",
       "                        <td id=\"T_1eeee9e8_a692_11ea_8682_34e6ad71bcferow21_col3\" class=\"data row21 col3\" >0.199900</td>\n",
       "                        <td id=\"T_1eeee9e8_a692_11ea_8682_34e6ad71bcferow21_col4\" class=\"data row21 col4\" >-0.358400</td>\n",
       "                        <td id=\"T_1eeee9e8_a692_11ea_8682_34e6ad71bcferow21_col5\" class=\"data row21 col5\" >0.131800</td>\n",
       "                        <td id=\"T_1eeee9e8_a692_11ea_8682_34e6ad71bcferow21_col6\" class=\"data row21 col6\" >0.873600</td>\n",
       "            </tr>\n",
       "    </tbody></table>"
      ],
      "text/plain": [
       "<pandas.io.formats.style.Styler at 0x1f981721208>"
      ]
     },
     "execution_count": 62,
     "metadata": {},
     "output_type": "execute_result"
    }
   ],
   "source": [
    "compare_models()"
   ]
  },
  {
   "cell_type": "markdown",
   "metadata": {},
   "source": [
    "### Create Model<a id=\"7\"></a>"
   ]
  },
  {
   "cell_type": "markdown",
   "metadata": {},
   "source": [
    "Create Light Gradient Boosting Machine model"
   ]
  },
  {
   "cell_type": "code",
   "execution_count": 63,
   "metadata": {},
   "outputs": [
    {
     "data": {
      "text/html": [
       "<div>\n",
       "<style scoped>\n",
       "    .dataframe tbody tr th:only-of-type {\n",
       "        vertical-align: middle;\n",
       "    }\n",
       "\n",
       "    .dataframe tbody tr th {\n",
       "        vertical-align: top;\n",
       "    }\n",
       "\n",
       "    .dataframe thead th {\n",
       "        text-align: right;\n",
       "    }\n",
       "</style>\n",
       "<table border=\"1\" class=\"dataframe\">\n",
       "  <thead>\n",
       "    <tr style=\"text-align: right;\">\n",
       "      <th></th>\n",
       "      <th>MAE</th>\n",
       "      <th>MSE</th>\n",
       "      <th>RMSE</th>\n",
       "      <th>R2</th>\n",
       "      <th>RMSLE</th>\n",
       "      <th>MAPE</th>\n",
       "    </tr>\n",
       "  </thead>\n",
       "  <tbody>\n",
       "    <tr>\n",
       "      <th>0</th>\n",
       "      <td>0.11</td>\n",
       "      <td>0.02</td>\n",
       "      <td>0.15</td>\n",
       "      <td>0.31</td>\n",
       "      <td>0.1</td>\n",
       "      <td>0.44</td>\n",
       "    </tr>\n",
       "    <tr>\n",
       "      <th>1</th>\n",
       "      <td>0.11</td>\n",
       "      <td>0.02</td>\n",
       "      <td>0.14</td>\n",
       "      <td>0.32</td>\n",
       "      <td>0.1</td>\n",
       "      <td>0.44</td>\n",
       "    </tr>\n",
       "    <tr>\n",
       "      <th>2</th>\n",
       "      <td>0.11</td>\n",
       "      <td>0.02</td>\n",
       "      <td>0.15</td>\n",
       "      <td>0.31</td>\n",
       "      <td>0.1</td>\n",
       "      <td>1.59</td>\n",
       "    </tr>\n",
       "    <tr>\n",
       "      <th>3</th>\n",
       "      <td>0.11</td>\n",
       "      <td>0.02</td>\n",
       "      <td>0.15</td>\n",
       "      <td>0.31</td>\n",
       "      <td>0.1</td>\n",
       "      <td>0.59</td>\n",
       "    </tr>\n",
       "    <tr>\n",
       "      <th>4</th>\n",
       "      <td>0.11</td>\n",
       "      <td>0.02</td>\n",
       "      <td>0.15</td>\n",
       "      <td>0.32</td>\n",
       "      <td>0.1</td>\n",
       "      <td>0.48</td>\n",
       "    </tr>\n",
       "    <tr>\n",
       "      <th>Mean</th>\n",
       "      <td>0.11</td>\n",
       "      <td>0.02</td>\n",
       "      <td>0.15</td>\n",
       "      <td>0.31</td>\n",
       "      <td>0.1</td>\n",
       "      <td>0.71</td>\n",
       "    </tr>\n",
       "    <tr>\n",
       "      <th>SD</th>\n",
       "      <td>0.00</td>\n",
       "      <td>0.00</td>\n",
       "      <td>0.00</td>\n",
       "      <td>0.00</td>\n",
       "      <td>0.0</td>\n",
       "      <td>0.44</td>\n",
       "    </tr>\n",
       "  </tbody>\n",
       "</table>\n",
       "</div>"
      ],
      "text/plain": [
       "       MAE   MSE  RMSE    R2  RMSLE  MAPE\n",
       "0     0.11  0.02  0.15  0.31    0.1  0.44\n",
       "1     0.11  0.02  0.14  0.32    0.1  0.44\n",
       "2     0.11  0.02  0.15  0.31    0.1  1.59\n",
       "3     0.11  0.02  0.15  0.31    0.1  0.59\n",
       "4     0.11  0.02  0.15  0.32    0.1  0.48\n",
       "Mean  0.11  0.02  0.15  0.31    0.1  0.71\n",
       "SD    0.00  0.00  0.00  0.00    0.0  0.44"
      ]
     },
     "metadata": {},
     "output_type": "display_data"
    }
   ],
   "source": [
    "lightgbm= create_model('lightgbm',fold=5, round = 2)"
   ]
  },
  {
   "cell_type": "markdown",
   "metadata": {},
   "source": [
    "Create CatBoost Regressor model"
   ]
  },
  {
   "cell_type": "code",
   "execution_count": 64,
   "metadata": {},
   "outputs": [
    {
     "data": {
      "text/html": [
       "<div>\n",
       "<style scoped>\n",
       "    .dataframe tbody tr th:only-of-type {\n",
       "        vertical-align: middle;\n",
       "    }\n",
       "\n",
       "    .dataframe tbody tr th {\n",
       "        vertical-align: top;\n",
       "    }\n",
       "\n",
       "    .dataframe thead th {\n",
       "        text-align: right;\n",
       "    }\n",
       "</style>\n",
       "<table border=\"1\" class=\"dataframe\">\n",
       "  <thead>\n",
       "    <tr style=\"text-align: right;\">\n",
       "      <th></th>\n",
       "      <th>MAE</th>\n",
       "      <th>MSE</th>\n",
       "      <th>RMSE</th>\n",
       "      <th>R2</th>\n",
       "      <th>RMSLE</th>\n",
       "      <th>MAPE</th>\n",
       "    </tr>\n",
       "  </thead>\n",
       "  <tbody>\n",
       "    <tr>\n",
       "      <th>0</th>\n",
       "      <td>0.11</td>\n",
       "      <td>0.02</td>\n",
       "      <td>0.15</td>\n",
       "      <td>0.31</td>\n",
       "      <td>0.1</td>\n",
       "      <td>0.44</td>\n",
       "    </tr>\n",
       "    <tr>\n",
       "      <th>1</th>\n",
       "      <td>0.11</td>\n",
       "      <td>0.02</td>\n",
       "      <td>0.14</td>\n",
       "      <td>0.32</td>\n",
       "      <td>0.1</td>\n",
       "      <td>0.44</td>\n",
       "    </tr>\n",
       "    <tr>\n",
       "      <th>2</th>\n",
       "      <td>0.11</td>\n",
       "      <td>0.02</td>\n",
       "      <td>0.15</td>\n",
       "      <td>0.31</td>\n",
       "      <td>0.1</td>\n",
       "      <td>1.59</td>\n",
       "    </tr>\n",
       "    <tr>\n",
       "      <th>3</th>\n",
       "      <td>0.11</td>\n",
       "      <td>0.02</td>\n",
       "      <td>0.15</td>\n",
       "      <td>0.31</td>\n",
       "      <td>0.1</td>\n",
       "      <td>0.59</td>\n",
       "    </tr>\n",
       "    <tr>\n",
       "      <th>4</th>\n",
       "      <td>0.11</td>\n",
       "      <td>0.02</td>\n",
       "      <td>0.15</td>\n",
       "      <td>0.32</td>\n",
       "      <td>0.1</td>\n",
       "      <td>0.48</td>\n",
       "    </tr>\n",
       "    <tr>\n",
       "      <th>Mean</th>\n",
       "      <td>0.11</td>\n",
       "      <td>0.02</td>\n",
       "      <td>0.15</td>\n",
       "      <td>0.31</td>\n",
       "      <td>0.1</td>\n",
       "      <td>0.71</td>\n",
       "    </tr>\n",
       "    <tr>\n",
       "      <th>SD</th>\n",
       "      <td>0.00</td>\n",
       "      <td>0.00</td>\n",
       "      <td>0.00</td>\n",
       "      <td>0.01</td>\n",
       "      <td>0.0</td>\n",
       "      <td>0.45</td>\n",
       "    </tr>\n",
       "  </tbody>\n",
       "</table>\n",
       "</div>"
      ],
      "text/plain": [
       "       MAE   MSE  RMSE    R2  RMSLE  MAPE\n",
       "0     0.11  0.02  0.15  0.31    0.1  0.44\n",
       "1     0.11  0.02  0.14  0.32    0.1  0.44\n",
       "2     0.11  0.02  0.15  0.31    0.1  1.59\n",
       "3     0.11  0.02  0.15  0.31    0.1  0.59\n",
       "4     0.11  0.02  0.15  0.32    0.1  0.48\n",
       "Mean  0.11  0.02  0.15  0.31    0.1  0.71\n",
       "SD    0.00  0.00  0.00  0.01    0.0  0.45"
      ]
     },
     "metadata": {},
     "output_type": "display_data"
    }
   ],
   "source": [
    "catboost=create_model('catboost',fold=5, round = 2)"
   ]
  },
  {
   "cell_type": "markdown",
   "metadata": {},
   "source": [
    "Create Gradient Boosting Regressor model"
   ]
  },
  {
   "cell_type": "code",
   "execution_count": 65,
   "metadata": {},
   "outputs": [
    {
     "data": {
      "text/html": [
       "<div>\n",
       "<style scoped>\n",
       "    .dataframe tbody tr th:only-of-type {\n",
       "        vertical-align: middle;\n",
       "    }\n",
       "\n",
       "    .dataframe tbody tr th {\n",
       "        vertical-align: top;\n",
       "    }\n",
       "\n",
       "    .dataframe thead th {\n",
       "        text-align: right;\n",
       "    }\n",
       "</style>\n",
       "<table border=\"1\" class=\"dataframe\">\n",
       "  <thead>\n",
       "    <tr style=\"text-align: right;\">\n",
       "      <th></th>\n",
       "      <th>MAE</th>\n",
       "      <th>MSE</th>\n",
       "      <th>RMSE</th>\n",
       "      <th>R2</th>\n",
       "      <th>RMSLE</th>\n",
       "      <th>MAPE</th>\n",
       "    </tr>\n",
       "  </thead>\n",
       "  <tbody>\n",
       "    <tr>\n",
       "      <th>0</th>\n",
       "      <td>0.11</td>\n",
       "      <td>0.02</td>\n",
       "      <td>0.15</td>\n",
       "      <td>0.30</td>\n",
       "      <td>0.1</td>\n",
       "      <td>0.44</td>\n",
       "    </tr>\n",
       "    <tr>\n",
       "      <th>1</th>\n",
       "      <td>0.11</td>\n",
       "      <td>0.02</td>\n",
       "      <td>0.14</td>\n",
       "      <td>0.32</td>\n",
       "      <td>0.1</td>\n",
       "      <td>0.45</td>\n",
       "    </tr>\n",
       "    <tr>\n",
       "      <th>2</th>\n",
       "      <td>0.11</td>\n",
       "      <td>0.02</td>\n",
       "      <td>0.15</td>\n",
       "      <td>0.31</td>\n",
       "      <td>0.1</td>\n",
       "      <td>1.59</td>\n",
       "    </tr>\n",
       "    <tr>\n",
       "      <th>3</th>\n",
       "      <td>0.11</td>\n",
       "      <td>0.02</td>\n",
       "      <td>0.15</td>\n",
       "      <td>0.31</td>\n",
       "      <td>0.1</td>\n",
       "      <td>0.60</td>\n",
       "    </tr>\n",
       "    <tr>\n",
       "      <th>4</th>\n",
       "      <td>0.11</td>\n",
       "      <td>0.02</td>\n",
       "      <td>0.15</td>\n",
       "      <td>0.31</td>\n",
       "      <td>0.1</td>\n",
       "      <td>0.48</td>\n",
       "    </tr>\n",
       "    <tr>\n",
       "      <th>Mean</th>\n",
       "      <td>0.11</td>\n",
       "      <td>0.02</td>\n",
       "      <td>0.15</td>\n",
       "      <td>0.31</td>\n",
       "      <td>0.1</td>\n",
       "      <td>0.71</td>\n",
       "    </tr>\n",
       "    <tr>\n",
       "      <th>SD</th>\n",
       "      <td>0.00</td>\n",
       "      <td>0.00</td>\n",
       "      <td>0.00</td>\n",
       "      <td>0.01</td>\n",
       "      <td>0.0</td>\n",
       "      <td>0.44</td>\n",
       "    </tr>\n",
       "  </tbody>\n",
       "</table>\n",
       "</div>"
      ],
      "text/plain": [
       "       MAE   MSE  RMSE    R2  RMSLE  MAPE\n",
       "0     0.11  0.02  0.15  0.30    0.1  0.44\n",
       "1     0.11  0.02  0.14  0.32    0.1  0.45\n",
       "2     0.11  0.02  0.15  0.31    0.1  1.59\n",
       "3     0.11  0.02  0.15  0.31    0.1  0.60\n",
       "4     0.11  0.02  0.15  0.31    0.1  0.48\n",
       "Mean  0.11  0.02  0.15  0.31    0.1  0.71\n",
       "SD    0.00  0.00  0.00  0.01    0.0  0.44"
      ]
     },
     "metadata": {},
     "output_type": "display_data"
    }
   ],
   "source": [
    "gbr=create_model('gbr',fold=5, round = 2)"
   ]
  },
  {
   "cell_type": "markdown",
   "metadata": {},
   "source": [
    "###  Tune Model<a id=\"8\"></a>"
   ]
  },
  {
   "cell_type": "markdown",
   "metadata": {},
   "source": [
    "Tuned model of Lenear regression"
   ]
  },
  {
   "cell_type": "code",
   "execution_count": 66,
   "metadata": {},
   "outputs": [
    {
     "data": {
      "text/html": [
       "<div>\n",
       "<style scoped>\n",
       "    .dataframe tbody tr th:only-of-type {\n",
       "        vertical-align: middle;\n",
       "    }\n",
       "\n",
       "    .dataframe tbody tr th {\n",
       "        vertical-align: top;\n",
       "    }\n",
       "\n",
       "    .dataframe thead th {\n",
       "        text-align: right;\n",
       "    }\n",
       "</style>\n",
       "<table border=\"1\" class=\"dataframe\">\n",
       "  <thead>\n",
       "    <tr style=\"text-align: right;\">\n",
       "      <th></th>\n",
       "      <th>MAE</th>\n",
       "      <th>MSE</th>\n",
       "      <th>RMSE</th>\n",
       "      <th>R2</th>\n",
       "      <th>RMSLE</th>\n",
       "      <th>MAPE</th>\n",
       "    </tr>\n",
       "  </thead>\n",
       "  <tbody>\n",
       "    <tr>\n",
       "      <th>0</th>\n",
       "      <td>0.1079</td>\n",
       "      <td>0.0215</td>\n",
       "      <td>0.1466</td>\n",
       "      <td>0.3052</td>\n",
       "      <td>0.0976</td>\n",
       "      <td>0.4378</td>\n",
       "    </tr>\n",
       "    <tr>\n",
       "      <th>1</th>\n",
       "      <td>0.1066</td>\n",
       "      <td>0.0210</td>\n",
       "      <td>0.1448</td>\n",
       "      <td>0.3206</td>\n",
       "      <td>0.0957</td>\n",
       "      <td>0.4418</td>\n",
       "    </tr>\n",
       "    <tr>\n",
       "      <th>2</th>\n",
       "      <td>0.1075</td>\n",
       "      <td>0.0214</td>\n",
       "      <td>0.1463</td>\n",
       "      <td>0.3145</td>\n",
       "      <td>0.0968</td>\n",
       "      <td>1.5927</td>\n",
       "    </tr>\n",
       "    <tr>\n",
       "      <th>3</th>\n",
       "      <td>0.1082</td>\n",
       "      <td>0.0217</td>\n",
       "      <td>0.1472</td>\n",
       "      <td>0.3111</td>\n",
       "      <td>0.0975</td>\n",
       "      <td>0.5892</td>\n",
       "    </tr>\n",
       "    <tr>\n",
       "      <th>4</th>\n",
       "      <td>0.1070</td>\n",
       "      <td>0.0211</td>\n",
       "      <td>0.1453</td>\n",
       "      <td>0.3169</td>\n",
       "      <td>0.0965</td>\n",
       "      <td>0.4812</td>\n",
       "    </tr>\n",
       "    <tr>\n",
       "      <th>Mean</th>\n",
       "      <td>0.1074</td>\n",
       "      <td>0.0213</td>\n",
       "      <td>0.1460</td>\n",
       "      <td>0.3137</td>\n",
       "      <td>0.0968</td>\n",
       "      <td>0.7085</td>\n",
       "    </tr>\n",
       "    <tr>\n",
       "      <th>SD</th>\n",
       "      <td>0.0006</td>\n",
       "      <td>0.0003</td>\n",
       "      <td>0.0009</td>\n",
       "      <td>0.0053</td>\n",
       "      <td>0.0007</td>\n",
       "      <td>0.4454</td>\n",
       "    </tr>\n",
       "  </tbody>\n",
       "</table>\n",
       "</div>"
      ],
      "text/plain": [
       "         MAE     MSE    RMSE      R2   RMSLE    MAPE\n",
       "0     0.1079  0.0215  0.1466  0.3052  0.0976  0.4378\n",
       "1     0.1066  0.0210  0.1448  0.3206  0.0957  0.4418\n",
       "2     0.1075  0.0214  0.1463  0.3145  0.0968  1.5927\n",
       "3     0.1082  0.0217  0.1472  0.3111  0.0975  0.5892\n",
       "4     0.1070  0.0211  0.1453  0.3169  0.0965  0.4812\n",
       "Mean  0.1074  0.0213  0.1460  0.3137  0.0968  0.7085\n",
       "SD    0.0006  0.0003  0.0009  0.0053  0.0007  0.4454"
      ]
     },
     "metadata": {},
     "output_type": "display_data"
    },
    {
     "data": {
      "text/plain": [
       "LGBMRegressor(boosting_type='gbdt', class_weight=None, colsample_bytree=1.0,\n",
       "              importance_type='split', learning_rate=0.2, max_depth=80,\n",
       "              min_child_samples=20, min_child_weight=0.001, min_split_gain=0.1,\n",
       "              n_estimators=150, n_jobs=-1, num_leaves=100, objective=None,\n",
       "              random_state=2610, reg_alpha=0.6, reg_lambda=0.4, silent=True,\n",
       "              subsample=1.0, subsample_for_bin=200000, subsample_freq=0)"
      ]
     },
     "execution_count": 66,
     "metadata": {},
     "output_type": "execute_result"
    }
   ],
   "source": [
    "tuned_lightgbm = tune_model('lightgbm',fold=5)\n",
    "tuned_lightgbm"
   ]
  },
  {
   "cell_type": "markdown",
   "metadata": {},
   "source": [
    "Tuned model of ridge regression"
   ]
  },
  {
   "cell_type": "code",
   "execution_count": 67,
   "metadata": {},
   "outputs": [
    {
     "data": {
      "text/html": [
       "<div>\n",
       "<style scoped>\n",
       "    .dataframe tbody tr th:only-of-type {\n",
       "        vertical-align: middle;\n",
       "    }\n",
       "\n",
       "    .dataframe tbody tr th {\n",
       "        vertical-align: top;\n",
       "    }\n",
       "\n",
       "    .dataframe thead th {\n",
       "        text-align: right;\n",
       "    }\n",
       "</style>\n",
       "<table border=\"1\" class=\"dataframe\">\n",
       "  <thead>\n",
       "    <tr style=\"text-align: right;\">\n",
       "      <th></th>\n",
       "      <th>MAE</th>\n",
       "      <th>MSE</th>\n",
       "      <th>RMSE</th>\n",
       "      <th>R2</th>\n",
       "      <th>RMSLE</th>\n",
       "      <th>MAPE</th>\n",
       "    </tr>\n",
       "  </thead>\n",
       "  <tbody>\n",
       "    <tr>\n",
       "      <th>0</th>\n",
       "      <td>0.1079</td>\n",
       "      <td>0.0214</td>\n",
       "      <td>0.1464</td>\n",
       "      <td>0.3063</td>\n",
       "      <td>0.0975</td>\n",
       "      <td>0.4372</td>\n",
       "    </tr>\n",
       "    <tr>\n",
       "      <th>1</th>\n",
       "      <td>0.1068</td>\n",
       "      <td>0.0210</td>\n",
       "      <td>0.1448</td>\n",
       "      <td>0.3205</td>\n",
       "      <td>0.0957</td>\n",
       "      <td>0.4427</td>\n",
       "    </tr>\n",
       "    <tr>\n",
       "      <th>2</th>\n",
       "      <td>0.1077</td>\n",
       "      <td>0.0214</td>\n",
       "      <td>0.1464</td>\n",
       "      <td>0.3142</td>\n",
       "      <td>0.0968</td>\n",
       "      <td>1.5955</td>\n",
       "    </tr>\n",
       "    <tr>\n",
       "      <th>3</th>\n",
       "      <td>0.1083</td>\n",
       "      <td>0.0216</td>\n",
       "      <td>0.1469</td>\n",
       "      <td>0.3132</td>\n",
       "      <td>0.0974</td>\n",
       "      <td>0.5911</td>\n",
       "    </tr>\n",
       "    <tr>\n",
       "      <th>4</th>\n",
       "      <td>0.1071</td>\n",
       "      <td>0.0211</td>\n",
       "      <td>0.1453</td>\n",
       "      <td>0.3169</td>\n",
       "      <td>0.0965</td>\n",
       "      <td>0.4795</td>\n",
       "    </tr>\n",
       "    <tr>\n",
       "      <th>Mean</th>\n",
       "      <td>0.1075</td>\n",
       "      <td>0.0213</td>\n",
       "      <td>0.1460</td>\n",
       "      <td>0.3142</td>\n",
       "      <td>0.0968</td>\n",
       "      <td>0.7092</td>\n",
       "    </tr>\n",
       "    <tr>\n",
       "      <th>SD</th>\n",
       "      <td>0.0005</td>\n",
       "      <td>0.0002</td>\n",
       "      <td>0.0008</td>\n",
       "      <td>0.0047</td>\n",
       "      <td>0.0006</td>\n",
       "      <td>0.4466</td>\n",
       "    </tr>\n",
       "  </tbody>\n",
       "</table>\n",
       "</div>"
      ],
      "text/plain": [
       "         MAE     MSE    RMSE      R2   RMSLE    MAPE\n",
       "0     0.1079  0.0214  0.1464  0.3063  0.0975  0.4372\n",
       "1     0.1068  0.0210  0.1448  0.3205  0.0957  0.4427\n",
       "2     0.1077  0.0214  0.1464  0.3142  0.0968  1.5955\n",
       "3     0.1083  0.0216  0.1469  0.3132  0.0974  0.5911\n",
       "4     0.1071  0.0211  0.1453  0.3169  0.0965  0.4795\n",
       "Mean  0.1075  0.0213  0.1460  0.3142  0.0968  0.7092\n",
       "SD    0.0005  0.0002  0.0008  0.0047  0.0006  0.4466"
      ]
     },
     "metadata": {},
     "output_type": "display_data"
    },
    {
     "data": {
      "text/plain": [
       "<catboost.core.CatBoostRegressor at 0x1f9818a9eb8>"
      ]
     },
     "execution_count": 67,
     "metadata": {},
     "output_type": "execute_result"
    }
   ],
   "source": [
    "tuned_catboost = tune_model('catboost',fold=5)\n",
    "tuned_catboost"
   ]
  },
  {
   "cell_type": "markdown",
   "metadata": {},
   "source": [
    "### Model Ensembling<a id=\"9\"></a>"
   ]
  },
  {
   "cell_type": "markdown",
   "metadata": {},
   "source": [
    "Combined model of all tuned"
   ]
  },
  {
   "cell_type": "code",
   "execution_count": 69,
   "metadata": {},
   "outputs": [
    {
     "data": {
      "text/html": [
       "<div>\n",
       "<style scoped>\n",
       "    .dataframe tbody tr th:only-of-type {\n",
       "        vertical-align: middle;\n",
       "    }\n",
       "\n",
       "    .dataframe tbody tr th {\n",
       "        vertical-align: top;\n",
       "    }\n",
       "\n",
       "    .dataframe thead th {\n",
       "        text-align: right;\n",
       "    }\n",
       "</style>\n",
       "<table border=\"1\" class=\"dataframe\">\n",
       "  <thead>\n",
       "    <tr style=\"text-align: right;\">\n",
       "      <th></th>\n",
       "      <th>MAE</th>\n",
       "      <th>MSE</th>\n",
       "      <th>RMSE</th>\n",
       "      <th>R2</th>\n",
       "      <th>RMSLE</th>\n",
       "      <th>MAPE</th>\n",
       "    </tr>\n",
       "  </thead>\n",
       "  <tbody>\n",
       "    <tr>\n",
       "      <th>0</th>\n",
       "      <td>0.1078</td>\n",
       "      <td>0.0214</td>\n",
       "      <td>0.1464</td>\n",
       "      <td>0.3066</td>\n",
       "      <td>0.0975</td>\n",
       "      <td>0.4372</td>\n",
       "    </tr>\n",
       "    <tr>\n",
       "      <th>1</th>\n",
       "      <td>0.1066</td>\n",
       "      <td>0.0209</td>\n",
       "      <td>0.1447</td>\n",
       "      <td>0.3216</td>\n",
       "      <td>0.0957</td>\n",
       "      <td>0.4431</td>\n",
       "    </tr>\n",
       "    <tr>\n",
       "      <th>2</th>\n",
       "      <td>0.1075</td>\n",
       "      <td>0.0214</td>\n",
       "      <td>0.1463</td>\n",
       "      <td>0.3144</td>\n",
       "      <td>0.0968</td>\n",
       "      <td>1.5931</td>\n",
       "    </tr>\n",
       "    <tr>\n",
       "      <th>3</th>\n",
       "      <td>0.1082</td>\n",
       "      <td>0.0216</td>\n",
       "      <td>0.1470</td>\n",
       "      <td>0.3126</td>\n",
       "      <td>0.0974</td>\n",
       "      <td>0.5905</td>\n",
       "    </tr>\n",
       "    <tr>\n",
       "      <th>4</th>\n",
       "      <td>0.1071</td>\n",
       "      <td>0.0211</td>\n",
       "      <td>0.1453</td>\n",
       "      <td>0.3169</td>\n",
       "      <td>0.0964</td>\n",
       "      <td>0.4804</td>\n",
       "    </tr>\n",
       "    <tr>\n",
       "      <th>Mean</th>\n",
       "      <td>0.1074</td>\n",
       "      <td>0.0213</td>\n",
       "      <td>0.1459</td>\n",
       "      <td>0.3144</td>\n",
       "      <td>0.0968</td>\n",
       "      <td>0.7089</td>\n",
       "    </tr>\n",
       "    <tr>\n",
       "      <th>SD</th>\n",
       "      <td>0.0006</td>\n",
       "      <td>0.0002</td>\n",
       "      <td>0.0008</td>\n",
       "      <td>0.0049</td>\n",
       "      <td>0.0007</td>\n",
       "      <td>0.4455</td>\n",
       "    </tr>\n",
       "  </tbody>\n",
       "</table>\n",
       "</div>"
      ],
      "text/plain": [
       "         MAE     MSE    RMSE      R2   RMSLE    MAPE\n",
       "0     0.1078  0.0214  0.1464  0.3066  0.0975  0.4372\n",
       "1     0.1066  0.0209  0.1447  0.3216  0.0957  0.4431\n",
       "2     0.1075  0.0214  0.1463  0.3144  0.0968  1.5931\n",
       "3     0.1082  0.0216  0.1470  0.3126  0.0974  0.5905\n",
       "4     0.1071  0.0211  0.1453  0.3169  0.0964  0.4804\n",
       "Mean  0.1074  0.0213  0.1459  0.3144  0.0968  0.7089\n",
       "SD    0.0006  0.0002  0.0008  0.0049  0.0007  0.4455"
      ]
     },
     "metadata": {},
     "output_type": "display_data"
    },
    {
     "data": {
      "text/plain": [
       "VotingRegressor(estimators=[('Light Gradient Boosting Machine_0',\n",
       "                             LGBMRegressor(boosting_type='gbdt',\n",
       "                                           class_weight=None,\n",
       "                                           colsample_bytree=1.0,\n",
       "                                           importance_type='split',\n",
       "                                           learning_rate=0.1, max_depth=-1,\n",
       "                                           min_child_samples=20,\n",
       "                                           min_child_weight=0.001,\n",
       "                                           min_split_gain=0.0, n_estimators=100,\n",
       "                                           n_jobs=-1, num_leaves=31,\n",
       "                                           objective=None, random_state=2610,\n",
       "                                           reg_alpha=0.0, reg_lambda=0.0,\n",
       "                                           silent=True, subsample=1.0,\n",
       "                                           subsample_for_bin=200000,\n",
       "                                           subsample_freq=0)),\n",
       "                            ('CatBoost Regressor_1',\n",
       "                             <catboost.core.CatBoostRegressor object at 0x000001F981721780>)],\n",
       "                n_jobs=None, weights=None)"
      ]
     },
     "execution_count": 69,
     "metadata": {},
     "output_type": "execute_result"
    }
   ],
   "source": [
    "blender = blend_models(estimator_list = [lightgbm, catboost],fold=5)\n",
    "blender"
   ]
  },
  {
   "cell_type": "markdown",
   "metadata": {},
   "source": [
    "### Model Analysis<a id=\"10\"></a>"
   ]
  },
  {
   "cell_type": "markdown",
   "metadata": {},
   "source": [
    "Before model finalization, the plot_model() function can be used to analyze the performance across different aspects such as Residuals Plot, Prediction Error, Feature Importance etc. This function takes a trained model object and returns a plot based on the test / hold-out set.\n",
    "\n",
    "There are over 10 plots available, please see the plot_model() docstring for the list of available plots."
   ]
  },
  {
   "cell_type": "markdown",
   "metadata": {},
   "source": [
    "#### Residual Plot"
   ]
  },
  {
   "cell_type": "code",
   "execution_count": 70,
   "metadata": {},
   "outputs": [
    {
     "data": {
      "image/png": "[encoded data removed]",
      "text/plain": [
       "<Figure size 576x396 with 2 Axes>"
      ]
     },
     "metadata": {},
     "output_type": "display_data"
    }
   ],
   "source": [
    "plot_model(tuned_lightgbm)"
   ]
  },
  {
   "cell_type": "markdown",
   "metadata": {},
   "source": [
    "#### Recursive Feat. Selection"
   ]
  },
  {
   "cell_type": "code",
   "execution_count": 72,
   "metadata": {},
   "outputs": [
    {
     "data": {
      "image/png": "[encoded data removed]",
      "text/plain": [
       "<Figure size 576x396 with 1 Axes>"
      ]
     },
     "metadata": {},
     "output_type": "display_data"
    }
   ],
   "source": [
    "plot_model(tuned_lightgbm, plot='rfe')"
   ]
  },
  {
   "cell_type": "markdown",
   "metadata": {},
   "source": [
    "#### Prediction Error Plot"
   ]
  },
  {
   "cell_type": "code",
   "execution_count": 73,
   "metadata": {},
   "outputs": [
    {
     "data": {
      "image/png": "[encoded data removed]",
      "text/plain": [
       "<Figure size 576x396 with 1 Axes>"
      ]
     },
     "metadata": {},
     "output_type": "display_data"
    }
   ],
   "source": [
    "plot_model(tuned_lightgbm, plot = 'error')"
   ]
  },
  {
   "cell_type": "markdown",
   "metadata": {},
   "source": [
    "#### Feature Importance Plot"
   ]
  },
  {
   "cell_type": "code",
   "execution_count": 74,
   "metadata": {},
   "outputs": [
    {
     "data": {
      "image/png": "[encoded data removed]",
      "text/plain": [
       "<Figure size 576x360 with 1 Axes>"
      ]
     },
     "metadata": {},
     "output_type": "display_data"
    }
   ],
   "source": [
    "plot_model(tuned_lightgbm, plot = 'feature')"
   ]
  },
  {
   "cell_type": "markdown",
   "metadata": {},
   "source": [
    "## Predict on Test / Hold-out Sample<a id=\"11\"></a>"
   ]
  },
  {
   "cell_type": "code",
   "execution_count": 75,
   "metadata": {},
   "outputs": [
    {
     "data": {
      "text/html": [
       "<div>\n",
       "<style scoped>\n",
       "    .dataframe tbody tr th:only-of-type {\n",
       "        vertical-align: middle;\n",
       "    }\n",
       "\n",
       "    .dataframe tbody tr th {\n",
       "        vertical-align: top;\n",
       "    }\n",
       "\n",
       "    .dataframe thead th {\n",
       "        text-align: right;\n",
       "    }\n",
       "</style>\n",
       "<table border=\"1\" class=\"dataframe\">\n",
       "  <thead>\n",
       "    <tr style=\"text-align: right;\">\n",
       "      <th></th>\n",
       "      <th>Model</th>\n",
       "      <th>MAE</th>\n",
       "      <th>MSE</th>\n",
       "      <th>RMSE</th>\n",
       "      <th>R2</th>\n",
       "      <th>RMSLE</th>\n",
       "      <th>MAPE</th>\n",
       "    </tr>\n",
       "  </thead>\n",
       "  <tbody>\n",
       "    <tr>\n",
       "      <th>0</th>\n",
       "      <td>Light Gradient Boosting Machine</td>\n",
       "      <td>0.107</td>\n",
       "      <td>0.0211</td>\n",
       "      <td>0.1452</td>\n",
       "      <td>0.3154</td>\n",
       "      <td>0.0962</td>\n",
       "      <td>0.4671</td>\n",
       "    </tr>\n",
       "  </tbody>\n",
       "</table>\n",
       "</div>"
      ],
      "text/plain": [
       "                             Model    MAE     MSE    RMSE      R2   RMSLE  \\\n",
       "0  Light Gradient Boosting Machine  0.107  0.0211  0.1452  0.3154  0.0962   \n",
       "\n",
       "     MAPE  \n",
       "0  0.4671  "
      ]
     },
     "metadata": {},
     "output_type": "display_data"
    }
   ],
   "source": [
    "predict_model(tuned_lightgbm);"
   ]
  },
  {
   "cell_type": "markdown",
   "metadata": {},
   "source": [
    "The RMSE on the test/hold-out set is 2513.98 compared to 2513.57 achieved on tuned_lr NetFare results.This is not a significant difference."
   ]
  },
  {
   "cell_type": "markdown",
   "metadata": {},
   "source": [
    "## Finalize Model for Deployment<a id=\"12\"></a>"
   ]
  },
  {
   "cell_type": "code",
   "execution_count": 76,
   "metadata": {},
   "outputs": [],
   "source": [
    "final_lightgbm= finalize_model(tuned_lightgbm)"
   ]
  },
  {
   "cell_type": "code",
   "execution_count": 77,
   "metadata": {},
   "outputs": [
    {
     "name": "stdout",
     "output_type": "stream",
     "text": [
      "LGBMRegressor(boosting_type='gbdt', class_weight=None, colsample_bytree=1.0,\n",
      "              importance_type='split', learning_rate=0.2, max_depth=80,\n",
      "              min_child_samples=20, min_child_weight=0.001, min_split_gain=0.1,\n",
      "              n_estimators=150, n_jobs=-1, num_leaves=100, objective=None,\n",
      "              random_state=2610, reg_alpha=0.6, reg_lambda=0.4, silent=True,\n",
      "              subsample=1.0, subsample_for_bin=200000, subsample_freq=0)\n"
     ]
    }
   ],
   "source": [
    "print(final_lightgbm)"
   ]
  },
  {
   "cell_type": "code",
   "execution_count": 78,
   "metadata": {},
   "outputs": [
    {
     "data": {
      "text/html": [
       "<div>\n",
       "<style scoped>\n",
       "    .dataframe tbody tr th:only-of-type {\n",
       "        vertical-align: middle;\n",
       "    }\n",
       "\n",
       "    .dataframe tbody tr th {\n",
       "        vertical-align: top;\n",
       "    }\n",
       "\n",
       "    .dataframe thead th {\n",
       "        text-align: right;\n",
       "    }\n",
       "</style>\n",
       "<table border=\"1\" class=\"dataframe\">\n",
       "  <thead>\n",
       "    <tr style=\"text-align: right;\">\n",
       "      <th></th>\n",
       "      <th>Model</th>\n",
       "      <th>MAE</th>\n",
       "      <th>MSE</th>\n",
       "      <th>RMSE</th>\n",
       "      <th>R2</th>\n",
       "      <th>RMSLE</th>\n",
       "      <th>MAPE</th>\n",
       "    </tr>\n",
       "  </thead>\n",
       "  <tbody>\n",
       "    <tr>\n",
       "      <th>0</th>\n",
       "      <td>Light Gradient Boosting Machine</td>\n",
       "      <td>0.1061</td>\n",
       "      <td>0.0207</td>\n",
       "      <td>0.1438</td>\n",
       "      <td>0.3281</td>\n",
       "      <td>0.0953</td>\n",
       "      <td>0.4642</td>\n",
       "    </tr>\n",
       "  </tbody>\n",
       "</table>\n",
       "</div>"
      ],
      "text/plain": [
       "                             Model     MAE     MSE    RMSE      R2   RMSLE  \\\n",
       "0  Light Gradient Boosting Machine  0.1061  0.0207  0.1438  0.3281  0.0953   \n",
       "\n",
       "     MAPE  \n",
       "0  0.4642  "
      ]
     },
     "metadata": {},
     "output_type": "display_data"
    }
   ],
   "source": [
    "predict_model(final_lightgbm);"
   ]
  },
  {
   "cell_type": "markdown",
   "metadata": {},
   "source": [
    "## Saving the Model<a id=\"13\"></a>"
   ]
  },
  {
   "cell_type": "code",
   "execution_count": 84,
   "metadata": {},
   "outputs": [
    {
     "name": "stdout",
     "output_type": "stream",
     "text": [
      "Transformation Pipeline and Model Succesfully Saved\n"
     ]
    }
   ],
   "source": [
    "save_model(final_lightgbm,'final_lightgbmg_05Jun2020')"
   ]
  }
 ],
 "metadata": {
  "kernelspec": {
   "display_name": "Python 3",
   "language": "python",
   "name": "python3"
  },
  "language_info": {
   "codemirror_mode": {
    "name": "ipython",
    "version": 3
   },
   "file_extension": ".py",
   "mimetype": "text/x-python",
   "name": "python",
   "nbconvert_exporter": "python",
   "pygments_lexer": "ipython3",
   "version": "3.6.10"
  }
 },
 "nbformat": 4,
 "nbformat_minor": 4
}
