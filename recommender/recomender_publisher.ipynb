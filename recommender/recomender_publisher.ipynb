{
 "cells": [
  {
   "cell_type": "code",
   "execution_count": 1,
   "metadata": {},
   "outputs": [],
   "source": [
    "### Problem statement: Recommend a best book based on the publisher.\n",
    "#dataset: books.csv"
   ]
  },
  {
   "cell_type": "code",
   "execution_count": 2,
   "metadata": {},
   "outputs": [],
   "source": [
    "#Importing necessary libraries\n",
    "\n",
    "import pandas as pd\n",
    "from sklearn.feature_extraction.text import TfidfVectorizer\n",
    "from sklearn.metrics.pairwise import linear_kernel "
   ]
  },
  {
   "cell_type": "code",
   "execution_count": 3,
   "metadata": {},
   "outputs": [],
   "source": [
    "#Reading dataset by using pandas library\n",
    "\n",
    "books=pd.read_csv('C:\\\\Users\\\\Raja\\\\Downloads\\\\assignments\\\\recommender\\\\books.csv',encoding=\"ISO-8859-1\")"
   ]
  },
  {
   "cell_type": "code",
   "execution_count": 4,
   "metadata": {},
   "outputs": [
    {
     "data": {
      "text/plain": [
       "(5000, 6)"
      ]
     },
     "execution_count": 4,
     "metadata": {},
     "output_type": "execute_result"
    }
   ],
   "source": [
    "#Using shape function to know the rows & columns\n",
    "\n",
    "books.shape "
   ]
  },
  {
   "cell_type": "code",
   "execution_count": 5,
   "metadata": {},
   "outputs": [
    {
     "data": {
      "text/plain": [
       "Index(['sn', 'users', 'Book_Title', 'Book_Author', 'Publisher', 'ratings'], dtype='object')"
      ]
     },
     "execution_count": 5,
     "metadata": {},
     "output_type": "execute_result"
    }
   ],
   "source": [
    "#Extraction of only columns from dataset\n",
    "\n",
    "books.columns"
   ]
  },
  {
   "cell_type": "code",
   "execution_count": 6,
   "metadata": {},
   "outputs": [
    {
     "data": {
      "text/html": [
       "<div>\n",
       "<style scoped>\n",
       "    .dataframe tbody tr th:only-of-type {\n",
       "        vertical-align: middle;\n",
       "    }\n",
       "\n",
       "    .dataframe tbody tr th {\n",
       "        vertical-align: top;\n",
       "    }\n",
       "\n",
       "    .dataframe thead th {\n",
       "        text-align: right;\n",
       "    }\n",
       "</style>\n",
       "<table border=\"1\" class=\"dataframe\">\n",
       "  <thead>\n",
       "    <tr style=\"text-align: right;\">\n",
       "      <th></th>\n",
       "      <th>sn</th>\n",
       "      <th>users</th>\n",
       "      <th>Book_Title</th>\n",
       "      <th>Book_Author</th>\n",
       "      <th>Publisher</th>\n",
       "      <th>ratings</th>\n",
       "    </tr>\n",
       "  </thead>\n",
       "  <tbody>\n",
       "    <tr>\n",
       "      <th>0</th>\n",
       "      <td>1</td>\n",
       "      <td>1</td>\n",
       "      <td>Classical Mythology</td>\n",
       "      <td>Mark P. O. Morford</td>\n",
       "      <td>Oxford University Press</td>\n",
       "      <td>0</td>\n",
       "    </tr>\n",
       "    <tr>\n",
       "      <th>1</th>\n",
       "      <td>2</td>\n",
       "      <td>2</td>\n",
       "      <td>Clara Callan</td>\n",
       "      <td>Richard Bruce Wright</td>\n",
       "      <td>HarperFlamingo Canada</td>\n",
       "      <td>5</td>\n",
       "    </tr>\n",
       "    <tr>\n",
       "      <th>2</th>\n",
       "      <td>3</td>\n",
       "      <td>3</td>\n",
       "      <td>Decision in Normandy</td>\n",
       "      <td>Carlo D'Este</td>\n",
       "      <td>HarperPerennial</td>\n",
       "      <td>0</td>\n",
       "    </tr>\n",
       "    <tr>\n",
       "      <th>3</th>\n",
       "      <td>4</td>\n",
       "      <td>4</td>\n",
       "      <td>Flu: The Story of the Great Influenza Pandemic...</td>\n",
       "      <td>Gina Bari Kolata</td>\n",
       "      <td>Farrar Straus Giroux</td>\n",
       "      <td>3</td>\n",
       "    </tr>\n",
       "    <tr>\n",
       "      <th>4</th>\n",
       "      <td>5</td>\n",
       "      <td>5</td>\n",
       "      <td>The Mummies of Urumchi</td>\n",
       "      <td>E. J. W. Barber</td>\n",
       "      <td>W. W. Norton &amp;amp; Company</td>\n",
       "      <td>6</td>\n",
       "    </tr>\n",
       "  </tbody>\n",
       "</table>\n",
       "</div>"
      ],
      "text/plain": [
       "   sn  users                                         Book_Title  \\\n",
       "0   1      1                                Classical Mythology   \n",
       "1   2      2                                       Clara Callan   \n",
       "2   3      3                               Decision in Normandy   \n",
       "3   4      4  Flu: The Story of the Great Influenza Pandemic...   \n",
       "4   5      5                             The Mummies of Urumchi   \n",
       "\n",
       "            Book_Author                   Publisher  ratings  \n",
       "0    Mark P. O. Morford     Oxford University Press        0  \n",
       "1  Richard Bruce Wright       HarperFlamingo Canada        5  \n",
       "2          Carlo D'Este             HarperPerennial        0  \n",
       "3      Gina Bari Kolata        Farrar Straus Giroux        3  \n",
       "4       E. J. W. Barber  W. W. Norton &amp; Company        6  "
      ]
     },
     "execution_count": 6,
     "metadata": {},
     "output_type": "execute_result"
    }
   ],
   "source": [
    "#Showing of only top five records \n",
    "\n",
    "books.head()"
   ]
  },
  {
   "cell_type": "code",
   "execution_count": 7,
   "metadata": {},
   "outputs": [],
   "source": [
    "#Creating a Tfidf Vectorizer to remove all stop words\n",
    "#Taking stop words from tfid vectorizer \n",
    "\n",
    "tf = TfidfVectorizer(analyzer='word', ngram_range=(1, 3), min_df=0, stop_words='english')\n",
    "tfidf_matrix = tf.fit_transform(books['Publisher'])   "
   ]
  },
  {
   "cell_type": "code",
   "execution_count": 8,
   "metadata": {},
   "outputs": [
    {
     "name": "stdout",
     "output_type": "stream",
     "text": [
      "done!\n"
     ]
    }
   ],
   "source": [
    "#Calculating Cosine Similarity\n",
    "#Cosine similarity is a measure of similarity between two non-zero vetors \n",
    "\n",
    "cosine_similarities = linear_kernel(tfidf_matrix, tfidf_matrix)\n",
    "results = {}\n",
    "for idx, row in books.iterrows():\n",
    "    similar_indices = cosine_similarities[idx].argsort()[:-5000:-1]\n",
    "    similar_items = [(cosine_similarities[idx][i], books['sn'][i]) for i in similar_indices]\n",
    "    results[row['sn']] = similar_items[1:]\n",
    "    \n",
    "print('done!')\n"
   ]
  },
  {
   "cell_type": "code",
   "execution_count": 9,
   "metadata": {},
   "outputs": [],
   "source": [
    "#Making a recommendation Model\n",
    "#Declaring function\n",
    "\n",
    "def item(sn):  \n",
    "  return books.loc[books['sn'] == sn]['Publisher'].tolist()[0].split(' - ')[0] "
   ]
  },
  {
   "cell_type": "code",
   "execution_count": 10,
   "metadata": {},
   "outputs": [
    {
     "name": "stdout",
     "output_type": "stream",
     "text": [
      "Recommending 5 products similar to Emblem Editions...\n",
      "-------\n",
      "Recommended: Editions 84 (score:0.2252310975401753)\n",
      "Recommended: Disney Editions (score:0.22388524836564028)\n",
      "Recommended: Guernica Editions (score:0.21717142185833518)\n",
      "Recommended: Editions 10/18 (score:0.15981700087903863)\n",
      "Recommended: Editions 10/18 (score:0.15981700087903863)\n"
     ]
    }
   ],
   "source": [
    "# Just reads the results out of the dictionary.\n",
    "\n",
    "def recommend(item_sn, num):\n",
    "    print(\"Recommending \" + str(num) + \" products similar to \" + item(item_sn) + \"...\")\n",
    "    print(\"-------\")\n",
    "    recs = results[item_sn][:num]\n",
    "    for rec in recs:\n",
    "        print(\"Recommended: \" + item(rec[1]) + \" (score:\" + str(rec[0]) + \")\")\n",
    "\n",
    "recommend(item_sn=11, num=5)"
   ]
  },
  {
   "cell_type": "markdown",
   "metadata": {},
   "source": [
    "----------------------------------------End Part -2 ------------------------------------------------------------------------"
   ]
  }
 ],
 "metadata": {
  "kernelspec": {
   "display_name": "Python 3",
   "language": "python",
   "name": "python3"
  },
  "language_info": {
   "codemirror_mode": {
    "name": "ipython",
    "version": 3
   },
   "file_extension": ".py",
   "mimetype": "text/x-python",
   "name": "python",
   "nbconvert_exporter": "python",
   "pygments_lexer": "ipython3",
   "version": "3.7.1"
  }
 },
 "nbformat": 4,
 "nbformat_minor": 2
}
