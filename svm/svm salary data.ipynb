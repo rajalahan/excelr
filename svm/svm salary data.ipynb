{
 "cells": [
  {
   "cell_type": "markdown",
   "metadata": {},
   "source": [
    "### Classification model using SVM for salary data( predict wether Salary person is <=50K or >50K  \n",
    "<li>SalaryData_Train.csv</li>\n",
    "<li>SalaryData_Test.csv</li>"
   ]
  },
  {
   "cell_type": "code",
   "execution_count": 1,
   "metadata": {},
   "outputs": [],
   "source": [
    "#Importing the necessary libraries\n",
    "import pandas as pd\n",
    "import numpy as np\n",
    "import seaborn as sns\n",
    "import matplotlib.pyplot as plt\n",
    "import sklearn \n",
    "%matplotlib inline\n",
    "from sklearn.model_selection import train_test_split\n",
    "from sklearn.metrics import confusion_matrix"
   ]
  },
  {
   "cell_type": "code",
   "execution_count": 2,
   "metadata": {},
   "outputs": [
    {
     "data": {
      "text/html": [
       "<div>\n",
       "<style scoped>\n",
       "    .dataframe tbody tr th:only-of-type {\n",
       "        vertical-align: middle;\n",
       "    }\n",
       "\n",
       "    .dataframe tbody tr th {\n",
       "        vertical-align: top;\n",
       "    }\n",
       "\n",
       "    .dataframe thead th {\n",
       "        text-align: right;\n",
       "    }\n",
       "</style>\n",
       "<table border=\"1\" class=\"dataframe\">\n",
       "  <thead>\n",
       "    <tr style=\"text-align: right;\">\n",
       "      <th></th>\n",
       "      <th>age</th>\n",
       "      <th>workclass</th>\n",
       "      <th>education</th>\n",
       "      <th>educationno</th>\n",
       "      <th>maritalstatus</th>\n",
       "      <th>occupation</th>\n",
       "      <th>relationship</th>\n",
       "      <th>race</th>\n",
       "      <th>sex</th>\n",
       "      <th>capitalgain</th>\n",
       "      <th>capitalloss</th>\n",
       "      <th>hoursperweek</th>\n",
       "      <th>native</th>\n",
       "      <th>Salary</th>\n",
       "    </tr>\n",
       "  </thead>\n",
       "  <tbody>\n",
       "    <tr>\n",
       "      <th>0</th>\n",
       "      <td>39</td>\n",
       "      <td>State-gov</td>\n",
       "      <td>Bachelors</td>\n",
       "      <td>13</td>\n",
       "      <td>Never-married</td>\n",
       "      <td>Adm-clerical</td>\n",
       "      <td>Not-in-family</td>\n",
       "      <td>White</td>\n",
       "      <td>Male</td>\n",
       "      <td>2174</td>\n",
       "      <td>0</td>\n",
       "      <td>40</td>\n",
       "      <td>United-States</td>\n",
       "      <td>&lt;=50K</td>\n",
       "    </tr>\n",
       "    <tr>\n",
       "      <th>1</th>\n",
       "      <td>50</td>\n",
       "      <td>Self-emp-not-inc</td>\n",
       "      <td>Bachelors</td>\n",
       "      <td>13</td>\n",
       "      <td>Married-civ-spouse</td>\n",
       "      <td>Exec-managerial</td>\n",
       "      <td>Husband</td>\n",
       "      <td>White</td>\n",
       "      <td>Male</td>\n",
       "      <td>0</td>\n",
       "      <td>0</td>\n",
       "      <td>13</td>\n",
       "      <td>United-States</td>\n",
       "      <td>&lt;=50K</td>\n",
       "    </tr>\n",
       "    <tr>\n",
       "      <th>2</th>\n",
       "      <td>38</td>\n",
       "      <td>Private</td>\n",
       "      <td>HS-grad</td>\n",
       "      <td>9</td>\n",
       "      <td>Divorced</td>\n",
       "      <td>Handlers-cleaners</td>\n",
       "      <td>Not-in-family</td>\n",
       "      <td>White</td>\n",
       "      <td>Male</td>\n",
       "      <td>0</td>\n",
       "      <td>0</td>\n",
       "      <td>40</td>\n",
       "      <td>United-States</td>\n",
       "      <td>&lt;=50K</td>\n",
       "    </tr>\n",
       "    <tr>\n",
       "      <th>3</th>\n",
       "      <td>53</td>\n",
       "      <td>Private</td>\n",
       "      <td>11th</td>\n",
       "      <td>7</td>\n",
       "      <td>Married-civ-spouse</td>\n",
       "      <td>Handlers-cleaners</td>\n",
       "      <td>Husband</td>\n",
       "      <td>Black</td>\n",
       "      <td>Male</td>\n",
       "      <td>0</td>\n",
       "      <td>0</td>\n",
       "      <td>40</td>\n",
       "      <td>United-States</td>\n",
       "      <td>&lt;=50K</td>\n",
       "    </tr>\n",
       "    <tr>\n",
       "      <th>4</th>\n",
       "      <td>28</td>\n",
       "      <td>Private</td>\n",
       "      <td>Bachelors</td>\n",
       "      <td>13</td>\n",
       "      <td>Married-civ-spouse</td>\n",
       "      <td>Prof-specialty</td>\n",
       "      <td>Wife</td>\n",
       "      <td>Black</td>\n",
       "      <td>Female</td>\n",
       "      <td>0</td>\n",
       "      <td>0</td>\n",
       "      <td>40</td>\n",
       "      <td>Cuba</td>\n",
       "      <td>&lt;=50K</td>\n",
       "    </tr>\n",
       "  </tbody>\n",
       "</table>\n",
       "</div>"
      ],
      "text/plain": [
       "   age          workclass   education  educationno        maritalstatus  \\\n",
       "0   39          State-gov   Bachelors           13        Never-married   \n",
       "1   50   Self-emp-not-inc   Bachelors           13   Married-civ-spouse   \n",
       "2   38            Private     HS-grad            9             Divorced   \n",
       "3   53            Private        11th            7   Married-civ-spouse   \n",
       "4   28            Private   Bachelors           13   Married-civ-spouse   \n",
       "\n",
       "           occupation    relationship    race      sex  capitalgain  \\\n",
       "0        Adm-clerical   Not-in-family   White     Male         2174   \n",
       "1     Exec-managerial         Husband   White     Male            0   \n",
       "2   Handlers-cleaners   Not-in-family   White     Male            0   \n",
       "3   Handlers-cleaners         Husband   Black     Male            0   \n",
       "4      Prof-specialty            Wife   Black   Female            0   \n",
       "\n",
       "   capitalloss  hoursperweek          native  Salary  \n",
       "0            0            40   United-States   <=50K  \n",
       "1            0            13   United-States   <=50K  \n",
       "2            0            40   United-States   <=50K  \n",
       "3            0            40   United-States   <=50K  \n",
       "4            0            40            Cuba   <=50K  "
      ]
     },
     "execution_count": 2,
     "metadata": {},
     "output_type": "execute_result"
    }
   ],
   "source": [
    "#Reading dataset file using pandas function & showing top 5 records\n",
    "df_before = pd.read_csv('C:\\\\Users\\\\Raja\\\\Downloads\\\\assignments\\\\svm\\\\SalaryData_Train.csv')\n",
    "df_before.head()"
   ]
  },
  {
   "cell_type": "code",
   "execution_count": 3,
   "metadata": {},
   "outputs": [
    {
     "data": {
      "text/plain": [
       " <=50K    22653\n",
       " >50K      7508\n",
       "Name: Salary, dtype: int64"
      ]
     },
     "execution_count": 3,
     "metadata": {},
     "output_type": "execute_result"
    }
   ],
   "source": [
    "#Value counts of Salary col <=50K or >50K\n",
    "df_before['Salary'].value_counts()"
   ]
  },
  {
   "cell_type": "code",
   "execution_count": 4,
   "metadata": {},
   "outputs": [
    {
     "data": {
      "text/plain": [
       "(30161, 14)"
      ]
     },
     "execution_count": 4,
     "metadata": {},
     "output_type": "execute_result"
    }
   ],
   "source": [
    "#Actual shape of dataset\n",
    "df_before.shape"
   ]
  },
  {
   "cell_type": "code",
   "execution_count": 5,
   "metadata": {},
   "outputs": [
    {
     "data": {
      "text/html": [
       "<div>\n",
       "<style scoped>\n",
       "    .dataframe tbody tr th:only-of-type {\n",
       "        vertical-align: middle;\n",
       "    }\n",
       "\n",
       "    .dataframe tbody tr th {\n",
       "        vertical-align: top;\n",
       "    }\n",
       "\n",
       "    .dataframe thead th {\n",
       "        text-align: right;\n",
       "    }\n",
       "</style>\n",
       "<table border=\"1\" class=\"dataframe\">\n",
       "  <thead>\n",
       "    <tr style=\"text-align: right;\">\n",
       "      <th></th>\n",
       "      <th>age</th>\n",
       "      <th>educationno</th>\n",
       "      <th>capitalgain</th>\n",
       "      <th>capitalloss</th>\n",
       "      <th>hoursperweek</th>\n",
       "    </tr>\n",
       "  </thead>\n",
       "  <tbody>\n",
       "    <tr>\n",
       "      <th>count</th>\n",
       "      <td>30161.000000</td>\n",
       "      <td>30161.000000</td>\n",
       "      <td>30161.000000</td>\n",
       "      <td>30161.000000</td>\n",
       "      <td>30161.000000</td>\n",
       "    </tr>\n",
       "    <tr>\n",
       "      <th>mean</th>\n",
       "      <td>38.438115</td>\n",
       "      <td>10.121316</td>\n",
       "      <td>1092.044064</td>\n",
       "      <td>88.302311</td>\n",
       "      <td>40.931269</td>\n",
       "    </tr>\n",
       "    <tr>\n",
       "      <th>std</th>\n",
       "      <td>13.134830</td>\n",
       "      <td>2.550037</td>\n",
       "      <td>7406.466611</td>\n",
       "      <td>404.121321</td>\n",
       "      <td>11.980182</td>\n",
       "    </tr>\n",
       "    <tr>\n",
       "      <th>min</th>\n",
       "      <td>17.000000</td>\n",
       "      <td>1.000000</td>\n",
       "      <td>0.000000</td>\n",
       "      <td>0.000000</td>\n",
       "      <td>1.000000</td>\n",
       "    </tr>\n",
       "    <tr>\n",
       "      <th>25%</th>\n",
       "      <td>28.000000</td>\n",
       "      <td>9.000000</td>\n",
       "      <td>0.000000</td>\n",
       "      <td>0.000000</td>\n",
       "      <td>40.000000</td>\n",
       "    </tr>\n",
       "    <tr>\n",
       "      <th>50%</th>\n",
       "      <td>37.000000</td>\n",
       "      <td>10.000000</td>\n",
       "      <td>0.000000</td>\n",
       "      <td>0.000000</td>\n",
       "      <td>40.000000</td>\n",
       "    </tr>\n",
       "    <tr>\n",
       "      <th>75%</th>\n",
       "      <td>47.000000</td>\n",
       "      <td>13.000000</td>\n",
       "      <td>0.000000</td>\n",
       "      <td>0.000000</td>\n",
       "      <td>45.000000</td>\n",
       "    </tr>\n",
       "    <tr>\n",
       "      <th>max</th>\n",
       "      <td>90.000000</td>\n",
       "      <td>16.000000</td>\n",
       "      <td>99999.000000</td>\n",
       "      <td>4356.000000</td>\n",
       "      <td>99.000000</td>\n",
       "    </tr>\n",
       "  </tbody>\n",
       "</table>\n",
       "</div>"
      ],
      "text/plain": [
       "                age   educationno   capitalgain   capitalloss  hoursperweek\n",
       "count  30161.000000  30161.000000  30161.000000  30161.000000  30161.000000\n",
       "mean      38.438115     10.121316   1092.044064     88.302311     40.931269\n",
       "std       13.134830      2.550037   7406.466611    404.121321     11.980182\n",
       "min       17.000000      1.000000      0.000000      0.000000      1.000000\n",
       "25%       28.000000      9.000000      0.000000      0.000000     40.000000\n",
       "50%       37.000000     10.000000      0.000000      0.000000     40.000000\n",
       "75%       47.000000     13.000000      0.000000      0.000000     45.000000\n",
       "max       90.000000     16.000000  99999.000000   4356.000000     99.000000"
      ]
     },
     "execution_count": 5,
     "metadata": {},
     "output_type": "execute_result"
    }
   ],
   "source": [
    "#Shows the statistiscal calculation of dataset\n",
    "df_before.describe()"
   ]
  },
  {
   "cell_type": "code",
   "execution_count": 6,
   "metadata": {},
   "outputs": [
    {
     "data": {
      "text/plain": [
       "age              0\n",
       "workclass        0\n",
       "education        0\n",
       "educationno      0\n",
       "maritalstatus    0\n",
       "occupation       0\n",
       "relationship     0\n",
       "race             0\n",
       "sex              0\n",
       "capitalgain      0\n",
       "capitalloss      0\n",
       "hoursperweek     0\n",
       "native           0\n",
       "Salary           0\n",
       "dtype: int64"
      ]
     },
     "execution_count": 6,
     "metadata": {},
     "output_type": "execute_result"
    }
   ],
   "source": [
    "#Check the null values in data\n",
    "df_before.isnull().sum()"
   ]
  },
  {
   "cell_type": "code",
   "execution_count": 7,
   "metadata": {},
   "outputs": [
    {
     "name": "stdout",
     "output_type": "stream",
     "text": [
      "<class 'pandas.core.frame.DataFrame'>\n",
      "RangeIndex: 30161 entries, 0 to 30160\n",
      "Data columns (total 14 columns):\n",
      " #   Column         Non-Null Count  Dtype \n",
      "---  ------         --------------  ----- \n",
      " 0   age            30161 non-null  int64 \n",
      " 1   workclass      30161 non-null  object\n",
      " 2   education      30161 non-null  object\n",
      " 3   educationno    30161 non-null  int64 \n",
      " 4   maritalstatus  30161 non-null  object\n",
      " 5   occupation     30161 non-null  object\n",
      " 6   relationship   30161 non-null  object\n",
      " 7   race           30161 non-null  object\n",
      " 8   sex            30161 non-null  object\n",
      " 9   capitalgain    30161 non-null  int64 \n",
      " 10  capitalloss    30161 non-null  int64 \n",
      " 11  hoursperweek   30161 non-null  int64 \n",
      " 12  native         30161 non-null  object\n",
      " 13  Salary         30161 non-null  object\n",
      "dtypes: int64(5), object(9)\n",
      "memory usage: 3.2+ MB\n"
     ]
    }
   ],
   "source": [
    "#Shows general info about dataset as Columns, Counts & Dtypes\n",
    "df_before.info()"
   ]
  },
  {
   "cell_type": "code",
   "execution_count": 8,
   "metadata": {},
   "outputs": [
    {
     "data": {
      "text/plain": [
       "array([' Bachelors', ' HS-grad', ' 11th', ' Masters', ' 9th',\n",
       "       ' Some-college', ' Assoc-acdm', ' 7th-8th', ' Doctorate',\n",
       "       ' Assoc-voc', ' Prof-school', ' 5th-6th', ' 10th', ' Preschool',\n",
       "       ' 12th', ' 1st-4th'], dtype=object)"
      ]
     },
     "execution_count": 8,
     "metadata": {},
     "output_type": "execute_result"
    }
   ],
   "source": [
    "#Unique categories inside 'education' feature \n",
    "df_before['education'].unique()"
   ]
  },
  {
   "cell_type": "code",
   "execution_count": 9,
   "metadata": {},
   "outputs": [
    {
     "data": {
      "text/plain": [
       "array([' State-gov', ' Self-emp-not-inc', ' Private', ' Federal-gov',\n",
       "       ' Local-gov', ' Self-emp-inc', ' Without-pay'], dtype=object)"
      ]
     },
     "execution_count": 9,
     "metadata": {},
     "output_type": "execute_result"
    }
   ],
   "source": [
    "#Unique categories inside 'workclass' feature \n",
    "df_before['workclass'].unique()"
   ]
  },
  {
   "cell_type": "code",
   "execution_count": 10,
   "metadata": {},
   "outputs": [
    {
     "data": {
      "text/plain": [
       "array([' Never-married', ' Married-civ-spouse', ' Divorced',\n",
       "       ' Married-spouse-absent', ' Separated', ' Married-AF-spouse',\n",
       "       ' Widowed'], dtype=object)"
      ]
     },
     "execution_count": 10,
     "metadata": {},
     "output_type": "execute_result"
    }
   ],
   "source": [
    "#Unique categories inside 'maritalstatus' feature \n",
    "df_before['maritalstatus'].unique()"
   ]
  },
  {
   "cell_type": "code",
   "execution_count": 11,
   "metadata": {},
   "outputs": [
    {
     "data": {
      "text/plain": [
       "array([' Adm-clerical', ' Exec-managerial', ' Handlers-cleaners',\n",
       "       ' Prof-specialty', ' Other-service', ' Sales', ' Transport-moving',\n",
       "       ' Farming-fishing', ' Machine-op-inspct', ' Tech-support',\n",
       "       ' Craft-repair', ' Protective-serv', ' Armed-Forces',\n",
       "       ' Priv-house-serv'], dtype=object)"
      ]
     },
     "execution_count": 11,
     "metadata": {},
     "output_type": "execute_result"
    }
   ],
   "source": [
    "#Unique categories inside 'occupation' feature \n",
    "df_before['occupation'].unique()"
   ]
  },
  {
   "cell_type": "code",
   "execution_count": 12,
   "metadata": {},
   "outputs": [
    {
     "data": {
      "text/plain": [
       "array([' Not-in-family', ' Husband', ' Wife', ' Own-child', ' Unmarried',\n",
       "       ' Other-relative'], dtype=object)"
      ]
     },
     "execution_count": 12,
     "metadata": {},
     "output_type": "execute_result"
    }
   ],
   "source": [
    "#Unique categories inside 'relationship' feature \n",
    "df_before['relationship'].unique()"
   ]
  },
  {
   "cell_type": "code",
   "execution_count": 13,
   "metadata": {},
   "outputs": [
    {
     "data": {
      "text/plain": [
       "array([' United-States', ' Cuba', ' Jamaica', ' India', ' Mexico',\n",
       "       ' Puerto-Rico', ' Honduras', ' England', ' Canada', ' Germany',\n",
       "       ' Iran', ' Philippines', ' Poland', ' Columbia', ' Cambodia',\n",
       "       ' Thailand', ' Ecuador', ' Laos', ' Taiwan', ' Haiti', ' Portugal',\n",
       "       ' Dominican-Republic', ' El-Salvador', ' France', ' Guatemala',\n",
       "       ' Italy', ' China', ' South', ' Japan', ' Yugoslavia', ' Peru',\n",
       "       ' Outlying-US(Guam-USVI-etc)', ' Scotland', ' Trinadad&Tobago',\n",
       "       ' Greece', ' Nicaragua', ' Vietnam', ' Hong', ' Ireland',\n",
       "       ' Hungary'], dtype=object)"
      ]
     },
     "execution_count": 13,
     "metadata": {},
     "output_type": "execute_result"
    }
   ],
   "source": [
    "#Unique categories inside 'native' feature \n",
    "df_before['native'].unique()"
   ]
  },
  {
   "cell_type": "markdown",
   "metadata": {},
   "source": [
    "#### Note: Above 6 features given unique categorical values & by the help of we can draw much visualizations   "
   ]
  },
  {
   "cell_type": "code",
   "execution_count": 14,
   "metadata": {},
   "outputs": [
    {
     "data": {
      "text/plain": [
       "array([[<matplotlib.axes._subplots.AxesSubplot object at 0x000001823B936D30>]],\n",
       "      dtype=object)"
      ]
     },
     "execution_count": 14,
     "metadata": {},
     "output_type": "execute_result"
    },
    {
     "data": {
      "text/plain": [
       "<Figure size 1440x72 with 0 Axes>"
      ]
     },
     "metadata": {},
     "output_type": "display_data"
    },
    {
     "data": {
      "image/png": "[encoded data removed]",
      "text/plain": [
       "<Figure size 432x288 with 1 Axes>"
      ]
     },
     "metadata": {
      "needs_background": "light"
     },
     "output_type": "display_data"
    }
   ],
   "source": [
    "#Visualization of histogram plot\n",
    "fig = plt.figure(figsize=(20,1))\n",
    "df_before.hist(column=['age'], bins = [0,25,50,75,100])"
   ]
  },
  {
   "cell_type": "markdown",
   "metadata": {},
   "source": [
    "Simple diagram shows all info about age variations of people as ex. age between 25-50 is nearly 19000. Rest can be seen clearly."
   ]
  },
  {
   "cell_type": "code",
   "execution_count": 15,
   "metadata": {},
   "outputs": [
    {
     "data": {
      "text/plain": [
       "<matplotlib.axes._subplots.AxesSubplot at 0x1823c3f34e0>"
      ]
     },
     "execution_count": 15,
     "metadata": {},
     "output_type": "execute_result"
    },
    {
     "data": {
      "image/png": "[encoded data removed]",
      "text/plain": [
       "<Figure size 1440x432 with 1 Axes>"
      ]
     },
     "metadata": {
      "needs_background": "light"
     },
     "output_type": "display_data"
    }
   ],
   "source": [
    "#Seaborn visualization of countplot \n",
    "fig = plt.figure(figsize=(20,6))\n",
    "plt.style.use('seaborn-ticks')\n",
    "sns.countplot(y=\"education\", data=df_before)"
   ]
  },
  {
   "cell_type": "markdown",
   "metadata": {},
   "source": [
    "Visualization clearly shows that: Bachelors nearly 5000 & Some-colleges nearly 6600."
   ]
  },
  {
   "cell_type": "code",
   "execution_count": 16,
   "metadata": {},
   "outputs": [
    {
     "data": {
      "text/plain": [
       "<matplotlib.axes._subplots.AxesSubplot at 0x1823b946588>"
      ]
     },
     "execution_count": 16,
     "metadata": {},
     "output_type": "execute_result"
    },
    {
     "data": {
      "image/png": "[encoded data removed]",
      "text/plain": [
       "<Figure size 1440x432 with 1 Axes>"
      ]
     },
     "metadata": {},
     "output_type": "display_data"
    }
   ],
   "source": [
    "#Seaborn visualization of countplot \n",
    "fig = plt.figure(figsize=(20,6))\n",
    "plt.style.use('seaborn-ticks')\n",
    "sns.countplot(y=\"maritalstatus\", data=df_before)"
   ]
  },
  {
   "cell_type": "markdown",
   "metadata": {},
   "source": [
    "Visualization clearly shows that: Divorced nearly 4200 & Married-spouce nearly 14000."
   ]
  },
  {
   "cell_type": "code",
   "execution_count": 17,
   "metadata": {},
   "outputs": [
    {
     "data": {
      "text/plain": [
       "<matplotlib.axes._subplots.AxesSubplot at 0x1823c5ab7b8>"
      ]
     },
     "execution_count": 17,
     "metadata": {},
     "output_type": "execute_result"
    },
    {
     "data": {
      "image/png": "[encoded data removed]",
      "text/plain": [
       "<Figure size 1440x288 with 1 Axes>"
      ]
     },
     "metadata": {},
     "output_type": "display_data"
    }
   ],
   "source": [
    "#Seaborn visualization of countplot \n",
    "plt.style.use('seaborn-ticks')\n",
    "plt.figure(figsize=(20,4)) \n",
    "sns.countplot(y=\"occupation\", data=df_before)"
   ]
  },
  {
   "cell_type": "markdown",
   "metadata": {},
   "source": [
    "Visualization clearly shows that: Craft Repair & Prof. speciality 4000 each.\n"
   ]
  },
  {
   "cell_type": "code",
   "execution_count": 18,
   "metadata": {
    "scrolled": true
   },
   "outputs": [
    {
     "data": {
      "text/plain": [
       "<matplotlib.axes._subplots.AxesSubplot at 0x1823c7f3ac8>"
      ]
     },
     "execution_count": 18,
     "metadata": {},
     "output_type": "execute_result"
    },
    {
     "data": {
      "image/png": "[encoded data removed]",
      "text/plain": [
       "<Figure size 1440x216 with 1 Axes>"
      ]
     },
     "metadata": {},
     "output_type": "display_data"
    }
   ],
   "source": [
    "#Seaborn visualization of countplot\n",
    "plt.style.use('seaborn-ticks')\n",
    "plt.figure(figsize=(20,3)) \n",
    "sns.countplot(y=\"workclass\", data=df_before)"
   ]
  },
  {
   "cell_type": "markdown",
   "metadata": {},
   "source": [
    "Graph shows that Private workers are very high compare than others."
   ]
  },
  {
   "cell_type": "code",
   "execution_count": 19,
   "metadata": {},
   "outputs": [],
   "source": [
    "# Creating a new 'income' column using existing col. 'Salary' categoring high, low =equal 50K per annum\n",
    "df_before['income'] = df_before.apply(lambda row: 1 if '>50K' in row['Salary'] else 0, axis=1)"
   ]
  },
  {
   "cell_type": "code",
   "execution_count": 20,
   "metadata": {},
   "outputs": [],
   "source": [
    "#Making the age variable discretized \n",
    "df_before['age_bin'] = pd.cut(df_before['age'], 20)"
   ]
  },
  {
   "cell_type": "code",
   "execution_count": 21,
   "metadata": {},
   "outputs": [],
   "source": [
    "#Import warnings library for not showing warnings at run time in cell.It takes spaces and shows in red color allergetic.\n",
    "import warnings\n",
    "warnings.filterwarnings('ignore')"
   ]
  },
  {
   "cell_type": "code",
   "execution_count": 22,
   "metadata": {},
   "outputs": [
    {
     "data": {
      "text/plain": [
       "<matplotlib.axes._subplots.AxesSubplot at 0x1823bd5a128>"
      ]
     },
     "execution_count": 22,
     "metadata": {},
     "output_type": "execute_result"
    },
    {
     "data": {
      "image/png": "[encoded data removed]",
      "text/plain": [
       "<Figure size 1440x360 with 2 Axes>"
      ]
     },
     "metadata": {},
     "output_type": "display_data"
    }
   ],
   "source": [
    "# Visualization of two sub-plots on the basis of age and income.\n",
    "plt.style.use('seaborn-ticks')\n",
    "fig = plt.figure(figsize=(20,5)) \n",
    "plt.subplot(1, 2, 1)\n",
    "sns.countplot(y=\"age_bin\", data=df_before)\n",
    "plt.subplot(1, 2, 2)\n",
    "sns.distplot(df_before[df_before['income'] == 1]['age'], kde_kws={\"label\": \">$50K\"})\n",
    "sns.distplot(df_before[df_before['income'] == 0]['age'], kde_kws={\"label\": \"<=$50K\"})"
   ]
  },
  {
   "cell_type": "code",
   "execution_count": 23,
   "metadata": {},
   "outputs": [
    {
     "data": {
      "text/html": [
       "<div>\n",
       "<style scoped>\n",
       "    .dataframe tbody tr th:only-of-type {\n",
       "        vertical-align: middle;\n",
       "    }\n",
       "\n",
       "    .dataframe tbody tr th {\n",
       "        vertical-align: top;\n",
       "    }\n",
       "\n",
       "    .dataframe thead th {\n",
       "        text-align: right;\n",
       "    }\n",
       "</style>\n",
       "<table border=\"1\" class=\"dataframe\">\n",
       "  <thead>\n",
       "    <tr style=\"text-align: right;\">\n",
       "      <th></th>\n",
       "      <th>Salary</th>\n",
       "      <th>age</th>\n",
       "    </tr>\n",
       "  </thead>\n",
       "  <tbody>\n",
       "    <tr>\n",
       "      <th>1</th>\n",
       "      <td>&gt;50K</td>\n",
       "      <td>43.959110</td>\n",
       "    </tr>\n",
       "    <tr>\n",
       "      <th>0</th>\n",
       "      <td>&lt;=50K</td>\n",
       "      <td>36.608264</td>\n",
       "    </tr>\n",
       "  </tbody>\n",
       "</table>\n",
       "</div>"
      ],
      "text/plain": [
       "   Salary        age\n",
       "1    >50K  43.959110\n",
       "0   <=50K  36.608264"
      ]
     },
     "execution_count": 23,
     "metadata": {},
     "output_type": "execute_result"
    }
   ],
   "source": [
    "#Grouped by Salary on basis of age\n",
    "df_before[['Salary', 'age']].groupby(['Salary'], as_index=False).mean().sort_values(by='age', ascending=False)"
   ]
  },
  {
   "cell_type": "code",
   "execution_count": 24,
   "metadata": {},
   "outputs": [
    {
     "data": {
      "image/png": "[encoded data removed]",
      "text/plain": [
       "<Figure size 1008x864 with 2 Axes>"
      ]
     },
     "metadata": {},
     "output_type": "display_data"
    }
   ],
   "source": [
    "#correlation heatmap of dataset\n",
    "def correlation_heatmap(df_before):\n",
    "    _ , ax = plt.subplots(figsize =(14, 12))\n",
    "    colormap = sns.diverging_palette(220, 10, as_cmap = True)\n",
    "    \n",
    "    _ = sns.heatmap(\n",
    "        df_before.corr(), \n",
    "        cmap = \"YlGn\",\n",
    "        square=True, \n",
    "        cbar_kws={'shrink':.9 }, \n",
    "        ax=ax,\n",
    "        annot=True, \n",
    "        linewidths=0.1,vmax=1.0, linecolor='white',\n",
    "        annot_kws={'fontsize':12 }\n",
    "    )\n",
    "    \n",
    "    plt.title('Pearson Correlation of Features', y=1.05, size=15)\n",
    "\n",
    "correlation_heatmap(df_before)"
   ]
  },
  {
   "cell_type": "markdown",
   "metadata": {},
   "source": [
    "Correlation heatmap color shows that (income-educationno-age) highly correlated "
   ]
  },
  {
   "cell_type": "code",
   "execution_count": 25,
   "metadata": {},
   "outputs": [],
   "source": [
    "#Droping unnecessary col.'Salary','capitalgain','capitalloss'\n",
    "df_before.drop(['Salary','capitalgain','capitalloss'], axis=1, inplace=True)"
   ]
  },
  {
   "cell_type": "code",
   "execution_count": 26,
   "metadata": {},
   "outputs": [],
   "source": [
    "# Getting dummies variables for categorical data's features\n",
    "df_after= pd.get_dummies(df_before,columns=['sex','age_bin','workclass','education','occupation','relationship','race','native','maritalstatus'], drop_first=True)"
   ]
  },
  {
   "cell_type": "code",
   "execution_count": 27,
   "metadata": {},
   "outputs": [
    {
     "data": {
      "text/html": [
       "<div>\n",
       "<style scoped>\n",
       "    .dataframe tbody tr th:only-of-type {\n",
       "        vertical-align: middle;\n",
       "    }\n",
       "\n",
       "    .dataframe tbody tr th {\n",
       "        vertical-align: top;\n",
       "    }\n",
       "\n",
       "    .dataframe thead th {\n",
       "        text-align: right;\n",
       "    }\n",
       "</style>\n",
       "<table border=\"1\" class=\"dataframe\">\n",
       "  <thead>\n",
       "    <tr style=\"text-align: right;\">\n",
       "      <th></th>\n",
       "      <th>age</th>\n",
       "      <th>educationno</th>\n",
       "      <th>hoursperweek</th>\n",
       "      <th>income</th>\n",
       "      <th>sex_ Male</th>\n",
       "      <th>age_bin_(20.65, 24.3]</th>\n",
       "      <th>age_bin_(24.3, 27.95]</th>\n",
       "      <th>age_bin_(27.95, 31.6]</th>\n",
       "      <th>age_bin_(31.6, 35.25]</th>\n",
       "      <th>age_bin_(35.25, 38.9]</th>\n",
       "      <th>...</th>\n",
       "      <th>native_ Trinadad&amp;Tobago</th>\n",
       "      <th>native_ United-States</th>\n",
       "      <th>native_ Vietnam</th>\n",
       "      <th>native_ Yugoslavia</th>\n",
       "      <th>maritalstatus_ Married-AF-spouse</th>\n",
       "      <th>maritalstatus_ Married-civ-spouse</th>\n",
       "      <th>maritalstatus_ Married-spouse-absent</th>\n",
       "      <th>maritalstatus_ Never-married</th>\n",
       "      <th>maritalstatus_ Separated</th>\n",
       "      <th>maritalstatus_ Widowed</th>\n",
       "    </tr>\n",
       "  </thead>\n",
       "  <tbody>\n",
       "    <tr>\n",
       "      <th>0</th>\n",
       "      <td>39</td>\n",
       "      <td>13</td>\n",
       "      <td>40</td>\n",
       "      <td>0</td>\n",
       "      <td>1</td>\n",
       "      <td>0</td>\n",
       "      <td>0</td>\n",
       "      <td>0</td>\n",
       "      <td>0</td>\n",
       "      <td>0</td>\n",
       "      <td>...</td>\n",
       "      <td>0</td>\n",
       "      <td>1</td>\n",
       "      <td>0</td>\n",
       "      <td>0</td>\n",
       "      <td>0</td>\n",
       "      <td>0</td>\n",
       "      <td>0</td>\n",
       "      <td>1</td>\n",
       "      <td>0</td>\n",
       "      <td>0</td>\n",
       "    </tr>\n",
       "    <tr>\n",
       "      <th>1</th>\n",
       "      <td>50</td>\n",
       "      <td>13</td>\n",
       "      <td>13</td>\n",
       "      <td>0</td>\n",
       "      <td>1</td>\n",
       "      <td>0</td>\n",
       "      <td>0</td>\n",
       "      <td>0</td>\n",
       "      <td>0</td>\n",
       "      <td>0</td>\n",
       "      <td>...</td>\n",
       "      <td>0</td>\n",
       "      <td>1</td>\n",
       "      <td>0</td>\n",
       "      <td>0</td>\n",
       "      <td>0</td>\n",
       "      <td>1</td>\n",
       "      <td>0</td>\n",
       "      <td>0</td>\n",
       "      <td>0</td>\n",
       "      <td>0</td>\n",
       "    </tr>\n",
       "    <tr>\n",
       "      <th>2</th>\n",
       "      <td>38</td>\n",
       "      <td>9</td>\n",
       "      <td>40</td>\n",
       "      <td>0</td>\n",
       "      <td>1</td>\n",
       "      <td>0</td>\n",
       "      <td>0</td>\n",
       "      <td>0</td>\n",
       "      <td>0</td>\n",
       "      <td>1</td>\n",
       "      <td>...</td>\n",
       "      <td>0</td>\n",
       "      <td>1</td>\n",
       "      <td>0</td>\n",
       "      <td>0</td>\n",
       "      <td>0</td>\n",
       "      <td>0</td>\n",
       "      <td>0</td>\n",
       "      <td>0</td>\n",
       "      <td>0</td>\n",
       "      <td>0</td>\n",
       "    </tr>\n",
       "    <tr>\n",
       "      <th>3</th>\n",
       "      <td>53</td>\n",
       "      <td>7</td>\n",
       "      <td>40</td>\n",
       "      <td>0</td>\n",
       "      <td>1</td>\n",
       "      <td>0</td>\n",
       "      <td>0</td>\n",
       "      <td>0</td>\n",
       "      <td>0</td>\n",
       "      <td>0</td>\n",
       "      <td>...</td>\n",
       "      <td>0</td>\n",
       "      <td>1</td>\n",
       "      <td>0</td>\n",
       "      <td>0</td>\n",
       "      <td>0</td>\n",
       "      <td>1</td>\n",
       "      <td>0</td>\n",
       "      <td>0</td>\n",
       "      <td>0</td>\n",
       "      <td>0</td>\n",
       "    </tr>\n",
       "    <tr>\n",
       "      <th>4</th>\n",
       "      <td>28</td>\n",
       "      <td>13</td>\n",
       "      <td>40</td>\n",
       "      <td>0</td>\n",
       "      <td>0</td>\n",
       "      <td>0</td>\n",
       "      <td>0</td>\n",
       "      <td>1</td>\n",
       "      <td>0</td>\n",
       "      <td>0</td>\n",
       "      <td>...</td>\n",
       "      <td>0</td>\n",
       "      <td>0</td>\n",
       "      <td>0</td>\n",
       "      <td>0</td>\n",
       "      <td>0</td>\n",
       "      <td>1</td>\n",
       "      <td>0</td>\n",
       "      <td>0</td>\n",
       "      <td>0</td>\n",
       "      <td>0</td>\n",
       "    </tr>\n",
       "    <tr>\n",
       "      <th>5</th>\n",
       "      <td>37</td>\n",
       "      <td>14</td>\n",
       "      <td>40</td>\n",
       "      <td>0</td>\n",
       "      <td>0</td>\n",
       "      <td>0</td>\n",
       "      <td>0</td>\n",
       "      <td>0</td>\n",
       "      <td>0</td>\n",
       "      <td>1</td>\n",
       "      <td>...</td>\n",
       "      <td>0</td>\n",
       "      <td>1</td>\n",
       "      <td>0</td>\n",
       "      <td>0</td>\n",
       "      <td>0</td>\n",
       "      <td>1</td>\n",
       "      <td>0</td>\n",
       "      <td>0</td>\n",
       "      <td>0</td>\n",
       "      <td>0</td>\n",
       "    </tr>\n",
       "    <tr>\n",
       "      <th>6</th>\n",
       "      <td>49</td>\n",
       "      <td>5</td>\n",
       "      <td>16</td>\n",
       "      <td>0</td>\n",
       "      <td>0</td>\n",
       "      <td>0</td>\n",
       "      <td>0</td>\n",
       "      <td>0</td>\n",
       "      <td>0</td>\n",
       "      <td>0</td>\n",
       "      <td>...</td>\n",
       "      <td>0</td>\n",
       "      <td>0</td>\n",
       "      <td>0</td>\n",
       "      <td>0</td>\n",
       "      <td>0</td>\n",
       "      <td>0</td>\n",
       "      <td>1</td>\n",
       "      <td>0</td>\n",
       "      <td>0</td>\n",
       "      <td>0</td>\n",
       "    </tr>\n",
       "    <tr>\n",
       "      <th>7</th>\n",
       "      <td>52</td>\n",
       "      <td>9</td>\n",
       "      <td>45</td>\n",
       "      <td>1</td>\n",
       "      <td>1</td>\n",
       "      <td>0</td>\n",
       "      <td>0</td>\n",
       "      <td>0</td>\n",
       "      <td>0</td>\n",
       "      <td>0</td>\n",
       "      <td>...</td>\n",
       "      <td>0</td>\n",
       "      <td>1</td>\n",
       "      <td>0</td>\n",
       "      <td>0</td>\n",
       "      <td>0</td>\n",
       "      <td>1</td>\n",
       "      <td>0</td>\n",
       "      <td>0</td>\n",
       "      <td>0</td>\n",
       "      <td>0</td>\n",
       "    </tr>\n",
       "    <tr>\n",
       "      <th>8</th>\n",
       "      <td>31</td>\n",
       "      <td>14</td>\n",
       "      <td>50</td>\n",
       "      <td>1</td>\n",
       "      <td>0</td>\n",
       "      <td>0</td>\n",
       "      <td>0</td>\n",
       "      <td>1</td>\n",
       "      <td>0</td>\n",
       "      <td>0</td>\n",
       "      <td>...</td>\n",
       "      <td>0</td>\n",
       "      <td>1</td>\n",
       "      <td>0</td>\n",
       "      <td>0</td>\n",
       "      <td>0</td>\n",
       "      <td>0</td>\n",
       "      <td>0</td>\n",
       "      <td>1</td>\n",
       "      <td>0</td>\n",
       "      <td>0</td>\n",
       "    </tr>\n",
       "    <tr>\n",
       "      <th>9</th>\n",
       "      <td>42</td>\n",
       "      <td>13</td>\n",
       "      <td>40</td>\n",
       "      <td>1</td>\n",
       "      <td>1</td>\n",
       "      <td>0</td>\n",
       "      <td>0</td>\n",
       "      <td>0</td>\n",
       "      <td>0</td>\n",
       "      <td>0</td>\n",
       "      <td>...</td>\n",
       "      <td>0</td>\n",
       "      <td>1</td>\n",
       "      <td>0</td>\n",
       "      <td>0</td>\n",
       "      <td>0</td>\n",
       "      <td>1</td>\n",
       "      <td>0</td>\n",
       "      <td>0</td>\n",
       "      <td>0</td>\n",
       "      <td>0</td>\n",
       "    </tr>\n",
       "  </tbody>\n",
       "</table>\n",
       "<p>10 rows × 112 columns</p>\n",
       "</div>"
      ],
      "text/plain": [
       "   age  educationno  hoursperweek  income  sex_ Male  age_bin_(20.65, 24.3]  \\\n",
       "0   39           13            40       0          1                      0   \n",
       "1   50           13            13       0          1                      0   \n",
       "2   38            9            40       0          1                      0   \n",
       "3   53            7            40       0          1                      0   \n",
       "4   28           13            40       0          0                      0   \n",
       "5   37           14            40       0          0                      0   \n",
       "6   49            5            16       0          0                      0   \n",
       "7   52            9            45       1          1                      0   \n",
       "8   31           14            50       1          0                      0   \n",
       "9   42           13            40       1          1                      0   \n",
       "\n",
       "   age_bin_(24.3, 27.95]  age_bin_(27.95, 31.6]  age_bin_(31.6, 35.25]  \\\n",
       "0                      0                      0                      0   \n",
       "1                      0                      0                      0   \n",
       "2                      0                      0                      0   \n",
       "3                      0                      0                      0   \n",
       "4                      0                      1                      0   \n",
       "5                      0                      0                      0   \n",
       "6                      0                      0                      0   \n",
       "7                      0                      0                      0   \n",
       "8                      0                      1                      0   \n",
       "9                      0                      0                      0   \n",
       "\n",
       "   age_bin_(35.25, 38.9]  ...  native_ Trinadad&Tobago  native_ United-States  \\\n",
       "0                      0  ...                        0                      1   \n",
       "1                      0  ...                        0                      1   \n",
       "2                      1  ...                        0                      1   \n",
       "3                      0  ...                        0                      1   \n",
       "4                      0  ...                        0                      0   \n",
       "5                      1  ...                        0                      1   \n",
       "6                      0  ...                        0                      0   \n",
       "7                      0  ...                        0                      1   \n",
       "8                      0  ...                        0                      1   \n",
       "9                      0  ...                        0                      1   \n",
       "\n",
       "   native_ Vietnam  native_ Yugoslavia  maritalstatus_ Married-AF-spouse  \\\n",
       "0                0                   0                                 0   \n",
       "1                0                   0                                 0   \n",
       "2                0                   0                                 0   \n",
       "3                0                   0                                 0   \n",
       "4                0                   0                                 0   \n",
       "5                0                   0                                 0   \n",
       "6                0                   0                                 0   \n",
       "7                0                   0                                 0   \n",
       "8                0                   0                                 0   \n",
       "9                0                   0                                 0   \n",
       "\n",
       "   maritalstatus_ Married-civ-spouse  maritalstatus_ Married-spouse-absent  \\\n",
       "0                                  0                                     0   \n",
       "1                                  1                                     0   \n",
       "2                                  0                                     0   \n",
       "3                                  1                                     0   \n",
       "4                                  1                                     0   \n",
       "5                                  1                                     0   \n",
       "6                                  0                                     1   \n",
       "7                                  1                                     0   \n",
       "8                                  0                                     0   \n",
       "9                                  1                                     0   \n",
       "\n",
       "   maritalstatus_ Never-married  maritalstatus_ Separated  \\\n",
       "0                             1                         0   \n",
       "1                             0                         0   \n",
       "2                             0                         0   \n",
       "3                             0                         0   \n",
       "4                             0                         0   \n",
       "5                             0                         0   \n",
       "6                             0                         0   \n",
       "7                             0                         0   \n",
       "8                             1                         0   \n",
       "9                             0                         0   \n",
       "\n",
       "   maritalstatus_ Widowed  \n",
       "0                       0  \n",
       "1                       0  \n",
       "2                       0  \n",
       "3                       0  \n",
       "4                       0  \n",
       "5                       0  \n",
       "6                       0  \n",
       "7                       0  \n",
       "8                       0  \n",
       "9                       0  \n",
       "\n",
       "[10 rows x 112 columns]"
      ]
     },
     "execution_count": 27,
     "metadata": {},
     "output_type": "execute_result"
    }
   ],
   "source": [
    "#Showing top 5 records\n",
    "df_after.head(10)"
   ]
  },
  {
   "cell_type": "code",
   "execution_count": 28,
   "metadata": {},
   "outputs": [],
   "source": [
    "# Using Normalization function \n",
    "def norm_func(i):\n",
    "    x = (i-i.min())/(i.max()-i.min())\n",
    "    return (x)"
   ]
  },
  {
   "cell_type": "code",
   "execution_count": 29,
   "metadata": {},
   "outputs": [
    {
     "data": {
      "text/html": [
       "<div>\n",
       "<style scoped>\n",
       "    .dataframe tbody tr th:only-of-type {\n",
       "        vertical-align: middle;\n",
       "    }\n",
       "\n",
       "    .dataframe tbody tr th {\n",
       "        vertical-align: top;\n",
       "    }\n",
       "\n",
       "    .dataframe thead th {\n",
       "        text-align: right;\n",
       "    }\n",
       "</style>\n",
       "<table border=\"1\" class=\"dataframe\">\n",
       "  <thead>\n",
       "    <tr style=\"text-align: right;\">\n",
       "      <th></th>\n",
       "      <th>educationno</th>\n",
       "      <th>hoursperweek</th>\n",
       "      <th>income</th>\n",
       "      <th>sex_ Male</th>\n",
       "      <th>age_bin_(20.65, 24.3]</th>\n",
       "      <th>age_bin_(24.3, 27.95]</th>\n",
       "      <th>age_bin_(27.95, 31.6]</th>\n",
       "      <th>age_bin_(31.6, 35.25]</th>\n",
       "      <th>age_bin_(35.25, 38.9]</th>\n",
       "      <th>age_bin_(38.9, 42.55]</th>\n",
       "      <th>...</th>\n",
       "      <th>native_ Trinadad&amp;Tobago</th>\n",
       "      <th>native_ United-States</th>\n",
       "      <th>native_ Vietnam</th>\n",
       "      <th>native_ Yugoslavia</th>\n",
       "      <th>maritalstatus_ Married-AF-spouse</th>\n",
       "      <th>maritalstatus_ Married-civ-spouse</th>\n",
       "      <th>maritalstatus_ Married-spouse-absent</th>\n",
       "      <th>maritalstatus_ Never-married</th>\n",
       "      <th>maritalstatus_ Separated</th>\n",
       "      <th>maritalstatus_ Widowed</th>\n",
       "    </tr>\n",
       "  </thead>\n",
       "  <tbody>\n",
       "    <tr>\n",
       "      <th>30151</th>\n",
       "      <td>0.333333</td>\n",
       "      <td>0.397959</td>\n",
       "      <td>0.0</td>\n",
       "      <td>1.0</td>\n",
       "      <td>0.0</td>\n",
       "      <td>0.0</td>\n",
       "      <td>0.0</td>\n",
       "      <td>1.0</td>\n",
       "      <td>0.0</td>\n",
       "      <td>0.0</td>\n",
       "      <td>...</td>\n",
       "      <td>0.0</td>\n",
       "      <td>1.0</td>\n",
       "      <td>0.0</td>\n",
       "      <td>0.0</td>\n",
       "      <td>0.0</td>\n",
       "      <td>1.0</td>\n",
       "      <td>0.0</td>\n",
       "      <td>0.0</td>\n",
       "      <td>0.0</td>\n",
       "      <td>0.0</td>\n",
       "    </tr>\n",
       "    <tr>\n",
       "      <th>30152</th>\n",
       "      <td>0.666667</td>\n",
       "      <td>0.448980</td>\n",
       "      <td>0.0</td>\n",
       "      <td>1.0</td>\n",
       "      <td>0.0</td>\n",
       "      <td>0.0</td>\n",
       "      <td>0.0</td>\n",
       "      <td>0.0</td>\n",
       "      <td>0.0</td>\n",
       "      <td>0.0</td>\n",
       "      <td>...</td>\n",
       "      <td>0.0</td>\n",
       "      <td>1.0</td>\n",
       "      <td>0.0</td>\n",
       "      <td>0.0</td>\n",
       "      <td>0.0</td>\n",
       "      <td>1.0</td>\n",
       "      <td>0.0</td>\n",
       "      <td>0.0</td>\n",
       "      <td>0.0</td>\n",
       "      <td>0.0</td>\n",
       "    </tr>\n",
       "    <tr>\n",
       "      <th>30153</th>\n",
       "      <td>0.866667</td>\n",
       "      <td>0.102041</td>\n",
       "      <td>0.0</td>\n",
       "      <td>1.0</td>\n",
       "      <td>0.0</td>\n",
       "      <td>0.0</td>\n",
       "      <td>0.0</td>\n",
       "      <td>1.0</td>\n",
       "      <td>0.0</td>\n",
       "      <td>0.0</td>\n",
       "      <td>...</td>\n",
       "      <td>0.0</td>\n",
       "      <td>0.0</td>\n",
       "      <td>0.0</td>\n",
       "      <td>0.0</td>\n",
       "      <td>0.0</td>\n",
       "      <td>0.0</td>\n",
       "      <td>0.0</td>\n",
       "      <td>1.0</td>\n",
       "      <td>0.0</td>\n",
       "      <td>0.0</td>\n",
       "    </tr>\n",
       "    <tr>\n",
       "      <th>30154</th>\n",
       "      <td>0.866667</td>\n",
       "      <td>0.397959</td>\n",
       "      <td>1.0</td>\n",
       "      <td>1.0</td>\n",
       "      <td>0.0</td>\n",
       "      <td>0.0</td>\n",
       "      <td>0.0</td>\n",
       "      <td>0.0</td>\n",
       "      <td>0.0</td>\n",
       "      <td>0.0</td>\n",
       "      <td>...</td>\n",
       "      <td>0.0</td>\n",
       "      <td>1.0</td>\n",
       "      <td>0.0</td>\n",
       "      <td>0.0</td>\n",
       "      <td>0.0</td>\n",
       "      <td>1.0</td>\n",
       "      <td>0.0</td>\n",
       "      <td>0.0</td>\n",
       "      <td>0.0</td>\n",
       "      <td>0.0</td>\n",
       "    </tr>\n",
       "    <tr>\n",
       "      <th>30155</th>\n",
       "      <td>0.600000</td>\n",
       "      <td>0.397959</td>\n",
       "      <td>0.0</td>\n",
       "      <td>1.0</td>\n",
       "      <td>1.0</td>\n",
       "      <td>0.0</td>\n",
       "      <td>0.0</td>\n",
       "      <td>0.0</td>\n",
       "      <td>0.0</td>\n",
       "      <td>0.0</td>\n",
       "      <td>...</td>\n",
       "      <td>0.0</td>\n",
       "      <td>1.0</td>\n",
       "      <td>0.0</td>\n",
       "      <td>0.0</td>\n",
       "      <td>0.0</td>\n",
       "      <td>0.0</td>\n",
       "      <td>0.0</td>\n",
       "      <td>1.0</td>\n",
       "      <td>0.0</td>\n",
       "      <td>0.0</td>\n",
       "    </tr>\n",
       "    <tr>\n",
       "      <th>30156</th>\n",
       "      <td>0.733333</td>\n",
       "      <td>0.377551</td>\n",
       "      <td>0.0</td>\n",
       "      <td>0.0</td>\n",
       "      <td>0.0</td>\n",
       "      <td>1.0</td>\n",
       "      <td>0.0</td>\n",
       "      <td>0.0</td>\n",
       "      <td>0.0</td>\n",
       "      <td>0.0</td>\n",
       "      <td>...</td>\n",
       "      <td>0.0</td>\n",
       "      <td>1.0</td>\n",
       "      <td>0.0</td>\n",
       "      <td>0.0</td>\n",
       "      <td>0.0</td>\n",
       "      <td>1.0</td>\n",
       "      <td>0.0</td>\n",
       "      <td>0.0</td>\n",
       "      <td>0.0</td>\n",
       "      <td>0.0</td>\n",
       "    </tr>\n",
       "    <tr>\n",
       "      <th>30157</th>\n",
       "      <td>0.533333</td>\n",
       "      <td>0.397959</td>\n",
       "      <td>1.0</td>\n",
       "      <td>1.0</td>\n",
       "      <td>0.0</td>\n",
       "      <td>0.0</td>\n",
       "      <td>0.0</td>\n",
       "      <td>0.0</td>\n",
       "      <td>0.0</td>\n",
       "      <td>1.0</td>\n",
       "      <td>...</td>\n",
       "      <td>0.0</td>\n",
       "      <td>1.0</td>\n",
       "      <td>0.0</td>\n",
       "      <td>0.0</td>\n",
       "      <td>0.0</td>\n",
       "      <td>1.0</td>\n",
       "      <td>0.0</td>\n",
       "      <td>0.0</td>\n",
       "      <td>0.0</td>\n",
       "      <td>0.0</td>\n",
       "    </tr>\n",
       "    <tr>\n",
       "      <th>30158</th>\n",
       "      <td>0.533333</td>\n",
       "      <td>0.397959</td>\n",
       "      <td>0.0</td>\n",
       "      <td>0.0</td>\n",
       "      <td>0.0</td>\n",
       "      <td>0.0</td>\n",
       "      <td>0.0</td>\n",
       "      <td>0.0</td>\n",
       "      <td>0.0</td>\n",
       "      <td>0.0</td>\n",
       "      <td>...</td>\n",
       "      <td>0.0</td>\n",
       "      <td>1.0</td>\n",
       "      <td>0.0</td>\n",
       "      <td>0.0</td>\n",
       "      <td>0.0</td>\n",
       "      <td>0.0</td>\n",
       "      <td>0.0</td>\n",
       "      <td>0.0</td>\n",
       "      <td>0.0</td>\n",
       "      <td>1.0</td>\n",
       "    </tr>\n",
       "    <tr>\n",
       "      <th>30159</th>\n",
       "      <td>0.533333</td>\n",
       "      <td>0.193878</td>\n",
       "      <td>0.0</td>\n",
       "      <td>1.0</td>\n",
       "      <td>1.0</td>\n",
       "      <td>0.0</td>\n",
       "      <td>0.0</td>\n",
       "      <td>0.0</td>\n",
       "      <td>0.0</td>\n",
       "      <td>0.0</td>\n",
       "      <td>...</td>\n",
       "      <td>0.0</td>\n",
       "      <td>1.0</td>\n",
       "      <td>0.0</td>\n",
       "      <td>0.0</td>\n",
       "      <td>0.0</td>\n",
       "      <td>0.0</td>\n",
       "      <td>0.0</td>\n",
       "      <td>1.0</td>\n",
       "      <td>0.0</td>\n",
       "      <td>0.0</td>\n",
       "    </tr>\n",
       "    <tr>\n",
       "      <th>30160</th>\n",
       "      <td>0.533333</td>\n",
       "      <td>0.397959</td>\n",
       "      <td>1.0</td>\n",
       "      <td>0.0</td>\n",
       "      <td>0.0</td>\n",
       "      <td>0.0</td>\n",
       "      <td>0.0</td>\n",
       "      <td>0.0</td>\n",
       "      <td>0.0</td>\n",
       "      <td>0.0</td>\n",
       "      <td>...</td>\n",
       "      <td>0.0</td>\n",
       "      <td>1.0</td>\n",
       "      <td>0.0</td>\n",
       "      <td>0.0</td>\n",
       "      <td>0.0</td>\n",
       "      <td>1.0</td>\n",
       "      <td>0.0</td>\n",
       "      <td>0.0</td>\n",
       "      <td>0.0</td>\n",
       "      <td>0.0</td>\n",
       "    </tr>\n",
       "  </tbody>\n",
       "</table>\n",
       "<p>10 rows × 111 columns</p>\n",
       "</div>"
      ],
      "text/plain": [
       "       educationno  hoursperweek  income  sex_ Male  age_bin_(20.65, 24.3]  \\\n",
       "30151     0.333333      0.397959     0.0        1.0                    0.0   \n",
       "30152     0.666667      0.448980     0.0        1.0                    0.0   \n",
       "30153     0.866667      0.102041     0.0        1.0                    0.0   \n",
       "30154     0.866667      0.397959     1.0        1.0                    0.0   \n",
       "30155     0.600000      0.397959     0.0        1.0                    1.0   \n",
       "30156     0.733333      0.377551     0.0        0.0                    0.0   \n",
       "30157     0.533333      0.397959     1.0        1.0                    0.0   \n",
       "30158     0.533333      0.397959     0.0        0.0                    0.0   \n",
       "30159     0.533333      0.193878     0.0        1.0                    1.0   \n",
       "30160     0.533333      0.397959     1.0        0.0                    0.0   \n",
       "\n",
       "       age_bin_(24.3, 27.95]  age_bin_(27.95, 31.6]  age_bin_(31.6, 35.25]  \\\n",
       "30151                    0.0                    0.0                    1.0   \n",
       "30152                    0.0                    0.0                    0.0   \n",
       "30153                    0.0                    0.0                    1.0   \n",
       "30154                    0.0                    0.0                    0.0   \n",
       "30155                    0.0                    0.0                    0.0   \n",
       "30156                    1.0                    0.0                    0.0   \n",
       "30157                    0.0                    0.0                    0.0   \n",
       "30158                    0.0                    0.0                    0.0   \n",
       "30159                    0.0                    0.0                    0.0   \n",
       "30160                    0.0                    0.0                    0.0   \n",
       "\n",
       "       age_bin_(35.25, 38.9]  age_bin_(38.9, 42.55]  ...  \\\n",
       "30151                    0.0                    0.0  ...   \n",
       "30152                    0.0                    0.0  ...   \n",
       "30153                    0.0                    0.0  ...   \n",
       "30154                    0.0                    0.0  ...   \n",
       "30155                    0.0                    0.0  ...   \n",
       "30156                    0.0                    0.0  ...   \n",
       "30157                    0.0                    1.0  ...   \n",
       "30158                    0.0                    0.0  ...   \n",
       "30159                    0.0                    0.0  ...   \n",
       "30160                    0.0                    0.0  ...   \n",
       "\n",
       "       native_ Trinadad&Tobago  native_ United-States  native_ Vietnam  \\\n",
       "30151                      0.0                    1.0              0.0   \n",
       "30152                      0.0                    1.0              0.0   \n",
       "30153                      0.0                    0.0              0.0   \n",
       "30154                      0.0                    1.0              0.0   \n",
       "30155                      0.0                    1.0              0.0   \n",
       "30156                      0.0                    1.0              0.0   \n",
       "30157                      0.0                    1.0              0.0   \n",
       "30158                      0.0                    1.0              0.0   \n",
       "30159                      0.0                    1.0              0.0   \n",
       "30160                      0.0                    1.0              0.0   \n",
       "\n",
       "       native_ Yugoslavia  maritalstatus_ Married-AF-spouse  \\\n",
       "30151                 0.0                               0.0   \n",
       "30152                 0.0                               0.0   \n",
       "30153                 0.0                               0.0   \n",
       "30154                 0.0                               0.0   \n",
       "30155                 0.0                               0.0   \n",
       "30156                 0.0                               0.0   \n",
       "30157                 0.0                               0.0   \n",
       "30158                 0.0                               0.0   \n",
       "30159                 0.0                               0.0   \n",
       "30160                 0.0                               0.0   \n",
       "\n",
       "       maritalstatus_ Married-civ-spouse  \\\n",
       "30151                                1.0   \n",
       "30152                                1.0   \n",
       "30153                                0.0   \n",
       "30154                                1.0   \n",
       "30155                                0.0   \n",
       "30156                                1.0   \n",
       "30157                                1.0   \n",
       "30158                                0.0   \n",
       "30159                                0.0   \n",
       "30160                                1.0   \n",
       "\n",
       "       maritalstatus_ Married-spouse-absent  maritalstatus_ Never-married  \\\n",
       "30151                                   0.0                           0.0   \n",
       "30152                                   0.0                           0.0   \n",
       "30153                                   0.0                           1.0   \n",
       "30154                                   0.0                           0.0   \n",
       "30155                                   0.0                           1.0   \n",
       "30156                                   0.0                           0.0   \n",
       "30157                                   0.0                           0.0   \n",
       "30158                                   0.0                           0.0   \n",
       "30159                                   0.0                           1.0   \n",
       "30160                                   0.0                           0.0   \n",
       "\n",
       "       maritalstatus_ Separated  maritalstatus_ Widowed  \n",
       "30151                       0.0                     0.0  \n",
       "30152                       0.0                     0.0  \n",
       "30153                       0.0                     0.0  \n",
       "30154                       0.0                     0.0  \n",
       "30155                       0.0                     0.0  \n",
       "30156                       0.0                     0.0  \n",
       "30157                       0.0                     0.0  \n",
       "30158                       0.0                     1.0  \n",
       "30159                       0.0                     0.0  \n",
       "30160                       0.0                     0.0  \n",
       "\n",
       "[10 rows x 111 columns]"
      ]
     },
     "execution_count": 29,
     "metadata": {},
     "output_type": "execute_result"
    }
   ],
   "source": [
    "# Normalized data frame (considering the numerical part of data)\n",
    "df_norm = norm_func(df_after.iloc[:,1:])\n",
    "df_norm.tail(10)"
   ]
  },
  {
   "cell_type": "code",
   "execution_count": 30,
   "metadata": {},
   "outputs": [],
   "source": [
    "#feature_col=data.drop(['income'],axis=1)\n",
    "#output_target=['income']\n",
    "X = df_after.drop(['income'],axis=1)\n",
    "Y = df_after['income']"
   ]
  },
  {
   "cell_type": "code",
   "execution_count": 31,
   "metadata": {},
   "outputs": [],
   "source": [
    "#Splitting data set into followings using train_test_split functions, test size is 20%\n",
    "Xtrain, Xtest , ytrain, ytest = train_test_split(X,Y,test_size=0.2, random_state=0)"
   ]
  },
  {
   "cell_type": "code",
   "execution_count": 32,
   "metadata": {},
   "outputs": [],
   "source": [
    "#Performing preprocessing part \n",
    "from sklearn.preprocessing import StandardScaler \n",
    "sc = StandardScaler() \n",
    "  \n",
    "Xtrain = sc.fit_transform(Xtrain) \n",
    "Xtest = sc.transform(Xtest) "
   ]
  },
  {
   "cell_type": "code",
   "execution_count": 33,
   "metadata": {},
   "outputs": [],
   "source": [
    "# Applying PCA function on training \n",
    "# and testing set of X component \n",
    "from sklearn.decomposition import PCA \n",
    "  \n",
    "pca = PCA(n_components = 5) \n",
    "  \n",
    "Xtrain = pca.fit_transform(Xtrain) \n",
    "Xtest = pca.transform(Xtest) \n",
    "  \n",
    "explained_variance = pca.explained_variance_ratio_ "
   ]
  },
  {
   "cell_type": "code",
   "execution_count": 34,
   "metadata": {},
   "outputs": [],
   "source": [
    "#Importing SVM libraries \n",
    "from sklearn.svm import SVC "
   ]
  },
  {
   "cell_type": "code",
   "execution_count": 35,
   "metadata": {},
   "outputs": [
    {
     "data": {
      "text/plain": [
       "array([0, 0, 0, ..., 0, 0, 0], dtype=int64)"
      ]
     },
     "execution_count": 35,
     "metadata": {},
     "output_type": "execute_result"
    }
   ],
   "source": [
    "# Create SVM classification object \n",
    "# Using kernal='linear', 'poly', 'rbf', 'sigmoid', 'precomputed'\n",
    "model_linear = SVC(kernel = \"linear\")\n",
    "model_linear.fit(Xtrain,ytrain)\n",
    "pred_test_linear = model_linear.predict(Xtest)\n",
    "pred_test_linear\n"
   ]
  },
  {
   "cell_type": "code",
   "execution_count": 36,
   "metadata": {},
   "outputs": [
    {
     "data": {
      "text/plain": [
       "0.8186640145864412"
      ]
     },
     "execution_count": 36,
     "metadata": {},
     "output_type": "execute_result"
    }
   ],
   "source": [
    "np.mean(pred_test_linear==ytest)"
   ]
  },
  {
   "cell_type": "code",
   "execution_count": 37,
   "metadata": {},
   "outputs": [
    {
     "data": {
      "text/plain": [
       "array([0, 0, 0, ..., 0, 0, 0], dtype=int64)"
      ]
     },
     "execution_count": 37,
     "metadata": {},
     "output_type": "execute_result"
    }
   ],
   "source": [
    "#kernal='poly'\n",
    "model_linear = SVC(kernel = \"poly\")\n",
    "model_linear.fit(Xtrain,ytrain)\n",
    "pred_test_linear = model_linear.predict(Xtest)\n",
    "pred_test_linear"
   ]
  },
  {
   "cell_type": "code",
   "execution_count": 38,
   "metadata": {},
   "outputs": [
    {
     "data": {
      "text/plain": [
       "0.8141886292060335"
      ]
     },
     "execution_count": 38,
     "metadata": {},
     "output_type": "execute_result"
    }
   ],
   "source": [
    "np.mean(pred_test_linear==ytest)"
   ]
  },
  {
   "cell_type": "code",
   "execution_count": 39,
   "metadata": {},
   "outputs": [
    {
     "data": {
      "text/plain": [
       "array([0, 0, 0, ..., 0, 0, 0], dtype=int64)"
      ]
     },
     "execution_count": 39,
     "metadata": {},
     "output_type": "execute_result"
    }
   ],
   "source": [
    "#kernal='rbf'\n",
    "model_linear = SVC(kernel = \"rbf\")\n",
    "model_linear.fit(Xtrain,ytrain)\n",
    "pred_test_linear = model_linear.predict(Xtest)\n",
    "pred_test_linear"
   ]
  },
  {
   "cell_type": "code",
   "execution_count": 40,
   "metadata": {},
   "outputs": [
    {
     "data": {
      "text/plain": [
       "0.8276147853472567"
      ]
     },
     "execution_count": 40,
     "metadata": {},
     "output_type": "execute_result"
    }
   ],
   "source": [
    "np.mean(pred_test_linear==ytest)"
   ]
  },
  {
   "cell_type": "code",
   "execution_count": 41,
   "metadata": {},
   "outputs": [
    {
     "data": {
      "text/plain": [
       "array([0, 0, 1, ..., 0, 0, 1], dtype=int64)"
      ]
     },
     "execution_count": 41,
     "metadata": {},
     "output_type": "execute_result"
    }
   ],
   "source": [
    "#kernal='sigmoid'\n",
    "model_linear = SVC(kernel = \"sigmoid\")\n",
    "model_linear.fit(Xtrain,ytrain)\n",
    "pred_test_linear = model_linear.predict(Xtest)\n",
    "pred_test_linear"
   ]
  },
  {
   "cell_type": "code",
   "execution_count": 42,
   "metadata": {},
   "outputs": [
    {
     "data": {
      "text/plain": [
       "0.7339632023868722"
      ]
     },
     "execution_count": 42,
     "metadata": {},
     "output_type": "execute_result"
    }
   ],
   "source": [
    "np.mean(pred_test_linear==ytest)"
   ]
  },
  {
   "cell_type": "markdown",
   "metadata": {},
   "source": [
    "Accuracy Score of SVM model in kernal='rbf' gives highest value. So, it is significant. "
   ]
  },
  {
   "cell_type": "code",
   "execution_count": 43,
   "metadata": {},
   "outputs": [
    {
     "data": {
      "text/plain": [
       "array([[3706,  853],\n",
       "       [ 752,  722]], dtype=int64)"
      ]
     },
     "execution_count": 43,
     "metadata": {},
     "output_type": "execute_result"
    }
   ],
   "source": [
    "# Confusion matrix SVM model\n",
    "confusion_matrix(ytest,pred_test_linear) "
   ]
  },
  {
   "cell_type": "code",
   "execution_count": 44,
   "metadata": {},
   "outputs": [
    {
     "data": {
      "text/html": [
       "<div>\n",
       "<style scoped>\n",
       "    .dataframe tbody tr th:only-of-type {\n",
       "        vertical-align: middle;\n",
       "    }\n",
       "\n",
       "    .dataframe tbody tr th {\n",
       "        vertical-align: top;\n",
       "    }\n",
       "\n",
       "    .dataframe thead th {\n",
       "        text-align: right;\n",
       "    }\n",
       "</style>\n",
       "<table border=\"1\" class=\"dataframe\">\n",
       "  <thead>\n",
       "    <tr style=\"text-align: right;\">\n",
       "      <th>col_0</th>\n",
       "      <th>0</th>\n",
       "      <th>1</th>\n",
       "    </tr>\n",
       "    <tr>\n",
       "      <th>row_0</th>\n",
       "      <th></th>\n",
       "      <th></th>\n",
       "    </tr>\n",
       "  </thead>\n",
       "  <tbody>\n",
       "    <tr>\n",
       "      <th>0</th>\n",
       "      <td>3706</td>\n",
       "      <td>853</td>\n",
       "    </tr>\n",
       "    <tr>\n",
       "      <th>1</th>\n",
       "      <td>752</td>\n",
       "      <td>722</td>\n",
       "    </tr>\n",
       "  </tbody>\n",
       "</table>\n",
       "</div>"
      ],
      "text/plain": [
       "col_0     0    1\n",
       "row_0           \n",
       "0      3706  853\n",
       "1       752  722"
      ]
     },
     "execution_count": 44,
     "metadata": {},
     "output_type": "execute_result"
    }
   ],
   "source": [
    "pd.crosstab(ytest.values.flatten(),pred_test_linear) # confusion matrix using "
   ]
  }
 ],
 "metadata": {
  "kernelspec": {
   "display_name": "Python 3",
   "language": "python",
   "name": "python3"
  },
  "language_info": {
   "codemirror_mode": {
    "name": "ipython",
    "version": 3
   },
   "file_extension": ".py",
   "mimetype": "text/x-python",
   "name": "python",
   "nbconvert_exporter": "python",
   "pygments_lexer": "ipython3",
   "version": "3.7.1"
  }
 },
 "nbformat": 4,
 "nbformat_minor": 2
}
