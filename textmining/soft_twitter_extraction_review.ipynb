{
 "cells": [
  {
   "cell_type": "code",
   "execution_count": 1,
   "metadata": {},
   "outputs": [
    {
     "name": "stdout",
     "output_type": "stream",
     "text": [
      "...400 tweets downloaded so far\n",
      "...600 tweets downloaded so far\n",
      "...800 tweets downloaded so far\n",
      "...1000 tweets downloaded so far\n",
      "...1200 tweets downloaded so far\n",
      "...1400 tweets downloaded so far\n",
      "...1600 tweets downloaded so far\n",
      "...1800 tweets downloaded so far\n",
      "...2000 tweets downloaded so far\n",
      "...2200 tweets downloaded so far\n",
      "...2400 tweets downloaded so far\n",
      "...2600 tweets downloaded so far\n",
      "...2798 tweets downloaded so far\n",
      "...2996 tweets downloaded so far\n",
      "...3195 tweets downloaded so far\n",
      "...3203 tweets downloaded so far\n",
      "...3203 tweets downloaded so far\n"
     ]
    }
   ],
   "source": [
    "import pandas as pd\n",
    "import tweepy \n",
    "\n",
    "Consumer_key='V1PFKfwqlJp0BRdejKYU71NXG' #API key of my account\n",
    "Consumer_secret='VFmRVytOb0tqK2RHBI39EroDajTFQIRyTT1fXPJkusc4gjO9Rr'#API secret key of my account\n",
    "Access_key='635226259-VAXHBYe1O1J9F1RHigosxAC8j2GeIgYeXUArwDgm'#Access token of my account\n",
    "Access_secret='e9KVr8YZzHMVFsS34iUHNz1DHNyibZcH47mz4cBqpxBOJ' #Access token secret of my account\n",
    "\n",
    "alltweets = []\n",
    "\n",
    "def get_all_tweets(screen_name):\n",
    "    auth = tweepy.OAuthHandler(Consumer_key,Consumer_secret)\n",
    "    auth.set_access_token(Access_key,Access_secret)\n",
    "    api = tweepy.API(auth)\n",
    "    new_tweets = api.user_timeline(screen_name = screen_name,count=200)\n",
    "    alltweets.extend(new_tweets)\n",
    "    \n",
    "    oldest = alltweets[-1].id - 1\n",
    "    while len(new_tweets)>0:\n",
    "        new_tweets = api.user_timeline(screen_name = screen_name,count=200,max_id=oldest) #save most recent tweets\n",
    "        alltweets.extend(new_tweets) #update the id of the oldest tweet less one\n",
    "        oldest = alltweets[-1].id - 1\n",
    "        print (\"...%s tweets downloaded so far\" % (len(alltweets)))\n",
    "        \n",
    "    outtweets = [[tweet.created_at,tweet.entities[\"hashtags\"],tweet.entities[\"user_mentions\"],tweet.favorite_count,\n",
    "                  tweet.geo,tweet.id_str,tweet.lang,tweet.place,tweet.retweet_count,tweet.retweeted,tweet.source,tweet.text,\n",
    "                  tweet._json[\"user\"][\"location\"],tweet._json[\"user\"][\"name\"],tweet._json[\"user\"][\"time_zone\"],\n",
    "                  tweet._json[\"user\"][\"utc_offset\"]] for tweet in alltweets]\n",
    "    \n",
    "    \n",
    "    tweets_df = pd.DataFrame(columns = [\"time\",\"hashtags\",\"user_mentions\",\"favorite_count\",\n",
    "                                    \"geo\",\"id_str\",\"lang\",\"place\",\"retweet_count\",\"retweeted\",\"source\",\n",
    "                                    \"text\",\"location\",\"name\",\"time_zone\",\"utc_offset\"])\n",
    "    tweets_df[\"time\"]  = pd.Series([str(i[0]) for i in outtweets])\n",
    "    tweets_df[\"hashtags\"] = pd.Series([str(i[1]) for i in outtweets])\n",
    "    tweets_df[\"user_mentions\"] = pd.Series([str(i[2]) for i in outtweets])\n",
    "    tweets_df[\"favorite_count\"] = pd.Series([str(i[3]) for i in outtweets])\n",
    "    tweets_df[\"geo\"] = pd.Series([str(i[4]) for i in outtweets])\n",
    "    tweets_df[\"id_str\"] = pd.Series([str(i[5]) for i in outtweets])\n",
    "    tweets_df[\"lang\"] = pd.Series([str(i[6]) for i in outtweets])\n",
    "    tweets_df[\"place\"] = pd.Series([str(i[7]) for i in outtweets])\n",
    "    tweets_df[\"retweet_count\"] = pd.Series([str(i[8]) for i in outtweets])\n",
    "    tweets_df[\"retweeted\"] = pd.Series([str(i[9]) for i in outtweets])\n",
    "    tweets_df[\"source\"] = pd.Series([str(i[10]) for i in outtweets])\n",
    "    tweets_df[\"text\"] = pd.Series([str(i[11]) for i in outtweets])\n",
    "    tweets_df[\"location\"] = pd.Series([str(i[12]) for i in outtweets])\n",
    "    tweets_df[\"name\"] = pd.Series([str(i[13]) for i in outtweets])\n",
    "    tweets_df[\"time_zone\"] = pd.Series([str(i[14]) for i in outtweets])\n",
    "    tweets_df[\"utc_offset\"] = pd.Series([str(i[15]) for i in outtweets])\n",
    "    tweets_df.to_csv(screen_name+\"_tweets.csv\")\n",
    "    return tweets_df\n",
    "\n",
    "tweet = get_all_tweets(\"realDonaldTrump\")"
   ]
  }
 ],
 "metadata": {
  "kernelspec": {
   "display_name": "Python 3",
   "language": "python",
   "name": "python3"
  },
  "language_info": {
   "codemirror_mode": {
    "name": "ipython",
    "version": 3
   },
   "file_extension": ".py",
   "mimetype": "text/x-python",
   "name": "python",
   "nbconvert_exporter": "python",
   "pygments_lexer": "ipython3",
   "version": "3.7.1"
  }
 },
 "nbformat": 4,
 "nbformat_minor": 2
}
